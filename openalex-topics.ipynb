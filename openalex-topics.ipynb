{
 "cells": [
  {
   "cell_type": "markdown",
   "id": "42f713a8-fbe9-4ec3-a672-b7b88c5fc3fb",
   "metadata": {},
   "source": [
    "* A formula of search is applied to OpenAlex to extract an equivalent database\n",
    "* We load the inspire papers and extract the dois from the `recid`s\n",
    "* We extract of the dois from the results in OpenAlex and compare with the dois from inspire:\n",
    "  * `DD`: inspire dois\n",
    "  * `FF`: OpenAlex dois\n",
    "  * `FF-DD`: dois only in OpenAlex: see [Status analysis](#Status-analysis): `status` values are:\n",
    "     * valid arXiv dois without extra dois: with `status['status'] = 'ok'` and `published = False`\n",
    "     * new valid dois with `status['status'] = 'ok'` with `status['affiliations_in_inspire'] = False`,  `status['date_range'] = 'outside'`, `status['mathching_inspire_authors']`. The first fixes missing affiliations, the second may be outside the date range, the third are not in inspire but have inspire authors\n",
    "     * duplicated entries in OpenAlex with `status in ['duplicated', 'duplicated_dois']`\n",
    "     * erros in OpenAlex with `status in [wrong_countries, wrong_doi]`. The first are bad affilitions, the second is not the real doi \n",
    "     * extra works that maybe are outside the scope of inspire with `status = 'not_inspire_scope'`\n",
    "     * `status = 'erratum_or_arxiv_doi'` ?\n",
    "    * `DD-FF`: dois inly in inspire:\n",
    "     * Not found in the OpenAlex search formula because:\n",
    "       * Missing or wrong affilitions in OpenAlex\n",
    "       * Greater publication year that inspire cut of July 2022. In inspire the `publication_year` count as arXiv preprint year\n",
    "       * topic assignation"
   ]
  },
  {
   "cell_type": "markdown",
   "id": "874271d4-6156-4bf8-acff-3791dfde9ad7",
   "metadata": {},
   "source": [
    "## Results\n",
    "### TOTAL:\n",
    "* 11856 dois not in the INSPIREHEP-LA database →:\n",
    "### In the scope of inspire\n",
    "  * 8205 with `'status' == ok` but the proper doi was not captured because → :\n",
    "      * 4487 in INSPIREHEP → :\n",
    "          * 3553 works with missing affiliations in inspire but with LA aff in OA (inspire error)\n",
    "          * 931 works with affiliations in inspire →:\n",
    "              * 481 arxiv works which have not doi in inspire-hep (not published or published in journal without doi)\n",
    "              * 450 published with inspire affiliations →:\n",
    "                  * 377 of `year >= 2022` (not covered in the initial selection)\n",
    "                  * 42 erratum dois (counts separatly in OpenAlex)\n",
    "                  * 34 unknown \n",
    "          * 3 with mising authors in inspire: `None` affiliations in inspire\n",
    "      * 3718 not in INSPIREHEP but with INSPIREHEP-LA authors accordinf to OpenAlex (in the scope of inspire)\n",
    "  * 817 with wrong country assignation in OpenAlex\n",
    "  * 513  arxiv works which are duplicated in OpenAlex to other works with doi in the INSPIREHEP-LA database\n",
    "  * 200 doi works which are duplicated in OpenAlex to other works with doi in the INSPIREHEP-LA database\n",
    "### Not in the scope of inspire\n",
    "  * 2121 not in INSPIRE scope\n",
    "\n",
    "\n",
    "affiliations_in_inspire\n",
    "False    3553\n",
    "True      931\n",
    "None        3"
   ]
  },
  {
   "cell_type": "code",
   "execution_count": 1,
   "id": "0b447b2c-d700-4c62-af72-ea58f14fe0e3",
   "metadata": {},
   "outputs": [],
   "source": [
    "import pandas as pd"
   ]
  },
  {
   "cell_type": "code",
   "execution_count": 2,
   "id": "bcd8a795-1372-434d-a66e-3aed6f3f54d2",
   "metadata": {},
   "outputs": [],
   "source": [
    "results = pd.DataFrame([{'Type': 'Intersection INSPIRE-HEP-LA OpenAlex', 'Works count': 27138},\n",
    "              {'Type': 'Missing affiliation in INSPIRE-HEP-LA', 'Works count':3553 },\n",
    "              {'Type': 'Not in INSPIRE-HEP but with INSPIRE-HEP-LA authors', 'Works count': 3718 },\n",
    "              {'Type': 'In not-LA INSPIRE-HEP but with wrong LA-affiliation in OpenAlex', 'Works count': 817},\n",
    "              {'Type': \"arXiv DOIs in OpenAlex which are duplicated to DOIs in 1.\", 'Works count': 513 },\n",
    "              {'Type': 'arXiv DOIs in OpenAlex unpublished in INSPIRE-HEP-LA', 'Works count': 481 },\n",
    "              {'Type': 'Outside published range of INSPIRE-HEP-LA', 'Works count': 377 },\n",
    "              {'Type': \"Duplicated DOIs in OpenAlex corresponding to a work with two DOIs in INSPIRE-HEP-LA\", 'Works count': 200 },\n",
    "              {'Type': 'Independent erratum DOI in OpenAlex and two DOIS in INSPIRE-HEP-LA', 'Works count':42 },\n",
    "              {'Type': 'Others', 'Works count': 35},\n",
    "              {'Type': 'Not in the scope of INSPIRE-HEP-LA', 'Works count': 2121 }\n",
    "             ])"
   ]
  },
  {
   "cell_type": "code",
   "execution_count": 3,
   "id": "4335289d-4ce9-4ccd-a0d2-90639e81b46d",
   "metadata": {},
   "outputs": [
    {
     "data": {
      "text/plain": [
       "38995"
      ]
     },
     "execution_count": 3,
     "metadata": {},
     "output_type": "execute_result"
    }
   ],
   "source": [
    "results['Works count'].sum()"
   ]
  },
  {
   "cell_type": "code",
   "execution_count": 4,
   "id": "3e631c06-4385-4180-b57f-3e49ef877b42",
   "metadata": {},
   "outputs": [],
   "source": [
    "TOTAL = results['Works count'].sum()\n",
    "results['\\%'] = results['Works count'].apply(lambda x: round(x/TOTAL*100,1))\n",
    "results['index'] = [f\"{x+1})\" for x in results.index]\n",
    "with open('results.tex','w') as f:\n",
    "    f.write(results[['index', 'Type', 'Works count', '\\%']].to_latex(index=False))"
   ]
  },
  {
   "cell_type": "code",
   "execution_count": 5,
   "id": "5255abf5-fd41-4635-a2ff-e40353587092",
   "metadata": {},
   "outputs": [
    {
     "data": {
      "text/plain": [
       "99.89999999999998"
      ]
     },
     "execution_count": 5,
     "metadata": {},
     "output_type": "execute_result"
    }
   ],
   "source": [
    "results['\\%'].sum()"
   ]
  },
  {
   "cell_type": "markdown",
   "id": "bc888a63-ad2e-4da5-a7c0-9099260e53cc",
   "metadata": {},
   "source": [
    "## Generate datasets"
   ]
  },
  {
   "cell_type": "code",
   "execution_count": 6,
   "id": "78b85481-f4f9-4463-8a63-27ffcec29fea",
   "metadata": {},
   "outputs": [],
   "source": [
    "latin_america_countries = {\n",
    "    \"Argentina\": \"AR\",\n",
    "    \"Bolivia\": \"BO\",\n",
    "    \"Brazil\": \"BR\",\n",
    "    \"Chile\": \"CL\",\n",
    "    \"Colombia\": \"CO\",\n",
    "    \"Costa Rica\": \"CR\",\n",
    "    \"Cuba\": \"CU\",\n",
    "    \"Dominican Republic\": \"DO\",\n",
    "    \"Ecuador\": \"EC\",\n",
    "    \"El Salvador\": \"SV\",\n",
    "    \"Guatemala\": \"GT\",\n",
    "    \"Haiti\": \"HT\",\n",
    "    \"Honduras\": \"HN\",\n",
    "    \"Mexico\": \"MX\",\n",
    "    \"Nicaragua\": \"NI\",\n",
    "    \"Panama\": \"PA\",\n",
    "    \"Paraguay\": \"PY\",\n",
    "    \"Peru\": \"PE\",\n",
    "    \"Uruguay\": \"UY\",\n",
    "    \"Venezuela\": \"VE\"\n",
    "}\n",
    "#    \"Puerto Rico\": \"PR\","
   ]
  },
  {
   "cell_type": "code",
   "execution_count": 7,
   "id": "5b14d9f8-45c1-4056-886f-22b7d8d0d696",
   "metadata": {},
   "outputs": [],
   "source": [
    "import requests\n",
    "import json\n",
    "import time\n",
    "import gzip"
   ]
  },
  {
   "cell_type": "code",
   "execution_count": 8,
   "id": "1472c2d3-84c9-4b32-b71f-899030a10637",
   "metadata": {},
   "outputs": [],
   "source": [
    "LA = []\n",
    "next_cursor = \"*\"\n",
    "p = 200\n",
    "TOPICS = 't10048|t10224|t10527|t10921|t11090|t10025|t10095|\\\n",
    "t11415|t11044|t11367|t10463'\n",
    "\n",
    "COUNTRIES = 'countries/ar|countries/bo|countries/br|countries/cl|\\\n",
    "countries/co|countries/cr|countries/cu|countries/do|countries/ec|\\\n",
    "countries/sv|countries/gt|countries/hn|countries/mx|countries/pa|\\\n",
    "countries/py|countries/pe|countries/uy|countries/ve'\n"
   ]
  },
  {
   "cell_type": "code",
   "execution_count": 9,
   "id": "80a64dc8-18bf-454b-adfc-5cf6e2c7e865",
   "metadata": {},
   "outputs": [],
   "source": [
    "url_topics = f\"https://api.openalex.org/works?page=1&filter=topics.id:{TOPICS},\\\n",
    "authors_count:1-10,authorships.countries:{COUNTRIES},publication_year:1900-2022&\\\n",
    "sort=cited_by_count:desc&per_page={p}&cursor={next_cursor}\"    \n"
   ]
  },
  {
   "cell_type": "code",
   "execution_count": 10,
   "id": "85f7b1e8-77f2-44f3-b13e-e8ac96c512be",
   "metadata": {},
   "outputs": [],
   "source": [
    "loop = False\n",
    "while loop:\n",
    "    url_topics = f\"https://api.openalex.org/works?page=1&filter=topics.id:{TOPICS},\\\n",
    "authors_count:1-10,authorships.countries:{COUNTRIES},publication_year:1900-2022&\\\n",
    "sort=cited_by_count:desc&per_page={p}&cursor={next_cursor}\"    \n",
    "    #url_topics = f\"https://api.openalex.org/works?page=1&filter=authorships.author.id:a5049648126&sort=cited_by_count:desc&per_page=200&cursor={next_cursor}\"\n",
    "    \n",
    "    j = requests.get(url_topics)\n",
    "    time.sleep(0.1)\n",
    "\n",
    "    \n",
    "    la = j.json()\n",
    "    \n",
    "    la_meta = la.get('meta')\n",
    "    next_cursor = la_meta.get('next_cursor')\n",
    "    \n",
    "    if not next_cursor:\n",
    "        #break\n",
    "        print('stop')\n",
    "        break\n",
    "    \n",
    "    LA = LA + la.get('results')\n",
    "    print(len(LA),end='\\r')"
   ]
  },
  {
   "cell_type": "code",
   "execution_count": 11,
   "id": "6b22c2a7-822c-4980-bb82-c0cb82560569",
   "metadata": {},
   "outputs": [],
   "source": [
    "if loop:\n",
    "    with gzip.open(\"data/openalex_topics.json.gz\", 'w') as fout:\n",
    "        fout.write(json.dumps(LA).encode('utf-8'))     "
   ]
  },
  {
   "cell_type": "code",
   "execution_count": 12,
   "id": "084c11e6-d8bd-4182-a409-1c06398ad3bf",
   "metadata": {},
   "outputs": [],
   "source": [
    "with gzip.open(\"openalex_topics.json.gz\", 'r') as fin:\n",
    "    LA = json.loads(fin.read().decode('utf-8'))"
   ]
  },
  {
   "cell_type": "code",
   "execution_count": 13,
   "id": "5b8fcda9-4f6a-4879-95a6-4e128c19c901",
   "metadata": {},
   "outputs": [],
   "source": [
    "# too large: 1.2GB, try to use the recids file below\n",
    "if loop:\n",
    "    f = 'data/papers.json'\n",
    "    with open(f, 'r') as file:\n",
    "        data = json.load(file)"
   ]
  },
  {
   "cell_type": "code",
   "execution_count": 14,
   "id": "b278d4b2-0c8f-4581-8895-730c28d5f127",
   "metadata": {},
   "outputs": [],
   "source": [
    "import pandas as pd"
   ]
  },
  {
   "cell_type": "code",
   "execution_count": 15,
   "id": "2fc6aa8b-a35d-4126-8332-4da84b777e60",
   "metadata": {},
   "outputs": [],
   "source": [
    "if loop:\n",
    "    inspa = pd.DataFrame(data)\n",
    "    \n",
    "    del data\n",
    "    \n",
    "    recids =inspa['recid'].unique()\n",
    "    len(recids)\n",
    "    \n",
    "    recids = [int(x) for x in recids]\n",
    "\n",
    "    del inspa\n",
    "\n",
    "    with open('data/recids.json','w') as f:\n",
    "        json.dump(recids,f)"
   ]
  },
  {
   "cell_type": "code",
   "execution_count": 16,
   "id": "e645bac9-bf36-41ad-9217-3530a4683907",
   "metadata": {},
   "outputs": [],
   "source": [
    "with open('data/recids.json','r') as f:\n",
    "    recids = json.load(f)"
   ]
  },
  {
   "cell_type": "code",
   "execution_count": 17,
   "id": "0b41cfba-267f-43ed-8b66-4af8df325478",
   "metadata": {},
   "outputs": [
    {
     "data": {
      "text/plain": [
       "49181"
      ]
     },
     "execution_count": 17,
     "metadata": {},
     "output_type": "execute_result"
    }
   ],
   "source": [
    "len(recids)"
   ]
  },
  {
   "cell_type": "code",
   "execution_count": 18,
   "id": "5b5ec2f0-9d15-4143-ba40-165460c28d16",
   "metadata": {},
   "outputs": [
    {
     "data": {
      "text/plain": [
       "True"
      ]
     },
     "execution_count": 18,
     "metadata": {},
     "output_type": "execute_result"
    }
   ],
   "source": [
    "393487 in recids"
   ]
  },
  {
   "cell_type": "code",
   "execution_count": 19,
   "id": "c46713dc-4bdb-41e4-8859-24de63293af9",
   "metadata": {},
   "outputs": [],
   "source": [
    "#list(recids).index(393487)"
   ]
  },
  {
   "cell_type": "code",
   "execution_count": 20,
   "id": "aa4c9377-da97-459a-bfd1-d23f2f2758ab",
   "metadata": {},
   "outputs": [],
   "source": [
    "#recids = recids[32287:32288]"
   ]
  },
  {
   "cell_type": "code",
   "execution_count": 21,
   "id": "cef16d5d-3e18-4431-99e5-be2b915ac9fa",
   "metadata": {},
   "outputs": [],
   "source": [
    "loop = False\n",
    "if loop:\n",
    "    dois = []\n",
    "    for x in list(range(0,len(L)+1,80))[1:]:\n",
    "        time.sleep(0.1)\n",
    "        print(f\"{x-80}:{x}\",end='\\r')\n",
    "    \n",
    "        q='%20or%20'.join([ f\"recid:{x}\" for x in recids[x-80:x]])\n",
    "        \n",
    "        url = f\"https://inspirehep.net/api/literature?size=100&page=1&q={q}&fields=dois\"\n",
    "        time.sleep(0.1)\n",
    "        \n",
    "        jj = requests.get(url)\n",
    "        \n",
    "        try:\n",
    "            LL = jj.json().get('hits').get('hits')\n",
    "        except:\n",
    "            LL = []\n",
    "        \n",
    "        if not LL:\n",
    "            continue\n",
    "            \n",
    "        tmp = pd.DataFrame(LL)\n",
    "        tmp['control_number'] = tmp['metadata'].str['control_number']\n",
    "        tmp['doi'] = tmp['metadata'].str['dois'].str[0].str['value']\n",
    "        dois = dois + tmp[['control_number','doi']].dropna().to_dict(orient='records')\n",
    "        #break"
   ]
  },
  {
   "cell_type": "code",
   "execution_count": 22,
   "id": "cb1b43ed-aab4-46fb-8270-db4d5037d26d",
   "metadata": {},
   "outputs": [],
   "source": [
    "if loop:\n",
    "    with open(\"data/inspire_dois.json\", \"w\") as json_file:\n",
    "        json.dump(dois, json_file)"
   ]
  },
  {
   "cell_type": "code",
   "execution_count": 23,
   "id": "37fb84b9-1052-48ae-b694-07af53eedf75",
   "metadata": {},
   "outputs": [],
   "source": [
    "with open(\"data/inspire_dois.json\", \"r\") as json_file:\n",
    "    dois = json.load(json_file)"
   ]
  },
  {
   "cell_type": "code",
   "execution_count": 24,
   "id": "b042c6e2-40cf-48a7-9b12-bbbb1bc6c1ff",
   "metadata": {},
   "outputs": [],
   "source": [
    "di = pd.DataFrame(dois)"
   ]
  },
  {
   "cell_type": "code",
   "execution_count": 25,
   "id": "1a7414c6-cd0d-4664-87ed-7772688e5000",
   "metadata": {},
   "outputs": [],
   "source": [
    "di['doi'] = di['doi'].str.lower()"
   ]
  },
  {
   "cell_type": "code",
   "execution_count": 26,
   "id": "d48e65dc-0220-426f-911e-cb8ed9029091",
   "metadata": {},
   "outputs": [
    {
     "data": {
      "text/plain": [
       "(38713, (38713,))"
      ]
     },
     "execution_count": 26,
     "metadata": {},
     "output_type": "execute_result"
    }
   ],
   "source": [
    "di['doi'].shape[0], di['doi'].unique().shape"
   ]
  },
  {
   "cell_type": "code",
   "execution_count": 27,
   "id": "ec18c019-b46e-4eef-8d78-43f2f50fdbe4",
   "metadata": {},
   "outputs": [],
   "source": [
    "df = pd.DataFrame(LA)"
   ]
  },
  {
   "cell_type": "code",
   "execution_count": 28,
   "id": "f28adb9d-737d-4bf2-9601-e147d6574750",
   "metadata": {},
   "outputs": [],
   "source": [
    "del LA"
   ]
  },
  {
   "cell_type": "code",
   "execution_count": 29,
   "id": "bea5aac2-dded-47f9-ad9d-2b7829c1e811",
   "metadata": {},
   "outputs": [
    {
     "data": {
      "text/plain": [
       "(41731, 50)"
      ]
     },
     "execution_count": 29,
     "metadata": {},
     "output_type": "execute_result"
    }
   ],
   "source": [
    "df.shape"
   ]
  },
  {
   "cell_type": "code",
   "execution_count": 30,
   "id": "ba337dfc-60d3-42fd-b3e1-7af7fad32e7c",
   "metadata": {},
   "outputs": [
    {
     "data": {
      "text/plain": [
       "274"
      ]
     },
     "execution_count": 30,
     "metadata": {},
     "output_type": "execute_result"
    }
   ],
   "source": [
    "len(df['primary_topic'].str['display_name'].unique())"
   ]
  },
  {
   "cell_type": "code",
   "execution_count": 31,
   "id": "fcbfc1cc-ef81-4669-b136-24fa54815f01",
   "metadata": {},
   "outputs": [],
   "source": [
    "topics = url_topics.split('topics.id:')[-1].split(',')[0].split('|')\n",
    "topics = [t.lower() for t in topics]"
   ]
  },
  {
   "cell_type": "code",
   "execution_count": 32,
   "id": "60d7491a-250d-4041-a85b-daf39f465dd1",
   "metadata": {},
   "outputs": [
    {
     "data": {
      "text/plain": [
       "array(['Cosmology and Gravitation Theories (t10095)',\n",
       "       'Black Holes and Theoretical Physics (t10025)',\n",
       "       'Noncommutative and Quantum Gravity Theories (t11415)',\n",
       "       'Particle physics theoretical and experimental studies (t10048)',\n",
       "       'High-Energy Particle Collisions Research (t10527)',\n",
       "       'Dark Matter and Cosmic Phenomena (t11090)',\n",
       "       'Pulsars and Gravitational Waves Research (t10463)',\n",
       "       'Neutrino Physics Research (t10921)',\n",
       "       'Quantum Chromodynamics and Particle Interactions (t10224)',\n",
       "       'Particle accelerators and beam dynamics (t11367)',\n",
       "       'Particle Detector Development and Performance (t11044)'],\n",
       "      dtype=object)"
      ]
     },
     "execution_count": 32,
     "metadata": {},
     "output_type": "execute_result"
    }
   ],
   "source": [
    "df['topics'].apply(lambda L: [f\"{d.get('display_name')} ({d.get('id').split('/')[-1].lower()})\"  for d in L if d.get('id').split('/')[-1].lower() in topics] ).str[0].unique()"
   ]
  },
  {
   "cell_type": "code",
   "execution_count": 33,
   "id": "21cd6c33-a10c-468d-bf87-986a313438f1",
   "metadata": {},
   "outputs": [],
   "source": [
    "def topics_score(L,topics,score = 0):\n",
    "    LL = []\n",
    "    for d in L:\n",
    "        if d['id'].split('/')[-1].lower() in topics and d['score'] >= score:\n",
    "            LL.append(d)\n",
    "    return LL"
   ]
  },
  {
   "cell_type": "code",
   "execution_count": 34,
   "id": "ba2dcd06-9cfe-4870-89fe-b48cf4f97eeb",
   "metadata": {},
   "outputs": [
    {
     "data": {
      "text/plain": [
       "(41349, 50)"
      ]
     },
     "execution_count": 34,
     "metadata": {},
     "output_type": "execute_result"
    }
   ],
   "source": [
    "score = 0.9\n",
    "df = df[df['topics'].apply(lambda L: topics_score(L,topics,score=score)).apply(len)> 0].reset_index(drop=True)\n",
    "df.shape"
   ]
  },
  {
   "cell_type": "code",
   "execution_count": 35,
   "id": "c8ed1272-ab22-4740-9ff1-430a74d0c54a",
   "metadata": {},
   "outputs": [
    {
     "data": {
      "text/plain": [
       "((41349,), (38997,), (38995,))"
      ]
     },
     "execution_count": 35,
     "metadata": {},
     "output_type": "execute_result"
    }
   ],
   "source": [
    "df['doi'] = df['doi'].str.lower().str.split('https://doi.org/').str[-1]\n",
    "df['doi'].shape,df['doi'].dropna().shape,df['doi'].dropna().unique().shape"
   ]
  },
  {
   "cell_type": "code",
   "execution_count": 36,
   "id": "85a0b3cf-441a-4f49-a4f9-5bdda8950a40",
   "metadata": {},
   "outputs": [],
   "source": [
    "df['countries'] = df['authorships'].apply(lambda L: [d.get('countries') for d in L]\n",
    "                       ).apply(lambda L: \n",
    "        list(set([item for sublist in L for item in sublist])))\n"
   ]
  },
  {
   "cell_type": "code",
   "execution_count": 37,
   "id": "a5031e90-73f3-4707-89a6-ab3bcf0a5b40",
   "metadata": {},
   "outputs": [],
   "source": [
    "CC = []\n",
    "for country in latin_america_countries:\n",
    "    country_code = latin_america_countries[country]\n",
    "    d = { 'country': country,\n",
    "        'country_code': country_code, \n",
    "        'cited_by_count':int(df[df['countries'].apply(\n",
    "            lambda L: country_code in L)]['cited_by_count'].sum())}\n",
    "    CC.append(d)"
   ]
  },
  {
   "cell_type": "code",
   "execution_count": 38,
   "id": "f0890a62-959b-4a17-b98b-b918d73ce21a",
   "metadata": {},
   "outputs": [],
   "source": [
    "%matplotlib inline"
   ]
  },
  {
   "cell_type": "code",
   "execution_count": 39,
   "id": "66cb1628-41ff-444a-bb7a-589f91fba43a",
   "metadata": {},
   "outputs": [],
   "source": [
    "import matplotlib.pyplot as plt"
   ]
  },
  {
   "cell_type": "code",
   "execution_count": 40,
   "id": "b5983809-4745-461c-9ef4-a395dd56b693",
   "metadata": {},
   "outputs": [],
   "source": [
    "with open('all_citations_total_oa.json','w') as f:\n",
    "    json.dump(CC,f)"
   ]
  },
  {
   "cell_type": "code",
   "execution_count": 41,
   "id": "f1ce2d26-9b2a-4d5f-a6f8-372c39a20f58",
   "metadata": {},
   "outputs": [
    {
     "data": {
      "image/png": "[encoded data removed]",
      "text/plain": [
       "<Figure size 640x480 with 1 Axes>"
      ]
     },
     "metadata": {},
     "output_type": "display_data"
    }
   ],
   "source": [
    "plt.bar([d.get('country_code') for d in CC if d.get('cited_by_count') > 0],\n",
    "          [d.get('cited_by_count') for d in CC if d.get('cited_by_count') > 0])\n",
    "plt.semilogy()\n",
    "plt.grid()\n",
    "plt.savefig('citation_count_by_OA.pdf')"
   ]
  },
  {
   "cell_type": "code",
   "execution_count": 42,
   "id": "8374ff02-78ca-4c5b-b9dc-575f401b248c",
   "metadata": {},
   "outputs": [],
   "source": [
    "DD = di['doi'].dropna().to_list() # dois in inspire (missing dois if duplicates)\n",
    "FF = df['doi'].dropna().to_list() # dois in OpenAlex"
   ]
  },
  {
   "cell_type": "code",
   "execution_count": 43,
   "id": "3331994e-9f4a-4d75-a018-01ee919ed8e1",
   "metadata": {},
   "outputs": [
    {
     "data": {
      "text/plain": [
       "False"
      ]
     },
     "execution_count": 43,
     "metadata": {},
     "output_type": "execute_result"
    }
   ],
   "source": [
    "'10.1016/j.nuclphysb.2018.12.017' in DD"
   ]
  },
  {
   "cell_type": "code",
   "execution_count": 44,
   "id": "6f2658ef-1f3f-4363-9b8f-8b0845f924db",
   "metadata": {},
   "outputs": [
    {
     "data": {
      "text/plain": [
       "38713"
      ]
     },
     "execution_count": 44,
     "metadata": {},
     "output_type": "execute_result"
    }
   ],
   "source": [
    "len(DD)"
   ]
  },
  {
   "cell_type": "code",
   "execution_count": 45,
   "id": "e7196661-2948-4694-bce6-a5b5a0f75d7a",
   "metadata": {},
   "outputs": [
    {
     "data": {
      "text/plain": [
       "38997"
      ]
     },
     "execution_count": 45,
     "metadata": {},
     "output_type": "execute_result"
    }
   ],
   "source": [
    "len(FF)"
   ]
  },
  {
   "cell_type": "code",
   "execution_count": 46,
   "id": "f77bb8e6-badb-4b30-9cbf-52af5ece8315",
   "metadata": {},
   "outputs": [
    {
     "data": {
      "text/plain": [
       "27138"
      ]
     },
     "execution_count": 46,
     "metadata": {},
     "output_type": "execute_result"
    }
   ],
   "source": [
    "intersection = list(set(DD).intersection( FF ))\n",
    "len(intersection) # In both inspire and OpenAlex"
   ]
  },
  {
   "cell_type": "code",
   "execution_count": 47,
   "id": "31827549-03a1-4375-9d0b-3f8a90725236",
   "metadata": {},
   "outputs": [
    {
     "data": {
      "text/plain": [
       "15527"
      ]
     },
     "execution_count": 47,
     "metadata": {},
     "output_type": "execute_result"
    }
   ],
   "source": [
    "dfa = df[df['doi'].apply(lambda d: d in intersection)].reset_index(drop=True)\n",
    "authors = dfa['authorships'].apply(lambda L: [d.get('author').get('id').split('/')[-1] for d in L] )\n",
    "authors = list(set([item for sublist in authors for item in sublist]))\n",
    "len(authors) #authors both in inspire and OpenAlex"
   ]
  },
  {
   "cell_type": "code",
   "execution_count": 48,
   "id": "400e2531-ebea-419b-aff9-5aefdf4cbf9d",
   "metadata": {},
   "outputs": [],
   "source": [
    "DDD = list(set(DD).difference( FF  ))\n",
    "FFF = list(set(FF).difference(DD))"
   ]
  },
  {
   "cell_type": "code",
   "execution_count": 49,
   "id": "a5617d1d-0247-4498-b8ea-4a897be5260a",
   "metadata": {},
   "outputs": [
    {
     "data": {
      "text/plain": [
       "11575"
      ]
     },
     "execution_count": 49,
     "metadata": {},
     "output_type": "execute_result"
    }
   ],
   "source": [
    "len(DDD) # only inspire"
   ]
  },
  {
   "cell_type": "code",
   "execution_count": 50,
   "id": "95bc5865-7aaa-4552-9958-6e406f07ecf9",
   "metadata": {},
   "outputs": [],
   "source": [
    "with open('DDD.json','w') as f:\n",
    "    json.dump(DDD,f)"
   ]
  },
  {
   "cell_type": "code",
   "execution_count": 51,
   "id": "77426226-7462-4f84-89c5-c18e6b2865e5",
   "metadata": {},
   "outputs": [
    {
     "data": {
      "text/plain": [
       "11857"
      ]
     },
     "execution_count": 51,
     "metadata": {},
     "output_type": "execute_result"
    }
   ],
   "source": [
    "len(FFF) # only OpenAlex"
   ]
  },
  {
   "cell_type": "code",
   "execution_count": 52,
   "id": "c53f54e4-b252-4125-ba46-192044c691a5",
   "metadata": {},
   "outputs": [
    {
     "data": {
      "text/plain": [
       "(1277, 51)"
      ]
     },
     "execution_count": 52,
     "metadata": {},
     "output_type": "execute_result"
    }
   ],
   "source": [
    "df[df['doi'].astype(str).str.contains('arxiv')].shape # OpenAlex works in arXiv only "
   ]
  },
  {
   "cell_type": "code",
   "execution_count": 53,
   "id": "6df3349b-ef28-4c8e-aacf-a6deaa677b58",
   "metadata": {},
   "outputs": [],
   "source": [
    "trueFF = df[df['primary_location'].str['source'].str['issn_l'].apply(lambda s: s is not None)]['doi'].dropna().to_list()"
   ]
  },
  {
   "cell_type": "code",
   "execution_count": 54,
   "id": "ef733444-27b2-4b57-8a22-4ba588726c58",
   "metadata": {},
   "outputs": [
    {
     "data": {
      "text/plain": [
       "(35136, 38997)"
      ]
     },
     "execution_count": 54,
     "metadata": {},
     "output_type": "execute_result"
    }
   ],
   "source": [
    "len(trueFF),len(FF)"
   ]
  },
  {
   "cell_type": "code",
   "execution_count": 55,
   "id": "72faafc4-f4b1-466c-9b09-376340208361",
   "metadata": {},
   "outputs": [],
   "source": [
    "trueFFF = list(set(trueFF).difference(DD))"
   ]
  },
  {
   "cell_type": "code",
   "execution_count": 56,
   "id": "56782af2-4a20-445f-993c-164468d707f0",
   "metadata": {},
   "outputs": [
    {
     "data": {
      "text/plain": [
       "8941"
      ]
     },
     "execution_count": 56,
     "metadata": {},
     "output_type": "execute_result"
    }
   ],
   "source": [
    "len(trueFFF)"
   ]
  },
  {
   "cell_type": "code",
   "execution_count": 57,
   "id": "f0856801-7e02-417f-a7e9-0191570fbc81",
   "metadata": {},
   "outputs": [],
   "source": [
    "del df"
   ]
  },
  {
   "cell_type": "code",
   "execution_count": 58,
   "id": "5262aeb5-926d-4821-8f42-547a1e1c47c4",
   "metadata": {},
   "outputs": [],
   "source": [
    "del dfa"
   ]
  },
  {
   "cell_type": "code",
   "execution_count": 59,
   "id": "27136468-7846-41b9-bf72-d150ac828aa0",
   "metadata": {},
   "outputs": [],
   "source": [
    "def get_inspire(url):\n",
    "    jj = requests.get(url)\n",
    "        \n",
    "    try:\n",
    "        LL = jj.json().get('hits').get('hits')\n",
    "    except:\n",
    "        LL = []\n",
    "\n",
    "    return LL\n",
    "    \n",
    "def clean_dois(dois):\n",
    "    return [d for d in dois if d.get('source') != 'arXiv' and d.get('material') != 'erratum']\n",
    "\n",
    "\n",
    "\n",
    "def get_authors(doi,authors):\n",
    "    status = {}\n",
    "    url = f\"https://api.openalex.org/works?filter=doi:{doi}\"\n",
    "    jj = requests.get(url)\n",
    "    time.sleep(0.1)\n",
    "    if jj.status_code == 200 and jj.json().get('meta') and jj.json().get('meta').get('count'):\n",
    "        try:\n",
    "            au = [ d.get('author').get('id').split('/')[-1] for d in jj.json().get('results')[0].get('authorships')]\n",
    "        except:\n",
    "            au = []\n",
    "        auint = list(set(au).intersection(authors))    \n",
    "        if len(auint) > 0:\n",
    "            status = { 'status': 'ok',\n",
    "                       'mathching_inspire_authors': True,\n",
    "                       'mathching_inspire_author_ids': auint,\n",
    "                       'doi': doi}\n",
    "        else: # outside inspire\n",
    "            status = { 'status': 'not_inspire_scope', \n",
    "                       'mathching_inspire_authors': False,\n",
    "                       'mathching_inspire_author_ids': [],\n",
    "                       'doi': doi}\n",
    "    return status"
   ]
  },
  {
   "cell_type": "code",
   "execution_count": 60,
   "id": "0744010d-e97a-47fd-845d-64de8496b271",
   "metadata": {},
   "outputs": [
    {
     "data": {
      "text/plain": [
       "['10.48550/arxiv.1111.1034',\n",
       " '10.1142/9789812773951_0018',\n",
       " '10.2172/6110556',\n",
       " '10.48550/arxiv.1405.6638',\n",
       " '10.1142/9789811258251_0049',\n",
       " '10.48550/arxiv.gr-qc/0111010',\n",
       " '10.48550/arxiv.astro-ph/0611368',\n",
       " '10.1017/9781108569392.028',\n",
       " '10.48550/arxiv.1308.2079',\n",
       " '10.1109/imoc.2011.6169395',\n",
       " '10.48550/arxiv.gr-qc/0201101',\n",
       " '10.48550/arxiv.gr-qc/0204024',\n",
       " '10.1017/cbo9781316090954.026',\n",
       " '10.22323/1.385.0017',\n",
       " '10.21468/scipost.report.3803']"
      ]
     },
     "execution_count": 60,
     "metadata": {},
     "output_type": "execute_result"
    }
   ],
   "source": [
    "no_issn_dois = list(set(FFF).difference(trueFFF)) # doi not relate to journals with issns\n",
    "no_issn_dois[0:15]"
   ]
  },
  {
   "cell_type": "markdown",
   "id": "58fd631c-943c-4de4-81be-c251f6e7d56e",
   "metadata": {},
   "source": [
    "## Status analysis"
   ]
  },
  {
   "cell_type": "markdown",
   "id": "b2ba7147-38fc-45e4-ac7b-7fd20d253eb9",
   "metadata": {},
   "source": [
    "### General definitions"
   ]
  },
  {
   "cell_type": "code",
   "execution_count": 61,
   "id": "0b870d62-cfd5-46fa-8cde-f68618831e8e",
   "metadata": {},
   "outputs": [
    {
     "data": {
      "text/plain": [
       "True"
      ]
     },
     "execution_count": 61,
     "metadata": {},
     "output_type": "execute_result"
    }
   ],
   "source": [
    "2151035 not in recids"
   ]
  },
  {
   "cell_type": "code",
   "execution_count": 62,
   "id": "cd24873e-6be9-4871-8d99-fee0c8b243d2",
   "metadata": {},
   "outputs": [],
   "source": [
    "def get_year(arxiv_doi):\n",
    "    arxiv_id =arxiv_doi.split('/')\n",
    "    if len(arxiv_id) == 2:\n",
    "        year = eval('20'+arxiv_id[-1].split('arxiv.')[-1][:2])\n",
    "    elif len(arxiv_id) == 3:\n",
    "        year = arxiv_id[-1][:2]\n",
    "        if year[0] == '0':\n",
    "             year = eval('20' + year)\n",
    "        else:\n",
    "            year = eval('19' + year)\n",
    "    \n",
    "    return year"
   ]
  },
  {
   "cell_type": "code",
   "execution_count": 63,
   "id": "94fc0449-e247-42f2-8088-6159cd4ccc49",
   "metadata": {},
   "outputs": [
    {
     "data": {
      "text/plain": [
       "2005"
      ]
     },
     "execution_count": 63,
     "metadata": {},
     "output_type": "execute_result"
    }
   ],
   "source": [
    "max_year = 2022\n",
    "arxiv_doi = '10.48550/arxiv.0801.2559'\n",
    "arxiv_doi = '10.48550/arxiv.astro-ph/9505300'\n",
    "arxiv_doi = '10.48550/arxiv.astro-ph/0505300'\n",
    "get_year(arxiv_doi)"
   ]
  },
  {
   "cell_type": "code",
   "execution_count": 64,
   "id": "68da0ebf-0b25-4932-be37-563e4440c645",
   "metadata": {},
   "outputs": [],
   "source": [
    "doi = '10.1088/1742-6596/590/1/012008'\n",
    "doi =  '10.48550/arxiv.0801.2559'\n",
    "#doi = '10.1103/physrevd.93.124020'\n",
    "#doi = '10.48550/arxiv.astro-ph/0505300' # test: not_doi\n",
    "#doi = '10.48550/arxiv.1909.10299' # test: duplicated\n",
    "#doi = '10.1007/s100520050258' # test: duplicated_dois\n",
    "#doi = '10.1140/epjc/s10052-015-3288-x' # test: right_countries\n",
    "#doi = '10.1007/bf02817915' # test: wrong_countries\n",
    "doi = '10.24275/uami.gq67jr29s' # test: 'mathching_inspire_authors' and 'status': 'not_inspire_scope'\n",
    "doi = '10.1016/0003-4916(82)90173-7' # test matching_authors\n",
    "doi = '10.1063/1.2710571' # test wrong_affiliations\n",
    "doi = '10.1016/0550-3213(95)00620-6' # test duplicated dois\n",
    "#doi = '10.1088/1742-6596/590/1/012008' #test\n",
    "#doi = '10.1140/epjc/s10052-022-11127-w' # test outside_range\n",
    "#doi = '10.1007/bf00762333' # test 'mathching_inspire_authors'"
   ]
  },
  {
   "cell_type": "code",
   "execution_count": 65,
   "id": "71facbca-0227-4a5d-9b1c-caa20b07599d",
   "metadata": {},
   "outputs": [],
   "source": [
    "def check_doi(doi, recids, DD, authors, max_year):\n",
    "    url = f\"https://inspirehep.net/api/literature?q=doi:{doi}&fields=control_number,authors,dois,publication_info\"\n",
    "    LL = get_inspire(url)\n",
    "    time.sleep(0.1)\n",
    "\n",
    "    \n",
    "    status = {'doi':doi,'in_inspire': False}\n",
    "    arxiv_doi = None\n",
    "    if doi.find('/arxiv.') == 8:\n",
    "        arxiv_doi = doi\n",
    "    \n",
    "    status['arxiv_doi'] = arxiv_doi\n",
    "    \n",
    "    metadata = None\n",
    "    if LL:\n",
    "        metadata = LL[0].get('metadata')\n",
    "        status['in_inspire'] = True # len(LL) != 0\n",
    "    inspire_authors = None\n",
    "    all_dois = None\n",
    "    control_number = None\n",
    "    publication_info = None\n",
    "    if metadata:\n",
    "        inspire_authors = metadata.get('authors')\n",
    "        all_dois = metadata.get('dois')\n",
    "        control_number = metadata.get('control_number')\n",
    "        publication_info = metadata.get('publication_info')\n",
    "    \n",
    "    inspire_dois = []\n",
    "    status['recid'] = control_number\n",
    "    status['in_recids'] = False\n",
    "    status['published'] = True\n",
    "    status['erratum_doi'] = None\n",
    "    status['inspire_dois'] = []\n",
    "    status['new_doi'] = None\n",
    "    status['oa_errors'] = []\n",
    "    status['inspire_scope'] = True\n",
    "    status['new_doi_in_inspire'] = None\n",
    "    status['affiliations_in_inspire'] = None\n",
    "    status['mathching_inspire_authors'] = None\n",
    "    status['mathching_inspire_author_ids'] = None\n",
    "    status['date_range'] = None\n",
    "    status['year'] = None\n",
    "    \n",
    "    if publication_info:\n",
    "        try:\n",
    "            status['year'] = max([d.get('year') for d in publication_info])\n",
    "        except:\n",
    "            status['year'] = None\n",
    "    \n",
    "    if not status['year'] and status['arxiv_doi']:\n",
    "        status['year'] = get_year(status['arxiv_doi'])\n",
    "    \n",
    "    # chek if already in database\n",
    "    if control_number and control_number in recids:\n",
    "        status['in_recids'] = True\n",
    "    else:\n",
    "        # check inspire_scope\n",
    "        pass\n",
    "    \n",
    "    # Check if published with doi\n",
    "    if all_dois:\n",
    "        erratum_doi = [d for d in all_dois if d.get('material') == 'erratum']\n",
    "        if erratum_doi:\n",
    "            status['erratum_doi'] = erratum_doi[0]\n",
    "        inspire_dois = [d for d in all_dois if d.get('source') != 'arXiv' and d.get('material') != 'erratum']\n",
    "        status['inspire_dois'] = list(set([d.get('value').lower() for d in inspire_dois]))\n",
    "    else:\n",
    "        if status['in_inspire']:\n",
    "            status['published'] = False\n",
    "    \n",
    "    # Analysis\n",
    "    status['status'] = None\n",
    "    if status.get('arxiv_doi') and status['inspire_dois']:\n",
    "        status['new_doi'] = status['inspire_dois'][0]\n",
    "        status['status'] = 'duplicated'\n",
    "        status['oa_errors'].append(status['status'])\n",
    "    else:\n",
    "        status['status'] = 'ok'\n",
    "    \n",
    "    if not status.get('arxiv_doi') and status['inspire_dois']:\n",
    "        if len(status['inspire_dois']) > 1:\n",
    "            status['new_doi'] = [x for x in status['inspire_dois'] if x != doi ][0]\n",
    "            status['status'] = 'duplicated_dois'\n",
    "            status['oa_errors'].append(status['status'])\n",
    "    else:\n",
    "        if not status['oa_errors']:\n",
    "            status['status'] = 'ok'\n",
    "    \n",
    "    if status['new_doi'] and status['new_doi'] in DD:\n",
    "        status['new_doi_in_inspire'] = True\n",
    "    else:\n",
    "        status['new_doi_in_inspire'] = False\n",
    "    if inspire_authors:\n",
    "        affiliations = [d for d in inspire_authors if d.get('affiliations')]\n",
    "        if affiliations: # not affiliations in inspire\n",
    "            status['affiliations_in_inspire'] = True\n",
    "        else:\n",
    "            status['affiliations_in_inspire'] = False\n",
    "    \n",
    "    # not in inspire LA database but in inspire → affiliations exist and are not LA\n",
    "    if status['in_inspire'] and not status['in_recids'] and status['affiliations_in_inspire']:\n",
    "        # check year conflict\n",
    "        if status['year'] and status['year'] >= max_year:\n",
    "            status['status'] = 'ok'\n",
    "            status['date_range'] = 'outside'\n",
    "        else:\n",
    "            status['status'] = 'wrong_countries'\n",
    "            status['oa_errors'].append(status['status'])\n",
    "    else:\n",
    "        if not status['oa_errors']:\n",
    "            status['status'] = 'ok'\n",
    "    \n",
    "    # not in inspire → check for inspire authors\n",
    "    if not status['in_inspire'] and not status['in_recids']:\n",
    "        check_status = get_authors(doi,authors)\n",
    "        status['status'] = check_status['status']\n",
    "        if status['status'] == 'not_inspire_scope':\n",
    "            status['oa_errors'].append(status['status'])\n",
    "        else:\n",
    "            if not status['oa_errors']:\n",
    "                status['status'] = 'ok'\n",
    "            \n",
    "        status['mathching_inspire_authors'] = check_status['mathching_inspire_authors']\n",
    "        status['mathching_inspire_author_ids'] = check_status['mathching_inspire_author_ids']\n",
    "    \n",
    "    if len(status.get('oa_errors')) > 0:\n",
    "        status['status'] = status.get('oa_errors')[0]\n",
    "    return status"
   ]
  },
  {
   "cell_type": "code",
   "execution_count": 66,
   "id": "72aec288-c126-48d6-9595-4f1dac3cb5ad",
   "metadata": {},
   "outputs": [],
   "source": [
    "#status"
   ]
  },
  {
   "cell_type": "code",
   "execution_count": 67,
   "id": "42c6aea5-68d4-483b-8cb1-050325877baf",
   "metadata": {},
   "outputs": [],
   "source": [
    "#dfa[dfa['authorships'].apply(lambda L: [d.get('author').get('id').split('/')[-1] for d in L] ).apply(lambda L: 'A5058759801' in L)]"
   ]
  },
  {
   "cell_type": "code",
   "execution_count": 68,
   "id": "5c2e9690-2e89-4597-b347-57124e069fb3",
   "metadata": {},
   "outputs": [],
   "source": [
    "#check_doi(doi,recids, DD, authors, max_year)"
   ]
  },
  {
   "cell_type": "markdown",
   "id": "b6ae22b7-a5f7-42ad-8e0d-063c030ab4f3",
   "metadata": {},
   "source": [
    "### Only OpenAlex"
   ]
  },
  {
   "cell_type": "code",
   "execution_count": 69,
   "id": "7d1601fd-c6ab-49c3-8d7a-4eaf6906eceb",
   "metadata": {},
   "outputs": [],
   "source": [
    "if loop:\n",
    "    ST = []\n",
    "    i = 0\n",
    "    for doi in FFF:\n",
    "        status = {}\n",
    "        i += 1\n",
    "        print(str(i).zfill(5),end='\\r',flush=True)\n",
    "        status = check_doi(doi,recids, DD, authors, max_year)\n",
    "        ST.append(status)"
   ]
  },
  {
   "cell_type": "code",
   "execution_count": 70,
   "id": "2b7a9232-0654-45fe-afed-492ac81e4db8",
   "metadata": {},
   "outputs": [],
   "source": [
    "if loop:\n",
    "    with open('data/only_openalex.json','w') as f:\n",
    "        json.dump(ST,f)"
   ]
  },
  {
   "cell_type": "code",
   "execution_count": 71,
   "id": "bb64e389-8f65-4bd7-b2e6-88c0ef37e4b3",
   "metadata": {},
   "outputs": [],
   "source": [
    "with open('data/only_openalex.json','r') as f:\n",
    "    ST = json.load(f)"
   ]
  },
  {
   "cell_type": "code",
   "execution_count": 72,
   "id": "42902ab1-c51b-4909-a272-20d2709e7a82",
   "metadata": {},
   "outputs": [
    {
     "data": {
      "text/plain": [
       "11857"
      ]
     },
     "execution_count": 72,
     "metadata": {},
     "output_type": "execute_result"
    }
   ],
   "source": [
    "len(FFF)"
   ]
  },
  {
   "cell_type": "code",
   "execution_count": 73,
   "id": "11969545-3fed-4480-9ea7-6e057b494696",
   "metadata": {},
   "outputs": [],
   "source": [
    "import pandas as pd"
   ]
  },
  {
   "cell_type": "code",
   "execution_count": 74,
   "id": "a4ec08e3-4b54-49bf-afb8-9f05cf7e6e64",
   "metadata": {},
   "outputs": [],
   "source": [
    "ST = pd.DataFrame(ST)"
   ]
  },
  {
   "cell_type": "code",
   "execution_count": 75,
   "id": "8026f3a6-eb6f-4e76-91bf-ab3316d5920b",
   "metadata": {},
   "outputs": [
    {
     "data": {
      "text/plain": [
       "11575"
      ]
     },
     "execution_count": 75,
     "metadata": {},
     "output_type": "execute_result"
    }
   ],
   "source": [
    "len(DDD)"
   ]
  },
  {
   "cell_type": "code",
   "execution_count": 76,
   "id": "7d5fed4b-9e78-471f-87e7-aa3821067534",
   "metadata": {},
   "outputs": [],
   "source": [
    "def fix_status_ok(oa_errors,status):\n",
    "    if len(oa_errors) > 0:\n",
    "        status = oa_errors[0]\n",
    "    return status"
   ]
  },
  {
   "cell_type": "code",
   "execution_count": 77,
   "id": "5152b961-f716-4371-aff6-64ec5d2e2439",
   "metadata": {},
   "outputs": [],
   "source": [
    "ST['status'] = ST.apply(lambda d: fix_status_ok(d['oa_errors'],d['status']), axis='columns')"
   ]
  },
  {
   "cell_type": "code",
   "execution_count": 78,
   "id": "36aa61bd-5def-4e57-ada3-22b3982ef77f",
   "metadata": {},
   "outputs": [
    {
     "data": {
      "text/plain": [
       "status\n",
       "not_inspire_scope    2121\n",
       "wrong_countries       817\n",
       "duplicated            513\n",
       "duplicated_dois       200\n",
       "Name: count, dtype: int64"
      ]
     },
     "execution_count": 78,
     "metadata": {},
     "output_type": "execute_result"
    }
   ],
   "source": [
    "ST[ST['oa_errors'].apply(len)>0]['status'].value_counts()#.sum()"
   ]
  },
  {
   "cell_type": "code",
   "execution_count": 79,
   "id": "da59209a-cb86-4b73-a4ce-bb362cc00220",
   "metadata": {},
   "outputs": [
    {
     "data": {
      "text/plain": [
       "status\n",
       "ok                   8204\n",
       "not_inspire_scope    2121\n",
       "wrong_countries       817\n",
       "duplicated            513\n",
       "duplicated_dois       200\n",
       "Name: count, dtype: int64"
      ]
     },
     "execution_count": 79,
     "metadata": {},
     "output_type": "execute_result"
    }
   ],
   "source": [
    "ST['status'].value_counts()"
   ]
  },
  {
   "cell_type": "code",
   "execution_count": 80,
   "id": "647e6dc3-3f48-4a42-954b-474afe484d35",
   "metadata": {},
   "outputs": [
    {
     "data": {
      "text/plain": [
       "11855"
      ]
     },
     "execution_count": 80,
     "metadata": {},
     "output_type": "execute_result"
    }
   ],
   "source": [
    "ST['status'].value_counts().sum()"
   ]
  },
  {
   "cell_type": "code",
   "execution_count": 81,
   "id": "b055ea73-7b64-44e4-a103-93a949b82789",
   "metadata": {},
   "outputs": [
    {
     "data": {
      "text/plain": [
       "(8204, 18)"
      ]
     },
     "execution_count": 81,
     "metadata": {},
     "output_type": "execute_result"
    }
   ],
   "source": [
    "ok = ST[ST['status'] == 'ok']\n",
    "ok.shape"
   ]
  },
  {
   "cell_type": "code",
   "execution_count": 82,
   "id": "aea8489a-1e29-4745-8c50-d9ffc6ac05b0",
   "metadata": {},
   "outputs": [
    {
     "data": {
      "text/plain": [
       "(4486, 18)"
      ]
     },
     "execution_count": 82,
     "metadata": {},
     "output_type": "execute_result"
    }
   ],
   "source": [
    "in_inspire = ok[ok['in_inspire']]\n",
    "in_inspire.shape"
   ]
  },
  {
   "cell_type": "code",
   "execution_count": 83,
   "id": "2e12e91a-4704-48db-abec-607c2e78c17d",
   "metadata": {},
   "outputs": [
    {
     "data": {
      "text/plain": [
       "(3718, 18)"
      ]
     },
     "execution_count": 83,
     "metadata": {},
     "output_type": "execute_result"
    }
   ],
   "source": [
    "not_in_inspire = ok[~ok['in_inspire']]\n",
    "not_in_inspire.shape"
   ]
  },
  {
   "cell_type": "code",
   "execution_count": 84,
   "id": "b0d56fd9-6df2-4cb4-b954-e147aaa4e418",
   "metadata": {},
   "outputs": [
    {
     "data": {
      "text/plain": [
       "affiliations_in_inspire\n",
       "False    3553\n",
       "True      930\n",
       "None        3\n",
       "Name: count, dtype: int64"
      ]
     },
     "execution_count": 84,
     "metadata": {},
     "output_type": "execute_result"
    }
   ],
   "source": [
    "in_inspire['affiliations_in_inspire'].fillna('None').value_counts()"
   ]
  },
  {
   "cell_type": "code",
   "execution_count": 85,
   "id": "4598def1-9958-464e-ae71-f495bc696e31",
   "metadata": {},
   "outputs": [
    {
     "data": {
      "text/plain": [
       "4486"
      ]
     },
     "execution_count": 85,
     "metadata": {},
     "output_type": "execute_result"
    }
   ],
   "source": [
    "in_inspire['affiliations_in_inspire'].fillna('None').value_counts().sum()"
   ]
  },
  {
   "cell_type": "code",
   "execution_count": 86,
   "id": "51607534-70d6-4ac8-924e-055ed384aca2",
   "metadata": {},
   "outputs": [
    {
     "data": {
      "text/plain": [
       "3553"
      ]
     },
     "execution_count": 86,
     "metadata": {},
     "output_type": "execute_result"
    }
   ],
   "source": [
    "not_aff = in_inspire[~in_inspire['affiliations_in_inspire'].fillna(True)].reset_index(drop=True)\n",
    "not_aff.shape[0]"
   ]
  },
  {
   "cell_type": "code",
   "execution_count": 87,
   "id": "abf66992-51e5-4a34-b716-0f275ff79f34",
   "metadata": {},
   "outputs": [
    {
     "data": {
      "text/plain": [
       "'10.1142/s0218271810017950'"
      ]
     },
     "execution_count": 87,
     "metadata": {},
     "output_type": "execute_result"
    }
   ],
   "source": [
    "not_aff['doi'].iloc[0]"
   ]
  },
  {
   "cell_type": "code",
   "execution_count": 88,
   "id": "34e597f0-c23b-4920-b25e-5ca4af3fa417",
   "metadata": {},
   "outputs": [
    {
     "data": {
      "text/plain": [
       "930"
      ]
     },
     "execution_count": 88,
     "metadata": {},
     "output_type": "execute_result"
    }
   ],
   "source": [
    "in_inspire_aff = in_inspire[in_inspire['affiliations_in_inspire'] == True].reset_index(drop=True)\n",
    "in_inspire_aff.shape[0]"
   ]
  },
  {
   "cell_type": "code",
   "execution_count": 89,
   "id": "8c4f6668-3776-46c7-9624-cc39b648f75f",
   "metadata": {},
   "outputs": [
    {
     "data": {
      "text/plain": [
       "(3, 18)"
      ]
     },
     "execution_count": 89,
     "metadata": {},
     "output_type": "execute_result"
    }
   ],
   "source": [
    "None_aff = in_inspire[in_inspire['affiliations_in_inspire'].isna()]\n",
    "None_aff.shape"
   ]
  },
  {
   "cell_type": "code",
   "execution_count": 90,
   "id": "53ac4387-8645-4379-94a2-0c3d208823b6",
   "metadata": {},
   "outputs": [
    {
     "data": {
      "text/html": [
       "<div>\n",
       "<style scoped>\n",
       "    .dataframe tbody tr th:only-of-type {\n",
       "        vertical-align: middle;\n",
       "    }\n",
       "\n",
       "    .dataframe tbody tr th {\n",
       "        vertical-align: top;\n",
       "    }\n",
       "\n",
       "    .dataframe thead th {\n",
       "        text-align: right;\n",
       "    }\n",
       "</style>\n",
       "<table border=\"1\" class=\"dataframe\">\n",
       "  <thead>\n",
       "    <tr style=\"text-align: right;\">\n",
       "      <th></th>\n",
       "      <th>doi</th>\n",
       "      <th>in_inspire</th>\n",
       "      <th>arxiv_doi</th>\n",
       "      <th>recid</th>\n",
       "      <th>in_recids</th>\n",
       "      <th>published</th>\n",
       "      <th>erratum_doi</th>\n",
       "      <th>inspire_dois</th>\n",
       "      <th>new_doi</th>\n",
       "      <th>oa_errors</th>\n",
       "      <th>inspire_scope</th>\n",
       "      <th>new_doi_in_inspire</th>\n",
       "      <th>affiliations_in_inspire</th>\n",
       "      <th>mathching_inspire_authors</th>\n",
       "      <th>mathching_inspire_author_ids</th>\n",
       "      <th>date_range</th>\n",
       "      <th>year</th>\n",
       "      <th>status</th>\n",
       "    </tr>\n",
       "  </thead>\n",
       "  <tbody>\n",
       "    <tr>\n",
       "      <th>288</th>\n",
       "      <td>10.1109/23.34546</td>\n",
       "      <td>True</td>\n",
       "      <td>None</td>\n",
       "      <td>277148.0</td>\n",
       "      <td>False</td>\n",
       "      <td>True</td>\n",
       "      <td>None</td>\n",
       "      <td>[10.1109/23.34546]</td>\n",
       "      <td>None</td>\n",
       "      <td>[]</td>\n",
       "      <td>True</td>\n",
       "      <td>False</td>\n",
       "      <td>None</td>\n",
       "      <td>None</td>\n",
       "      <td>None</td>\n",
       "      <td>None</td>\n",
       "      <td>1989.0</td>\n",
       "      <td>ok</td>\n",
       "    </tr>\n",
       "    <tr>\n",
       "      <th>3043</th>\n",
       "      <td>10.1088/1742-6596/354/1/012015</td>\n",
       "      <td>True</td>\n",
       "      <td>None</td>\n",
       "      <td>1112635.0</td>\n",
       "      <td>False</td>\n",
       "      <td>True</td>\n",
       "      <td>None</td>\n",
       "      <td>[10.1088/1742-6596/354/1/012015]</td>\n",
       "      <td>None</td>\n",
       "      <td>[]</td>\n",
       "      <td>True</td>\n",
       "      <td>False</td>\n",
       "      <td>None</td>\n",
       "      <td>None</td>\n",
       "      <td>None</td>\n",
       "      <td>None</td>\n",
       "      <td>NaN</td>\n",
       "      <td>ok</td>\n",
       "    </tr>\n",
       "    <tr>\n",
       "      <th>6457</th>\n",
       "      <td>10.14311/app.2014.01.0132</td>\n",
       "      <td>True</td>\n",
       "      <td>None</td>\n",
       "      <td>1421731.0</td>\n",
       "      <td>False</td>\n",
       "      <td>True</td>\n",
       "      <td>None</td>\n",
       "      <td>[10.14311/app.2014.01.0132]</td>\n",
       "      <td>None</td>\n",
       "      <td>[]</td>\n",
       "      <td>True</td>\n",
       "      <td>False</td>\n",
       "      <td>None</td>\n",
       "      <td>None</td>\n",
       "      <td>None</td>\n",
       "      <td>None</td>\n",
       "      <td>2014.0</td>\n",
       "      <td>ok</td>\n",
       "    </tr>\n",
       "  </tbody>\n",
       "</table>\n",
       "</div>"
      ],
      "text/plain": [
       "                                 doi  in_inspire arxiv_doi      recid  \\\n",
       "288                 10.1109/23.34546        True      None   277148.0   \n",
       "3043  10.1088/1742-6596/354/1/012015        True      None  1112635.0   \n",
       "6457       10.14311/app.2014.01.0132        True      None  1421731.0   \n",
       "\n",
       "      in_recids  published erratum_doi                      inspire_dois  \\\n",
       "288       False       True        None                [10.1109/23.34546]   \n",
       "3043      False       True        None  [10.1088/1742-6596/354/1/012015]   \n",
       "6457      False       True        None       [10.14311/app.2014.01.0132]   \n",
       "\n",
       "     new_doi oa_errors  inspire_scope  new_doi_in_inspire  \\\n",
       "288     None        []           True               False   \n",
       "3043    None        []           True               False   \n",
       "6457    None        []           True               False   \n",
       "\n",
       "     affiliations_in_inspire mathching_inspire_authors  \\\n",
       "288                     None                      None   \n",
       "3043                    None                      None   \n",
       "6457                    None                      None   \n",
       "\n",
       "     mathching_inspire_author_ids date_range    year status  \n",
       "288                          None       None  1989.0     ok  \n",
       "3043                         None       None     NaN     ok  \n",
       "6457                         None       None  2014.0     ok  "
      ]
     },
     "execution_count": 90,
     "metadata": {},
     "output_type": "execute_result"
    }
   ],
   "source": [
    "None_aff"
   ]
  },
  {
   "cell_type": "code",
   "execution_count": 91,
   "id": "c695ceb7-5fe3-47b3-8de9-1a3143d6952e",
   "metadata": {},
   "outputs": [
    {
     "data": {
      "text/plain": [
       "(481,)"
      ]
     },
     "execution_count": 91,
     "metadata": {},
     "output_type": "execute_result"
    }
   ],
   "source": [
    "not_published = in_inspire_aff[( (in_inspire_aff['arxiv_doi'].str.contains('arxiv\\.'))  \n",
    "               & (~in_inspire_aff['published']) )]\n",
    "\n",
    "not_published.shape[0],"
   ]
  },
  {
   "cell_type": "code",
   "execution_count": 92,
   "id": "3e784e77-76f6-44bb-8c4b-5c3a18f6ebaa",
   "metadata": {},
   "outputs": [
    {
     "data": {
      "text/plain": [
       "(449,)"
      ]
     },
     "execution_count": 92,
     "metadata": {},
     "output_type": "execute_result"
    }
   ],
   "source": [
    "published = in_inspire_aff[~( (in_inspire_aff['arxiv_doi'].str.contains('arxiv\\.'))  \n",
    "               & (~in_inspire_aff['published']) )]\n",
    "\n",
    "published.shape[0],"
   ]
  },
  {
   "cell_type": "code",
   "execution_count": 93,
   "id": "00eb6df8-0cfa-4060-a0ad-7aa824a6b5c3",
   "metadata": {},
   "outputs": [
    {
     "data": {
      "text/plain": [
       "(376, 18)"
      ]
     },
     "execution_count": 93,
     "metadata": {},
     "output_type": "execute_result"
    }
   ],
   "source": [
    "published_year = published[published['year']>=2022]\n",
    "published_year.shape"
   ]
  },
  {
   "cell_type": "code",
   "execution_count": 94,
   "id": "3002d252-0811-44fb-b29a-9cd204bbb824",
   "metadata": {},
   "outputs": [
    {
     "data": {
      "text/plain": [
       "(376,)"
      ]
     },
     "execution_count": 94,
     "metadata": {},
     "output_type": "execute_result"
    }
   ],
   "source": [
    "published_year['doi'].drop_duplicates().shape"
   ]
  },
  {
   "cell_type": "markdown",
   "id": "100f9fec-47f2-4081-b032-05208e4c0935",
   "metadata": {},
   "source": [
    "### Only INSPIRE-HEP"
   ]
  },
  {
   "cell_type": "code",
   "execution_count": 95,
   "id": "f1266196-f47f-4684-92c2-5f16cc2f31a9",
   "metadata": {},
   "outputs": [
    {
     "data": {
      "text/plain": [
       "['10.1086/342614',\n",
       " '10.1103/physrevc.28.1843',\n",
       " '10.1140/epjp/i2013-13118-9',\n",
       " '10.1111/j.1365-2966.2007.11634.x',\n",
       " '10.1051/0004-6361:20040547',\n",
       " '10.1088/1751-8113/43/6/065201',\n",
       " '10.1103/physrevd.93.054001',\n",
       " '10.1103/physrevc.40.2276',\n",
       " '10.1103/physrevd.107.043530',\n",
       " '10.1111/j.1365-2966.2005.09491.x']"
      ]
     },
     "execution_count": 95,
     "metadata": {},
     "output_type": "execute_result"
    }
   ],
   "source": [
    "DDD[:10]"
   ]
  },
  {
   "cell_type": "code",
   "execution_count": 96,
   "id": "0a578633-339e-4ad0-ad37-e82bf7e5107a",
   "metadata": {
    "scrolled": true
   },
   "outputs": [],
   "source": [
    "if loop:\n",
    "    OA = []\n",
    "    i = 0\n",
    "    for t in DDD:\n",
    "        url = f\"https://api.openalex.org/works?filter=doi:{t}\"\n",
    "        j = requests.get(url)\n",
    "        try:\n",
    "            jj = j.json().get('results')[0]\n",
    "        except:\n",
    "            pass\n",
    "        if jj:\n",
    "            OA.append(jj)\n",
    "        print(str(i).zfill(5),end='\\r')\n",
    "        i += 1\n",
    "        time.sleep(0.1)"
   ]
  },
  {
   "cell_type": "code",
   "execution_count": 97,
   "id": "5276776f-d5a4-43ba-ab65-e16025c3b491",
   "metadata": {},
   "outputs": [
    {
     "data": {
      "text/plain": [
       "38713"
      ]
     },
     "execution_count": 97,
     "metadata": {},
     "output_type": "execute_result"
    }
   ],
   "source": [
    "len(DD)"
   ]
  },
  {
   "cell_type": "code",
   "execution_count": 98,
   "id": "4f7be7d7-c0d1-4157-99e4-24ec6aa4c811",
   "metadata": {},
   "outputs": [],
   "source": [
    "if loop:\n",
    "    with gzip.open('data/only_inspire_in_OpenAlex.json.gz','w') as f:\n",
    "        f.write(json.dumps(OA).encode('utf-8')) "
   ]
  },
  {
   "cell_type": "code",
   "execution_count": 99,
   "id": "f24b5a12-643e-4dc7-936d-452bc5dcbb48",
   "metadata": {},
   "outputs": [],
   "source": [
    "with gzip.open('data/only_inspire_in_OpenAlex.json.gz','r') as f:\n",
    "        OA = json.loads(f.read().decode('utf-8'))"
   ]
  },
  {
   "cell_type": "markdown",
   "id": "685a93ea-5193-4b46-955e-9e12b1acb89a",
   "metadata": {},
   "source": [
    "Expected behaviour. Most of this DOIs could be the negation of the search formula: Other topics, with other publication years, and errors in country affiliations and author numbers"
   ]
  },
  {
   "cell_type": "code",
   "execution_count": 100,
   "id": "8681e7ba-aac1-4440-bae9-b3b6f1d613fc",
   "metadata": {},
   "outputs": [
    {
     "data": {
      "text/plain": [
       "11575"
      ]
     },
     "execution_count": 100,
     "metadata": {},
     "output_type": "execute_result"
    }
   ],
   "source": [
    "len(OA)"
   ]
  },
  {
   "cell_type": "code",
   "execution_count": 101,
   "id": "2c98abe2-8c5d-42bb-bda5-5031d4e9b715",
   "metadata": {},
   "outputs": [],
   "source": [
    "OA = pd.DataFrame(OA)"
   ]
  },
  {
   "cell_type": "code",
   "execution_count": 102,
   "id": "f2367006-204d-4c4a-90b4-7797af0d106d",
   "metadata": {},
   "outputs": [],
   "source": [
    "status = {'initial': OA.shape[0]}"
   ]
  },
  {
   "cell_type": "code",
   "execution_count": 103,
   "id": "540c3eb4-52b3-4e34-be1b-b60ab9662a0c",
   "metadata": {},
   "outputs": [],
   "source": [
    "OA['doi'] = OA['doi'].str.lower().str.split('https://doi.org/').str[-1]"
   ]
  },
  {
   "cell_type": "code",
   "execution_count": 104,
   "id": "a0a0c2ae-eff1-4b8b-b1db-d0485563bbe2",
   "metadata": {},
   "outputs": [
    {
     "data": {
      "text/plain": [
       "(93, 51)"
      ]
     },
     "execution_count": 104,
     "metadata": {},
     "output_type": "execute_result"
    }
   ],
   "source": [
    "OA[OA['topics'].apply(len)==0].reset_index(drop=True).shape #should go in other topics"
   ]
  },
  {
   "cell_type": "code",
   "execution_count": 105,
   "id": "906c0caa-e588-4d33-8234-0cd9d15e4ab7",
   "metadata": {},
   "outputs": [
    {
     "data": {
      "text/plain": [
       "(2218, 51)"
      ]
     },
     "execution_count": 105,
     "metadata": {},
     "output_type": "execute_result"
    }
   ],
   "source": [
    "OA[OA['topics'].apply(lambda L: set(topics).intersection([d['id'].split('/')[-1].lower() for d in L])).apply(len)>0].shape"
   ]
  },
  {
   "cell_type": "code",
   "execution_count": 106,
   "id": "efb37b5a-82d1-4793-bd35-fcce0c24b0d9",
   "metadata": {},
   "outputs": [
    {
     "data": {
      "text/plain": [
       "{'initial': 11575, 'not 0 authors': 11547}"
      ]
     },
     "execution_count": 106,
     "metadata": {},
     "output_type": "execute_result"
    }
   ],
   "source": [
    "OAE = OA[OA['authorships'].apply(len) != 0].reset_index(drop=True) #Not authors at all # should go in bad affiliations\n",
    "status['not 0 authors'] = OAE.shape[0]\n",
    "status "
   ]
  },
  {
   "cell_type": "code",
   "execution_count": 107,
   "id": "6c06edc8-87cb-4895-9dee-9e1398655490",
   "metadata": {},
   "outputs": [
    {
     "data": {
      "text/plain": [
       "{'initial': 11575, 'not 0 authors': 11547, 'authors 1 → 10': 11528}"
      ]
     },
     "execution_count": 107,
     "metadata": {},
     "output_type": "execute_result"
    }
   ],
   "source": [
    "OAE = OAE[OAE['authorships'].apply(len) <= 10].reset_index(drop=True) #Not authors at all # should go in bad affiliations\n",
    "status['authors 1 → 10'] = OAE.shape[0]\n",
    "status "
   ]
  },
  {
   "cell_type": "markdown",
   "id": "7123a4cd-8326-4abc-a275-ff4a48657858",
   "metadata": {},
   "source": [
    "Not affiliations in OA"
   ]
  },
  {
   "cell_type": "code",
   "execution_count": 108,
   "id": "6a267cf2-a90f-470b-8794-9ba9383fb8a9",
   "metadata": {},
   "outputs": [
    {
     "data": {
      "text/plain": [
       "{'initial': 11575,\n",
       " 'not 0 authors': 11547,\n",
       " 'authors 1 → 10': 11528,\n",
       " 'not 0 countries': 10381}"
      ]
     },
     "execution_count": 108,
     "metadata": {},
     "output_type": "execute_result"
    }
   ],
   "source": [
    "OAE = OAE[OAE['countries_distinct_count'] != 0].reset_index(drop=True) \n",
    "status['not 0 countries'] = OAE.shape[0]\n",
    "status"
   ]
  },
  {
   "cell_type": "markdown",
   "id": "1b95a6bb-7fb8-4671-ba22-6c5a74baef8d",
   "metadata": {},
   "source": [
    "Out of date range"
   ]
  },
  {
   "cell_type": "code",
   "execution_count": 109,
   "id": "05551044-eef5-461f-bf65-c5a0130152d6",
   "metadata": {},
   "outputs": [
    {
     "data": {
      "text/plain": [
       "{'initial': 11575,\n",
       " 'not 0 authors': 11547,\n",
       " 'authors 1 → 10': 11528,\n",
       " 'not 0 countries': 10381,\n",
       " 'year <= 2022 ': 10121}"
      ]
     },
     "execution_count": 109,
     "metadata": {},
     "output_type": "execute_result"
    }
   ],
   "source": [
    "OAE = OAE[OAE['publication_year'] <= 2022].reset_index(drop=True) \n",
    "status['year <= 2022 '] = OAE.shape[0]\n",
    "status"
   ]
  },
  {
   "cell_type": "code",
   "execution_count": 110,
   "id": "68e367b7-b994-40dc-ad42-9b862b32ba61",
   "metadata": {},
   "outputs": [],
   "source": [
    "#OA['primary_topic'].str['display_name'].value_counts()[:30]"
   ]
  },
  {
   "cell_type": "code",
   "execution_count": 111,
   "id": "a899773c-89d5-465d-a779-73a18e5245ac",
   "metadata": {},
   "outputs": [
    {
     "data": {
      "text/plain": [
       "{'initial': 11575,\n",
       " 'not 0 authors': 11547,\n",
       " 'authors 1 → 10': 11528,\n",
       " 'not 0 countries': 10381,\n",
       " 'year <= 2022 ': 10121,\n",
       " 'LA countries': 8506}"
      ]
     },
     "execution_count": 111,
     "metadata": {},
     "output_type": "execute_result"
    }
   ],
   "source": [
    "OAC = OAE[OAE['authorships'].apply(lambda L: [d.get('countries') for d in L]).apply(\n",
    "    lambda L: [item for sublist in L for item in sublist]).apply(\n",
    "    lambda L: list(set(latin_america_countries.values()).intersection(L))\n",
    "   ).apply(len)>0]\n",
    "status['LA countries'] = OAC.shape[0]\n",
    "status"
   ]
  },
  {
   "cell_type": "code",
   "execution_count": null,
   "id": "f4828633-1a14-4660-a08d-3626a1efaace",
   "metadata": {},
   "outputs": [],
   "source": []
  },
  {
   "cell_type": "code",
   "execution_count": 112,
   "id": "75af7cfc-29e4-4460-a0b4-b5eb174eda6b",
   "metadata": {},
   "outputs": [
    {
     "data": {
      "text/plain": [
       "{'initial': 11575,\n",
       " 'not 0 authors': 11547,\n",
       " 'authors 1 → 10': 11528,\n",
       " 'not 0 countries': 10381,\n",
       " 'year <= 2022 ': 10121,\n",
       " 'LA countries': 8506,\n",
       " 'topics count > 0': 8452}"
      ]
     },
     "execution_count": 112,
     "metadata": {},
     "output_type": "execute_result"
    }
   ],
   "source": [
    "OAC = OAC[OAC['topics'].apply(len)>0]\n",
    "status['topics count > 0'] = OAC.shape[0]\n",
    "status"
   ]
  },
  {
   "cell_type": "code",
   "execution_count": 113,
   "id": "e1b8985b-477c-4d6b-bf6d-3d988e7c70ce",
   "metadata": {},
   "outputs": [
    {
     "data": {
      "text/plain": [
       "(39, 51)"
      ]
     },
     "execution_count": 113,
     "metadata": {},
     "output_type": "execute_result"
    }
   ],
   "source": [
    "low_score = OAC[OAC['topics'].apply(lambda L: set(topics).intersection([d['id'].split('/')[-1].lower() for d in L])).apply(len)>0]\n",
    "low_score.shape"
   ]
  },
  {
   "cell_type": "markdown",
   "id": "d8405bd1-c081-456c-9f1f-d8f4b7b47884",
   "metadata": {},
   "source": [
    "HECAPLA = NOAT[NOAT['authorships'].apply(lambda L: set(authors).intersection(\n",
    "    [d.get('author').get('id').split('/')[-1] for d in L])).apply(len)>0]\n",
    "status['intersection INSPIRE-HEP-LA with OpenAlex authors'] = HECAPLA.shape[0]\n",
    "status"
   ]
  },
  {
   "cell_type": "markdown",
   "id": "04a03581-83f4-46b0-8c55-bc203c826ed5",
   "metadata": {},
   "source": [
    "-\n",
    "DF = OAC\n",
    "DF['filtered_topics'] = DF['topics'].apply(lambda L: topics_score(L,topics,score=0.9))\n",
    "OAT = DF[DF['filtered_topics'].apply(len)>0].reset_index(drop=True)\n",
    "NOAT = DF[DF['filtered_topics'].apply(len)==0].reset_index(drop=True)\n",
    "OAT.shape, NOAT.shape"
   ]
  },
  {
   "cell_type": "markdown",
   "id": "b1024444-7da6-4b4f-b7dd-caa9396a387c",
   "metadata": {},
   "source": [
    "HECAPLA.shape[0]"
   ]
  },
  {
   "cell_type": "markdown",
   "id": "d92a78f8-577c-4c84-b962-fdea5e5b6df3",
   "metadata": {},
   "source": [
    "New authors beyond the intersection INSPIRE-HEP INSPIRE-HEP-LA with OpenAlex. We could compare this with a search formula with `COUNTRIES` but not `TOPICS`"
   ]
  },
  {
   "cell_type": "markdown",
   "id": "fd64b8f4-cd7a-4cfb-803c-0991c0090ec1",
   "metadata": {},
   "source": [
    "#### Checks\n",
    "1. obtain the works with  the other `topics`  but in the `Physics and Astronomy` field and see if the missing work from the OpenAlex dataset are there"
   ]
  },
  {
   "cell_type": "code",
   "execution_count": 114,
   "id": "25afbfe5-11a3-477d-802c-8995e8ce7e5d",
   "metadata": {},
   "outputs": [],
   "source": [
    "LAINSP = []\n",
    "next_cursor = \"*\"\n",
    "kk = []\n",
    "i = 0"
   ]
  },
  {
   "cell_type": "code",
   "execution_count": 115,
   "id": "9ead26f8-0c3c-431c-a6af-afceae8ba767",
   "metadata": {},
   "outputs": [],
   "source": [
    "p = 200\n",
    "FIELD = '31'\n",
    "TOPICS = 't10048|t10224|t10527|t10921|t11090|t10025|t10095|\\\n",
    "t11415|t11044|t11367|t10463'\n",
    "COUNTRIES = 'countries/ar|countries/bo|countries/br|countries/cl|\\\n",
    "countries/co|countries/cr|countries/cu|countries/do|countries/ec|\\\n",
    "countries/sv|countries/gt|countries/hn|countries/mx|countries/pa|\\\n",
    "countries/py|countries/pe|countries/uy|countries/ve'\n",
    "\n",
    "loop = False\n",
    "\n",
    "# topics.id:!{TOPICS},\\\n",
    "while loop:\n",
    "    url_topics = f\"https://api.openalex.org/works?page=1&filter=topics.field.id:{FIELD},\\\n",
    "topics.id:!{TOPICS},\\\n",
    "authors_count:1-10,authorships.countries:{COUNTRIES},publication_year:1900-2022\\\n",
    "&mailto=restrepo@udea.edu.co\\\n",
    "&sort=cited_by_count:desc&per_page={p}&cursor={next_cursor}\"    \n",
    "    #url_topics = f\"https://api.openalex.org/works?page=1&filter=authorships.author.id:a5049648126&sort=cited_by_count:desc&per_page=200&cursor={next_cursor}\"\n",
    "    \n",
    "    j = requests.get(url_topics)\n",
    "    time.sleep(0.1)\n",
    "    \n",
    "    la = j.json()\n",
    "    \n",
    "    la_meta = la.get('meta')\n",
    "    next_cursor = la_meta.get('next_cursor')\n",
    "    kk.append(next_cursor)\n",
    "    \n",
    "    if not next_cursor:\n",
    "        #break\n",
    "        print('stop')\n",
    "        break\n",
    "\n",
    "    la_results = la.get('results')\n",
    "    la_results = [ d for d in la_results if\n",
    "                  len(set(authors).intersection( [\n",
    "                   dd.get('author').get('id').split('/')[-1] \n",
    "                    for dd in d.get('authorships')])) > 0]\n",
    "    \n",
    "    LAINSP = LAINSP + la_results\n",
    "    print(f\"{str(len(LAINSP)).zfill(6)}/{str((i+1)*200).zfill(6)}\",end='\\r')\n",
    "    i += 1"
   ]
  },
  {
   "cell_type": "code",
   "execution_count": 116,
   "id": "9530df64-2d4f-474c-af9a-c5f02a7506d8",
   "metadata": {},
   "outputs": [],
   "source": [
    "if loop:\n",
    "    with open('other_topics.json', 'w') as f:\n",
    "        json.dump(LAINSP,f)"
   ]
  },
  {
   "cell_type": "code",
   "execution_count": 117,
   "id": "5b0c23bb-7b4c-4a03-83f9-0c5252e20195",
   "metadata": {},
   "outputs": [],
   "source": [
    "with open('other_topics.json', 'r') as f:\n",
    "    LAINSP = json.load(f)"
   ]
  },
  {
   "cell_type": "code",
   "execution_count": 118,
   "id": "593d10b3-a180-45bc-9e2f-466a2c035cd2",
   "metadata": {},
   "outputs": [],
   "source": [
    "PH = pd.DataFrame(LAINSP)"
   ]
  },
  {
   "cell_type": "code",
   "execution_count": 119,
   "id": "0a19d79e-ce17-44c3-b68f-f5e389e96768",
   "metadata": {},
   "outputs": [
    {
     "data": {
      "text/plain": [
       "(42125, 50)"
      ]
     },
     "execution_count": 119,
     "metadata": {},
     "output_type": "execute_result"
    }
   ],
   "source": [
    "PH.shape"
   ]
  },
  {
   "cell_type": "code",
   "execution_count": 120,
   "id": "a1c07190-5d12-41f2-a615-7584ea17bcf3",
   "metadata": {},
   "outputs": [],
   "source": [
    "with open('missing_search.json','r') as f:\n",
    "    kk = json.load(f)"
   ]
  },
  {
   "cell_type": "code",
   "execution_count": 121,
   "id": "c459bfbb-5246-43cf-9554-b0fe25efe0f4",
   "metadata": {},
   "outputs": [],
   "source": [
    "kk = pd.DataFrame(kk)\n",
    "PH = pd.concat((PH,kk))"
   ]
  },
  {
   "cell_type": "code",
   "execution_count": 122,
   "id": "f54078b8-f7c2-4645-893b-c939269a9214",
   "metadata": {},
   "outputs": [
    {
     "data": {
      "text/plain": [
       "(1656, 50)"
      ]
     },
     "execution_count": 122,
     "metadata": {},
     "output_type": "execute_result"
    }
   ],
   "source": [
    "kk.shape"
   ]
  },
  {
   "cell_type": "code",
   "execution_count": 123,
   "id": "5774250c-8ef7-4ee4-948b-5d687826af3c",
   "metadata": {},
   "outputs": [],
   "source": [
    "PH['doi'] = PH['doi'].str.lower().str.split('https://doi.org/').str[-1]"
   ]
  },
  {
   "cell_type": "code",
   "execution_count": 124,
   "id": "80112326-5508-47ac-80ae-e1cd11c35d4a",
   "metadata": {},
   "outputs": [
    {
     "data": {
      "text/plain": [
       "'10.1007/bf01016429'"
      ]
     },
     "execution_count": 124,
     "metadata": {},
     "output_type": "execute_result"
    }
   ],
   "source": [
    "PH = PH.reset_index(drop=True)\n",
    "PH['doi'][0]"
   ]
  },
  {
   "cell_type": "code",
   "execution_count": 125,
   "id": "09bc412b-f292-4643-beab-ba5f6f7115d8",
   "metadata": {},
   "outputs": [
    {
     "data": {
      "text/plain": [
       "(7608, 51)"
      ]
     },
     "execution_count": 125,
     "metadata": {},
     "output_type": "execute_result"
    }
   ],
   "source": [
    "OAC[OAC['doi'].apply(lambda x: x in PH['doi'].to_list())].reset_index(drop=True).shape"
   ]
  },
  {
   "cell_type": "code",
   "execution_count": 126,
   "id": "1b096d28-4cc9-4349-bb1c-99503b1f7498",
   "metadata": {},
   "outputs": [
    {
     "data": {
      "text/plain": [
       "{'initial': 11575,\n",
       " 'not 0 authors': 11547,\n",
       " 'authors 1 → 10': 11528,\n",
       " 'not 0 countries': 10381,\n",
       " 'year <= 2022 ': 10121,\n",
       " 'LA countries': 8506,\n",
       " 'topics count > 0': 8452,\n",
       " 'In generic search with Physics and Astromy field in LA in other topics (42125)': 7608}"
      ]
     },
     "execution_count": 126,
     "metadata": {},
     "output_type": "execute_result"
    }
   ],
   "source": [
    "OACPH = OAC[OAC['doi'].apply(lambda x: x in PH['doi'].to_list())].reset_index(drop=True)\n",
    "NOACPH = OAC[OAC['doi'].apply(lambda x: x not in PH['doi'].to_list())].reset_index(drop=True)\n",
    "status['In generic search with Physics and Astromy field in LA in other topics (42125)'] = OACPH.shape[0]\n",
    "status"
   ]
  },
  {
   "cell_type": "markdown",
   "id": "7e822d46-e050-491c-8035-8dc844713328",
   "metadata": {},
   "source": [
    "Check missing search results"
   ]
  },
  {
   "cell_type": "markdown",
   "id": "d8268463-04c5-4735-a07e-56296523d931",
   "metadata": {},
   "source": [
    "Quedan por identificar"
   ]
  },
  {
   "cell_type": "code",
   "execution_count": 127,
   "id": "1bea4590-1a3a-4e24-80b4-18441a860c64",
   "metadata": {},
   "outputs": [
    {
     "data": {
      "text/plain": [
       "844"
      ]
     },
     "execution_count": 127,
     "metadata": {},
     "output_type": "execute_result"
    }
   ],
   "source": [
    "NOACPH.shape[0]"
   ]
  },
  {
   "cell_type": "markdown",
   "id": "a2d6e4f5-49ee-48fb-9630-0f12811a4563",
   "metadata": {},
   "source": [
    "works"
   ]
  },
  {
   "cell_type": "markdown",
   "id": "1e4a98d5-4c56-4351-a411-bc4bf7100a1a",
   "metadata": {},
   "source": [
    "Check if match field"
   ]
  },
  {
   "cell_type": "code",
   "execution_count": 128,
   "id": "7bb797bb-18b3-40bb-8941-5ad51c6d64af",
   "metadata": {},
   "outputs": [],
   "source": [
    "#NNOACPH = NOACPH[~\n",
    "PHNOACPH = NOACPH[NOACPH['topics'].apply(lambda L: {'Physics and Astronomy'}.intersection( \n",
    "    [d.get('field').get('display_name') for d in L])).apply(len)==0]\n",
    "NPHNOACPH = NOACPH[NOACPH['topics'].apply(lambda L: {'Physics and Astronomy'}.intersection( \n",
    "    [d.get('field').get('display_name') for d in L])).apply(len)>0]"
   ]
  },
  {
   "cell_type": "code",
   "execution_count": 129,
   "id": "b959b30f-cb1c-41e4-9245-57bf3975e9c7",
   "metadata": {},
   "outputs": [
    {
     "data": {
      "text/plain": [
       "(844, 51)"
      ]
     },
     "execution_count": 129,
     "metadata": {},
     "output_type": "execute_result"
    }
   ],
   "source": [
    "final = PHNOACPH\n",
    "final.shape"
   ]
  },
  {
   "cell_type": "code",
   "execution_count": 130,
   "id": "304e1b17-7378-4eeb-9fc2-8c4ab4ba3f76",
   "metadata": {},
   "outputs": [
    {
     "data": {
      "text/plain": [
       "(0, 51)"
      ]
     },
     "execution_count": 130,
     "metadata": {},
     "output_type": "execute_result"
    }
   ],
   "source": [
    "NPHNOACPH.shape "
   ]
  },
  {
   "cell_type": "markdown",
   "id": "970521d6-16bd-4cbc-9783-3f8db3757485",
   "metadata": {},
   "source": [
    "Therefore, all of them are associatted to other fields"
   ]
  },
  {
   "cell_type": "markdown",
   "id": "71cbac97-45ea-41b0-94bc-464ccf4b2023",
   "metadata": {},
   "source": [
    "Minor extra analysis"
   ]
  },
  {
   "cell_type": "code",
   "execution_count": 131,
   "id": "27220b78-a837-4b99-be42-06d508684f88",
   "metadata": {},
   "outputs": [
    {
     "data": {
      "text/plain": [
       "{'initial': 11575,\n",
       " 'not 0 authors': 11547,\n",
       " 'authors 1 → 10': 11528,\n",
       " 'not 0 countries': 10381,\n",
       " 'year <= 2022 ': 10121,\n",
       " 'LA countries': 8506,\n",
       " 'topics count > 0': 8452,\n",
       " 'In generic search with Physics and Astromy field in LA in other topics (42125)': 7608,\n",
       " 'New: Not scientific community topics': 7570}"
      ]
     },
     "execution_count": 131,
     "metadata": {},
     "output_type": "execute_result"
    }
   ],
   "source": [
    "OACPHT = OACPH[OACPH['topics'].apply(lambda L: set(topics).intersection([\n",
    "    d.get('id').split('/')[-1].lower() for d in L])).apply(len)==0]\n",
    "status['New: Not scientific community topics'] = OACPHT.shape[0]\n",
    "status"
   ]
  },
  {
   "cell_type": "code",
   "execution_count": 133,
   "id": "00aa7e2c-a77e-4e88-856a-148e1669650c",
   "metadata": {},
   "outputs": [
    {
     "data": {
      "text/plain": [
       "{'initial': 11575,\n",
       " 'not 0 authors': 11547,\n",
       " 'authors 1 → 10': 11528,\n",
       " 'not 0 countries': 10381,\n",
       " 'year <= 2022 ': 10121,\n",
       " 'LA countries': 8506,\n",
       " 'topics count > 0': 8452,\n",
       " 'In generic search with Physics and Astromy field in LA in other topics (42125)': 7608,\n",
       " 'New: Not scientific community topics': 7570,\n",
       " 'New: Not authors in the instersection between INSPIRE-HEP-LA and OpenAlex': 1616}"
      ]
     },
     "execution_count": 133,
     "metadata": {},
     "output_type": "execute_result"
    }
   ],
   "source": [
    "OACPHTA = OACPHT[OACPHT['authorships'].apply(lambda L: set(authors).intersection( \n",
    "    [d.get('author').get('id').split('/')[-1] for d in L] )).apply(len)==0]\n",
    "status['New: Not authors in the instersection between INSPIRE-HEP-LA and OpenAlex'] = OACPHTA.shape[0]\n",
    "status"
   ]
  },
  {
   "cell_type": "code",
   "execution_count": 134,
   "id": "c4dcf2f2-c02c-40b7-a959-eca14949f9d4",
   "metadata": {},
   "outputs": [
    {
     "data": {
      "text/plain": [
       "4.0375000000000005"
      ]
     },
     "execution_count": 134,
     "metadata": {},
     "output_type": "execute_result"
    }
   ],
   "source": [
    "(10121-8506)/40000*100"
   ]
  },
  {
   "cell_type": "code",
   "execution_count": null,
   "id": "7d907347-3e02-4451-80ec-62cd4e92b20d",
   "metadata": {},
   "outputs": [],
   "source": [
    "1616/50000*100"
   ]
  },
  {
   "cell_type": "markdown",
   "id": "211b2c48-cb17-4f4a-bdee-0697784b9f24",
   "metadata": {},
   "source": [
    "Appendix: Search missing dois "
   ]
  },
  {
   "cell_type": "code",
   "execution_count": null,
   "id": "8f34a355-f39e-46f0-bdfe-62d77587af2d",
   "metadata": {},
   "outputs": [],
   "source": [
    "dois = NPHNOACPH['doi'].to_list()"
   ]
  },
  {
   "cell_type": "code",
   "execution_count": null,
   "id": "65fec721-7325-42c6-afcb-9be664325b65",
   "metadata": {},
   "outputs": [],
   "source": [
    "len(dois)"
   ]
  },
  {
   "cell_type": "code",
   "execution_count": null,
   "id": "187bcc0b-13ab-41bf-82a9-7731843cf444",
   "metadata": {},
   "outputs": [],
   "source": [
    "882/50000*100"
   ]
  },
  {
   "cell_type": "code",
   "execution_count": null,
   "id": "5c474ff6-6c40-4864-bf45-408c356e6950",
   "metadata": {},
   "outputs": [],
   "source": [
    "LAINSP = []\n",
    "kk = []\n",
    "i = 0\n",
    "#loop = True"
   ]
  },
  {
   "cell_type": "code",
   "execution_count": null,
   "id": "23dbbc41-2678-4662-b32e-d0779e541bf2",
   "metadata": {},
   "outputs": [],
   "source": [
    "LAINSP = []\n",
    "kk = []\n",
    "i = 0\n",
    "#loop = False"
   ]
  },
  {
   "cell_type": "code",
   "execution_count": null,
   "id": "4d494615-bb53-4d42-b2b9-495e2441411a",
   "metadata": {},
   "outputs": [],
   "source": [
    "p = 200\n",
    "FIELD = '31'\n",
    "TOPICS = 't10048|t10224|t10527|t10921|t11090|t10025|t10095|\\\n",
    "t11415|t11044|t11367|t10463'\n",
    "COUNTRIES = 'countries/ar|countries/bo|countries/br|countries/cl|\\\n",
    "countries/co|countries/cr|countries/cu|countries/do|countries/ec|\\\n",
    "countries/sv|countries/gt|countries/hn|countries/mx|countries/pa|\\\n",
    "countries/py|countries/pe|countries/uy|countries/ve'\n",
    "\n",
    "# topics.id:!{TOPICS},\\\n",
    "if loop:\n",
    "    for doi in dois:\n",
    "        url_topics = f\"https://api.openalex.org/works?page=1&filter=doi:{doi},\\\n",
    "topics.field.id:{FIELD},\\\n",
    "authors_count:1-10,authorships.countries:{COUNTRIES},publication_year:1900-2022\\\n",
    "&mailto=restrepo@udea.edu.co\\\n",
    "&sort=cited_by_count:desc&per_page={p}\"\n",
    "    \n",
    "        j = requests.get(url_topics)\n",
    "        time.sleep(0.1)\n",
    "        \n",
    "        la = j.json()\n",
    "        \n",
    "        la_results = la.get('results')\n",
    "        if la_results:\n",
    "            # the author is indeed in inspire  \n",
    "            LAINSP = LAINSP + la_results\n",
    "            \n",
    "        print(f\"{str(len(LAINSP)).zfill(6)}/{str((i+1)*1).zfill(6)}\",end='\\r')\n",
    "        i += 1"
   ]
  },
  {
   "cell_type": "code",
   "execution_count": null,
   "id": "f356f93d-3fa7-463c-86be-39c8af8bd4cf",
   "metadata": {},
   "outputs": [],
   "source": [
    "if loop:\n",
    "    with open('missing_search.json', 'w') as f:\n",
    "        json.dump(LAINSP,f)"
   ]
  },
  {
   "cell_type": "markdown",
   "id": "a9e46231-557e-4ba9-85e2-f55a6838705e",
   "metadata": {},
   "source": [
    "## report missing papers to inspire hep"
   ]
  },
  {
   "cell_type": "markdown",
   "id": "c28d458d-497b-4f12-a229-5efe3451b876",
   "metadata": {},
   "source": [
    "1) Only in OpenAlex"
   ]
  },
  {
   "cell_type": "code",
   "execution_count": null,
   "id": "8775b23b-67fb-42e4-ba50-b6f4016f29a5",
   "metadata": {},
   "outputs": [],
   "source": [
    "OA.shape"
   ]
  },
  {
   "cell_type": "markdown",
   "id": "bb7a9268-8725-4684-9caa-28c1b3627563",
   "metadata": {},
   "source": [
    "2) Only in scientific community topics"
   ]
  },
  {
   "cell_type": "markdown",
   "id": "ad634c2d-3613-4958-a08b-237fecd45544",
   "metadata": {},
   "source": [
    "3. With papers already in INSPIRE-HEP"
   ]
  },
  {
   "cell_type": "code",
   "execution_count": 249,
   "id": "41d8639b-d9e3-4214-85ee-30dfdd7c8090",
   "metadata": {},
   "outputs": [],
   "source": [
    "import pandas as pd\n",
    "import json\n",
    "import gzip\n",
    "import time"
   ]
  },
  {
   "cell_type": "code",
   "execution_count": 135,
   "id": "eef34b74-40d7-481b-a43e-7347343aae7a",
   "metadata": {},
   "outputs": [],
   "source": [
    "with gzip.open(\"openalex_topics.json.gz\", 'r') as fin:\n",
    "    LA = json.loads(fin.read().decode('utf-8'))"
   ]
  },
  {
   "cell_type": "code",
   "execution_count": 136,
   "id": "4c3105c2-e50c-4406-a872-0c05146b7c5d",
   "metadata": {},
   "outputs": [],
   "source": [
    "df = pd.DataFrame(LA)"
   ]
  },
  {
   "cell_type": "code",
   "execution_count": 138,
   "id": "d8ea6327-8b50-4d76-a434-0ca811d0d0ac",
   "metadata": {},
   "outputs": [],
   "source": [
    "main_topics = ['t10048','t10527', 't11090', 't10921']"
   ]
  },
  {
   "cell_type": "code",
   "execution_count": 142,
   "id": "2ac56353-0ad2-40a5-a9bc-a77580d848cd",
   "metadata": {},
   "outputs": [],
   "source": [
    "df = df[df['topics'].apply(lambda L: set(main_topics).intersection([\n",
    "    d.get('id').split('/')[-1].lower() for d in L])).apply(len)>0]"
   ]
  },
  {
   "cell_type": "code",
   "execution_count": 143,
   "id": "dfd55087-47c9-454d-a7cf-200ac76a00e8",
   "metadata": {},
   "outputs": [
    {
     "data": {
      "text/plain": [
       "(15516, 50)"
      ]
     },
     "execution_count": 143,
     "metadata": {},
     "output_type": "execute_result"
    }
   ],
   "source": [
    "df.shape"
   ]
  },
  {
   "cell_type": "code",
   "execution_count": 144,
   "id": "b77f6dff-eb43-49c9-94ad-b20127588d36",
   "metadata": {},
   "outputs": [],
   "source": [
    "df['doi'] = df['doi'].str.lower().str.split('https://doi.org/').str[-1]"
   ]
  },
  {
   "cell_type": "code",
   "execution_count": 161,
   "id": "7c999fce-d77e-4f1b-bfcc-3f4703298932",
   "metadata": {},
   "outputs": [],
   "source": [
    "GGG = list(set(df['doi']).difference(DD))"
   ]
  },
  {
   "cell_type": "code",
   "execution_count": 162,
   "id": "0f105177-e6e7-4acf-b54f-e8d411a8e005",
   "metadata": {},
   "outputs": [
    {
     "data": {
      "text/plain": [
       "2707"
      ]
     },
     "execution_count": 162,
     "metadata": {},
     "output_type": "execute_result"
    }
   ],
   "source": [
    "len(GGG)"
   ]
  },
  {
   "cell_type": "code",
   "execution_count": 163,
   "id": "89db7ece-fa01-4048-beb1-20c6045686f4",
   "metadata": {},
   "outputs": [
    {
     "data": {
      "text/plain": [
       "['10.48550/arxiv.1111.1034',\n",
       " '10.1142/9789812773951_0018',\n",
       " '10.3390/universe5050115',\n",
       " '10.1051/0004-6361/201016009',\n",
       " '10.1007/978-3-030-26895-4_16']"
      ]
     },
     "execution_count": 163,
     "metadata": {},
     "output_type": "execute_result"
    }
   ],
   "source": [
    "GGG[:5]"
   ]
  },
  {
   "cell_type": "code",
   "execution_count": 164,
   "id": "719b7af4-9eec-4792-a4de-c54e7eba95ed",
   "metadata": {},
   "outputs": [],
   "source": [
    "GGG = [x for x in GGG if x and x.find('arxiv') == -1]"
   ]
  },
  {
   "cell_type": "code",
   "execution_count": 165,
   "id": "cf232332-988f-4376-af34-004c262885bf",
   "metadata": {},
   "outputs": [
    {
     "data": {
      "text/plain": [
       "['10.1142/9789812773951_0018',\n",
       " '10.3390/universe5050115',\n",
       " '10.1051/0004-6361/201016009',\n",
       " '10.1007/978-3-030-26895-4_16',\n",
       " '10.2172/6110556']"
      ]
     },
     "execution_count": 165,
     "metadata": {},
     "output_type": "execute_result"
    }
   ],
   "source": [
    "GGG[:5]"
   ]
  },
  {
   "cell_type": "code",
   "execution_count": 166,
   "id": "5adee6e2-55ef-423d-af03-c82c6c604c35",
   "metadata": {},
   "outputs": [
    {
     "data": {
      "text/plain": [
       "2241"
      ]
     },
     "execution_count": 166,
     "metadata": {},
     "output_type": "execute_result"
    }
   ],
   "source": [
    "len(GGG)"
   ]
  },
  {
   "cell_type": "code",
   "execution_count": 155,
   "id": "cba5cdcf-7b04-48d9-a1b2-b669557968e3",
   "metadata": {},
   "outputs": [
    {
     "data": {
      "text/plain": [
       "0"
      ]
     },
     "execution_count": 155,
     "metadata": {},
     "output_type": "execute_result"
    }
   ],
   "source": [
    "x.find('a')"
   ]
  },
  {
   "cell_type": "code",
   "execution_count": 174,
   "id": "db10b5a1-88a3-4059-9eee-6c396a5c46fc",
   "metadata": {},
   "outputs": [
    {
     "name": "stdout",
     "output_type": "stream",
     "text": [
      "01180\r"
     ]
    }
   ],
   "source": [
    "HH = []\n",
    "GGGG = []\n",
    "i = 0\n",
    "for doi in GGG:\n",
    "    url = f\"https://inspirehep.net/api/literature?q=doi:{doi}&fields=dois\"    \n",
    "    H = get_inspire(url)\n",
    "    time.sleep(0.1)\n",
    "\n",
    "    \n",
    "    \n",
    "    metadata = None\n",
    "    if H:\n",
    "        metadata = H[0].get('metadata')\n",
    "    if not metadata:\n",
    "        GGGG.append(doi)\n",
    "        continue\n",
    "\n",
    "    HH.append(metadata)\n",
    "    print(str(i).zfill(5),end='\\r')\n",
    "    i += 1"
   ]
  },
  {
   "cell_type": "code",
   "execution_count": 175,
   "id": "1a4dd90f-844e-4fe2-89d4-e124fc53e2af",
   "metadata": {},
   "outputs": [
    {
     "data": {
      "text/plain": [
       "1060"
      ]
     },
     "execution_count": 175,
     "metadata": {},
     "output_type": "execute_result"
    }
   ],
   "source": [
    "len(GGGG)"
   ]
  },
  {
   "cell_type": "code",
   "execution_count": 182,
   "id": "e64c041a-f4ca-45bb-af5e-334c7d0e63e7",
   "metadata": {},
   "outputs": [],
   "source": [
    "ni = df[df['doi'].apply(lambda d: d in GGGG)]"
   ]
  },
  {
   "cell_type": "code",
   "execution_count": 183,
   "id": "33cc9a44-aef1-4d92-be55-41aec781e8ec",
   "metadata": {},
   "outputs": [
    {
     "data": {
      "text/plain": [
       "Index(['id', 'doi', 'title', 'display_name', 'publication_year',\n",
       "       'publication_date', 'ids', 'language', 'primary_location', 'type',\n",
       "       'type_crossref', 'indexed_in', 'open_access', 'authorships',\n",
       "       'institution_assertions', 'countries_distinct_count',\n",
       "       'institutions_distinct_count', 'corresponding_author_ids',\n",
       "       'corresponding_institution_ids', 'apc_list', 'apc_paid', 'fwci',\n",
       "       'has_fulltext', 'fulltext_origin', 'cited_by_count',\n",
       "       'citation_normalized_percentile', 'cited_by_percentile_year', 'biblio',\n",
       "       'is_retracted', 'is_paratext', 'primary_topic', 'topics', 'keywords',\n",
       "       'concepts', 'mesh', 'locations_count', 'locations', 'best_oa_location',\n",
       "       'sustainable_development_goals', 'grants', 'datasets', 'versions',\n",
       "       'referenced_works_count', 'referenced_works', 'related_works',\n",
       "       'abstract_inverted_index', 'cited_by_api_url', 'counts_by_year',\n",
       "       'updated_date', 'created_date'],\n",
       "      dtype='object')"
      ]
     },
     "execution_count": 183,
     "metadata": {},
     "output_type": "execute_result"
    }
   ],
   "source": []
  },
  {
   "cell_type": "code",
   "execution_count": 188,
   "id": "70b03623-836f-4899-89cc-d502451d15ff",
   "metadata": {},
   "outputs": [],
   "source": [
    "pd.set_option('display.max_colwidth', 100) "
   ]
  },
  {
   "cell_type": "code",
   "execution_count": 227,
   "id": "f20a2844-bec0-49c7-896c-f55e742a34ba",
   "metadata": {},
   "outputs": [
    {
     "data": {
      "text/plain": [
       "(784, 51)"
      ]
     },
     "execution_count": 227,
     "metadata": {},
     "output_type": "execute_result"
    }
   ],
   "source": [
    "nia = ni[ni['authorships'].apply(lambda L: set(authors).intersection(\n",
    "     [d.get('author').get('id').split('/')[-1] for d in L])).apply(len)>0].reset_index(drop=True)\n",
    "nia.shape"
   ]
  },
  {
   "cell_type": "code",
   "execution_count": 228,
   "id": "1581a9d6-dd32-4e9a-bcc4-da100e28255a",
   "metadata": {},
   "outputs": [],
   "source": [
    "nis = nia[nia['primary_topic'].str['id'].str.split('/').str[-1].str.lower(\n",
    "    ).apply(lambda t: t in main_topics)].reset_index(drop=True)\n",
    "nis['primary_topic.score'] = nis['primary_topic'].str['score']"
   ]
  },
  {
   "cell_type": "code",
   "execution_count": 229,
   "id": "6be9a5b1-33cd-4f37-a71b-2b7646eb1ced",
   "metadata": {},
   "outputs": [
    {
     "data": {
      "text/plain": [
       "(308, 52)"
      ]
     },
     "execution_count": 229,
     "metadata": {},
     "output_type": "execute_result"
    }
   ],
   "source": [
    "nis.shape"
   ]
  },
  {
   "cell_type": "code",
   "execution_count": 232,
   "id": "2b3cfaaa-aa69-462c-b037-c166e397602e",
   "metadata": {},
   "outputs": [
    {
     "data": {
      "text/html": [
       "<div>\n",
       "<style scoped>\n",
       "    .dataframe tbody tr th:only-of-type {\n",
       "        vertical-align: middle;\n",
       "    }\n",
       "\n",
       "    .dataframe tbody tr th {\n",
       "        vertical-align: top;\n",
       "    }\n",
       "\n",
       "    .dataframe thead th {\n",
       "        text-align: right;\n",
       "    }\n",
       "</style>\n",
       "<table border=\"1\" class=\"dataframe\">\n",
       "  <thead>\n",
       "    <tr style=\"text-align: right;\">\n",
       "      <th></th>\n",
       "      <th>doi</th>\n",
       "      <th>title</th>\n",
       "      <th>publication_year</th>\n",
       "      <th>cited_by_count</th>\n",
       "      <th>primary_topic.score</th>\n",
       "    </tr>\n",
       "  </thead>\n",
       "  <tbody>\n",
       "    <tr>\n",
       "      <th>56</th>\n",
       "      <td>10.1007/bf01438458</td>\n",
       "      <td>Particle-vibration coupling effects in211At</td>\n",
       "      <td>1984</td>\n",
       "      <td>4</td>\n",
       "      <td>0.9923</td>\n",
       "    </tr>\n",
       "    <tr>\n",
       "      <th>55</th>\n",
       "      <td>10.1142/s0217732399001413</td>\n",
       "      <td>CHIRAL ASYMMETRY AND GAUGE INVARIANCE</td>\n",
       "      <td>1999</td>\n",
       "      <td>4</td>\n",
       "      <td>0.9999</td>\n",
       "    </tr>\n",
       "    <tr>\n",
       "      <th>54</th>\n",
       "      <td>10.1007/bf01415748</td>\n",
       "      <td>Improved limit on the induced scalar interaction in nuclear?-decay</td>\n",
       "      <td>1981</td>\n",
       "      <td>4</td>\n",
       "      <td>0.9998</td>\n",
       "    </tr>\n",
       "    <tr>\n",
       "      <th>48</th>\n",
       "      <td>10.1007/bf02732553</td>\n",
       "      <td>The Σ→p+γ decay induced by heavy vector mesons</td>\n",
       "      <td>1959</td>\n",
       "      <td>4</td>\n",
       "      <td>0.9995</td>\n",
       "    </tr>\n",
       "    <tr>\n",
       "      <th>52</th>\n",
       "      <td>10.1007/bf02756993</td>\n",
       "      <td>A current-algebra calculation of the charged radiative η-decays</td>\n",
       "      <td>1967</td>\n",
       "      <td>4</td>\n",
       "      <td>0.9965</td>\n",
       "    </tr>\n",
       "    <tr>\n",
       "      <th>51</th>\n",
       "      <td>10.1007/978-3-319-75178-8_31</td>\n",
       "      <td>A High-Throughput Kalman Filter for Modern SIMD Architectures</td>\n",
       "      <td>2018</td>\n",
       "      <td>4</td>\n",
       "      <td>0.9989</td>\n",
       "    </tr>\n",
       "    <tr>\n",
       "      <th>50</th>\n",
       "      <td>10.1007/978-1-4419-8273-5_1</td>\n",
       "      <td>The Fundamental Interactions</td>\n",
       "      <td>2011</td>\n",
       "      <td>4</td>\n",
       "      <td>0.9993</td>\n",
       "    </tr>\n",
       "    <tr>\n",
       "      <th>49</th>\n",
       "      <td>10.22323/1.197.0026</td>\n",
       "      <td>Next-to-leading order diphoton+2-jet production at the LHC</td>\n",
       "      <td>2014</td>\n",
       "      <td>4</td>\n",
       "      <td>0.9992</td>\n",
       "    </tr>\n",
       "    <tr>\n",
       "      <th>66</th>\n",
       "      <td>10.1063/5.0052503</td>\n",
       "      <td>Neutron-induced point defects and luminescence properties of enriched Zn82Se crystals</td>\n",
       "      <td>2021</td>\n",
       "      <td>3</td>\n",
       "      <td>0.9989</td>\n",
       "    </tr>\n",
       "    <tr>\n",
       "      <th>72</th>\n",
       "      <td>10.1086/116692</td>\n",
       "      <td>Dark matter in SC galaxies</td>\n",
       "      <td>1993</td>\n",
       "      <td>3</td>\n",
       "      <td>0.9952</td>\n",
       "    </tr>\n",
       "    <tr>\n",
       "      <th>71</th>\n",
       "      <td>10.1143/ptp/88.1.53</td>\n",
       "      <td>Inelasticity in Nucleon-Nucleon and Nucleon-Nucleus Collision</td>\n",
       "      <td>1992</td>\n",
       "      <td>3</td>\n",
       "      <td>0.9973</td>\n",
       "    </tr>\n",
       "    <tr>\n",
       "      <th>70</th>\n",
       "      <td>10.1016/0920-5632(94)90308-5</td>\n",
       "      <td>Effect of v-v interactions on neutrino-flavor evolution</td>\n",
       "      <td>1994</td>\n",
       "      <td>3</td>\n",
       "      <td>1.0000</td>\n",
       "    </tr>\n",
       "    <tr>\n",
       "      <th>69</th>\n",
       "      <td>10.1007/978-3-642-59982-8_162</td>\n",
       "      <td>Constraints on Finite Soft Supersymmetry Breaking Terms</td>\n",
       "      <td>1999</td>\n",
       "      <td>3</td>\n",
       "      <td>1.0000</td>\n",
       "    </tr>\n",
       "    <tr>\n",
       "      <th>68</th>\n",
       "      <td>10.1016/s0920-5632(99)00226-1</td>\n",
       "      <td>Comparison of Centauro and usual γ's events</td>\n",
       "      <td>1999</td>\n",
       "      <td>3</td>\n",
       "      <td>0.9996</td>\n",
       "    </tr>\n",
       "    <tr>\n",
       "      <th>67</th>\n",
       "      <td>10.1007/s100520050052</td>\n",
       "      <td>Three- and two-point one-loop integrals in heavy particle effective theories</td>\n",
       "      <td>2000</td>\n",
       "      <td>3</td>\n",
       "      <td>0.9990</td>\n",
       "    </tr>\n",
       "    <tr>\n",
       "      <th>58</th>\n",
       "      <td>10.11606/d.43.2016.tde-18072016-183858</td>\n",
       "      <td>Strongly coupled non-Abelian plasmas in a magnetic field</td>\n",
       "      <td>2016</td>\n",
       "      <td>3</td>\n",
       "      <td>0.9999</td>\n",
       "    </tr>\n",
       "    <tr>\n",
       "      <th>65</th>\n",
       "      <td>10.1515/zna-2020-0304</td>\n",
       "      <td>Remarks on axion-electrodynamics</td>\n",
       "      <td>2021</td>\n",
       "      <td>3</td>\n",
       "      <td>1.0000</td>\n",
       "    </tr>\n",
       "    <tr>\n",
       "      <th>63</th>\n",
       "      <td>10.1103/physrev.145.1154</td>\n",
       "      <td>Tenth&lt;mml:math xmlns:mml=\"http://www.w3.org/1998/Math/MathML\" display=\"inline\"&gt;&lt;mml:mrow&gt;&lt;mml:ms...</td>\n",
       "      <td>1966</td>\n",
       "      <td>3</td>\n",
       "      <td>0.9999</td>\n",
       "    </tr>\n",
       "    <tr>\n",
       "      <th>62</th>\n",
       "      <td>10.1007/s40313-022-00907-0</td>\n",
       "      <td>Performance of Optimal Linear Filtering Methods for Signal Estimation in High-Energy Calorimetry</td>\n",
       "      <td>2022</td>\n",
       "      <td>3</td>\n",
       "      <td>0.9978</td>\n",
       "    </tr>\n",
       "    <tr>\n",
       "      <th>61</th>\n",
       "      <td>10.1109/nssmic.2009.5402188</td>\n",
       "      <td>A receiver system for the TileCal muon signals</td>\n",
       "      <td>2009</td>\n",
       "      <td>3</td>\n",
       "      <td>0.9994</td>\n",
       "    </tr>\n",
       "    <tr>\n",
       "      <th>60</th>\n",
       "      <td>10.1007/bf02746333</td>\n",
       "      <td>Angular distribution in π→μ+ν decay</td>\n",
       "      <td>1961</td>\n",
       "      <td>3</td>\n",
       "      <td>0.9984</td>\n",
       "    </tr>\n",
       "    <tr>\n",
       "      <th>59</th>\n",
       "      <td>10.1063/1.4967592</td>\n",
       "      <td>Equilibrium and non-equilibrium properties of a relativistic gas at the transition temperature</td>\n",
       "      <td>2016</td>\n",
       "      <td>3</td>\n",
       "      <td>0.9993</td>\n",
       "    </tr>\n",
       "    <tr>\n",
       "      <th>64</th>\n",
       "      <td>10.1142/9789812702463_0016</td>\n",
       "      <td>CONSTRAINING ELECTROWEAK PHYSICS</td>\n",
       "      <td>2004</td>\n",
       "      <td>3</td>\n",
       "      <td>0.9994</td>\n",
       "    </tr>\n",
       "    <tr>\n",
       "      <th>93</th>\n",
       "      <td>10.1007/bf01294745</td>\n",
       "      <td>Exact formulation of particle-hole state densities in the equidistant spacing model with pauli a...</td>\n",
       "      <td>1989</td>\n",
       "      <td>2</td>\n",
       "      <td>0.9996</td>\n",
       "    </tr>\n",
       "    <tr>\n",
       "      <th>88</th>\n",
       "      <td>10.1007/978-1-4684-3833-8_16</td>\n",
       "      <td>Review of the Group Theory Behind the Interacting Boson Model of the Nucleus</td>\n",
       "      <td>1980</td>\n",
       "      <td>2</td>\n",
       "      <td>0.5011</td>\n",
       "    </tr>\n",
       "    <tr>\n",
       "      <th>89</th>\n",
       "      <td>10.1007/s100520050033</td>\n",
       "      <td>Mixing of two-level unstable systems</td>\n",
       "      <td>1999</td>\n",
       "      <td>2</td>\n",
       "      <td>0.9997</td>\n",
       "    </tr>\n",
       "    <tr>\n",
       "      <th>90</th>\n",
       "      <td>10.1007/978-3-642-59982-8_126</td>\n",
       "      <td>A New Symmetry of Quark-Yukawa Couplings</td>\n",
       "      <td>1999</td>\n",
       "      <td>2</td>\n",
       "      <td>1.0000</td>\n",
       "    </tr>\n",
       "    <tr>\n",
       "      <th>92</th>\n",
       "      <td>10.1007/s100520050450</td>\n",
       "      <td>Scaling violation and shadowing corrections at HERA</td>\n",
       "      <td>1999</td>\n",
       "      <td>2</td>\n",
       "      <td>0.9988</td>\n",
       "    </tr>\n",
       "    <tr>\n",
       "      <th>96</th>\n",
       "      <td>10.1063/1.530948</td>\n",
       "      <td>Multivariable Grassmann integrals and the high temperature expansion of interacting fermionic mo...</td>\n",
       "      <td>1995</td>\n",
       "      <td>2</td>\n",
       "      <td>0.9997</td>\n",
       "    </tr>\n",
       "    <tr>\n",
       "      <th>94</th>\n",
       "      <td>10.1007/978-94-009-4728-3_36</td>\n",
       "      <td>A System of Vectors and Spinors in Complex Spacetime and their Application to Elementary Particl...</td>\n",
       "      <td>1986</td>\n",
       "      <td>2</td>\n",
       "      <td>0.9972</td>\n",
       "    </tr>\n",
       "    <tr>\n",
       "      <th>95</th>\n",
       "      <td>10.1088/0954-3899/21/1/008</td>\n",
       "      <td>Electron scattering by&lt;sup&gt;12&lt;/sup&gt;C in the microscopic Sp&lt;sub&gt;perpendicular to&lt;/sub&gt;(1,R) model</td>\n",
       "      <td>1995</td>\n",
       "      <td>2</td>\n",
       "      <td>0.9944</td>\n",
       "    </tr>\n",
       "    <tr>\n",
       "      <th>86</th>\n",
       "      <td>10.5281/zenodo.4593330</td>\n",
       "      <td>Chi2 profiles from Valencia neutrino global fit</td>\n",
       "      <td>2021</td>\n",
       "      <td>2</td>\n",
       "      <td>0.9996</td>\n",
       "    </tr>\n",
       "    <tr>\n",
       "      <th>97</th>\n",
       "      <td>10.1016/s0920-5632(05)80064-7</td>\n",
       "      <td>Phenomenological description of p and pp elastic scattering above 10 GeV</td>\n",
       "      <td>1992</td>\n",
       "      <td>2</td>\n",
       "      <td>0.9994</td>\n",
       "    </tr>\n",
       "    <tr>\n",
       "      <th>98</th>\n",
       "      <td>10.2172/5925638</td>\n",
       "      <td>Measuring strangeness matrix elements of the nucleon</td>\n",
       "      <td>1991</td>\n",
       "      <td>2</td>\n",
       "      <td>0.9970</td>\n",
       "    </tr>\n",
       "    <tr>\n",
       "      <th>87</th>\n",
       "      <td>10.1142/s0217751x00001348</td>\n",
       "      <td>STRUCTURE, FRAGMENTATION AND FRACTURE FUNCTIONS</td>\n",
       "      <td>2000</td>\n",
       "      <td>2</td>\n",
       "      <td>0.9999</td>\n",
       "    </tr>\n",
       "    <tr>\n",
       "      <th>91</th>\n",
       "      <td>10.1023/a:1021215925148</td>\n",
       "      <td>None</td>\n",
       "      <td>1998</td>\n",
       "      <td>2</td>\n",
       "      <td>0.9997</td>\n",
       "    </tr>\n",
       "    <tr>\n",
       "      <th>85</th>\n",
       "      <td>10.4236/jmp.2021.129077</td>\n",
       "      <td>Active-Sterile Neutrino Oscillations and Leptogenesis</td>\n",
       "      <td>2021</td>\n",
       "      <td>2</td>\n",
       "      <td>0.9999</td>\n",
       "    </tr>\n",
       "    <tr>\n",
       "      <th>78</th>\n",
       "      <td>10.4236/jmp.2013.412a1001</td>\n",
       "      <td>CC and NC Pion Production</td>\n",
       "      <td>2013</td>\n",
       "      <td>2</td>\n",
       "      <td>0.9999</td>\n",
       "    </tr>\n",
       "    <tr>\n",
       "      <th>84</th>\n",
       "      <td>10.1016/j.jlumin.2021.117930</td>\n",
       "      <td>Establishment of the conditions to improve the luminescence properties of ZnSe for application a...</td>\n",
       "      <td>2021</td>\n",
       "      <td>2</td>\n",
       "      <td>0.9978</td>\n",
       "    </tr>\n",
       "    <tr>\n",
       "      <th>73</th>\n",
       "      <td>10.18257/raccefyn.153</td>\n",
       "      <td>Búsquedas de Materia Oscura Supersimétrica en el LHC</td>\n",
       "      <td>2014</td>\n",
       "      <td>2</td>\n",
       "      <td>0.9971</td>\n",
       "    </tr>\n",
       "    <tr>\n",
       "      <th>74</th>\n",
       "      <td>10.24297/jap.v8i1.1528</td>\n",
       "      <td>A non-abelian model SU(N) Ã— SU(N)</td>\n",
       "      <td>2015</td>\n",
       "      <td>2</td>\n",
       "      <td>0.9996</td>\n",
       "    </tr>\n",
       "    <tr>\n",
       "      <th>76</th>\n",
       "      <td>10.1051/epjconf/20136900017</td>\n",
       "      <td>Photon and proton induced fission on heavy nuclei at intermediate energies</td>\n",
       "      <td>2014</td>\n",
       "      <td>2</td>\n",
       "      <td>0.9991</td>\n",
       "    </tr>\n",
       "    <tr>\n",
       "      <th>77</th>\n",
       "      <td>10.1051/epjconf/20134302004</td>\n",
       "      <td>The galactic globular cluster M5 (NGC 5904) as a particle physics laboratory</td>\n",
       "      <td>2013</td>\n",
       "      <td>2</td>\n",
       "      <td>0.9996</td>\n",
       "    </tr>\n",
       "    <tr>\n",
       "      <th>75</th>\n",
       "      <td>10.1016/0029-5582(59)90298-6</td>\n",
       "      <td>On the electron-muon mass difference</td>\n",
       "      <td>1959</td>\n",
       "      <td>2</td>\n",
       "      <td>0.9991</td>\n",
       "    </tr>\n",
       "    <tr>\n",
       "      <th>79</th>\n",
       "      <td>10.1088/0954-3899/37/9/090301</td>\n",
       "      <td>Strangeness in Quark Matter (SQM2009)</td>\n",
       "      <td>2010</td>\n",
       "      <td>2</td>\n",
       "      <td>0.9154</td>\n",
       "    </tr>\n",
       "    <tr>\n",
       "      <th>80</th>\n",
       "      <td>10.1007/bf02832920</td>\n",
       "      <td>Broken symmetries and the electron-muon problem.—II</td>\n",
       "      <td>1965</td>\n",
       "      <td>2</td>\n",
       "      <td>0.9999</td>\n",
       "    </tr>\n",
       "    <tr>\n",
       "      <th>81</th>\n",
       "      <td>10.1007/978-3-030-92159-0_9</td>\n",
       "      <td>Neutrino Astrophysics</td>\n",
       "      <td>2022</td>\n",
       "      <td>2</td>\n",
       "      <td>0.9999</td>\n",
       "    </tr>\n",
       "    <tr>\n",
       "      <th>82</th>\n",
       "      <td>10.1007/bf02891022</td>\n",
       "      <td>AsymptoticSU 3 and K13 decay form factors</td>\n",
       "      <td>1968</td>\n",
       "      <td>2</td>\n",
       "      <td>0.9997</td>\n",
       "    </tr>\n",
       "    <tr>\n",
       "      <th>83</th>\n",
       "      <td>10.1016/j.asr.2004.03.009</td>\n",
       "      <td>Trapped antiprotons produced by cosmic rays in the Earth's magnetosphere</td>\n",
       "      <td>2004</td>\n",
       "      <td>2</td>\n",
       "      <td>0.9998</td>\n",
       "    </tr>\n",
       "    <tr>\n",
       "      <th>126</th>\n",
       "      <td>10.1142/9789812777386_0086</td>\n",
       "      <td>STATIC ANISOTROPIC SOLUTIONS TO EINSTEIN EQUATION WITH A NONLOCAL EQUATION OF STATE</td>\n",
       "      <td>2002</td>\n",
       "      <td>1</td>\n",
       "      <td>0.9925</td>\n",
       "    </tr>\n",
       "  </tbody>\n",
       "</table>\n",
       "</div>"
      ],
      "text/plain": [
       "                                        doi  \\\n",
       "56                       10.1007/bf01438458   \n",
       "55                10.1142/s0217732399001413   \n",
       "54                       10.1007/bf01415748   \n",
       "48                       10.1007/bf02732553   \n",
       "52                       10.1007/bf02756993   \n",
       "51             10.1007/978-3-319-75178-8_31   \n",
       "50              10.1007/978-1-4419-8273-5_1   \n",
       "49                      10.22323/1.197.0026   \n",
       "66                        10.1063/5.0052503   \n",
       "72                           10.1086/116692   \n",
       "71                      10.1143/ptp/88.1.53   \n",
       "70             10.1016/0920-5632(94)90308-5   \n",
       "69            10.1007/978-3-642-59982-8_162   \n",
       "68            10.1016/s0920-5632(99)00226-1   \n",
       "67                    10.1007/s100520050052   \n",
       "58   10.11606/d.43.2016.tde-18072016-183858   \n",
       "65                    10.1515/zna-2020-0304   \n",
       "63                 10.1103/physrev.145.1154   \n",
       "62               10.1007/s40313-022-00907-0   \n",
       "61              10.1109/nssmic.2009.5402188   \n",
       "60                       10.1007/bf02746333   \n",
       "59                        10.1063/1.4967592   \n",
       "64               10.1142/9789812702463_0016   \n",
       "93                       10.1007/bf01294745   \n",
       "88             10.1007/978-1-4684-3833-8_16   \n",
       "89                    10.1007/s100520050033   \n",
       "90            10.1007/978-3-642-59982-8_126   \n",
       "92                    10.1007/s100520050450   \n",
       "96                         10.1063/1.530948   \n",
       "94             10.1007/978-94-009-4728-3_36   \n",
       "95               10.1088/0954-3899/21/1/008   \n",
       "86                   10.5281/zenodo.4593330   \n",
       "97            10.1016/s0920-5632(05)80064-7   \n",
       "98                          10.2172/5925638   \n",
       "87                10.1142/s0217751x00001348   \n",
       "91                  10.1023/a:1021215925148   \n",
       "85                  10.4236/jmp.2021.129077   \n",
       "78                10.4236/jmp.2013.412a1001   \n",
       "84             10.1016/j.jlumin.2021.117930   \n",
       "73                    10.18257/raccefyn.153   \n",
       "74                   10.24297/jap.v8i1.1528   \n",
       "76              10.1051/epjconf/20136900017   \n",
       "77              10.1051/epjconf/20134302004   \n",
       "75             10.1016/0029-5582(59)90298-6   \n",
       "79            10.1088/0954-3899/37/9/090301   \n",
       "80                       10.1007/bf02832920   \n",
       "81              10.1007/978-3-030-92159-0_9   \n",
       "82                       10.1007/bf02891022   \n",
       "83                10.1016/j.asr.2004.03.009   \n",
       "126              10.1142/9789812777386_0086   \n",
       "\n",
       "                                                                                                   title  \\\n",
       "56                                                           Particle-vibration coupling effects in211At   \n",
       "55                                                                 CHIRAL ASYMMETRY AND GAUGE INVARIANCE   \n",
       "54                                    Improved limit on the induced scalar interaction in nuclear?-decay   \n",
       "48                                                        The Σ→p+γ decay induced by heavy vector mesons   \n",
       "52                                       A current-algebra calculation of the charged radiative η-decays   \n",
       "51                                         A High-Throughput Kalman Filter for Modern SIMD Architectures   \n",
       "50                                                                          The Fundamental Interactions   \n",
       "49                                            Next-to-leading order diphoton+2-jet production at the LHC   \n",
       "66                 Neutron-induced point defects and luminescence properties of enriched Zn82Se crystals   \n",
       "72                                                                            Dark matter in SC galaxies   \n",
       "71                                         Inelasticity in Nucleon-Nucleon and Nucleon-Nucleus Collision   \n",
       "70                                               Effect of v-v interactions on neutrino-flavor evolution   \n",
       "69                                               Constraints on Finite Soft Supersymmetry Breaking Terms   \n",
       "68                                                           Comparison of Centauro and usual γ's events   \n",
       "67                          Three- and two-point one-loop integrals in heavy particle effective theories   \n",
       "58                                              Strongly coupled non-Abelian plasmas in a magnetic field   \n",
       "65                                                                      Remarks on axion-electrodynamics   \n",
       "63   Tenth<mml:math xmlns:mml=\"http://www.w3.org/1998/Math/MathML\" display=\"inline\"><mml:mrow><mml:ms...   \n",
       "62      Performance of Optimal Linear Filtering Methods for Signal Estimation in High-Energy Calorimetry   \n",
       "61                                                        A receiver system for the TileCal muon signals   \n",
       "60                                                                   Angular distribution in π→μ+ν decay   \n",
       "59        Equilibrium and non-equilibrium properties of a relativistic gas at the transition temperature   \n",
       "64                                                                      CONSTRAINING ELECTROWEAK PHYSICS   \n",
       "93   Exact formulation of particle-hole state densities in the equidistant spacing model with pauli a...   \n",
       "88                          Review of the Group Theory Behind the Interacting Boson Model of the Nucleus   \n",
       "89                                                                  Mixing of two-level unstable systems   \n",
       "90                                                              A New Symmetry of Quark-Yukawa Couplings   \n",
       "92                                                   Scaling violation and shadowing corrections at HERA   \n",
       "96   Multivariable Grassmann integrals and the high temperature expansion of interacting fermionic mo...   \n",
       "94   A System of Vectors and Spinors in Complex Spacetime and their Application to Elementary Particl...   \n",
       "95      Electron scattering by<sup>12</sup>C in the microscopic Sp<sub>perpendicular to</sub>(1,R) model   \n",
       "86                                                       Chi2 profiles from Valencia neutrino global fit   \n",
       "97                              Phenomenological description of p and pp elastic scattering above 10 GeV   \n",
       "98                                                  Measuring strangeness matrix elements of the nucleon   \n",
       "87                                                       STRUCTURE, FRAGMENTATION AND FRACTURE FUNCTIONS   \n",
       "91                                                                                                  None   \n",
       "85                                                 Active-Sterile Neutrino Oscillations and Leptogenesis   \n",
       "78                                                                             CC and NC Pion Production   \n",
       "84   Establishment of the conditions to improve the luminescence properties of ZnSe for application a...   \n",
       "73                                                  Búsquedas de Materia Oscura Supersimétrica en el LHC   \n",
       "74                                                                    A non-abelian model SU(N) Ã— SU(N)   \n",
       "76                            Photon and proton induced fission on heavy nuclei at intermediate energies   \n",
       "77                          The galactic globular cluster M5 (NGC 5904) as a particle physics laboratory   \n",
       "75                                                                  On the electron-muon mass difference   \n",
       "79                                                                 Strangeness in Quark Matter (SQM2009)   \n",
       "80                                                   Broken symmetries and the electron-muon problem.—II   \n",
       "81                                                                                 Neutrino Astrophysics   \n",
       "82                                                             AsymptoticSU 3 and K13 decay form factors   \n",
       "83                              Trapped antiprotons produced by cosmic rays in the Earth's magnetosphere   \n",
       "126                  STATIC ANISOTROPIC SOLUTIONS TO EINSTEIN EQUATION WITH A NONLOCAL EQUATION OF STATE   \n",
       "\n",
       "     publication_year  cited_by_count  primary_topic.score  \n",
       "56               1984               4               0.9923  \n",
       "55               1999               4               0.9999  \n",
       "54               1981               4               0.9998  \n",
       "48               1959               4               0.9995  \n",
       "52               1967               4               0.9965  \n",
       "51               2018               4               0.9989  \n",
       "50               2011               4               0.9993  \n",
       "49               2014               4               0.9992  \n",
       "66               2021               3               0.9989  \n",
       "72               1993               3               0.9952  \n",
       "71               1992               3               0.9973  \n",
       "70               1994               3               1.0000  \n",
       "69               1999               3               1.0000  \n",
       "68               1999               3               0.9996  \n",
       "67               2000               3               0.9990  \n",
       "58               2016               3               0.9999  \n",
       "65               2021               3               1.0000  \n",
       "63               1966               3               0.9999  \n",
       "62               2022               3               0.9978  \n",
       "61               2009               3               0.9994  \n",
       "60               1961               3               0.9984  \n",
       "59               2016               3               0.9993  \n",
       "64               2004               3               0.9994  \n",
       "93               1989               2               0.9996  \n",
       "88               1980               2               0.5011  \n",
       "89               1999               2               0.9997  \n",
       "90               1999               2               1.0000  \n",
       "92               1999               2               0.9988  \n",
       "96               1995               2               0.9997  \n",
       "94               1986               2               0.9972  \n",
       "95               1995               2               0.9944  \n",
       "86               2021               2               0.9996  \n",
       "97               1992               2               0.9994  \n",
       "98               1991               2               0.9970  \n",
       "87               2000               2               0.9999  \n",
       "91               1998               2               0.9997  \n",
       "85               2021               2               0.9999  \n",
       "78               2013               2               0.9999  \n",
       "84               2021               2               0.9978  \n",
       "73               2014               2               0.9971  \n",
       "74               2015               2               0.9996  \n",
       "76               2014               2               0.9991  \n",
       "77               2013               2               0.9996  \n",
       "75               1959               2               0.9991  \n",
       "79               2010               2               0.9154  \n",
       "80               1965               2               0.9999  \n",
       "81               2022               2               0.9999  \n",
       "82               1968               2               0.9997  \n",
       "83               2004               2               0.9998  \n",
       "126              2002               1               0.9925  "
      ]
     },
     "execution_count": 232,
     "metadata": {},
     "output_type": "execute_result"
    }
   ],
   "source": [
    "nis.sort_values('cited_by_count',ascending=False)[['doi','title','publication_year','cited_by_count','primary_topic.score']][50:100]"
   ]
  },
  {
   "cell_type": "code",
   "execution_count": 245,
   "id": "7da500b4-dd1d-4e08-b6b1-457563a0e4ee",
   "metadata": {},
   "outputs": [
    {
     "data": {
      "text/plain": [
       "'doi:10.1016/0003-4916(84)90052-6 or doi:10.1007/3-540-45371-7_6 or doi:10.1007/978-3-030-82077-0 or doi:10.1140/epjc/s2004-01851-0 or doi:10.1007/978-1-4757-0917-9 or doi:10.1103/physrevlett.72.2147 or doi:10.1088/1748-0221/11/07/p07018 or doi:10.1007/bf02812523 or doi:10.5281/zenodo.4726908 or doi:10.1063/1.4939535 or doi:10.1142/s0218301307008665 or doi:10.1116/1.3039679 or doi:10.1007/s100529800841 or doi:10.1063/1.1668645 or doi:10.1590/s0103-97332004000500053 or doi:10.1088/0954-3899/41/12/120301 or doi:10.1063/1.873252 or doi:10.1063/1.4896254 or doi:10.31526/lhep.1.2019 or doi:10.1590/s0103-97332007000100025 or doi:10.1016/s0927-6505(01)00101-3 or doi:10.1029/2002gl016146 or doi:10.1103/physrev.69.237 or doi:10.1142/s0218301308006156 or doi:10.1088/0305-4616/7/9/003 or doi:10.1007/bf01434629 or doi:10.1103/physrevd.91.054007 or doi:10.1039/c2ja10305b or doi:10.4236/ijaa.2021.111004 or doi:10.1590/s0103-97332007000700016 or doi:10.1017/s0022377804003575 or doi:10.1016/s0378-4371(04)00991-4 or doi:10.1016/s1364-6826(96)00040-5 or doi:10.1007/bf02523763 or doi:10.1007/bf01287267 or doi:10.1103/physrevd.7.2783 or doi:10.1590/s0103-97332004000700018 or doi:10.1140/epjc/s2004-01821-6 or doi:10.1590/s0103-97331997000300008 or doi:10.1007/bf03156117 or doi:10.1007/bf02812839 or doi:10.1007/bf02827779 or doi:10.4213/tmf8740 or doi:10.1002/3527600434.eap567.pub2 or doi:10.4236/ijaa.2019.94026 or doi:10.52591/202107246 or doi:10.1590/s1806-11172005000100018 or doi:10.1016/s0168-9002(97)00407-5 or doi:10.1007/bf02732553 or doi:10.22323/1.197.0026 or doi:10.1007/978-1-4419-8273-5_1 or doi:10.1007/978-3-319-75178-8_31 or doi:10.1007/bf02756993 or doi:10.1063/1.1805922 or doi:10.1007/bf01415748 or doi:10.1142/s0217732399001413 or doi:10.1007/bf01438458 or doi:10.1007/bf00651559 or doi:10.11606/d.43.2016.tde-18072016-183858 or doi:10.1063/1.4967592 or doi:10.1007/bf02746333 or doi:10.1109/nssmic.2009.5402188 or doi:10.1007/s40313-022-00907-0 or doi:10.1103/physrev.145.1154 or doi:10.1142/9789812702463_0016 or doi:10.1515/zna-2020-0304 or doi:10.1063/5.0052503 or doi:10.1007/s100520050052 or doi:10.1016/s0920-5632(99)00226-1 or doi:10.1007/978-3-642-59982-8_162 or doi:10.1016/0920-5632(94)90308-5 or doi:10.1143/ptp/88.1.53 or doi:10.1086/116692 or doi:10.18257/raccefyn.153 or doi:10.24297/jap.v8i1.1528 or doi:10.1016/0029-5582(59)90298-6 or doi:10.1051/epjconf/20136900017 or doi:10.1051/epjconf/20134302004 or doi:10.4236/jmp.2013.412a1001 or doi:10.1088/0954-3899/37/9/090301 or doi:10.1007/bf02832920 or doi:10.1007/978-3-030-92159-0_9 or doi:10.1007/bf02891022 or doi:10.1016/j.asr.2004.03.009 or doi:10.1016/j.jlumin.2021.117930 or doi:10.4236/jmp.2021.129077 or doi:10.5281/zenodo.4593330 or doi:10.1142/s0217751x00001348 or doi:10.1007/978-1-4684-3833-8_16 or doi:10.1007/s100520050033 or doi:10.1007/978-3-642-59982-8_126 or doi:10.1023/a:1021215925148 or doi:10.1007/s100520050450 or doi:10.1007/bf01294745 or doi:10.1007/978-94-009-4728-3_36 or doi:10.1088/0954-3899/21/1/008 or doi:10.1063/1.530948 or doi:10.1016/s0920-5632(05)80064-7 or doi:10.2172/5925638 or doi:10.22323/1.192.0029'"
      ]
     },
     "execution_count": 245,
     "metadata": {},
     "output_type": "execute_result"
    }
   ],
   "source": [
    "s = ' or doi:'.join(nis[:100]['doi'].to_list())\n",
    "'doi:'+s"
   ]
  },
  {
   "cell_type": "code",
   "execution_count": 247,
   "id": "144f8713-b27e-48d0-bd5a-7123e1a7140a",
   "metadata": {},
   "outputs": [],
   "source": [
    "import helium as hell"
   ]
  },
  {
   "cell_type": "code",
   "execution_count": 248,
   "id": "9f7a9512-dd52-4067-8026-0a993e8e4bf9",
   "metadata": {},
   "outputs": [
    {
     "data": {
      "text/plain": [
       "<selenium.webdriver.firefox.webdriver.WebDriver (session=\"33192de4-3200-49e0-9504-b4285fea6d4b\")>"
      ]
     },
     "execution_count": 248,
     "metadata": {},
     "output_type": "execute_result"
    }
   ],
   "source": [
    "hell.start_firefox()"
   ]
  },
  {
   "cell_type": "code",
   "execution_count": null,
   "id": "819fca26-d052-4c02-adc2-1ced2359a65d",
   "metadata": {},
   "outputs": [],
   "source": [
    "https://inspirehep.net/submissions/literature"
   ]
  }
 ],
 "metadata": {
  "kernelspec": {
   "display_name": "Python 3 (ipykernel)",
   "language": "python",
   "name": "python3"
  },
  "language_info": {
   "codemirror_mode": {
    "name": "ipython",
    "version": 3
   },
   "file_extension": ".py",
   "mimetype": "text/x-python",
   "name": "python",
   "nbconvert_exporter": "python",
   "pygments_lexer": "ipython3",
   "version": "3.11.2"
  }
 },
 "nbformat": 4,
 "nbformat_minor": 5
}
