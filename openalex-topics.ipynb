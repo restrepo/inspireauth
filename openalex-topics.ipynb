{
 "cells": [
  {
   "cell_type": "markdown",
   "id": "42f713a8-fbe9-4ec3-a672-b7b88c5fc3fb",
   "metadata": {},
   "source": [
    "* A formula of search is applied to OpenAlex to extract an equivalent database\n",
    "* We load the inspire papers and extract the dois from the `recid`s\n",
    "* We extract of the dois from the results in OpenAlex and compare with the dois from inspire:\n",
    "  * `DD`: inspire dois\n",
    "  * `FF`: OpenAlex dois\n",
    "  * `FF-DD`: dois only in OpenAlex: see [Status analysis](#Status-analysis): `status` values are:\n",
    "     * valid arXiv dois without extra dois: with `status['status'] = 'ok'` and `published = False`\n",
    "     * new valid dois with `status['status'] = 'ok'` with `status['affiliations_in_inspire'] = False`,  `status['date_range'] = 'outside'`, `status['mathching_inspire_authors']`. The first fixes missing affiliations, the second may be outside the date range, the third are not in inspire but have inspire authors\n",
    "     * duplicated entries in OpenAlex with `status in ['duplicated', 'duplicated_dois']`\n",
    "     * erros in OpenAlex with `status in [wrong_countries, wrong_doi]`. The first are bad affilitions, the second is not the real doi \n",
    "     * extra works that maybe are outside the scope of inspire with `status = 'not_inspire_scope'`\n",
    "     * `status = 'erratum_or_arxiv_doi'` ?\n",
    "  * `DD-FF`: dois inly in inspire:"
   ]
  },
  {
   "cell_type": "code",
   "execution_count": 8,
   "id": "5b14d9f8-45c1-4056-886f-22b7d8d0d696",
   "metadata": {},
   "outputs": [],
   "source": [
    "import requests\n",
    "import json"
   ]
  },
  {
   "cell_type": "code",
   "execution_count": 9,
   "id": "ae5cd29c-204c-4803-8134-bcef35f88fdc",
   "metadata": {},
   "outputs": [],
   "source": [
    "LA = []\n",
    "next_cursor = \"*\"\n",
    "p = 200\n",
    "url_topics = f\"https://api.openalex.org/works?page=1&filter=topics.id:t10048|t10224|t10527|t10921|t11090|t10025|t10095|t11415|t11044|t11367|t10463,authors_count:1-10,authorships.countries:countries/co|countries/br|countries/ar|countries/cl|countries/mx|countries/pe|countries/ec|countries/uy|countries/bo|countries/cr|countries/ve|countries/cu|countries/do|countries/sv|countries/gt|countries/hn|countries/pa|countries/py,publication_year:1900-2022&sort=cited_by_count:desc&per_page={p}&cursor={next_cursor}\""
   ]
  },
  {
   "cell_type": "code",
   "execution_count": 10,
   "id": "85f7b1e8-77f2-44f3-b13e-e8ac96c512be",
   "metadata": {},
   "outputs": [],
   "source": [
    "loop = False\n",
    "while loop:\n",
    "    #url_topics = f\"https://api.openalex.org/works?page=1&filter=authorships.author.id:a5049648126&sort=cited_by_count:desc&per_page=200&cursor={next_cursor}\"\n",
    "    \n",
    "    j = requests.get(url_topics)\n",
    "    \n",
    "    la = j.json()\n",
    "    \n",
    "    la_meta = la.get('meta')\n",
    "    next_cursor = la_meta.get('next_cursor')\n",
    "    \n",
    "    if not next_cursor:\n",
    "        #break\n",
    "        print('stop')\n",
    "        break\n",
    "    \n",
    "    LA = LA + la.get('results')\n",
    "    print(len(LA),end='\\r')"
   ]
  },
  {
   "cell_type": "code",
   "execution_count": 11,
   "id": "ea4b8388-c17b-4e2f-9977-6c853d7598e0",
   "metadata": {},
   "outputs": [],
   "source": [
    "if loop:\n",
    "    with open(\"openalex_topics.json\", \"w\") as json_file:\n",
    "        json.dump(LA, json_file)\n",
    "    print(len(LA))"
   ]
  },
  {
   "cell_type": "code",
   "execution_count": 12,
   "id": "9e62c97e-a8c9-4167-aec1-416079d94d5f",
   "metadata": {},
   "outputs": [],
   "source": [
    "with open('openalex_topics.json', 'r') as file:\n",
    "        LA = json.load(file)"
   ]
  },
  {
   "cell_type": "code",
   "execution_count": 13,
   "id": "5b8fcda9-4f6a-4879-95a6-4e128c19c901",
   "metadata": {},
   "outputs": [
    {
     "name": "stdout",
     "output_type": "stream",
     "text": [
      "File data = data/papers.json\n"
     ]
    }
   ],
   "source": [
    "f = 'data/papers.json'\n",
    "try:\n",
    "    with open(f, 'r') as file:\n",
    "        data = json.load(file)\n",
    "        print(\"File data =\", f)\n",
    "except FileNotFoundError:\n",
    "    print(\"Error: The file 'data.json' was not found.\")\n",
    "except json.JSONDecodeError:\n",
    "    print(\"Error: Failed to decode JSON from the file.\")"
   ]
  },
  {
   "cell_type": "code",
   "execution_count": 14,
   "id": "b278d4b2-0c8f-4581-8895-730c28d5f127",
   "metadata": {},
   "outputs": [],
   "source": [
    "import pandas as pd"
   ]
  },
  {
   "cell_type": "code",
   "execution_count": 15,
   "id": "c19d7cd4-f41c-4ceb-a3ea-627ea7a3962b",
   "metadata": {},
   "outputs": [],
   "source": [
    "inspa = pd.DataFrame(data)"
   ]
  },
  {
   "cell_type": "code",
   "execution_count": 16,
   "id": "9582d354-c01c-4d76-a403-bd409145096b",
   "metadata": {},
   "outputs": [],
   "source": [
    "del data"
   ]
  },
  {
   "cell_type": "code",
   "execution_count": 17,
   "id": "15e3fc39-8420-4fed-8d47-aefd493c1540",
   "metadata": {},
   "outputs": [],
   "source": [
    "import time"
   ]
  },
  {
   "cell_type": "code",
   "execution_count": 18,
   "id": "e07c1deb-f4f4-4eb1-9888-a0b5885a75a0",
   "metadata": {},
   "outputs": [
    {
     "data": {
      "text/plain": [
       "49181"
      ]
     },
     "execution_count": 18,
     "metadata": {},
     "output_type": "execute_result"
    }
   ],
   "source": [
    "recids =inspa['recid'].unique()\n",
    "len(recids)"
   ]
  },
  {
   "cell_type": "code",
   "execution_count": 20,
   "id": "0b41cfba-267f-43ed-8b66-4af8df325478",
   "metadata": {},
   "outputs": [],
   "source": [
    "del inspa"
   ]
  },
  {
   "cell_type": "code",
   "execution_count": 21,
   "id": "5b5ec2f0-9d15-4143-ba40-165460c28d16",
   "metadata": {},
   "outputs": [
    {
     "data": {
      "text/plain": [
       "True"
      ]
     },
     "execution_count": 21,
     "metadata": {},
     "output_type": "execute_result"
    }
   ],
   "source": [
    "393487 in recids"
   ]
  },
  {
   "cell_type": "code",
   "execution_count": 22,
   "id": "c46713dc-4bdb-41e4-8859-24de63293af9",
   "metadata": {},
   "outputs": [],
   "source": [
    "#list(recids).index(393487)"
   ]
  },
  {
   "cell_type": "code",
   "execution_count": 23,
   "id": "aa4c9377-da97-459a-bfd1-d23f2f2758ab",
   "metadata": {},
   "outputs": [],
   "source": [
    "#recids = recids[32287:32288]"
   ]
  },
  {
   "cell_type": "code",
   "execution_count": 24,
   "id": "cef16d5d-3e18-4431-99e5-be2b915ac9fa",
   "metadata": {},
   "outputs": [],
   "source": [
    "loop = False\n",
    "if loop:\n",
    "    dois = []\n",
    "    for x in list(range(0,len(L)+1,80))[1:]:\n",
    "        time.sleep(0.1)\n",
    "        print(f\"{x-80}:{x}\",end='\\r')\n",
    "    \n",
    "        q='%20or%20'.join([ f\"recid:{x}\" for x in recids[x-80:x]])\n",
    "        \n",
    "        url = f\"https://inspirehep.net/api//literature?size=100&page=1&q={q}&fields=dois\"\n",
    "        \n",
    "        jj = requests.get(url)\n",
    "        \n",
    "        try:\n",
    "            LL = jj.json().get('hits').get('hits')\n",
    "        except:\n",
    "            LL = []\n",
    "        \n",
    "        if not LL:\n",
    "            continue\n",
    "            \n",
    "        tmp = pd.DataFrame(LL)\n",
    "        tmp['control_number'] = tmp['metadata'].str['control_number']\n",
    "        tmp['doi'] = tmp['metadata'].str['dois'].str[0].str['value']\n",
    "        dois = dois + tmp[['control_number','doi']].dropna().to_dict(orient='records')\n",
    "        #break"
   ]
  },
  {
   "cell_type": "code",
   "execution_count": 25,
   "id": "cb1b43ed-aab4-46fb-8270-db4d5037d26d",
   "metadata": {},
   "outputs": [],
   "source": [
    "if loop:\n",
    "    with open(\"inspire_dois.json\", \"w\") as json_file:\n",
    "        json.dump(dois, json_file)"
   ]
  },
  {
   "cell_type": "code",
   "execution_count": 26,
   "id": "37fb84b9-1052-48ae-b694-07af53eedf75",
   "metadata": {},
   "outputs": [],
   "source": [
    "with open(\"inspire_dois.json\", \"r\") as json_file:\n",
    "    dois = json.load(json_file)"
   ]
  },
  {
   "cell_type": "code",
   "execution_count": 41,
   "id": "b042c6e2-40cf-48a7-9b12-bbbb1bc6c1ff",
   "metadata": {},
   "outputs": [],
   "source": [
    "di = pd.DataFrame(dois)"
   ]
  },
  {
   "cell_type": "code",
   "execution_count": 42,
   "id": "1a7414c6-cd0d-4664-87ed-7772688e5000",
   "metadata": {},
   "outputs": [],
   "source": [
    "di['doi'] = di['doi'].str.lower()"
   ]
  },
  {
   "cell_type": "code",
   "execution_count": 43,
   "id": "d48e65dc-0220-426f-911e-cb8ed9029091",
   "metadata": {},
   "outputs": [
    {
     "data": {
      "text/plain": [
       "(38713, (38713,))"
      ]
     },
     "execution_count": 43,
     "metadata": {},
     "output_type": "execute_result"
    }
   ],
   "source": [
    "di['doi'].shape[0], di['doi'].unique().shape"
   ]
  },
  {
   "cell_type": "code",
   "execution_count": null,
   "id": "ec18c019-b46e-4eef-8d78-43f2f50fdbe4",
   "metadata": {},
   "outputs": [],
   "source": [
    "df = pd.DataFrame(LA)"
   ]
  },
  {
   "cell_type": "code",
   "execution_count": 31,
   "id": "f28adb9d-737d-4bf2-9601-e147d6574750",
   "metadata": {},
   "outputs": [],
   "source": [
    "del LA"
   ]
  },
  {
   "cell_type": "code",
   "execution_count": 45,
   "id": "bea5aac2-dded-47f9-ad9d-2b7829c1e811",
   "metadata": {},
   "outputs": [
    {
     "data": {
      "text/plain": [
       "(41347, 51)"
      ]
     },
     "execution_count": 45,
     "metadata": {},
     "output_type": "execute_result"
    }
   ],
   "source": [
    "df.shape"
   ]
  },
  {
   "cell_type": "markdown",
   "id": "d0af8937-47af-4144-8eee-0fb5e0bbe6df",
   "metadata": {},
   "source": [
    "Primary topics large that study area topics (11)"
   ]
  },
  {
   "cell_type": "code",
   "execution_count": 46,
   "id": "ba337dfc-60d3-42fd-b3e1-7af7fad32e7c",
   "metadata": {},
   "outputs": [
    {
     "data": {
      "text/plain": [
       "251"
      ]
     },
     "execution_count": 46,
     "metadata": {},
     "output_type": "execute_result"
    }
   ],
   "source": [
    "len(df['primary_topic'].str['display_name'].unique())"
   ]
  },
  {
   "cell_type": "code",
   "execution_count": 47,
   "id": "fcbfc1cc-ef81-4669-b136-24fa54815f01",
   "metadata": {},
   "outputs": [],
   "source": [
    "topics = url_topics.split('topics.id:')[-1].split(',')[0].split('|')\n",
    "topics = [t.lower() for t in topics]"
   ]
  },
  {
   "cell_type": "code",
   "execution_count": 48,
   "id": "21cd6c33-a10c-468d-bf87-986a313438f1",
   "metadata": {},
   "outputs": [],
   "source": [
    "def topics_score(L,topics,score = 0):\n",
    "    LL = []\n",
    "    for d in L:\n",
    "        if d['id'].split('/')[-1].lower() in topics and d['score'] > score:\n",
    "            LL.append(d)\n",
    "    return LL"
   ]
  },
  {
   "cell_type": "code",
   "execution_count": 49,
   "id": "0ae44432-f755-4548-a029-2e6236e9790f",
   "metadata": {},
   "outputs": [],
   "source": [
    "df['filtered_topics'] = df['topics'].apply(lambda L: topics_score(L,topics,score=0))"
   ]
  },
  {
   "cell_type": "code",
   "execution_count": 50,
   "id": "210dc8de-c826-4464-85fe-8869e4cc93e3",
   "metadata": {},
   "outputs": [
    {
     "data": {
      "text/plain": [
       "(41347, 51)"
      ]
     },
     "execution_count": 50,
     "metadata": {},
     "output_type": "execute_result"
    }
   ],
   "source": [
    "df.shape"
   ]
  },
  {
   "cell_type": "code",
   "execution_count": 51,
   "id": "ba2dcd06-9cfe-4870-89fe-b48cf4f97eeb",
   "metadata": {},
   "outputs": [
    {
     "data": {
      "text/plain": [
       "(41347, 51)"
      ]
     },
     "execution_count": 51,
     "metadata": {},
     "output_type": "execute_result"
    }
   ],
   "source": [
    "score = 0.9\n",
    "df = df[df['topics'].apply(lambda L: topics_score(L,topics,score=score)).apply(len)> 0].reset_index(drop=True)\n",
    "df.shape"
   ]
  },
  {
   "cell_type": "code",
   "execution_count": 52,
   "id": "c8ed1272-ab22-4740-9ff1-430a74d0c54a",
   "metadata": {},
   "outputs": [
    {
     "data": {
      "text/plain": [
       "((41347,), (38995,), (38993,))"
      ]
     },
     "execution_count": 52,
     "metadata": {},
     "output_type": "execute_result"
    }
   ],
   "source": [
    "df['doi'] = df['doi'].str.lower().str.split('https://doi.org/').str[-1]\n",
    "df['doi'].shape,df['doi'].dropna().shape,df['doi'].dropna().unique().shape"
   ]
  },
  {
   "cell_type": "code",
   "execution_count": 53,
   "id": "8374ff02-78ca-4c5b-b9dc-575f401b248c",
   "metadata": {},
   "outputs": [],
   "source": [
    "DD = di['doi'].dropna().to_list() # dois in inspire (missing dois if duplicates)\n",
    "FF = df['doi'].dropna().to_list() # dois in OpenAlex"
   ]
  },
  {
   "cell_type": "code",
   "execution_count": 54,
   "id": "6f2658ef-1f3f-4363-9b8f-8b0845f924db",
   "metadata": {},
   "outputs": [
    {
     "data": {
      "text/plain": [
       "38713"
      ]
     },
     "execution_count": 54,
     "metadata": {},
     "output_type": "execute_result"
    }
   ],
   "source": [
    "len(DD)"
   ]
  },
  {
   "cell_type": "code",
   "execution_count": 55,
   "id": "e7196661-2948-4694-bce6-a5b5a0f75d7a",
   "metadata": {},
   "outputs": [
    {
     "data": {
      "text/plain": [
       "38995"
      ]
     },
     "execution_count": 55,
     "metadata": {},
     "output_type": "execute_result"
    }
   ],
   "source": [
    "len(FF)"
   ]
  },
  {
   "cell_type": "code",
   "execution_count": 56,
   "id": "f77bb8e6-badb-4b30-9cbf-52af5ece8315",
   "metadata": {},
   "outputs": [
    {
     "data": {
      "text/plain": [
       "27138"
      ]
     },
     "execution_count": 56,
     "metadata": {},
     "output_type": "execute_result"
    }
   ],
   "source": [
    "intersection = list(set(DD).intersection( FF ))\n",
    "len(intersection) # In both inspire and OpenAlex"
   ]
  },
  {
   "cell_type": "code",
   "execution_count": 57,
   "id": "31827549-03a1-4375-9d0b-3f8a90725236",
   "metadata": {},
   "outputs": [
    {
     "data": {
      "text/plain": [
       "15527"
      ]
     },
     "execution_count": 57,
     "metadata": {},
     "output_type": "execute_result"
    }
   ],
   "source": [
    "dfa = df[df['doi'].apply(lambda d: d in intersection)].reset_index(drop=True)\n",
    "authors = dfa['authorships'].apply(lambda L: [d.get('author').get('id').split('/')[-1] for d in L] )\n",
    "authors = list(set([item for sublist in authors for item in sublist]))\n",
    "len(authors) #authors both in inspire and OpenAlex"
   ]
  },
  {
   "cell_type": "code",
   "execution_count": 58,
   "id": "400e2531-ebea-419b-aff9-5aefdf4cbf9d",
   "metadata": {},
   "outputs": [],
   "source": [
    "DDD = list(set(DD).difference( FF  ))\n",
    "FFF = list(set(FF).difference(DD))"
   ]
  },
  {
   "cell_type": "code",
   "execution_count": 59,
   "id": "a5617d1d-0247-4498-b8ea-4a897be5260a",
   "metadata": {},
   "outputs": [
    {
     "data": {
      "text/plain": [
       "11575"
      ]
     },
     "execution_count": 59,
     "metadata": {},
     "output_type": "execute_result"
    }
   ],
   "source": [
    "len(DDD) # only inspire"
   ]
  },
  {
   "cell_type": "code",
   "execution_count": 60,
   "id": "95bc5865-7aaa-4552-9958-6e406f07ecf9",
   "metadata": {},
   "outputs": [],
   "source": [
    "with open('DDD.json','w') as f:\n",
    "    json.dump(DDD,f)"
   ]
  },
  {
   "cell_type": "code",
   "execution_count": 61,
   "id": "77426226-7462-4f84-89c5-c18e6b2865e5",
   "metadata": {},
   "outputs": [
    {
     "data": {
      "text/plain": [
       "11855"
      ]
     },
     "execution_count": 61,
     "metadata": {},
     "output_type": "execute_result"
    }
   ],
   "source": [
    "len(FFF) # only OpenAlex"
   ]
  },
  {
   "cell_type": "code",
   "execution_count": 62,
   "id": "c53f54e4-b252-4125-ba46-192044c691a5",
   "metadata": {},
   "outputs": [
    {
     "data": {
      "text/plain": [
       "(1277, 51)"
      ]
     },
     "execution_count": 62,
     "metadata": {},
     "output_type": "execute_result"
    }
   ],
   "source": [
    "df[df['doi'].astype(str).str.contains('arxiv')].shape # OpenAlex works in arXiv only "
   ]
  },
  {
   "cell_type": "code",
   "execution_count": 63,
   "id": "6df3349b-ef28-4c8e-aacf-a6deaa677b58",
   "metadata": {},
   "outputs": [],
   "source": [
    "trueFF = df[df['primary_location'].str['source'].str['issn_l'].apply(lambda s: s is not None)]['doi'].dropna().to_list()"
   ]
  },
  {
   "cell_type": "code",
   "execution_count": 64,
   "id": "ef733444-27b2-4b57-8a22-4ba588726c58",
   "metadata": {},
   "outputs": [
    {
     "data": {
      "text/plain": [
       "(35136, 38995)"
      ]
     },
     "execution_count": 64,
     "metadata": {},
     "output_type": "execute_result"
    }
   ],
   "source": [
    "len(trueFF),len(FF)"
   ]
  },
  {
   "cell_type": "code",
   "execution_count": 65,
   "id": "72faafc4-f4b1-466c-9b09-376340208361",
   "metadata": {},
   "outputs": [],
   "source": [
    "trueFFF = list(set(trueFF).difference(DD))"
   ]
  },
  {
   "cell_type": "code",
   "execution_count": 66,
   "id": "56782af2-4a20-445f-993c-164468d707f0",
   "metadata": {},
   "outputs": [
    {
     "data": {
      "text/plain": [
       "8941"
      ]
     },
     "execution_count": 66,
     "metadata": {},
     "output_type": "execute_result"
    }
   ],
   "source": [
    "len(trueFFF)"
   ]
  },
  {
   "cell_type": "code",
   "execution_count": 67,
   "id": "f0856801-7e02-417f-a7e9-0191570fbc81",
   "metadata": {},
   "outputs": [],
   "source": [
    "del df"
   ]
  },
  {
   "cell_type": "code",
   "execution_count": 68,
   "id": "5262aeb5-926d-4821-8f42-547a1e1c47c4",
   "metadata": {},
   "outputs": [],
   "source": [
    "del dfa"
   ]
  },
  {
   "cell_type": "code",
   "execution_count": 69,
   "id": "27136468-7846-41b9-bf72-d150ac828aa0",
   "metadata": {},
   "outputs": [],
   "source": [
    "def get_inspire(url):\n",
    "    jj = requests.get(url)\n",
    "        \n",
    "    try:\n",
    "        LL = jj.json().get('hits').get('hits')\n",
    "    except:\n",
    "        LL = []\n",
    "\n",
    "    return LL\n",
    "    \n",
    "def clean_dois(dois):\n",
    "    return [d for d in dois if d.get('source') != 'arXiv' and d.get('material') != 'erratum']\n",
    "\n",
    "\n",
    "def get_arxiv(doi,recids):\n",
    "    status = {}\n",
    "    oadoi = None\n",
    "    q = '/'.join(doi.split('/')[1:]).replace('arxiv.','arxiv:')\n",
    "    url = f\"https://inspirehep.net/api//literature?size=100&page=1&q={q}&fields=control_number,dois\"\n",
    "    LL = get_inspire(url)\n",
    "    time.sleep(0.1)\n",
    "    \n",
    "    if LL:\n",
    "        try:\n",
    "            dois = clean_dois(LL[0].get('metadata').get('dois'))\n",
    "            oadoi = dois[0].get('value').lower()\n",
    "        except:\n",
    "            oadoi = None\n",
    "    \n",
    "    if oadoi:\n",
    "        url = f\"https://api.openalex.org/works?filter=doi:{oadoi}\"\n",
    "        jj = requests.get(url)\n",
    "        time.sleep(0.1)\n",
    "    \n",
    "        if jj.status_code == 200 and jj.json().get('meta') and jj.json().get('meta').get('count'):\n",
    "            status = {'status':'duplicated',\n",
    "             'arXiv': doi,\n",
    "             'doi': oadoi\n",
    "            }\n",
    "            return status\n",
    "\n",
    "    if LL:\n",
    "        recid = LL[0].get('metadata').get('control_number')\n",
    "        if recid in recids:\n",
    "            status = {'status': 'not_doi','recid': recid, 'doi': doi}\n",
    "        else:\n",
    "            status = {'status': 'check_countries', 'doi': doi} # arXiv without doi\n",
    "\n",
    "    return status\n",
    "\n",
    "def get_dois(doi,DD):\n",
    "    status = {}\n",
    "    url = f\"https://inspirehep.net/api/literature?q=doi:{doi}&fields=control_number,authors,dois,publication_info\"\n",
    "    LL = get_inspire(url)\n",
    "    time.sleep(0.1)\n",
    "    \n",
    "    if LL and LL[0].get('metadata').get('dois'):\n",
    "        dois = LL[0].get('metadata').get('dois')\n",
    "        values_doi = [d.get('value') for d in dois]\n",
    "        if doi in values_doi and len(values_doi) > 1:\n",
    "            all_dois = LL[0].get('metadata').get('dois')\n",
    "            dois = clean_dois(all_dois) # Clean unwanted dois\n",
    "            new_doi = [d.get('value').lower() for d in dois if d.get('value') != doi]\n",
    "            if new_doi:\n",
    "                new_doi = new_doi[0]\n",
    "                if new_doi in DD:\n",
    "                    status = {'status': 'duplicated_dois', 'new_doi': new_doi, 'doi': doi, 'dois': all_dois}\n",
    "                else:\n",
    "                    status = {'status': 'wrong_doi','new_doi': new_doi, 'doi': doi, 'dois': all_dois}\n",
    "            else:\n",
    "                recid = LL[0].get('metadata').get('control_number')\n",
    "                publication_info = LL[0].get('metadata').get('publication_info')\n",
    "                in_recids = False\n",
    "                if recid in recids:\n",
    "                    in_recids = True    \n",
    "                # bad doi was erratum or arXiv                \n",
    "                status = {'status': 'erratum_or_arxiv_doi_or_out_of_range', \n",
    "                          'doi': doi, \n",
    "                          'dois': all_dois,\n",
    "                          'recid': recid,\n",
    "                          'in_recids': in_recids,\n",
    "                          'publication_info': publication_info}\n",
    "\n",
    "    return status\n",
    "\n",
    "def get_countries(doi):\n",
    "    status = {}\n",
    "    url = f\"https://inspirehep.net/api/literature?q=doi:{doi}&fields=authors,dois\"\n",
    "    LL = get_inspire(url)\n",
    "    time.sleep(0.1)\n",
    "\n",
    "    if LL:\n",
    "        try:\n",
    "            affiliations = [d for d in LL[0].get('metadata').get('authors') if d.get('affiliations')]\n",
    "        except:\n",
    "            affiliations = []\n",
    "        \n",
    "        if affiliations:\n",
    "            status = {'status': 'wrong_countries', 'doi': doi} # right in inspirehep\n",
    "        else:\n",
    "            status = {'status': 'right_countries', 'doi': doi} # missing in inspirehep\n",
    "            \n",
    "    return status\n",
    "\n",
    "def get_authors(doi,authors):\n",
    "    status = {}\n",
    "    url = f\"https://api.openalex.org/works?filter=doi:{doi}\"\n",
    "    jj = requests.get(url)\n",
    "    time.sleep(0.1)\n",
    "    if jj.status_code == 200 and jj.json().get('meta') and jj.json().get('meta').get('count'):\n",
    "        try:\n",
    "            au = [ d.get('author').get('id').split('/')[-1] for d in jj.json().get('results')[0].get('authorships')]\n",
    "        except:\n",
    "            au = []\n",
    "        auint = list(set(au).intersection(authors))    \n",
    "        if len(auint) > 0:\n",
    "            status = { 'status': 'ok',\n",
    "                       'mathching_inspire_authors': True,\n",
    "                       'mathching_inspire_author_ids': auint,\n",
    "                       'doi': doi}\n",
    "        else: # outside inspire\n",
    "            status = { 'status': 'not_inspire_scope', \n",
    "                       'mathching_inspire_authors': False,\n",
    "                       'mathching_inspire_author_ids': [],\n",
    "                       'doi': doi}\n",
    "    return status"
   ]
  },
  {
   "cell_type": "code",
   "execution_count": 70,
   "id": "0744010d-e97a-47fd-845d-64de8496b271",
   "metadata": {},
   "outputs": [
    {
     "data": {
      "text/plain": [
       "['10.1109/plasma.1994.588706',\n",
       " '10.22323/1.301.0130',\n",
       " '10.1007/10856495_44',\n",
       " '10.22323/1.416.0016',\n",
       " '10.11606/d.43.2022.tde-16052022-124208',\n",
       " '10.1007/978-1-4684-3716-4_38',\n",
       " '10.48550/arxiv.gr-qc/9509041',\n",
       " '10.5281/zenodo.5718758',\n",
       " '10.1142/9789812810922_0010',\n",
       " '10.48550/arxiv.1605.05592',\n",
       " '10.48550/arxiv.hep-ph/9906328',\n",
       " '10.1142/9789813226609_0170',\n",
       " '10.1109/sbmicro.2015.7298138',\n",
       " '10.22323/1.174.0058',\n",
       " '10.1109/imoc.1999.866138']"
      ]
     },
     "execution_count": 70,
     "metadata": {},
     "output_type": "execute_result"
    }
   ],
   "source": [
    "no_issn_dois = list(set(FFF).difference(trueFFF)) # doi not relate to journals with issns\n",
    "no_issn_dois[0:15]"
   ]
  },
  {
   "cell_type": "markdown",
   "id": "58fd631c-943c-4de4-81be-c251f6e7d56e",
   "metadata": {},
   "source": [
    "## Status analysis"
   ]
  },
  {
   "cell_type": "code",
   "execution_count": 71,
   "id": "0b870d62-cfd5-46fa-8cde-f68618831e8e",
   "metadata": {},
   "outputs": [
    {
     "data": {
      "text/plain": [
       "True"
      ]
     },
     "execution_count": 71,
     "metadata": {},
     "output_type": "execute_result"
    }
   ],
   "source": [
    "2151035 not in recids"
   ]
  },
  {
   "cell_type": "code",
   "execution_count": 75,
   "id": "cd24873e-6be9-4871-8d99-fee0c8b243d2",
   "metadata": {},
   "outputs": [],
   "source": [
    "def get_year(arxiv_doi):\n",
    "    arxiv_id =arxiv_doi.split('/')\n",
    "    if len(arxiv_id) == 2:\n",
    "        year = eval('20'+arxiv_id[-1].split('arxiv.')[-1][:2])\n",
    "    elif len(arxiv_id) == 3:\n",
    "        year = arxiv_id[-1][:2]\n",
    "        if year[0] == '0':\n",
    "             year = eval('20' + year)\n",
    "        else:\n",
    "            year = eval('19' + year)\n",
    "    \n",
    "    return year"
   ]
  },
  {
   "cell_type": "code",
   "execution_count": 76,
   "id": "94fc0449-e247-42f2-8088-6159cd4ccc49",
   "metadata": {},
   "outputs": [
    {
     "data": {
      "text/plain": [
       "2005"
      ]
     },
     "execution_count": 76,
     "metadata": {},
     "output_type": "execute_result"
    }
   ],
   "source": [
    "max_year = 2022\n",
    "arxiv_doi = '10.48550/arxiv.0801.2559'\n",
    "arxiv_doi = '10.48550/arxiv.astro-ph/9505300'\n",
    "arxiv_doi = '10.48550/arxiv.astro-ph/0505300'\n",
    "get_year(arxiv_doi)"
   ]
  },
  {
   "cell_type": "code",
   "execution_count": 77,
   "id": "68da0ebf-0b25-4932-be37-563e4440c645",
   "metadata": {},
   "outputs": [],
   "source": [
    "doi = '10.1088/1742-6596/590/1/012008'\n",
    "doi =  '10.48550/arxiv.0801.2559'\n",
    "#doi = '10.1103/physrevd.93.124020'\n",
    "#doi = '10.48550/arxiv.astro-ph/0505300' # test: not_doi\n",
    "#doi = '10.48550/arxiv.1909.10299' # test: duplicated\n",
    "#doi = '10.1007/s100520050258' # test: duplicated_dois\n",
    "#doi = '10.1140/epjc/s10052-015-3288-x' # test: right_countries\n",
    "#doi = '10.1007/bf02817915' # test: wrong_countries\n",
    "doi = '10.24275/uami.gq67jr29s' # test: 'mathching_inspire_authors' and 'status': 'not_inspire_scope'\n",
    "doi = '10.1016/0003-4916(82)90173-7' # test matching_authors\n",
    "doi = '10.1063/1.2710571' # test wrong_affiliations\n",
    "doi = '10.1016/0550-3213(95)00620-6' # test duplicated dois\n",
    "doi = '10.1088/1742-6596/590/1/012008' #test\n",
    "doi = '10.1140/epjc/s10052-022-11127-w' # test outside_range\n",
    "doi = '10.1007/bf00762333' # test 'mathching_inspire_authors'"
   ]
  },
  {
   "cell_type": "code",
   "execution_count": 78,
   "id": "71facbca-0227-4a5d-9b1c-caa20b07599d",
   "metadata": {},
   "outputs": [],
   "source": [
    "def check_doi(doi, recids, DD, authors, max_year):\n",
    "    url = f\"https://inspirehep.net/api/literature?q=doi:{doi}&fields=control_number,authors,dois,publication_info\"\n",
    "    LL = get_inspire(url)\n",
    "    time.sleep(0.1)\n",
    "\n",
    "    \n",
    "    status = {'doi':doi,'in_inspire': False}\n",
    "    arxiv_doi = None\n",
    "    if doi.find('/arxiv.') == 8:\n",
    "        arxiv_doi = doi\n",
    "    \n",
    "    status['arxiv_doi'] = arxiv_doi\n",
    "    status['in_inspire'] = None\n",
    "    \n",
    "    metadata = None\n",
    "    if LL:\n",
    "        metadata = LL[0].get('metadata')\n",
    "        if metadata:\n",
    "            status['in_inspire'] = True\n",
    "    inspire_authors = None\n",
    "    all_dois = None\n",
    "    control_number = None\n",
    "    publication_info = None\n",
    "    if metadata:\n",
    "        inspire_authors = metadata.get('authors')\n",
    "        all_dois = metadata.get('dois')\n",
    "        control_number = metadata.get('control_number')\n",
    "        publication_info = metadata.get('publication_info')\n",
    "    \n",
    "    inspire_dois = []\n",
    "    status['recid'] = control_number\n",
    "    status['in_recids'] = False\n",
    "    status['published'] = True\n",
    "    status['erratum_doi'] = None\n",
    "    status['inspire_dois'] = []\n",
    "    status['new_doi'] = None\n",
    "    status['oa_errors'] = []\n",
    "    status['inspire_scope'] = True\n",
    "    status['new_doi_in_inspire'] = None\n",
    "    status['affiliations_in_inspire'] = None\n",
    "    status['mathching_inspire_authors'] = None\n",
    "    status['mathching_inspire_author_ids'] = None\n",
    "    status['date_range'] = None\n",
    "    status['year'] = None\n",
    "    \n",
    "    if publication_info:\n",
    "        try:\n",
    "            status['year'] = max([d.get('year') for d in publication_info])\n",
    "        except:\n",
    "            status['year'] = None\n",
    "    \n",
    "    if not status['year'] and status['arxiv_doi']:\n",
    "        status['year'] = get_year(status['arxiv_doi'])\n",
    "    \n",
    "    # chek if already in database\n",
    "    if control_number and control_number in recids:\n",
    "        status['in_recids'] = True\n",
    "    else:\n",
    "        # check inspire_scope\n",
    "        pass\n",
    "    \n",
    "    # Check if published with doi\n",
    "    if all_dois:\n",
    "        erratum_doi = [d for d in all_dois if d.get('material') == 'erratum']\n",
    "        if erratum_doi:\n",
    "            status['erratum_doi'] = erratum_doi[0]\n",
    "        inspire_dois = [d for d in all_dois if d.get('source') != 'arXiv' and d.get('material') != 'erratum']\n",
    "        status['inspire_dois'] = list(set([d.get('value').lower() for d in inspire_dois]))\n",
    "    else:\n",
    "        if status['in_inspire']:\n",
    "            status['published'] = False\n",
    "    \n",
    "    # Analysis\n",
    "    status['status'] = None\n",
    "    if status.get('arxiv_doi') and status['inspire_dois']:\n",
    "        status['new_doi'] = status['inspire_dois'][0]\n",
    "        status['status'] = 'duplicated'\n",
    "        status['oa_errors'].append(status['status'])\n",
    "    else:\n",
    "        status['status'] = 'ok'\n",
    "    \n",
    "    if not status.get('arxiv_doi') and status['inspire_dois']:\n",
    "        if len(status['inspire_dois']) > 1:\n",
    "            status['new_doi'] = [x for x in status['inspire_dois'] if x != doi ][0]\n",
    "            status['status'] = 'duplicated_dois'\n",
    "            status['oa_errors'].append(status['status'])\n",
    "    else:\n",
    "        if not status['oa_errors']:\n",
    "            status['status'] = 'ok'\n",
    "    \n",
    "    if status['new_doi'] and status['new_doi'] in DD:\n",
    "        status['new_doi_in_inspire'] = True\n",
    "    else:\n",
    "        status['new_doi_in_inspire'] = False\n",
    "    if inspire_authors:\n",
    "        affiliations = [d for d in inspire_authors if d.get('affiliations')]\n",
    "        if affiliations: # not affiliations in inspire\n",
    "            status['affiliations_in_inspire'] = True\n",
    "        else:\n",
    "            status['affiliations_in_inspire'] = False\n",
    "    \n",
    "    # not in inspire LA database but in inspire → affiliations exist and are not LA\n",
    "    if status['in_inspire'] and not status['in_recids'] and status['affiliations_in_inspire']:\n",
    "        # check year conflict\n",
    "        if status['year'] and status['year'] >= max_year:\n",
    "            status['status'] = 'ok'\n",
    "            status['date_range'] = 'outside'\n",
    "        else:\n",
    "            status['status'] = 'wrong_countries'\n",
    "            status['oa_errors'].append(status['status'])\n",
    "    else:\n",
    "        if not status['oa_errors']:\n",
    "            status['status'] = 'ok'\n",
    "    \n",
    "    # not in inspire → check for inspire authors\n",
    "    if not status['in_inspire'] and not status['in_recids']:\n",
    "        check_status = get_authors(doi,authors)\n",
    "        status['status'] = check_status['status']\n",
    "        if status['status'] == 'not_inspire_scope':\n",
    "            status['oa_errors'].append(status['status'])\n",
    "        else:\n",
    "            if not status['oa_errors']:\n",
    "                status['status'] = 'ok'\n",
    "            \n",
    "        status['mathching_inspire_authors'] = check_status['mathching_inspire_authors']\n",
    "        status['mathching_inspire_author_ids'] = check_status['mathching_inspire_author_ids']\n",
    "    \n",
    "    \n",
    "    return status"
   ]
  },
  {
   "cell_type": "code",
   "execution_count": 79,
   "id": "72aec288-c126-48d6-9595-4f1dac3cb5ad",
   "metadata": {},
   "outputs": [],
   "source": [
    "#status"
   ]
  },
  {
   "cell_type": "code",
   "execution_count": 80,
   "id": "42c6aea5-68d4-483b-8cb1-050325877baf",
   "metadata": {},
   "outputs": [],
   "source": [
    "#dfa[dfa['authorships'].apply(lambda L: [d.get('author').get('id').split('/')[-1] for d in L] ).apply(lambda L: 'A5058759801' in L)]"
   ]
  },
  {
   "cell_type": "code",
   "execution_count": 81,
   "id": "5c2e9690-2e89-4597-b347-57124e069fb3",
   "metadata": {},
   "outputs": [],
   "source": [
    "#check_doi(doi,recids, DD, authors, max_year)"
   ]
  },
  {
   "cell_type": "code",
   "execution_count": 82,
   "id": "c3998109-91dc-4257-8922-fe2d7bd6e417",
   "metadata": {},
   "outputs": [
    {
     "data": {
      "text/plain": [
       "11855"
      ]
     },
     "execution_count": 82,
     "metadata": {},
     "output_type": "execute_result"
    }
   ],
   "source": [
    "len(FFF)"
   ]
  },
  {
   "cell_type": "code",
   "execution_count": 94,
   "id": "201774dc-8115-449d-b3b1-901f4bf5942b",
   "metadata": {},
   "outputs": [],
   "source": [
    "kk = [0,1,2,3,4,5]"
   ]
  },
  {
   "cell_type": "code",
   "execution_count": 98,
   "id": "ee8f03d2-c0c1-472d-b919-0685d733cfe4",
   "metadata": {},
   "outputs": [
    {
     "data": {
      "text/plain": [
       "[0, 1, 2]"
      ]
     },
     "execution_count": 98,
     "metadata": {},
     "output_type": "execute_result"
    }
   ],
   "source": [
    "kk[:3]"
   ]
  },
  {
   "cell_type": "code",
   "execution_count": 96,
   "id": "9ddd1774-c2d8-40cd-93df-1adbbeda7463",
   "metadata": {},
   "outputs": [
    {
     "data": {
      "text/plain": [
       "3"
      ]
     },
     "execution_count": 96,
     "metadata": {},
     "output_type": "execute_result"
    }
   ],
   "source": [
    "len(kk[:3])"
   ]
  },
  {
   "cell_type": "code",
   "execution_count": 99,
   "id": "f2b8708e-b0e3-421a-b145-93eaefed4d44",
   "metadata": {},
   "outputs": [
    {
     "data": {
      "text/plain": [
       "[3, 4, 5]"
      ]
     },
     "execution_count": 99,
     "metadata": {},
     "output_type": "execute_result"
    }
   ],
   "source": [
    "kk[3:]"
   ]
  },
  {
   "cell_type": "code",
   "execution_count": 86,
   "id": "f16b9b8e-77b6-4dd9-94dd-81e4f04512d7",
   "metadata": {},
   "outputs": [
    {
     "data": {
      "text/plain": [
       "8967"
      ]
     },
     "execution_count": 86,
     "metadata": {},
     "output_type": "execute_result"
    }
   ],
   "source": [
    "len(ST)"
   ]
  },
  {
   "cell_type": "code",
   "execution_count": 100,
   "id": "7d1601fd-c6ab-49c3-8d7a-4eaf6906eceb",
   "metadata": {},
   "outputs": [
    {
     "name": "stdout",
     "output_type": "stream",
     "text": [
      "02888\r"
     ]
    }
   ],
   "source": [
    "#ST = []\n",
    "i = 0\n",
    "for doi in FFF[8967:]:\n",
    "    status = {}\n",
    "    i += 1\n",
    "    print(str(i).zfill(5),end='\\r',flush=True)\n",
    "    status = check_doi(doi,recids, DD, authors, max_year)\n",
    "    ST.append(status)"
   ]
  },
  {
   "cell_type": "code",
   "execution_count": 104,
   "id": "2b7a9232-0654-45fe-afed-492ac81e4db8",
   "metadata": {},
   "outputs": [],
   "source": [
    "with open('only_openalex.json','w') as f:\n",
    "    json.dump(ST,f)"
   ]
  },
  {
   "cell_type": "code",
   "execution_count": 102,
   "id": "42902ab1-c51b-4909-a272-20d2709e7a82",
   "metadata": {},
   "outputs": [
    {
     "data": {
      "text/plain": [
       "11855"
      ]
     },
     "execution_count": 102,
     "metadata": {},
     "output_type": "execute_result"
    }
   ],
   "source": [
    "len(FFF)"
   ]
  },
  {
   "cell_type": "code",
   "execution_count": 105,
   "id": "8026f3a6-eb6f-4e76-91bf-ab3316d5920b",
   "metadata": {},
   "outputs": [
    {
     "data": {
      "text/plain": [
       "11575"
      ]
     },
     "execution_count": 105,
     "metadata": {},
     "output_type": "execute_result"
    }
   ],
   "source": [
    "len(DDD)"
   ]
  },
  {
   "cell_type": "code",
   "execution_count": 106,
   "id": "f1266196-f47f-4684-92c2-5f16cc2f31a9",
   "metadata": {},
   "outputs": [
    {
     "data": {
      "text/plain": [
       "['10.1142/9789814374552_0382',\n",
       " '10.1103/physrevc.101.044314',\n",
       " '10.1103/physrevd.104.029901',\n",
       " '10.1142/s0217751x05022305',\n",
       " '10.1038/223485b0',\n",
       " '10.22323/1.174.0149',\n",
       " '10.22323/1.031.0001',\n",
       " '10.1103/physrevd.90.025019',\n",
       " '10.1006/aphy.1996.0079',\n",
       " '10.1088/0264-9381/3/5/016']"
      ]
     },
     "execution_count": 106,
     "metadata": {},
     "output_type": "execute_result"
    }
   ],
   "source": [
    "DDD[:10]"
   ]
  },
  {
   "cell_type": "code",
   "execution_count": null,
   "id": "0a578633-339e-4ad0-ad37-e82bf7e5107a",
   "metadata": {
    "scrolled": true
   },
   "outputs": [
    {
     "name": "stdout",
     "output_type": "stream",
     "text": [
      "05858\r"
     ]
    }
   ],
   "source": [
    "OA = []\n",
    "i = 0\n",
    "for t in DDD:\n",
    "    url = f\"https://api.openalex.org/works?filter=doi:{t}\"\n",
    "    j = requests.get(url)\n",
    "    try:\n",
    "        jj = j.json().get('results')[0]\n",
    "    except:\n",
    "        pass\n",
    "    if jj:\n",
    "        OA.append(jj)\n",
    "    print(str(i).zfill(5),end='\\r')\n",
    "    i += 1\n",
    "    time.sleep(0.1)"
   ]
  },
  {
   "cell_type": "code",
   "execution_count": 109,
   "id": "8681e7ba-aac1-4440-bae9-b3b6f1d613fc",
   "metadata": {},
   "outputs": [
    {
     "data": {
      "text/plain": [
       "[{'id': 'https://openalex.org/W2316811290',\n",
       "  'doi': 'https://doi.org/10.1142/9789814374552_0382',\n",
       "  'title': 'OSTROGRADSKI APPROACH FOR THE REGGE–TEITELBOIM MODEL',\n",
       "  'display_name': 'OSTROGRADSKI APPROACH FOR THE REGGE–TEITELBOIM MODEL',\n",
       "  'publication_year': 2012,\n",
       "  'publication_date': '2012-02-01',\n",
       "  'ids': {'openalex': 'https://openalex.org/W2316811290',\n",
       "   'doi': 'https://doi.org/10.1142/9789814374552_0382',\n",
       "   'mag': '2316811290'},\n",
       "  'language': 'en',\n",
       "  'primary_location': {'is_oa': False,\n",
       "   'landing_page_url': 'https://doi.org/10.1142/9789814374552_0382',\n",
       "   'pdf_url': None,\n",
       "   'source': None,\n",
       "   'license': None,\n",
       "   'license_id': None,\n",
       "   'version': None,\n",
       "   'is_accepted': False,\n",
       "   'is_published': False},\n",
       "  'type': 'article',\n",
       "  'type_crossref': 'proceedings-article',\n",
       "  'indexed_in': ['crossref'],\n",
       "  'open_access': {'is_oa': False,\n",
       "   'oa_status': 'closed',\n",
       "   'oa_url': None,\n",
       "   'any_repository_has_fulltext': False},\n",
       "  'authorships': [{'author_position': 'first',\n",
       "    'author': {'id': 'https://openalex.org/A5080881853',\n",
       "     'display_name': 'Rubén Cordero',\n",
       "     'orcid': 'https://orcid.org/0000-0001-7751-514X'},\n",
       "    'institutions': [{'id': 'https://openalex.org/I59361560',\n",
       "      'display_name': 'Instituto Politécnico Nacional',\n",
       "      'ror': 'https://ror.org/059sp8j34',\n",
       "      'country_code': 'MX',\n",
       "      'type': 'funder',\n",
       "      'lineage': ['https://openalex.org/I59361560']}],\n",
       "    'countries': ['MX'],\n",
       "    'is_corresponding': False,\n",
       "    'raw_author_name': 'RUBEN CORDERO',\n",
       "    'raw_affiliation_strings': ['Departamento de Física, Escuela Superior de Física y Matemáticas del IPN, Unidad Adolfo López Mateos, Edificio 9, Distrito Federal, 07738, Mexico'],\n",
       "    'affiliations': [{'raw_affiliation_string': 'Departamento de Física, Escuela Superior de Física y Matemáticas del IPN, Unidad Adolfo López Mateos, Edificio 9, Distrito Federal, 07738, Mexico',\n",
       "      'institution_ids': ['https://openalex.org/I59361560']}]},\n",
       "   {'author_position': 'middle',\n",
       "    'author': {'id': 'https://openalex.org/A5030927904',\n",
       "     'display_name': 'Alberto Molgado',\n",
       "     'orcid': 'https://orcid.org/0000-0001-8040-8484'},\n",
       "    'institutions': [{'id': 'https://openalex.org/I47400469',\n",
       "      'display_name': 'Universidad Autónoma de Zacatecas \"Francisco García Salinas\"',\n",
       "      'ror': 'https://ror.org/01m296r74',\n",
       "      'country_code': 'MX',\n",
       "      'type': 'funder',\n",
       "      'lineage': ['https://openalex.org/I47400469']}],\n",
       "    'countries': ['MX'],\n",
       "    'is_corresponding': False,\n",
       "    'raw_author_name': 'ALBERTO MOLGADO',\n",
       "    'raw_affiliation_strings': ['Unidad Académica de Física, Universidad Autónoma de Zacatecas, Calzada Solidaridad esq. Paseo a la Bufa s/n, 98062 Zacatecas, Zac., MEXICO, Dual CP Institute of High Energy Physics, Mexico'],\n",
       "    'affiliations': [{'raw_affiliation_string': 'Unidad Académica de Física, Universidad Autónoma de Zacatecas, Calzada Solidaridad esq. Paseo a la Bufa s/n, 98062 Zacatecas, Zac., MEXICO, Dual CP Institute of High Energy Physics, Mexico',\n",
       "      'institution_ids': ['https://openalex.org/I47400469']}]},\n",
       "   {'author_position': 'last',\n",
       "    'author': {'id': 'https://openalex.org/A5111485082',\n",
       "     'display_name': 'Efraı́n Rojas',\n",
       "     'orcid': None},\n",
       "    'institutions': [{'id': 'https://openalex.org/I147280213',\n",
       "      'display_name': 'Universidad Veracruzana',\n",
       "      'ror': 'https://ror.org/03efxn362',\n",
       "      'country_code': 'MX',\n",
       "      'type': 'funder',\n",
       "      'lineage': ['https://openalex.org/I147280213']}],\n",
       "    'countries': ['MX'],\n",
       "    'is_corresponding': False,\n",
       "    'raw_author_name': 'EFRAIN ROJAS',\n",
       "    'raw_affiliation_strings': ['Departamento de Física, Facultad de Física e Inteligencia Artificial, Universidad Veracruzana, 91000 Xalapa, Ver., Mexico'],\n",
       "    'affiliations': [{'raw_affiliation_string': 'Departamento de Física, Facultad de Física e Inteligencia Artificial, Universidad Veracruzana, 91000 Xalapa, Ver., Mexico',\n",
       "      'institution_ids': ['https://openalex.org/I147280213']}]}],\n",
       "  'institution_assertions': [],\n",
       "  'countries_distinct_count': 1,\n",
       "  'institutions_distinct_count': 3,\n",
       "  'corresponding_author_ids': [],\n",
       "  'corresponding_institution_ids': [],\n",
       "  'apc_list': None,\n",
       "  'apc_paid': None,\n",
       "  'fwci': None,\n",
       "  'has_fulltext': False,\n",
       "  'cited_by_count': 0,\n",
       "  'citation_normalized_percentile': None,\n",
       "  'cited_by_percentile_year': {'min': 0, 'max': 64},\n",
       "  'biblio': {'volume': None,\n",
       "   'issue': None,\n",
       "   'first_page': '1986',\n",
       "   'last_page': '1988'},\n",
       "  'is_retracted': False,\n",
       "  'is_paratext': False,\n",
       "  'primary_topic': None,\n",
       "  'topics': [],\n",
       "  'keywords': [],\n",
       "  'concepts': [{'id': 'https://openalex.org/C41008148',\n",
       "    'wikidata': 'https://www.wikidata.org/wiki/Q21198',\n",
       "    'display_name': 'Computer science',\n",
       "    'level': 0,\n",
       "    'score': 0.48835632},\n",
       "   {'id': 'https://openalex.org/C121864883',\n",
       "    'wikidata': 'https://www.wikidata.org/wiki/Q677916',\n",
       "    'display_name': 'Statistical physics',\n",
       "    'level': 1,\n",
       "    'score': 0.3367329},\n",
       "   {'id': 'https://openalex.org/C121332964',\n",
       "    'wikidata': 'https://www.wikidata.org/wiki/Q413',\n",
       "    'display_name': 'Physics',\n",
       "    'level': 0,\n",
       "    'score': 0.2714846}],\n",
       "  'mesh': [],\n",
       "  'locations_count': 1,\n",
       "  'locations': [{'is_oa': False,\n",
       "    'landing_page_url': 'https://doi.org/10.1142/9789814374552_0382',\n",
       "    'pdf_url': None,\n",
       "    'source': None,\n",
       "    'license': None,\n",
       "    'license_id': None,\n",
       "    'version': None,\n",
       "    'is_accepted': False,\n",
       "    'is_published': False}],\n",
       "  'best_oa_location': None,\n",
       "  'sustainable_development_goals': [{'display_name': 'Climate action',\n",
       "    'score': 0.48,\n",
       "    'id': 'https://metadata.un.org/sdg/13'}],\n",
       "  'grants': [],\n",
       "  'datasets': [],\n",
       "  'versions': [],\n",
       "  'referenced_works_count': 0,\n",
       "  'referenced_works': [],\n",
       "  'related_works': ['https://openalex.org/W4402327032',\n",
       "   'https://openalex.org/W4396701345',\n",
       "   'https://openalex.org/W4396696052',\n",
       "   'https://openalex.org/W4391375266',\n",
       "   'https://openalex.org/W2748952813',\n",
       "   'https://openalex.org/W2390279801',\n",
       "   'https://openalex.org/W2382290278',\n",
       "   'https://openalex.org/W2376932109',\n",
       "   'https://openalex.org/W2358668433',\n",
       "   'https://openalex.org/W2001405890'],\n",
       "  'abstract_inverted_index': None,\n",
       "  'cited_by_api_url': 'https://api.openalex.org/works?filter=cites:W2316811290',\n",
       "  'counts_by_year': [],\n",
       "  'updated_date': '2025-01-24T15:50:13.392054',\n",
       "  'created_date': '2016-06-24'}]"
      ]
     },
     "execution_count": 109,
     "metadata": {},
     "output_type": "execute_result"
    }
   ],
   "source": [
    "OA"
   ]
  },
  {
   "cell_type": "code",
   "execution_count": 390,
   "id": "a9f7a005-df6a-421e-968f-768fc5d32a91",
   "metadata": {},
   "outputs": [
    {
     "name": "stdout",
     "output_type": "stream",
     "text": [
      "00020\r"
     ]
    }
   ],
   "source": [
    "ST = []\n",
    "i = 0\n",
    "for doi in FFF[0:20]:\n",
    "    status = {}\n",
    "    i += 1\n",
    "    print(str(i).zfill(5),end='\\r',flush=True)\n",
    "\n",
    "    #status = get_recid(doi,recids)\n",
    "    #if status:\n",
    "    #    ST.append(status)\n",
    "    #    #pass\n",
    "    #    continue\n",
    "    \n",
    "    \n",
    "    if doi.find('/arxiv.') == 8:\n",
    "        status = get_arxiv(doi,recids)\n",
    "    if status:\n",
    "        ST.append(status)\n",
    "        #pass\n",
    "        continue\n",
    "\n",
    "    status = get_countries(doi)\n",
    "    if status:\n",
    "        ST.append(status)\n",
    "        #pass\n",
    "        continue\n",
    "\n",
    "    \n",
    "    status = get_dois(doi,DD)\n",
    "    if status:\n",
    "        ST.append(status)\n",
    "        #pass\n",
    "        continue\n",
    "\n",
    "    status = get_authors(doi,authors)\n",
    "    ST.append(status)\n",
    "    #if i%100 == 0:\n"
   ]
  },
  {
   "cell_type": "code",
   "execution_count": 367,
   "id": "410c278a-a9d3-4036-8ede-8e9f4e1e72f4",
   "metadata": {},
   "outputs": [
    {
     "data": {
      "text/plain": [
       "'10.24275/uami.gq67jr29s'"
      ]
     },
     "execution_count": 367,
     "metadata": {},
     "output_type": "execute_result"
    }
   ],
   "source": [
    "doi"
   ]
  },
  {
   "cell_type": "code",
   "execution_count": 391,
   "id": "14505d43-e119-4693-bc4b-c88758344edb",
   "metadata": {},
   "outputs": [
    {
     "data": {
      "text/plain": [
       "[{'status': 'right_countries', 'doi': '10.1063/1.2710571'},\n",
       " {'status': 'wrong_countries', 'doi': '10.1007/s100529800817'},\n",
       " {'status': 'not_doi', 'recid': 1318327, 'doi': '10.48550/arxiv.1409.5695'},\n",
       " {'status': 'right_countries', 'doi': '10.1093/mnras/stu2558'},\n",
       " {'status': 'not_inspire_scope', 'doi': '10.24275/uami.gq67jr29s'},\n",
       " {'status': 'not_inspire_scope', 'doi': '10.2172/434870'},\n",
       " {'status': 'wrong_countries', 'doi': '10.1007/bf02817915'},\n",
       " {'status': 'wrong_countries', 'doi': '10.1016/0550-3213(95)00620-6'},\n",
       " {'status': 'right_countries', 'doi': '10.1093/mnras/sty733'},\n",
       " {'status': 'duplicated',\n",
       "  'arXiv': '10.48550/arxiv.2007.05004',\n",
       "  'doi': '10.1103/physrevd.107.095030'},\n",
       " {'status': 'mathching_inspire_authors',\n",
       "  'authors_id': ['A5053412812', 'A5068807109'],\n",
       "  'doi': '10.1016/0003-4916(82)90173-7'},\n",
       " {'status': 'wrong_countries', 'doi': '10.1140/epjc/s10052-022-11127-w'},\n",
       " {'status': 'not_inspire_scope', 'doi': '10.1109/tasc.2022.3157659'},\n",
       " {'status': 'right_countries', 'doi': '10.1140/epjc/s10052-015-3288-x'},\n",
       " {'status': 'right_countries', 'doi': '10.1016/j.astropartphys.2015.08.002'},\n",
       " {'status': 'mathching_inspire_authors',\n",
       "  'authors_id': ['A5000043563', 'A5081483281'],\n",
       "  'doi': '10.1109/pac.2005.1591321'},\n",
       " {'status': 'right_countries', 'doi': '10.1103/physrevd.93.124020'},\n",
       " {'status': 'right_countries', 'doi': '10.1088/1742-6596/590/1/012008'},\n",
       " {'status': 'right_countries', 'doi': '10.1093/mnras/stw1269'},\n",
       " {'status': 'mathching_inspire_authors',\n",
       "  'authors_id': ['A5058759801'],\n",
       "  'doi': '10.1007/bf00762333'}]"
      ]
     },
     "execution_count": 391,
     "metadata": {},
     "output_type": "execute_result"
    }
   ],
   "source": [
    "ST"
   ]
  },
  {
   "cell_type": "code",
   "execution_count": 258,
   "id": "ada192a8-4a9d-411f-b0c6-a549b5661dc2",
   "metadata": {},
   "outputs": [
    {
     "data": {
      "text/plain": [
       "False"
      ]
     },
     "execution_count": 258,
     "metadata": {},
     "output_type": "execute_result"
    }
   ],
   "source": [
    "1331731 in recids"
   ]
  },
  {
   "cell_type": "code",
   "execution_count": 183,
   "id": "dacab8ee-7552-49bb-a8b2-db348228dd35",
   "metadata": {},
   "outputs": [
    {
     "data": {
      "text/plain": [
       "False"
      ]
     },
     "execution_count": 183,
     "metadata": {},
     "output_type": "execute_result"
    }
   ],
   "source": [
    "'10.1016/0550-3213(95)00620-6' in DD"
   ]
  },
  {
   "cell_type": "code",
   "execution_count": 217,
   "id": "16bb5a4f-6f26-49ce-9ba5-600b52cce812",
   "metadata": {},
   "outputs": [
    {
     "data": {
      "text/plain": [
       "True"
      ]
     },
     "execution_count": 217,
     "metadata": {},
     "output_type": "execute_result"
    }
   ],
   "source": [
    "'10.1016/0550-3213(95)00259-u' in DD"
   ]
  },
  {
   "cell_type": "code",
   "execution_count": 116,
   "id": "caa681f0-b31d-442e-a43b-6649f998725e",
   "metadata": {},
   "outputs": [],
   "source": [
    "doi = '10.48550/arxiv.1409.5695'"
   ]
  },
  {
   "cell_type": "code",
   "execution_count": 127,
   "id": "f5fc07d9-8bc7-4b33-94d4-53e066ea437f",
   "metadata": {},
   "outputs": [],
   "source": [
    "    status = {}\n",
    "    oadoi = None\n",
    "    q = '/'.join(doi.split('/')[1:]).replace('arxiv.','arxiv:')\n",
    "    url = f\"https://inspirehep.net/api//literature?size=100&page=1&q={q}&fields=control_number,dois\"\n",
    "    LL = get_inspire(url)\n",
    "    time.sleep(0.1)\n",
    "    \n",
    "    if LL:\n",
    "        try:\n",
    "            oadoi = [ d for d in LL[0].get('metadata').get('dois') if d.get('source') != 'arXiv' and d.get('material') != 'erratum' \n",
    "              ][0].get('value').lower()\n",
    "        except:\n",
    "            oadoi = None\n",
    "    \n",
    "    if oadoi:\n",
    "        url = f\"https://api.openalex.org/works?filter=doi:{oadoi}\"\n",
    "        jj = requests.get(url)\n",
    "        time.sleep(0.1)\n",
    "    \n",
    "        if jj.status_code == 200 and jj.json().get('meta') and jj.json().get('meta').get('count'):\n",
    "            status = {'status':'duplicated',\n",
    "             'arXiv': doi,\n",
    "             'doi': oadoi\n",
    "            }\n",
    "            #return status\n",
    "\n",
    "    recid = LL[0].get('metadata').get('control_number')\n",
    "    if LL:\n",
    "        if recid in recids:\n",
    "            status = {'status': 'not_doi','recid': recid, 'doi': doi}\n",
    "        else:\n",
    "            status = {'status': 'check_countries', 'doi': doi} # arXiv without doi"
   ]
  },
  {
   "cell_type": "code",
   "execution_count": 128,
   "id": "1107f194-03b2-4399-b700-2790629d0288",
   "metadata": {},
   "outputs": [
    {
     "data": {
      "text/plain": [
       "{'status': 'not_doi', 'recid': 1318327, 'doi': '10.48550/arxiv.1409.5695'}"
      ]
     },
     "execution_count": 128,
     "metadata": {},
     "output_type": "execute_result"
    }
   ],
   "source": [
    "status"
   ]
  },
  {
   "cell_type": "code",
   "execution_count": null,
   "id": "0185a0eb-c396-47bc-843e-66016327f3df",
   "metadata": {},
   "outputs": [],
   "source": []
  },
  {
   "cell_type": "code",
   "execution_count": 120,
   "id": "7808250f-6eb7-4401-8137-87e4c28592ad",
   "metadata": {},
   "outputs": [
    {
     "data": {
      "text/plain": [
       "1318327"
      ]
     },
     "execution_count": 120,
     "metadata": {},
     "output_type": "execute_result"
    }
   ],
   "source": [
    "LL[0].get('metadata').get('control_number')"
   ]
  },
  {
   "cell_type": "code",
   "execution_count": 87,
   "id": "07022ee9-0fba-4acb-b037-e88f83330429",
   "metadata": {},
   "outputs": [
    {
     "data": {
      "text/plain": [
       "[{'status': 'right_countries', 'doi': '10.1063/1.2710571'},\n",
       " {'status': 'wrong_countries', 'doi': '10.1007/s100529800817'},\n",
       " {'status': 'check_countries', 'doi': '10.48550/arxiv.1409.5695'},\n",
       " {'status': 'right_countries', 'doi': '10.1093/mnras/stu2558'},\n",
       " {'status': 'not_mathching_authors', 'doi': '10.24275/uami.gq67jr29s'},\n",
       " {'status': 'not_mathching_authors', 'doi': '10.2172/434870'},\n",
       " {'status': 'wrong_countries', 'doi': '10.1007/bf02817915'},\n",
       " {'status': 'wrong_countries', 'doi': '10.1016/0550-3213(95)00620-6'},\n",
       " {'status': 'right_countries', 'doi': '10.1093/mnras/sty733'},\n",
       " {'status': 'duplicated',\n",
       "  'arXiv': '10.48550/arxiv.2007.05004',\n",
       "  'doi': '10.1103/physrevd.107.095030'}]"
      ]
     },
     "execution_count": 87,
     "metadata": {},
     "output_type": "execute_result"
    }
   ],
   "source": [
    "ST"
   ]
  },
  {
   "cell_type": "code",
   "execution_count": 83,
   "id": "1932a32f-feb8-495a-9bc5-b26599cc6680",
   "metadata": {},
   "outputs": [
    {
     "data": {
      "text/plain": [
       "{'status': 'wrong_countries', 'doi': '10.1007/s100529800817'}"
      ]
     },
     "execution_count": 83,
     "metadata": {},
     "output_type": "execute_result"
    }
   ],
   "source": [
    "get_countries(doi)"
   ]
  },
  {
   "cell_type": "code",
   "execution_count": 73,
   "id": "e0ec3c76-aea1-436c-a849-7b9e186d1863",
   "metadata": {},
   "outputs": [
    {
     "name": "stdout",
     "output_type": "stream",
     "text": [
      "00003\r"
     ]
    }
   ],
   "source": [
    "i += 1\n",
    "print(str(i).zfill(5),end='\\r')\n",
    " "
   ]
  },
  {
   "cell_type": "code",
   "execution_count": null,
   "id": "20103ab6-03f6-445b-a569-711554bd7d07",
   "metadata": {},
   "outputs": [],
   "source": []
  }
 ],
 "metadata": {
  "kernelspec": {
   "display_name": "Python 3 (ipykernel)",
   "language": "python",
   "name": "python3"
  },
  "language_info": {
   "codemirror_mode": {
    "name": "ipython",
    "version": 3
   },
   "file_extension": ".py",
   "mimetype": "text/x-python",
   "name": "python",
   "nbconvert_exporter": "python",
   "pygments_lexer": "ipython3",
   "version": "3.11.2"
  }
 },
 "nbformat": 4,
 "nbformat_minor": 5
}
