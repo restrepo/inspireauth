{
 "cells": [
  {
   "cell_type": "markdown",
   "id": "42f713a8-fbe9-4ec3-a672-b7b88c5fc3fb",
   "metadata": {},
   "source": [
    "* A formula of search is applied to OpenAlex to extract an equivalent database\n",
    "* We load the inspire papers and extract the dois from the `recid`s\n",
    "* We extract of the dois from the results in OpenAlex and compare with the dois from inspire:\n",
    "  * `DD`: inspire dois\n",
    "  * `FF`: OpenAlex dois\n",
    "  * `FF-DD`: dois only in OpenAlex: see [Status analysis](#Status-analysis): `status` values are:\n",
    "     * valid arXiv dois without extra dois: with `status['status'] = 'ok'` and `published = False`\n",
    "     * new valid dois with `status['status'] = 'ok'` with `status['affiliations_in_inspire'] = False`,  `status['date_range'] = 'outside'`, `status['mathching_inspire_authors']`. The first fixes missing affiliations, the second may be outside the date range, the third are not in inspire but have inspire authors\n",
    "     * duplicated entries in OpenAlex with `status in ['duplicated', 'duplicated_dois']`\n",
    "     * erros in OpenAlex with `status in [wrong_countries, wrong_doi]`. The first are bad affilitions, the second is not the real doi \n",
    "     * extra works that maybe are outside the scope of inspire with `status = 'not_inspire_scope'`\n",
    "     * `status = 'erratum_or_arxiv_doi'` ?\n",
    "    * `DD-FF`: dois inly in inspire:\n",
    "     * Not found in the OpenAlex search formula because:\n",
    "       * Missing or wrong affilitions in OpenAlex\n",
    "       * Greater publication year that inspire cut of July 2022. In inspire the `publication_year` count as arXiv preprint year\n",
    "       * topic assignation"
   ]
  },
  {
   "cell_type": "markdown",
   "id": "874271d4-6156-4bf8-acff-3791dfde9ad7",
   "metadata": {},
   "source": [
    "## Results\n",
    "### TOTAL:\n",
    "* 11856 dois not in the INSPIREHEP-LA database →:\n",
    "### In the scope of inspire\n",
    "  * 8205 with `'status' == ok` but the proper doi was not captured because → :\n",
    "      * 4487 in INSPIREHEP → :\n",
    "          * 3553 works with missing affiliations in inspire but with LA aff in OA (inspire error)\n",
    "          * 931 works with affiliations in inspire →:\n",
    "              * 481 arxiv works which have not doi in inspire-hep (not published or published in journal without doi)\n",
    "              * 450 published with inspire affiliations →:\n",
    "                  * 377 of `year >= 2022` (not covered in the initial selection)\n",
    "                  * 42 erratum dois (counts separatly in OpenAlex)\n",
    "                  * 34 unknown \n",
    "          * 3 with mising authors in inspire: `None` affiliations in inspire\n",
    "      * 3718 not in INSPIREHEP but with INSPIREHEP-LA authors accordinf to OpenAlex (in the scope of inspire)\n",
    "  * 817 with wrong country assignation in OpenAlex\n",
    "  * 513  arxiv works which are duplicated in OpenAlex to other works with doi in the INSPIREHEP-LA database\n",
    "  * 200 doi works which are duplicated in OpenAlex to other works with doi in the INSPIREHEP-LA database\n",
    "### Not in the scope of inspire\n",
    "  * 2121 not in INSPIRE scope\n",
    "\n",
    "\n",
    "affiliations_in_inspire\n",
    "False    3553\n",
    "True      931\n",
    "None        3"
   ]
  },
  {
   "cell_type": "code",
   "execution_count": 1,
   "id": "0b447b2c-d700-4c62-af72-ea58f14fe0e3",
   "metadata": {},
   "outputs": [],
   "source": [
    "import pandas as pd"
   ]
  },
  {
   "cell_type": "code",
   "execution_count": 2,
   "id": "bcd8a795-1372-434d-a66e-3aed6f3f54d2",
   "metadata": {},
   "outputs": [],
   "source": [
    "results = pd.DataFrame([{'Type': 'Intersection INSPIRE-HEP-LA OpenAlex', 'Works count': 27138},\n",
    "              {'Type': 'Missing affiliation in INSPIRE-HEP-LA', 'Works count':3553 },\n",
    "              {'Type': 'Not in INSPIRE-HEP but with INSPIRE-HEP-LA authors', 'Works count': 3718 },\n",
    "              {'Type': 'In not-LA INSPIRE-HEP but with wrong LA-affiliation in OpenAlex', 'Works count': 817},\n",
    "              {'Type': \"arXiv DOIs in OpenAlex which are duplicated to DOIs in 1.\", 'Works count': 513 },\n",
    "              {'Type': 'arXiv DOIs in OpenAlex unpublished in INSPIRE-HEP-LA', 'Works count': 481 },\n",
    "              {'Type': 'Outside published range of INSPIRE-HEP-LA', 'Works count': 377 },\n",
    "              {'Type': \"Duplicated DOIs in OpenAlex corresponding to a work with two DOIs in INSPIRE-HEP-LA\", 'Works count': 200 },\n",
    "              {'Type': 'Independent erratum DOI in OpenAlex and two DOIS in INSPIRE-HEP-LA', 'Works count':42 },\n",
    "              {'Type': 'Others', 'Works count': 35},\n",
    "              {'Type': 'Not in the scope of INSPIRE-HEP-LA', 'Works count': 2121 }\n",
    "             ])"
   ]
  },
  {
   "cell_type": "code",
   "execution_count": 3,
   "id": "4335289d-4ce9-4ccd-a0d2-90639e81b46d",
   "metadata": {},
   "outputs": [
    {
     "data": {
      "text/plain": [
       "38995"
      ]
     },
     "execution_count": 3,
     "metadata": {},
     "output_type": "execute_result"
    }
   ],
   "source": [
    "results['Works count'].sum()"
   ]
  },
  {
   "cell_type": "code",
   "execution_count": 4,
   "id": "3e631c06-4385-4180-b57f-3e49ef877b42",
   "metadata": {},
   "outputs": [],
   "source": [
    "TOTAL = results['Works count'].sum()\n",
    "results['\\%'] = results['Works count'].apply(lambda x: round(x/TOTAL*100,1))\n",
    "results['index'] = [f\"{x+1})\" for x in results.index]\n",
    "with open('results.tex','w') as f:\n",
    "    f.write(results[['index', 'Type', 'Works count', '\\%']].to_latex(index=False))"
   ]
  },
  {
   "cell_type": "code",
   "execution_count": 5,
   "id": "5255abf5-fd41-4635-a2ff-e40353587092",
   "metadata": {},
   "outputs": [
    {
     "data": {
      "text/plain": [
       "99.89999999999998"
      ]
     },
     "execution_count": 5,
     "metadata": {},
     "output_type": "execute_result"
    }
   ],
   "source": [
    "results['\\%'].sum()"
   ]
  },
  {
   "cell_type": "markdown",
   "id": "bc888a63-ad2e-4da5-a7c0-9099260e53cc",
   "metadata": {},
   "source": [
    "## Generate datasets"
   ]
  },
  {
   "cell_type": "code",
   "execution_count": 6,
   "id": "78b85481-f4f9-4463-8a63-27ffcec29fea",
   "metadata": {},
   "outputs": [],
   "source": [
    "latin_america_countries = {\n",
    "    \"Argentina\": \"AR\",\n",
    "    \"Bolivia\": \"BO\",\n",
    "    \"Brazil\": \"BR\",\n",
    "    \"Chile\": \"CL\",\n",
    "    \"Colombia\": \"CO\",\n",
    "    \"Costa Rica\": \"CR\",\n",
    "    \"Cuba\": \"CU\",\n",
    "    \"Dominican Republic\": \"DO\",\n",
    "    \"Ecuador\": \"EC\",\n",
    "    \"El Salvador\": \"SV\",\n",
    "    \"Guatemala\": \"GT\",\n",
    "    \"Haiti\": \"HT\",\n",
    "    \"Honduras\": \"HN\",\n",
    "    \"Mexico\": \"MX\",\n",
    "    \"Nicaragua\": \"NI\",\n",
    "    \"Panama\": \"PA\",\n",
    "    \"Paraguay\": \"PY\",\n",
    "    \"Peru\": \"PE\",\n",
    "    \"Uruguay\": \"UY\",\n",
    "    \"Venezuela\": \"VE\"\n",
    "}\n",
    "#    \"Puerto Rico\": \"PR\","
   ]
  },
  {
   "cell_type": "code",
   "execution_count": 7,
   "id": "5b14d9f8-45c1-4056-886f-22b7d8d0d696",
   "metadata": {},
   "outputs": [],
   "source": [
    "import requests\n",
    "import json\n",
    "import time\n",
    "import gzip"
   ]
  },
  {
   "cell_type": "code",
   "execution_count": 8,
   "id": "1472c2d3-84c9-4b32-b71f-899030a10637",
   "metadata": {},
   "outputs": [],
   "source": [
    "LA = []\n",
    "next_cursor = \"*\"\n",
    "p = 200\n",
    "TOPICS = 't10048|t10224|t10527|t10921|t11090|t10025|t10095|\\\n",
    "t11415|t11044|t11367|t10463'\n",
    "\n",
    "COUNTRIES = 'countries/ar|countries/bo|countries/br|countries/cl|\\\n",
    "countries/co|countries/cr|countries/cu|countries/do|countries/ec|\\\n",
    "countries/sv|countries/gt|countries/hn|countries/mx|countries/pa|\\\n",
    "countries/py|countries/pe|countries/uy|countries/ve'\n",
    "\n",
    "url_topics = f\"https://api.openalex.org/works?page=1&filter=topics.id:{TOPICS},\\\n",
    "authors_count:1-10,authorships.countries:{COUNTRIES},publication_year:1900-2022&\\\n",
    "sort=cited_by_count:desc&per_page={p}&cursor={next_cursor}\""
   ]
  },
  {
   "cell_type": "code",
   "execution_count": 9,
   "id": "85f7b1e8-77f2-44f3-b13e-e8ac96c512be",
   "metadata": {},
   "outputs": [],
   "source": [
    "loop = False\n",
    "while loop:\n",
    "    #url_topics = f\"https://api.openalex.org/works?page=1&filter=authorships.author.id:a5049648126&sort=cited_by_count:desc&per_page=200&cursor={next_cursor}\"\n",
    "    \n",
    "    j = requests.get(url_topics)\n",
    "    \n",
    "    la = j.json()\n",
    "    \n",
    "    la_meta = la.get('meta')\n",
    "    next_cursor = la_meta.get('next_cursor')\n",
    "    \n",
    "    if not next_cursor:\n",
    "        #break\n",
    "        print('stop')\n",
    "        break\n",
    "    \n",
    "    LA = LA + la.get('results')\n",
    "    print(len(LA),end='\\r')"
   ]
  },
  {
   "cell_type": "code",
   "execution_count": 10,
   "id": "6b22c2a7-822c-4980-bb82-c0cb82560569",
   "metadata": {},
   "outputs": [],
   "source": [
    "if loop:\n",
    "    with gzip.open(\"data/openalex_topics.json.gz\", 'w') as fout:\n",
    "        fout.write(json.dumps(LA).encode('utf-8'))     "
   ]
  },
  {
   "cell_type": "code",
   "execution_count": 11,
   "id": "084c11e6-d8bd-4182-a409-1c06398ad3bf",
   "metadata": {},
   "outputs": [],
   "source": [
    "with gzip.open(\"openalex_topics.json.gz\", 'r') as fin:\n",
    "    LA = json.loads(fin.read().decode('utf-8'))"
   ]
  },
  {
   "cell_type": "code",
   "execution_count": 95,
   "id": "5b8fcda9-4f6a-4879-95a6-4e128c19c901",
   "metadata": {},
   "outputs": [],
   "source": [
    "if loop:\n",
    "    f = 'data/papers.json'\n",
    "    try:\n",
    "        with open(f, 'r') as file:\n",
    "            data = json.load(file)\n",
    "            print(\"File data =\", f)\n",
    "    except FileNotFoundError:\n",
    "        print(\"Error: The file 'data.json' was not found.\")\n",
    "    except json.JSONDecodeError:\n",
    "        print(\"Error: Failed to decode JSON from the file.\")"
   ]
  },
  {
   "cell_type": "code",
   "execution_count": 13,
   "id": "b278d4b2-0c8f-4581-8895-730c28d5f127",
   "metadata": {},
   "outputs": [],
   "source": [
    "import pandas as pd"
   ]
  },
  {
   "cell_type": "code",
   "execution_count": null,
   "id": "2fc6aa8b-a35d-4126-8332-4da84b777e60",
   "metadata": {},
   "outputs": [],
   "source": [
    "if loop:\n",
    "    inspa = pd.DataFrame(data)\n",
    "    \n",
    "    del data\n",
    "    \n",
    "    recids =inspa['recid'].unique()\n",
    "    len(recids)\n",
    "    \n",
    "    recids = [int(x) for x in recids]\n",
    "\n",
    "    del inspa<\n",
    "\n",
    "with open('data/recids.json','w') as f:\n",
    "    json.dump(recids,f)"
   ]
  },
  {
   "cell_type": "code",
   "execution_count": 97,
   "id": "e645bac9-bf36-41ad-9217-3530a4683907",
   "metadata": {},
   "outputs": [],
   "source": [
    "with open('data/recids.json','r') as f:\n",
    "    recids = json.load(f)"
   ]
  },
  {
   "cell_type": "code",
   "execution_count": 98,
   "id": "0b41cfba-267f-43ed-8b66-4af8df325478",
   "metadata": {},
   "outputs": [
    {
     "data": {
      "text/plain": [
       "49181"
      ]
     },
     "execution_count": 98,
     "metadata": {},
     "output_type": "execute_result"
    }
   ],
   "source": [
    "len(recids)"
   ]
  },
  {
   "cell_type": "code",
   "execution_count": 18,
   "id": "5b5ec2f0-9d15-4143-ba40-165460c28d16",
   "metadata": {},
   "outputs": [
    {
     "data": {
      "text/plain": [
       "True"
      ]
     },
     "execution_count": 18,
     "metadata": {},
     "output_type": "execute_result"
    }
   ],
   "source": [
    "393487 in recids"
   ]
  },
  {
   "cell_type": "code",
   "execution_count": 19,
   "id": "c46713dc-4bdb-41e4-8859-24de63293af9",
   "metadata": {},
   "outputs": [],
   "source": [
    "#list(recids).index(393487)"
   ]
  },
  {
   "cell_type": "code",
   "execution_count": 20,
   "id": "aa4c9377-da97-459a-bfd1-d23f2f2758ab",
   "metadata": {},
   "outputs": [],
   "source": [
    "#recids = recids[32287:32288]"
   ]
  },
  {
   "cell_type": "code",
   "execution_count": 21,
   "id": "cef16d5d-3e18-4431-99e5-be2b915ac9fa",
   "metadata": {},
   "outputs": [],
   "source": [
    "loop = False\n",
    "if loop:\n",
    "    dois = []\n",
    "    for x in list(range(0,len(L)+1,80))[1:]:\n",
    "        time.sleep(0.1)\n",
    "        print(f\"{x-80}:{x}\",end='\\r')\n",
    "    \n",
    "        q='%20or%20'.join([ f\"recid:{x}\" for x in recids[x-80:x]])\n",
    "        \n",
    "        url = f\"https://inspirehep.net/api/literature?size=100&page=1&q={q}&fields=dois\"\n",
    "        \n",
    "        jj = requests.get(url)\n",
    "        \n",
    "        try:\n",
    "            LL = jj.json().get('hits').get('hits')\n",
    "        except:\n",
    "            LL = []\n",
    "        \n",
    "        if not LL:\n",
    "            continue\n",
    "            \n",
    "        tmp = pd.DataFrame(LL)\n",
    "        tmp['control_number'] = tmp['metadata'].str['control_number']\n",
    "        tmp['doi'] = tmp['metadata'].str['dois'].str[0].str['value']\n",
    "        dois = dois + tmp[['control_number','doi']].dropna().to_dict(orient='records')\n",
    "        #break"
   ]
  },
  {
   "cell_type": "code",
   "execution_count": 22,
   "id": "cb1b43ed-aab4-46fb-8270-db4d5037d26d",
   "metadata": {},
   "outputs": [],
   "source": [
    "if loop:\n",
    "    with open(\"data/inspire_dois.json\", \"w\") as json_file:\n",
    "        json.dump(dois, json_file)"
   ]
  },
  {
   "cell_type": "code",
   "execution_count": 23,
   "id": "37fb84b9-1052-48ae-b694-07af53eedf75",
   "metadata": {},
   "outputs": [],
   "source": [
    "with open(\"data/inspire_dois.json\", \"r\") as json_file:\n",
    "    dois = json.load(json_file)"
   ]
  },
  {
   "cell_type": "code",
   "execution_count": 24,
   "id": "b042c6e2-40cf-48a7-9b12-bbbb1bc6c1ff",
   "metadata": {},
   "outputs": [],
   "source": [
    "di = pd.DataFrame(dois)"
   ]
  },
  {
   "cell_type": "code",
   "execution_count": 25,
   "id": "1a7414c6-cd0d-4664-87ed-7772688e5000",
   "metadata": {},
   "outputs": [],
   "source": [
    "di['doi'] = di['doi'].str.lower()"
   ]
  },
  {
   "cell_type": "code",
   "execution_count": 26,
   "id": "d48e65dc-0220-426f-911e-cb8ed9029091",
   "metadata": {},
   "outputs": [
    {
     "data": {
      "text/plain": [
       "(38713, (38713,))"
      ]
     },
     "execution_count": 26,
     "metadata": {},
     "output_type": "execute_result"
    }
   ],
   "source": [
    "di['doi'].shape[0], di['doi'].unique().shape"
   ]
  },
  {
   "cell_type": "code",
   "execution_count": 27,
   "id": "ec18c019-b46e-4eef-8d78-43f2f50fdbe4",
   "metadata": {},
   "outputs": [],
   "source": [
    "df = pd.DataFrame(LA)"
   ]
  },
  {
   "cell_type": "code",
   "execution_count": 28,
   "id": "f28adb9d-737d-4bf2-9601-e147d6574750",
   "metadata": {},
   "outputs": [],
   "source": [
    "del LA"
   ]
  },
  {
   "cell_type": "code",
   "execution_count": 29,
   "id": "bea5aac2-dded-47f9-ad9d-2b7829c1e811",
   "metadata": {},
   "outputs": [
    {
     "data": {
      "text/plain": [
       "(41731, 50)"
      ]
     },
     "execution_count": 29,
     "metadata": {},
     "output_type": "execute_result"
    }
   ],
   "source": [
    "df.shape"
   ]
  },
  {
   "cell_type": "code",
   "execution_count": 30,
   "id": "ba337dfc-60d3-42fd-b3e1-7af7fad32e7c",
   "metadata": {},
   "outputs": [
    {
     "data": {
      "text/plain": [
       "274"
      ]
     },
     "execution_count": 30,
     "metadata": {},
     "output_type": "execute_result"
    }
   ],
   "source": [
    "len(df['primary_topic'].str['display_name'].unique())"
   ]
  },
  {
   "cell_type": "code",
   "execution_count": 31,
   "id": "fcbfc1cc-ef81-4669-b136-24fa54815f01",
   "metadata": {},
   "outputs": [],
   "source": [
    "topics = url_topics.split('topics.id:')[-1].split(',')[0].split('|')\n",
    "topics = [t.lower() for t in topics]"
   ]
  },
  {
   "cell_type": "code",
   "execution_count": 32,
   "id": "60d7491a-250d-4041-a85b-daf39f465dd1",
   "metadata": {},
   "outputs": [
    {
     "data": {
      "text/plain": [
       "array(['Cosmology and Gravitation Theories (t10095)',\n",
       "       'Black Holes and Theoretical Physics (t10025)',\n",
       "       'Noncommutative and Quantum Gravity Theories (t11415)',\n",
       "       'Particle physics theoretical and experimental studies (t10048)',\n",
       "       'High-Energy Particle Collisions Research (t10527)',\n",
       "       'Dark Matter and Cosmic Phenomena (t11090)',\n",
       "       'Pulsars and Gravitational Waves Research (t10463)',\n",
       "       'Neutrino Physics Research (t10921)',\n",
       "       'Quantum Chromodynamics and Particle Interactions (t10224)',\n",
       "       'Particle accelerators and beam dynamics (t11367)',\n",
       "       'Particle Detector Development and Performance (t11044)'],\n",
       "      dtype=object)"
      ]
     },
     "execution_count": 32,
     "metadata": {},
     "output_type": "execute_result"
    }
   ],
   "source": [
    "df['topics'].apply(lambda L: [f\"{d.get('display_name')} ({d.get('id').split('/')[-1].lower()})\"  for d in L if d.get('id').split('/')[-1].lower() in topics] ).str[0].unique()"
   ]
  },
  {
   "cell_type": "code",
   "execution_count": 33,
   "id": "21cd6c33-a10c-468d-bf87-986a313438f1",
   "metadata": {},
   "outputs": [],
   "source": [
    "def topics_score(L,topics,score = 0):\n",
    "    LL = []\n",
    "    for d in L:\n",
    "        if d['id'].split('/')[-1].lower() in topics and d['score'] >= score:\n",
    "            LL.append(d)\n",
    "    return LL"
   ]
  },
  {
   "cell_type": "code",
   "execution_count": 34,
   "id": "ba2dcd06-9cfe-4870-89fe-b48cf4f97eeb",
   "metadata": {},
   "outputs": [
    {
     "data": {
      "text/plain": [
       "(41349, 50)"
      ]
     },
     "execution_count": 34,
     "metadata": {},
     "output_type": "execute_result"
    }
   ],
   "source": [
    "score = 0.9\n",
    "df = df[df['topics'].apply(lambda L: topics_score(L,topics,score=score)).apply(len)> 0].reset_index(drop=True)\n",
    "df.shape"
   ]
  },
  {
   "cell_type": "code",
   "execution_count": 35,
   "id": "c8ed1272-ab22-4740-9ff1-430a74d0c54a",
   "metadata": {},
   "outputs": [
    {
     "data": {
      "text/plain": [
       "((41349,), (38997,), (38995,))"
      ]
     },
     "execution_count": 35,
     "metadata": {},
     "output_type": "execute_result"
    }
   ],
   "source": [
    "df['doi'] = df['doi'].str.lower().str.split('https://doi.org/').str[-1]\n",
    "df['doi'].shape,df['doi'].dropna().shape,df['doi'].dropna().unique().shape"
   ]
  },
  {
   "cell_type": "code",
   "execution_count": 36,
   "id": "85a0b3cf-441a-4f49-a4f9-5bdda8950a40",
   "metadata": {},
   "outputs": [],
   "source": [
    "df['countries'] = df['authorships'].apply(lambda L: [d.get('countries') for d in L]\n",
    "                       ).apply(lambda L: \n",
    "        list(set([item for sublist in L for item in sublist])))\n"
   ]
  },
  {
   "cell_type": "code",
   "execution_count": 37,
   "id": "a5031e90-73f3-4707-89a6-ab3bcf0a5b40",
   "metadata": {},
   "outputs": [],
   "source": [
    "CC = []\n",
    "for country in latin_america_countries:\n",
    "    country_code = latin_america_countries[country]\n",
    "    d = { 'country': country,\n",
    "        'country_code': country_code, \n",
    "        'cited_by_count':int(df[df['countries'].apply(\n",
    "            lambda L: country_code in L)]['cited_by_count'].sum())}\n",
    "    CC.append(d)"
   ]
  },
  {
   "cell_type": "code",
   "execution_count": 38,
   "id": "f0890a62-959b-4a17-b98b-b918d73ce21a",
   "metadata": {},
   "outputs": [],
   "source": [
    "%matplotlib inline"
   ]
  },
  {
   "cell_type": "code",
   "execution_count": 39,
   "id": "66cb1628-41ff-444a-bb7a-589f91fba43a",
   "metadata": {},
   "outputs": [],
   "source": [
    "import matplotlib.pyplot as plt"
   ]
  },
  {
   "cell_type": "code",
   "execution_count": 40,
   "id": "b5983809-4745-461c-9ef4-a395dd56b693",
   "metadata": {},
   "outputs": [],
   "source": [
    "with open('all_citations_total_oa.json','w') as f:\n",
    "    json.dump(CC,f)"
   ]
  },
  {
   "cell_type": "code",
   "execution_count": 41,
   "id": "f1ce2d26-9b2a-4d5f-a6f8-372c39a20f58",
   "metadata": {},
   "outputs": [
    {
     "data": {
      "image/png": "[encoded data removed]",
      "text/plain": [
       "<Figure size 640x480 with 1 Axes>"
      ]
     },
     "metadata": {},
     "output_type": "display_data"
    }
   ],
   "source": [
    "plt.bar([d.get('country_code') for d in CC if d.get('cited_by_count') > 0],\n",
    "          [d.get('cited_by_count') for d in CC if d.get('cited_by_count') > 0])\n",
    "plt.semilogy()\n",
    "plt.grid()\n",
    "plt.savefig('citation_count_by_OA.pdf')"
   ]
  },
  {
   "cell_type": "code",
   "execution_count": 42,
   "id": "8374ff02-78ca-4c5b-b9dc-575f401b248c",
   "metadata": {},
   "outputs": [],
   "source": [
    "DD = di['doi'].dropna().to_list() # dois in inspire (missing dois if duplicates)\n",
    "FF = df['doi'].dropna().to_list() # dois in OpenAlex"
   ]
  },
  {
   "cell_type": "code",
   "execution_count": 43,
   "id": "3331994e-9f4a-4d75-a018-01ee919ed8e1",
   "metadata": {},
   "outputs": [
    {
     "data": {
      "text/plain": [
       "False"
      ]
     },
     "execution_count": 43,
     "metadata": {},
     "output_type": "execute_result"
    }
   ],
   "source": [
    "'10.1016/j.nuclphysb.2018.12.017' in DD"
   ]
  },
  {
   "cell_type": "code",
   "execution_count": 44,
   "id": "6f2658ef-1f3f-4363-9b8f-8b0845f924db",
   "metadata": {},
   "outputs": [
    {
     "data": {
      "text/plain": [
       "38713"
      ]
     },
     "execution_count": 44,
     "metadata": {},
     "output_type": "execute_result"
    }
   ],
   "source": [
    "len(DD)"
   ]
  },
  {
   "cell_type": "code",
   "execution_count": 45,
   "id": "e7196661-2948-4694-bce6-a5b5a0f75d7a",
   "metadata": {},
   "outputs": [
    {
     "data": {
      "text/plain": [
       "38997"
      ]
     },
     "execution_count": 45,
     "metadata": {},
     "output_type": "execute_result"
    }
   ],
   "source": [
    "len(FF)"
   ]
  },
  {
   "cell_type": "code",
   "execution_count": 46,
   "id": "f77bb8e6-badb-4b30-9cbf-52af5ece8315",
   "metadata": {},
   "outputs": [
    {
     "data": {
      "text/plain": [
       "27138"
      ]
     },
     "execution_count": 46,
     "metadata": {},
     "output_type": "execute_result"
    }
   ],
   "source": [
    "intersection = list(set(DD).intersection( FF ))\n",
    "len(intersection) # In both inspire and OpenAlex"
   ]
  },
  {
   "cell_type": "code",
   "execution_count": 47,
   "id": "31827549-03a1-4375-9d0b-3f8a90725236",
   "metadata": {},
   "outputs": [
    {
     "data": {
      "text/plain": [
       "15527"
      ]
     },
     "execution_count": 47,
     "metadata": {},
     "output_type": "execute_result"
    }
   ],
   "source": [
    "dfa = df[df['doi'].apply(lambda d: d in intersection)].reset_index(drop=True)\n",
    "authors = dfa['authorships'].apply(lambda L: [d.get('author').get('id').split('/')[-1] for d in L] )\n",
    "authors = list(set([item for sublist in authors for item in sublist]))\n",
    "len(authors) #authors both in inspire and OpenAlex"
   ]
  },
  {
   "cell_type": "code",
   "execution_count": 48,
   "id": "400e2531-ebea-419b-aff9-5aefdf4cbf9d",
   "metadata": {},
   "outputs": [],
   "source": [
    "DDD = list(set(DD).difference( FF  ))\n",
    "FFF = list(set(FF).difference(DD))"
   ]
  },
  {
   "cell_type": "code",
   "execution_count": 49,
   "id": "a5617d1d-0247-4498-b8ea-4a897be5260a",
   "metadata": {},
   "outputs": [
    {
     "data": {
      "text/plain": [
       "11575"
      ]
     },
     "execution_count": 49,
     "metadata": {},
     "output_type": "execute_result"
    }
   ],
   "source": [
    "len(DDD) # only inspire"
   ]
  },
  {
   "cell_type": "code",
   "execution_count": 50,
   "id": "95bc5865-7aaa-4552-9958-6e406f07ecf9",
   "metadata": {},
   "outputs": [],
   "source": [
    "with open('DDD.json','w') as f:\n",
    "    json.dump(DDD,f)"
   ]
  },
  {
   "cell_type": "code",
   "execution_count": 51,
   "id": "77426226-7462-4f84-89c5-c18e6b2865e5",
   "metadata": {},
   "outputs": [
    {
     "data": {
      "text/plain": [
       "11857"
      ]
     },
     "execution_count": 51,
     "metadata": {},
     "output_type": "execute_result"
    }
   ],
   "source": [
    "len(FFF) # only OpenAlex"
   ]
  },
  {
   "cell_type": "code",
   "execution_count": 52,
   "id": "c53f54e4-b252-4125-ba46-192044c691a5",
   "metadata": {},
   "outputs": [
    {
     "data": {
      "text/plain": [
       "(1277, 51)"
      ]
     },
     "execution_count": 52,
     "metadata": {},
     "output_type": "execute_result"
    }
   ],
   "source": [
    "df[df['doi'].astype(str).str.contains('arxiv')].shape # OpenAlex works in arXiv only "
   ]
  },
  {
   "cell_type": "code",
   "execution_count": 53,
   "id": "6df3349b-ef28-4c8e-aacf-a6deaa677b58",
   "metadata": {},
   "outputs": [],
   "source": [
    "trueFF = df[df['primary_location'].str['source'].str['issn_l'].apply(lambda s: s is not None)]['doi'].dropna().to_list()"
   ]
  },
  {
   "cell_type": "code",
   "execution_count": 54,
   "id": "ef733444-27b2-4b57-8a22-4ba588726c58",
   "metadata": {},
   "outputs": [
    {
     "data": {
      "text/plain": [
       "(35136, 38997)"
      ]
     },
     "execution_count": 54,
     "metadata": {},
     "output_type": "execute_result"
    }
   ],
   "source": [
    "len(trueFF),len(FF)"
   ]
  },
  {
   "cell_type": "code",
   "execution_count": 55,
   "id": "72faafc4-f4b1-466c-9b09-376340208361",
   "metadata": {},
   "outputs": [],
   "source": [
    "trueFFF = list(set(trueFF).difference(DD))"
   ]
  },
  {
   "cell_type": "code",
   "execution_count": 56,
   "id": "56782af2-4a20-445f-993c-164468d707f0",
   "metadata": {},
   "outputs": [
    {
     "data": {
      "text/plain": [
       "8941"
      ]
     },
     "execution_count": 56,
     "metadata": {},
     "output_type": "execute_result"
    }
   ],
   "source": [
    "len(trueFFF)"
   ]
  },
  {
   "cell_type": "code",
   "execution_count": 57,
   "id": "f0856801-7e02-417f-a7e9-0191570fbc81",
   "metadata": {},
   "outputs": [],
   "source": [
    "del df"
   ]
  },
  {
   "cell_type": "code",
   "execution_count": 58,
   "id": "5262aeb5-926d-4821-8f42-547a1e1c47c4",
   "metadata": {},
   "outputs": [],
   "source": [
    "del dfa"
   ]
  },
  {
   "cell_type": "code",
   "execution_count": 59,
   "id": "27136468-7846-41b9-bf72-d150ac828aa0",
   "metadata": {},
   "outputs": [],
   "source": [
    "def get_inspire(url):\n",
    "    jj = requests.get(url)\n",
    "        \n",
    "    try:\n",
    "        LL = jj.json().get('hits').get('hits')\n",
    "    except:\n",
    "        LL = []\n",
    "\n",
    "    return LL\n",
    "    \n",
    "def clean_dois(dois):\n",
    "    return [d for d in dois if d.get('source') != 'arXiv' and d.get('material') != 'erratum']\n",
    "\n",
    "\n",
    "\n",
    "def get_authors(doi,authors):\n",
    "    status = {}\n",
    "    url = f\"https://api.openalex.org/works?filter=doi:{doi}\"\n",
    "    jj = requests.get(url)\n",
    "    time.sleep(0.1)\n",
    "    if jj.status_code == 200 and jj.json().get('meta') and jj.json().get('meta').get('count'):\n",
    "        try:\n",
    "            au = [ d.get('author').get('id').split('/')[-1] for d in jj.json().get('results')[0].get('authorships')]\n",
    "        except:\n",
    "            au = []\n",
    "        auint = list(set(au).intersection(authors))    \n",
    "        if len(auint) > 0:\n",
    "            status = { 'status': 'ok',\n",
    "                       'mathching_inspire_authors': True,\n",
    "                       'mathching_inspire_author_ids': auint,\n",
    "                       'doi': doi}\n",
    "        else: # outside inspire\n",
    "            status = { 'status': 'not_inspire_scope', \n",
    "                       'mathching_inspire_authors': False,\n",
    "                       'mathching_inspire_author_ids': [],\n",
    "                       'doi': doi}\n",
    "    return status"
   ]
  },
  {
   "cell_type": "code",
   "execution_count": 60,
   "id": "0744010d-e97a-47fd-845d-64de8496b271",
   "metadata": {},
   "outputs": [
    {
     "data": {
      "text/plain": [
       "['10.1007/978-3-662-46035-1_11',\n",
       " '10.26512/2015.08.d.18709',\n",
       " '10.48550/arxiv.0810.1071',\n",
       " '10.48550/arxiv.astro-ph/0210583',\n",
       " '10.1142/9789812704030_0298',\n",
       " '10.1142/9789812702227_0107',\n",
       " '10.48550/arxiv.0801.2559',\n",
       " '10.1007/978-3-319-21846-5_124',\n",
       " '10.48550/arxiv.1710.10929',\n",
       " '10.1142/9789812811653_0011',\n",
       " '10.48550/arxiv.1708.04718',\n",
       " '10.48550/arxiv.2006.07290',\n",
       " '10.1142/9789814447232_0002',\n",
       " '10.48550/arxiv.2101.02753',\n",
       " '10.24275/uami.br86b365p']"
      ]
     },
     "execution_count": 60,
     "metadata": {},
     "output_type": "execute_result"
    }
   ],
   "source": [
    "no_issn_dois = list(set(FFF).difference(trueFFF)) # doi not relate to journals with issns\n",
    "no_issn_dois[0:15]"
   ]
  },
  {
   "cell_type": "markdown",
   "id": "58fd631c-943c-4de4-81be-c251f6e7d56e",
   "metadata": {},
   "source": [
    "## Status analysis"
   ]
  },
  {
   "cell_type": "code",
   "execution_count": 61,
   "id": "0b870d62-cfd5-46fa-8cde-f68618831e8e",
   "metadata": {},
   "outputs": [
    {
     "data": {
      "text/plain": [
       "True"
      ]
     },
     "execution_count": 61,
     "metadata": {},
     "output_type": "execute_result"
    }
   ],
   "source": [
    "2151035 not in recids"
   ]
  },
  {
   "cell_type": "code",
   "execution_count": 62,
   "id": "cd24873e-6be9-4871-8d99-fee0c8b243d2",
   "metadata": {},
   "outputs": [],
   "source": [
    "def get_year(arxiv_doi):\n",
    "    arxiv_id =arxiv_doi.split('/')\n",
    "    if len(arxiv_id) == 2:\n",
    "        year = eval('20'+arxiv_id[-1].split('arxiv.')[-1][:2])\n",
    "    elif len(arxiv_id) == 3:\n",
    "        year = arxiv_id[-1][:2]\n",
    "        if year[0] == '0':\n",
    "             year = eval('20' + year)\n",
    "        else:\n",
    "            year = eval('19' + year)\n",
    "    \n",
    "    return year"
   ]
  },
  {
   "cell_type": "code",
   "execution_count": 63,
   "id": "94fc0449-e247-42f2-8088-6159cd4ccc49",
   "metadata": {},
   "outputs": [
    {
     "data": {
      "text/plain": [
       "2005"
      ]
     },
     "execution_count": 63,
     "metadata": {},
     "output_type": "execute_result"
    }
   ],
   "source": [
    "max_year = 2022\n",
    "arxiv_doi = '10.48550/arxiv.0801.2559'\n",
    "arxiv_doi = '10.48550/arxiv.astro-ph/9505300'\n",
    "arxiv_doi = '10.48550/arxiv.astro-ph/0505300'\n",
    "get_year(arxiv_doi)"
   ]
  },
  {
   "cell_type": "code",
   "execution_count": 64,
   "id": "68da0ebf-0b25-4932-be37-563e4440c645",
   "metadata": {},
   "outputs": [],
   "source": [
    "doi = '10.1088/1742-6596/590/1/012008'\n",
    "doi =  '10.48550/arxiv.0801.2559'\n",
    "#doi = '10.1103/physrevd.93.124020'\n",
    "#doi = '10.48550/arxiv.astro-ph/0505300' # test: not_doi\n",
    "#doi = '10.48550/arxiv.1909.10299' # test: duplicated\n",
    "#doi = '10.1007/s100520050258' # test: duplicated_dois\n",
    "#doi = '10.1140/epjc/s10052-015-3288-x' # test: right_countries\n",
    "#doi = '10.1007/bf02817915' # test: wrong_countries\n",
    "doi = '10.24275/uami.gq67jr29s' # test: 'mathching_inspire_authors' and 'status': 'not_inspire_scope'\n",
    "doi = '10.1016/0003-4916(82)90173-7' # test matching_authors\n",
    "doi = '10.1063/1.2710571' # test wrong_affiliations\n",
    "doi = '10.1016/0550-3213(95)00620-6' # test duplicated dois\n",
    "#doi = '10.1088/1742-6596/590/1/012008' #test\n",
    "#doi = '10.1140/epjc/s10052-022-11127-w' # test outside_range\n",
    "#doi = '10.1007/bf00762333' # test 'mathching_inspire_authors'"
   ]
  },
  {
   "cell_type": "code",
   "execution_count": 65,
   "id": "71facbca-0227-4a5d-9b1c-caa20b07599d",
   "metadata": {},
   "outputs": [],
   "source": [
    "def check_doi(doi, recids, DD, authors, max_year):\n",
    "    url = f\"https://inspirehep.net/api/literature?q=doi:{doi}&fields=control_number,authors,dois,publication_info\"\n",
    "    LL = get_inspire(url)\n",
    "    time.sleep(0.1)\n",
    "\n",
    "    \n",
    "    status = {'doi':doi,'in_inspire': False}\n",
    "    arxiv_doi = None\n",
    "    if doi.find('/arxiv.') == 8:\n",
    "        arxiv_doi = doi\n",
    "    \n",
    "    status['arxiv_doi'] = arxiv_doi\n",
    "    \n",
    "    metadata = None\n",
    "    if LL:\n",
    "        metadata = LL[0].get('metadata')\n",
    "        status['in_inspire'] = True # len(LL) != 0\n",
    "    inspire_authors = None\n",
    "    all_dois = None\n",
    "    control_number = None\n",
    "    publication_info = None\n",
    "    if metadata:\n",
    "        inspire_authors = metadata.get('authors')\n",
    "        all_dois = metadata.get('dois')\n",
    "        control_number = metadata.get('control_number')\n",
    "        publication_info = metadata.get('publication_info')\n",
    "    \n",
    "    inspire_dois = []\n",
    "    status['recid'] = control_number\n",
    "    status['in_recids'] = False\n",
    "    status['published'] = True\n",
    "    status['erratum_doi'] = None\n",
    "    status['inspire_dois'] = []\n",
    "    status['new_doi'] = None\n",
    "    status['oa_errors'] = []\n",
    "    status['inspire_scope'] = True\n",
    "    status['new_doi_in_inspire'] = None\n",
    "    status['affiliations_in_inspire'] = None\n",
    "    status['mathching_inspire_authors'] = None\n",
    "    status['mathching_inspire_author_ids'] = None\n",
    "    status['date_range'] = None\n",
    "    status['year'] = None\n",
    "    \n",
    "    if publication_info:\n",
    "        try:\n",
    "            status['year'] = max([d.get('year') for d in publication_info])\n",
    "        except:\n",
    "            status['year'] = None\n",
    "    \n",
    "    if not status['year'] and status['arxiv_doi']:\n",
    "        status['year'] = get_year(status['arxiv_doi'])\n",
    "    \n",
    "    # chek if already in database\n",
    "    if control_number and control_number in recids:\n",
    "        status['in_recids'] = True\n",
    "    else:\n",
    "        # check inspire_scope\n",
    "        pass\n",
    "    \n",
    "    # Check if published with doi\n",
    "    if all_dois:\n",
    "        erratum_doi = [d for d in all_dois if d.get('material') == 'erratum']\n",
    "        if erratum_doi:\n",
    "            status['erratum_doi'] = erratum_doi[0]\n",
    "        inspire_dois = [d for d in all_dois if d.get('source') != 'arXiv' and d.get('material') != 'erratum']\n",
    "        status['inspire_dois'] = list(set([d.get('value').lower() for d in inspire_dois]))\n",
    "    else:\n",
    "        if status['in_inspire']:\n",
    "            status['published'] = False\n",
    "    \n",
    "    # Analysis\n",
    "    status['status'] = None\n",
    "    if status.get('arxiv_doi') and status['inspire_dois']:\n",
    "        status['new_doi'] = status['inspire_dois'][0]\n",
    "        status['status'] = 'duplicated'\n",
    "        status['oa_errors'].append(status['status'])\n",
    "    else:\n",
    "        status['status'] = 'ok'\n",
    "    \n",
    "    if not status.get('arxiv_doi') and status['inspire_dois']:\n",
    "        if len(status['inspire_dois']) > 1:\n",
    "            status['new_doi'] = [x for x in status['inspire_dois'] if x != doi ][0]\n",
    "            status['status'] = 'duplicated_dois'\n",
    "            status['oa_errors'].append(status['status'])\n",
    "    else:\n",
    "        if not status['oa_errors']:\n",
    "            status['status'] = 'ok'\n",
    "    \n",
    "    if status['new_doi'] and status['new_doi'] in DD:\n",
    "        status['new_doi_in_inspire'] = True\n",
    "    else:\n",
    "        status['new_doi_in_inspire'] = False\n",
    "    if inspire_authors:\n",
    "        affiliations = [d for d in inspire_authors if d.get('affiliations')]\n",
    "        if affiliations: # not affiliations in inspire\n",
    "            status['affiliations_in_inspire'] = True\n",
    "        else:\n",
    "            status['affiliations_in_inspire'] = False\n",
    "    \n",
    "    # not in inspire LA database but in inspire → affiliations exist and are not LA\n",
    "    if status['in_inspire'] and not status['in_recids'] and status['affiliations_in_inspire']:\n",
    "        # check year conflict\n",
    "        if status['year'] and status['year'] >= max_year:\n",
    "            status['status'] = 'ok'\n",
    "            status['date_range'] = 'outside'\n",
    "        else:\n",
    "            status['status'] = 'wrong_countries'\n",
    "            status['oa_errors'].append(status['status'])\n",
    "    else:\n",
    "        if not status['oa_errors']:\n",
    "            status['status'] = 'ok'\n",
    "    \n",
    "    # not in inspire → check for inspire authors\n",
    "    if not status['in_inspire'] and not status['in_recids']:\n",
    "        check_status = get_authors(doi,authors)\n",
    "        status['status'] = check_status['status']\n",
    "        if status['status'] == 'not_inspire_scope':\n",
    "            status['oa_errors'].append(status['status'])\n",
    "        else:\n",
    "            if not status['oa_errors']:\n",
    "                status['status'] = 'ok'\n",
    "            \n",
    "        status['mathching_inspire_authors'] = check_status['mathching_inspire_authors']\n",
    "        status['mathching_inspire_author_ids'] = check_status['mathching_inspire_author_ids']\n",
    "    \n",
    "    if len(status.get('oa_errors')) > 0:\n",
    "        status['status'] = status.get('oa_errors')[0]\n",
    "    return status"
   ]
  },
  {
   "cell_type": "code",
   "execution_count": 78,
   "id": "72aec288-c126-48d6-9595-4f1dac3cb5ad",
   "metadata": {},
   "outputs": [],
   "source": [
    "#status"
   ]
  },
  {
   "cell_type": "code",
   "execution_count": 79,
   "id": "42c6aea5-68d4-483b-8cb1-050325877baf",
   "metadata": {},
   "outputs": [],
   "source": [
    "#dfa[dfa['authorships'].apply(lambda L: [d.get('author').get('id').split('/')[-1] for d in L] ).apply(lambda L: 'A5058759801' in L)]"
   ]
  },
  {
   "cell_type": "code",
   "execution_count": 123,
   "id": "5c2e9690-2e89-4597-b347-57124e069fb3",
   "metadata": {},
   "outputs": [],
   "source": [
    "#check_doi(doi,recids, DD, authors, max_year)"
   ]
  },
  {
   "cell_type": "markdown",
   "id": "b6ae22b7-a5f7-42ad-8e0d-063c030ab4f3",
   "metadata": {},
   "source": [
    "### Only OpenAlex"
   ]
  },
  {
   "cell_type": "code",
   "execution_count": 66,
   "id": "7d1601fd-c6ab-49c3-8d7a-4eaf6906eceb",
   "metadata": {},
   "outputs": [],
   "source": [
    "if loop:\n",
    "    ST = []\n",
    "    i = 0\n",
    "    for doi in FFF:\n",
    "        status = {}\n",
    "        i += 1\n",
    "        print(str(i).zfill(5),end='\\r',flush=True)\n",
    "        status = check_doi(doi,recids, DD, authors, max_year)\n",
    "        ST.append(status)"
   ]
  },
  {
   "cell_type": "code",
   "execution_count": 67,
   "id": "2b7a9232-0654-45fe-afed-492ac81e4db8",
   "metadata": {},
   "outputs": [],
   "source": [
    "if loop:\n",
    "    with open('data/only_openalex.json','w') as f:\n",
    "        json.dump(ST,f)"
   ]
  },
  {
   "cell_type": "code",
   "execution_count": 68,
   "id": "bb64e389-8f65-4bd7-b2e6-88c0ef37e4b3",
   "metadata": {},
   "outputs": [],
   "source": [
    "with open('data/only_openalex.json','r') as f:\n",
    "    ST = json.load(f)"
   ]
  },
  {
   "cell_type": "code",
   "execution_count": 69,
   "id": "42902ab1-c51b-4909-a272-20d2709e7a82",
   "metadata": {},
   "outputs": [
    {
     "data": {
      "text/plain": [
       "11857"
      ]
     },
     "execution_count": 69,
     "metadata": {},
     "output_type": "execute_result"
    }
   ],
   "source": [
    "len(FFF)"
   ]
  },
  {
   "cell_type": "code",
   "execution_count": 70,
   "id": "11969545-3fed-4480-9ea7-6e057b494696",
   "metadata": {},
   "outputs": [],
   "source": [
    "import pandas as pd"
   ]
  },
  {
   "cell_type": "code",
   "execution_count": 71,
   "id": "a4ec08e3-4b54-49bf-afb8-9f05cf7e6e64",
   "metadata": {},
   "outputs": [],
   "source": [
    "ST = pd.DataFrame(ST)"
   ]
  },
  {
   "cell_type": "code",
   "execution_count": 72,
   "id": "8026f3a6-eb6f-4e76-91bf-ab3316d5920b",
   "metadata": {},
   "outputs": [
    {
     "data": {
      "text/plain": [
       "11575"
      ]
     },
     "execution_count": 72,
     "metadata": {},
     "output_type": "execute_result"
    }
   ],
   "source": [
    "len(DDD)"
   ]
  },
  {
   "cell_type": "code",
   "execution_count": 73,
   "id": "7d5fed4b-9e78-471f-87e7-aa3821067534",
   "metadata": {},
   "outputs": [],
   "source": [
    "def fix_status_ok(oa_errors,status):\n",
    "    if len(oa_errors) > 0:\n",
    "        status = oa_errors[0]\n",
    "    return status"
   ]
  },
  {
   "cell_type": "code",
   "execution_count": 74,
   "id": "5152b961-f716-4371-aff6-64ec5d2e2439",
   "metadata": {},
   "outputs": [],
   "source": [
    "ST['status'] = ST.apply(lambda d: fix_status_ok(d['oa_errors'],d['status']), axis='columns')"
   ]
  },
  {
   "cell_type": "code",
   "execution_count": 75,
   "id": "36aa61bd-5def-4e57-ada3-22b3982ef77f",
   "metadata": {},
   "outputs": [
    {
     "data": {
      "text/plain": [
       "status\n",
       "not_inspire_scope    2121\n",
       "wrong_countries       817\n",
       "duplicated            513\n",
       "duplicated_dois       200\n",
       "Name: count, dtype: int64"
      ]
     },
     "execution_count": 75,
     "metadata": {},
     "output_type": "execute_result"
    }
   ],
   "source": [
    "ST[ST['oa_errors'].apply(len)>0]['status'].value_counts()#.sum()"
   ]
  },
  {
   "cell_type": "code",
   "execution_count": 76,
   "id": "da59209a-cb86-4b73-a4ce-bb362cc00220",
   "metadata": {},
   "outputs": [
    {
     "data": {
      "text/plain": [
       "status\n",
       "ok                   8204\n",
       "not_inspire_scope    2121\n",
       "wrong_countries       817\n",
       "duplicated            513\n",
       "duplicated_dois       200\n",
       "Name: count, dtype: int64"
      ]
     },
     "execution_count": 76,
     "metadata": {},
     "output_type": "execute_result"
    }
   ],
   "source": [
    "ST['status'].value_counts()"
   ]
  },
  {
   "cell_type": "code",
   "execution_count": 77,
   "id": "647e6dc3-3f48-4a42-954b-474afe484d35",
   "metadata": {},
   "outputs": [
    {
     "data": {
      "text/plain": [
       "11855"
      ]
     },
     "execution_count": 77,
     "metadata": {},
     "output_type": "execute_result"
    }
   ],
   "source": [
    "ST['status'].value_counts().sum()"
   ]
  },
  {
   "cell_type": "code",
   "execution_count": 78,
   "id": "b055ea73-7b64-44e4-a103-93a949b82789",
   "metadata": {},
   "outputs": [
    {
     "data": {
      "text/plain": [
       "(8204, 18)"
      ]
     },
     "execution_count": 78,
     "metadata": {},
     "output_type": "execute_result"
    }
   ],
   "source": [
    "ok = ST[ST['status'] == 'ok']\n",
    "ok.shape"
   ]
  },
  {
   "cell_type": "code",
   "execution_count": 79,
   "id": "aea8489a-1e29-4745-8c50-d9ffc6ac05b0",
   "metadata": {},
   "outputs": [
    {
     "data": {
      "text/plain": [
       "(4486, 18)"
      ]
     },
     "execution_count": 79,
     "metadata": {},
     "output_type": "execute_result"
    }
   ],
   "source": [
    "in_inspire = ok[ok['in_inspire']]\n",
    "in_inspire.shape"
   ]
  },
  {
   "cell_type": "code",
   "execution_count": 80,
   "id": "2e12e91a-4704-48db-abec-607c2e78c17d",
   "metadata": {},
   "outputs": [
    {
     "data": {
      "text/plain": [
       "(3718, 18)"
      ]
     },
     "execution_count": 80,
     "metadata": {},
     "output_type": "execute_result"
    }
   ],
   "source": [
    "not_in_inspire = ok[~ok['in_inspire']]\n",
    "not_in_inspire.shape"
   ]
  },
  {
   "cell_type": "code",
   "execution_count": 81,
   "id": "b0d56fd9-6df2-4cb4-b954-e147aaa4e418",
   "metadata": {},
   "outputs": [
    {
     "data": {
      "text/plain": [
       "affiliations_in_inspire\n",
       "False    3553\n",
       "True      930\n",
       "None        3\n",
       "Name: count, dtype: int64"
      ]
     },
     "execution_count": 81,
     "metadata": {},
     "output_type": "execute_result"
    }
   ],
   "source": [
    "in_inspire['affiliations_in_inspire'].fillna('None').value_counts()"
   ]
  },
  {
   "cell_type": "code",
   "execution_count": 82,
   "id": "4598def1-9958-464e-ae71-f495bc696e31",
   "metadata": {},
   "outputs": [
    {
     "data": {
      "text/plain": [
       "4486"
      ]
     },
     "execution_count": 82,
     "metadata": {},
     "output_type": "execute_result"
    }
   ],
   "source": [
    "in_inspire['affiliations_in_inspire'].fillna('None').value_counts().sum()"
   ]
  },
  {
   "cell_type": "code",
   "execution_count": 83,
   "id": "51607534-70d6-4ac8-924e-055ed384aca2",
   "metadata": {},
   "outputs": [
    {
     "data": {
      "text/plain": [
       "3553"
      ]
     },
     "execution_count": 83,
     "metadata": {},
     "output_type": "execute_result"
    }
   ],
   "source": [
    "not_aff = in_inspire[~in_inspire['affiliations_in_inspire'].fillna(True)].reset_index(drop=True)\n",
    "not_aff.shape[0]"
   ]
  },
  {
   "cell_type": "code",
   "execution_count": 84,
   "id": "abf66992-51e5-4a34-b716-0f275ff79f34",
   "metadata": {},
   "outputs": [
    {
     "data": {
      "text/plain": [
       "'10.1142/s0218271810017950'"
      ]
     },
     "execution_count": 84,
     "metadata": {},
     "output_type": "execute_result"
    }
   ],
   "source": [
    "not_aff['doi'].iloc[0]"
   ]
  },
  {
   "cell_type": "code",
   "execution_count": 85,
   "id": "34e597f0-c23b-4920-b25e-5ca4af3fa417",
   "metadata": {},
   "outputs": [
    {
     "data": {
      "text/plain": [
       "930"
      ]
     },
     "execution_count": 85,
     "metadata": {},
     "output_type": "execute_result"
    }
   ],
   "source": [
    "in_inspire_aff = in_inspire[in_inspire['affiliations_in_inspire'] == True].reset_index(drop=True)\n",
    "in_inspire_aff.shape[0]"
   ]
  },
  {
   "cell_type": "code",
   "execution_count": 86,
   "id": "8c4f6668-3776-46c7-9624-cc39b648f75f",
   "metadata": {},
   "outputs": [
    {
     "data": {
      "text/plain": [
       "(3, 18)"
      ]
     },
     "execution_count": 86,
     "metadata": {},
     "output_type": "execute_result"
    }
   ],
   "source": [
    "None_aff = in_inspire[in_inspire['affiliations_in_inspire'].isna()]\n",
    "None_aff.shape"
   ]
  },
  {
   "cell_type": "code",
   "execution_count": 87,
   "id": "53ac4387-8645-4379-94a2-0c3d208823b6",
   "metadata": {},
   "outputs": [
    {
     "data": {
      "text/html": [
       "<div>\n",
       "<style scoped>\n",
       "    .dataframe tbody tr th:only-of-type {\n",
       "        vertical-align: middle;\n",
       "    }\n",
       "\n",
       "    .dataframe tbody tr th {\n",
       "        vertical-align: top;\n",
       "    }\n",
       "\n",
       "    .dataframe thead th {\n",
       "        text-align: right;\n",
       "    }\n",
       "</style>\n",
       "<table border=\"1\" class=\"dataframe\">\n",
       "  <thead>\n",
       "    <tr style=\"text-align: right;\">\n",
       "      <th></th>\n",
       "      <th>doi</th>\n",
       "      <th>in_inspire</th>\n",
       "      <th>arxiv_doi</th>\n",
       "      <th>recid</th>\n",
       "      <th>in_recids</th>\n",
       "      <th>published</th>\n",
       "      <th>erratum_doi</th>\n",
       "      <th>inspire_dois</th>\n",
       "      <th>new_doi</th>\n",
       "      <th>oa_errors</th>\n",
       "      <th>inspire_scope</th>\n",
       "      <th>new_doi_in_inspire</th>\n",
       "      <th>affiliations_in_inspire</th>\n",
       "      <th>mathching_inspire_authors</th>\n",
       "      <th>mathching_inspire_author_ids</th>\n",
       "      <th>date_range</th>\n",
       "      <th>year</th>\n",
       "      <th>status</th>\n",
       "    </tr>\n",
       "  </thead>\n",
       "  <tbody>\n",
       "    <tr>\n",
       "      <th>288</th>\n",
       "      <td>10.1109/23.34546</td>\n",
       "      <td>True</td>\n",
       "      <td>None</td>\n",
       "      <td>277148.0</td>\n",
       "      <td>False</td>\n",
       "      <td>True</td>\n",
       "      <td>None</td>\n",
       "      <td>[10.1109/23.34546]</td>\n",
       "      <td>None</td>\n",
       "      <td>[]</td>\n",
       "      <td>True</td>\n",
       "      <td>False</td>\n",
       "      <td>None</td>\n",
       "      <td>None</td>\n",
       "      <td>None</td>\n",
       "      <td>None</td>\n",
       "      <td>1989.0</td>\n",
       "      <td>ok</td>\n",
       "    </tr>\n",
       "    <tr>\n",
       "      <th>3043</th>\n",
       "      <td>10.1088/1742-6596/354/1/012015</td>\n",
       "      <td>True</td>\n",
       "      <td>None</td>\n",
       "      <td>1112635.0</td>\n",
       "      <td>False</td>\n",
       "      <td>True</td>\n",
       "      <td>None</td>\n",
       "      <td>[10.1088/1742-6596/354/1/012015]</td>\n",
       "      <td>None</td>\n",
       "      <td>[]</td>\n",
       "      <td>True</td>\n",
       "      <td>False</td>\n",
       "      <td>None</td>\n",
       "      <td>None</td>\n",
       "      <td>None</td>\n",
       "      <td>None</td>\n",
       "      <td>NaN</td>\n",
       "      <td>ok</td>\n",
       "    </tr>\n",
       "    <tr>\n",
       "      <th>6457</th>\n",
       "      <td>10.14311/app.2014.01.0132</td>\n",
       "      <td>True</td>\n",
       "      <td>None</td>\n",
       "      <td>1421731.0</td>\n",
       "      <td>False</td>\n",
       "      <td>True</td>\n",
       "      <td>None</td>\n",
       "      <td>[10.14311/app.2014.01.0132]</td>\n",
       "      <td>None</td>\n",
       "      <td>[]</td>\n",
       "      <td>True</td>\n",
       "      <td>False</td>\n",
       "      <td>None</td>\n",
       "      <td>None</td>\n",
       "      <td>None</td>\n",
       "      <td>None</td>\n",
       "      <td>2014.0</td>\n",
       "      <td>ok</td>\n",
       "    </tr>\n",
       "  </tbody>\n",
       "</table>\n",
       "</div>"
      ],
      "text/plain": [
       "                                 doi  in_inspire arxiv_doi      recid  \\\n",
       "288                 10.1109/23.34546        True      None   277148.0   \n",
       "3043  10.1088/1742-6596/354/1/012015        True      None  1112635.0   \n",
       "6457       10.14311/app.2014.01.0132        True      None  1421731.0   \n",
       "\n",
       "      in_recids  published erratum_doi                      inspire_dois  \\\n",
       "288       False       True        None                [10.1109/23.34546]   \n",
       "3043      False       True        None  [10.1088/1742-6596/354/1/012015]   \n",
       "6457      False       True        None       [10.14311/app.2014.01.0132]   \n",
       "\n",
       "     new_doi oa_errors  inspire_scope  new_doi_in_inspire  \\\n",
       "288     None        []           True               False   \n",
       "3043    None        []           True               False   \n",
       "6457    None        []           True               False   \n",
       "\n",
       "     affiliations_in_inspire mathching_inspire_authors  \\\n",
       "288                     None                      None   \n",
       "3043                    None                      None   \n",
       "6457                    None                      None   \n",
       "\n",
       "     mathching_inspire_author_ids date_range    year status  \n",
       "288                          None       None  1989.0     ok  \n",
       "3043                         None       None     NaN     ok  \n",
       "6457                         None       None  2014.0     ok  "
      ]
     },
     "execution_count": 87,
     "metadata": {},
     "output_type": "execute_result"
    }
   ],
   "source": [
    "None_aff"
   ]
  },
  {
   "cell_type": "code",
   "execution_count": 335,
   "id": "c695ceb7-5fe3-47b3-8de9-1a3143d6952e",
   "metadata": {},
   "outputs": [
    {
     "data": {
      "text/plain": [
       "(481,)"
      ]
     },
     "execution_count": 335,
     "metadata": {},
     "output_type": "execute_result"
    }
   ],
   "source": [
    "not_published = in_inspire_aff[( (in_inspire_aff['arxiv_doi'].str.contains('arxiv\\.'))  \n",
    "               & (~in_inspire_aff['published']) )]\n",
    "\n",
    "not_published.shape[0],"
   ]
  },
  {
   "cell_type": "code",
   "execution_count": 336,
   "id": "3e784e77-76f6-44bb-8c4b-5c3a18f6ebaa",
   "metadata": {},
   "outputs": [
    {
     "data": {
      "text/plain": [
       "(450,)"
      ]
     },
     "execution_count": 336,
     "metadata": {},
     "output_type": "execute_result"
    }
   ],
   "source": [
    "published = in_inspire_aff[~( (in_inspire_aff['arxiv_doi'].str.contains('arxiv\\.'))  \n",
    "               & (~in_inspire_aff['published']) )]\n",
    "\n",
    "published.shape[0],"
   ]
  },
  {
   "cell_type": "code",
   "execution_count": 339,
   "id": "00eb6df8-0cfa-4060-a0ad-7aa824a6b5c3",
   "metadata": {},
   "outputs": [
    {
     "data": {
      "text/plain": [
       "(377, 19)"
      ]
     },
     "execution_count": 339,
     "metadata": {},
     "output_type": "execute_result"
    }
   ],
   "source": [
    "published_year = published[published['year']>=2022]\n",
    "published_year.shape"
   ]
  },
  {
   "cell_type": "code",
   "execution_count": 340,
   "id": "3002d252-0811-44fb-b29a-9cd204bbb824",
   "metadata": {},
   "outputs": [
    {
     "data": {
      "text/plain": [
       "(376,)"
      ]
     },
     "execution_count": 340,
     "metadata": {},
     "output_type": "execute_result"
    }
   ],
   "source": [
    "published_year['doi'].drop_duplicates().shape"
   ]
  },
  {
   "cell_type": "code",
   "execution_count": 342,
   "id": "5b6727b3-d8a3-44f7-9a2a-af025ab37fb2",
   "metadata": {},
   "outputs": [
    {
     "data": {
      "text/plain": [
       "(76, 19)"
      ]
     },
     "execution_count": 342,
     "metadata": {},
     "output_type": "execute_result"
    }
   ],
   "source": [
    "published_not_year = published_ok[published_ok['year'].fillna(0)<2022]\n",
    "published_not_year.shape"
   ]
  },
  {
   "cell_type": "code",
   "execution_count": 343,
   "id": "7f7a22d8-97a5-4cbb-83a6-3e7392f8e9be",
   "metadata": {},
   "outputs": [
    {
     "data": {
      "text/plain": [
       "42"
      ]
     },
     "execution_count": 343,
     "metadata": {},
     "output_type": "execute_result"
    }
   ],
   "source": [
    "published_not_year[published_not_year['erratum_doi'].apply(lambda d: isinstance(d,dict))].shape[0]"
   ]
  },
  {
   "cell_type": "code",
   "execution_count": 344,
   "id": "6bb965e9-2e76-49eb-8cbe-e2e4afecdc9b",
   "metadata": {},
   "outputs": [
    {
     "data": {
      "text/plain": [
       "(34, 19)"
      ]
     },
     "execution_count": 344,
     "metadata": {},
     "output_type": "execute_result"
    }
   ],
   "source": [
    "published_not_year[~published_not_year['erratum_doi'].apply(lambda d: isinstance(d,dict))].shape"
   ]
  },
  {
   "cell_type": "markdown",
   "id": "100f9fec-47f2-4081-b032-05208e4c0935",
   "metadata": {},
   "source": [
    "### Only INSPIRE-HEP"
   ]
  },
  {
   "cell_type": "code",
   "execution_count": 136,
   "id": "f1266196-f47f-4684-92c2-5f16cc2f31a9",
   "metadata": {},
   "outputs": [
    {
     "data": {
      "text/plain": [
       "['10.1103/physrevd.30.765',\n",
       " '10.1088/1742-6596/410/1/012073',\n",
       " '10.1063/1.54697',\n",
       " '10.1017/s1743921306003127',\n",
       " '10.1140/epjc/s10052-019-7461-5',\n",
       " '10.1103/physrevd.66.045004',\n",
       " '10.1016/j.physletb.2005.08.095',\n",
       " '10.1086/426809',\n",
       " '10.2991/jnmp.2003.10.2.7',\n",
       " '10.1007/jhep10(2015)191']"
      ]
     },
     "execution_count": 136,
     "metadata": {},
     "output_type": "execute_result"
    }
   ],
   "source": [
    "DDD[:10]"
   ]
  },
  {
   "cell_type": "code",
   "execution_count": 138,
   "id": "0a578633-339e-4ad0-ad37-e82bf7e5107a",
   "metadata": {
    "scrolled": true
   },
   "outputs": [],
   "source": [
    "if loop:\n",
    "    OA = []\n",
    "    i = 0\n",
    "    for t in DDD:\n",
    "        url = f\"https://api.openalex.org/works?filter=doi:{t}\"\n",
    "        j = requests.get(url)\n",
    "        try:\n",
    "            jj = j.json().get('results')[0]\n",
    "        except:\n",
    "            pass\n",
    "        if jj:\n",
    "            OA.append(jj)\n",
    "        print(str(i).zfill(5),end='\\r')\n",
    "        i += 1\n",
    "        time.sleep(0.1)"
   ]
  },
  {
   "cell_type": "code",
   "execution_count": 162,
   "id": "5276776f-d5a4-43ba-ab65-e16025c3b491",
   "metadata": {},
   "outputs": [
    {
     "data": {
      "text/plain": [
       "38713"
      ]
     },
     "execution_count": 162,
     "metadata": {},
     "output_type": "execute_result"
    }
   ],
   "source": [
    "len(DD)"
   ]
  },
  {
   "cell_type": "code",
   "execution_count": 114,
   "id": "4f7be7d7-c0d1-4157-99e4-24ec6aa4c811",
   "metadata": {},
   "outputs": [],
   "source": [
    "if loop:\n",
    "    with gzip.open('data/only_inspire_in_OpenAlex.json.gz','w') as f:\n",
    "        f.write(json.dumps(OA).encode('utf-8')) "
   ]
  },
  {
   "cell_type": "code",
   "execution_count": 115,
   "id": "f24b5a12-643e-4dc7-936d-452bc5dcbb48",
   "metadata": {},
   "outputs": [],
   "source": [
    "with gzip.open('data/only_inspire_in_OpenAlex.json.gz','r') as f:\n",
    "        OA = json.loads(f.read().decode('utf-8'))"
   ]
  },
  {
   "cell_type": "code",
   "execution_count": 117,
   "id": "8681e7ba-aac1-4440-bae9-b3b6f1d613fc",
   "metadata": {},
   "outputs": [
    {
     "data": {
      "text/plain": [
       "11575"
      ]
     },
     "execution_count": 117,
     "metadata": {},
     "output_type": "execute_result"
    }
   ],
   "source": [
    "len(OA)"
   ]
  },
  {
   "cell_type": "code",
   "execution_count": 143,
   "id": "2c98abe2-8c5d-42bb-bda5-5031d4e9b715",
   "metadata": {},
   "outputs": [],
   "source": [
    "OA = pd.DataFrame(OA)"
   ]
  },
  {
   "cell_type": "code",
   "execution_count": 144,
   "id": "f2367006-204d-4c4a-90b4-7797af0d106d",
   "metadata": {},
   "outputs": [
    {
     "data": {
      "text/plain": [
       "(11575, 51)"
      ]
     },
     "execution_count": 144,
     "metadata": {},
     "output_type": "execute_result"
    }
   ],
   "source": [
    "OA.shape"
   ]
  },
  {
   "cell_type": "code",
   "execution_count": 145,
   "id": "540c3eb4-52b3-4e34-be1b-b60ab9662a0c",
   "metadata": {},
   "outputs": [],
   "source": [
    "OA['doi'] = OA['doi'].str.lower().str.split('https://doi.org/').str[-1]"
   ]
  },
  {
   "cell_type": "code",
   "execution_count": 146,
   "id": "a0a0c2ae-eff1-4b8b-b1db-d0485563bbe2",
   "metadata": {},
   "outputs": [
    {
     "data": {
      "text/plain": [
       "(93, 51)"
      ]
     },
     "execution_count": 146,
     "metadata": {},
     "output_type": "execute_result"
    }
   ],
   "source": [
    "OA[OA['topics'].apply(len)==0].reset_index(drop=True).shape"
   ]
  },
  {
   "cell_type": "code",
   "execution_count": 154,
   "id": "efb37b5a-82d1-4793-bd35-fcce0c24b0d9",
   "metadata": {},
   "outputs": [
    {
     "data": {
      "text/plain": [
       "(28, 52)"
      ]
     },
     "execution_count": 154,
     "metadata": {},
     "output_type": "execute_result"
    }
   ],
   "source": [
    "OA[OA['authorships'].apply(len) == 0].shape #Not authors at all"
   ]
  },
  {
   "cell_type": "code",
   "execution_count": 158,
   "id": "6a267cf2-a90f-470b-8794-9ba9383fb8a9",
   "metadata": {},
   "outputs": [
    {
     "data": {
      "text/plain": [
       "(1175, 52)"
      ]
     },
     "execution_count": 158,
     "metadata": {},
     "output_type": "execute_result"
    }
   ],
   "source": [
    "OA[OA['countries_distinct_count'] == 0].shape"
   ]
  },
  {
   "cell_type": "code",
   "execution_count": 157,
   "id": "353d30d4-a900-452a-9df0-1b79d9f85a94",
   "metadata": {},
   "outputs": [
    {
     "data": {
      "text/plain": [
       "(10400, 52)"
      ]
     },
     "execution_count": 157,
     "metadata": {},
     "output_type": "execute_result"
    }
   ],
   "source": [
    "OALA = OA[OA['countries_distinct_count'] != 0]\n",
    "OALA.shape"
   ]
  },
  {
   "cell_type": "code",
   "execution_count": 147,
   "id": "05551044-eef5-461f-bf65-c5a0130152d6",
   "metadata": {},
   "outputs": [
    {
     "data": {
      "text/plain": [
       "(274, 51)"
      ]
     },
     "execution_count": 147,
     "metadata": {},
     "output_type": "execute_result"
    }
   ],
   "source": [
    "OA[OA['publication_year']>2022].shape"
   ]
  },
  {
   "cell_type": "code",
   "execution_count": 232,
   "id": "68e367b7-b994-40dc-ad42-9b862b32ba61",
   "metadata": {},
   "outputs": [],
   "source": [
    "#OA['primary_topic'].str['display_name'].value_counts()[:30]"
   ]
  },
  {
   "cell_type": "code",
   "execution_count": 148,
   "id": "29ecaafa-db17-4f7c-a1b3-27998745384c",
   "metadata": {},
   "outputs": [
    {
     "data": {
      "text/plain": [
       "(2169, 52)"
      ]
     },
     "execution_count": 148,
     "metadata": {},
     "output_type": "execute_result"
    }
   ],
   "source": [
    "OA['filtered_topics'] = OA['topics'].apply(lambda L: topics_score(L,topics,score=0.9))\n",
    "OA[OA['filtered_topics'].apply(len)>0].shape"
   ]
  },
  {
   "cell_type": "code",
   "execution_count": 149,
   "id": "837103bb-6108-475c-81b6-b6ffade9b664",
   "metadata": {},
   "outputs": [
    {
     "data": {
      "text/plain": [
       "Index(['id', 'doi', 'title', 'display_name', 'publication_year',\n",
       "       'publication_date', 'ids', 'language', 'primary_location', 'type',\n",
       "       'type_crossref', 'indexed_in', 'open_access', 'authorships',\n",
       "       'institution_assertions', 'countries_distinct_count',\n",
       "       'institutions_distinct_count', 'corresponding_author_ids',\n",
       "       'corresponding_institution_ids', 'apc_list', 'apc_paid', 'fwci',\n",
       "       'has_fulltext', 'cited_by_count', 'citation_normalized_percentile',\n",
       "       'cited_by_percentile_year', 'biblio', 'is_retracted', 'is_paratext',\n",
       "       'primary_topic', 'topics', 'keywords', 'concepts', 'mesh',\n",
       "       'locations_count', 'locations', 'best_oa_location',\n",
       "       'sustainable_development_goals', 'grants', 'datasets', 'versions',\n",
       "       'referenced_works_count', 'referenced_works', 'related_works',\n",
       "       'abstract_inverted_index', 'cited_by_api_url', 'counts_by_year',\n",
       "       'updated_date', 'created_date', 'fulltext_origin',\n",
       "       'is_authors_truncated', 'filtered_topics'],\n",
       "      dtype='object')"
      ]
     },
     "execution_count": 149,
     "metadata": {},
     "output_type": "execute_result"
    }
   ],
   "source": [
    "OA.columns"
   ]
  },
  {
   "cell_type": "code",
   "execution_count": 234,
   "id": "0d14e2f1-e709-475b-a804-a05bc9f730f3",
   "metadata": {},
   "outputs": [],
   "source": [
    "OAT =  OA[OA['filtered_topics'].apply(len)==0].reset_index(drop=True)"
   ]
  },
  {
   "cell_type": "code",
   "execution_count": 235,
   "id": "3d387c53-c6a9-4b70-891c-3309dec09f97",
   "metadata": {},
   "outputs": [],
   "source": [
    "NOAT = OAT[OAT['authorships'].apply(lambda L: list(set(authors).intersection( [d.get('author').get('id').split('/')[-1] for d in L] ))).apply(len) == 0]"
   ]
  },
  {
   "cell_type": "code",
   "execution_count": 262,
   "id": "6108f398-a270-4749-966a-12495549c2f8",
   "metadata": {},
   "outputs": [
    {
     "data": {
      "text/plain": [
       "(2149, 52)"
      ]
     },
     "execution_count": 262,
     "metadata": {},
     "output_type": "execute_result"
    }
   ],
   "source": [
    "NOAT.shape"
   ]
  },
  {
   "cell_type": "code",
   "execution_count": 263,
   "id": "b675a2bf-ee1f-4de3-8bdc-684240ac9cff",
   "metadata": {},
   "outputs": [
    {
     "data": {
      "text/plain": [
       "9406"
      ]
     },
     "execution_count": 263,
     "metadata": {},
     "output_type": "execute_result"
    }
   ],
   "source": [
    "7257+2149"
   ]
  },
  {
   "cell_type": "code",
   "execution_count": 236,
   "id": "2569adbe-da2a-4d37-b601-d69bdce030d9",
   "metadata": {},
   "outputs": [
    {
     "data": {
      "text/plain": [
       "3213    10.1016/j.nuclphysb.2007.09.011\n",
       "Name: doi, dtype: object"
      ]
     },
     "execution_count": 236,
     "metadata": {},
     "output_type": "execute_result"
    }
   ],
   "source": [
    "NOAT.sample()['doi']"
   ]
  },
  {
   "cell_type": "code",
   "execution_count": 237,
   "id": "dc1edc4a-4904-4b37-a301-18de65d61018",
   "metadata": {},
   "outputs": [
    {
     "data": {
      "text/plain": [
       "primary_topic\n",
       "Stellar, planetary, and galactic studies             393\n",
       "Galaxies: Formation, Evolution, Phenomena            272\n",
       "Astrophysics and Star Formation Studies              246\n",
       "Quantum Information and Cryptography                  62\n",
       "Quantum Mechanics and Applications                    55\n",
       "Quantum Computing Algorithms and Architecture         47\n",
       "Advanced Thermodynamics and Statistical Mechanics     47\n",
       "Theoretical and Computational Physics                 45\n",
       "Cold Atom Physics and Bose-Einstein Condensates       33\n",
       "Astrophysics and Cosmic Phenomena                     32\n",
       "Quantum many-body systems                             32\n",
       "Quantum Mechanics and Non-Hermitian Physics           32\n",
       "Solar and Space Plasma Dynamics                       32\n",
       "Astrophysical Phenomena and Observations              31\n",
       "Quantum chaos and dynamical systems                   30\n",
       "Astronomy and Astrophysical Research                  28\n",
       "Quantum and electron transport phenomena              27\n",
       "Astro and Planetary Science                           23\n",
       "Nonlinear Waves and Solitons                          23\n",
       "Algebraic structures and combinatorial models         21\n",
       "Nuclear physics research studies                      20\n",
       "Atomic and Molecular Physics                          19\n",
       "Adaptive optics and wavefront sensing                 17\n",
       "Statistical Mechanics and Entropy                     17\n",
       "Gamma-ray bursts and supernovae                       17\n",
       "Physics of Superconductivity and Magnetism            17\n",
       "Quantum and Classical Electrodynamics                 13\n",
       "Topological Materials and Phenomena                   13\n",
       "Distributed and Parallel Computing Systems            12\n",
       "Advanced Topics in Algebra                            12\n",
       "Algebraic and Geometric Analysis                      12\n",
       "Mechanical and Optical Resonators                     11\n",
       "Relativity and Gravitational Theory                   10\n",
       "Spectroscopy and Quantum Chemical Studies             10\n",
       "Quantum optics and atomic interactions                10\n",
       "advanced mathematical theories                         8\n",
       "Quantum Electrodynamics and Casimir Effect             8\n",
       "Advanced Chemical Physics Studies                      8\n",
       "Spectral Theory in Mathematical Physics                7\n",
       "Nonlinear Photonic Systems                             7\n",
       "Carbon Nanotubes in Composites                         7\n",
       "Nuclear Physics and Applications                       6\n",
       "Algebraic Geometry and Number Theory                   6\n",
       "Geometric Analysis and Curvature Flows                 6\n",
       "Random lasers and scattering media                     6\n",
       "Advanced NMR Techniques and Applications               6\n",
       "Geophysics and Sensor Technology                       5\n",
       "Laser-Plasma Interactions and Diagnostics              5\n",
       "History and Developments in Astronomy                  5\n",
       "Astronomical Observations and Instrumentation          5\n",
       "Name: count, dtype: int64"
      ]
     },
     "execution_count": 237,
     "metadata": {},
     "output_type": "execute_result"
    }
   ],
   "source": [
    "NOAT['primary_topic'].str['display_name'].value_counts()[:50]"
   ]
  },
  {
   "cell_type": "code",
   "execution_count": 168,
   "id": "44d51285-bacd-4fc0-9649-0aa58e86f5b4",
   "metadata": {},
   "outputs": [
    {
     "data": {
      "text/plain": [
       "(1635, 52)"
      ]
     },
     "execution_count": 168,
     "metadata": {},
     "output_type": "execute_result"
    }
   ],
   "source": [
    "bad_affs = OALA[OALA['authorships'].apply(lambda L: [d.get('countries') for d in L]).apply(\n",
    "    lambda L: [item for sublist in L for item in sublist]).apply(\n",
    "    lambda L: list(set(latin_america_countries.values()).intersection(L))\n",
    "   ).apply(len)==0]\n",
    "bad_affs.shape"
   ]
  },
  {
   "cell_type": "code",
   "execution_count": 169,
   "id": "7b56fc35-42da-4d4c-a487-dae0b0a1278e",
   "metadata": {},
   "outputs": [
    {
     "data": {
      "text/plain": [
       "38713"
      ]
     },
     "execution_count": 169,
     "metadata": {},
     "output_type": "execute_result"
    }
   ],
   "source": []
  },
  {
   "cell_type": "code",
   "execution_count": 170,
   "id": "2ca32cfa-623f-4a4e-b2f9-f95f1a285777",
   "metadata": {},
   "outputs": [
    {
     "data": {
      "text/plain": [
       "4.223387492573554"
      ]
     },
     "execution_count": 170,
     "metadata": {},
     "output_type": "execute_result"
    }
   ],
   "source": [
    "bad_affs.shape[0]/len(DD)*100"
   ]
  },
  {
   "cell_type": "code",
   "execution_count": 167,
   "id": "c5955d66-7421-4e3e-89e2-2379b0e646aa",
   "metadata": {},
   "outputs": [
    {
     "data": {
      "text/plain": [
       "5617    10.1088/1361-6382/ab4974\n",
       "Name: doi, dtype: object"
      ]
     },
     "execution_count": 167,
     "metadata": {},
     "output_type": "execute_result"
    }
   ],
   "source": [
    "bad_affs['doi'].sample()"
   ]
  },
  {
   "cell_type": "code",
   "execution_count": 204,
   "id": "3be78349-bda2-4c76-a96c-bf769dd9502a",
   "metadata": {},
   "outputs": [
    {
     "data": {
      "text/plain": [
       "(2810, 52)"
      ]
     },
     "execution_count": 204,
     "metadata": {},
     "output_type": "execute_result"
    }
   ],
   "source": [
    "OA[OA['authorships'].apply(lambda L: [d.get('countries') for d in L]).apply(\n",
    "    lambda L: [item for sublist in L for item in sublist]).apply(\n",
    "    lambda L: list(set(latin_america_countries.values()).intersection(L))\n",
    "   ).apply(len)==0].shape"
   ]
  },
  {
   "cell_type": "code",
   "execution_count": 160,
   "id": "ad41149d-507b-4015-9087-393c8db17d60",
   "metadata": {},
   "outputs": [
    {
     "data": {
      "text/plain": [
       "1175"
      ]
     },
     "execution_count": 160,
     "metadata": {},
     "output_type": "execute_result"
    }
   ],
   "source": [
    "2810-1635"
   ]
  },
  {
   "cell_type": "code",
   "execution_count": 161,
   "id": "16b3a57d-1866-4756-8c06-11869ac3935b",
   "metadata": {},
   "outputs": [
    {
     "data": {
      "text/plain": [
       "38713"
      ]
     },
     "execution_count": 161,
     "metadata": {},
     "output_type": "execute_result"
    }
   ],
   "source": [
    "len(DD)"
   ]
  },
  {
   "cell_type": "code",
   "execution_count": 207,
   "id": "5760132f-6f52-467f-8a49-82e47dc9d0ff",
   "metadata": {},
   "outputs": [
    {
     "data": {
      "text/plain": [
       "(19, 52)"
      ]
     },
     "execution_count": 207,
     "metadata": {},
     "output_type": "execute_result"
    }
   ],
   "source": [
    "OA[OA['authorships'].apply(len)>10].shape"
   ]
  },
  {
   "cell_type": "code",
   "execution_count": null,
   "id": "ffd2c3ce-8637-4b9e-bb0a-5c7fd1e2ebe9",
   "metadata": {},
   "outputs": [],
   "source": []
  },
  {
   "cell_type": "code",
   "execution_count": 156,
   "id": "0b48bde3-71cf-4086-b926-13c33163f084",
   "metadata": {},
   "outputs": [
    {
     "data": {
      "text/plain": [
       "(2810, 52)"
      ]
     },
     "execution_count": 156,
     "metadata": {},
     "output_type": "execute_result"
    }
   ],
   "source": [
    "OA[OA['authorships'].apply(lambda L: [d.get('countries') for d in L]).apply(\n",
    "    lambda L: [item for sublist in L for item in sublist]).apply(\n",
    "    lambda L: list(set(latin_america_countries.values()).intersection(L))\n",
    "   ).apply(len)==0].shape"
   ]
  },
  {
   "cell_type": "code",
   "execution_count": 184,
   "id": "17d9d72e-4d97-45fe-9fb8-23beabf08c63",
   "metadata": {},
   "outputs": [
    {
     "data": {
      "text/plain": [
       "3673     https://doi.org/10.1016/s0370-2693(02)02102-0\n",
       "4331               https://doi.org/10.22323/1.395.0855\n",
       "5541                 https://doi.org/10.1063/1.3399360\n",
       "7912                 https://doi.org/10.1063/1.3448000\n",
       "8071                 https://doi.org/10.1063/1.3622713\n",
       "9533                 https://doi.org/10.1063/1.3455972\n",
       "10745        https://doi.org/10.1007/s10686-015-9470-1\n",
       "10788                https://doi.org/10.1063/1.2813786\n",
       "Name: doi, dtype: object"
      ]
     },
     "execution_count": 184,
     "metadata": {},
     "output_type": "execute_result"
    }
   ],
   "source": [
    "kk = OAC[OAC['authorships'].apply(lambda L: [d.get('countries') for d in L]).apply(\n",
    "    lambda L: [item for sublist in L for item in sublist]).apply(\n",
    "    lambda L: list(set(latin_america_countries.values()).intersection(L))\n",
    "   ).apply(len)>0]\n",
    "kk[kk['publication_year'] < 2022]['doi']"
   ]
  },
  {
   "cell_type": "code",
   "execution_count": 238,
   "id": "f52b07c6-87ce-46d1-b4eb-3be8b57fe462",
   "metadata": {},
   "outputs": [],
   "source": [
    "doi = '10.1016/s0370-2693(02)02102-0'\n"
   ]
  },
  {
   "cell_type": "code",
   "execution_count": 248,
   "id": "59baff9d-465a-477f-9475-d22e74f1e0db",
   "metadata": {},
   "outputs": [],
   "source": [
    "def get_inspire_categories(doi):\n",
    "    url = f\"https://inspirehep.net/api/literature?q=doi:{doi}&fields=inspire_categories\"\n",
    "    LL = requests.get(url)\n",
    "    time.sleep(0.1)\n",
    "    if (LL.status_code == 200 \n",
    "     and LL.json().get('hits') \n",
    "     and LL.json().get('hits').get('hits') \n",
    "     and LL.json().get('hits').get('hits')[0].get('metadata')):\n",
    "        return LL.json().get('hits').get('hits')[0].get('metadata').get('inspire_categories')"
   ]
  },
  {
   "cell_type": "code",
   "execution_count": 252,
   "id": "54db3dd4-f503-404e-8689-d8c90cdd5305",
   "metadata": {},
   "outputs": [
    {
     "data": {
      "text/plain": [
       "14         10.1051/0004-6361:20077923\n",
       "16                     10.1086/428400\n",
       "20                     10.1086/379921\n",
       "23          10.1017/s1743921306003309\n",
       "25           10.1088/1751-8121/ac6718\n",
       "                    ...              \n",
       "9384      10.1109/escience.2018.00081\n",
       "9391      10.1088/0305-4470/39/21/s70\n",
       "9392    10.1016/s0217-7323(00)00052-9\n",
       "9400    10.1016/s0217-7323(00)00031-1\n",
       "9404                   10.1086/522927\n",
       "Name: doi, Length: 2149, dtype: object"
      ]
     },
     "execution_count": 252,
     "metadata": {},
     "output_type": "execute_result"
    }
   ],
   "source": [
    "NOAT['doi']"
   ]
  },
  {
   "cell_type": "code",
   "execution_count": 256,
   "id": "62b08628-8e62-4e74-ac87-67a010409688",
   "metadata": {},
   "outputs": [
    {
     "name": "stdout",
     "output_type": "stream",
     "text": [
      "2149\r"
     ]
    }
   ],
   "source": [
    "IC = []\n",
    "i=0\n",
    "for doi in NOAT['doi']:\n",
    "    i += 1\n",
    "    print(str(i).zfill(4), end = '\\r', flush=True)\n",
    "    IC.append({'doi':'doi',\n",
    "               'inspire_categories': get_inspire_categories(doi)\n",
    "              })"
   ]
  },
  {
   "cell_type": "code",
   "execution_count": 260,
   "id": "90bf2d46-a101-4c21-b752-4d24c489e2e5",
   "metadata": {},
   "outputs": [
    {
     "data": {
      "text/plain": [
       "inspire_categories\n",
       "Astrophysics                    1147\n",
       "General Physics                  216\n",
       "Quantum Physics                  200\n",
       "Math and Math Physics            105\n",
       "Theory-HEP                        79\n",
       "Condensed Matter                  39\n",
       "Phenomenology-HEP                 32\n",
       "Theory-Nucl                       31\n",
       "Gravitation and Cosmology         27\n",
       "Instrumentation                   24\n",
       "Computing                         24\n",
       "Experiment-HEP                    22\n",
       "Other                             20\n",
       "Accelerators                      17\n",
       "Experiment-Nucl                   13\n",
       "Lattice                            6\n",
       "Data Analysis and Statistics       3\n",
       "Name: count, dtype: int64"
      ]
     },
     "execution_count": 260,
     "metadata": {},
     "output_type": "execute_result"
    }
   ],
   "source": [
    "pd.DataFrame(IC)['inspire_categories'].str[0].str['term'].value_counts()"
   ]
  },
  {
   "cell_type": "code",
   "execution_count": 261,
   "id": "5414680a-bd96-43bb-9391-c0814009153b",
   "metadata": {},
   "outputs": [
    {
     "data": {
      "text/plain": [
       "primary_topic\n",
       "Stellar, planetary, and galactic studies             393\n",
       "Galaxies: Formation, Evolution, Phenomena            272\n",
       "Astrophysics and Star Formation Studies              246\n",
       "Quantum Information and Cryptography                  62\n",
       "Quantum Mechanics and Applications                    55\n",
       "Quantum Computing Algorithms and Architecture         47\n",
       "Advanced Thermodynamics and Statistical Mechanics     47\n",
       "Theoretical and Computational Physics                 45\n",
       "Cold Atom Physics and Bose-Einstein Condensates       33\n",
       "Astrophysics and Cosmic Phenomena                     32\n",
       "Name: count, dtype: int64"
      ]
     },
     "execution_count": 261,
     "metadata": {},
     "output_type": "execute_result"
    }
   ],
   "source": [
    "NOAT['primary_topic'].str['display_name'].value_counts()[:10]"
   ]
  },
  {
   "cell_type": "markdown",
   "id": "63778762-8a63-4565-b108-d45d68548676",
   "metadata": {},
   "source": [
    "### Check results"
   ]
  },
  {
   "cell_type": "code",
   "execution_count": null,
   "id": "8f71df23-4952-4638-b97c-0d14a0f13835",
   "metadata": {},
   "outputs": [],
   "source": []
  }
 ],
 "metadata": {
  "kernelspec": {
   "display_name": "Python 3 (ipykernel)",
   "language": "python",
   "name": "python3"
  },
  "language_info": {
   "codemirror_mode": {
    "name": "ipython",
    "version": 3
   },
   "file_extension": ".py",
   "mimetype": "text/x-python",
   "name": "python",
   "nbconvert_exporter": "python",
   "pygments_lexer": "ipython3",
   "version": "3.11.2"
  }
 },
 "nbformat": 4,
 "nbformat_minor": 5
}
