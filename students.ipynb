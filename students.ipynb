{
 "cells": [
  {
   "cell_type": "code",
   "execution_count": 1,
   "id": "881b4b98-891a-408f-a285-b6e9eb07fb0c",
   "metadata": {},
   "outputs": [],
   "source": [
    "import pandas as pd\n",
    "import requests\n",
    "import json\n",
    "import time\n",
    "sleep=0.4"
   ]
  },
  {
   "cell_type": "code",
   "execution_count": 2,
   "id": "ce3abfd8",
   "metadata": {},
   "outputs": [],
   "source": [
    "LOCAL=True\n",
    "if LOCAL:\n",
    "    f=open('data/inspire_LA.json','r')\n",
    "    df=json.load(f)\n",
    "    f.close()\n",
    "else:\n",
    "    r=requests.get('https://github.com/restrepo/inspireauth/raw/main/data/inspire_LA.json')\n",
    "    df=r.json()"
   ]
  },
  {
   "cell_type": "code",
   "execution_count": 3,
   "id": "356f4aa0",
   "metadata": {},
   "outputs": [
    {
     "name": "stdout",
     "output_type": "stream",
     "text": [
      "57588\n"
     ]
    }
   ],
   "source": [
    "print(len(df))"
   ]
  },
  {
   "cell_type": "markdown",
   "id": "724d6ef2",
   "metadata": {},
   "source": [
    "## Fix bad `profile_id` for `LOCAL → True`"
   ]
  },
  {
   "cell_type": "code",
   "execution_count": 4,
   "id": "5d5076b3",
   "metadata": {},
   "outputs": [],
   "source": [
    "#author_id='J.S.Useche.1'\n",
    "def get_profile_id(author_id,sleep=0.4):\n",
    "    #if True:\n",
    "    status=False\n",
    "    l=[]\n",
    "    pi=None\n",
    "    #try:\n",
    "    #if True:\n",
    "    try:\n",
    "        #https://inspirehep.net/literature?q=ea+J.D.Ruiz.Alvarez.2+and+ac+1->10\n",
    "        url=f'https://inspirehep.net/api/literature?q=ea+{author_id}+and+ac+1->10'\n",
    "        r=requests.get(url)\n",
    "        time.sleep(sleep)\n",
    "        if r.status_code==200:\n",
    "            data=r.json()\n",
    "            status=True\n",
    "            #if not `try` fails and `pass``.\n",
    "        for d in data.get('hits').get('hits'):\n",
    "            #l=[a.get('record') for a in d.get('metadata').get('authors') if a.get('bai')==author_id]\n",
    "            try: #failsafe\n",
    "                l=[a for a in data.get('hits').get('hits')[0].get('metadata').get('authors') if a.get('bai')==author_id]\n",
    "            except:\n",
    "                l=[]\n",
    "        if len(l)==1 and l[0].get('record'):\n",
    "            pi=l[0].get('record').get('$ref').split('/')[-1]\n",
    "    except:\n",
    "        pass\n",
    "    return pi,status\n",
    "\n",
    "TEST=True\n",
    "if TEST:\n",
    "    assert get_profile_id('J.S.Useche.1')==('2572877',True)\n",
    "    assert get_profile_id('J.D.Ruiz.Alvarez.2')==('1184534',True)\n",
    "    assert get_profile_id('S.Das.8')==(None,True)\n",
    "    assert get_profile_id('M.Sanchez.39')==(None, True)"
   ]
  },
  {
   "cell_type": "code",
   "execution_count": 5,
   "id": "0964f52e",
   "metadata": {},
   "outputs": [],
   "source": [
    "def get_advisor(i,sleep=0.4):\n",
    "    adv=[]\n",
    "    try:\n",
    "        r=requests.get('https://inspirehep.net/api/authors/{}'.format(i))\n",
    "        time.sleep(sleep)\n",
    "        adv=r.json().get('metadata').get('advisors')\n",
    "        if adv is None:\n",
    "            adv=[]\n",
    "    except:\n",
    "        pass\n",
    "    return adv"
   ]
  },
  {
   "cell_type": "code",
   "execution_count": 11,
   "id": "a5f957b2",
   "metadata": {},
   "outputs": [],
   "source": [
    "#a=df[0]\n",
    "#a.get('author_id')\n",
    "GET_ADVISORS=False\n",
    "if GET_ADVISORS:\n",
    "    kk=[a.update({'advisors':get_advisor(a.get('profile_id'))}) for a in df if not a.get('advisors')]"
   ]
  },
  {
   "cell_type": "code",
   "execution_count": null,
   "id": "d5701438",
   "metadata": {},
   "outputs": [
    {
     "name": "stdout",
     "output_type": "stream",
     "text": [
      "00181 0\r"
     ]
    }
   ],
   "source": [
    "SAVE=False\n",
    "status=0\n",
    "step=1000\n",
    "i=0\n",
    "for start in range(0,len(df),step):\n",
    "    for d in df[start:start+step]:\n",
    "        i+=1\n",
    "        print(str(i).zfill(5),status,end='\\r')\n",
    "\n",
    "        if len(set([dd.get('author_id') for dd in df  if dd.get('profile_id')==d.get('profile_id')]))==1:\n",
    "            continue\n",
    "        author_id=d.get('author_id')\n",
    "        check_profile_id=get_profile_id(author_id)\n",
    "        if check_profile_id[1] and check_profile_id[0]!=d.get('profile_id'):\n",
    "            d['profile_id']=check_profile_id[0]\n",
    "            d['advisors']=get_advisor(d.get('profile_id'))\n",
    "            status=1\n",
    "        else:\n",
    "            status=0\n",
    "    if SAVE:\n",
    "        f=open('data/inspire_LA.json','w')\n",
    "        json.dump(df,f)\n",
    "        f.close()"
   ]
  },
  {
   "cell_type": "markdown",
   "id": "75e6b6cd",
   "metadata": {},
   "source": [
    "## Students object"
   ]
  },
  {
   "cell_type": "code",
   "execution_count": 6,
   "id": "eb4643ff",
   "metadata": {},
   "outputs": [
    {
     "data": {
      "text/plain": [
       "[{'author_id': 'M.Sanchez.39',\n",
       "  'country': 'Colombia',\n",
       "  'email_addresses': None,\n",
       "  'full_name': 'Sánchez, M.',\n",
       "  'ids': None,\n",
       "  'institution': 'Antioquia U.',\n",
       "  'institution_id': '903906',\n",
       "  'name': None,\n",
       "  'papers': [{'recid': 1415059,\n",
       "    'year': '2015',\n",
       "    'citation_count': 2,\n",
       "    'primary_arxiv_category': [],\n",
       "    'journal_id': '1365972',\n",
       "    'author_id': 'M.Sanchez.39',\n",
       "    'instituion_id': '903906'}],\n",
       "  'positions': None,\n",
       "  'profile_id': None,\n",
       "  'advisors': []}]"
      ]
     },
     "execution_count": 6,
     "metadata": {},
     "output_type": "execute_result"
    }
   ],
   "source": [
    "[dd for dd in df if dd.get('author_id')=='M.Sanchez.39']"
   ]
  },
  {
   "cell_type": "code",
   "execution_count": 6,
   "id": "52d67191",
   "metadata": {},
   "outputs": [],
   "source": [
    "df=pd.DataFrame(df)"
   ]
  },
  {
   "cell_type": "code",
   "execution_count": 7,
   "id": "e9182031",
   "metadata": {},
   "outputs": [
    {
     "data": {
      "text/plain": [
       "(11326, 12)"
      ]
     },
     "execution_count": 7,
     "metadata": {},
     "output_type": "execute_result"
    }
   ],
   "source": [
    "df[df.advisors.apply(len)>0].shape"
   ]
  },
  {
   "cell_type": "code",
   "execution_count": 8,
   "id": "e73bd4c5",
   "metadata": {},
   "outputs": [
    {
     "data": {
      "text/plain": [
       "(13745, 12)"
      ]
     },
     "execution_count": 8,
     "metadata": {},
     "output_type": "execute_result"
    }
   ],
   "source": [
    "df[ (df['positions'].str[0].str['rank'].apply(lambda r: r is not None)) & \n",
    "   (df['positions'].str[0].str['rank'].apply(lambda r: r is not None)) ].shape"
   ]
  },
  {
   "cell_type": "code",
   "execution_count": 9,
   "id": "0a4ca2bd",
   "metadata": {},
   "outputs": [
    {
     "data": {
      "text/plain": [
       "(28388, 12)"
      ]
     },
     "execution_count": 9,
     "metadata": {},
     "output_type": "execute_result"
    }
   ],
   "source": [
    "df[df['positions'].str[0].apply(lambda r:isinstance(r,dict))].shape"
   ]
  },
  {
   "cell_type": "markdown",
   "id": "0759632b",
   "metadata": {},
   "source": [
    "People which have edited their profile in INSPIREHEP"
   ]
  },
  {
   "cell_type": "code",
   "execution_count": 10,
   "id": "68ca897b",
   "metadata": {},
   "outputs": [
    {
     "data": {
      "text/plain": [
       "(16762, 12)"
      ]
     },
     "execution_count": 10,
     "metadata": {},
     "output_type": "execute_result"
    }
   ],
   "source": [
    "df[ (df['positions'].str[0].str['rank'].apply(lambda r:isinstance(r,str))) \n",
    "    | (df.advisors.apply(len)>0 ) ].shape"
   ]
  },
  {
   "cell_type": "code",
   "execution_count": 11,
   "id": "5db34f3c",
   "metadata": {},
   "outputs": [
    {
     "data": {
      "text/plain": [
       "(57588, 12)"
      ]
     },
     "execution_count": 11,
     "metadata": {},
     "output_type": "execute_result"
    }
   ],
   "source": [
    "df.shape"
   ]
  },
  {
   "cell_type": "code",
   "execution_count": 12,
   "id": "7e311984",
   "metadata": {},
   "outputs": [],
   "source": [
    "#df['profile_id']=df['profile_id'].fillna(0).astype(int).astype(str).apply(lambda p: None if p=='0' else p)"
   ]
  },
  {
   "cell_type": "code",
   "execution_count": 13,
   "id": "b425785e",
   "metadata": {},
   "outputs": [
    {
     "data": {
      "text/html": [
       "<div>\n",
       "<style scoped>\n",
       "    .dataframe tbody tr th:only-of-type {\n",
       "        vertical-align: middle;\n",
       "    }\n",
       "\n",
       "    .dataframe tbody tr th {\n",
       "        vertical-align: top;\n",
       "    }\n",
       "\n",
       "    .dataframe thead th {\n",
       "        text-align: right;\n",
       "    }\n",
       "</style>\n",
       "<table border=\"1\" class=\"dataframe\">\n",
       "  <thead>\n",
       "    <tr style=\"text-align: right;\">\n",
       "      <th></th>\n",
       "      <th>author_id</th>\n",
       "      <th>country</th>\n",
       "      <th>email_addresses</th>\n",
       "      <th>full_name</th>\n",
       "      <th>ids</th>\n",
       "      <th>institution</th>\n",
       "      <th>institution_id</th>\n",
       "      <th>name</th>\n",
       "      <th>papers</th>\n",
       "      <th>positions</th>\n",
       "      <th>profile_id</th>\n",
       "      <th>advisors</th>\n",
       "    </tr>\n",
       "  </thead>\n",
       "  <tbody>\n",
       "    <tr>\n",
       "      <th>4722</th>\n",
       "      <td>D.Restrepo.1</td>\n",
       "      <td>Colombia</td>\n",
       "      <td>[{'value': 'restrepo@udea.edu.co', 'current': ...</td>\n",
       "      <td>Restrepo, Diego</td>\n",
       "      <td>[{'value': 'D.Restrepo.1', 'schema': 'INSPIRE ...</td>\n",
       "      <td>Antioquia U.</td>\n",
       "      <td>903906</td>\n",
       "      <td>{'value': 'Restrepo Quintero, Diego Alejandro'...</td>\n",
       "      <td>[{'recid': 926166, 'year': '2012', 'citation_c...</td>\n",
       "      <td>[{'rank': 'SENIOR', 'hidden': False, 'record':...</td>\n",
       "      <td>991924</td>\n",
       "      <td>[{'ids': [{'value': 'INSPIRE-00133260', 'schem...</td>\n",
       "    </tr>\n",
       "    <tr>\n",
       "      <th>4762</th>\n",
       "      <td>D.Restrepo.1</td>\n",
       "      <td>Italy</td>\n",
       "      <td>[{'value': 'restrepo@udea.edu.co', 'current': ...</td>\n",
       "      <td>Restrepo, Diego</td>\n",
       "      <td>[{'value': 'D.Restrepo.1', 'schema': 'INSPIRE ...</td>\n",
       "      <td>ICTP, Trieste</td>\n",
       "      <td>902861</td>\n",
       "      <td>{'value': 'Restrepo Quintero, Diego Alejandro'...</td>\n",
       "      <td>[{'recid': 926166, 'year': '2012', 'citation_c...</td>\n",
       "      <td>[{'rank': 'SENIOR', 'hidden': False, 'record':...</td>\n",
       "      <td>991924</td>\n",
       "      <td>[{'ids': [{'value': 'INSPIRE-00133260', 'schem...</td>\n",
       "    </tr>\n",
       "    <tr>\n",
       "      <th>5942</th>\n",
       "      <td>D.Restrepo.1</td>\n",
       "      <td>Spain</td>\n",
       "      <td>[{'value': 'restrepo@udea.edu.co', 'current': ...</td>\n",
       "      <td>Restrepo, Diego A.</td>\n",
       "      <td>[{'value': 'D.Restrepo.1', 'schema': 'INSPIRE ...</td>\n",
       "      <td>Valencia U.</td>\n",
       "      <td>903319</td>\n",
       "      <td>{'value': 'Restrepo Quintero, Diego Alejandro'...</td>\n",
       "      <td>[{'recid': 926166, 'year': '2012', 'citation_c...</td>\n",
       "      <td>[{'rank': 'SENIOR', 'hidden': False, 'record':...</td>\n",
       "      <td>991924</td>\n",
       "      <td>[{'ids': [{'value': 'INSPIRE-00133260', 'schem...</td>\n",
       "    </tr>\n",
       "    <tr>\n",
       "      <th>6064</th>\n",
       "      <td>D.Restrepo.1</td>\n",
       "      <td>Brazil</td>\n",
       "      <td>[{'value': 'restrepo@udea.edu.co', 'current': ...</td>\n",
       "      <td>Restrepo, Diego</td>\n",
       "      <td>[{'value': 'D.Restrepo.1', 'schema': 'INSPIRE ...</td>\n",
       "      <td>IIP, Brazil</td>\n",
       "      <td>912344</td>\n",
       "      <td>{'value': 'Restrepo Quintero, Diego Alejandro'...</td>\n",
       "      <td>[{'recid': 926166, 'year': '2012', 'citation_c...</td>\n",
       "      <td>[{'rank': 'SENIOR', 'hidden': False, 'record':...</td>\n",
       "      <td>991924</td>\n",
       "      <td>[{'ids': [{'value': 'INSPIRE-00133260', 'schem...</td>\n",
       "    </tr>\n",
       "    <tr>\n",
       "      <th>6066</th>\n",
       "      <td>D.Restrepo.1</td>\n",
       "      <td>Brazil</td>\n",
       "      <td>[{'value': 'restrepo@udea.edu.co', 'current': ...</td>\n",
       "      <td>Restrepo, Diego</td>\n",
       "      <td>[{'value': 'D.Restrepo.1', 'schema': 'INSPIRE ...</td>\n",
       "      <td>Campinas State U.</td>\n",
       "      <td>902714</td>\n",
       "      <td>{'value': 'Restrepo Quintero, Diego Alejandro'...</td>\n",
       "      <td>[{'recid': 926166, 'year': '2012', 'citation_c...</td>\n",
       "      <td>[{'rank': 'SENIOR', 'hidden': False, 'record':...</td>\n",
       "      <td>991924</td>\n",
       "      <td>[{'ids': [{'value': 'INSPIRE-00133260', 'schem...</td>\n",
       "    </tr>\n",
       "    <tr>\n",
       "      <th>6072</th>\n",
       "      <td>D.Restrepo.1</td>\n",
       "      <td>Spain</td>\n",
       "      <td>[{'value': 'restrepo@udea.edu.co', 'current': ...</td>\n",
       "      <td>Restrepo, D.A.</td>\n",
       "      <td>[{'value': 'D.Restrepo.1', 'schema': 'INSPIRE ...</td>\n",
       "      <td>Valencia U., IFIC</td>\n",
       "      <td>907907</td>\n",
       "      <td>{'value': 'Restrepo Quintero, Diego Alejandro'...</td>\n",
       "      <td>[{'recid': 926166, 'year': '2012', 'citation_c...</td>\n",
       "      <td>[{'rank': 'SENIOR', 'hidden': False, 'record':...</td>\n",
       "      <td>991924</td>\n",
       "      <td>[{'ids': [{'value': 'INSPIRE-00133260', 'schem...</td>\n",
       "    </tr>\n",
       "  </tbody>\n",
       "</table>\n",
       "</div>"
      ],
      "text/plain": [
       "         author_id   country  \\\n",
       "4722  D.Restrepo.1  Colombia   \n",
       "4762  D.Restrepo.1     Italy   \n",
       "5942  D.Restrepo.1     Spain   \n",
       "6064  D.Restrepo.1    Brazil   \n",
       "6066  D.Restrepo.1    Brazil   \n",
       "6072  D.Restrepo.1     Spain   \n",
       "\n",
       "                                        email_addresses           full_name  \\\n",
       "4722  [{'value': 'restrepo@udea.edu.co', 'current': ...     Restrepo, Diego   \n",
       "4762  [{'value': 'restrepo@udea.edu.co', 'current': ...     Restrepo, Diego   \n",
       "5942  [{'value': 'restrepo@udea.edu.co', 'current': ...  Restrepo, Diego A.   \n",
       "6064  [{'value': 'restrepo@udea.edu.co', 'current': ...     Restrepo, Diego   \n",
       "6066  [{'value': 'restrepo@udea.edu.co', 'current': ...     Restrepo, Diego   \n",
       "6072  [{'value': 'restrepo@udea.edu.co', 'current': ...      Restrepo, D.A.   \n",
       "\n",
       "                                                    ids        institution  \\\n",
       "4722  [{'value': 'D.Restrepo.1', 'schema': 'INSPIRE ...       Antioquia U.   \n",
       "4762  [{'value': 'D.Restrepo.1', 'schema': 'INSPIRE ...      ICTP, Trieste   \n",
       "5942  [{'value': 'D.Restrepo.1', 'schema': 'INSPIRE ...        Valencia U.   \n",
       "6064  [{'value': 'D.Restrepo.1', 'schema': 'INSPIRE ...        IIP, Brazil   \n",
       "6066  [{'value': 'D.Restrepo.1', 'schema': 'INSPIRE ...  Campinas State U.   \n",
       "6072  [{'value': 'D.Restrepo.1', 'schema': 'INSPIRE ...  Valencia U., IFIC   \n",
       "\n",
       "     institution_id                                               name  \\\n",
       "4722         903906  {'value': 'Restrepo Quintero, Diego Alejandro'...   \n",
       "4762         902861  {'value': 'Restrepo Quintero, Diego Alejandro'...   \n",
       "5942         903319  {'value': 'Restrepo Quintero, Diego Alejandro'...   \n",
       "6064         912344  {'value': 'Restrepo Quintero, Diego Alejandro'...   \n",
       "6066         902714  {'value': 'Restrepo Quintero, Diego Alejandro'...   \n",
       "6072         907907  {'value': 'Restrepo Quintero, Diego Alejandro'...   \n",
       "\n",
       "                                                 papers  \\\n",
       "4722  [{'recid': 926166, 'year': '2012', 'citation_c...   \n",
       "4762  [{'recid': 926166, 'year': '2012', 'citation_c...   \n",
       "5942  [{'recid': 926166, 'year': '2012', 'citation_c...   \n",
       "6064  [{'recid': 926166, 'year': '2012', 'citation_c...   \n",
       "6066  [{'recid': 926166, 'year': '2012', 'citation_c...   \n",
       "6072  [{'recid': 926166, 'year': '2012', 'citation_c...   \n",
       "\n",
       "                                              positions profile_id  \\\n",
       "4722  [{'rank': 'SENIOR', 'hidden': False, 'record':...     991924   \n",
       "4762  [{'rank': 'SENIOR', 'hidden': False, 'record':...     991924   \n",
       "5942  [{'rank': 'SENIOR', 'hidden': False, 'record':...     991924   \n",
       "6064  [{'rank': 'SENIOR', 'hidden': False, 'record':...     991924   \n",
       "6066  [{'rank': 'SENIOR', 'hidden': False, 'record':...     991924   \n",
       "6072  [{'rank': 'SENIOR', 'hidden': False, 'record':...     991924   \n",
       "\n",
       "                                               advisors  \n",
       "4722  [{'ids': [{'value': 'INSPIRE-00133260', 'schem...  \n",
       "4762  [{'ids': [{'value': 'INSPIRE-00133260', 'schem...  \n",
       "5942  [{'ids': [{'value': 'INSPIRE-00133260', 'schem...  \n",
       "6064  [{'ids': [{'value': 'INSPIRE-00133260', 'schem...  \n",
       "6066  [{'ids': [{'value': 'INSPIRE-00133260', 'schem...  \n",
       "6072  [{'ids': [{'value': 'INSPIRE-00133260', 'schem...  "
      ]
     },
     "execution_count": 13,
     "metadata": {},
     "output_type": "execute_result"
    }
   ],
   "source": [
    "df[df['profile_id']=='991924']"
   ]
  },
  {
   "cell_type": "code",
   "execution_count": 174,
   "id": "ee8cefa7",
   "metadata": {},
   "outputs": [],
   "source": [
    "a={'ids': [{'value': 'INSPIRE-00133260', 'schema': 'INSPIRE ID'}],\n",
    " 'name': 'Valle, Jose W.F.',\n",
    " 'hidden': False,\n",
    " 'record': {'$ref': 'https://inspirehep.net/api/authors/985058'},\n",
    " 'degree_type': 'phd',\n",
    " 'curated_relation': False}\n",
    "r={'author_id':'D.Restrepo.1',\n",
    "   'name':{'value': 'Restrepo Quintero, Diego Alejandro',\n",
    "   'preferred_name': 'Diego Restrepo'},\n",
    "   'positions': [{'rank': 'PHD',\n",
    "                  'hidden': False,\n",
    "                  'record': {'$ref': 'https://inspirehep.net/api/institutions/907907'},\n",
    "                  'current': False,\n",
    "                  'end_date': '2001',\n",
    "                  'start_date': '1997',\n",
    "                  'institution': 'Valencia U., IFIC',\n",
    "                  'curated_relation': True}\n",
    "                ]\n",
    "   }\n",
    "advisor_profile_id='985058'\n",
    "d={}\n",
    "\n",
    "def get_students(r,a):\n",
    "    ds={}\n",
    "    ds['degree_type']=a.get('degree_type')\n",
    "    for p in r.get('positions'):\n",
    "        if p.get('rank') and p.get('rank').lower()==ds.get('degree_type'):\n",
    "            for k in p.keys():\n",
    "                if k=='record':\n",
    "                    try:\n",
    "                        ds['institution_id']=p[k].get('$ref').split('/')[-1]\n",
    "                    except:\n",
    "                        ds['institution_id']=None\n",
    "                else:\n",
    "                    ds[k]=p[k]\n",
    "    ds['student_id']=r.get('author_id')\n",
    "    ds['student_name']=r.get('name').get('value')\n",
    "    ds['student_profile_id']=profile_id\n",
    "    return ds\n",
    "assert get_students(r,a).get('institution_id')=='907907'\n",
    "\n",
    "def get_advisor(d,advisor_profile_id,a,df):\n",
    "    d['profile_id']=advisor_profile_id\n",
    "    #d['institution']=r.get('institution')\n",
    "    #d['institution_id']=r.get('institution_id')\n",
    "\n",
    "    d['name']=a.get('name')\n",
    "\n",
    "    try:\n",
    "        if not d.get('profile_id'):\n",
    "            d['profile_id']=df[ (df['name'].str['value']==d.get('name')) & \n",
    "                        (df['institution_id']==ds.get('institution_id')) \n",
    "                        ].iloc[0].get('author_id')\n",
    "    except:\n",
    "        pass\n",
    "    return d\n",
    "assert get_advisor(d,advisor_profile_id,a,df).get('profile_id')=='985058'"
   ]
  },
  {
   "cell_type": "code",
   "execution_count": 175,
   "id": "08f94dc0",
   "metadata": {},
   "outputs": [],
   "source": [
    "#991924  # J Valle advisor\n",
    "#1854904\n",
    "#1045947\n",
    "#1014628 # J Valle advisor\n",
    "# 1028906\n",
    "profile_id=['1014628','1014628','991924','1045947'][2]\n",
    "r=df[df['profile_id']==profile_id].iloc[0].to_dict()"
   ]
  },
  {
   "cell_type": "code",
   "execution_count": 176,
   "id": "c8aef172",
   "metadata": {},
   "outputs": [
    {
     "data": {
      "text/plain": [
       "[{'ids': [{'value': 'INSPIRE-00133260', 'schema': 'INSPIRE ID'}],\n",
       "  'name': 'Valle, Jose W.F.',\n",
       "  'hidden': False,\n",
       "  'record': {'$ref': 'https://inspirehep.net/api/authors/985058'},\n",
       "  'degree_type': 'phd',\n",
       "  'curated_relation': False},\n",
       " {'name': 'Ponce, William A.',\n",
       "  'hidden': False,\n",
       "  'degree_type': 'master',\n",
       "  'curated_relation': False}]"
      ]
     },
     "execution_count": 176,
     "metadata": {},
     "output_type": "execute_result"
    }
   ],
   "source": [
    "r.get('advisors')"
   ]
  },
  {
   "cell_type": "code",
   "execution_count": 177,
   "id": "469c80c6",
   "metadata": {},
   "outputs": [
    {
     "data": {
      "text/plain": [
       "{'rank': 'PHD',\n",
       " 'hidden': False,\n",
       " 'record': {'$ref': 'https://inspirehep.net/api/institutions/907907'},\n",
       " 'current': False,\n",
       " 'end_date': '2001',\n",
       " 'start_date': '1997',\n",
       " 'institution': 'Valencia U., IFIC',\n",
       " 'curated_relation': True}"
      ]
     },
     "execution_count": 177,
     "metadata": {},
     "output_type": "execute_result"
    }
   ],
   "source": [
    "r.get('positions')[6]"
   ]
  },
  {
   "cell_type": "code",
   "execution_count": 179,
   "id": "b8e4c773",
   "metadata": {},
   "outputs": [],
   "source": [
    "pre_students"
   ]
  },
  {
   "cell_type": "code",
   "execution_count": 180,
   "id": "7036a6a4",
   "metadata": {},
   "outputs": [],
   "source": [
    "#def get_studens()\n",
    "# TEMPORAL\n",
    "try:\n",
    "    pre_students\n",
    "except NameError:\n",
    "    pre_students=[]\n",
    "#if not r.get('advisors'):\n",
    "#    for p in r.get('positions'):\n",
    "\n",
    "if any([ any([ss.get('student_profile_id')==profile_id for ss in s.get('students')]) \n",
    "   for s in pre_students]):\n",
    "    print('Already in students')\n",
    "    #return pre_students\n"
   ]
  },
  {
   "cell_type": "code",
   "execution_count": 181,
   "id": "dceb9031",
   "metadata": {},
   "outputs": [
    {
     "name": "stdout",
     "output_type": "stream",
     "text": [
      "{'ids': [{'value': 'INSPIRE-00133260', 'schema': 'INSPIRE ID'}], 'name': 'Valle, Jose W.F.', 'hidden': False, 'record': {'$ref': 'https://inspirehep.net/api/authors/985058'}, 'degree_type': 'phd', 'curated_relation': False}\n",
      "{'name': 'Ponce, William A.', 'hidden': False, 'degree_type': 'master', 'curated_relation': False}\n"
     ]
    },
    {
     "data": {
      "text/plain": [
       "[{'students': [{'degree_type': 'phd',\n",
       "    'rank': 'PHD',\n",
       "    'hidden': False,\n",
       "    'institution_id': '907907',\n",
       "    'current': False,\n",
       "    'end_date': '2001',\n",
       "    'start_date': '1997',\n",
       "    'institution': 'Valencia U., IFIC',\n",
       "    'curated_relation': True,\n",
       "    'student_id': 'D.Restrepo.1',\n",
       "    'student_name': 'Restrepo Quintero, Diego Alejandro',\n",
       "    'student_profile_id': '991924'}],\n",
       "  'profile_id': '985058',\n",
       "  'name': 'Valle, Jose W.F.'},\n",
       " {'students': [{'degree_type': 'master',\n",
       "    'rank': 'MASTER',\n",
       "    'hidden': False,\n",
       "    'institution_id': '903906',\n",
       "    'current': False,\n",
       "    'end_date': '1997',\n",
       "    'start_date': '1995',\n",
       "    'institution': 'Antioquia U.',\n",
       "    'curated_relation': True,\n",
       "    'student_id': 'D.Restrepo.1',\n",
       "    'student_name': 'Restrepo Quintero, Diego Alejandro',\n",
       "    'student_profile_id': '991924'}],\n",
       "  'profile_id': '',\n",
       "  'name': 'Ponce, William A.'}]"
      ]
     },
     "execution_count": 181,
     "metadata": {},
     "output_type": "execute_result"
    }
   ],
   "source": [
    "for a in r.get('advisors'):\n",
    "    # Get profile_id or author_id or name of advisor\n",
    "    try:\n",
    "        advisor_profile_id=a.get('record').get('$ref').split('/')[-1]\n",
    "    except:\n",
    "        advisor_profile_id=''\n",
    "\n",
    "    stdlist=[]\n",
    "    for old_a in pre_students:\n",
    "        # TODO: check for other indetifiers\n",
    "        if old_a.get('profile_id')==advisor_profile_id:\n",
    "            stdlist=old_a.get('students')\n",
    "\n",
    "\n",
    "\n",
    "    #raise Exception('No profile_id')\n",
    "    # TODO Improve checkpoint\n",
    "    print(a)\n",
    "    if r.get('students'):\n",
    "        d=r.get('students')\n",
    "    else:\n",
    "        d={}\n",
    "        d['students']=[]\n",
    "    d=get_advisor(d,advisor_profile_id,a,df)\n",
    "\n",
    "    ds=get_students(r,a)\n",
    "\n",
    "    if ds not in d['students']:\n",
    "        d['students'].append(ds)\n",
    "    pre_students.append(d)\n",
    "\n",
    "pre_students"
   ]
  },
  {
   "cell_type": "code",
   "execution_count": null,
   "id": "c99c98e8",
   "metadata": {},
   "outputs": [],
   "source": []
  },
  {
   "cell_type": "code",
   "execution_count": 103,
   "id": "11b86057",
   "metadata": {},
   "outputs": [],
   "source": [
    "advisor=[]\n",
    "for old_a in pre_students:\n",
    "        # TODO: check for other indetifiers\n",
    "        if old_a.get('profile_id')==advisor_profile_id:\n",
    "            advisor=old_a.copy()\n",
    "if advisor:\n"
   ]
  },
  {
   "cell_type": "code",
   "execution_count": 105,
   "id": "929c6b30",
   "metadata": {},
   "outputs": [
    {
     "data": {
      "text/plain": [
       "{'students': [{'degree_type': 'phd',\n",
       "   'rank': 'PHD',\n",
       "   'hidden': False,\n",
       "   'institution_id': 907907,\n",
       "   'current': False,\n",
       "   'end_date': '2001',\n",
       "   'start_date': '1997',\n",
       "   'institution': 'Valencia U., IFIC',\n",
       "   'curated_relation': True,\n",
       "   'student_id': 'D.Restrepo.1',\n",
       "   'student_name': 'Restrepo Quintero, Diego Alejandro',\n",
       "   'student_profile_id': '991924'}],\n",
       " 'profile_id': '985058',\n",
       " 'name': 'Valle, Jose W.F.'}"
      ]
     },
     "execution_count": 105,
     "metadata": {},
     "output_type": "execute_result"
    }
   ],
   "source": [
    "advisor"
   ]
  },
  {
   "cell_type": "code",
   "execution_count": 99,
   "id": "4e3258c2",
   "metadata": {},
   "outputs": [
    {
     "data": {
      "text/plain": [
       "[{'degree_type': 'phd',\n",
       "  'rank': 'PHD',\n",
       "  'hidden': False,\n",
       "  'institution_id': 907907,\n",
       "  'current': False,\n",
       "  'end_date': '2001',\n",
       "  'start_date': '1997',\n",
       "  'institution': 'Valencia U., IFIC',\n",
       "  'curated_relation': True,\n",
       "  'student_id': 'D.Restrepo.1',\n",
       "  'student_name': 'Restrepo Quintero, Diego Alejandro',\n",
       "  'student_profile_id': '991924'}]"
      ]
     },
     "execution_count": 99,
     "metadata": {},
     "output_type": "execute_result"
    }
   ],
   "source": [
    "stdlist"
   ]
  },
  {
   "cell_type": "code",
   "execution_count": 33,
   "id": "37807e5e",
   "metadata": {},
   "outputs": [
    {
     "data": {
      "text/plain": [
       "True"
      ]
     },
     "execution_count": 33,
     "metadata": {},
     "output_type": "execute_result"
    }
   ],
   "source": []
  },
  {
   "cell_type": "code",
   "execution_count": 21,
   "id": "a76517ff",
   "metadata": {},
   "outputs": [],
   "source": [
    "del pre_students"
   ]
  },
  {
   "cell_type": "code",
   "execution_count": 187,
   "id": "aff60373",
   "metadata": {},
   "outputs": [
    {
     "data": {
      "text/plain": [
       "{'author_id': 0,\n",
       " 'name': 'Ponce, William A.',\n",
       " 'student': {'degree_type': 'master',\n",
       "  'rank': 'MASTER',\n",
       "  'hidden': False,\n",
       "  'institution_id': 903906,\n",
       "  'current': False,\n",
       "  'end_date': '1997',\n",
       "  'start_date': '1995',\n",
       "  'institution': 'Antioquia U.',\n",
       "  'curated_relation': True}}"
      ]
     },
     "execution_count": 187,
     "metadata": {},
     "output_type": "execute_result"
    }
   ],
   "source": [
    "d"
   ]
  },
  {
   "cell_type": "code",
   "execution_count": 196,
   "id": "2bfead6e",
   "metadata": {},
   "outputs": [],
   "source": []
  },
  {
   "cell_type": "code",
   "execution_count": 197,
   "id": "340ebc49",
   "metadata": {},
   "outputs": [
    {
     "data": {
      "text/plain": [
       "{'author_id': 993016,\n",
       " 'name': 'Ponce, William A.',\n",
       " 'student': {'degree_type': 'master',\n",
       "  'rank': 'MASTER',\n",
       "  'hidden': False,\n",
       "  'institution_id': 903906,\n",
       "  'current': False,\n",
       "  'end_date': '1997',\n",
       "  'start_date': '1995',\n",
       "  'institution': 'Antioquia U.',\n",
       "  'curated_relation': True}}"
      ]
     },
     "execution_count": 197,
     "metadata": {},
     "output_type": "execute_result"
    }
   ],
   "source": [
    "d"
   ]
  },
  {
   "cell_type": "code",
   "execution_count": 10,
   "id": "dee726f2",
   "metadata": {},
   "outputs": [],
   "source": [
    "ca=set(df[df.institution_id==903002].author_id.unique())"
   ]
  },
  {
   "cell_type": "markdown",
   "id": "d76cfe33",
   "metadata": {},
   "source": [
    "Some time was a cinvestav author"
   ]
  },
  {
   "cell_type": "code",
   "execution_count": 25,
   "id": "1bee2f47",
   "metadata": {},
   "outputs": [],
   "source": [
    "cv=df[df.author_id.apply(lambda x: x in ca)].reset_index(drop=True)\n",
    "i=cv.author_id.unique()[1]"
   ]
  },
  {
   "cell_type": "code",
   "execution_count": 27,
   "id": "78e190a7",
   "metadata": {},
   "outputs": [
    {
     "data": {
      "text/plain": [
       "988155"
      ]
     },
     "execution_count": 27,
     "metadata": {},
     "output_type": "execute_result"
    }
   ],
   "source": [
    "i"
   ]
  },
  {
   "cell_type": "code",
   "execution_count": 109,
   "id": "b90d6813",
   "metadata": {},
   "outputs": [
    {
     "ename": "KeyboardInterrupt",
     "evalue": "",
     "output_type": "error",
     "traceback": [
      "\u001b[0;31m---------------------------------------------------------------------------\u001b[0m",
      "\u001b[0;31mKeyboardInterrupt\u001b[0m                         Traceback (most recent call last)",
      "\u001b[0;32m/tmp/ipykernel_776774/2514620620.py\u001b[0m in \u001b[0;36m<module>\u001b[0;34m\u001b[0m\n\u001b[0;32m----> 1\u001b[0;31m \u001b[0mdf\u001b[0m\u001b[0;34m[\u001b[0m\u001b[0;34m'advisor'\u001b[0m\u001b[0;34m]\u001b[0m\u001b[0;34m=\u001b[0m\u001b[0mdf\u001b[0m\u001b[0;34m.\u001b[0m\u001b[0mauthor_id\u001b[0m\u001b[0;34m.\u001b[0m\u001b[0mapply\u001b[0m\u001b[0;34m(\u001b[0m\u001b[0mget_advisor\u001b[0m\u001b[0;34m)\u001b[0m\u001b[0;34m\u001b[0m\u001b[0;34m\u001b[0m\u001b[0m\n\u001b[0m",
      "\u001b[0;32m/usr/local/lib/python3.9/dist-packages/pandas/core/series.py\u001b[0m in \u001b[0;36mapply\u001b[0;34m(self, func, convert_dtype, args, **kwargs)\u001b[0m\n\u001b[1;32m   4431\u001b[0m         \u001b[0mdtype\u001b[0m\u001b[0;34m:\u001b[0m \u001b[0mfloat64\u001b[0m\u001b[0;34m\u001b[0m\u001b[0;34m\u001b[0m\u001b[0m\n\u001b[1;32m   4432\u001b[0m         \"\"\"\n\u001b[0;32m-> 4433\u001b[0;31m         \u001b[0;32mreturn\u001b[0m \u001b[0mSeriesApply\u001b[0m\u001b[0;34m(\u001b[0m\u001b[0mself\u001b[0m\u001b[0;34m,\u001b[0m \u001b[0mfunc\u001b[0m\u001b[0;34m,\u001b[0m \u001b[0mconvert_dtype\u001b[0m\u001b[0;34m,\u001b[0m \u001b[0margs\u001b[0m\u001b[0;34m,\u001b[0m \u001b[0mkwargs\u001b[0m\u001b[0;34m)\u001b[0m\u001b[0;34m.\u001b[0m\u001b[0mapply\u001b[0m\u001b[0;34m(\u001b[0m\u001b[0;34m)\u001b[0m\u001b[0;34m\u001b[0m\u001b[0;34m\u001b[0m\u001b[0m\n\u001b[0m\u001b[1;32m   4434\u001b[0m \u001b[0;34m\u001b[0m\u001b[0m\n\u001b[1;32m   4435\u001b[0m     def _reduce(\n",
      "\u001b[0;32m/usr/local/lib/python3.9/dist-packages/pandas/core/apply.py\u001b[0m in \u001b[0;36mapply\u001b[0;34m(self)\u001b[0m\n\u001b[1;32m   1086\u001b[0m             \u001b[0;32mreturn\u001b[0m \u001b[0mself\u001b[0m\u001b[0;34m.\u001b[0m\u001b[0mapply_str\u001b[0m\u001b[0;34m(\u001b[0m\u001b[0;34m)\u001b[0m\u001b[0;34m\u001b[0m\u001b[0;34m\u001b[0m\u001b[0m\n\u001b[1;32m   1087\u001b[0m \u001b[0;34m\u001b[0m\u001b[0m\n\u001b[0;32m-> 1088\u001b[0;31m         \u001b[0;32mreturn\u001b[0m \u001b[0mself\u001b[0m\u001b[0;34m.\u001b[0m\u001b[0mapply_standard\u001b[0m\u001b[0;34m(\u001b[0m\u001b[0;34m)\u001b[0m\u001b[0;34m\u001b[0m\u001b[0;34m\u001b[0m\u001b[0m\n\u001b[0m\u001b[1;32m   1089\u001b[0m \u001b[0;34m\u001b[0m\u001b[0m\n\u001b[1;32m   1090\u001b[0m     \u001b[0;32mdef\u001b[0m \u001b[0magg\u001b[0m\u001b[0;34m(\u001b[0m\u001b[0mself\u001b[0m\u001b[0;34m)\u001b[0m\u001b[0;34m:\u001b[0m\u001b[0;34m\u001b[0m\u001b[0;34m\u001b[0m\u001b[0m\n",
      "\u001b[0;32m/usr/local/lib/python3.9/dist-packages/pandas/core/apply.py\u001b[0m in \u001b[0;36mapply_standard\u001b[0;34m(self)\u001b[0m\n\u001b[1;32m   1141\u001b[0m                 \u001b[0;31m# List[Union[Callable[..., Any], str]]]]]\"; expected\u001b[0m\u001b[0;34m\u001b[0m\u001b[0;34m\u001b[0m\u001b[0;34m\u001b[0m\u001b[0m\n\u001b[1;32m   1142\u001b[0m                 \u001b[0;31m# \"Callable[[Any], Any]\"\u001b[0m\u001b[0;34m\u001b[0m\u001b[0;34m\u001b[0m\u001b[0;34m\u001b[0m\u001b[0m\n\u001b[0;32m-> 1143\u001b[0;31m                 mapped = lib.map_infer(\n\u001b[0m\u001b[1;32m   1144\u001b[0m                     \u001b[0mvalues\u001b[0m\u001b[0;34m,\u001b[0m\u001b[0;34m\u001b[0m\u001b[0;34m\u001b[0m\u001b[0m\n\u001b[1;32m   1145\u001b[0m                     \u001b[0mf\u001b[0m\u001b[0;34m,\u001b[0m  \u001b[0;31m# type: ignore[arg-type]\u001b[0m\u001b[0;34m\u001b[0m\u001b[0;34m\u001b[0m\u001b[0m\n",
      "\u001b[0;32m/usr/local/lib/python3.9/dist-packages/pandas/_libs/lib.pyx\u001b[0m in \u001b[0;36mpandas._libs.lib.map_infer\u001b[0;34m()\u001b[0m\n",
      "\u001b[0;32m/tmp/ipykernel_776774/1247285798.py\u001b[0m in \u001b[0;36mget_advisor\u001b[0;34m(i)\u001b[0m\n\u001b[1;32m      7\u001b[0m     \u001b[0;32mexcept\u001b[0m\u001b[0;34m:\u001b[0m\u001b[0;34m\u001b[0m\u001b[0;34m\u001b[0m\u001b[0m\n\u001b[1;32m      8\u001b[0m         \u001b[0;32mpass\u001b[0m\u001b[0;34m\u001b[0m\u001b[0;34m\u001b[0m\u001b[0m\n\u001b[0;32m----> 9\u001b[0;31m     \u001b[0mtime\u001b[0m\u001b[0;34m.\u001b[0m\u001b[0msleep\u001b[0m\u001b[0;34m(\u001b[0m\u001b[0msleep\u001b[0m\u001b[0;34m)\u001b[0m\u001b[0;34m\u001b[0m\u001b[0;34m\u001b[0m\u001b[0m\n\u001b[0m\u001b[1;32m     10\u001b[0m \u001b[0;34m\u001b[0m\u001b[0m\n\u001b[1;32m     11\u001b[0m     \u001b[0;32mreturn\u001b[0m \u001b[0madv\u001b[0m\u001b[0;34m\u001b[0m\u001b[0;34m\u001b[0m\u001b[0m\n",
      "\u001b[0;31mKeyboardInterrupt\u001b[0m: "
     ]
    }
   ],
   "source": [
    "df['advisor']=df.author_id.apply(get_advisor)"
   ]
  },
  {
   "cell_type": "code",
   "execution_count": 35,
   "id": "a6f9584e",
   "metadata": {},
   "outputs": [],
   "source": [
    "cv['get_advisor']=cv.author_id.apply(get_advisor)"
   ]
  },
  {
   "cell_type": "code",
   "execution_count": 59,
   "id": "209f44d3",
   "metadata": {},
   "outputs": [],
   "source": [
    "cv_gr=cv[cv['get_advisor'].apply(lambda l: [int(d.get('record').get('$ref').split('/')[-1])\n",
    " for d in l if d.get('record')  ] if l else []).apply(lambda l: set(l).intersection(ca)).apply(len)>0]"
   ]
  },
  {
   "cell_type": "code",
   "execution_count": 74,
   "id": "a7511b39",
   "metadata": {},
   "outputs": [],
   "source": [
    "cv_gr=cv_gr.drop_duplicates(subset=['author_id'])"
   ]
  },
  {
   "cell_type": "code",
   "execution_count": 77,
   "id": "8feda63c",
   "metadata": {},
   "outputs": [],
   "source": [
    "cv_gr['full_name']=cv_gr.name.str['value']"
   ]
  },
  {
   "cell_type": "code",
   "execution_count": 84,
   "id": "428cc588",
   "metadata": {},
   "outputs": [],
   "source": [
    "cv_gr['advisor_id']=cv_gr['get_advisor'].apply(lambda l: [int(d.get('record').get('$ref').split('/')[-1])\n",
    " for d in l if d.get('record')  ] if l else []).apply(lambda l: set(l).intersection(ca)).apply(list)"
   ]
  },
  {
   "cell_type": "code",
   "execution_count": 95,
   "id": "4ace7a33",
   "metadata": {},
   "outputs": [],
   "source": [
    "cv_gr['advisor_name']=cv_gr.apply(lambda r: ([d.get('name') for d in r.get('get_advisor')\n",
    "                          if int(d.get('record').get('$ref').split('/')[-1]) in r.get('advisor_id')\n",
    "                         ]) , axis='columns' )"
   ]
  },
  {
   "cell_type": "code",
   "execution_count": 103,
   "id": "34de8611",
   "metadata": {},
   "outputs": [],
   "source": [
    "def get_name(i):\n",
    "    return cv[cv['author_id']==i].iloc[0].get('name').get('value')"
   ]
  },
  {
   "cell_type": "code",
   "execution_count": 97,
   "id": "848ce532",
   "metadata": {},
   "outputs": [],
   "source": [
    "cv_gr=cv_gr.reset_index(drop=True)"
   ]
  },
  {
   "cell_type": "code",
   "execution_count": 105,
   "id": "ae71c8ac",
   "metadata": {},
   "outputs": [],
   "source": [
    "cv_gr['advisor_name']=cv_gr['advisor_id'].apply(lambda l: [get_name(i) for i in l])"
   ]
  },
  {
   "cell_type": "code",
   "execution_count": 106,
   "id": "f398d791",
   "metadata": {},
   "outputs": [
    {
     "data": {
      "text/html": [
       "<div>\n",
       "<style scoped>\n",
       "    .dataframe tbody tr th:only-of-type {\n",
       "        vertical-align: middle;\n",
       "    }\n",
       "\n",
       "    .dataframe tbody tr th {\n",
       "        vertical-align: top;\n",
       "    }\n",
       "\n",
       "    .dataframe thead th {\n",
       "        text-align: right;\n",
       "    }\n",
       "</style>\n",
       "<table border=\"1\" class=\"dataframe\">\n",
       "  <thead>\n",
       "    <tr style=\"text-align: right;\">\n",
       "      <th></th>\n",
       "      <th>full_name</th>\n",
       "      <th>advisor_name</th>\n",
       "      <th>advisor_id</th>\n",
       "    </tr>\n",
       "  </thead>\n",
       "  <tbody>\n",
       "    <tr>\n",
       "      <th>0</th>\n",
       "      <td>Perez-Lorenzana, Abdel</td>\n",
       "      <td>[Zepeda, Arnulfo]</td>\n",
       "      <td>[982258]</td>\n",
       "    </tr>\n",
       "    <tr>\n",
       "      <th>1</th>\n",
       "      <td>Montesinos-Velasquez, Merced</td>\n",
       "      <td>[Matos, Tonatiuh]</td>\n",
       "      <td>[998375]</td>\n",
       "    </tr>\n",
       "    <tr>\n",
       "      <th>2</th>\n",
       "      <td>Parada Valencia, Alexander</td>\n",
       "      <td>[Miranda, Omar Gustavo]</td>\n",
       "      <td>[997309]</td>\n",
       "    </tr>\n",
       "    <tr>\n",
       "      <th>3</th>\n",
       "      <td>Fernandez C, David J.</td>\n",
       "      <td>[Mielnik, Bogdan]</td>\n",
       "      <td>[1055726]</td>\n",
       "    </tr>\n",
       "    <tr>\n",
       "      <th>4</th>\n",
       "      <td>González, Diego</td>\n",
       "      <td>[Montesinos-Velasquez, Merced]</td>\n",
       "      <td>[996953]</td>\n",
       "    </tr>\n",
       "    <tr>\n",
       "      <th>5</th>\n",
       "      <td>Garcia-Salcedo, Ricardo</td>\n",
       "      <td>[Breton, Nora]</td>\n",
       "      <td>[1015335]</td>\n",
       "    </tr>\n",
       "    <tr>\n",
       "      <th>6</th>\n",
       "      <td>Ayón-Beato, Eloy</td>\n",
       "      <td>[Garcia Diaz, Alberto A.]</td>\n",
       "      <td>[1008895]</td>\n",
       "    </tr>\n",
       "    <tr>\n",
       "      <th>7</th>\n",
       "      <td>Breton, Nora</td>\n",
       "      <td>[Garcia Diaz, Alberto A.]</td>\n",
       "      <td>[1008895]</td>\n",
       "    </tr>\n",
       "    <tr>\n",
       "      <th>8</th>\n",
       "      <td>Martinez Hernandez, Mario Ivan</td>\n",
       "      <td>[Herrera Corral, Gerardo Antonio]</td>\n",
       "      <td>[1006138]</td>\n",
       "    </tr>\n",
       "    <tr>\n",
       "      <th>9</th>\n",
       "      <td>Rosas-Ortiz, Oscar</td>\n",
       "      <td>[Fernandez C, David J.]</td>\n",
       "      <td>[1010144]</td>\n",
       "    </tr>\n",
       "    <tr>\n",
       "      <th>10</th>\n",
       "      <td>De La Cruz Burelo, Eduard</td>\n",
       "      <td>[Castilla-Valdez, Heriberto]</td>\n",
       "      <td>[1014298]</td>\n",
       "    </tr>\n",
       "    <tr>\n",
       "      <th>11</th>\n",
       "      <td>Medina, Julieta</td>\n",
       "      <td>[O'Connor, Denjoe]</td>\n",
       "      <td>[995294]</td>\n",
       "    </tr>\n",
       "    <tr>\n",
       "      <th>12</th>\n",
       "      <td>Loaiza-Brito, Oscar</td>\n",
       "      <td>[García-Compeán, Hugo]</td>\n",
       "      <td>[1008900]</td>\n",
       "    </tr>\n",
       "    <tr>\n",
       "      <th>13</th>\n",
       "      <td>Bermudez, David</td>\n",
       "      <td>[Fernandez C, David J.]</td>\n",
       "      <td>[1010144]</td>\n",
       "    </tr>\n",
       "    <tr>\n",
       "      <th>14</th>\n",
       "      <td>Hernández Pinto, Roger Jose</td>\n",
       "      <td>[Perez-Lorenzana, Abdel]</td>\n",
       "      <td>[1025146]</td>\n",
       "    </tr>\n",
       "    <tr>\n",
       "      <th>15</th>\n",
       "      <td>Velazquez, Mercedes Paulina</td>\n",
       "      <td>[Montesinos-Velasquez, Merced]</td>\n",
       "      <td>[996953]</td>\n",
       "    </tr>\n",
       "    <tr>\n",
       "      <th>16</th>\n",
       "      <td>Pelayo, Rodrigo</td>\n",
       "      <td>[Zepeda, Arnulfo]</td>\n",
       "      <td>[982258]</td>\n",
       "    </tr>\n",
       "    <tr>\n",
       "      <th>17</th>\n",
       "      <td>Hernandez-Montoya, Alejandro Raul</td>\n",
       "      <td>[Castilla-Valdez, Heriberto]</td>\n",
       "      <td>[1014298]</td>\n",
       "    </tr>\n",
       "    <tr>\n",
       "      <th>18</th>\n",
       "      <td>Gallardo, Alejandro</td>\n",
       "      <td>[Montesinos-Velasquez, Merced]</td>\n",
       "      <td>[996953]</td>\n",
       "    </tr>\n",
       "    <tr>\n",
       "      <th>19</th>\n",
       "      <td>Mendez Zavaleta, Julio Alberto</td>\n",
       "      <td>[Ayón-Beato, Eloy]</td>\n",
       "      <td>[1017802]</td>\n",
       "    </tr>\n",
       "    <tr>\n",
       "      <th>20</th>\n",
       "      <td>Heredia de la Cruz, Ivan</td>\n",
       "      <td>[Castilla-Valdez, Heriberto]</td>\n",
       "      <td>[1014298]</td>\n",
       "    </tr>\n",
       "    <tr>\n",
       "      <th>21</th>\n",
       "      <td>Arteaga-Velazquez, Juan Carlos</td>\n",
       "      <td>[Zepeda, Arnulfo]</td>\n",
       "      <td>[982258]</td>\n",
       "    </tr>\n",
       "    <tr>\n",
       "      <th>22</th>\n",
       "      <td>Delgadillo-Blando, Rodrigo</td>\n",
       "      <td>[O'Connor, Denjoe]</td>\n",
       "      <td>[995294]</td>\n",
       "    </tr>\n",
       "    <tr>\n",
       "      <th>23</th>\n",
       "      <td>Ayala-Torres, Marco Alberto</td>\n",
       "      <td>[Montano Zetina, Luis Manuel]</td>\n",
       "      <td>[1066312]</td>\n",
       "    </tr>\n",
       "    <tr>\n",
       "      <th>24</th>\n",
       "      <td>Hernandez Orduna, Jose de Jesus</td>\n",
       "      <td>[Castilla-Valdez, Heriberto, De La Cruz Burelo...</td>\n",
       "      <td>[1014298, 1030771]</td>\n",
       "    </tr>\n",
       "    <tr>\n",
       "      <th>25</th>\n",
       "      <td>Ramírez Valdez, Carlos Jonathan</td>\n",
       "      <td>[Manko, Vladimir S., García-Compeán, Hugo]</td>\n",
       "      <td>[998961, 1008900]</td>\n",
       "    </tr>\n",
       "    <tr>\n",
       "      <th>26</th>\n",
       "      <td>Vijande, Javier</td>\n",
       "      <td>[Valcarce, Alfredo]</td>\n",
       "      <td>[1019604]</td>\n",
       "    </tr>\n",
       "    <tr>\n",
       "      <th>27</th>\n",
       "      <td>Cruz Albino, Rigoberto</td>\n",
       "      <td>[Herrera Corral, Gerardo Antonio]</td>\n",
       "      <td>[1006138]</td>\n",
       "    </tr>\n",
       "    <tr>\n",
       "      <th>28</th>\n",
       "      <td>Hernández Villanueva, Michel Enrique</td>\n",
       "      <td>[Lopez-Castro, Gabriel, De La Cruz Burelo, Edu...</td>\n",
       "      <td>[999835, 1030771]</td>\n",
       "    </tr>\n",
       "    <tr>\n",
       "      <th>29</th>\n",
       "      <td>Camacho-Perez, Enrique</td>\n",
       "      <td>[De La Cruz Burelo, Eduard]</td>\n",
       "      <td>[1030771]</td>\n",
       "    </tr>\n",
       "  </tbody>\n",
       "</table>\n",
       "</div>"
      ],
      "text/plain": [
       "                               full_name  \\\n",
       "0                 Perez-Lorenzana, Abdel   \n",
       "1           Montesinos-Velasquez, Merced   \n",
       "2             Parada Valencia, Alexander   \n",
       "3                  Fernandez C, David J.   \n",
       "4                        González, Diego   \n",
       "5                Garcia-Salcedo, Ricardo   \n",
       "6                       Ayón-Beato, Eloy   \n",
       "7                           Breton, Nora   \n",
       "8         Martinez Hernandez, Mario Ivan   \n",
       "9                     Rosas-Ortiz, Oscar   \n",
       "10             De La Cruz Burelo, Eduard   \n",
       "11                       Medina, Julieta   \n",
       "12                   Loaiza-Brito, Oscar   \n",
       "13                       Bermudez, David   \n",
       "14           Hernández Pinto, Roger Jose   \n",
       "15           Velazquez, Mercedes Paulina   \n",
       "16                       Pelayo, Rodrigo   \n",
       "17     Hernandez-Montoya, Alejandro Raul   \n",
       "18                   Gallardo, Alejandro   \n",
       "19        Mendez Zavaleta, Julio Alberto   \n",
       "20              Heredia de la Cruz, Ivan   \n",
       "21        Arteaga-Velazquez, Juan Carlos   \n",
       "22            Delgadillo-Blando, Rodrigo   \n",
       "23           Ayala-Torres, Marco Alberto   \n",
       "24       Hernandez Orduna, Jose de Jesus   \n",
       "25       Ramírez Valdez, Carlos Jonathan   \n",
       "26                       Vijande, Javier   \n",
       "27                Cruz Albino, Rigoberto   \n",
       "28  Hernández Villanueva, Michel Enrique   \n",
       "29                Camacho-Perez, Enrique   \n",
       "\n",
       "                                         advisor_name          advisor_id  \n",
       "0                                   [Zepeda, Arnulfo]            [982258]  \n",
       "1                                   [Matos, Tonatiuh]            [998375]  \n",
       "2                             [Miranda, Omar Gustavo]            [997309]  \n",
       "3                                   [Mielnik, Bogdan]           [1055726]  \n",
       "4                      [Montesinos-Velasquez, Merced]            [996953]  \n",
       "5                                      [Breton, Nora]           [1015335]  \n",
       "6                           [Garcia Diaz, Alberto A.]           [1008895]  \n",
       "7                           [Garcia Diaz, Alberto A.]           [1008895]  \n",
       "8                   [Herrera Corral, Gerardo Antonio]           [1006138]  \n",
       "9                             [Fernandez C, David J.]           [1010144]  \n",
       "10                       [Castilla-Valdez, Heriberto]           [1014298]  \n",
       "11                                 [O'Connor, Denjoe]            [995294]  \n",
       "12                             [García-Compeán, Hugo]           [1008900]  \n",
       "13                            [Fernandez C, David J.]           [1010144]  \n",
       "14                           [Perez-Lorenzana, Abdel]           [1025146]  \n",
       "15                     [Montesinos-Velasquez, Merced]            [996953]  \n",
       "16                                  [Zepeda, Arnulfo]            [982258]  \n",
       "17                       [Castilla-Valdez, Heriberto]           [1014298]  \n",
       "18                     [Montesinos-Velasquez, Merced]            [996953]  \n",
       "19                                 [Ayón-Beato, Eloy]           [1017802]  \n",
       "20                       [Castilla-Valdez, Heriberto]           [1014298]  \n",
       "21                                  [Zepeda, Arnulfo]            [982258]  \n",
       "22                                 [O'Connor, Denjoe]            [995294]  \n",
       "23                      [Montano Zetina, Luis Manuel]           [1066312]  \n",
       "24  [Castilla-Valdez, Heriberto, De La Cruz Burelo...  [1014298, 1030771]  \n",
       "25         [Manko, Vladimir S., García-Compeán, Hugo]   [998961, 1008900]  \n",
       "26                                [Valcarce, Alfredo]           [1019604]  \n",
       "27                  [Herrera Corral, Gerardo Antonio]           [1006138]  \n",
       "28  [Lopez-Castro, Gabriel, De La Cruz Burelo, Edu...   [999835, 1030771]  \n",
       "29                        [De La Cruz Burelo, Eduard]           [1030771]  "
      ]
     },
     "execution_count": 106,
     "metadata": {},
     "output_type": "execute_result"
    }
   ],
   "source": [
    "cv_gr[['full_name','advisor_name','advisor_id']]"
   ]
  },
  {
   "cell_type": "code",
   "execution_count": null,
   "id": "7e980706",
   "metadata": {},
   "outputs": [],
   "source": []
  },
  {
   "cell_type": "code",
   "execution_count": null,
   "id": "0ec2100a",
   "metadata": {},
   "outputs": [],
   "source": []
  }
 ],
 "metadata": {
  "kernelspec": {
   "display_name": "Python 3 (ipykernel)",
   "language": "python",
   "name": "python3"
  },
  "language_info": {
   "codemirror_mode": {
    "name": "ipython",
    "version": 3
   },
   "file_extension": ".py",
   "mimetype": "text/x-python",
   "name": "python",
   "nbconvert_exporter": "python",
   "pygments_lexer": "ipython3",
   "version": "3.9.2"
  },
  "vscode": {
   "interpreter": {
    "hash": "31f2aee4e71d21fbe5cf8b01ff0e069b9275f58929596ceb00d14d90e3e16cd6"
   }
  }
 },
 "nbformat": 4,
 "nbformat_minor": 5
}
