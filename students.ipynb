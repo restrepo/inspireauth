{
 "cells": [
  {
   "cell_type": "code",
   "execution_count": 3,
   "id": "881b4b98-891a-408f-a285-b6e9eb07fb0c",
   "metadata": {},
   "outputs": [],
   "source": [
    "import pandas as pd\n",
    "import requests\n",
    "import json\n",
    "import time\n",
    "sleep=0.4"
   ]
  },
  {
   "cell_type": "code",
   "execution_count": 4,
   "id": "ce3abfd8",
   "metadata": {},
   "outputs": [],
   "source": [
    "LOCAL=False\n",
    "if LOCAL:\n",
    "    f=open('data/inspire_LA.json','r')\n",
    "    df=json.load(f)\n",
    "    f.close()\n",
    "else:\n",
    "    r=requests.get('https://github.com/restrepo/inspireauth/raw/main/data/inspire_LA.json')\n",
    "    df=r.json()"
   ]
  },
  {
   "cell_type": "code",
   "execution_count": 3,
   "id": "356f4aa0",
   "metadata": {},
   "outputs": [
    {
     "name": "stdout",
     "output_type": "stream",
     "text": [
      "57588\n"
     ]
    }
   ],
   "source": [
    "print(len(df))"
   ]
  },
  {
   "cell_type": "markdown",
   "id": "64724660",
   "metadata": {
    "tags": []
   },
   "source": []
  },
  {
   "cell_type": "markdown",
   "id": "d86701cd-4d78-41c2-80a6-25fca3c50869",
   "metadata": {
    "tags": []
   },
   "source": [
    "## Extended papers data structure including `rank` and related information\n",
    "1) Get ranks for each institution for authors with declared profile\n",
    "2) Get ranks for each paper"
   ]
  },
  {
   "cell_type": "code",
   "execution_count": 112,
   "id": "b58ccc47-99be-42d9-9c9f-e4c7a8785131",
   "metadata": {},
   "outputs": [],
   "source": [
    "from datetime import datetime\n",
    "import copy\n",
    "def get_country(institution_id,df):\n",
    "    institution_id = str(institution_id)\n",
    "    for d in df:\n",
    "        country = None\n",
    "        if d.get('institution_id') == institution_id:\n",
    "            country = d.get('country')\n",
    "            break\n",
    "    return country\n",
    "def flatten_list(L):\n",
    "    return [item for sublist in L for item in sublist]"
   ]
  },
  {
   "cell_type": "code",
   "execution_count": 6,
   "id": "0a6b3b1f-dfe0-45eb-a0bf-65c95129af9f",
   "metadata": {},
   "outputs": [
    {
     "name": "stdout",
     "output_type": "stream",
     "text": [
      "57587\r"
     ]
    }
   ],
   "source": [
    "#Extend 'positions' data-scheme\n",
    "i=0\n",
    "for d in df:\n",
    "    if d.get('positions'):\n",
    "        for p in d.get('positions'):\n",
    "            try:\n",
    "                p['institution_id']=p.get('record').get('$ref').split('/')[-1]\n",
    "            except:\n",
    "                p['institution_id']=None\n",
    "            if p.get('institution_id'):\n",
    "                p['country']=get_country(p.get('institution_id'),df)\n",
    "            else:\n",
    "                p['country']=None\n",
    "            p['author_id']=d.get('author_id')\n",
    "    print(str(i).zfill(5),end='\\r')\n",
    "    i += 1                \n",
    "\n",
    "#Extend 'papers' data-scheme\n",
    "#d=df[4722]\n",
    "i=0\n",
    "for d in df:\n",
    "    if d.get('positions'):\n",
    "        dp=copy.deepcopy(d.get('positions'))\n",
    "        for p in dp:\n",
    "            try:\n",
    "                p['institution_id'] = p.get('record').get('$ref').split('/')[-1]\n",
    "            except:\n",
    "                p['institution_id'] = None\n",
    "\n",
    "    il = [p.get('institution_id') for p in dp]\n",
    "    #papers = copy.deepcopy(d.get('papers'))\n",
    "    papers = d.get('papers')\n",
    "    for pr in papers:\n",
    "        # Fix institution\n",
    "        pr['institution_id'] = pr.pop('instituion_id')\n",
    "        if pr.get('institution_id') in il:\n",
    "            end_date=None\n",
    "            ps=[p for p in dp if p.get('institution_id') == pr.get('institution_id')]\n",
    "            for p in ps:\n",
    "                if p.get('end_date'):\n",
    "                    end_date=int(p.get('end_date').split('-')[0])\n",
    "                else:\n",
    "                    if p.get('current'):\n",
    "                        end_date=datetime.now().year+1\n",
    "                start_date=p.get('start_date')\n",
    "                if start_date:\n",
    "                    start_date=int(start_date.split('-')[0])\n",
    "                try:\n",
    "                    year=eval(pr.get('year'))\n",
    "                except:\n",
    "                    year=pr.get('year')\n",
    "                if year:\n",
    "                    year=int(year)\n",
    "                if year and start_date and end_date and year in range(start_date,end_date+2): #+1 of tolerance\n",
    "                    pr['rank'] = p.get('rank')\n",
    "                    pr['start_date'] = p.get('start_date')\n",
    "                    pr['end_date'] = p.get('end_date')\n",
    "                    if p.get('current'):\n",
    "                        pr['current'] = p.get('current')\n",
    "                    pr['institution'] =p.get('institution')\n",
    "                    pr['country'] = get_country(p.get('institution_id'),df)\n",
    "        #if i==3:\n",
    "        #    raise Exception(f'break -> {i}')\n",
    "    print(str(i).zfill(5),end='\\r')\n",
    "    i += 1"
   ]
  },
  {
   "cell_type": "markdown",
   "id": "fd6bcb9e-139d-4046-bcd9-41ef964033bb",
   "metadata": {},
   "source": [
    "### Find gender\n",
    "__TODO__: check the language of the full name"
   ]
  },
  {
   "cell_type": "code",
   "execution_count": 7,
   "id": "d4002bdc-638d-47a1-b8aa-8bc6a8cfcef7",
   "metadata": {},
   "outputs": [],
   "source": [
    "import gender_guesser.detector as gender\n",
    "from babel import Locale\n",
    "import pycountry_convert as pycc\n",
    "from babel import Locale"
   ]
  },
  {
   "cell_type": "code",
   "execution_count": 8,
   "id": "7506c6f6-b7d7-42ac-9a58-eb0755a1c9e4",
   "metadata": {},
   "outputs": [],
   "source": [
    "gd = gender.Detector()"
   ]
  },
  {
   "cell_type": "code",
   "execution_count": 9,
   "id": "3bbc2d26-acc0-4d8e-82cd-a659cdd60794",
   "metadata": {},
   "outputs": [],
   "source": [
    "COUNTRIES={}\n",
    "for c in gd.COUNTRIES:\n",
    "    if c=='usa':\n",
    "        CO='US'\n",
    "    elif c=='east_frisia':\n",
    "        CO='DE'\n",
    "    elif c=='swiss':\n",
    "        CO='CH'\n",
    "    elif c=='bosniaand':\n",
    "        CO='BA'\n",
    "    elif c=='kosovo':\n",
    "        CO='AL'\n",
    "    elif c=='the_stans':\n",
    "        CO='AF'\n",
    "    elif c=='arabia':\n",
    "        CO='SA'\n",
    "    elif c=='korea':\n",
    "        CO='KR'\n",
    "    elif c=='other_countries':\n",
    "        CO='oc'\n",
    "    else:\n",
    "        CO=pycc.country_name_to_country_alpha2( c.title().replace(\"_\",\" \").replace(\"The \",\"\"))\n",
    "    if CO != 'oc':\n",
    "        COUNTRIES[Locale.parse(f'und_{CO}').language]=c\n",
    "    else:\n",
    "        COUNTRIES[CO] = c"
   ]
  },
  {
   "cell_type": "code",
   "execution_count": 10,
   "id": "303d1d0e-0782-4780-b7ee-2f7087003828",
   "metadata": {},
   "outputs": [],
   "source": [
    "def get_name(lasts_csv_names):\n",
    "    try:\n",
    "        name=(lasts_csv_names.split(', ')[-1]).split()[0] # Second name is usally a last name\n",
    "    except:\n",
    "        name='.'\n",
    "    if name.find('.')!=-1:\n",
    "        name=None\n",
    "    return name\n",
    "\n",
    "def get_main_language_country(country):\n",
    "    co=pycc.country_name_to_country_alpha2(country)\n",
    "    try:\n",
    "        la=Locale.parse(f'und_{co}').language  # 'und' here means unknown language, co is country\n",
    "    except:\n",
    "        la='oc'\n",
    "    try:\n",
    "        COUNTRY=COUNTRIES.get(la)\n",
    "    except:\n",
    "        COUNTRY=COUNTRIES.get('oc')\n",
    "    return COUNTRY"
   ]
  },
  {
   "cell_type": "code",
   "execution_count": 11,
   "id": "ed3abe54-ecbf-4226-921d-778db807b36e",
   "metadata": {},
   "outputs": [
    {
     "name": "stdout",
     "output_type": "stream",
     "text": [
      "57587\r"
     ]
    }
   ],
   "source": [
    "i=0\n",
    "for d in df:\n",
    "    try:\n",
    "        name=get_name(d.get('name').get('value'))\n",
    "    except:\n",
    "        name=None\n",
    "    if name is None:\n",
    "        try:\n",
    "            name = get_name(d.get('full_name'))\n",
    "        except:\n",
    "            pass\n",
    "    country=d.get('country')\n",
    "    if name and country:\n",
    "        try:\n",
    "            COUNTRY=get_main_language_country(country)\n",
    "        except:\n",
    "            COUNTRY=get_main_language_country(country.split()[0])\n",
    "        gender=gd.get_gender(name,COUNTRY)\n",
    "    else:\n",
    "        gender=None\n",
    "    d['gender'] = gender\n",
    "    print(str(i).zfill(5),end='\\r')\n",
    "    i += 1    "
   ]
  },
  {
   "cell_type": "markdown",
   "id": "0d530fc0-0d38-4099-b22f-85dd77ff8773",
   "metadata": {},
   "source": [
    "### Rank author analysis"
   ]
  },
  {
   "cell_type": "code",
   "execution_count": 12,
   "id": "b67d7ae2-2e01-4667-9c8e-fff472b5b066",
   "metadata": {},
   "outputs": [],
   "source": [
    "profile_ranks = [d.get('positions') for d in df if d.get('positions') and \n",
    "                        any([True for dd in d.get('positions') if dd.get('rank')])]\n",
    "profile_ranks = flatten_list(profile_ranks)\n",
    "profile_ranks = [p for p in profile_ranks if p.get('rank')]"
   ]
  },
  {
   "cell_type": "code",
   "execution_count": 13,
   "id": "d3aa6389",
   "metadata": {},
   "outputs": [
    {
     "data": {
      "text/plain": [
       "POSTDOC          17712\n",
       "PHD              15937\n",
       "SENIOR            9845\n",
       "UNDERGRADUATE     8068\n",
       "JUNIOR            3982\n",
       "MASTER            3590\n",
       "VISITOR           2508\n",
       "STAFF             1626\n",
       "OTHER               66\n",
       "Name: rank, dtype: int64"
      ]
     },
     "execution_count": 13,
     "metadata": {},
     "output_type": "execute_result"
    }
   ],
   "source": [
    "dfp=pd.DataFrame(profile_ranks)\n",
    "dfp['rank'].value_counts()"
   ]
  },
  {
   "cell_type": "code",
   "execution_count": 14,
   "id": "784c83d4-67f4-4f3a-bc55-b4cb3ee1b551",
   "metadata": {},
   "outputs": [
    {
     "data": {
      "text/plain": [
       "array(['PHD', 'SENIOR', 'POSTDOC', 'MASTER', 'UNDERGRADUATE', 'JUNIOR',\n",
       "       'VISITOR', 'STAFF', 'OTHER'], dtype=object)"
      ]
     },
     "execution_count": 14,
     "metadata": {},
     "output_type": "execute_result"
    }
   ],
   "source": [
    "dfp['rank'].unique()"
   ]
  },
  {
   "cell_type": "code",
   "execution_count": 15,
   "id": "c3de3539",
   "metadata": {},
   "outputs": [
    {
     "data": {
      "text/plain": [
       "POSTDOC          571\n",
       "PHD              500\n",
       "SENIOR           399\n",
       "UNDERGRADUATE    334\n",
       "JUNIOR           240\n",
       "MASTER           153\n",
       "VISITOR           56\n",
       "OTHER             21\n",
       "STAFF              6\n",
       "Name: rank, dtype: int64"
      ]
     },
     "execution_count": 15,
     "metadata": {},
     "output_type": "execute_result"
    }
   ],
   "source": [
    "dfp[dfp['country']=='Chile']['rank'].value_counts()"
   ]
  },
  {
   "cell_type": "code",
   "execution_count": 16,
   "id": "00813cb6",
   "metadata": {},
   "outputs": [
    {
     "data": {
      "text/plain": [
       "PHD              1650\n",
       "POSTDOC          1531\n",
       "SENIOR           1249\n",
       "UNDERGRADUATE    1008\n",
       "MASTER            851\n",
       "JUNIOR            327\n",
       "VISITOR           292\n",
       "STAFF             253\n",
       "Name: rank, dtype: int64"
      ]
     },
     "execution_count": 16,
     "metadata": {},
     "output_type": "execute_result"
    }
   ],
   "source": [
    "dfp[dfp['country']=='Brazil']['rank'].value_counts()"
   ]
  },
  {
   "cell_type": "code",
   "execution_count": 17,
   "id": "e28d553a",
   "metadata": {},
   "outputs": [
    {
     "data": {
      "text/plain": [
       "PHD              614\n",
       "UNDERGRADUATE    403\n",
       "SENIOR           246\n",
       "POSTDOC          190\n",
       "MASTER           103\n",
       "STAFF             84\n",
       "JUNIOR            75\n",
       "VISITOR            8\n",
       "Name: rank, dtype: int64"
      ]
     },
     "execution_count": 17,
     "metadata": {},
     "output_type": "execute_result"
    }
   ],
   "source": [
    "dfp[dfp['country']=='Argentina']['rank'].value_counts()"
   ]
  },
  {
   "cell_type": "code",
   "execution_count": 18,
   "id": "68e2b4c6",
   "metadata": {},
   "outputs": [
    {
     "data": {
      "text/plain": [
       "PHD              683\n",
       "SENIOR           551\n",
       "POSTDOC          547\n",
       "UNDERGRADUATE    330\n",
       "JUNIOR           282\n",
       "MASTER           248\n",
       "STAFF            122\n",
       "VISITOR           42\n",
       "OTHER              1\n",
       "Name: rank, dtype: int64"
      ]
     },
     "execution_count": 18,
     "metadata": {},
     "output_type": "execute_result"
    }
   ],
   "source": [
    "dfp[dfp['country']=='Mexico']['rank'].value_counts()"
   ]
  },
  {
   "cell_type": "code",
   "execution_count": 19,
   "id": "00e4705a",
   "metadata": {},
   "outputs": [
    {
     "data": {
      "text/plain": [
       "UNDERGRADUATE    171\n",
       "SENIOR           112\n",
       "JUNIOR            72\n",
       "MASTER            70\n",
       "POSTDOC           60\n",
       "PHD               31\n",
       "STAFF             13\n",
       "VISITOR           11\n",
       "Name: rank, dtype: int64"
      ]
     },
     "execution_count": 19,
     "metadata": {},
     "output_type": "execute_result"
    }
   ],
   "source": [
    "dfp[dfp['country']=='Colombia']['rank'].value_counts()"
   ]
  },
  {
   "cell_type": "code",
   "execution_count": 20,
   "id": "605d82e1",
   "metadata": {},
   "outputs": [
    {
     "data": {
      "text/plain": [
       "SENIOR           23\n",
       "UNDERGRADUATE    18\n",
       "MASTER           17\n",
       "STAFF            12\n",
       "PHD               8\n",
       "POSTDOC           6\n",
       "JUNIOR            3\n",
       "Name: rank, dtype: int64"
      ]
     },
     "execution_count": 20,
     "metadata": {},
     "output_type": "execute_result"
    }
   ],
   "source": [
    "dfp[dfp['country']=='Uruguay']['rank'].value_counts()"
   ]
  },
  {
   "cell_type": "markdown",
   "id": "ac99b08a-47f3-436e-957e-50dfa063f18a",
   "metadata": {},
   "source": [
    "### Gender analysis"
   ]
  },
  {
   "cell_type": "code",
   "execution_count": 163,
   "id": "3a957fa3-21f9-450b-a9d9-ae105e7f0da5",
   "metadata": {},
   "outputs": [
    {
     "data": {
      "text/html": [
       "<div>\n",
       "<style scoped>\n",
       "    .dataframe tbody tr th:only-of-type {\n",
       "        vertical-align: middle;\n",
       "    }\n",
       "\n",
       "    .dataframe tbody tr th {\n",
       "        vertical-align: top;\n",
       "    }\n",
       "\n",
       "    .dataframe thead th {\n",
       "        text-align: right;\n",
       "    }\n",
       "</style>\n",
       "<table border=\"1\" class=\"dataframe\">\n",
       "  <thead>\n",
       "    <tr style=\"text-align: right;\">\n",
       "      <th></th>\n",
       "      <th>profile_id</th>\n",
       "      <th>author_id</th>\n",
       "      <th>full_name</th>\n",
       "      <th>name</th>\n",
       "      <th>country</th>\n",
       "      <th>gender</th>\n",
       "    </tr>\n",
       "  </thead>\n",
       "  <tbody>\n",
       "    <tr>\n",
       "      <th>50</th>\n",
       "      <td>None</td>\n",
       "      <td>J.Chela.Flores.1</td>\n",
       "      <td>Chela-Flores, J.</td>\n",
       "      <td>None</td>\n",
       "      <td>Italy</td>\n",
       "      <td>None</td>\n",
       "    </tr>\n",
       "    <tr>\n",
       "      <th>51</th>\n",
       "      <td>2074632</td>\n",
       "      <td>R.Paredes.1</td>\n",
       "      <td>Paredes, R.</td>\n",
       "      <td>None</td>\n",
       "      <td>Venezuela</td>\n",
       "      <td>None</td>\n",
       "    </tr>\n",
       "    <tr>\n",
       "      <th>52</th>\n",
       "      <td>1019827</td>\n",
       "      <td>C.Aragone.1</td>\n",
       "      <td>Aragone, C.</td>\n",
       "      <td>{'value': 'Aragone, Carlos', 'preferred_name':...</td>\n",
       "      <td>Venezuela</td>\n",
       "      <td>male</td>\n",
       "    </tr>\n",
       "    <tr>\n",
       "      <th>53</th>\n",
       "      <td>2455877</td>\n",
       "      <td>G.Colagiacomo.1</td>\n",
       "      <td>Colagiacomo, G.</td>\n",
       "      <td>None</td>\n",
       "      <td>Venezuela</td>\n",
       "      <td>None</td>\n",
       "    </tr>\n",
       "    <tr>\n",
       "      <th>54</th>\n",
       "      <td>1008438</td>\n",
       "      <td>R.Gianvittorio.1</td>\n",
       "      <td>Gianvittorio, R.</td>\n",
       "      <td>{'value': 'Gianvittorio, Rita', 'preferred_nam...</td>\n",
       "      <td>Venezuela</td>\n",
       "      <td>female</td>\n",
       "    </tr>\n",
       "    <tr>\n",
       "      <th>55</th>\n",
       "      <td>1000877</td>\n",
       "      <td>L.Leal.1</td>\n",
       "      <td>Leal, L.</td>\n",
       "      <td>{'value': 'Leal, Lorenzo', 'preferred_name': '...</td>\n",
       "      <td>Venezuela</td>\n",
       "      <td>male</td>\n",
       "    </tr>\n",
       "    <tr>\n",
       "      <th>56</th>\n",
       "      <td>1008978</td>\n",
       "      <td>R.Gambini.1</td>\n",
       "      <td>Gambini, Rodolfo</td>\n",
       "      <td>{'value': 'Gambini, Rodolfo', 'preferred_name'...</td>\n",
       "      <td>Uruguay</td>\n",
       "      <td>male</td>\n",
       "    </tr>\n",
       "    <tr>\n",
       "      <th>57</th>\n",
       "      <td>1050545</td>\n",
       "      <td>A.Trias.1</td>\n",
       "      <td>Trias, Antoni</td>\n",
       "      <td>{'value': 'Trias, Antoni', 'preferred_name': '...</td>\n",
       "      <td>Spain</td>\n",
       "      <td>male</td>\n",
       "    </tr>\n",
       "    <tr>\n",
       "      <th>58</th>\n",
       "      <td>2222068</td>\n",
       "      <td>E.Mac.2</td>\n",
       "      <td>Mac, E.</td>\n",
       "      <td>None</td>\n",
       "      <td>Venezuela</td>\n",
       "      <td>None</td>\n",
       "    </tr>\n",
       "    <tr>\n",
       "      <th>59</th>\n",
       "      <td>985291</td>\n",
       "      <td>E.Ugaz.1</td>\n",
       "      <td>Ugaz, E.</td>\n",
       "      <td>{'value': 'Ugaz, Eduardo', 'preferred_name': '...</td>\n",
       "      <td>Peru</td>\n",
       "      <td>male</td>\n",
       "    </tr>\n",
       "  </tbody>\n",
       "</table>\n",
       "</div>"
      ],
      "text/plain": [
       "   profile_id         author_id         full_name  \\\n",
       "50       None  J.Chela.Flores.1  Chela-Flores, J.   \n",
       "51    2074632       R.Paredes.1       Paredes, R.   \n",
       "52    1019827       C.Aragone.1       Aragone, C.   \n",
       "53    2455877   G.Colagiacomo.1   Colagiacomo, G.   \n",
       "54    1008438  R.Gianvittorio.1  Gianvittorio, R.   \n",
       "55    1000877          L.Leal.1          Leal, L.   \n",
       "56    1008978       R.Gambini.1  Gambini, Rodolfo   \n",
       "57    1050545         A.Trias.1     Trias, Antoni   \n",
       "58    2222068           E.Mac.2           Mac, E.   \n",
       "59     985291          E.Ugaz.1          Ugaz, E.   \n",
       "\n",
       "                                                 name    country  gender  \n",
       "50                                               None      Italy    None  \n",
       "51                                               None  Venezuela    None  \n",
       "52  {'value': 'Aragone, Carlos', 'preferred_name':...  Venezuela    male  \n",
       "53                                               None  Venezuela    None  \n",
       "54  {'value': 'Gianvittorio, Rita', 'preferred_nam...  Venezuela  female  \n",
       "55  {'value': 'Leal, Lorenzo', 'preferred_name': '...  Venezuela    male  \n",
       "56  {'value': 'Gambini, Rodolfo', 'preferred_name'...    Uruguay    male  \n",
       "57  {'value': 'Trias, Antoni', 'preferred_name': '...      Spain    male  \n",
       "58                                               None  Venezuela    None  \n",
       "59  {'value': 'Ugaz, Eduardo', 'preferred_name': '...       Peru    male  "
      ]
     },
     "execution_count": 163,
     "metadata": {},
     "output_type": "execute_result"
    }
   ],
   "source": [
    "pd.DataFrame(df)[50:60][['profile_id','author_id','full_name','name','country','gender']]"
   ]
  },
  {
   "cell_type": "code",
   "execution_count": 22,
   "id": "366ebed5-18e4-4b59-9982-86d4a05318a6",
   "metadata": {},
   "outputs": [],
   "source": [
    "dff=[d for d in df if d.get('gender')=='female']\n",
    "dfm=[d for d in df if d.get('gender')=='male']"
   ]
  },
  {
   "cell_type": "code",
   "execution_count": 23,
   "id": "232eeefd-264f-4059-95de-40155ab7053e",
   "metadata": {},
   "outputs": [
    {
     "data": {
      "text/plain": [
       "2742"
      ]
     },
     "execution_count": 23,
     "metadata": {},
     "output_type": "execute_result"
    }
   ],
   "source": [
    "len(dff)"
   ]
  },
  {
   "cell_type": "code",
   "execution_count": 24,
   "id": "b4ec0007-5c4d-4dee-b925-a7b334a0a0de",
   "metadata": {},
   "outputs": [
    {
     "data": {
      "text/plain": [
       "POSTDOC          7179\n",
       "PHD              6704\n",
       "SENIOR           4400\n",
       "UNDERGRADUATE    3584\n",
       "JUNIOR           1594\n",
       "MASTER           1397\n",
       "VISITOR           863\n",
       "STAFF             698\n",
       "OTHER              18\n",
       "Name: rank, dtype: int64"
      ]
     },
     "execution_count": 24,
     "metadata": {},
     "output_type": "execute_result"
    }
   ],
   "source": [
    "profile_ranks = [d.get('positions') for d in dfm if d.get('positions') and \n",
    "                        any([True for dd in d.get('positions') if dd.get('rank')])]\n",
    "profile_ranks = flatten_list(profile_ranks)\n",
    "profile_ranks = [p for p in profile_ranks if p.get('rank')]\n",
    "\n",
    "dfp=pd.DataFrame(profile_ranks)\n",
    "dfp['rank'].value_counts()"
   ]
  },
  {
   "cell_type": "code",
   "execution_count": 25,
   "id": "390bf84a-e680-470a-8622-0743d6193a36",
   "metadata": {},
   "outputs": [
    {
     "data": {
      "text/plain": [
       "PHD              527\n",
       "POSTDOC          494\n",
       "UNDERGRADUATE    371\n",
       "SENIOR           359\n",
       "MASTER           308\n",
       "JUNIOR           119\n",
       "STAFF            110\n",
       "VISITOR           61\n",
       "Name: rank, dtype: int64"
      ]
     },
     "execution_count": 25,
     "metadata": {},
     "output_type": "execute_result"
    }
   ],
   "source": [
    "dfp[dfp['country']=='Brazil']['rank'].value_counts()"
   ]
  },
  {
   "cell_type": "code",
   "execution_count": 26,
   "id": "50722a9f-9ff9-4e7c-94d0-134c9ec8ce30",
   "metadata": {},
   "outputs": [
    {
     "data": {
      "text/plain": [
       "UNDERGRADUATE    96\n",
       "SENIOR           67\n",
       "JUNIOR           51\n",
       "MASTER           46\n",
       "POSTDOC          35\n",
       "PHD              25\n",
       "STAFF            10\n",
       "VISITOR           8\n",
       "Name: rank, dtype: int64"
      ]
     },
     "execution_count": 26,
     "metadata": {},
     "output_type": "execute_result"
    }
   ],
   "source": [
    "dfp[dfp['country']=='Colombia']['rank'].value_counts()"
   ]
  },
  {
   "cell_type": "code",
   "execution_count": 27,
   "id": "55d4ec7d-f216-4b57-9c9c-8d5817d6f524",
   "metadata": {},
   "outputs": [
    {
     "data": {
      "text/plain": [
       "POSTDOC          916\n",
       "PHD              820\n",
       "SENIOR           398\n",
       "UNDERGRADUATE    362\n",
       "JUNIOR           214\n",
       "MASTER           121\n",
       "STAFF            118\n",
       "VISITOR           85\n",
       "Name: rank, dtype: int64"
      ]
     },
     "execution_count": 27,
     "metadata": {},
     "output_type": "execute_result"
    }
   ],
   "source": [
    "profile_ranks = [d.get('positions') for d in dff if d.get('positions') and \n",
    "                        any([True for dd in d.get('positions') if dd.get('rank')])]\n",
    "profile_ranks = flatten_list(profile_ranks)\n",
    "profile_ranks = [p for p in profile_ranks if p.get('rank')]\n",
    "\n",
    "dfp=pd.DataFrame(profile_ranks)\n",
    "dfp['rank'].value_counts()"
   ]
  },
  {
   "cell_type": "code",
   "execution_count": 28,
   "id": "fb1bc094-4b7d-48a0-8712-9af28c3273ba",
   "metadata": {},
   "outputs": [
    {
     "data": {
      "text/plain": [
       "POSTDOC          65\n",
       "PHD              52\n",
       "UNDERGRADUATE    44\n",
       "SENIOR           34\n",
       "MASTER           23\n",
       "STAFF            10\n",
       "VISITOR           9\n",
       "JUNIOR            5\n",
       "Name: rank, dtype: int64"
      ]
     },
     "execution_count": 28,
     "metadata": {},
     "output_type": "execute_result"
    }
   ],
   "source": [
    "dfp[dfp['country']=='Brazil']['rank'].value_counts()"
   ]
  },
  {
   "cell_type": "code",
   "execution_count": 29,
   "id": "3ab2e22e-4436-48dd-8d4b-8657c0596435",
   "metadata": {},
   "outputs": [
    {
     "data": {
      "text/plain": [
       "SENIOR    3\n",
       "MASTER    1\n",
       "Name: rank, dtype: int64"
      ]
     },
     "execution_count": 29,
     "metadata": {},
     "output_type": "execute_result"
    }
   ],
   "source": [
    "dfp[dfp['country']=='Colombia']['rank'].value_counts()"
   ]
  },
  {
   "cell_type": "markdown",
   "id": "ac3afa0e-e466-433f-a0e3-4f186e1929bb",
   "metadata": {},
   "source": [
    "### Rank paper analysis"
   ]
  },
  {
   "cell_type": "code",
   "execution_count": 30,
   "id": "f8672474-9925-465e-a5bf-f9a54b3eb81b",
   "metadata": {},
   "outputs": [],
   "source": [
    "papers_ranks = [d.get('papers') for d in df if d.get('papers') and \n",
    "                        any([True for dd in d.get('papers') if dd.get('rank')])]\n",
    "papers_ranks = flatten_list(papers_ranks)\n",
    "papers_ranks = [p for p in papers_ranks if p.get('rank')]"
   ]
  },
  {
   "cell_type": "code",
   "execution_count": 31,
   "id": "f4343698-2c4e-4fea-bdb1-0db543cd2816",
   "metadata": {},
   "outputs": [
    {
     "data": {
      "text/html": [
       "<div>\n",
       "<style scoped>\n",
       "    .dataframe tbody tr th:only-of-type {\n",
       "        vertical-align: middle;\n",
       "    }\n",
       "\n",
       "    .dataframe tbody tr th {\n",
       "        vertical-align: top;\n",
       "    }\n",
       "\n",
       "    .dataframe thead th {\n",
       "        text-align: right;\n",
       "    }\n",
       "</style>\n",
       "<table border=\"1\" class=\"dataframe\">\n",
       "  <thead>\n",
       "    <tr style=\"text-align: right;\">\n",
       "      <th></th>\n",
       "      <th>recid</th>\n",
       "      <th>year</th>\n",
       "      <th>citation_count</th>\n",
       "      <th>primary_arxiv_category</th>\n",
       "      <th>journal_id</th>\n",
       "      <th>author_id</th>\n",
       "      <th>institution_id</th>\n",
       "      <th>rank</th>\n",
       "      <th>start_date</th>\n",
       "      <th>end_date</th>\n",
       "      <th>institution</th>\n",
       "      <th>country</th>\n",
       "      <th>current</th>\n",
       "    </tr>\n",
       "  </thead>\n",
       "  <tbody>\n",
       "    <tr>\n",
       "      <th>0</th>\n",
       "      <td>581988</td>\n",
       "      <td>2002</td>\n",
       "      <td>1</td>\n",
       "      <td>[gr-qc]</td>\n",
       "      <td>None</td>\n",
       "      <td>R.Gaitan.2</td>\n",
       "      <td>907868</td>\n",
       "      <td>PHD</td>\n",
       "      <td>1997</td>\n",
       "      <td>2019</td>\n",
       "      <td>Carabobo U.</td>\n",
       "      <td>Venezuela</td>\n",
       "      <td>NaN</td>\n",
       "    </tr>\n",
       "    <tr>\n",
       "      <th>1</th>\n",
       "      <td>822587</td>\n",
       "      <td>2009</td>\n",
       "      <td>0</td>\n",
       "      <td>[gr-qc]</td>\n",
       "      <td>None</td>\n",
       "      <td>R.Gaitan.2</td>\n",
       "      <td>907868</td>\n",
       "      <td>PHD</td>\n",
       "      <td>1997</td>\n",
       "      <td>2019</td>\n",
       "      <td>Carabobo U.</td>\n",
       "      <td>Venezuela</td>\n",
       "      <td>NaN</td>\n",
       "    </tr>\n",
       "    <tr>\n",
       "      <th>2</th>\n",
       "      <td>496073</td>\n",
       "      <td>1999</td>\n",
       "      <td>3</td>\n",
       "      <td>[hep-th]</td>\n",
       "      <td>None</td>\n",
       "      <td>R.Gaitan.2</td>\n",
       "      <td>907868</td>\n",
       "      <td>PHD</td>\n",
       "      <td>1997</td>\n",
       "      <td>2019</td>\n",
       "      <td>Carabobo U.</td>\n",
       "      <td>Venezuela</td>\n",
       "      <td>NaN</td>\n",
       "    </tr>\n",
       "    <tr>\n",
       "      <th>3</th>\n",
       "      <td>601924</td>\n",
       "      <td>2003</td>\n",
       "      <td>4</td>\n",
       "      <td>[gr-qc]</td>\n",
       "      <td>None</td>\n",
       "      <td>R.Gaitan.2</td>\n",
       "      <td>907868</td>\n",
       "      <td>PHD</td>\n",
       "      <td>1997</td>\n",
       "      <td>2019</td>\n",
       "      <td>Carabobo U.</td>\n",
       "      <td>Venezuela</td>\n",
       "      <td>NaN</td>\n",
       "    </tr>\n",
       "    <tr>\n",
       "      <th>4</th>\n",
       "      <td>826818</td>\n",
       "      <td>2009</td>\n",
       "      <td>0</td>\n",
       "      <td>[gr-qc]</td>\n",
       "      <td>None</td>\n",
       "      <td>R.Gaitan.2</td>\n",
       "      <td>907868</td>\n",
       "      <td>PHD</td>\n",
       "      <td>1997</td>\n",
       "      <td>2019</td>\n",
       "      <td>Carabobo U.</td>\n",
       "      <td>Venezuela</td>\n",
       "      <td>NaN</td>\n",
       "    </tr>\n",
       "    <tr>\n",
       "      <th>...</th>\n",
       "      <td>...</td>\n",
       "      <td>...</td>\n",
       "      <td>...</td>\n",
       "      <td>...</td>\n",
       "      <td>...</td>\n",
       "      <td>...</td>\n",
       "      <td>...</td>\n",
       "      <td>...</td>\n",
       "      <td>...</td>\n",
       "      <td>...</td>\n",
       "      <td>...</td>\n",
       "      <td>...</td>\n",
       "      <td>...</td>\n",
       "    </tr>\n",
       "    <tr>\n",
       "      <th>29811</th>\n",
       "      <td>1194754</td>\n",
       "      <td>2003</td>\n",
       "      <td>0</td>\n",
       "      <td>[]</td>\n",
       "      <td>None</td>\n",
       "      <td>T.Wengler.1</td>\n",
       "      <td>902725</td>\n",
       "      <td>JUNIOR</td>\n",
       "      <td>1999</td>\n",
       "      <td>2005</td>\n",
       "      <td>CERN</td>\n",
       "      <td>France</td>\n",
       "      <td>NaN</td>\n",
       "    </tr>\n",
       "    <tr>\n",
       "      <th>29812</th>\n",
       "      <td>1194754</td>\n",
       "      <td>2003</td>\n",
       "      <td>0</td>\n",
       "      <td>[]</td>\n",
       "      <td>None</td>\n",
       "      <td>R.Torga.teixeira.2</td>\n",
       "      <td>902725</td>\n",
       "      <td>JUNIOR</td>\n",
       "      <td>1999</td>\n",
       "      <td>2005</td>\n",
       "      <td>CERN</td>\n",
       "      <td>France</td>\n",
       "      <td>NaN</td>\n",
       "    </tr>\n",
       "    <tr>\n",
       "      <th>29813</th>\n",
       "      <td>1194754</td>\n",
       "      <td>2003</td>\n",
       "      <td>0</td>\n",
       "      <td>[]</td>\n",
       "      <td>None</td>\n",
       "      <td>T.Sch.rner.sadenius.1</td>\n",
       "      <td>902725</td>\n",
       "      <td>JUNIOR</td>\n",
       "      <td>1999</td>\n",
       "      <td>2005</td>\n",
       "      <td>CERN</td>\n",
       "      <td>France</td>\n",
       "      <td>NaN</td>\n",
       "    </tr>\n",
       "    <tr>\n",
       "      <th>29814</th>\n",
       "      <td>439905</td>\n",
       "      <td>1997</td>\n",
       "      <td>4</td>\n",
       "      <td>[hep-ex]</td>\n",
       "      <td>None</td>\n",
       "      <td>W.J.Thompson.2</td>\n",
       "      <td>902990</td>\n",
       "      <td>POSTDOC</td>\n",
       "      <td>1994</td>\n",
       "      <td>1997</td>\n",
       "      <td>Maryland U.</td>\n",
       "      <td>United States</td>\n",
       "      <td>NaN</td>\n",
       "    </tr>\n",
       "    <tr>\n",
       "      <th>29815</th>\n",
       "      <td>742385</td>\n",
       "      <td>2007</td>\n",
       "      <td>8</td>\n",
       "      <td>[hep-ph]</td>\n",
       "      <td>1213318</td>\n",
       "      <td>A.Mocsy.1</td>\n",
       "      <td>907483</td>\n",
       "      <td>POSTDOC</td>\n",
       "      <td>2005</td>\n",
       "      <td>2008</td>\n",
       "      <td>RIKEN BNL</td>\n",
       "      <td>United States</td>\n",
       "      <td>NaN</td>\n",
       "    </tr>\n",
       "  </tbody>\n",
       "</table>\n",
       "<p>29816 rows × 13 columns</p>\n",
       "</div>"
      ],
      "text/plain": [
       "         recid  year  citation_count primary_arxiv_category journal_id  \\\n",
       "0       581988  2002               1                [gr-qc]       None   \n",
       "1       822587  2009               0                [gr-qc]       None   \n",
       "2       496073  1999               3               [hep-th]       None   \n",
       "3       601924  2003               4                [gr-qc]       None   \n",
       "4       826818  2009               0                [gr-qc]       None   \n",
       "...        ...   ...             ...                    ...        ...   \n",
       "29811  1194754  2003               0                     []       None   \n",
       "29812  1194754  2003               0                     []       None   \n",
       "29813  1194754  2003               0                     []       None   \n",
       "29814   439905  1997               4               [hep-ex]       None   \n",
       "29815   742385  2007               8               [hep-ph]    1213318   \n",
       "\n",
       "                   author_id institution_id     rank start_date end_date  \\\n",
       "0                 R.Gaitan.2         907868      PHD       1997     2019   \n",
       "1                 R.Gaitan.2         907868      PHD       1997     2019   \n",
       "2                 R.Gaitan.2         907868      PHD       1997     2019   \n",
       "3                 R.Gaitan.2         907868      PHD       1997     2019   \n",
       "4                 R.Gaitan.2         907868      PHD       1997     2019   \n",
       "...                      ...            ...      ...        ...      ...   \n",
       "29811            T.Wengler.1         902725   JUNIOR       1999     2005   \n",
       "29812     R.Torga.teixeira.2         902725   JUNIOR       1999     2005   \n",
       "29813  T.Sch.rner.sadenius.1         902725   JUNIOR       1999     2005   \n",
       "29814         W.J.Thompson.2         902990  POSTDOC       1994     1997   \n",
       "29815              A.Mocsy.1         907483  POSTDOC       2005     2008   \n",
       "\n",
       "       institution        country current  \n",
       "0      Carabobo U.      Venezuela     NaN  \n",
       "1      Carabobo U.      Venezuela     NaN  \n",
       "2      Carabobo U.      Venezuela     NaN  \n",
       "3      Carabobo U.      Venezuela     NaN  \n",
       "4      Carabobo U.      Venezuela     NaN  \n",
       "...            ...            ...     ...  \n",
       "29811         CERN         France     NaN  \n",
       "29812         CERN         France     NaN  \n",
       "29813         CERN         France     NaN  \n",
       "29814  Maryland U.  United States     NaN  \n",
       "29815    RIKEN BNL  United States     NaN  \n",
       "\n",
       "[29816 rows x 13 columns]"
      ]
     },
     "execution_count": 31,
     "metadata": {},
     "output_type": "execute_result"
    }
   ],
   "source": [
    "dfp=pd.DataFrame(papers_ranks)\n",
    "dfp=dfp.drop_duplicates(subset=[\n",
    "     'recid','year','citation_count','journal_id','author_id','institution_id','rank','start_date','end_date','institution','country','current'\n",
    "    ]).reset_index(drop=True)\n",
    "dfp"
   ]
  },
  {
   "cell_type": "code",
   "execution_count": 32,
   "id": "091bd9a8-6681-40dc-aa7e-2d85db06bae2",
   "metadata": {},
   "outputs": [
    {
     "data": {
      "text/plain": [
       "SENIOR           14313\n",
       "POSTDOC           5418\n",
       "PHD               4154\n",
       "JUNIOR            2631\n",
       "STAFF             1733\n",
       "MASTER             705\n",
       "VISITOR            648\n",
       "UNDERGRADUATE      206\n",
       "OTHER                8\n",
       "Name: rank, dtype: int64"
      ]
     },
     "execution_count": 32,
     "metadata": {},
     "output_type": "execute_result"
    }
   ],
   "source": [
    "dfp['rank'].value_counts()"
   ]
  },
  {
   "cell_type": "code",
   "execution_count": 33,
   "id": "8048f1f4-ee26-4cbc-b70e-f81434069200",
   "metadata": {},
   "outputs": [
    {
     "data": {
      "text/html": [
       "<div>\n",
       "<style scoped>\n",
       "    .dataframe tbody tr th:only-of-type {\n",
       "        vertical-align: middle;\n",
       "    }\n",
       "\n",
       "    .dataframe tbody tr th {\n",
       "        vertical-align: top;\n",
       "    }\n",
       "\n",
       "    .dataframe thead th {\n",
       "        text-align: right;\n",
       "    }\n",
       "</style>\n",
       "<table border=\"1\" class=\"dataframe\">\n",
       "  <thead>\n",
       "    <tr style=\"text-align: right;\">\n",
       "      <th></th>\n",
       "      <th>recid</th>\n",
       "      <th>year</th>\n",
       "      <th>citation_count</th>\n",
       "      <th>primary_arxiv_category</th>\n",
       "      <th>journal_id</th>\n",
       "      <th>author_id</th>\n",
       "      <th>institution_id</th>\n",
       "      <th>rank</th>\n",
       "      <th>start_date</th>\n",
       "      <th>end_date</th>\n",
       "      <th>institution</th>\n",
       "      <th>country</th>\n",
       "      <th>current</th>\n",
       "    </tr>\n",
       "  </thead>\n",
       "  <tbody>\n",
       "    <tr>\n",
       "      <th>488</th>\n",
       "      <td>192632</td>\n",
       "      <td>1984</td>\n",
       "      <td>10</td>\n",
       "      <td>[]</td>\n",
       "      <td>1214779</td>\n",
       "      <td>J.Stephany.1</td>\n",
       "      <td>903205</td>\n",
       "      <td>UNDERGRADUATE</td>\n",
       "      <td>1978</td>\n",
       "      <td>1983</td>\n",
       "      <td>Simon Bolivar U.</td>\n",
       "      <td>Venezuela</td>\n",
       "      <td>NaN</td>\n",
       "    </tr>\n",
       "    <tr>\n",
       "      <th>727</th>\n",
       "      <td>530129</td>\n",
       "      <td>2001</td>\n",
       "      <td>21</td>\n",
       "      <td>[hep-th]</td>\n",
       "      <td>1214658</td>\n",
       "      <td>S.Andrea.1</td>\n",
       "      <td>903205</td>\n",
       "      <td>UNDERGRADUATE</td>\n",
       "      <td>1993</td>\n",
       "      <td>2000</td>\n",
       "      <td>Simon Bolivar U.</td>\n",
       "      <td>Venezuela</td>\n",
       "      <td>NaN</td>\n",
       "    </tr>\n",
       "    <tr>\n",
       "      <th>729</th>\n",
       "      <td>529923</td>\n",
       "      <td>2001</td>\n",
       "      <td>5</td>\n",
       "      <td>[hep-th]</td>\n",
       "      <td>None</td>\n",
       "      <td>J.Bellorin.1</td>\n",
       "      <td>903474</td>\n",
       "      <td>UNDERGRADUATE</td>\n",
       "      <td>1994</td>\n",
       "      <td>2000</td>\n",
       "      <td>Oriente U., Cumana</td>\n",
       "      <td>Venezuela</td>\n",
       "      <td>NaN</td>\n",
       "    </tr>\n",
       "    <tr>\n",
       "      <th>1068</th>\n",
       "      <td>18481</td>\n",
       "      <td>1986</td>\n",
       "      <td>0</td>\n",
       "      <td>[]</td>\n",
       "      <td>1214738</td>\n",
       "      <td>J.A.Pullin.1</td>\n",
       "      <td>902758</td>\n",
       "      <td>UNDERGRADUATE</td>\n",
       "      <td>1983</td>\n",
       "      <td>1986</td>\n",
       "      <td>Cuyo U.</td>\n",
       "      <td>Argentina</td>\n",
       "      <td>NaN</td>\n",
       "    </tr>\n",
       "    <tr>\n",
       "      <th>1069</th>\n",
       "      <td>18480</td>\n",
       "      <td>1987</td>\n",
       "      <td>2</td>\n",
       "      <td>[]</td>\n",
       "      <td>1214738</td>\n",
       "      <td>J.A.Pullin.1</td>\n",
       "      <td>902758</td>\n",
       "      <td>UNDERGRADUATE</td>\n",
       "      <td>1983</td>\n",
       "      <td>1986</td>\n",
       "      <td>Cuyo U.</td>\n",
       "      <td>Argentina</td>\n",
       "      <td>NaN</td>\n",
       "    </tr>\n",
       "    <tr>\n",
       "      <th>...</th>\n",
       "      <td>...</td>\n",
       "      <td>...</td>\n",
       "      <td>...</td>\n",
       "      <td>...</td>\n",
       "      <td>...</td>\n",
       "      <td>...</td>\n",
       "      <td>...</td>\n",
       "      <td>...</td>\n",
       "      <td>...</td>\n",
       "      <td>...</td>\n",
       "      <td>...</td>\n",
       "      <td>...</td>\n",
       "      <td>...</td>\n",
       "    </tr>\n",
       "    <tr>\n",
       "      <th>29327</th>\n",
       "      <td>764463</td>\n",
       "      <td>2007</td>\n",
       "      <td>1</td>\n",
       "      <td>[]</td>\n",
       "      <td>1213318</td>\n",
       "      <td>P.Mota.1</td>\n",
       "      <td>903160</td>\n",
       "      <td>UNDERGRADUATE</td>\n",
       "      <td>2002</td>\n",
       "      <td>2006</td>\n",
       "      <td>Rio de Janeiro Federal U.</td>\n",
       "      <td>Brazil</td>\n",
       "      <td>NaN</td>\n",
       "    </tr>\n",
       "    <tr>\n",
       "      <th>29332</th>\n",
       "      <td>719263</td>\n",
       "      <td>2007</td>\n",
       "      <td>12</td>\n",
       "      <td>[hep-ph]</td>\n",
       "      <td>None</td>\n",
       "      <td>P.Mota.1</td>\n",
       "      <td>903160</td>\n",
       "      <td>UNDERGRADUATE</td>\n",
       "      <td>2002</td>\n",
       "      <td>2006</td>\n",
       "      <td>Rio de Janeiro Federal U.</td>\n",
       "      <td>Brazil</td>\n",
       "      <td>NaN</td>\n",
       "    </tr>\n",
       "    <tr>\n",
       "      <th>29402</th>\n",
       "      <td>929279</td>\n",
       "      <td>2001</td>\n",
       "      <td>2</td>\n",
       "      <td>[]</td>\n",
       "      <td>None</td>\n",
       "      <td>A.C.S.Assis.Jesus.1</td>\n",
       "      <td>903160</td>\n",
       "      <td>UNDERGRADUATE</td>\n",
       "      <td>1997</td>\n",
       "      <td>2001</td>\n",
       "      <td>Rio de Janeiro Federal U.</td>\n",
       "      <td>Brazil</td>\n",
       "      <td>NaN</td>\n",
       "    </tr>\n",
       "    <tr>\n",
       "      <th>29407</th>\n",
       "      <td>1740194</td>\n",
       "      <td>2019</td>\n",
       "      <td>3</td>\n",
       "      <td>[cond-mat.mes-hall]</td>\n",
       "      <td>None</td>\n",
       "      <td>P.A.Maia.Neto.7</td>\n",
       "      <td>903160</td>\n",
       "      <td>UNDERGRADUATE</td>\n",
       "      <td>2015</td>\n",
       "      <td>2018</td>\n",
       "      <td>Rio de Janeiro Federal U.</td>\n",
       "      <td>Brazil</td>\n",
       "      <td>NaN</td>\n",
       "    </tr>\n",
       "    <tr>\n",
       "      <th>29650</th>\n",
       "      <td>10916</td>\n",
       "      <td>1981</td>\n",
       "      <td>0</td>\n",
       "      <td>[]</td>\n",
       "      <td>None</td>\n",
       "      <td>E.Schrufer.1</td>\n",
       "      <td>902676</td>\n",
       "      <td>UNDERGRADUATE</td>\n",
       "      <td>1977</td>\n",
       "      <td>1982</td>\n",
       "      <td>Bonn U.</td>\n",
       "      <td>Germany</td>\n",
       "      <td>NaN</td>\n",
       "    </tr>\n",
       "  </tbody>\n",
       "</table>\n",
       "<p>206 rows × 13 columns</p>\n",
       "</div>"
      ],
      "text/plain": [
       "         recid  year  citation_count primary_arxiv_category journal_id  \\\n",
       "488     192632  1984              10                     []    1214779   \n",
       "727     530129  2001              21               [hep-th]    1214658   \n",
       "729     529923  2001               5               [hep-th]       None   \n",
       "1068     18481  1986               0                     []    1214738   \n",
       "1069     18480  1987               2                     []    1214738   \n",
       "...        ...   ...             ...                    ...        ...   \n",
       "29327   764463  2007               1                     []    1213318   \n",
       "29332   719263  2007              12               [hep-ph]       None   \n",
       "29402   929279  2001               2                     []       None   \n",
       "29407  1740194  2019               3    [cond-mat.mes-hall]       None   \n",
       "29650    10916  1981               0                     []       None   \n",
       "\n",
       "                 author_id institution_id           rank start_date end_date  \\\n",
       "488           J.Stephany.1         903205  UNDERGRADUATE       1978     1983   \n",
       "727             S.Andrea.1         903205  UNDERGRADUATE       1993     2000   \n",
       "729           J.Bellorin.1         903474  UNDERGRADUATE       1994     2000   \n",
       "1068          J.A.Pullin.1         902758  UNDERGRADUATE       1983     1986   \n",
       "1069          J.A.Pullin.1         902758  UNDERGRADUATE       1983     1986   \n",
       "...                    ...            ...            ...        ...      ...   \n",
       "29327             P.Mota.1         903160  UNDERGRADUATE       2002     2006   \n",
       "29332             P.Mota.1         903160  UNDERGRADUATE       2002     2006   \n",
       "29402  A.C.S.Assis.Jesus.1         903160  UNDERGRADUATE       1997     2001   \n",
       "29407      P.A.Maia.Neto.7         903160  UNDERGRADUATE       2015     2018   \n",
       "29650         E.Schrufer.1         902676  UNDERGRADUATE       1977     1982   \n",
       "\n",
       "                     institution    country current  \n",
       "488             Simon Bolivar U.  Venezuela     NaN  \n",
       "727             Simon Bolivar U.  Venezuela     NaN  \n",
       "729           Oriente U., Cumana  Venezuela     NaN  \n",
       "1068                     Cuyo U.  Argentina     NaN  \n",
       "1069                     Cuyo U.  Argentina     NaN  \n",
       "...                          ...        ...     ...  \n",
       "29327  Rio de Janeiro Federal U.     Brazil     NaN  \n",
       "29332  Rio de Janeiro Federal U.     Brazil     NaN  \n",
       "29402  Rio de Janeiro Federal U.     Brazil     NaN  \n",
       "29407  Rio de Janeiro Federal U.     Brazil     NaN  \n",
       "29650                    Bonn U.    Germany     NaN  \n",
       "\n",
       "[206 rows x 13 columns]"
      ]
     },
     "execution_count": 33,
     "metadata": {},
     "output_type": "execute_result"
    }
   ],
   "source": [
    "dfp[dfp['rank']=='UNDERGRADUATE']"
   ]
  },
  {
   "cell_type": "code",
   "execution_count": 34,
   "id": "2b8f225f-d88c-4adb-b84f-db16a851ad6e",
   "metadata": {},
   "outputs": [
    {
     "data": {
      "text/plain": [
       "SENIOR           5339\n",
       "PHD              1721\n",
       "POSTDOC          1362\n",
       "STAFF             675\n",
       "JUNIOR            593\n",
       "MASTER            405\n",
       "VISITOR           309\n",
       "UNDERGRADUATE      66\n",
       "Name: rank, dtype: int64"
      ]
     },
     "execution_count": 34,
     "metadata": {},
     "output_type": "execute_result"
    }
   ],
   "source": [
    "dfp[dfp['country']=='Brazil']['rank'].value_counts()"
   ]
  },
  {
   "cell_type": "code",
   "execution_count": 35,
   "id": "ef78d364-f8d0-4591-9a32-c00c927869b9",
   "metadata": {},
   "outputs": [
    {
     "data": {
      "text/plain": [
       "SENIOR           923\n",
       "POSTDOC          772\n",
       "JUNIOR           441\n",
       "PHD              323\n",
       "MASTER            87\n",
       "VISITOR           34\n",
       "UNDERGRADUATE     19\n",
       "OTHER              4\n",
       "STAFF              1\n",
       "Name: rank, dtype: int64"
      ]
     },
     "execution_count": 35,
     "metadata": {},
     "output_type": "execute_result"
    }
   ],
   "source": [
    "dfp[dfp['country']=='Chile']['rank'].value_counts()"
   ]
  },
  {
   "cell_type": "code",
   "execution_count": 36,
   "id": "70037107-2f8c-40c0-933f-2472ea390994",
   "metadata": {},
   "outputs": [
    {
     "data": {
      "text/plain": [
       "SENIOR           726\n",
       "PHD              422\n",
       "JUNIOR           135\n",
       "STAFF            120\n",
       "POSTDOC          101\n",
       "UNDERGRADUATE     34\n",
       "MASTER            14\n",
       "Name: rank, dtype: int64"
      ]
     },
     "execution_count": 36,
     "metadata": {},
     "output_type": "execute_result"
    }
   ],
   "source": [
    "dfp[dfp['country']=='Argentina']['rank'].value_counts()"
   ]
  },
  {
   "cell_type": "code",
   "execution_count": 37,
   "id": "c3dc392c-f5e3-4cd6-8ad5-6f4afde23f38",
   "metadata": {},
   "outputs": [
    {
     "data": {
      "text/plain": [
       "SENIOR           505\n",
       "JUNIOR           110\n",
       "POSTDOC           60\n",
       "PHD               38\n",
       "MASTER            27\n",
       "UNDERGRADUATE     26\n",
       "VISITOR           13\n",
       "STAFF              9\n",
       "Name: rank, dtype: int64"
      ]
     },
     "execution_count": 37,
     "metadata": {},
     "output_type": "execute_result"
    }
   ],
   "source": [
    "dfp[dfp['country']=='Colombia']['rank'].value_counts()"
   ]
  },
  {
   "cell_type": "markdown",
   "id": "7246c9b3-bb7e-4b17-a3a9-d0272e58d965",
   "metadata": {},
   "source": [
    "### Rank author-papers analysis"
   ]
  },
  {
   "cell_type": "code",
   "execution_count": 120,
   "id": "a0197f56-138e-43ca-885e-8d788ff77a1e",
   "metadata": {},
   "outputs": [],
   "source": [
    "profile_ranks = [d.get('positions') for d in df if d.get('positions') and \n",
    "                        any([True for dd in d.get('positions') if dd.get('rank')])]\n",
    "profile_ranks = flatten_list(profile_ranks)\n",
    "profile_ranks = [p for p in profile_ranks if p.get('rank')]\n",
    "dfp=pd.DataFrame(profile_ranks)"
   ]
  },
  {
   "cell_type": "code",
   "execution_count": 121,
   "id": "2e11f709-988f-4ad6-b18b-7250e9f189da",
   "metadata": {},
   "outputs": [],
   "source": [
    "papers_ranks = [d.get('papers') for d in df if d.get('papers') and \n",
    "                        any([True for dd in d.get('papers') if isinstance(dd.get('rank'),str)])]\n",
    "papers_ranks = flatten_list(papers_ranks)\n",
    "papers_ranks = [p for p in papers_ranks if p.get('rank')]"
   ]
  },
  {
   "cell_type": "code",
   "execution_count": 125,
   "id": "9a64e5c4-7d69-4934-a2d3-b66be614786b",
   "metadata": {},
   "outputs": [],
   "source": [
    "dfpp=pd.DataFrame(papers_ranks)\n",
    "dfpp=dfpp.drop_duplicates(subset=[\n",
    "     'recid','year','citation_count','journal_id','author_id','institution_id','rank','start_date','end_date','institution','country','current'\n",
    "    ]).reset_index(drop=True)"
   ]
  },
  {
   "cell_type": "code",
   "execution_count": 130,
   "id": "e87299ad-30de-47bc-8461-df1ca5cf1edf",
   "metadata": {},
   "outputs": [],
   "source": [
    "def get_region(c,country='Colombia',LA_countries=['Brazil', 'Mexico', 'Argentina','Chile', 'Colombia','Bolivia','Cuba', #5\n",
    "              'Costa Rica', 'Ecuador', 'El Salvador', 'Guatemala', 'Honduras', #10\n",
    "               'Nicaragua', 'Panama', 'Paraguay', 'Peru', #15\n",
    "              'Dominican Republic','Uruguay','Venezuela']):\n",
    "    if c in LA_countries:\n",
    "        region='LA'\n",
    "    else:\n",
    "        region='WW'\n",
    "    if c==country:\n",
    "        region=pycc.country_name_to_country_alpha2(country)\n",
    "    return region"
   ]
  },
  {
   "cell_type": "code",
   "execution_count": 146,
   "id": "867fa3db-71b0-4a65-acb8-c40738c19713",
   "metadata": {},
   "outputs": [],
   "source": [
    "country='Colombia'\n",
    "dfc=dfp[dfp['country']==country]\n",
    "au=dfc['author_id'].unique()\n",
    "dfppc=dfpp[dfpp['author_id'].apply(lambda a: a in au)].drop_duplicates(subset=['institution_id','rank','start_date','end_date']).reset_index(drop=True)\n",
    "\n",
    "dfppc['region']=dfppc['country'].apply(lambda c:get_region(c,country=country ))"
   ]
  },
  {
   "cell_type": "code",
   "execution_count": 147,
   "id": "19c4d6db-1bd9-4fd9-84e2-d3bc0f5e20b4",
   "metadata": {},
   "outputs": [
    {
     "data": {
      "text/html": [
       "<div>\n",
       "<style scoped>\n",
       "    .dataframe tbody tr th:only-of-type {\n",
       "        vertical-align: middle;\n",
       "    }\n",
       "\n",
       "    .dataframe tbody tr th {\n",
       "        vertical-align: top;\n",
       "    }\n",
       "\n",
       "    .dataframe thead th {\n",
       "        text-align: right;\n",
       "    }\n",
       "</style>\n",
       "<table border=\"1\" class=\"dataframe\">\n",
       "  <thead>\n",
       "    <tr style=\"text-align: right;\">\n",
       "      <th></th>\n",
       "      <th>recid</th>\n",
       "      <th>year</th>\n",
       "      <th>citation_count</th>\n",
       "      <th>primary_arxiv_category</th>\n",
       "      <th>journal_id</th>\n",
       "      <th>author_id</th>\n",
       "      <th>institution_id</th>\n",
       "      <th>rank</th>\n",
       "      <th>start_date</th>\n",
       "      <th>end_date</th>\n",
       "      <th>institution</th>\n",
       "      <th>country</th>\n",
       "      <th>current</th>\n",
       "      <th>region</th>\n",
       "    </tr>\n",
       "  </thead>\n",
       "  <tbody>\n",
       "    <tr>\n",
       "      <th>0</th>\n",
       "      <td>287309</td>\n",
       "      <td>1990</td>\n",
       "      <td>2</td>\n",
       "      <td>[]</td>\n",
       "      <td>1214843</td>\n",
       "      <td>L.A.Nunez.1</td>\n",
       "      <td>905162</td>\n",
       "      <td>SENIOR</td>\n",
       "      <td>1979</td>\n",
       "      <td>2009</td>\n",
       "      <td>Andes U., Merida</td>\n",
       "      <td>Venezuela</td>\n",
       "      <td>NaN</td>\n",
       "      <td>LA</td>\n",
       "    </tr>\n",
       "    <tr>\n",
       "      <th>1</th>\n",
       "      <td>1826656</td>\n",
       "      <td>2020</td>\n",
       "      <td>7</td>\n",
       "      <td>[astro-ph.IM]</td>\n",
       "      <td>None</td>\n",
       "      <td>L.A.Nunez.1</td>\n",
       "      <td>907675</td>\n",
       "      <td>SENIOR</td>\n",
       "      <td>2010</td>\n",
       "      <td>None</td>\n",
       "      <td>Santander Industrial U.</td>\n",
       "      <td>Colombia</td>\n",
       "      <td>True</td>\n",
       "      <td>CO</td>\n",
       "    </tr>\n",
       "    <tr>\n",
       "      <th>2</th>\n",
       "      <td>710343</td>\n",
       "      <td>2006</td>\n",
       "      <td>27</td>\n",
       "      <td>[gr-qc]</td>\n",
       "      <td>1214779</td>\n",
       "      <td>G.A.Gonzalez.1</td>\n",
       "      <td>907675</td>\n",
       "      <td>SENIOR</td>\n",
       "      <td>1990</td>\n",
       "      <td>None</td>\n",
       "      <td>Santander Industrial U.</td>\n",
       "      <td>Colombia</td>\n",
       "      <td>True</td>\n",
       "      <td>CO</td>\n",
       "    </tr>\n",
       "    <tr>\n",
       "      <th>3</th>\n",
       "      <td>1791901</td>\n",
       "      <td>2020</td>\n",
       "      <td>7</td>\n",
       "      <td>[physics.ins-det]</td>\n",
       "      <td>1212215</td>\n",
       "      <td>H.Asorey.1</td>\n",
       "      <td>902724</td>\n",
       "      <td>SENIOR</td>\n",
       "      <td>2010</td>\n",
       "      <td>None</td>\n",
       "      <td>Centro Atomico Bariloche</td>\n",
       "      <td>Argentina</td>\n",
       "      <td>True</td>\n",
       "      <td>LA</td>\n",
       "    </tr>\n",
       "    <tr>\n",
       "      <th>4</th>\n",
       "      <td>1357122</td>\n",
       "      <td>2015</td>\n",
       "      <td>2</td>\n",
       "      <td>[astro-ph.IM]</td>\n",
       "      <td>1365972</td>\n",
       "      <td>H.Asorey.1</td>\n",
       "      <td>907675</td>\n",
       "      <td>VISITOR</td>\n",
       "      <td>2013</td>\n",
       "      <td>None</td>\n",
       "      <td>Santander Industrial U.</td>\n",
       "      <td>Colombia</td>\n",
       "      <td>True</td>\n",
       "      <td>CO</td>\n",
       "    </tr>\n",
       "    <tr>\n",
       "      <th>...</th>\n",
       "      <td>...</td>\n",
       "      <td>...</td>\n",
       "      <td>...</td>\n",
       "      <td>...</td>\n",
       "      <td>...</td>\n",
       "      <td>...</td>\n",
       "      <td>...</td>\n",
       "      <td>...</td>\n",
       "      <td>...</td>\n",
       "      <td>...</td>\n",
       "      <td>...</td>\n",
       "      <td>...</td>\n",
       "      <td>...</td>\n",
       "      <td>...</td>\n",
       "    </tr>\n",
       "    <tr>\n",
       "      <th>154</th>\n",
       "      <td>686372</td>\n",
       "      <td>2005</td>\n",
       "      <td>2</td>\n",
       "      <td>[hep-ph]</td>\n",
       "      <td>1213302</td>\n",
       "      <td>G.A.Navarro.1</td>\n",
       "      <td>902701</td>\n",
       "      <td>PHD</td>\n",
       "      <td>2002</td>\n",
       "      <td>2007</td>\n",
       "      <td>Buenos Aires U.</td>\n",
       "      <td>Argentina</td>\n",
       "      <td>NaN</td>\n",
       "      <td>LA</td>\n",
       "    </tr>\n",
       "    <tr>\n",
       "      <th>155</th>\n",
       "      <td>1375843</td>\n",
       "      <td>2015</td>\n",
       "      <td>12</td>\n",
       "      <td>[hep-th]</td>\n",
       "      <td>1214855</td>\n",
       "      <td>D.Cogollo.1</td>\n",
       "      <td>909535</td>\n",
       "      <td>SENIOR</td>\n",
       "      <td>2009</td>\n",
       "      <td>None</td>\n",
       "      <td>Campina Grande Federal U.</td>\n",
       "      <td>Brazil</td>\n",
       "      <td>True</td>\n",
       "      <td>LA</td>\n",
       "    </tr>\n",
       "    <tr>\n",
       "      <th>156</th>\n",
       "      <td>788685</td>\n",
       "      <td>2008</td>\n",
       "      <td>36</td>\n",
       "      <td>[hep-ph]</td>\n",
       "      <td>None</td>\n",
       "      <td>D.Cogollo.1</td>\n",
       "      <td>903793</td>\n",
       "      <td>PHD</td>\n",
       "      <td>2005</td>\n",
       "      <td>2009</td>\n",
       "      <td>Paraiba U.</td>\n",
       "      <td>Brazil</td>\n",
       "      <td>NaN</td>\n",
       "      <td>LA</td>\n",
       "    </tr>\n",
       "    <tr>\n",
       "      <th>157</th>\n",
       "      <td>1797273</td>\n",
       "      <td>2020</td>\n",
       "      <td>13</td>\n",
       "      <td>[gr-qc]</td>\n",
       "      <td>1214779</td>\n",
       "      <td>C.Posada.1</td>\n",
       "      <td>907680</td>\n",
       "      <td>POSTDOC</td>\n",
       "      <td>2019</td>\n",
       "      <td>None</td>\n",
       "      <td>Silesian U., Czech Republic</td>\n",
       "      <td>Czechia</td>\n",
       "      <td>True</td>\n",
       "      <td>WW</td>\n",
       "    </tr>\n",
       "    <tr>\n",
       "      <th>158</th>\n",
       "      <td>1735569</td>\n",
       "      <td>2019</td>\n",
       "      <td>26</td>\n",
       "      <td>[gr-qc]</td>\n",
       "      <td>None</td>\n",
       "      <td>C.Posada.1</td>\n",
       "      <td>907680</td>\n",
       "      <td>VISITOR</td>\n",
       "      <td>2018</td>\n",
       "      <td>2018</td>\n",
       "      <td>Silesian U., Czech Republic</td>\n",
       "      <td>Czechia</td>\n",
       "      <td>True</td>\n",
       "      <td>WW</td>\n",
       "    </tr>\n",
       "  </tbody>\n",
       "</table>\n",
       "<p>159 rows × 14 columns</p>\n",
       "</div>"
      ],
      "text/plain": [
       "       recid  year  citation_count primary_arxiv_category journal_id  \\\n",
       "0     287309  1990               2                     []    1214843   \n",
       "1    1826656  2020               7          [astro-ph.IM]       None   \n",
       "2     710343  2006              27                [gr-qc]    1214779   \n",
       "3    1791901  2020               7      [physics.ins-det]    1212215   \n",
       "4    1357122  2015               2          [astro-ph.IM]    1365972   \n",
       "..       ...   ...             ...                    ...        ...   \n",
       "154   686372  2005               2               [hep-ph]    1213302   \n",
       "155  1375843  2015              12               [hep-th]    1214855   \n",
       "156   788685  2008              36               [hep-ph]       None   \n",
       "157  1797273  2020              13                [gr-qc]    1214779   \n",
       "158  1735569  2019              26                [gr-qc]       None   \n",
       "\n",
       "          author_id institution_id     rank start_date end_date  \\\n",
       "0       L.A.Nunez.1         905162   SENIOR       1979     2009   \n",
       "1       L.A.Nunez.1         907675   SENIOR       2010     None   \n",
       "2    G.A.Gonzalez.1         907675   SENIOR       1990     None   \n",
       "3        H.Asorey.1         902724   SENIOR       2010     None   \n",
       "4        H.Asorey.1         907675  VISITOR       2013     None   \n",
       "..              ...            ...      ...        ...      ...   \n",
       "154   G.A.Navarro.1         902701      PHD       2002     2007   \n",
       "155     D.Cogollo.1         909535   SENIOR       2009     None   \n",
       "156     D.Cogollo.1         903793      PHD       2005     2009   \n",
       "157      C.Posada.1         907680  POSTDOC       2019     None   \n",
       "158      C.Posada.1         907680  VISITOR       2018     2018   \n",
       "\n",
       "                     institution    country current region  \n",
       "0               Andes U., Merida  Venezuela     NaN     LA  \n",
       "1        Santander Industrial U.   Colombia    True     CO  \n",
       "2        Santander Industrial U.   Colombia    True     CO  \n",
       "3       Centro Atomico Bariloche  Argentina    True     LA  \n",
       "4        Santander Industrial U.   Colombia    True     CO  \n",
       "..                           ...        ...     ...    ...  \n",
       "154              Buenos Aires U.  Argentina     NaN     LA  \n",
       "155    Campina Grande Federal U.     Brazil    True     LA  \n",
       "156                   Paraiba U.     Brazil     NaN     LA  \n",
       "157  Silesian U., Czech Republic    Czechia    True     WW  \n",
       "158  Silesian U., Czech Republic    Czechia    True     WW  \n",
       "\n",
       "[159 rows x 14 columns]"
      ]
     },
     "execution_count": 147,
     "metadata": {},
     "output_type": "execute_result"
    }
   ],
   "source": [
    "dfppc"
   ]
  },
  {
   "cell_type": "code",
   "execution_count": 148,
   "id": "970c0ab1-765b-41e7-9dda-28c57f5d2aa8",
   "metadata": {},
   "outputs": [
    {
     "data": {
      "text/plain": [
       "CO    76\n",
       "LA    44\n",
       "WW    39\n",
       "Name: region, dtype: int64"
      ]
     },
     "execution_count": 148,
     "metadata": {},
     "output_type": "execute_result"
    }
   ],
   "source": [
    "dfppc['region'].value_counts()"
   ]
  },
  {
   "cell_type": "code",
   "execution_count": 149,
   "id": "404fd940-4565-4ee0-87c5-61755ef277ee",
   "metadata": {},
   "outputs": [
    {
     "data": {
      "text/plain": [
       "LA    21\n",
       "WW     9\n",
       "CO     8\n",
       "Name: region, dtype: int64"
      ]
     },
     "execution_count": 149,
     "metadata": {},
     "output_type": "execute_result"
    }
   ],
   "source": [
    "dfppc[dfppc['rank']=='PHD']['region'].value_counts()"
   ]
  },
  {
   "cell_type": "code",
   "execution_count": 150,
   "id": "0e837446-f423-4f11-ac4a-9bd55d9d04ae",
   "metadata": {},
   "outputs": [
    {
     "data": {
      "text/plain": [
       "WW    20\n",
       "CO    10\n",
       "LA     8\n",
       "Name: region, dtype: int64"
      ]
     },
     "execution_count": 150,
     "metadata": {},
     "output_type": "execute_result"
    }
   ],
   "source": [
    "dfppc[dfppc['rank']=='POSTDOC']['region'].value_counts()"
   ]
  },
  {
   "cell_type": "code",
   "execution_count": 155,
   "id": "0fd1cd36-a17a-4d4d-812e-164270ab0e9e",
   "metadata": {},
   "outputs": [],
   "source": [
    "country='Brazil'\n",
    "dfc=dfp[dfp['country']==country]\n",
    "au=dfc['author_id'].unique()\n",
    "dfppc=dfpp[dfpp['author_id'].apply(lambda a: a in au)].drop_duplicates(subset=['institution_id','rank','start_date','end_date']).reset_index(drop=True)\n",
    "\n",
    "dfppc['region']=dfppc['country'].apply(lambda c:get_region(c,country=country ))"
   ]
  },
  {
   "cell_type": "code",
   "execution_count": 156,
   "id": "b06f6ae9-699f-4f75-a8a5-445c33e0f369",
   "metadata": {},
   "outputs": [
    {
     "data": {
      "text/plain": [
       "BR    841\n",
       "WW    317\n",
       "LA     57\n",
       "Name: region, dtype: int64"
      ]
     },
     "execution_count": 156,
     "metadata": {},
     "output_type": "execute_result"
    }
   ],
   "source": [
    "dfppc['region'].value_counts()"
   ]
  },
  {
   "cell_type": "code",
   "execution_count": 157,
   "id": "589cacd9-b00f-4c18-b6ed-f6e8ddabb962",
   "metadata": {},
   "outputs": [
    {
     "data": {
      "text/plain": [
       "BR    227\n",
       "WW     49\n",
       "LA      9\n",
       "Name: region, dtype: int64"
      ]
     },
     "execution_count": 157,
     "metadata": {},
     "output_type": "execute_result"
    }
   ],
   "source": [
    "dfppc[dfppc['rank']=='PHD']['region'].value_counts()"
   ]
  },
  {
   "cell_type": "code",
   "execution_count": 158,
   "id": "87f28f6e-2c10-4e19-b36a-e82c6260d779",
   "metadata": {},
   "outputs": [
    {
     "data": {
      "text/plain": [
       "BR    223\n",
       "WW    167\n",
       "LA     12\n",
       "Name: region, dtype: int64"
      ]
     },
     "execution_count": 158,
     "metadata": {},
     "output_type": "execute_result"
    }
   ],
   "source": [
    "dfppc[dfppc['rank']=='POSTDOC']['region'].value_counts()"
   ]
  },
  {
   "cell_type": "code",
   "execution_count": 159,
   "id": "0d066ca4-80a8-4a5c-a038-23123ca9a721",
   "metadata": {},
   "outputs": [],
   "source": [
    "country='Chile'\n",
    "dfc=dfp[dfp['country']==country]\n",
    "au=dfc['author_id'].unique()\n",
    "dfppc=dfpp[dfpp['author_id'].apply(lambda a: a in au)].drop_duplicates(subset=['institution_id','rank','start_date','end_date']).reset_index(drop=True)\n",
    "\n",
    "dfppc['region']=dfppc['country'].apply(lambda c:get_region(c,country=country ))"
   ]
  },
  {
   "cell_type": "code",
   "execution_count": 160,
   "id": "de474072-6058-4edd-80f3-a02fef91363b",
   "metadata": {},
   "outputs": [
    {
     "data": {
      "text/plain": [
       "CL    265\n",
       "WW    135\n",
       "LA     58\n",
       "Name: region, dtype: int64"
      ]
     },
     "execution_count": 160,
     "metadata": {},
     "output_type": "execute_result"
    }
   ],
   "source": [
    "dfppc['region'].value_counts()"
   ]
  },
  {
   "cell_type": "code",
   "execution_count": 161,
   "id": "d30649b3-6ad5-45c3-a4ad-9bb4411fdcd2",
   "metadata": {},
   "outputs": [
    {
     "data": {
      "text/plain": [
       "CL    64\n",
       "WW    35\n",
       "LA    14\n",
       "Name: region, dtype: int64"
      ]
     },
     "execution_count": 161,
     "metadata": {},
     "output_type": "execute_result"
    }
   ],
   "source": [
    "dfppc[dfppc['rank']=='PHD']['region'].value_counts()"
   ]
  },
  {
   "cell_type": "code",
   "execution_count": 162,
   "id": "2fe9a5f6-611f-4fda-80c4-66e7cb28cb66",
   "metadata": {},
   "outputs": [
    {
     "data": {
      "text/plain": [
       "CL    80\n",
       "WW    46\n",
       "LA    18\n",
       "Name: region, dtype: int64"
      ]
     },
     "execution_count": 162,
     "metadata": {},
     "output_type": "execute_result"
    }
   ],
   "source": [
    "dfppc[dfppc['rank']=='POSTDOC']['region'].value_counts()"
   ]
  },
  {
   "cell_type": "markdown",
   "id": "724d6ef2",
   "metadata": {
    "jp-MarkdownHeadingCollapsed": true,
    "tags": []
   },
   "source": [
    "## Fix bad `profile_id` for `LOCAL → True`"
   ]
  },
  {
   "cell_type": "code",
   "execution_count": 280,
   "id": "5d5076b3",
   "metadata": {},
   "outputs": [],
   "source": [
    "#author_id='J.S.Useche.1'\n",
    "def get_profile_id(author_id,sleep=0.4):\n",
    "    #if True:\n",
    "    status=False\n",
    "    l=[]\n",
    "    pi=None\n",
    "    #try:\n",
    "    #if True:\n",
    "    try:\n",
    "        #https://inspirehep.net/literature?q=ea+J.D.Ruiz.Alvarez.2+and+ac+1->10\n",
    "        url=f'https://inspirehep.net/api/literature?q=ea+{author_id}+and+ac+1->10'\n",
    "        r=requests.get(url)\n",
    "        time.sleep(sleep)\n",
    "        if r.status_code==200:\n",
    "            data=r.json()\n",
    "            status=True\n",
    "            #if not `try` fails and `pass``.\n",
    "        for d in data.get('hits').get('hits'):\n",
    "            #l=[a.get('record') for a in d.get('metadata').get('authors') if a.get('bai')==author_id]\n",
    "            try: #failsafe\n",
    "                l=[a for a in data.get('hits').get('hits')[0].get('metadata').get('authors') if a.get('bai')==author_id]\n",
    "            except:\n",
    "                l=[]\n",
    "        if len(l)==1 and l[0].get('record'):\n",
    "            pi=l[0].get('record').get('$ref').split('/')[-1]\n",
    "    except:\n",
    "        pass\n",
    "    return pi,status\n",
    "\n",
    "TEST=True\n",
    "if TEST:\n",
    "    assert get_profile_id('J.S.Useche.1')==('2572877',True)\n",
    "    assert get_profile_id('J.D.Ruiz.Alvarez.2')==('1184534',True)\n",
    "    assert get_profile_id('S.Das.8')==(None,True)\n",
    "    assert get_profile_id('M.Sanchez.39')==(None, True)"
   ]
  },
  {
   "cell_type": "code",
   "execution_count": 281,
   "id": "0964f52e",
   "metadata": {},
   "outputs": [],
   "source": [
    "def get_advisor(i,sleep=0.4):\n",
    "    adv=[]\n",
    "    try:\n",
    "        r=requests.get('https://inspirehep.net/api/authors/{}'.format(i))\n",
    "        time.sleep(sleep)\n",
    "        adv=r.json().get('metadata').get('advisors')\n",
    "        if adv is None:\n",
    "            adv=[]\n",
    "    except:\n",
    "        pass\n",
    "    return adv"
   ]
  },
  {
   "cell_type": "code",
   "execution_count": 282,
   "id": "a5f957b2",
   "metadata": {},
   "outputs": [],
   "source": [
    "#a=df[0]\n",
    "#a.get('author_id')\n",
    "GET_ADVISORS=False\n",
    "if GET_ADVISORS:\n",
    "    kk=[a.update({'advisors':get_advisor(a.get('profile_id'))}) for a in df if not a.get('advisors')]"
   ]
  },
  {
   "cell_type": "code",
   "execution_count": 283,
   "id": "d5701438",
   "metadata": {},
   "outputs": [
    {
     "name": "stdout",
     "output_type": "stream",
     "text": [
      "00168 0\r"
     ]
    },
    {
     "ename": "KeyboardInterrupt",
     "evalue": "",
     "output_type": "error",
     "traceback": [
      "\u001b[0;31m---------------------------------------------------------------------------\u001b[0m",
      "\u001b[0;31mKeyboardInterrupt\u001b[0m                         Traceback (most recent call last)",
      "\u001b[0;32m/tmp/ipykernel_339367/2884626464.py\u001b[0m in \u001b[0;36m<module>\u001b[0;34m\u001b[0m\n\u001b[1;32m      8\u001b[0m         \u001b[0mprint\u001b[0m\u001b[0;34m(\u001b[0m\u001b[0mstr\u001b[0m\u001b[0;34m(\u001b[0m\u001b[0mi\u001b[0m\u001b[0;34m)\u001b[0m\u001b[0;34m.\u001b[0m\u001b[0mzfill\u001b[0m\u001b[0;34m(\u001b[0m\u001b[0;36m5\u001b[0m\u001b[0;34m)\u001b[0m\u001b[0;34m,\u001b[0m\u001b[0mstatus\u001b[0m\u001b[0;34m,\u001b[0m\u001b[0mend\u001b[0m\u001b[0;34m=\u001b[0m\u001b[0;34m'\\r'\u001b[0m\u001b[0;34m)\u001b[0m\u001b[0;34m\u001b[0m\u001b[0;34m\u001b[0m\u001b[0m\n\u001b[1;32m      9\u001b[0m \u001b[0;34m\u001b[0m\u001b[0m\n\u001b[0;32m---> 10\u001b[0;31m         \u001b[0;32mif\u001b[0m \u001b[0mlen\u001b[0m\u001b[0;34m(\u001b[0m\u001b[0mset\u001b[0m\u001b[0;34m(\u001b[0m\u001b[0;34m[\u001b[0m\u001b[0mdd\u001b[0m\u001b[0;34m.\u001b[0m\u001b[0mget\u001b[0m\u001b[0;34m(\u001b[0m\u001b[0;34m'author_id'\u001b[0m\u001b[0;34m)\u001b[0m \u001b[0;32mfor\u001b[0m \u001b[0mdd\u001b[0m \u001b[0;32min\u001b[0m \u001b[0mdf\u001b[0m  \u001b[0;32mif\u001b[0m \u001b[0mdd\u001b[0m\u001b[0;34m.\u001b[0m\u001b[0mget\u001b[0m\u001b[0;34m(\u001b[0m\u001b[0;34m'profile_id'\u001b[0m\u001b[0;34m)\u001b[0m\u001b[0;34m==\u001b[0m\u001b[0md\u001b[0m\u001b[0;34m.\u001b[0m\u001b[0mget\u001b[0m\u001b[0;34m(\u001b[0m\u001b[0;34m'profile_id'\u001b[0m\u001b[0;34m)\u001b[0m\u001b[0;34m]\u001b[0m\u001b[0;34m)\u001b[0m\u001b[0;34m)\u001b[0m\u001b[0;34m==\u001b[0m\u001b[0;36m1\u001b[0m\u001b[0;34m:\u001b[0m\u001b[0;34m\u001b[0m\u001b[0;34m\u001b[0m\u001b[0m\n\u001b[0m\u001b[1;32m     11\u001b[0m             \u001b[0;32mcontinue\u001b[0m\u001b[0;34m\u001b[0m\u001b[0;34m\u001b[0m\u001b[0m\n\u001b[1;32m     12\u001b[0m         \u001b[0mauthor_id\u001b[0m\u001b[0;34m=\u001b[0m\u001b[0md\u001b[0m\u001b[0;34m.\u001b[0m\u001b[0mget\u001b[0m\u001b[0;34m(\u001b[0m\u001b[0;34m'author_id'\u001b[0m\u001b[0;34m)\u001b[0m\u001b[0;34m\u001b[0m\u001b[0;34m\u001b[0m\u001b[0m\n",
      "\u001b[0;32m/tmp/ipykernel_339367/2884626464.py\u001b[0m in \u001b[0;36m<listcomp>\u001b[0;34m(.0)\u001b[0m\n\u001b[1;32m      8\u001b[0m         \u001b[0mprint\u001b[0m\u001b[0;34m(\u001b[0m\u001b[0mstr\u001b[0m\u001b[0;34m(\u001b[0m\u001b[0mi\u001b[0m\u001b[0;34m)\u001b[0m\u001b[0;34m.\u001b[0m\u001b[0mzfill\u001b[0m\u001b[0;34m(\u001b[0m\u001b[0;36m5\u001b[0m\u001b[0;34m)\u001b[0m\u001b[0;34m,\u001b[0m\u001b[0mstatus\u001b[0m\u001b[0;34m,\u001b[0m\u001b[0mend\u001b[0m\u001b[0;34m=\u001b[0m\u001b[0;34m'\\r'\u001b[0m\u001b[0;34m)\u001b[0m\u001b[0;34m\u001b[0m\u001b[0;34m\u001b[0m\u001b[0m\n\u001b[1;32m      9\u001b[0m \u001b[0;34m\u001b[0m\u001b[0m\n\u001b[0;32m---> 10\u001b[0;31m         \u001b[0;32mif\u001b[0m \u001b[0mlen\u001b[0m\u001b[0;34m(\u001b[0m\u001b[0mset\u001b[0m\u001b[0;34m(\u001b[0m\u001b[0;34m[\u001b[0m\u001b[0mdd\u001b[0m\u001b[0;34m.\u001b[0m\u001b[0mget\u001b[0m\u001b[0;34m(\u001b[0m\u001b[0;34m'author_id'\u001b[0m\u001b[0;34m)\u001b[0m \u001b[0;32mfor\u001b[0m \u001b[0mdd\u001b[0m \u001b[0;32min\u001b[0m \u001b[0mdf\u001b[0m  \u001b[0;32mif\u001b[0m \u001b[0mdd\u001b[0m\u001b[0;34m.\u001b[0m\u001b[0mget\u001b[0m\u001b[0;34m(\u001b[0m\u001b[0;34m'profile_id'\u001b[0m\u001b[0;34m)\u001b[0m\u001b[0;34m==\u001b[0m\u001b[0md\u001b[0m\u001b[0;34m.\u001b[0m\u001b[0mget\u001b[0m\u001b[0;34m(\u001b[0m\u001b[0;34m'profile_id'\u001b[0m\u001b[0;34m)\u001b[0m\u001b[0;34m]\u001b[0m\u001b[0;34m)\u001b[0m\u001b[0;34m)\u001b[0m\u001b[0;34m==\u001b[0m\u001b[0;36m1\u001b[0m\u001b[0;34m:\u001b[0m\u001b[0;34m\u001b[0m\u001b[0;34m\u001b[0m\u001b[0m\n\u001b[0m\u001b[1;32m     11\u001b[0m             \u001b[0;32mcontinue\u001b[0m\u001b[0;34m\u001b[0m\u001b[0;34m\u001b[0m\u001b[0m\n\u001b[1;32m     12\u001b[0m         \u001b[0mauthor_id\u001b[0m\u001b[0;34m=\u001b[0m\u001b[0md\u001b[0m\u001b[0;34m.\u001b[0m\u001b[0mget\u001b[0m\u001b[0;34m(\u001b[0m\u001b[0;34m'author_id'\u001b[0m\u001b[0;34m)\u001b[0m\u001b[0;34m\u001b[0m\u001b[0;34m\u001b[0m\u001b[0m\n",
      "\u001b[0;31mKeyboardInterrupt\u001b[0m: "
     ]
    }
   ],
   "source": [
    "SAVE=False\n",
    "status=0\n",
    "step=1000\n",
    "i=0\n",
    "for start in range(0,len(df),step):\n",
    "    for d in df[start:start+step]:\n",
    "        i+=1\n",
    "        print(str(i).zfill(5),status,end='\\r')\n",
    "\n",
    "        if len(set([dd.get('author_id') for dd in df  if dd.get('profile_id')==d.get('profile_id')]))==1:\n",
    "            continue\n",
    "        author_id=d.get('author_id')\n",
    "        check_profile_id=get_profile_id(author_id)\n",
    "        if check_profile_id[1] and check_profile_id[0]!=d.get('profile_id'):\n",
    "            d['profile_id']=check_profile_id[0]\n",
    "            d['advisors']=get_advisor(d.get('profile_id'))\n",
    "            status=1\n",
    "        else:\n",
    "            status=0\n",
    "    if SAVE:\n",
    "        f=open('data/inspire_LA.json','w')\n",
    "        json.dump(df,f)\n",
    "        f.close()"
   ]
  },
  {
   "cell_type": "markdown",
   "id": "144dacfb",
   "metadata": {},
   "source": []
  },
  {
   "cell_type": "markdown",
   "id": "75e6b6cd",
   "metadata": {
    "jp-MarkdownHeadingCollapsed": true,
    "tags": []
   },
   "source": [
    "## Students object"
   ]
  },
  {
   "cell_type": "code",
   "execution_count": null,
   "id": "eb4643ff",
   "metadata": {},
   "outputs": [
    {
     "data": {
      "text/plain": [
       "[{'author_id': 'M.Sanchez.39',\n",
       "  'country': 'Colombia',\n",
       "  'email_addresses': None,\n",
       "  'full_name': 'Sánchez, M.',\n",
       "  'ids': None,\n",
       "  'institution': 'Antioquia U.',\n",
       "  'institution_id': '903906',\n",
       "  'name': None,\n",
       "  'papers': [{'recid': 1415059,\n",
       "    'year': '2015',\n",
       "    'citation_count': 2,\n",
       "    'primary_arxiv_category': [],\n",
       "    'journal_id': '1365972',\n",
       "    'author_id': 'M.Sanchez.39',\n",
       "    'instituion_id': '903906'}],\n",
       "  'positions': None,\n",
       "  'profile_id': None,\n",
       "  'advisors': []}]"
      ]
     },
     "execution_count": 5,
     "metadata": {},
     "output_type": "execute_result"
    }
   ],
   "source": [
    "[dd for dd in df if dd.get('author_id')=='M.Sanchez.39']"
   ]
  },
  {
   "cell_type": "code",
   "execution_count": null,
   "id": "52d67191",
   "metadata": {},
   "outputs": [],
   "source": [
    "df=pd.DataFrame(df)"
   ]
  },
  {
   "cell_type": "code",
   "execution_count": null,
   "id": "e9182031",
   "metadata": {},
   "outputs": [
    {
     "data": {
      "text/plain": [
       "(11326, 12)"
      ]
     },
     "execution_count": 5,
     "metadata": {},
     "output_type": "execute_result"
    }
   ],
   "source": [
    "df[df.advisors.apply(len)>0].shape"
   ]
  },
  {
   "cell_type": "code",
   "execution_count": null,
   "id": "e73bd4c5",
   "metadata": {},
   "outputs": [
    {
     "data": {
      "text/plain": [
       "(13745, 12)"
      ]
     },
     "execution_count": 6,
     "metadata": {},
     "output_type": "execute_result"
    }
   ],
   "source": [
    "df[ (df['positions'].str[0].str['rank'].apply(lambda r: r is not None)) & \n",
    "   (df['positions'].str[0].str['rank'].apply(lambda r: r is not None)) ].shape"
   ]
  },
  {
   "cell_type": "code",
   "execution_count": null,
   "id": "0a4ca2bd",
   "metadata": {},
   "outputs": [
    {
     "data": {
      "text/plain": [
       "(28388, 12)"
      ]
     },
     "execution_count": 7,
     "metadata": {},
     "output_type": "execute_result"
    }
   ],
   "source": [
    "df[df['positions'].str[0].apply(lambda r:isinstance(r,dict))].shape"
   ]
  },
  {
   "cell_type": "markdown",
   "id": "0759632b",
   "metadata": {},
   "source": [
    "People which have edited their profile in INSPIREHEP"
   ]
  },
  {
   "cell_type": "code",
   "execution_count": null,
   "id": "68ca897b",
   "metadata": {},
   "outputs": [
    {
     "data": {
      "text/plain": [
       "(16762, 12)"
      ]
     },
     "execution_count": 8,
     "metadata": {},
     "output_type": "execute_result"
    }
   ],
   "source": [
    "df[ (df['positions'].str[0].str['rank'].apply(lambda r:isinstance(r,str))) \n",
    "    | (df.advisors.apply(len)>0 ) ].shape"
   ]
  },
  {
   "cell_type": "code",
   "execution_count": null,
   "id": "5db34f3c",
   "metadata": {},
   "outputs": [
    {
     "data": {
      "text/plain": [
       "(57588, 12)"
      ]
     },
     "execution_count": 9,
     "metadata": {},
     "output_type": "execute_result"
    }
   ],
   "source": [
    "df.shape"
   ]
  },
  {
   "cell_type": "code",
   "execution_count": null,
   "id": "7e311984",
   "metadata": {},
   "outputs": [],
   "source": [
    "#df['profile_id']=df['profile_id'].fillna(0).astype(int).astype(str).apply(lambda p: None if p=='0' else p)"
   ]
  },
  {
   "cell_type": "code",
   "execution_count": null,
   "id": "b425785e",
   "metadata": {},
   "outputs": [
    {
     "data": {
      "text/html": [
       "<div>\n",
       "<style scoped>\n",
       "    .dataframe tbody tr th:only-of-type {\n",
       "        vertical-align: middle;\n",
       "    }\n",
       "\n",
       "    .dataframe tbody tr th {\n",
       "        vertical-align: top;\n",
       "    }\n",
       "\n",
       "    .dataframe thead th {\n",
       "        text-align: right;\n",
       "    }\n",
       "</style>\n",
       "<table border=\"1\" class=\"dataframe\">\n",
       "  <thead>\n",
       "    <tr style=\"text-align: right;\">\n",
       "      <th></th>\n",
       "      <th>author_id</th>\n",
       "      <th>country</th>\n",
       "      <th>email_addresses</th>\n",
       "      <th>full_name</th>\n",
       "      <th>ids</th>\n",
       "      <th>institution</th>\n",
       "      <th>institution_id</th>\n",
       "      <th>name</th>\n",
       "      <th>papers</th>\n",
       "      <th>positions</th>\n",
       "      <th>profile_id</th>\n",
       "      <th>advisors</th>\n",
       "    </tr>\n",
       "  </thead>\n",
       "  <tbody>\n",
       "    <tr>\n",
       "      <th>4722</th>\n",
       "      <td>D.Restrepo.1</td>\n",
       "      <td>Colombia</td>\n",
       "      <td>[{'value': 'restrepo@udea.edu.co', 'current': ...</td>\n",
       "      <td>Restrepo, Diego</td>\n",
       "      <td>[{'value': 'D.Restrepo.1', 'schema': 'INSPIRE ...</td>\n",
       "      <td>Antioquia U.</td>\n",
       "      <td>903906</td>\n",
       "      <td>{'value': 'Restrepo Quintero, Diego Alejandro'...</td>\n",
       "      <td>[{'recid': 926166, 'year': '2012', 'citation_c...</td>\n",
       "      <td>[{'rank': 'SENIOR', 'hidden': False, 'record':...</td>\n",
       "      <td>991924</td>\n",
       "      <td>[{'ids': [{'value': 'INSPIRE-00133260', 'schem...</td>\n",
       "    </tr>\n",
       "    <tr>\n",
       "      <th>4762</th>\n",
       "      <td>D.Restrepo.1</td>\n",
       "      <td>Italy</td>\n",
       "      <td>[{'value': 'restrepo@udea.edu.co', 'current': ...</td>\n",
       "      <td>Restrepo, Diego</td>\n",
       "      <td>[{'value': 'D.Restrepo.1', 'schema': 'INSPIRE ...</td>\n",
       "      <td>ICTP, Trieste</td>\n",
       "      <td>902861</td>\n",
       "      <td>{'value': 'Restrepo Quintero, Diego Alejandro'...</td>\n",
       "      <td>[{'recid': 926166, 'year': '2012', 'citation_c...</td>\n",
       "      <td>[{'rank': 'SENIOR', 'hidden': False, 'record':...</td>\n",
       "      <td>991924</td>\n",
       "      <td>[{'ids': [{'value': 'INSPIRE-00133260', 'schem...</td>\n",
       "    </tr>\n",
       "    <tr>\n",
       "      <th>5942</th>\n",
       "      <td>D.Restrepo.1</td>\n",
       "      <td>Spain</td>\n",
       "      <td>[{'value': 'restrepo@udea.edu.co', 'current': ...</td>\n",
       "      <td>Restrepo, Diego A.</td>\n",
       "      <td>[{'value': 'D.Restrepo.1', 'schema': 'INSPIRE ...</td>\n",
       "      <td>Valencia U.</td>\n",
       "      <td>903319</td>\n",
       "      <td>{'value': 'Restrepo Quintero, Diego Alejandro'...</td>\n",
       "      <td>[{'recid': 926166, 'year': '2012', 'citation_c...</td>\n",
       "      <td>[{'rank': 'SENIOR', 'hidden': False, 'record':...</td>\n",
       "      <td>991924</td>\n",
       "      <td>[{'ids': [{'value': 'INSPIRE-00133260', 'schem...</td>\n",
       "    </tr>\n",
       "    <tr>\n",
       "      <th>6064</th>\n",
       "      <td>D.Restrepo.1</td>\n",
       "      <td>Brazil</td>\n",
       "      <td>[{'value': 'restrepo@udea.edu.co', 'current': ...</td>\n",
       "      <td>Restrepo, Diego</td>\n",
       "      <td>[{'value': 'D.Restrepo.1', 'schema': 'INSPIRE ...</td>\n",
       "      <td>IIP, Brazil</td>\n",
       "      <td>912344</td>\n",
       "      <td>{'value': 'Restrepo Quintero, Diego Alejandro'...</td>\n",
       "      <td>[{'recid': 926166, 'year': '2012', 'citation_c...</td>\n",
       "      <td>[{'rank': 'SENIOR', 'hidden': False, 'record':...</td>\n",
       "      <td>991924</td>\n",
       "      <td>[{'ids': [{'value': 'INSPIRE-00133260', 'schem...</td>\n",
       "    </tr>\n",
       "    <tr>\n",
       "      <th>6066</th>\n",
       "      <td>D.Restrepo.1</td>\n",
       "      <td>Brazil</td>\n",
       "      <td>[{'value': 'restrepo@udea.edu.co', 'current': ...</td>\n",
       "      <td>Restrepo, Diego</td>\n",
       "      <td>[{'value': 'D.Restrepo.1', 'schema': 'INSPIRE ...</td>\n",
       "      <td>Campinas State U.</td>\n",
       "      <td>902714</td>\n",
       "      <td>{'value': 'Restrepo Quintero, Diego Alejandro'...</td>\n",
       "      <td>[{'recid': 926166, 'year': '2012', 'citation_c...</td>\n",
       "      <td>[{'rank': 'SENIOR', 'hidden': False, 'record':...</td>\n",
       "      <td>991924</td>\n",
       "      <td>[{'ids': [{'value': 'INSPIRE-00133260', 'schem...</td>\n",
       "    </tr>\n",
       "    <tr>\n",
       "      <th>6072</th>\n",
       "      <td>D.Restrepo.1</td>\n",
       "      <td>Spain</td>\n",
       "      <td>[{'value': 'restrepo@udea.edu.co', 'current': ...</td>\n",
       "      <td>Restrepo, D.A.</td>\n",
       "      <td>[{'value': 'D.Restrepo.1', 'schema': 'INSPIRE ...</td>\n",
       "      <td>Valencia U., IFIC</td>\n",
       "      <td>907907</td>\n",
       "      <td>{'value': 'Restrepo Quintero, Diego Alejandro'...</td>\n",
       "      <td>[{'recid': 926166, 'year': '2012', 'citation_c...</td>\n",
       "      <td>[{'rank': 'SENIOR', 'hidden': False, 'record':...</td>\n",
       "      <td>991924</td>\n",
       "      <td>[{'ids': [{'value': 'INSPIRE-00133260', 'schem...</td>\n",
       "    </tr>\n",
       "  </tbody>\n",
       "</table>\n",
       "</div>"
      ],
      "text/plain": [
       "         author_id   country  \\\n",
       "4722  D.Restrepo.1  Colombia   \n",
       "4762  D.Restrepo.1     Italy   \n",
       "5942  D.Restrepo.1     Spain   \n",
       "6064  D.Restrepo.1    Brazil   \n",
       "6066  D.Restrepo.1    Brazil   \n",
       "6072  D.Restrepo.1     Spain   \n",
       "\n",
       "                                        email_addresses           full_name  \\\n",
       "4722  [{'value': 'restrepo@udea.edu.co', 'current': ...     Restrepo, Diego   \n",
       "4762  [{'value': 'restrepo@udea.edu.co', 'current': ...     Restrepo, Diego   \n",
       "5942  [{'value': 'restrepo@udea.edu.co', 'current': ...  Restrepo, Diego A.   \n",
       "6064  [{'value': 'restrepo@udea.edu.co', 'current': ...     Restrepo, Diego   \n",
       "6066  [{'value': 'restrepo@udea.edu.co', 'current': ...     Restrepo, Diego   \n",
       "6072  [{'value': 'restrepo@udea.edu.co', 'current': ...      Restrepo, D.A.   \n",
       "\n",
       "                                                    ids        institution  \\\n",
       "4722  [{'value': 'D.Restrepo.1', 'schema': 'INSPIRE ...       Antioquia U.   \n",
       "4762  [{'value': 'D.Restrepo.1', 'schema': 'INSPIRE ...      ICTP, Trieste   \n",
       "5942  [{'value': 'D.Restrepo.1', 'schema': 'INSPIRE ...        Valencia U.   \n",
       "6064  [{'value': 'D.Restrepo.1', 'schema': 'INSPIRE ...        IIP, Brazil   \n",
       "6066  [{'value': 'D.Restrepo.1', 'schema': 'INSPIRE ...  Campinas State U.   \n",
       "6072  [{'value': 'D.Restrepo.1', 'schema': 'INSPIRE ...  Valencia U., IFIC   \n",
       "\n",
       "     institution_id                                               name  \\\n",
       "4722         903906  {'value': 'Restrepo Quintero, Diego Alejandro'...   \n",
       "4762         902861  {'value': 'Restrepo Quintero, Diego Alejandro'...   \n",
       "5942         903319  {'value': 'Restrepo Quintero, Diego Alejandro'...   \n",
       "6064         912344  {'value': 'Restrepo Quintero, Diego Alejandro'...   \n",
       "6066         902714  {'value': 'Restrepo Quintero, Diego Alejandro'...   \n",
       "6072         907907  {'value': 'Restrepo Quintero, Diego Alejandro'...   \n",
       "\n",
       "                                                 papers  \\\n",
       "4722  [{'recid': 926166, 'year': '2012', 'citation_c...   \n",
       "4762  [{'recid': 926166, 'year': '2012', 'citation_c...   \n",
       "5942  [{'recid': 926166, 'year': '2012', 'citation_c...   \n",
       "6064  [{'recid': 926166, 'year': '2012', 'citation_c...   \n",
       "6066  [{'recid': 926166, 'year': '2012', 'citation_c...   \n",
       "6072  [{'recid': 926166, 'year': '2012', 'citation_c...   \n",
       "\n",
       "                                              positions profile_id  \\\n",
       "4722  [{'rank': 'SENIOR', 'hidden': False, 'record':...     991924   \n",
       "4762  [{'rank': 'SENIOR', 'hidden': False, 'record':...     991924   \n",
       "5942  [{'rank': 'SENIOR', 'hidden': False, 'record':...     991924   \n",
       "6064  [{'rank': 'SENIOR', 'hidden': False, 'record':...     991924   \n",
       "6066  [{'rank': 'SENIOR', 'hidden': False, 'record':...     991924   \n",
       "6072  [{'rank': 'SENIOR', 'hidden': False, 'record':...     991924   \n",
       "\n",
       "                                               advisors  \n",
       "4722  [{'ids': [{'value': 'INSPIRE-00133260', 'schem...  \n",
       "4762  [{'ids': [{'value': 'INSPIRE-00133260', 'schem...  \n",
       "5942  [{'ids': [{'value': 'INSPIRE-00133260', 'schem...  \n",
       "6064  [{'ids': [{'value': 'INSPIRE-00133260', 'schem...  \n",
       "6066  [{'ids': [{'value': 'INSPIRE-00133260', 'schem...  \n",
       "6072  [{'ids': [{'value': 'INSPIRE-00133260', 'schem...  "
      ]
     },
     "execution_count": 11,
     "metadata": {},
     "output_type": "execute_result"
    }
   ],
   "source": [
    "df[df['profile_id']=='991924']"
   ]
  },
  {
   "cell_type": "code",
   "execution_count": null,
   "id": "4afbc4a9",
   "metadata": {},
   "outputs": [
    {
     "data": {
      "text/plain": [
       "[2, 3]"
      ]
     },
     "execution_count": 112,
     "metadata": {},
     "output_type": "execute_result"
    }
   ],
   "source": [
    "L=[1,2,3]\n",
    "L.remove(1)\n",
    "L"
   ]
  },
  {
   "cell_type": "code",
   "execution_count": null,
   "id": "ee8cefa7",
   "metadata": {},
   "outputs": [],
   "source": [
    "profile_id = '991924'\n",
    "a = {'ids': [{'value': 'INSPIRE-00133260', 'schema': 'INSPIRE ID'}],\n",
    " 'name': 'Valle, Jose W.F.',\n",
    " 'hidden': False,\n",
    " 'record': {'$ref': 'https://inspirehep.net/api/authors/985058'},\n",
    " 'degree_type': 'phd',\n",
    " 'curated_relation': False}\n",
    "r = {'author_id':'D.Restrepo.1',\n",
    "   'name':{'value': 'Restrepo Quintero, Diego Alejandro',\n",
    "   'preferred_name': 'Diego Restrepo'},\n",
    "   'positions': [{'rank': 'PHD',\n",
    "                  'hidden': False,\n",
    "                  'record': {'$ref': 'https://inspirehep.net/api/institutions/907907'},\n",
    "                  'current': False,\n",
    "                  'end_date': '2001',\n",
    "                  'start_date': '1997',\n",
    "                  'institution': 'Valencia U., IFIC',\n",
    "                  'curated_relation': True}\n",
    "                ]\n",
    "   }\n",
    "advisor_profile_id = '985058'\n",
    "d = {}\n",
    "\n",
    "def get_position(ds, p):\n",
    "    for k in p.keys():\n",
    "        if k == 'record':\n",
    "            try:\n",
    "                ds['institution_id'] = p[k].get('$ref').split('/')[-1]\n",
    "            except:\n",
    "                ds['institution_id'] = None\n",
    "        else:\n",
    "            ds[k] = p[k]\n",
    "    return ds\n",
    "\n",
    "\n",
    "def get_student(rr, a, profile_id,ranks=['UNDERGRADUATE','MASTER','PHD']):\n",
    "    \"Trigger if advisor exits within `a`\"\n",
    "    r=rr.copy()\n",
    "    old_ranks=ranks.copy()\n",
    "    students=[]\n",
    "    degree_type = a.get('degree_type')\n",
    "    if degree_type=='bachelor':\n",
    "        degree_type='undergraduate'\n",
    "    if not r.get('positions'):\n",
    "        r['positions']=[]\n",
    "    #    return students\n",
    "    for p in r.get('positions'):\n",
    "        ds = {}\n",
    "        if p.get('rank') and p.get('rank').lower() == degree_type:\n",
    "            ds = get_position(ds,p)\n",
    "            if old_ranks and p.get('rank') in old_ranks:\n",
    "                old_ranks=old_ranks.remove(p.get('rank'))\n",
    "        elif (isinstance(r.get('advisors'),list) and len(r.get('advisors'))==1 and p.get('rank') and \n",
    "              old_ranks and p.get('rank') in old_ranks and (p.get('rank')=='PHD' or p.get('rank')=='MASTER')):\n",
    "            ds = get_position(ds,p) \n",
    "        else:\n",
    "            continue\n",
    "        if ds:\n",
    "            if ds.get('rank') not in ranks and degree_type:\n",
    "                ds['rank'] = degree_type.upper()\n",
    "            ds['student_id'] = r.get('author_id')\n",
    "            ds['student_name'] = r.get('name').get('value')\n",
    "            ds['student_profile_id'] = profile_id\n",
    "            students.append(ds)\n",
    "    # if not positons in ranks\n",
    "    if not students:\n",
    "        #Advisor declared but not in positions\n",
    "        ds = {}\n",
    "        ds['rank'] = \"PHD\"\n",
    "        if r.get('author_id'):\n",
    "            ds['student_id'] = r.get('author_id')\n",
    "            if r.get('name'):\n",
    "                ds['student_name'] = r.get('name').get('value')\n",
    "            ds['student_profile_id'] = profile_id\n",
    "        students.append(ds)\n",
    "\n",
    "\n",
    "    return students\n",
    "#assert get_student(r, a, profile_id).get('institution_id') == '907907'\n",
    "\n",
    "def get_student_without_advisor(p, r, profile_id, ranks=['UNDERGRADUATE','MASTER','PHD']):\n",
    "    ds = {}\n",
    "    ds = get_position(ds, p)\n",
    "    if r.get('author_id'):\n",
    "        ds['student_id'] = r.get('author_id')\n",
    "        if r.get('name'):\n",
    "            ds['student_name'] = r.get('name').get('value')\n",
    "        ds['student_profile_id'] = profile_id\n",
    "    return ds\n",
    "\n",
    "\n",
    "def get_id(d, df, id_type='profile_id'):\n",
    "    new_id = d.get('profile_id')\n",
    "    try:\n",
    "        lpid = list(set(df[ (df['name'].str['value']==d.get('name')) ][id_type].to_list()))\n",
    "    except:\n",
    "        lpid=[]\n",
    "    if len(lpid) == 1:\n",
    "        if lpid[0]:\n",
    "            new_id = lpid[0]\n",
    "    return new_id\n",
    "\n",
    "\n",
    "def get_advisor(d, advisor_profile_id, a, df):\n",
    "    d['profile_id'] = advisor_profile_id\n",
    "\n",
    "    d['name'] = a.get('name')\n",
    "\n",
    "    if not d.get('profile_id'):\n",
    "        d['profile_id'] = get_id(d, df, id_type='profile_id')\n",
    "    if not d.get('profile_id'):\n",
    "        d['author_id'] = get_id(d, df, id_type='author_id')\n",
    "\n",
    "    return d\n",
    "assert get_advisor(d,advisor_profile_id, a, df).get('profile_id') == '985058'"
   ]
  },
  {
   "cell_type": "code",
   "execution_count": null,
   "id": "08f94dc0",
   "metadata": {},
   "outputs": [],
   "source": [
    "# 991924  # J Valle advisor\n",
    "# 1854904 # not advisor → Unknown\n",
    "# 1045947 # not position\n",
    "# 1014628 # J Valle advisor\n",
    "# 1028906 # not advisor → Unknown\n",
    "profile_id=['991924','1014628','1854904','1045947','1021727','1073921','1066143','989075','983327','1009735','1402655','1078540'][-1]\n",
    "r=df[df['profile_id']==profile_id].iloc[0].to_dict()"
   ]
  },
  {
   "cell_type": "code",
   "execution_count": null,
   "id": "b6b88d1d",
   "metadata": {},
   "outputs": [],
   "source": [
    "f=open(f'tests/data/{profile_id}.json','w')\n",
    "json.dump(r,f)\n",
    "f.close()"
   ]
  },
  {
   "cell_type": "code",
   "execution_count": null,
   "id": "c8aef172",
   "metadata": {},
   "outputs": [
    {
     "data": {
      "text/plain": [
       "{'ids': [{'value': 'INSPIRE-00078533', 'schema': 'INSPIRE ID'}],\n",
       " 'name': 'Dunsby, Peter K.S.',\n",
       " 'record': {'$ref': 'https://inspirehep.net/api/authors/1011208'},\n",
       " 'degree_type': 'phd'}"
      ]
     },
     "execution_count": 216,
     "metadata": {},
     "output_type": "execute_result"
    }
   ],
   "source": [
    "r.get('advisors')[0]"
   ]
  },
  {
   "cell_type": "code",
   "execution_count": null,
   "id": "469c80c6",
   "metadata": {},
   "outputs": [
    {
     "data": {
      "text/plain": [
       "[{'rank': 'SENIOR',\n",
       "  'record': {'$ref': 'https://inspirehep.net/api/institutions/906964'},\n",
       "  'current': True,\n",
       "  'start_date': '2015',\n",
       "  'institution': 'North West U., South Africa',\n",
       "  'curated_relation': True},\n",
       " {'rank': 'POSTDOC',\n",
       "  'record': {'$ref': 'https://inspirehep.net/api/institutions/906964'},\n",
       "  'end_date': '2015',\n",
       "  'start_date': '2014',\n",
       "  'institution': 'North West U., South Africa',\n",
       "  'curated_relation': True},\n",
       " {'rank': 'PHD',\n",
       "  'record': {'$ref': 'https://inspirehep.net/api/institutions/912025'},\n",
       "  'end_date': '2013',\n",
       "  'start_date': '2010',\n",
       "  'institution': 'Cape Town U., ACGC',\n",
       "  'curated_relation': True},\n",
       " {'rank': 'MASTER',\n",
       "  'record': {'$ref': 'https://inspirehep.net/api/institutions/912025'},\n",
       "  'end_date': '2009',\n",
       "  'start_date': '2008',\n",
       "  'institution': 'Cape Town U., ACGC',\n",
       "  'curated_relation': True},\n",
       " {'record': {'$ref': 'https://inspirehep.net/api/institutions/905515'},\n",
       "  'end_date': '2007',\n",
       "  'start_date': '2003',\n",
       "  'institution': 'Addis Ababa U.',\n",
       "  'curated_relation': True},\n",
       " {'end_date': '2003', 'start_date': '2002', 'institution': 'Mekelle U.'}]"
      ]
     },
     "execution_count": 217,
     "metadata": {},
     "output_type": "execute_result"
    }
   ],
   "source": [
    "r.get('positions')"
   ]
  },
  {
   "cell_type": "code",
   "execution_count": null,
   "id": "7036a6a4",
   "metadata": {},
   "outputs": [],
   "source": [
    "def get_students(r, profile_id, pre_students=[]):\n",
    "    ranks = ['UNDERGRADUATE', 'MASTER', 'PHD']\n",
    "\n",
    "    if any([ any([ss.get('student_profile_id') == profile_id for ss in s.get('students')])\n",
    "       for s in pre_students]):\n",
    "        print('Already in students')\n",
    "        #raise Exception('Already in students')\n",
    "        return pre_students\n",
    "\n",
    "    for a in r.get('advisors'):\n",
    "        # Get profile_id or author_id or name of advisor\n",
    "        try:\n",
    "            advisor_profile_id = a.get('record').get('$ref').split('/')[-1]\n",
    "        except:\n",
    "            advisor_profile_id = ''\n",
    "\n",
    "        OLD_ADVISOR = False\n",
    "        for old_a in pre_students:\n",
    "            # TODO: check for other indetifiers\n",
    "            if advisor_profile_id and old_a.get('profile_id') == advisor_profile_id:\n",
    "                old_a['students'].extend(get_student(r, a, profile_id,ranks))\n",
    "                OLD_ADVISOR = True\n",
    "                break\n",
    "        if OLD_ADVISOR:\n",
    "            continue\n",
    "\n",
    "        d = {}\n",
    "        d = get_advisor(d, advisor_profile_id, a, df)\n",
    "\n",
    "        d['students'] = get_student(r, a, profile_id,ranks)\n",
    "\n",
    "        pre_students.append(d)\n",
    "\n",
    "\n",
    "\n",
    "    # Update ranks\n",
    "    if r.get('advisors'):\n",
    "        L = [[s.get('rank') for s in a.get('students') if s.get('rank')] for a in pre_students]\n",
    "        ranks = set(ranks).difference([item for sublist in L for item in sublist])\n",
    "\n",
    "    if not r.get('positions'):\n",
    "        #raise Exception('Already in students')\n",
    "        return pre_students\n",
    "\n",
    "\n",
    "    for p in r.get('positions'):\n",
    "        if p.get('rank') in ranks:\n",
    "            d = {}\n",
    "            d['students'] = []\n",
    "            ds = get_student_without_advisor(p, r, profile_id, ranks=ranks)\n",
    "            d['students'].append(ds)\n",
    "            d['profile_id'] = None\n",
    "            d['name'] = 'Unkown'\n",
    "            pre_students.append(d)\n",
    "\n",
    "    return pre_students\n"
   ]
  },
  {
   "cell_type": "code",
   "execution_count": null,
   "id": "4c4a69db",
   "metadata": {},
   "outputs": [],
   "source": [
    "profile_id='991924'\n",
    "f=open(f'tests/data/{profile_id}.json','r')\n",
    "r=json.load(f)\n",
    "f.close()\n",
    "pre_students = get_students(r, profile_id, [])\n",
    "assert len(pre_students)==3\n",
    "profile_id='1014628'\n",
    "f=open(f'tests/data/{profile_id}.json','r')\n",
    "r=json.load(f)\n",
    "f.close()\n",
    "pre_students = get_students(r, profile_id, [])\n",
    "assert pre_students[0].get('students')[0].get('rank')=='PHD'\n",
    "profile_id='1854904'\n",
    "f=open(f'tests/data/{profile_id}.json','r')\n",
    "r=json.load(f)\n",
    "f.close()\n",
    "pre_students = get_students(r, profile_id, [])\n",
    "assert len(pre_students)==3\n",
    "profile_id='1045947'\n",
    "f=open(f'tests/data/{profile_id}.json','r')\n",
    "r=json.load(f)\n",
    "f.close()\n",
    "pre_students = get_students(r, profile_id, [])\n",
    "assert pre_students[0].get('profile_id')=='991924'\n",
    "profile_id='1073921'\n",
    "f=open(f'tests/data/{profile_id}.json','r')\n",
    "r=json.load(f)\n",
    "f.close()\n",
    "pre_students = get_students(r, profile_id, [])\n",
    "assert len(set(['MASTER','PHD']).difference(\n",
    "    [[dd.get('rank') for dd in d.get('students')] for d in pre_students][0]\n",
    " ))==0\n",
    "profile_id='1066143'\n",
    "f=open(f'tests/data/{profile_id}.json','r')\n",
    "r=json.load(f)\n",
    "f.close()\n",
    "LIST=[[dd.get('rank') for dd in d.get('students')] for d in get_students(r,profile_id, [])]\n",
    "assert [item for sublist in LIST for item in sublist] == ['PHD', 'PHD']"
   ]
  },
  {
   "cell_type": "code",
   "execution_count": null,
   "id": "5b4c1f3e",
   "metadata": {},
   "outputs": [],
   "source": [
    "dfa=df.drop_duplicates(subset=['profile_id']).reset_index(drop=True)"
   ]
  },
  {
   "cell_type": "code",
   "execution_count": null,
   "id": "f9568759",
   "metadata": {},
   "outputs": [],
   "source": [
    "pre_students = []\n",
    "for profile_id in dfa['profile_id']:\n",
    "    r = df[df['profile_id']==profile_id]\n",
    "    if not r.empty:\n",
    "        r = r.iloc[0].to_dict()\n",
    "    else:\n",
    "        continue\n",
    "    if profile_id and r:\n",
    "        pre_students = get_students(r, profile_id,pre_students)"
   ]
  },
  {
   "cell_type": "markdown",
   "id": "2d6117f7",
   "metadata": {},
   "source": [
    "Get Advisor level"
   ]
  },
  {
   "cell_type": "code",
   "execution_count": null,
   "id": "2e3cc377",
   "metadata": {},
   "outputs": [],
   "source": [
    "def add_level(pre_students,LL,level=0):\n",
    "    for parent_id in LL:\n",
    "        #print(parent_id,end='\\r')\n",
    "        try:\n",
    "            d=[d for d in pre_students if d.get('profile_id')==parent_id][0]\n",
    "            d['level']=level\n",
    "        except:\n",
    "            continue"
   ]
  },
  {
   "cell_type": "code",
   "execution_count": null,
   "id": "1bc341e8",
   "metadata": {},
   "outputs": [
    {
     "name": "stdout",
     "output_type": "stream",
     "text": [
      "2170\n",
      "0 2658\n",
      "1 1233\n",
      "2 428\n",
      "3 71\n",
      "4 8\n",
      "5 4\n",
      "6 0\n"
     ]
    }
   ],
   "source": [
    "ps=pd.DataFrame(pre_students)\n",
    "ps=ps.dropna(subset=['profile_id']).reset_index(drop=True)\n",
    "# students\n",
    "L=ps.students.apply(lambda L: [d.get('student_profile_id') for d in L]).to_list()\n",
    "# Level 0 advisors\n",
    "LL=list(  set(ps.profile_id.to_list()).difference( set([item for subitem in L for item in subitem]) ) ) \n",
    "LL=[x for x in LL if x]\n",
    "print(len(LL))\n",
    "\n",
    "level=0\n",
    "while LL:\n",
    "    add_level(pre_students,LL,level=level)\n",
    "\n",
    "    LL=[ [dd.get('student_profile_id') for dd in  d.get('students') if dd.get('rank')=='PHD'] for d in pre_students if d.get('level')==level]\n",
    "    LL=set([item for sublist in LL for item in sublist])\n",
    "    LL=[x for x in LL if x]\n",
    "    print(level,len(LL))\n",
    "    level+=1\n",
    "    if level>10:\n",
    "        break"
   ]
  },
  {
   "cell_type": "code",
   "execution_count": null,
   "id": "a76517ff",
   "metadata": {},
   "outputs": [],
   "source": [
    "chk_levels=['1020782','1013015','989075','996018','1026011','1066143']\n",
    "LL=[[d.get('level') for d in pre_students if d.get('profile_id')==chk_levels[i]] for i in range(len(chk_levels))]\n",
    "assert [item for sublist in LL for item in sublist]==list(range(6))"
   ]
  },
  {
   "cell_type": "code",
   "execution_count": null,
   "id": "340ebc49",
   "metadata": {},
   "outputs": [
    {
     "data": {
      "text/plain": [
       "{'profile_id': '1020446',\n",
       " 'name': 'Raya Montaño, Alfredo',\n",
       " 'students': [{'rank': 'PHD',\n",
       "   'institution_id': '905835',\n",
       "   'end_date': '2017',\n",
       "   'start_date': '2013',\n",
       "   'institution': 'IFM-UMSNH, Michoacan',\n",
       "   'curated_relation': True,\n",
       "   'student_id': 'S.Hernandez.Ortiz.1',\n",
       "   'student_name': 'Hernández-Ortiz, Saúl',\n",
       "   'student_profile_id': '1274692'},\n",
       "  {'rank': 'PHD',\n",
       "   'institution_id': '905835',\n",
       "   'end_date': '2016',\n",
       "   'start_date': '2012',\n",
       "   'institution': 'IFM-UMSNH, Michoacan',\n",
       "   'curated_relation': True,\n",
       "   'student_id': 'Aftab.Ahmad.1',\n",
       "   'student_name': 'Ahmad, Aftab',\n",
       "   'student_profile_id': '1373106'}],\n",
       " 'level': 4}"
      ]
     },
     "execution_count": 232,
     "metadata": {},
     "output_type": "execute_result"
    }
   ],
   "source": [
    "[d for d in pre_students if d.get('level')==4][0]"
   ]
  },
  {
   "cell_type": "code",
   "execution_count": null,
   "id": "a6f7adfe",
   "metadata": {},
   "outputs": [],
   "source": [
    "f=open('data/students.json','w')\n",
    "json.dump(pre_students,f)\n",
    "f.close()"
   ]
  },
  {
   "cell_type": "code",
   "execution_count": null,
   "id": "e869d7fe",
   "metadata": {},
   "outputs": [
    {
     "data": {
      "text/plain": [
       "[{'profile_id': '991924',\n",
       "  'name': 'Restrepo Diego',\n",
       "  'students': [{'rank': 'PHD',\n",
       "    'institution_id': '903906',\n",
       "    'end_date': '2017',\n",
       "    'start_date': '2013',\n",
       "    'institution': 'Antioquia U.',\n",
       "    'curated_relation': True,\n",
       "    'student_id': 'G.Palacio.1',\n",
       "    'student_name': 'Palacio, Guillermo',\n",
       "    'student_profile_id': '1458807'},\n",
       "   {'rank': 'MASTER',\n",
       "    'institution_id': '906485',\n",
       "    'end_date': '2013',\n",
       "    'start_date': '2011',\n",
       "    'institution': 'Colombia, U. Natl.',\n",
       "    'curated_relation': True,\n",
       "    'student_id': 'G.Palacio.1',\n",
       "    'student_name': 'Palacio, Guillermo',\n",
       "    'student_profile_id': '1458807'},\n",
       "   {'rank': 'PHD',\n",
       "    'student_id': 'Oscar.Zapata.1',\n",
       "    'student_name': 'Zapata Noreña, Oscar',\n",
       "    'student_profile_id': '1045947'},\n",
       "   {'rank': 'UNDERGRADUATE',\n",
       "    'hidden': False,\n",
       "    'institution_id': '903906',\n",
       "    'current': False,\n",
       "    'end_date': '2011',\n",
       "    'start_date': '2006',\n",
       "    'institution': 'Antioquia U.',\n",
       "    'curated_relation': True,\n",
       "    'student_id': 'R.Longas.1',\n",
       "    'student_name': 'Longas Bedoya, Robinson',\n",
       "    'student_profile_id': '1402655'},\n",
       "   {'rank': 'PHD',\n",
       "    'institution_id': '903906',\n",
       "    'current': True,\n",
       "    'start_date': '2014',\n",
       "    'institution': 'Antioquia U.',\n",
       "    'curated_relation': True,\n",
       "    'student_id': 'C.Salazar.3',\n",
       "    'student_name': 'Salazar, Camilo',\n",
       "    'student_profile_id': '1597216'}],\n",
       "  'level': 2}]"
      ]
     },
     "execution_count": 234,
     "metadata": {},
     "output_type": "execute_result"
    }
   ],
   "source": [
    "student_profile_id='1045947'\n",
    "[d for d in pre_students if any([dd.get('student_profile_id')==student_profile_id for dd in d.get('students')])]"
   ]
  },
  {
   "cell_type": "markdown",
   "id": "b154db5d",
   "metadata": {},
   "source": [
    "Example: CINVESTAV-IPN"
   ]
  },
  {
   "cell_type": "code",
   "execution_count": null,
   "id": "bbb19822",
   "metadata": {},
   "outputs": [],
   "source": [
    "institution_id='903002' #'907907' # '903002' # '903906'\n",
    "ins_studs=[d for d in pre_students if any([dd.get('institution_id')==institution_id for dd in d.get('students')])]"
   ]
  },
  {
   "cell_type": "code",
   "execution_count": null,
   "id": "dee726f2",
   "metadata": {},
   "outputs": [],
   "source": [
    "cinvestav=[]\n",
    "for d in ins_studs:\n",
    "    dd=d.copy()\n",
    "    students=[]\n",
    "    for s in dd.get('students'):\n",
    "        if s.get('institution_id')==institution_id:\n",
    "            students.append(s)\n",
    "    dd['students']=students\n",
    "    cinvestav.append(dd)\n"
   ]
  },
  {
   "cell_type": "code",
   "execution_count": null,
   "id": "ebf80e60",
   "metadata": {},
   "outputs": [
    {
     "data": {
      "text/plain": [
       "98"
      ]
     },
     "execution_count": 266,
     "metadata": {},
     "output_type": "execute_result"
    }
   ],
   "source": [
    "LL=[d.get('students') for d in cinvestav]\n",
    "len([item for sublist in LL for item in sublist])"
   ]
  },
  {
   "cell_type": "code",
   "execution_count": null,
   "id": "2bf702e6",
   "metadata": {},
   "outputs": [
    {
     "data": {
      "text/html": [
       "<div>\n",
       "<style scoped>\n",
       "    .dataframe tbody tr th:only-of-type {\n",
       "        vertical-align: middle;\n",
       "    }\n",
       "\n",
       "    .dataframe tbody tr th {\n",
       "        vertical-align: top;\n",
       "    }\n",
       "\n",
       "    .dataframe thead th {\n",
       "        text-align: right;\n",
       "    }\n",
       "</style>\n",
       "<table border=\"1\" class=\"dataframe\">\n",
       "  <thead>\n",
       "    <tr style=\"text-align: right;\">\n",
       "      <th></th>\n",
       "      <th>student_name</th>\n",
       "      <th>profile_id</th>\n",
       "      <th>degree</th>\n",
       "      <th>start</th>\n",
       "      <th>end</th>\n",
       "      <th>advisor_name</th>\n",
       "      <th>advisor_id</th>\n",
       "    </tr>\n",
       "  </thead>\n",
       "  <tbody>\n",
       "    <tr>\n",
       "      <th>0</th>\n",
       "      <td>Higuita Borja, Daniel Fernando</td>\n",
       "      <td>1318752</td>\n",
       "      <td>MASTER</td>\n",
       "      <td>2010</td>\n",
       "      <td>2012</td>\n",
       "      <td>Ayón-Beato, Eloy</td>\n",
       "      <td>1017802</td>\n",
       "    </tr>\n",
       "  </tbody>\n",
       "</table>\n",
       "</div>"
      ],
      "text/plain": [
       "                     student_name profile_id  degree start   end  \\\n",
       "0  Higuita Borja, Daniel Fernando    1318752  MASTER  2010  2012   \n",
       "\n",
       "       advisor_name advisor_id  \n",
       "0  Ayón-Beato, Eloy    1017802  "
      ]
     },
     "execution_count": 267,
     "metadata": {},
     "output_type": "execute_result"
    }
   ],
   "source": [
    "cv=pd.DataFrame(cinvestav)\n",
    "LL=cv.apply(lambda d: [{'student_name':dd.get('student_name'),\n",
    "                     'profile_id':dd.get('student_profile_id'),\n",
    "                     'degree':dd.get('rank'),\n",
    "                     'start':dd.get('start_date'),\n",
    "                     'end':dd.get('end_date'),#'student_position':dd.get('position'),\n",
    "                     'advisor_name':d.get('name'),\n",
    "                     'advisor_id':d.get('profile_id')} for dd in d.get('students')],axis=1)\n",
    "LL=[item for sublist in LL for item in sublist]\n",
    "cv_df=pd.DataFrame(LL)\n",
    "cv_df=cv_df.sort_values(by=['advisor_name','end']).reset_index(drop=True)\n",
    "cv_df[:1]"
   ]
  },
  {
   "cell_type": "code",
   "execution_count": null,
   "id": "d9a9d0b6",
   "metadata": {},
   "outputs": [
    {
     "data": {
      "text/html": [
       "<div>\n",
       "<style scoped>\n",
       "    .dataframe tbody tr th:only-of-type {\n",
       "        vertical-align: middle;\n",
       "    }\n",
       "\n",
       "    .dataframe tbody tr th {\n",
       "        vertical-align: top;\n",
       "    }\n",
       "\n",
       "    .dataframe thead th {\n",
       "        text-align: right;\n",
       "    }\n",
       "</style>\n",
       "<table border=\"1\" class=\"dataframe\">\n",
       "  <thead>\n",
       "    <tr style=\"text-align: right;\">\n",
       "      <th></th>\n",
       "      <th>student_name</th>\n",
       "      <th>profile_id</th>\n",
       "      <th>degree</th>\n",
       "      <th>start</th>\n",
       "      <th>end</th>\n",
       "      <th>advisor_name</th>\n",
       "      <th>advisor_id</th>\n",
       "      <th>position</th>\n",
       "    </tr>\n",
       "  </thead>\n",
       "  <tbody>\n",
       "    <tr>\n",
       "      <th>0</th>\n",
       "      <td>Higuita Borja, Daniel Fernando</td>\n",
       "      <td>1318752</td>\n",
       "      <td>MASTER</td>\n",
       "      <td>2010</td>\n",
       "      <td>2012</td>\n",
       "      <td>Ayón-Beato, Eloy</td>\n",
       "      <td>1017802</td>\n",
       "      <td>Chile Austral U., Valdivia</td>\n",
       "    </tr>\n",
       "    <tr>\n",
       "      <th>1</th>\n",
       "      <td>Juárez-Aubry, María Montserrat</td>\n",
       "      <td>1762125</td>\n",
       "      <td>PHD</td>\n",
       "      <td>None</td>\n",
       "      <td>2014</td>\n",
       "      <td>Ayón-Beato, Eloy</td>\n",
       "      <td>1017802</td>\n",
       "      <td>Arkansas State U.</td>\n",
       "    </tr>\n",
       "    <tr>\n",
       "      <th>2</th>\n",
       "      <td>Mendez Zavaleta, Julio Alberto</td>\n",
       "      <td>1380842</td>\n",
       "      <td>PHD</td>\n",
       "      <td>2012</td>\n",
       "      <td>2016</td>\n",
       "      <td>Ayón-Beato, Eloy</td>\n",
       "      <td>1017802</td>\n",
       "      <td>Chile Austral U., Valdivia</td>\n",
       "    </tr>\n",
       "    <tr>\n",
       "      <th>3</th>\n",
       "      <td>Higuita Borja, Daniel Fernando</td>\n",
       "      <td>1318752</td>\n",
       "      <td>PHD</td>\n",
       "      <td>2013</td>\n",
       "      <td>2018</td>\n",
       "      <td>Ayón-Beato, Eloy</td>\n",
       "      <td>1017802</td>\n",
       "      <td>Chile Austral U., Valdivia</td>\n",
       "    </tr>\n",
       "    <tr>\n",
       "      <th>4</th>\n",
       "      <td>Garcia-Salcedo, Ricardo</td>\n",
       "      <td>1056392</td>\n",
       "      <td>PHD</td>\n",
       "      <td>1998</td>\n",
       "      <td>2003</td>\n",
       "      <td>Breton, Nora</td>\n",
       "      <td>1015335</td>\n",
       "      <td>CINVESTAV, IPN</td>\n",
       "    </tr>\n",
       "    <tr>\n",
       "      <th>...</th>\n",
       "      <td>...</td>\n",
       "      <td>...</td>\n",
       "      <td>...</td>\n",
       "      <td>...</td>\n",
       "      <td>...</td>\n",
       "      <td>...</td>\n",
       "      <td>...</td>\n",
       "      <td>...</td>\n",
       "    </tr>\n",
       "    <tr>\n",
       "      <th>93</th>\n",
       "      <td>Martinez-Castro, Jesus</td>\n",
       "      <td>1065485</td>\n",
       "      <td>PHD</td>\n",
       "      <td>None</td>\n",
       "      <td>None</td>\n",
       "      <td>Unkown</td>\n",
       "      <td>None</td>\n",
       "      <td>CIC, IPN</td>\n",
       "    </tr>\n",
       "    <tr>\n",
       "      <th>94</th>\n",
       "      <td>Amador Ceron, Eduardo Xavier</td>\n",
       "      <td>1069816</td>\n",
       "      <td>PHD</td>\n",
       "      <td>None</td>\n",
       "      <td>None</td>\n",
       "      <td>Unkown</td>\n",
       "      <td>None</td>\n",
       "      <td>CINVESTAV, IPN</td>\n",
       "    </tr>\n",
       "    <tr>\n",
       "      <th>95</th>\n",
       "      <td>Amador Ceron, Eduardo Xavier</td>\n",
       "      <td>1069816</td>\n",
       "      <td>UNDERGRADUATE</td>\n",
       "      <td>None</td>\n",
       "      <td>None</td>\n",
       "      <td>Unkown</td>\n",
       "      <td>None</td>\n",
       "      <td>CINVESTAV, IPN</td>\n",
       "    </tr>\n",
       "    <tr>\n",
       "      <th>96</th>\n",
       "      <td>Padilla Albores, Luis Enrique</td>\n",
       "      <td>1774079</td>\n",
       "      <td>PHD</td>\n",
       "      <td>2014</td>\n",
       "      <td>2020</td>\n",
       "      <td>Vazquez, José Alberto</td>\n",
       "      <td>1061596</td>\n",
       "      <td>Mexico U., ICN</td>\n",
       "    </tr>\n",
       "    <tr>\n",
       "      <th>97</th>\n",
       "      <td>Villasenor Cendejas, Luis Manuel</td>\n",
       "      <td>1021497</td>\n",
       "      <td>PHD</td>\n",
       "      <td>1981</td>\n",
       "      <td>1988</td>\n",
       "      <td>Zepeda, Arnulfo</td>\n",
       "      <td>1013360</td>\n",
       "      <td>IFM-UMSNH, Michoacan</td>\n",
       "    </tr>\n",
       "  </tbody>\n",
       "</table>\n",
       "<p>98 rows × 8 columns</p>\n",
       "</div>"
      ],
      "text/plain": [
       "                        student_name profile_id         degree start   end  \\\n",
       "0     Higuita Borja, Daniel Fernando    1318752         MASTER  2010  2012   \n",
       "1     Juárez-Aubry, María Montserrat    1762125            PHD  None  2014   \n",
       "2     Mendez Zavaleta, Julio Alberto    1380842            PHD  2012  2016   \n",
       "3     Higuita Borja, Daniel Fernando    1318752            PHD  2013  2018   \n",
       "4            Garcia-Salcedo, Ricardo    1056392            PHD  1998  2003   \n",
       "..                               ...        ...            ...   ...   ...   \n",
       "93            Martinez-Castro, Jesus    1065485            PHD  None  None   \n",
       "94      Amador Ceron, Eduardo Xavier    1069816            PHD  None  None   \n",
       "95      Amador Ceron, Eduardo Xavier    1069816  UNDERGRADUATE  None  None   \n",
       "96     Padilla Albores, Luis Enrique    1774079            PHD  2014  2020   \n",
       "97  Villasenor Cendejas, Luis Manuel    1021497            PHD  1981  1988   \n",
       "\n",
       "             advisor_name advisor_id                    position  \n",
       "0        Ayón-Beato, Eloy    1017802  Chile Austral U., Valdivia  \n",
       "1        Ayón-Beato, Eloy    1017802           Arkansas State U.  \n",
       "2        Ayón-Beato, Eloy    1017802  Chile Austral U., Valdivia  \n",
       "3        Ayón-Beato, Eloy    1017802  Chile Austral U., Valdivia  \n",
       "4            Breton, Nora    1015335              CINVESTAV, IPN  \n",
       "..                    ...        ...                         ...  \n",
       "93                 Unkown       None                    CIC, IPN  \n",
       "94                 Unkown       None              CINVESTAV, IPN  \n",
       "95                 Unkown       None              CINVESTAV, IPN  \n",
       "96  Vazquez, José Alberto    1061596              Mexico U., ICN  \n",
       "97        Zepeda, Arnulfo    1013360        IFM-UMSNH, Michoacan  \n",
       "\n",
       "[98 rows x 8 columns]"
      ]
     },
     "execution_count": 268,
     "metadata": {},
     "output_type": "execute_result"
    }
   ],
   "source": [
    "cv_df=cv_df.merge(df[['institution','profile_id']],on='profile_id',how='left').drop_duplicates(\n",
    "    ['student_name','degree','advisor_name']).rename(columns={'institution':'position'}).reset_index(drop=True)\n",
    "cv_df    "
   ]
  },
  {
   "cell_type": "code",
   "execution_count": null,
   "id": "f398d791",
   "metadata": {},
   "outputs": [
    {
     "data": {
      "text/html": [
       "<div>\n",
       "<style scoped>\n",
       "    .dataframe tbody tr th:only-of-type {\n",
       "        vertical-align: middle;\n",
       "    }\n",
       "\n",
       "    .dataframe tbody tr th {\n",
       "        vertical-align: top;\n",
       "    }\n",
       "\n",
       "    .dataframe thead th {\n",
       "        text-align: right;\n",
       "    }\n",
       "</style>\n",
       "<table border=\"1\" class=\"dataframe\">\n",
       "  <thead>\n",
       "    <tr style=\"text-align: right;\">\n",
       "      <th></th>\n",
       "      <th>student_name</th>\n",
       "      <th>profile_id</th>\n",
       "      <th>degree</th>\n",
       "      <th>start</th>\n",
       "      <th>end</th>\n",
       "      <th>advisor_name</th>\n",
       "      <th>advisor_id</th>\n",
       "      <th>position</th>\n",
       "    </tr>\n",
       "  </thead>\n",
       "  <tbody>\n",
       "    <tr>\n",
       "      <th>66</th>\n",
       "      <td>Miranda Hernández, Jesús Alejandro</td>\n",
       "      <td>1827003</td>\n",
       "      <td>PHD</td>\n",
       "      <td>2018</td>\n",
       "      <td>2022</td>\n",
       "      <td>Roig Garces, Pablo</td>\n",
       "      <td>1049577</td>\n",
       "      <td>CINVESTAV, IPN</td>\n",
       "    </tr>\n",
       "  </tbody>\n",
       "</table>\n",
       "</div>"
      ],
      "text/plain": [
       "                          student_name profile_id degree start   end  \\\n",
       "66  Miranda Hernández, Jesús Alejandro    1827003    PHD  2018  2022   \n",
       "\n",
       "          advisor_name advisor_id        position  \n",
       "66  Roig Garces, Pablo    1049577  CINVESTAV, IPN  "
      ]
     },
     "execution_count": 269,
     "metadata": {},
     "output_type": "execute_result"
    }
   ],
   "source": [
    "cv_df[cv_df['advisor_name'].str.contains('Roig')]"
   ]
  },
  {
   "cell_type": "code",
   "execution_count": null,
   "id": "7e980706",
   "metadata": {},
   "outputs": [],
   "source": [
    "cv_df.to_csv('data/cinvestav.csv',index=False)"
   ]
  },
  {
   "cell_type": "code",
   "execution_count": null,
   "id": "24876a5e",
   "metadata": {},
   "outputs": [
    {
     "data": {
      "text/html": [
       "<div>\n",
       "<style scoped>\n",
       "    .dataframe tbody tr th:only-of-type {\n",
       "        vertical-align: middle;\n",
       "    }\n",
       "\n",
       "    .dataframe tbody tr th {\n",
       "        vertical-align: top;\n",
       "    }\n",
       "\n",
       "    .dataframe thead th {\n",
       "        text-align: right;\n",
       "    }\n",
       "</style>\n",
       "<table border=\"1\" class=\"dataframe\">\n",
       "  <thead>\n",
       "    <tr style=\"text-align: right;\">\n",
       "      <th></th>\n",
       "      <th>student_name</th>\n",
       "      <th>profile_id</th>\n",
       "      <th>degree</th>\n",
       "      <th>start</th>\n",
       "      <th>end</th>\n",
       "      <th>advisor_name</th>\n",
       "      <th>advisor_id</th>\n",
       "      <th>position</th>\n",
       "    </tr>\n",
       "  </thead>\n",
       "  <tbody>\n",
       "    <tr>\n",
       "      <th>97</th>\n",
       "      <td>Villasenor Cendejas, Luis Manuel</td>\n",
       "      <td>1021497</td>\n",
       "      <td>PHD</td>\n",
       "      <td>1981</td>\n",
       "      <td>1988</td>\n",
       "      <td>Zepeda, Arnulfo</td>\n",
       "      <td>1013360</td>\n",
       "      <td>IFM-UMSNH, Michoacan</td>\n",
       "    </tr>\n",
       "  </tbody>\n",
       "</table>\n",
       "</div>"
      ],
      "text/plain": [
       "                        student_name profile_id degree start   end  \\\n",
       "97  Villasenor Cendejas, Luis Manuel    1021497    PHD  1981  1988   \n",
       "\n",
       "       advisor_name advisor_id              position  \n",
       "97  Zepeda, Arnulfo    1013360  IFM-UMSNH, Michoacan  "
      ]
     },
     "execution_count": 258,
     "metadata": {},
     "output_type": "execute_result"
    }
   ],
   "source": [
    "cv_df[cv_df['advisor_name'].str.contains('Zepeda')]"
   ]
  },
  {
   "cell_type": "markdown",
   "id": "66e729e7",
   "metadata": {
    "jp-MarkdownHeadingCollapsed": true,
    "tags": []
   },
   "source": [
    "## Get all the institutions from INSPIREHEP"
   ]
  },
  {
   "cell_type": "code",
   "execution_count": 34,
   "id": "0ec2100a",
   "metadata": {},
   "outputs": [],
   "source": [
    "# united states, england, germany, france, italy, china, spain, japan, korea\n",
    "# Missing: Caltech; Princeton U.; Valencia U., IFIC; Oxford U.; Cambridge U., DAMTP; Aachen, Tech. Hochsch.; Humboldt U., Berlin; DESY; CERN; Fermilab; SLAC; Heidelberg U.\n",
    "# Munich, Max Planck Inst.; Hamburg U.; Mainz U., Inst. Phys.; Frankfurt U.; Munich, Tech. U.; Imperial Coll., London; INFN, Turin; INFN, Rome; SISSA, Trieste; Rome U.; \n",
    "# Frascati; ICTP, Trieste; Turin U.\n",
    "def get_institutions(q):\n",
    "    page=1\n",
    "    if q:\n",
    "        url=f'https://inspirehep.net/api/institutions?q={q}&size=250&page={page}'\n",
    "    else:\n",
    "        url=f'https://inspirehep.net/api/institutions?size=250&page={page}' \n",
    "    r=requests.get(url)\n",
    "    time.sleep(sleep)\n",
    "    i=r.json()['hits']['hits']\n",
    "    total=r.json().get('hits').get('total')\n",
    "    if not page or page==1:\n",
    "        ins=[d.get('metadata') for d in i]\n",
    "    j=page\n",
    "    next=r.json().get('links').get('next')\n",
    "    while next:\n",
    "        print(j)\n",
    "        r=requests.get(next)\n",
    "        time.sleep(sleep)\n",
    "        try:\n",
    "            i=r.json()['hits']['hits']\n",
    "        except:\n",
    "            i=[]\n",
    "        ins.extend([d.get('metadata') for d in i])\n",
    "        try:\n",
    "            next=r.json().get('links').get('next')\n",
    "        except:\n",
    "            next=None\n",
    "        j+=1\n",
    "        if j > total//250:\n",
    "            break\n",
    "    return ins\n",
    "\n"
   ]
  },
  {
   "cell_type": "code",
   "execution_count": 35,
   "id": "51c3cab8",
   "metadata": {},
   "outputs": [
    {
     "name": "stdout",
     "output_type": "stream",
     "text": [
      "\n",
      "1\n",
      "2\n",
      "3\n",
      "4\n",
      "5\n",
      "6\n",
      "7\n",
      "8\n",
      "9\n",
      "10\n",
      "11\n",
      "12\n",
      "13\n",
      "14\n",
      "15\n",
      "16\n",
      "17\n",
      "18\n",
      "19\n",
      "20\n",
      "21\n",
      "22\n",
      "23\n",
      "24\n",
      "25\n",
      "26\n",
      "27\n",
      "28\n",
      "29\n",
      "30\n",
      "31\n",
      "32\n",
      "33\n",
      "34\n",
      "35\n",
      "36\n",
      "37\n",
      "38\n",
      "39\n",
      "40\n",
      "9500\n",
      "u\n",
      "1\n",
      "2\n",
      "3\n",
      "4\n",
      "5\n",
      "6\n",
      "7\n",
      "8\n",
      "9\n",
      "10\n",
      "11\n",
      "12\n",
      "13\n",
      "14\n",
      "15\n",
      "16\n",
      "17\n",
      "18\n",
      "10701\n",
      "england\n",
      "10722\n",
      "germany\n",
      "1\n",
      "2\n",
      "10778\n",
      "france\n",
      "1\n",
      "2\n",
      "10886\n",
      "italy\n",
      "1\n",
      "10987\n",
      "spain\n",
      "11019\n",
      "korea\n",
      "11034\n",
      "china\n",
      "1\n",
      "2\n",
      "3\n",
      "11108\n",
      "japan\n",
      "1\n",
      "2\n",
      "3\n",
      "4\n",
      "11193\n",
      "united states\n",
      "1\n",
      "2\n",
      "3\n",
      "4\n",
      "5\n",
      "6\n",
      "7\n",
      "8\n",
      "9\n",
      "10\n",
      "11\n",
      "11442\n",
      "russia\n",
      "1\n",
      "11499\n",
      "brazil\n",
      "11509\n"
     ]
    }
   ],
   "source": [
    "kk=[]\n",
    "for q in ['','u','england','germany','france','italy','spain','korea','china','japan','united states',\n",
    "    'russia','brazil']:\n",
    "    print(q)\n",
    "    ins=get_institutions(q)\n",
    "    for d in ins:\n",
    "        if d not in kk:\n",
    "            kk.append(d)\n",
    "    print(len(kk))\n",
    "    if len(kk)>11835:\n",
    "        break            \n"
   ]
  },
  {
   "cell_type": "code",
   "execution_count": 40,
   "id": "b3a719ef",
   "metadata": {},
   "outputs": [],
   "source": [
    "ins=kk.copy()"
   ]
  },
  {
   "cell_type": "code",
   "execution_count": 37,
   "id": "6eb23742",
   "metadata": {},
   "outputs": [],
   "source": [
    "f=open('data/inspire_institutions.json','r')\n",
    "old=json.load(f)\n",
    "f.close()"
   ]
  },
  {
   "cell_type": "code",
   "execution_count": 41,
   "id": "9fdd4ef3",
   "metadata": {},
   "outputs": [],
   "source": [
    "for d in old:\n",
    "    if d not in kk:\n",
    "        kk.append(d)"
   ]
  },
  {
   "cell_type": "code",
   "execution_count": 50,
   "id": "b0561659",
   "metadata": {},
   "outputs": [],
   "source": [
    "cn=[d.get('control_number') for d in kk]"
   ]
  },
  {
   "cell_type": "code",
   "execution_count": 51,
   "id": "e7f9cbd6",
   "metadata": {},
   "outputs": [
    {
     "data": {
      "text/plain": [
       "430"
      ]
     },
     "execution_count": 51,
     "metadata": {},
     "output_type": "execute_result"
    }
   ],
   "source": [
    "duplicates=list(set([x for x in cn if cn.count(x)>1]))\n",
    "len(duplicates)\n"
   ]
  },
  {
   "cell_type": "code",
   "execution_count": 46,
   "id": "a0a64d1c",
   "metadata": {},
   "outputs": [
    {
     "data": {
      "text/plain": [
       "11621"
      ]
     },
     "execution_count": 46,
     "metadata": {},
     "output_type": "execute_result"
    }
   ],
   "source": [
    "len(set([d.get('control_number') for d in kk]))"
   ]
  },
  {
   "cell_type": "code",
   "execution_count": 58,
   "id": "712bd79d",
   "metadata": {},
   "outputs": [],
   "source": [
    "ins=[]\n",
    "for d in kk:\n",
    "    if d.get('control_number') not in duplicates:\n",
    "        ins.append(d)"
   ]
  },
  {
   "cell_type": "code",
   "execution_count": 59,
   "id": "0c0c33ea",
   "metadata": {},
   "outputs": [],
   "source": [
    "for cn in duplicates:\n",
    "    ins.append( [d for d in  kk if d.get('control_number')==cn][-1] )"
   ]
  },
  {
   "cell_type": "code",
   "execution_count": 60,
   "id": "e0098a44",
   "metadata": {},
   "outputs": [
    {
     "data": {
      "text/plain": [
       "11621"
      ]
     },
     "execution_count": 60,
     "metadata": {},
     "output_type": "execute_result"
    }
   ],
   "source": [
    "len(ins)"
   ]
  },
  {
   "cell_type": "code",
   "execution_count": 68,
   "id": "f081221a",
   "metadata": {},
   "outputs": [],
   "source": [
    "kk=ins.copy()"
   ]
  },
  {
   "cell_type": "code",
   "execution_count": 69,
   "id": "6652b4b8",
   "metadata": {},
   "outputs": [],
   "source": [
    "f=open('data/inspire_institutions.json','w')\n",
    "json.dump(kk,f)\n",
    "f.close()"
   ]
  },
  {
   "cell_type": "code",
   "execution_count": 70,
   "id": "9f309703",
   "metadata": {},
   "outputs": [],
   "source": [
    "dfi=pd.DataFrame(kk)\n",
    "dfi=dfi.sort_values('number_of_papers', ascending=False).reset_index(drop=True)"
   ]
  },
  {
   "cell_type": "code",
   "execution_count": 71,
   "id": "da5e473a",
   "metadata": {},
   "outputs": [],
   "source": [
    "def not_cn(name,sleep=0.4):\n",
    "    url=f'https://inspirehep.net/api/literature?q=aff+{name}+and+ac+1->10&size=1'\n",
    "    r=requests.get(url)\n",
    "    time.sleep(sleep)\n",
    "    try:\n",
    "        total=r.json().get('hits').get('total')\n",
    "    except:\n",
    "        total=None\n",
    "    return total"
   ]
  },
  {
   "cell_type": "code",
   "execution_count": 72,
   "id": "afdc3c39",
   "metadata": {},
   "outputs": [],
   "source": [
    "dfi['number_of_not_cn_papers']=dfi.legacy_ICN.apply(not_cn)"
   ]
  },
  {
   "cell_type": "code",
   "execution_count": 73,
   "id": "359540a3",
   "metadata": {},
   "outputs": [],
   "source": [
    "dfi['number_of_not_cn_papers']=dfi.number_of_not_cn_papers.fillna(-1).astype(int)"
   ]
  },
  {
   "cell_type": "code",
   "execution_count": 74,
   "id": "ac27a187",
   "metadata": {},
   "outputs": [
    {
     "data": {
      "text/html": [
       "<div>\n",
       "<style scoped>\n",
       "    .dataframe tbody tr th:only-of-type {\n",
       "        vertical-align: middle;\n",
       "    }\n",
       "\n",
       "    .dataframe tbody tr th {\n",
       "        vertical-align: top;\n",
       "    }\n",
       "\n",
       "    .dataframe thead th {\n",
       "        text-align: right;\n",
       "    }\n",
       "</style>\n",
       "<table border=\"1\" class=\"dataframe\">\n",
       "  <thead>\n",
       "    <tr style=\"text-align: right;\">\n",
       "      <th></th>\n",
       "      <th>legacy_ICN</th>\n",
       "      <th>number_of_not_cn_papers</th>\n",
       "      <th>number_of_papers</th>\n",
       "    </tr>\n",
       "  </thead>\n",
       "  <tbody>\n",
       "    <tr>\n",
       "      <th>0</th>\n",
       "      <td>CERN</td>\n",
       "      <td>51762</td>\n",
       "      <td>70745</td>\n",
       "    </tr>\n",
       "    <tr>\n",
       "      <th>1</th>\n",
       "      <td>Fermilab</td>\n",
       "      <td>22039</td>\n",
       "      <td>35249</td>\n",
       "    </tr>\n",
       "    <tr>\n",
       "      <th>2</th>\n",
       "      <td>SLAC</td>\n",
       "      <td>18386</td>\n",
       "      <td>25303</td>\n",
       "    </tr>\n",
       "    <tr>\n",
       "      <th>3</th>\n",
       "      <td>Brookhaven</td>\n",
       "      <td>15711</td>\n",
       "      <td>22932</td>\n",
       "    </tr>\n",
       "    <tr>\n",
       "      <th>4</th>\n",
       "      <td>LBL, Berkeley</td>\n",
       "      <td>15152</td>\n",
       "      <td>24309</td>\n",
       "    </tr>\n",
       "    <tr>\n",
       "      <th>5</th>\n",
       "      <td>DESY</td>\n",
       "      <td>12933</td>\n",
       "      <td>19280</td>\n",
       "    </tr>\n",
       "    <tr>\n",
       "      <th>6</th>\n",
       "      <td>KEK, Tsukuba</td>\n",
       "      <td>12494</td>\n",
       "      <td>20330</td>\n",
       "    </tr>\n",
       "    <tr>\n",
       "      <th>7</th>\n",
       "      <td>Los Alamos</td>\n",
       "      <td>10149</td>\n",
       "      <td>13939</td>\n",
       "    </tr>\n",
       "    <tr>\n",
       "      <th>8</th>\n",
       "      <td>Caltech</td>\n",
       "      <td>8744</td>\n",
       "      <td>15051</td>\n",
       "    </tr>\n",
       "    <tr>\n",
       "      <th>9</th>\n",
       "      <td>Munich, Max Planck Inst.</td>\n",
       "      <td>8013</td>\n",
       "      <td>12765</td>\n",
       "    </tr>\n",
       "    <tr>\n",
       "      <th>10</th>\n",
       "      <td>Maryland U.</td>\n",
       "      <td>7936</td>\n",
       "      <td>13782</td>\n",
       "    </tr>\n",
       "    <tr>\n",
       "      <th>11</th>\n",
       "      <td>Beijing, Inst. High Energy Phys.</td>\n",
       "      <td>7721</td>\n",
       "      <td>14766</td>\n",
       "    </tr>\n",
       "    <tr>\n",
       "      <th>12</th>\n",
       "      <td>UC, Berkeley</td>\n",
       "      <td>7662</td>\n",
       "      <td>11991</td>\n",
       "    </tr>\n",
       "    <tr>\n",
       "      <th>13</th>\n",
       "      <td>Argonne</td>\n",
       "      <td>7495</td>\n",
       "      <td>13146</td>\n",
       "    </tr>\n",
       "    <tr>\n",
       "      <th>14</th>\n",
       "      <td>ICTP, Trieste</td>\n",
       "      <td>7397</td>\n",
       "      <td>8674</td>\n",
       "    </tr>\n",
       "    <tr>\n",
       "      <th>15</th>\n",
       "      <td>Oxford U.</td>\n",
       "      <td>7273</td>\n",
       "      <td>13469</td>\n",
       "    </tr>\n",
       "    <tr>\n",
       "      <th>16</th>\n",
       "      <td>SUNY, Stony Brook</td>\n",
       "      <td>7263</td>\n",
       "      <td>11322</td>\n",
       "    </tr>\n",
       "    <tr>\n",
       "      <th>17</th>\n",
       "      <td>Rome U.</td>\n",
       "      <td>7142</td>\n",
       "      <td>15282</td>\n",
       "    </tr>\n",
       "    <tr>\n",
       "      <th>18</th>\n",
       "      <td>Tokyo U.</td>\n",
       "      <td>7048</td>\n",
       "      <td>11818</td>\n",
       "    </tr>\n",
       "    <tr>\n",
       "      <th>19</th>\n",
       "      <td>Princeton U.</td>\n",
       "      <td>6955</td>\n",
       "      <td>11641</td>\n",
       "    </tr>\n",
       "    <tr>\n",
       "      <th>20</th>\n",
       "      <td>Moscow State U.</td>\n",
       "      <td>6685</td>\n",
       "      <td>11040</td>\n",
       "    </tr>\n",
       "    <tr>\n",
       "      <th>21</th>\n",
       "      <td>Imperial Coll., London</td>\n",
       "      <td>6476</td>\n",
       "      <td>12041</td>\n",
       "    </tr>\n",
       "    <tr>\n",
       "      <th>22</th>\n",
       "      <td>Princeton, Inst. Advanced Study</td>\n",
       "      <td>6348</td>\n",
       "      <td>6668</td>\n",
       "    </tr>\n",
       "    <tr>\n",
       "      <th>23</th>\n",
       "      <td>Harvard U.</td>\n",
       "      <td>6222</td>\n",
       "      <td>9517</td>\n",
       "    </tr>\n",
       "    <tr>\n",
       "      <th>24</th>\n",
       "      <td>MIT, LNS</td>\n",
       "      <td>6171</td>\n",
       "      <td>8576</td>\n",
       "    </tr>\n",
       "    <tr>\n",
       "      <th>25</th>\n",
       "      <td>UCLA</td>\n",
       "      <td>6076</td>\n",
       "      <td>11961</td>\n",
       "    </tr>\n",
       "    <tr>\n",
       "      <th>26</th>\n",
       "      <td>Saclay</td>\n",
       "      <td>6058</td>\n",
       "      <td>8694</td>\n",
       "    </tr>\n",
       "    <tr>\n",
       "      <th>27</th>\n",
       "      <td>SISSA, Trieste</td>\n",
       "      <td>5987</td>\n",
       "      <td>6825</td>\n",
       "    </tr>\n",
       "    <tr>\n",
       "      <th>28</th>\n",
       "      <td>Wisconsin U., Madison</td>\n",
       "      <td>5963</td>\n",
       "      <td>13260</td>\n",
       "    </tr>\n",
       "    <tr>\n",
       "      <th>29</th>\n",
       "      <td>Washington U., Seattle</td>\n",
       "      <td>5647</td>\n",
       "      <td>9523</td>\n",
       "    </tr>\n",
       "    <tr>\n",
       "      <th>30</th>\n",
       "      <td>INFN, Rome</td>\n",
       "      <td>5623</td>\n",
       "      <td>15373</td>\n",
       "    </tr>\n",
       "    <tr>\n",
       "      <th>31</th>\n",
       "      <td>Frascati</td>\n",
       "      <td>5590</td>\n",
       "      <td>15628</td>\n",
       "    </tr>\n",
       "    <tr>\n",
       "      <th>32</th>\n",
       "      <td>Heidelberg U.</td>\n",
       "      <td>5569</td>\n",
       "      <td>11155</td>\n",
       "    </tr>\n",
       "    <tr>\n",
       "      <th>33</th>\n",
       "      <td>Jefferson Lab</td>\n",
       "      <td>5402</td>\n",
       "      <td>7095</td>\n",
       "    </tr>\n",
       "    <tr>\n",
       "      <th>34</th>\n",
       "      <td>Kyoto U.</td>\n",
       "      <td>5384</td>\n",
       "      <td>8819</td>\n",
       "    </tr>\n",
       "    <tr>\n",
       "      <th>35</th>\n",
       "      <td>INFN, Turin</td>\n",
       "      <td>5311</td>\n",
       "      <td>12249</td>\n",
       "    </tr>\n",
       "    <tr>\n",
       "      <th>36</th>\n",
       "      <td>Beijing, Inst. Theor. Phys.</td>\n",
       "      <td>5257</td>\n",
       "      <td>5432</td>\n",
       "    </tr>\n",
       "    <tr>\n",
       "      <th>37</th>\n",
       "      <td>Cambridge U.</td>\n",
       "      <td>5240</td>\n",
       "      <td>8518</td>\n",
       "    </tr>\n",
       "    <tr>\n",
       "      <th>38</th>\n",
       "      <td>Bonn U.</td>\n",
       "      <td>5163</td>\n",
       "      <td>8861</td>\n",
       "    </tr>\n",
       "    <tr>\n",
       "      <th>39</th>\n",
       "      <td>Turin U.</td>\n",
       "      <td>5155</td>\n",
       "      <td>11842</td>\n",
       "    </tr>\n",
       "    <tr>\n",
       "      <th>40</th>\n",
       "      <td>Hamburg U.</td>\n",
       "      <td>5098</td>\n",
       "      <td>10043</td>\n",
       "    </tr>\n",
       "    <tr>\n",
       "      <th>41</th>\n",
       "      <td>Darmstadt, GSI</td>\n",
       "      <td>5095</td>\n",
       "      <td>8622</td>\n",
       "    </tr>\n",
       "    <tr>\n",
       "      <th>42</th>\n",
       "      <td>Valencia U., IFIC</td>\n",
       "      <td>5068</td>\n",
       "      <td>8712</td>\n",
       "    </tr>\n",
       "    <tr>\n",
       "      <th>43</th>\n",
       "      <td>INFN, Pisa</td>\n",
       "      <td>4795</td>\n",
       "      <td>12159</td>\n",
       "    </tr>\n",
       "    <tr>\n",
       "      <th>44</th>\n",
       "      <td>Cambridge U., DAMTP</td>\n",
       "      <td>4767</td>\n",
       "      <td>5075</td>\n",
       "    </tr>\n",
       "    <tr>\n",
       "      <th>45</th>\n",
       "      <td>Munich, Tech. U.</td>\n",
       "      <td>4763</td>\n",
       "      <td>7107</td>\n",
       "    </tr>\n",
       "    <tr>\n",
       "      <th>46</th>\n",
       "      <td>INFN, Trieste</td>\n",
       "      <td>4725</td>\n",
       "      <td>10739</td>\n",
       "    </tr>\n",
       "    <tr>\n",
       "      <th>47</th>\n",
       "      <td>Sao Paulo U.</td>\n",
       "      <td>4690</td>\n",
       "      <td>7481</td>\n",
       "    </tr>\n",
       "    <tr>\n",
       "      <th>48</th>\n",
       "      <td>Frankfurt U.</td>\n",
       "      <td>4646</td>\n",
       "      <td>6012</td>\n",
       "    </tr>\n",
       "    <tr>\n",
       "      <th>49</th>\n",
       "      <td>Kyoto U., Yukawa Inst., Kyoto</td>\n",
       "      <td>4615</td>\n",
       "      <td>4853</td>\n",
       "    </tr>\n",
       "  </tbody>\n",
       "</table>\n",
       "</div>"
      ],
      "text/plain": [
       "                          legacy_ICN  number_of_not_cn_papers  \\\n",
       "0                               CERN                    51762   \n",
       "1                           Fermilab                    22039   \n",
       "2                               SLAC                    18386   \n",
       "3                         Brookhaven                    15711   \n",
       "4                      LBL, Berkeley                    15152   \n",
       "5                               DESY                    12933   \n",
       "6                       KEK, Tsukuba                    12494   \n",
       "7                         Los Alamos                    10149   \n",
       "8                            Caltech                     8744   \n",
       "9           Munich, Max Planck Inst.                     8013   \n",
       "10                       Maryland U.                     7936   \n",
       "11  Beijing, Inst. High Energy Phys.                     7721   \n",
       "12                      UC, Berkeley                     7662   \n",
       "13                           Argonne                     7495   \n",
       "14                     ICTP, Trieste                     7397   \n",
       "15                         Oxford U.                     7273   \n",
       "16                 SUNY, Stony Brook                     7263   \n",
       "17                           Rome U.                     7142   \n",
       "18                          Tokyo U.                     7048   \n",
       "19                      Princeton U.                     6955   \n",
       "20                   Moscow State U.                     6685   \n",
       "21            Imperial Coll., London                     6476   \n",
       "22   Princeton, Inst. Advanced Study                     6348   \n",
       "23                        Harvard U.                     6222   \n",
       "24                          MIT, LNS                     6171   \n",
       "25                              UCLA                     6076   \n",
       "26                            Saclay                     6058   \n",
       "27                    SISSA, Trieste                     5987   \n",
       "28             Wisconsin U., Madison                     5963   \n",
       "29            Washington U., Seattle                     5647   \n",
       "30                        INFN, Rome                     5623   \n",
       "31                          Frascati                     5590   \n",
       "32                     Heidelberg U.                     5569   \n",
       "33                     Jefferson Lab                     5402   \n",
       "34                          Kyoto U.                     5384   \n",
       "35                       INFN, Turin                     5311   \n",
       "36       Beijing, Inst. Theor. Phys.                     5257   \n",
       "37                      Cambridge U.                     5240   \n",
       "38                           Bonn U.                     5163   \n",
       "39                          Turin U.                     5155   \n",
       "40                        Hamburg U.                     5098   \n",
       "41                    Darmstadt, GSI                     5095   \n",
       "42                 Valencia U., IFIC                     5068   \n",
       "43                        INFN, Pisa                     4795   \n",
       "44               Cambridge U., DAMTP                     4767   \n",
       "45                  Munich, Tech. U.                     4763   \n",
       "46                     INFN, Trieste                     4725   \n",
       "47                      Sao Paulo U.                     4690   \n",
       "48                      Frankfurt U.                     4646   \n",
       "49     Kyoto U., Yukawa Inst., Kyoto                     4615   \n",
       "\n",
       "    number_of_papers  \n",
       "0              70745  \n",
       "1              35249  \n",
       "2              25303  \n",
       "3              22932  \n",
       "4              24309  \n",
       "5              19280  \n",
       "6              20330  \n",
       "7              13939  \n",
       "8              15051  \n",
       "9              12765  \n",
       "10             13782  \n",
       "11             14766  \n",
       "12             11991  \n",
       "13             13146  \n",
       "14              8674  \n",
       "15             13469  \n",
       "16             11322  \n",
       "17             15282  \n",
       "18             11818  \n",
       "19             11641  \n",
       "20             11040  \n",
       "21             12041  \n",
       "22              6668  \n",
       "23              9517  \n",
       "24              8576  \n",
       "25             11961  \n",
       "26              8694  \n",
       "27              6825  \n",
       "28             13260  \n",
       "29              9523  \n",
       "30             15373  \n",
       "31             15628  \n",
       "32             11155  \n",
       "33              7095  \n",
       "34              8819  \n",
       "35             12249  \n",
       "36              5432  \n",
       "37              8518  \n",
       "38              8861  \n",
       "39             11842  \n",
       "40             10043  \n",
       "41              8622  \n",
       "42              8712  \n",
       "43             12159  \n",
       "44              5075  \n",
       "45              7107  \n",
       "46             10739  \n",
       "47              7481  \n",
       "48              6012  \n",
       "49              4853  "
      ]
     },
     "execution_count": 74,
     "metadata": {},
     "output_type": "execute_result"
    }
   ],
   "source": [
    "dfi.sort_values(['number_of_not_cn_papers','number_of_papers'], ascending=False)[['legacy_ICN','number_of_not_cn_papers','number_of_papers']][0:50].reset_index(drop=True)#.to_csv('kk.csv',index=False)"
   ]
  },
  {
   "cell_type": "code",
   "execution_count": 77,
   "id": "90bc53ea",
   "metadata": {},
   "outputs": [
    {
     "data": {
      "text/plain": [
       "101"
      ]
     },
     "execution_count": 77,
     "metadata": {},
     "output_type": "execute_result"
    }
   ],
   "source": [
    "control_number=917747\n",
    "dfi[dfi['control_number']==control_number].iloc[0].number_of_not_cn_papers"
   ]
  },
  {
   "cell_type": "code",
   "execution_count": 94,
   "id": "23af08f4",
   "metadata": {},
   "outputs": [],
   "source": [
    "for d in ins:\n",
    "    d['number_of_not_cn_papers']=int(dfi[dfi['control_number']==d.get('control_number')].iloc[0].number_of_not_cn_papers)"
   ]
  },
  {
   "cell_type": "code",
   "execution_count": 98,
   "id": "02e6f448",
   "metadata": {},
   "outputs": [],
   "source": [
    "f=open('data/inspire_institutions.json','w')\n",
    "json.dump(ins,f)\n",
    "f.close()"
   ]
  },
  {
   "cell_type": "code",
   "execution_count": 125,
   "id": "b9d18a23",
   "metadata": {},
   "outputs": [
    {
     "data": {
      "text/html": [
       "<div>\n",
       "<style scoped>\n",
       "    .dataframe tbody tr th:only-of-type {\n",
       "        vertical-align: middle;\n",
       "    }\n",
       "\n",
       "    .dataframe tbody tr th {\n",
       "        vertical-align: top;\n",
       "    }\n",
       "\n",
       "    .dataframe thead th {\n",
       "        text-align: right;\n",
       "    }\n",
       "</style>\n",
       "<table border=\"1\" class=\"dataframe\">\n",
       "  <thead>\n",
       "    <tr style=\"text-align: right;\">\n",
       "      <th></th>\n",
       "      <th>number_of_papers</th>\n",
       "      <th>addresses</th>\n",
       "      <th>ICN</th>\n",
       "      <th>core</th>\n",
       "      <th>self</th>\n",
       "      <th>urls</th>\n",
       "      <th>$schema</th>\n",
       "      <th>legacy_ICN</th>\n",
       "      <th>control_number</th>\n",
       "      <th>legacy_version</th>\n",
       "      <th>...</th>\n",
       "      <th>external_system_identifiers</th>\n",
       "      <th>extra_words</th>\n",
       "      <th>related_records</th>\n",
       "      <th>public_notes</th>\n",
       "      <th>name_variants</th>\n",
       "      <th>deleted_records</th>\n",
       "      <th>inspire_categories</th>\n",
       "      <th>historical_data</th>\n",
       "      <th>inactive</th>\n",
       "      <th>new_record</th>\n",
       "    </tr>\n",
       "  </thead>\n",
       "  <tbody>\n",
       "    <tr>\n",
       "      <th>21</th>\n",
       "      <td>142</td>\n",
       "      <td>[{'cities': ['Valencia'], 'latitude': 39.47811...</td>\n",
       "      <td>[U. Valencia]</td>\n",
       "      <td>NaN</td>\n",
       "      <td>{'$ref': 'https://inspirehep.net/api/instituti...</td>\n",
       "      <td>[{'value': 'http://www.uv.es/'}]</td>\n",
       "      <td>https://inspirehep.net/schemas/records/institu...</td>\n",
       "      <td>U. Valencia (main)</td>\n",
       "      <td>917747</td>\n",
       "      <td>20161021230226.0</td>\n",
       "      <td>...</td>\n",
       "      <td>NaN</td>\n",
       "      <td>[Univ.]</td>\n",
       "      <td>NaN</td>\n",
       "      <td>NaN</td>\n",
       "      <td>[{'value': 'University of Valencia'}]</td>\n",
       "      <td>NaN</td>\n",
       "      <td>NaN</td>\n",
       "      <td>NaN</td>\n",
       "      <td>NaN</td>\n",
       "      <td>NaN</td>\n",
       "    </tr>\n",
       "    <tr>\n",
       "      <th>3536</th>\n",
       "      <td>2</td>\n",
       "      <td>[{'state': 'CA', 'cities': ['Valencia'], 'lati...</td>\n",
       "      <td>NaN</td>\n",
       "      <td>NaN</td>\n",
       "      <td>{'$ref': 'https://inspirehep.net/api/instituti...</td>\n",
       "      <td>NaN</td>\n",
       "      <td>https://inspirehep.net/schemas/records/institu...</td>\n",
       "      <td>Kelly Johnson, Valencia</td>\n",
       "      <td>906045</td>\n",
       "      <td>20161012160154.0</td>\n",
       "      <td>...</td>\n",
       "      <td>[{'value': 'INST-42552', 'schema': 'SPIRES'}]</td>\n",
       "      <td>[California, research center]</td>\n",
       "      <td>NaN</td>\n",
       "      <td>NaN</td>\n",
       "      <td>NaN</td>\n",
       "      <td>NaN</td>\n",
       "      <td>NaN</td>\n",
       "      <td>NaN</td>\n",
       "      <td>NaN</td>\n",
       "      <td>NaN</td>\n",
       "    </tr>\n",
       "    <tr>\n",
       "      <th>5170</th>\n",
       "      <td>62</td>\n",
       "      <td>[{'cities': ['Burjassot'], 'country_code': 'ES...</td>\n",
       "      <td>NaN</td>\n",
       "      <td>NaN</td>\n",
       "      <td>{'$ref': 'https://inspirehep.net/api/instituti...</td>\n",
       "      <td>[{'value': 'http://www.uv.es/~webuv/ingles/ind...</td>\n",
       "      <td>https://inspirehep.net/schemas/records/institu...</td>\n",
       "      <td>Valencia U., Observ.</td>\n",
       "      <td>908764</td>\n",
       "      <td>20130819034633.0</td>\n",
       "      <td>...</td>\n",
       "      <td>[{'value': 'INST-74314', 'schema': 'SPIRES'}]</td>\n",
       "      <td>[Univ., University, Observatory]</td>\n",
       "      <td>NaN</td>\n",
       "      <td>NaN</td>\n",
       "      <td>NaN</td>\n",
       "      <td>NaN</td>\n",
       "      <td>NaN</td>\n",
       "      <td>NaN</td>\n",
       "      <td>NaN</td>\n",
       "      <td>NaN</td>\n",
       "    </tr>\n",
       "    <tr>\n",
       "      <th>7401</th>\n",
       "      <td>33</td>\n",
       "      <td>[{'cities': ['Valencia'], 'country_code': 'ES'...</td>\n",
       "      <td>NaN</td>\n",
       "      <td>NaN</td>\n",
       "      <td>{'$ref': 'https://inspirehep.net/api/instituti...</td>\n",
       "      <td>[{'value': 'http://centros.uv.es/web/departame...</td>\n",
       "      <td>https://inspirehep.net/schemas/records/institu...</td>\n",
       "      <td>Valencia U., Math. Dept.</td>\n",
       "      <td>909221</td>\n",
       "      <td>20130819034656.0</td>\n",
       "      <td>...</td>\n",
       "      <td>[{'value': 'INST-79278', 'schema': 'SPIRES'}]</td>\n",
       "      <td>[Univ., University, Mathematics, department, M...</td>\n",
       "      <td>NaN</td>\n",
       "      <td>NaN</td>\n",
       "      <td>NaN</td>\n",
       "      <td>NaN</td>\n",
       "      <td>NaN</td>\n",
       "      <td>NaN</td>\n",
       "      <td>NaN</td>\n",
       "      <td>NaN</td>\n",
       "    </tr>\n",
       "    <tr>\n",
       "      <th>8395</th>\n",
       "      <td>4</td>\n",
       "      <td>[{'cities': ['Valencia'], 'latitude': 39.47678...</td>\n",
       "      <td>NaN</td>\n",
       "      <td>False</td>\n",
       "      <td>{'$ref': 'https://inspirehep.net/api/instituti...</td>\n",
       "      <td>[{'value': 'https://www.ucv.es/'}]</td>\n",
       "      <td>https://inspirehep.net/schemas/records/institu...</td>\n",
       "      <td>Catholic U. Valencia</td>\n",
       "      <td>943244</td>\n",
       "      <td>20161023033453.0</td>\n",
       "      <td>...</td>\n",
       "      <td>NaN</td>\n",
       "      <td>NaN</td>\n",
       "      <td>NaN</td>\n",
       "      <td>NaN</td>\n",
       "      <td>NaN</td>\n",
       "      <td>NaN</td>\n",
       "      <td>NaN</td>\n",
       "      <td>NaN</td>\n",
       "      <td>NaN</td>\n",
       "      <td>NaN</td>\n",
       "    </tr>\n",
       "    <tr>\n",
       "      <th>8594</th>\n",
       "      <td>36</td>\n",
       "      <td>[{'cities': ['Valencia'], 'country_code': 'ES'...</td>\n",
       "      <td>NaN</td>\n",
       "      <td>NaN</td>\n",
       "      <td>{'$ref': 'https://inspirehep.net/api/instituti...</td>\n",
       "      <td>[{'value': 'http://www.uv.es/die'}]</td>\n",
       "      <td>https://inspirehep.net/schemas/records/institu...</td>\n",
       "      <td>Valencia U., Dept. Ing. Electronica</td>\n",
       "      <td>911986</td>\n",
       "      <td>20130819034827.0</td>\n",
       "      <td>...</td>\n",
       "      <td>[{'value': 'INST-109398', 'schema': 'SPIRES'}]</td>\n",
       "      <td>[Universitat Univ., University, Electronic Eng...</td>\n",
       "      <td>NaN</td>\n",
       "      <td>NaN</td>\n",
       "      <td>NaN</td>\n",
       "      <td>NaN</td>\n",
       "      <td>NaN</td>\n",
       "      <td>NaN</td>\n",
       "      <td>NaN</td>\n",
       "      <td>NaN</td>\n",
       "    </tr>\n",
       "  </tbody>\n",
       "</table>\n",
       "<p>6 rows × 23 columns</p>\n",
       "</div>"
      ],
      "text/plain": [
       "      number_of_papers                                          addresses  \\\n",
       "21                 142  [{'cities': ['Valencia'], 'latitude': 39.47811...   \n",
       "3536                 2  [{'state': 'CA', 'cities': ['Valencia'], 'lati...   \n",
       "5170                62  [{'cities': ['Burjassot'], 'country_code': 'ES...   \n",
       "7401                33  [{'cities': ['Valencia'], 'country_code': 'ES'...   \n",
       "8395                 4  [{'cities': ['Valencia'], 'latitude': 39.47678...   \n",
       "8594                36  [{'cities': ['Valencia'], 'country_code': 'ES'...   \n",
       "\n",
       "                ICN   core                                               self  \\\n",
       "21    [U. Valencia]    NaN  {'$ref': 'https://inspirehep.net/api/instituti...   \n",
       "3536            NaN    NaN  {'$ref': 'https://inspirehep.net/api/instituti...   \n",
       "5170            NaN    NaN  {'$ref': 'https://inspirehep.net/api/instituti...   \n",
       "7401            NaN    NaN  {'$ref': 'https://inspirehep.net/api/instituti...   \n",
       "8395            NaN  False  {'$ref': 'https://inspirehep.net/api/instituti...   \n",
       "8594            NaN    NaN  {'$ref': 'https://inspirehep.net/api/instituti...   \n",
       "\n",
       "                                                   urls  \\\n",
       "21                     [{'value': 'http://www.uv.es/'}]   \n",
       "3536                                                NaN   \n",
       "5170  [{'value': 'http://www.uv.es/~webuv/ingles/ind...   \n",
       "7401  [{'value': 'http://centros.uv.es/web/departame...   \n",
       "8395                 [{'value': 'https://www.ucv.es/'}]   \n",
       "8594                [{'value': 'http://www.uv.es/die'}]   \n",
       "\n",
       "                                                $schema  \\\n",
       "21    https://inspirehep.net/schemas/records/institu...   \n",
       "3536  https://inspirehep.net/schemas/records/institu...   \n",
       "5170  https://inspirehep.net/schemas/records/institu...   \n",
       "7401  https://inspirehep.net/schemas/records/institu...   \n",
       "8395  https://inspirehep.net/schemas/records/institu...   \n",
       "8594  https://inspirehep.net/schemas/records/institu...   \n",
       "\n",
       "                               legacy_ICN  control_number    legacy_version  \\\n",
       "21                     U. Valencia (main)          917747  20161021230226.0   \n",
       "3536              Kelly Johnson, Valencia          906045  20161012160154.0   \n",
       "5170                 Valencia U., Observ.          908764  20130819034633.0   \n",
       "7401             Valencia U., Math. Dept.          909221  20130819034656.0   \n",
       "8395                 Catholic U. Valencia          943244  20161023033453.0   \n",
       "8594  Valencia U., Dept. Ing. Electronica          911986  20130819034827.0   \n",
       "\n",
       "      ...                     external_system_identifiers  \\\n",
       "21    ...                                             NaN   \n",
       "3536  ...   [{'value': 'INST-42552', 'schema': 'SPIRES'}]   \n",
       "5170  ...   [{'value': 'INST-74314', 'schema': 'SPIRES'}]   \n",
       "7401  ...   [{'value': 'INST-79278', 'schema': 'SPIRES'}]   \n",
       "8395  ...                                             NaN   \n",
       "8594  ...  [{'value': 'INST-109398', 'schema': 'SPIRES'}]   \n",
       "\n",
       "                                            extra_words related_records  \\\n",
       "21                                              [Univ.]             NaN   \n",
       "3536                      [California, research center]             NaN   \n",
       "5170                   [Univ., University, Observatory]             NaN   \n",
       "7401  [Univ., University, Mathematics, department, M...             NaN   \n",
       "8395                                                NaN             NaN   \n",
       "8594  [Universitat Univ., University, Electronic Eng...             NaN   \n",
       "\n",
       "     public_notes                          name_variants deleted_records  \\\n",
       "21            NaN  [{'value': 'University of Valencia'}]             NaN   \n",
       "3536          NaN                                    NaN             NaN   \n",
       "5170          NaN                                    NaN             NaN   \n",
       "7401          NaN                                    NaN             NaN   \n",
       "8395          NaN                                    NaN             NaN   \n",
       "8594          NaN                                    NaN             NaN   \n",
       "\n",
       "     inspire_categories historical_data inactive new_record  \n",
       "21                  NaN             NaN      NaN        NaN  \n",
       "3536                NaN             NaN      NaN        NaN  \n",
       "5170                NaN             NaN      NaN        NaN  \n",
       "7401                NaN             NaN      NaN        NaN  \n",
       "8395                NaN             NaN      NaN        NaN  \n",
       "8594                NaN             NaN      NaN        NaN  \n",
       "\n",
       "[6 rows x 23 columns]"
      ]
     },
     "execution_count": 125,
     "metadata": {},
     "output_type": "execute_result"
    }
   ],
   "source": [
    "kkk=pd.DataFrame(kk)\n",
    "kkk[kkk.legacy_ICN.str.lower().str.contains('valencia')]"
   ]
  },
  {
   "cell_type": "code",
   "execution_count": null,
   "id": "6382a6dd-9bb8-4a09-aafc-7a0e17942905",
   "metadata": {},
   "outputs": [],
   "source": []
  }
 ],
 "metadata": {
  "kernelspec": {
   "display_name": "Python 3 (ipykernel)",
   "language": "python",
   "name": "python3"
  },
  "language_info": {
   "codemirror_mode": {
    "name": "ipython",
    "version": 3
   },
   "file_extension": ".py",
   "mimetype": "text/x-python",
   "name": "python",
   "nbconvert_exporter": "python",
   "pygments_lexer": "ipython3",
   "version": "3.9.2"
  },
  "vscode": {
   "interpreter": {
    "hash": "31f2aee4e71d21fbe5cf8b01ff0e069b9275f58929596ceb00d14d90e3e16cd6"
   }
  }
 },
 "nbformat": 4,
 "nbformat_minor": 5
}
