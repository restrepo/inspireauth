{
 "cells": [
  {
   "cell_type": "code",
   "execution_count": 4,
   "id": "881b4b98-891a-408f-a285-b6e9eb07fb0c",
   "metadata": {},
   "outputs": [],
   "source": [
    "import pandas as pd\n",
    "import requests\n",
    "import json\n",
    "import time\n",
    "import gender_guesser.detector as gender\n",
    "from babel import Locale\n",
    "import pycountry_convert as pycc\n",
    "from babel import Locale\n",
    "sleep=0.4"
   ]
  },
  {
   "cell_type": "code",
   "execution_count": 8,
   "id": "ce3abfd8",
   "metadata": {},
   "outputs": [],
   "source": [
    "LOCAL=False\n",
    "if LOCAL:\n",
    "    f=open('data/inspire_LA.json','r')\n",
    "    df=json.load(f)\n",
    "    f.close()\n",
    "else:\n",
    "    r=requests.get('https://github.com/restrepo/inspireauth/raw/main/data/inspire_LA.json')\n",
    "    df=r.json()"
   ]
  },
  {
   "cell_type": "code",
   "execution_count": 9,
   "id": "356f4aa0",
   "metadata": {},
   "outputs": [
    {
     "name": "stdout",
     "output_type": "stream",
     "text": [
      "57588\n"
     ]
    }
   ],
   "source": [
    "print(len(df))"
   ]
  },
  {
   "cell_type": "markdown",
   "id": "d86701cd-4d78-41c2-80a6-25fca3c50869",
   "metadata": {
    "tags": []
   },
   "source": [
    "## Extended papers data structure including `rank` and related information\n",
    "1) Get ranks for each institution for authors with declared profile\n",
    "2) Get ranks for each paper"
   ]
  },
  {
   "cell_type": "markdown",
   "id": "fe8c3b9d-090c-4562-b45e-ca4b6d9cf011",
   "metadata": {
    "tags": []
   },
   "source": [
    "### Extend data-scheme"
   ]
  },
  {
   "cell_type": "code",
   "execution_count": 10,
   "id": "b58ccc47-99be-42d9-9c9f-e4c7a8785131",
   "metadata": {},
   "outputs": [],
   "source": [
    "from datetime import datetime\n",
    "import copy\n",
    "def get_country(institution_id,df):\n",
    "    institution_id = str(institution_id)\n",
    "    for d in df:\n",
    "        country = None\n",
    "        if d.get('institution_id') == institution_id:\n",
    "            country = d.get('country')\n",
    "            break\n",
    "    return country\n",
    "def flatten_list(L):\n",
    "    return [item for sublist in L for item in sublist]"
   ]
  },
  {
   "cell_type": "code",
   "execution_count": 11,
   "id": "0a6b3b1f-dfe0-45eb-a0bf-65c95129af9f",
   "metadata": {},
   "outputs": [],
   "source": [
    "UPDATE = False\n",
    "if UPDATE:\n",
    "    #Extend 'positions' data-scheme\n",
    "    i=0\n",
    "    for d in df:\n",
    "        if d.get('positions'):\n",
    "            for p in d.get('positions'):\n",
    "                try:\n",
    "                    p['institution_id']=p.get('record').get('$ref').split('/')[-1]\n",
    "                except:\n",
    "                    p['institution_id']=None\n",
    "                if p.get('institution_id'):\n",
    "                    p['country']=get_country(p.get('institution_id'),df)\n",
    "                else:\n",
    "                    p['country']=None\n",
    "                p['author_id']=d.get('author_id')\n",
    "        print(str(i).zfill(5),end='\\r')\n",
    "        i += 1                \n",
    "    \n",
    "    #Extend 'papers' data-scheme\n",
    "    #d=df[4722]\n",
    "    i=0\n",
    "    for d in df:\n",
    "        if d.get('positions'):\n",
    "            dp=copy.deepcopy(d.get('positions'))\n",
    "            for p in dp:\n",
    "                try:\n",
    "                    p['institution_id'] = p.get('record').get('$ref').split('/')[-1]\n",
    "                except:\n",
    "                    p['institution_id'] = None\n",
    "    \n",
    "        il = [p.get('institution_id') for p in dp]\n",
    "        #papers = copy.deepcopy(d.get('papers'))\n",
    "        papers = d.get('papers')\n",
    "        for pr in papers:\n",
    "            # Fix institution\n",
    "            pr['institution_id'] = pr.pop('instituion_id')\n",
    "            if pr.get('institution_id') in il:\n",
    "                end_date=None\n",
    "                ps=[p for p in dp if p.get('institution_id') == pr.get('institution_id')]\n",
    "                for p in ps:\n",
    "                    if p.get('end_date'):\n",
    "                        end_date=int(p.get('end_date').split('-')[0])\n",
    "                    else:\n",
    "                        if p.get('current'):\n",
    "                            end_date=datetime.now().year+1\n",
    "                    start_date=p.get('start_date')\n",
    "                    if start_date:\n",
    "                        start_date=int(start_date.split('-')[0])\n",
    "                    try:\n",
    "                        year=eval(pr.get('year'))\n",
    "                    except:\n",
    "                        year=pr.get('year')\n",
    "                    if year:\n",
    "                        year=int(year)\n",
    "                    if year and start_date and end_date and year in range(start_date,end_date+2): #+1 of tolerance\n",
    "                        pr['rank'] = p.get('rank')\n",
    "                        pr['start_date'] = p.get('start_date')\n",
    "                        pr['end_date'] = p.get('end_date')\n",
    "                        if p.get('current'):\n",
    "                            pr['current'] = p.get('current')\n",
    "                        pr['institution'] =p.get('institution')\n",
    "                        pr['country'] = get_country(p.get('institution_id'),df)\n",
    "            #if i==3:\n",
    "            #    raise Exception(f'break -> {i}')\n",
    "        print(str(i).zfill(5),end='\\r')\n",
    "        i += 1\n",
    "\n",
    "    f=open('inspire_LA.json','w')\n",
    "    json.dump(df,f)\n",
    "    f.close()"
   ]
  },
  {
   "cell_type": "markdown",
   "id": "fd6bcb9e-139d-4046-bcd9-41ef964033bb",
   "metadata": {
    "tags": []
   },
   "source": [
    "### Find gender\n",
    "See [gender.ipynb](/.gender.ipynb)"
   ]
  },
  {
   "cell_type": "markdown",
   "id": "0d530fc0-0d38-4099-b22f-85dd77ff8773",
   "metadata": {
    "tags": []
   },
   "source": [
    "### Rank of the author analysis\n",
    "Rank(s) obtained by the author in the country"
   ]
  },
  {
   "cell_type": "code",
   "execution_count": 12,
   "id": "b67d7ae2-2e01-4667-9c8e-fff472b5b066",
   "metadata": {},
   "outputs": [],
   "source": [
    "profile_ranks = [d.get('positions') for d in df if d.get('positions') and \n",
    "                        any([True for dd in d.get('positions') if dd.get('rank')])]\n",
    "profile_ranks = flatten_list(profile_ranks)\n",
    "profile_ranks = [p for p in profile_ranks if p.get('rank')]"
   ]
  },
  {
   "cell_type": "code",
   "execution_count": 13,
   "id": "d3aa6389",
   "metadata": {},
   "outputs": [
    {
     "data": {
      "text/plain": [
       "rank\n",
       "POSTDOC          6455\n",
       "PHD              6241\n",
       "SENIOR           3490\n",
       "UNDERGRADUATE    3128\n",
       "JUNIOR           1491\n",
       "MASTER           1351\n",
       "VISITOR           708\n",
       "STAFF             548\n",
       "OTHER              20\n",
       "Name: count, dtype: int64"
      ]
     },
     "execution_count": 13,
     "metadata": {},
     "output_type": "execute_result"
    }
   ],
   "source": [
    "dfp=pd.DataFrame(profile_ranks).drop_duplicates(subset=[\n",
    "     'rank','end_date','start_date','institution','curated_relation','institution_id','country','author_id','current','hidden'\n",
    "    ]).reset_index(drop=True)\n",
    "dfp['rank'].value_counts()"
   ]
  },
  {
   "cell_type": "code",
   "execution_count": 14,
   "id": "f426def0-44f8-45ee-9a55-9be1f9686e34",
   "metadata": {},
   "outputs": [
    {
     "data": {
      "text/plain": [
       "57588"
      ]
     },
     "execution_count": 14,
     "metadata": {},
     "output_type": "execute_result"
    }
   ],
   "source": [
    "len(df)"
   ]
  },
  {
   "cell_type": "code",
   "execution_count": 15,
   "id": "12bfb4f5-2852-47dc-9d7f-4447de3fa32e",
   "metadata": {},
   "outputs": [
    {
     "data": {
      "text/plain": [
       "((23432, 11), np.int64(23432))"
      ]
     },
     "execution_count": 15,
     "metadata": {},
     "output_type": "execute_result"
    }
   ],
   "source": [
    "dfp.shape,dfp['rank'].value_counts().sum()"
   ]
  },
  {
   "cell_type": "code",
   "execution_count": 16,
   "id": "784c83d4-67f4-4f3a-bc55-b4cb3ee1b551",
   "metadata": {},
   "outputs": [
    {
     "data": {
      "text/plain": [
       "array(['PHD', 'SENIOR', 'POSTDOC', 'MASTER', 'UNDERGRADUATE', 'JUNIOR',\n",
       "       'VISITOR', 'STAFF', 'OTHER'], dtype=object)"
      ]
     },
     "execution_count": 16,
     "metadata": {},
     "output_type": "execute_result"
    }
   ],
   "source": [
    "dfp['rank'].unique()"
   ]
  },
  {
   "cell_type": "code",
   "execution_count": 17,
   "id": "c3de3539",
   "metadata": {},
   "outputs": [
    {
     "data": {
      "text/plain": [
       "rank\n",
       "POSTDOC          110\n",
       "PHD              108\n",
       "UNDERGRADUATE     77\n",
       "SENIOR            65\n",
       "MASTER            46\n",
       "JUNIOR            44\n",
       "VISITOR           11\n",
       "STAFF              4\n",
       "OTHER              3\n",
       "Name: count, dtype: int64"
      ]
     },
     "execution_count": 17,
     "metadata": {},
     "output_type": "execute_result"
    }
   ],
   "source": [
    "dfp[dfp['country']=='Chile']['rank'].value_counts()"
   ]
  },
  {
   "cell_type": "markdown",
   "id": "8e49fcbb-0483-4a28-914d-8296dc90c86e",
   "metadata": {},
   "source": [
    "Explanation: \n",
    "* 110 authors work as POSTDOC in Chile, etc.\n",
    "* 108 authors did their PHD in Chile, etc."
   ]
  },
  {
   "cell_type": "code",
   "execution_count": 18,
   "id": "990ecaa7-775c-4394-b728-cb5d44432913",
   "metadata": {},
   "outputs": [
    {
     "data": {
      "text/html": [
       "<div>\n",
       "<style scoped>\n",
       "    .dataframe tbody tr th:only-of-type {\n",
       "        vertical-align: middle;\n",
       "    }\n",
       "\n",
       "    .dataframe tbody tr th {\n",
       "        vertical-align: top;\n",
       "    }\n",
       "\n",
       "    .dataframe thead th {\n",
       "        text-align: right;\n",
       "    }\n",
       "</style>\n",
       "<table border=\"1\" class=\"dataframe\">\n",
       "  <thead>\n",
       "    <tr style=\"text-align: right;\">\n",
       "      <th></th>\n",
       "      <th>rank</th>\n",
       "      <th>record</th>\n",
       "      <th>end_date</th>\n",
       "      <th>start_date</th>\n",
       "      <th>institution</th>\n",
       "      <th>curated_relation</th>\n",
       "      <th>institution_id</th>\n",
       "      <th>country</th>\n",
       "      <th>author_id</th>\n",
       "      <th>current</th>\n",
       "      <th>hidden</th>\n",
       "    </tr>\n",
       "  </thead>\n",
       "  <tbody>\n",
       "    <tr>\n",
       "      <th>2973</th>\n",
       "      <td>STAFF</td>\n",
       "      <td>{'$ref': 'https://inspirehep.net/api/instituti...</td>\n",
       "      <td>NaN</td>\n",
       "      <td>2016</td>\n",
       "      <td>Chile Austral U., Valdivia</td>\n",
       "      <td>True</td>\n",
       "      <td>903797</td>\n",
       "      <td>Chile</td>\n",
       "      <td>P.Mella.2</td>\n",
       "      <td>True</td>\n",
       "      <td>NaN</td>\n",
       "    </tr>\n",
       "    <tr>\n",
       "      <th>7681</th>\n",
       "      <td>STAFF</td>\n",
       "      <td>{'$ref': 'https://inspirehep.net/api/instituti...</td>\n",
       "      <td>NaN</td>\n",
       "      <td>2019</td>\n",
       "      <td>San Sebastian U., Chile</td>\n",
       "      <td>True</td>\n",
       "      <td>1459222</td>\n",
       "      <td>Chile</td>\n",
       "      <td>M.Riquelme.1</td>\n",
       "      <td>True</td>\n",
       "      <td>NaN</td>\n",
       "    </tr>\n",
       "    <tr>\n",
       "      <th>23270</th>\n",
       "      <td>STAFF</td>\n",
       "      <td>{'$ref': 'https://inspirehep.net/api/instituti...</td>\n",
       "      <td>2019</td>\n",
       "      <td>2016</td>\n",
       "      <td>Concepcion U.</td>\n",
       "      <td>True</td>\n",
       "      <td>904435</td>\n",
       "      <td>Chile</td>\n",
       "      <td>F.I.Portales.Oliva.1</td>\n",
       "      <td>False</td>\n",
       "      <td>False</td>\n",
       "    </tr>\n",
       "    <tr>\n",
       "      <th>23271</th>\n",
       "      <td>STAFF</td>\n",
       "      <td>{'$ref': 'https://inspirehep.net/api/instituti...</td>\n",
       "      <td>2019</td>\n",
       "      <td>2016</td>\n",
       "      <td>San Sebastian U., Chile</td>\n",
       "      <td>True</td>\n",
       "      <td>1459222</td>\n",
       "      <td>Chile</td>\n",
       "      <td>F.I.Portales.Oliva.1</td>\n",
       "      <td>False</td>\n",
       "      <td>False</td>\n",
       "    </tr>\n",
       "  </tbody>\n",
       "</table>\n",
       "</div>"
      ],
      "text/plain": [
       "        rank                                             record end_date  \\\n",
       "2973   STAFF  {'$ref': 'https://inspirehep.net/api/instituti...      NaN   \n",
       "7681   STAFF  {'$ref': 'https://inspirehep.net/api/instituti...      NaN   \n",
       "23270  STAFF  {'$ref': 'https://inspirehep.net/api/instituti...     2019   \n",
       "23271  STAFF  {'$ref': 'https://inspirehep.net/api/instituti...     2019   \n",
       "\n",
       "      start_date                 institution curated_relation institution_id  \\\n",
       "2973        2016  Chile Austral U., Valdivia             True         903797   \n",
       "7681        2019     San Sebastian U., Chile             True        1459222   \n",
       "23270       2016               Concepcion U.             True         904435   \n",
       "23271       2016     San Sebastian U., Chile             True        1459222   \n",
       "\n",
       "      country             author_id current hidden  \n",
       "2973    Chile             P.Mella.2    True    NaN  \n",
       "7681    Chile          M.Riquelme.1    True    NaN  \n",
       "23270   Chile  F.I.Portales.Oliva.1   False  False  \n",
       "23271   Chile  F.I.Portales.Oliva.1   False  False  "
      ]
     },
     "execution_count": 18,
     "metadata": {},
     "output_type": "execute_result"
    }
   ],
   "source": [
    "tmp=dfp[dfp['country']=='Chile']\n",
    "tmp[ (tmp['rank']=='STAFF') ]"
   ]
  },
  {
   "cell_type": "code",
   "execution_count": 19,
   "id": "00813cb6",
   "metadata": {},
   "outputs": [
    {
     "data": {
      "text/plain": [
       "rank\n",
       "PHD              445\n",
       "POSTDOC          345\n",
       "UNDERGRADUATE    254\n",
       "MASTER           239\n",
       "SENIOR           232\n",
       "JUNIOR            65\n",
       "VISITOR           51\n",
       "STAFF             46\n",
       "Name: count, dtype: int64"
      ]
     },
     "execution_count": 19,
     "metadata": {},
     "output_type": "execute_result"
    }
   ],
   "source": [
    "dfp[dfp['country']=='Brazil']['rank'].value_counts()"
   ]
  },
  {
   "cell_type": "code",
   "execution_count": 20,
   "id": "e28d553a",
   "metadata": {},
   "outputs": [
    {
     "data": {
      "text/plain": [
       "rank\n",
       "PHD              136\n",
       "UNDERGRADUATE     88\n",
       "SENIOR            42\n",
       "POSTDOC           41\n",
       "MASTER            27\n",
       "JUNIOR            16\n",
       "STAFF             13\n",
       "VISITOR            3\n",
       "Name: count, dtype: int64"
      ]
     },
     "execution_count": 20,
     "metadata": {},
     "output_type": "execute_result"
    }
   ],
   "source": [
    "dfp[dfp['country']=='Argentina']['rank'].value_counts()"
   ]
  },
  {
   "cell_type": "code",
   "execution_count": 21,
   "id": "68e2b4c6",
   "metadata": {},
   "outputs": [
    {
     "data": {
      "text/plain": [
       "rank\n",
       "PHD              185\n",
       "POSTDOC          124\n",
       "SENIOR            87\n",
       "UNDERGRADUATE     85\n",
       "MASTER            71\n",
       "JUNIOR            59\n",
       "STAFF             26\n",
       "VISITOR           10\n",
       "OTHER              1\n",
       "Name: count, dtype: int64"
      ]
     },
     "execution_count": 21,
     "metadata": {},
     "output_type": "execute_result"
    }
   ],
   "source": [
    "dfp[dfp['country']=='Mexico']['rank'].value_counts()"
   ]
  },
  {
   "cell_type": "code",
   "execution_count": 22,
   "id": "00e4705a",
   "metadata": {},
   "outputs": [
    {
     "data": {
      "text/plain": [
       "rank\n",
       "UNDERGRADUATE    48\n",
       "SENIOR           32\n",
       "MASTER           21\n",
       "JUNIOR           19\n",
       "POSTDOC          15\n",
       "PHD              15\n",
       "STAFF             5\n",
       "VISITOR           1\n",
       "Name: count, dtype: int64"
      ]
     },
     "execution_count": 22,
     "metadata": {},
     "output_type": "execute_result"
    }
   ],
   "source": [
    "dfp[dfp['country']=='Colombia']['rank'].value_counts()"
   ]
  },
  {
   "cell_type": "code",
   "execution_count": 23,
   "id": "605d82e1",
   "metadata": {},
   "outputs": [
    {
     "data": {
      "text/plain": [
       "rank\n",
       "UNDERGRADUATE    5\n",
       "MASTER           3\n",
       "PHD              2\n",
       "STAFF            2\n",
       "POSTDOC          1\n",
       "SENIOR           1\n",
       "JUNIOR           1\n",
       "Name: count, dtype: int64"
      ]
     },
     "execution_count": 23,
     "metadata": {},
     "output_type": "execute_result"
    }
   ],
   "source": [
    "dfp[dfp['country']=='Uruguay']['rank'].value_counts()"
   ]
  },
  {
   "cell_type": "code",
   "execution_count": 24,
   "id": "577070c8-3f95-41d4-aacb-9e482509eb4e",
   "metadata": {},
   "outputs": [
    {
     "data": {
      "text/html": [
       "<div>\n",
       "<style scoped>\n",
       "    .dataframe tbody tr th:only-of-type {\n",
       "        vertical-align: middle;\n",
       "    }\n",
       "\n",
       "    .dataframe tbody tr th {\n",
       "        vertical-align: top;\n",
       "    }\n",
       "\n",
       "    .dataframe thead th {\n",
       "        text-align: right;\n",
       "    }\n",
       "</style>\n",
       "<table border=\"1\" class=\"dataframe\">\n",
       "  <thead>\n",
       "    <tr style=\"text-align: right;\">\n",
       "      <th></th>\n",
       "      <th>rank</th>\n",
       "      <th>record</th>\n",
       "      <th>end_date</th>\n",
       "      <th>start_date</th>\n",
       "      <th>institution</th>\n",
       "      <th>curated_relation</th>\n",
       "      <th>institution_id</th>\n",
       "      <th>country</th>\n",
       "      <th>author_id</th>\n",
       "      <th>current</th>\n",
       "      <th>hidden</th>\n",
       "    </tr>\n",
       "  </thead>\n",
       "  <tbody>\n",
       "    <tr>\n",
       "      <th>543</th>\n",
       "      <td>MASTER</td>\n",
       "      <td>{'$ref': 'https://inspirehep.net/api/instituti...</td>\n",
       "      <td>2003</td>\n",
       "      <td>NaN</td>\n",
       "      <td>Republica U., Montevideo</td>\n",
       "      <td>True</td>\n",
       "      <td>903022</td>\n",
       "      <td>Uruguay</td>\n",
       "      <td>R.A.Porto.1</td>\n",
       "      <td>NaN</td>\n",
       "      <td>NaN</td>\n",
       "    </tr>\n",
       "    <tr>\n",
       "      <th>845</th>\n",
       "      <td>POSTDOC</td>\n",
       "      <td>{'$ref': 'https://inspirehep.net/api/instituti...</td>\n",
       "      <td>2014</td>\n",
       "      <td>2012</td>\n",
       "      <td>Republica U., Montevideo</td>\n",
       "      <td>True</td>\n",
       "      <td>903022</td>\n",
       "      <td>Uruguay</td>\n",
       "      <td>J.Olmedo.1</td>\n",
       "      <td>NaN</td>\n",
       "      <td>NaN</td>\n",
       "    </tr>\n",
       "    <tr>\n",
       "      <th>857</th>\n",
       "      <td>PHD</td>\n",
       "      <td>{'$ref': 'https://inspirehep.net/api/instituti...</td>\n",
       "      <td>2012</td>\n",
       "      <td>2007</td>\n",
       "      <td>Republica U., Montevideo</td>\n",
       "      <td>True</td>\n",
       "      <td>903022</td>\n",
       "      <td>Uruguay</td>\n",
       "      <td>S.Rastgoo.1</td>\n",
       "      <td>False</td>\n",
       "      <td>False</td>\n",
       "    </tr>\n",
       "    <tr>\n",
       "      <th>896</th>\n",
       "      <td>STAFF</td>\n",
       "      <td>{'$ref': 'https://inspirehep.net/api/instituti...</td>\n",
       "      <td>NaN</td>\n",
       "      <td>NaN</td>\n",
       "      <td>Republica U., Montevideo</td>\n",
       "      <td>True</td>\n",
       "      <td>903022</td>\n",
       "      <td>Uruguay</td>\n",
       "      <td>G.A.Gonzalez.Sprinberg.1</td>\n",
       "      <td>True</td>\n",
       "      <td>NaN</td>\n",
       "    </tr>\n",
       "    <tr>\n",
       "      <th>1347</th>\n",
       "      <td>MASTER</td>\n",
       "      <td>{'$ref': 'https://inspirehep.net/api/instituti...</td>\n",
       "      <td>2012</td>\n",
       "      <td>2009</td>\n",
       "      <td>Republica U., Montevideo</td>\n",
       "      <td>True</td>\n",
       "      <td>903022</td>\n",
       "      <td>Uruguay</td>\n",
       "      <td>L.Duarte.1</td>\n",
       "      <td>NaN</td>\n",
       "      <td>NaN</td>\n",
       "    </tr>\n",
       "    <tr>\n",
       "      <th>1348</th>\n",
       "      <td>UNDERGRADUATE</td>\n",
       "      <td>{'$ref': 'https://inspirehep.net/api/instituti...</td>\n",
       "      <td>2008</td>\n",
       "      <td>2002</td>\n",
       "      <td>Republica U., Montevideo</td>\n",
       "      <td>True</td>\n",
       "      <td>903022</td>\n",
       "      <td>Uruguay</td>\n",
       "      <td>L.Duarte.1</td>\n",
       "      <td>NaN</td>\n",
       "      <td>NaN</td>\n",
       "    </tr>\n",
       "    <tr>\n",
       "      <th>1415</th>\n",
       "      <td>SENIOR</td>\n",
       "      <td>{'$ref': 'https://inspirehep.net/api/instituti...</td>\n",
       "      <td>NaN</td>\n",
       "      <td>2008</td>\n",
       "      <td>Republica U., Montevideo</td>\n",
       "      <td>True</td>\n",
       "      <td>903022</td>\n",
       "      <td>Uruguay</td>\n",
       "      <td>R.Donangelo.1</td>\n",
       "      <td>NaN</td>\n",
       "      <td>NaN</td>\n",
       "    </tr>\n",
       "    <tr>\n",
       "      <th>1417</th>\n",
       "      <td>PHD</td>\n",
       "      <td>{'$ref': 'https://inspirehep.net/api/instituti...</td>\n",
       "      <td>2003</td>\n",
       "      <td>NaN</td>\n",
       "      <td>Republica U., Montevideo</td>\n",
       "      <td>True</td>\n",
       "      <td>903022</td>\n",
       "      <td>Uruguay</td>\n",
       "      <td>Pablo.Mora.1</td>\n",
       "      <td>NaN</td>\n",
       "      <td>NaN</td>\n",
       "    </tr>\n",
       "    <tr>\n",
       "      <th>1433</th>\n",
       "      <td>MASTER</td>\n",
       "      <td>{'$ref': 'https://inspirehep.net/api/instituti...</td>\n",
       "      <td>NaN</td>\n",
       "      <td>NaN</td>\n",
       "      <td>Republica U., Montevideo</td>\n",
       "      <td>True</td>\n",
       "      <td>903022</td>\n",
       "      <td>Uruguay</td>\n",
       "      <td>M.Ponce.1</td>\n",
       "      <td>NaN</td>\n",
       "      <td>NaN</td>\n",
       "    </tr>\n",
       "    <tr>\n",
       "      <th>1434</th>\n",
       "      <td>UNDERGRADUATE</td>\n",
       "      <td>{'$ref': 'https://inspirehep.net/api/instituti...</td>\n",
       "      <td>NaN</td>\n",
       "      <td>NaN</td>\n",
       "      <td>Republica U., Montevideo</td>\n",
       "      <td>True</td>\n",
       "      <td>903022</td>\n",
       "      <td>Uruguay</td>\n",
       "      <td>M.Ponce.1</td>\n",
       "      <td>NaN</td>\n",
       "      <td>NaN</td>\n",
       "    </tr>\n",
       "    <tr>\n",
       "      <th>1444</th>\n",
       "      <td>UNDERGRADUATE</td>\n",
       "      <td>{'$ref': 'https://inspirehep.net/api/instituti...</td>\n",
       "      <td>2011</td>\n",
       "      <td>2005</td>\n",
       "      <td>Republica U., Montevideo</td>\n",
       "      <td>True</td>\n",
       "      <td>903022</td>\n",
       "      <td>Uruguay</td>\n",
       "      <td>Pablo.Pais.1</td>\n",
       "      <td>NaN</td>\n",
       "      <td>NaN</td>\n",
       "    </tr>\n",
       "    <tr>\n",
       "      <th>1533</th>\n",
       "      <td>UNDERGRADUATE</td>\n",
       "      <td>{'$ref': 'https://inspirehep.net/api/instituti...</td>\n",
       "      <td>NaN</td>\n",
       "      <td>2016</td>\n",
       "      <td>Republica U., Montevideo</td>\n",
       "      <td>False</td>\n",
       "      <td>903022</td>\n",
       "      <td>Uruguay</td>\n",
       "      <td>F.Figueroa.1</td>\n",
       "      <td>False</td>\n",
       "      <td>False</td>\n",
       "    </tr>\n",
       "    <tr>\n",
       "      <th>1538</th>\n",
       "      <td>JUNIOR</td>\n",
       "      <td>{'$ref': 'https://inspirehep.net/api/instituti...</td>\n",
       "      <td>NaN</td>\n",
       "      <td>2021</td>\n",
       "      <td>Republica U., Montevideo</td>\n",
       "      <td>False</td>\n",
       "      <td>903022</td>\n",
       "      <td>Uruguay</td>\n",
       "      <td>G.Hernandez.Chifflet.1</td>\n",
       "      <td>True</td>\n",
       "      <td>False</td>\n",
       "    </tr>\n",
       "    <tr>\n",
       "      <th>1596</th>\n",
       "      <td>STAFF</td>\n",
       "      <td>{'$ref': 'https://inspirehep.net/api/instituti...</td>\n",
       "      <td>2020</td>\n",
       "      <td>2018</td>\n",
       "      <td>Republica U., Montevideo</td>\n",
       "      <td>True</td>\n",
       "      <td>903022</td>\n",
       "      <td>Uruguay</td>\n",
       "      <td>E.G.S.Luna.1</td>\n",
       "      <td>NaN</td>\n",
       "      <td>NaN</td>\n",
       "    </tr>\n",
       "    <tr>\n",
       "      <th>6047</th>\n",
       "      <td>UNDERGRADUATE</td>\n",
       "      <td>{'$ref': 'https://inspirehep.net/api/instituti...</td>\n",
       "      <td>NaN</td>\n",
       "      <td>NaN</td>\n",
       "      <td>Republica U., Montevideo</td>\n",
       "      <td>True</td>\n",
       "      <td>903022</td>\n",
       "      <td>Uruguay</td>\n",
       "      <td>A.D.Bolatto.1</td>\n",
       "      <td>NaN</td>\n",
       "      <td>NaN</td>\n",
       "    </tr>\n",
       "  </tbody>\n",
       "</table>\n",
       "</div>"
      ],
      "text/plain": [
       "               rank                                             record  \\\n",
       "543          MASTER  {'$ref': 'https://inspirehep.net/api/instituti...   \n",
       "845         POSTDOC  {'$ref': 'https://inspirehep.net/api/instituti...   \n",
       "857             PHD  {'$ref': 'https://inspirehep.net/api/instituti...   \n",
       "896           STAFF  {'$ref': 'https://inspirehep.net/api/instituti...   \n",
       "1347         MASTER  {'$ref': 'https://inspirehep.net/api/instituti...   \n",
       "1348  UNDERGRADUATE  {'$ref': 'https://inspirehep.net/api/instituti...   \n",
       "1415         SENIOR  {'$ref': 'https://inspirehep.net/api/instituti...   \n",
       "1417            PHD  {'$ref': 'https://inspirehep.net/api/instituti...   \n",
       "1433         MASTER  {'$ref': 'https://inspirehep.net/api/instituti...   \n",
       "1434  UNDERGRADUATE  {'$ref': 'https://inspirehep.net/api/instituti...   \n",
       "1444  UNDERGRADUATE  {'$ref': 'https://inspirehep.net/api/instituti...   \n",
       "1533  UNDERGRADUATE  {'$ref': 'https://inspirehep.net/api/instituti...   \n",
       "1538         JUNIOR  {'$ref': 'https://inspirehep.net/api/instituti...   \n",
       "1596          STAFF  {'$ref': 'https://inspirehep.net/api/instituti...   \n",
       "6047  UNDERGRADUATE  {'$ref': 'https://inspirehep.net/api/instituti...   \n",
       "\n",
       "     end_date start_date               institution curated_relation  \\\n",
       "543      2003        NaN  Republica U., Montevideo             True   \n",
       "845      2014       2012  Republica U., Montevideo             True   \n",
       "857      2012       2007  Republica U., Montevideo             True   \n",
       "896       NaN        NaN  Republica U., Montevideo             True   \n",
       "1347     2012       2009  Republica U., Montevideo             True   \n",
       "1348     2008       2002  Republica U., Montevideo             True   \n",
       "1415      NaN       2008  Republica U., Montevideo             True   \n",
       "1417     2003        NaN  Republica U., Montevideo             True   \n",
       "1433      NaN        NaN  Republica U., Montevideo             True   \n",
       "1434      NaN        NaN  Republica U., Montevideo             True   \n",
       "1444     2011       2005  Republica U., Montevideo             True   \n",
       "1533      NaN       2016  Republica U., Montevideo            False   \n",
       "1538      NaN       2021  Republica U., Montevideo            False   \n",
       "1596     2020       2018  Republica U., Montevideo             True   \n",
       "6047      NaN        NaN  Republica U., Montevideo             True   \n",
       "\n",
       "     institution_id  country                 author_id current hidden  \n",
       "543          903022  Uruguay               R.A.Porto.1     NaN    NaN  \n",
       "845          903022  Uruguay                J.Olmedo.1     NaN    NaN  \n",
       "857          903022  Uruguay               S.Rastgoo.1   False  False  \n",
       "896          903022  Uruguay  G.A.Gonzalez.Sprinberg.1    True    NaN  \n",
       "1347         903022  Uruguay                L.Duarte.1     NaN    NaN  \n",
       "1348         903022  Uruguay                L.Duarte.1     NaN    NaN  \n",
       "1415         903022  Uruguay             R.Donangelo.1     NaN    NaN  \n",
       "1417         903022  Uruguay              Pablo.Mora.1     NaN    NaN  \n",
       "1433         903022  Uruguay                 M.Ponce.1     NaN    NaN  \n",
       "1434         903022  Uruguay                 M.Ponce.1     NaN    NaN  \n",
       "1444         903022  Uruguay              Pablo.Pais.1     NaN    NaN  \n",
       "1533         903022  Uruguay              F.Figueroa.1   False  False  \n",
       "1538         903022  Uruguay    G.Hernandez.Chifflet.1    True  False  \n",
       "1596         903022  Uruguay              E.G.S.Luna.1     NaN    NaN  \n",
       "6047         903022  Uruguay             A.D.Bolatto.1     NaN    NaN  "
      ]
     },
     "execution_count": 24,
     "metadata": {},
     "output_type": "execute_result"
    }
   ],
   "source": [
    "dfp[dfp['country']=='Uruguay']"
   ]
  },
  {
   "cell_type": "code",
   "execution_count": 25,
   "id": "3a957fa3-21f9-450b-a9d9-ae105e7f0da5",
   "metadata": {},
   "outputs": [
    {
     "data": {
      "text/html": [
       "<div>\n",
       "<style scoped>\n",
       "    .dataframe tbody tr th:only-of-type {\n",
       "        vertical-align: middle;\n",
       "    }\n",
       "\n",
       "    .dataframe tbody tr th {\n",
       "        vertical-align: top;\n",
       "    }\n",
       "\n",
       "    .dataframe thead th {\n",
       "        text-align: right;\n",
       "    }\n",
       "</style>\n",
       "<table border=\"1\" class=\"dataframe\">\n",
       "  <thead>\n",
       "    <tr style=\"text-align: right;\">\n",
       "      <th></th>\n",
       "      <th>profile_id</th>\n",
       "      <th>author_id</th>\n",
       "      <th>full_name</th>\n",
       "      <th>name</th>\n",
       "      <th>country</th>\n",
       "      <th>gender</th>\n",
       "    </tr>\n",
       "  </thead>\n",
       "  <tbody>\n",
       "    <tr>\n",
       "      <th>50</th>\n",
       "      <td>None</td>\n",
       "      <td>J.Chela.Flores.1</td>\n",
       "      <td>Chela-Flores, J.</td>\n",
       "      <td>None</td>\n",
       "      <td>Italy</td>\n",
       "      <td>unknown</td>\n",
       "    </tr>\n",
       "    <tr>\n",
       "      <th>51</th>\n",
       "      <td>2074632</td>\n",
       "      <td>R.Paredes.1</td>\n",
       "      <td>Paredes, R.</td>\n",
       "      <td>None</td>\n",
       "      <td>Venezuela</td>\n",
       "      <td>unknown</td>\n",
       "    </tr>\n",
       "    <tr>\n",
       "      <th>52</th>\n",
       "      <td>1019827</td>\n",
       "      <td>C.Aragone.1</td>\n",
       "      <td>Aragone, C.</td>\n",
       "      <td>{'value': 'Aragone, Carlos', 'preferred_name':...</td>\n",
       "      <td>Venezuela</td>\n",
       "      <td>male</td>\n",
       "    </tr>\n",
       "    <tr>\n",
       "      <th>53</th>\n",
       "      <td>2455877</td>\n",
       "      <td>G.Colagiacomo.1</td>\n",
       "      <td>Colagiacomo, G.</td>\n",
       "      <td>None</td>\n",
       "      <td>Venezuela</td>\n",
       "      <td>unknown</td>\n",
       "    </tr>\n",
       "    <tr>\n",
       "      <th>54</th>\n",
       "      <td>1008438</td>\n",
       "      <td>R.Gianvittorio.1</td>\n",
       "      <td>Gianvittorio, R.</td>\n",
       "      <td>{'value': 'Gianvittorio, Rita', 'preferred_nam...</td>\n",
       "      <td>Venezuela</td>\n",
       "      <td>female</td>\n",
       "    </tr>\n",
       "    <tr>\n",
       "      <th>55</th>\n",
       "      <td>1000877</td>\n",
       "      <td>L.Leal.1</td>\n",
       "      <td>Leal, L.</td>\n",
       "      <td>{'value': 'Leal, Lorenzo', 'preferred_name': '...</td>\n",
       "      <td>Venezuela</td>\n",
       "      <td>male</td>\n",
       "    </tr>\n",
       "    <tr>\n",
       "      <th>56</th>\n",
       "      <td>1008978</td>\n",
       "      <td>R.Gambini.1</td>\n",
       "      <td>Gambini, Rodolfo</td>\n",
       "      <td>{'value': 'Gambini, Rodolfo', 'preferred_name'...</td>\n",
       "      <td>Uruguay</td>\n",
       "      <td>male</td>\n",
       "    </tr>\n",
       "    <tr>\n",
       "      <th>57</th>\n",
       "      <td>1050545</td>\n",
       "      <td>A.Trias.1</td>\n",
       "      <td>Trias, Antoni</td>\n",
       "      <td>{'value': 'Trias, Antoni', 'preferred_name': '...</td>\n",
       "      <td>Spain</td>\n",
       "      <td>male</td>\n",
       "    </tr>\n",
       "    <tr>\n",
       "      <th>58</th>\n",
       "      <td>2222068</td>\n",
       "      <td>E.Mac.2</td>\n",
       "      <td>Mac, E.</td>\n",
       "      <td>None</td>\n",
       "      <td>Venezuela</td>\n",
       "      <td>unknown</td>\n",
       "    </tr>\n",
       "    <tr>\n",
       "      <th>59</th>\n",
       "      <td>985291</td>\n",
       "      <td>E.Ugaz.1</td>\n",
       "      <td>Ugaz, E.</td>\n",
       "      <td>{'value': 'Ugaz, Eduardo', 'preferred_name': '...</td>\n",
       "      <td>Peru</td>\n",
       "      <td>male</td>\n",
       "    </tr>\n",
       "  </tbody>\n",
       "</table>\n",
       "</div>"
      ],
      "text/plain": [
       "   profile_id         author_id         full_name  \\\n",
       "50       None  J.Chela.Flores.1  Chela-Flores, J.   \n",
       "51    2074632       R.Paredes.1       Paredes, R.   \n",
       "52    1019827       C.Aragone.1       Aragone, C.   \n",
       "53    2455877   G.Colagiacomo.1   Colagiacomo, G.   \n",
       "54    1008438  R.Gianvittorio.1  Gianvittorio, R.   \n",
       "55    1000877          L.Leal.1          Leal, L.   \n",
       "56    1008978       R.Gambini.1  Gambini, Rodolfo   \n",
       "57    1050545         A.Trias.1     Trias, Antoni   \n",
       "58    2222068           E.Mac.2           Mac, E.   \n",
       "59     985291          E.Ugaz.1          Ugaz, E.   \n",
       "\n",
       "                                                 name    country   gender  \n",
       "50                                               None      Italy  unknown  \n",
       "51                                               None  Venezuela  unknown  \n",
       "52  {'value': 'Aragone, Carlos', 'preferred_name':...  Venezuela     male  \n",
       "53                                               None  Venezuela  unknown  \n",
       "54  {'value': 'Gianvittorio, Rita', 'preferred_nam...  Venezuela   female  \n",
       "55  {'value': 'Leal, Lorenzo', 'preferred_name': '...  Venezuela     male  \n",
       "56  {'value': 'Gambini, Rodolfo', 'preferred_name'...    Uruguay     male  \n",
       "57  {'value': 'Trias, Antoni', 'preferred_name': '...      Spain     male  \n",
       "58                                               None  Venezuela  unknown  \n",
       "59  {'value': 'Ugaz, Eduardo', 'preferred_name': '...       Peru     male  "
      ]
     },
     "execution_count": 25,
     "metadata": {},
     "output_type": "execute_result"
    }
   ],
   "source": [
    "pd.DataFrame(df)[50:60][['profile_id','author_id','full_name','name','country','gender']]"
   ]
  },
  {
   "cell_type": "markdown",
   "id": "f8c25195-51e6-4781-83f0-47eb9a8f117d",
   "metadata": {},
   "source": [
    "### Gender analysis"
   ]
  },
  {
   "cell_type": "code",
   "execution_count": 26,
   "id": "d40dffdb-db60-49ba-968d-519e1381a161",
   "metadata": {},
   "outputs": [],
   "source": [
    "dfm = [d for d in df if d.get('gender')=='male' ]\n",
    "dff = [d for d in df if d.get('gender')=='female' ]"
   ]
  },
  {
   "cell_type": "code",
   "execution_count": 27,
   "id": "b4ec0007-5c4d-4dee-b925-a7b334a0a0de",
   "metadata": {},
   "outputs": [
    {
     "data": {
      "text/plain": [
       "rank\n",
       "POSTDOC          4768\n",
       "PHD              4661\n",
       "SENIOR           2755\n",
       "UNDERGRADUATE    2404\n",
       "JUNIOR           1081\n",
       "MASTER            978\n",
       "VISITOR           523\n",
       "STAFF             443\n",
       "OTHER              14\n",
       "Name: count, dtype: int64"
      ]
     },
     "execution_count": 27,
     "metadata": {},
     "output_type": "execute_result"
    }
   ],
   "source": [
    "profile_ranks = [d.get('positions') for d in dfm if d.get('positions') and \n",
    "                        any([True for dd in d.get('positions') if dd.get('rank')])]\n",
    "profile_ranks = flatten_list(profile_ranks)\n",
    "profile_ranks = [p for p in profile_ranks if p.get('rank')]\n",
    "\n",
    "dfp=pd.DataFrame(profile_ranks).drop_duplicates(subset=[\n",
    "     'rank','end_date','start_date','institution','curated_relation','institution_id','country','author_id','current','hidden'\n",
    "    ]).reset_index(drop=True)\n",
    "dfp['rank'].value_counts()"
   ]
  },
  {
   "cell_type": "code",
   "execution_count": 28,
   "id": "390bf84a-e680-470a-8622-0743d6193a36",
   "metadata": {},
   "outputs": [
    {
     "data": {
      "text/plain": [
       "rank\n",
       "PHD              317\n",
       "POSTDOC          245\n",
       "UNDERGRADUATE    184\n",
       "SENIOR           182\n",
       "MASTER           172\n",
       "JUNIOR            48\n",
       "STAFF             35\n",
       "VISITOR           35\n",
       "Name: count, dtype: int64"
      ]
     },
     "execution_count": 28,
     "metadata": {},
     "output_type": "execute_result"
    }
   ],
   "source": [
    "dfp[dfp['country']=='Brazil']['rank'].value_counts()"
   ]
  },
  {
   "cell_type": "code",
   "execution_count": 29,
   "id": "50722a9f-9ff9-4e7c-94d0-134c9ec8ce30",
   "metadata": {},
   "outputs": [
    {
     "data": {
      "text/plain": [
       "rank\n",
       "UNDERGRADUATE    45\n",
       "SENIOR           27\n",
       "MASTER           19\n",
       "JUNIOR           17\n",
       "POSTDOC          14\n",
       "PHD              14\n",
       "STAFF             4\n",
       "VISITOR           1\n",
       "Name: count, dtype: int64"
      ]
     },
     "execution_count": 29,
     "metadata": {},
     "output_type": "execute_result"
    }
   ],
   "source": [
    "dfp[dfp['country']=='Colombia']['rank'].value_counts()"
   ]
  },
  {
   "cell_type": "code",
   "execution_count": 30,
   "id": "55d4ec7d-f216-4b57-9c9c-8d5817d6f524",
   "metadata": {},
   "outputs": [
    {
     "data": {
      "text/plain": [
       "rank\n",
       "POSTDOC          749\n",
       "PHD              717\n",
       "SENIOR           316\n",
       "UNDERGRADUATE    305\n",
       "JUNIOR           166\n",
       "MASTER           132\n",
       "STAFF             62\n",
       "VISITOR           58\n",
       "OTHER              3\n",
       "Name: count, dtype: int64"
      ]
     },
     "execution_count": 30,
     "metadata": {},
     "output_type": "execute_result"
    }
   ],
   "source": [
    "profile_ranks = [d.get('positions') for d in dff if d.get('positions') and \n",
    "                        any([True for dd in d.get('positions') if dd.get('rank')])]\n",
    "profile_ranks = flatten_list(profile_ranks)\n",
    "profile_ranks = [p for p in profile_ranks if p.get('rank')]\n",
    "\n",
    "dfp=pd.DataFrame(profile_ranks).drop_duplicates(subset=[\n",
    "     'rank','end_date','start_date','institution','curated_relation','institution_id','country','author_id','current','hidden'\n",
    "    ]).reset_index(drop=True)\n",
    "dfp['rank'].value_counts()"
   ]
  },
  {
   "cell_type": "code",
   "execution_count": 31,
   "id": "fb1bc094-4b7d-48a0-8712-9af28c3273ba",
   "metadata": {},
   "outputs": [
    {
     "data": {
      "text/plain": [
       "rank\n",
       "PHD              56\n",
       "POSTDOC          45\n",
       "UNDERGRADUATE    31\n",
       "MASTER           24\n",
       "SENIOR           17\n",
       "VISITOR           6\n",
       "STAFF             5\n",
       "JUNIOR            4\n",
       "Name: count, dtype: int64"
      ]
     },
     "execution_count": 31,
     "metadata": {},
     "output_type": "execute_result"
    }
   ],
   "source": [
    "dfp[dfp['country']=='Brazil']['rank'].value_counts()"
   ]
  },
  {
   "cell_type": "code",
   "execution_count": 32,
   "id": "3ab2e22e-4436-48dd-8d4b-8657c0596435",
   "metadata": {},
   "outputs": [
    {
     "data": {
      "text/plain": [
       "rank\n",
       "SENIOR    2\n",
       "MASTER    1\n",
       "Name: count, dtype: int64"
      ]
     },
     "execution_count": 32,
     "metadata": {},
     "output_type": "execute_result"
    }
   ],
   "source": [
    "dfp[dfp['country']=='Colombia']['rank'].value_counts()"
   ]
  },
  {
   "cell_type": "code",
   "execution_count": 33,
   "id": "213c0ebf-e73e-4fd8-8394-89c16aeadda2",
   "metadata": {},
   "outputs": [
    {
     "data": {
      "text/html": [
       "<div>\n",
       "<style scoped>\n",
       "    .dataframe tbody tr th:only-of-type {\n",
       "        vertical-align: middle;\n",
       "    }\n",
       "\n",
       "    .dataframe tbody tr th {\n",
       "        vertical-align: top;\n",
       "    }\n",
       "\n",
       "    .dataframe thead th {\n",
       "        text-align: right;\n",
       "    }\n",
       "</style>\n",
       "<table border=\"1\" class=\"dataframe\">\n",
       "  <thead>\n",
       "    <tr style=\"text-align: right;\">\n",
       "      <th></th>\n",
       "      <th>rank</th>\n",
       "      <th>record</th>\n",
       "      <th>current</th>\n",
       "      <th>start_date</th>\n",
       "      <th>institution</th>\n",
       "      <th>curated_relation</th>\n",
       "      <th>institution_id</th>\n",
       "      <th>country</th>\n",
       "      <th>author_id</th>\n",
       "      <th>end_date</th>\n",
       "      <th>hidden</th>\n",
       "    </tr>\n",
       "  </thead>\n",
       "  <tbody>\n",
       "    <tr>\n",
       "      <th>160</th>\n",
       "      <td>SENIOR</td>\n",
       "      <td>{'$ref': 'https://inspirehep.net/api/instituti...</td>\n",
       "      <td>NaN</td>\n",
       "      <td>1999</td>\n",
       "      <td>Antonio Narino U.</td>\n",
       "      <td>True</td>\n",
       "      <td>908168</td>\n",
       "      <td>Colombia</td>\n",
       "      <td>M.Losada.1</td>\n",
       "      <td>2019</td>\n",
       "      <td>NaN</td>\n",
       "    </tr>\n",
       "    <tr>\n",
       "      <th>269</th>\n",
       "      <td>MASTER</td>\n",
       "      <td>{'$ref': 'https://inspirehep.net/api/instituti...</td>\n",
       "      <td>NaN</td>\n",
       "      <td>NaN</td>\n",
       "      <td>Colombia, U. Natl.</td>\n",
       "      <td>True</td>\n",
       "      <td>906485</td>\n",
       "      <td>Colombia</td>\n",
       "      <td>Erika.Catano.Mur.1</td>\n",
       "      <td>2012</td>\n",
       "      <td>NaN</td>\n",
       "    </tr>\n",
       "    <tr>\n",
       "      <th>1195</th>\n",
       "      <td>SENIOR</td>\n",
       "      <td>{'$ref': 'https://inspirehep.net/api/instituti...</td>\n",
       "      <td>True</td>\n",
       "      <td>2007</td>\n",
       "      <td>Antonio Narino U.</td>\n",
       "      <td>True</td>\n",
       "      <td>908168</td>\n",
       "      <td>Colombia</td>\n",
       "      <td>G.A.Navarro.1</td>\n",
       "      <td>NaN</td>\n",
       "      <td>NaN</td>\n",
       "    </tr>\n",
       "  </tbody>\n",
       "</table>\n",
       "</div>"
      ],
      "text/plain": [
       "        rank                                             record current  \\\n",
       "160   SENIOR  {'$ref': 'https://inspirehep.net/api/instituti...     NaN   \n",
       "269   MASTER  {'$ref': 'https://inspirehep.net/api/instituti...     NaN   \n",
       "1195  SENIOR  {'$ref': 'https://inspirehep.net/api/instituti...    True   \n",
       "\n",
       "     start_date         institution curated_relation institution_id   country  \\\n",
       "160        1999   Antonio Narino U.             True         908168  Colombia   \n",
       "269         NaN  Colombia, U. Natl.             True         906485  Colombia   \n",
       "1195       2007   Antonio Narino U.             True         908168  Colombia   \n",
       "\n",
       "               author_id end_date hidden  \n",
       "160           M.Losada.1     2019    NaN  \n",
       "269   Erika.Catano.Mur.1     2012    NaN  \n",
       "1195       G.A.Navarro.1      NaN    NaN  "
      ]
     },
     "execution_count": 33,
     "metadata": {},
     "output_type": "execute_result"
    }
   ],
   "source": [
    "dfp[dfp['country']=='Colombia']"
   ]
  },
  {
   "cell_type": "markdown",
   "id": "c72af686-5a64-4ab7-be17-b479ed7e9340",
   "metadata": {},
   "source": [
    "### Gender evolution with ranks"
   ]
  },
  {
   "cell_type": "code",
   "execution_count": 34,
   "id": "d820bc93",
   "metadata": {},
   "outputs": [],
   "source": [
    "profile_ranks = [d.get('positions') for d in df if d.get('positions') and \n",
    "                        any([True for dd in d.get('positions') if dd.get('rank')])]\n",
    "profile_ranks = flatten_list(profile_ranks)\n",
    "profile_ranks = [p for p in profile_ranks if p.get('rank')]"
   ]
  },
  {
   "cell_type": "code",
   "execution_count": 35,
   "id": "3ff053ab-d405-4276-aa03-a113970d3f2d",
   "metadata": {},
   "outputs": [],
   "source": [
    "DF=pd.DataFrame(df)"
   ]
  },
  {
   "cell_type": "code",
   "execution_count": 36,
   "id": "3282c3cb-a74a-401f-bd76-058ae79b4d24",
   "metadata": {},
   "outputs": [
    {
     "data": {
      "text/plain": [
       "(29969, 13)"
      ]
     },
     "execution_count": 36,
     "metadata": {},
     "output_type": "execute_result"
    }
   ],
   "source": [
    "DF = DF.drop_duplicates('author_id').reset_index(drop=True)\n",
    "DF.shape"
   ]
  },
  {
   "cell_type": "code",
   "execution_count": 37,
   "id": "bb04b4d0-548e-410b-9a8a-77a956fb1503",
   "metadata": {},
   "outputs": [],
   "source": [
    "ag = dict(zip(DF['author_id'].to_list(),DF['gender'].to_list()))"
   ]
  },
  {
   "cell_type": "code",
   "execution_count": 38,
   "id": "79bde5f4",
   "metadata": {},
   "outputs": [
    {
     "data": {
      "text/plain": [
       "rank\n",
       "POSTDOC          6455\n",
       "PHD              6241\n",
       "SENIOR           3490\n",
       "UNDERGRADUATE    3128\n",
       "JUNIOR           1491\n",
       "MASTER           1351\n",
       "VISITOR           708\n",
       "STAFF             548\n",
       "OTHER              20\n",
       "Name: count, dtype: int64"
      ]
     },
     "execution_count": 38,
     "metadata": {},
     "output_type": "execute_result"
    }
   ],
   "source": [
    "dfp=pd.DataFrame(profile_ranks).drop_duplicates(subset=[\n",
    "     'rank','end_date','start_date','institution','curated_relation','institution_id','country','author_id','current','hidden'\n",
    "    ]).reset_index(drop=True)\n",
    "dfp['rank'].value_counts()"
   ]
  },
  {
   "cell_type": "code",
   "execution_count": 39,
   "id": "4583fdcd-9450-480d-be0b-64eae51fec2f",
   "metadata": {},
   "outputs": [
    {
     "data": {
      "text/plain": [
       "23432"
      ]
     },
     "execution_count": 39,
     "metadata": {},
     "output_type": "execute_result"
    }
   ],
   "source": [
    "len(dfp)"
   ]
  },
  {
   "cell_type": "code",
   "execution_count": 40,
   "id": "f037d7e5-8d8d-41c4-9d8e-b7ca9b9e7804",
   "metadata": {},
   "outputs": [],
   "source": [
    "dfp['gender'] = dfp['author_id'].apply(lambda a: ag[a] )"
   ]
  },
  {
   "cell_type": "code",
   "execution_count": 41,
   "id": "33ed05dc-a5b3-46e5-aafb-9130c6d569f2",
   "metadata": {},
   "outputs": [],
   "source": [
    "dfp['ranks'] = dfp.apply(lambda r: dfp[dfp['author_id'] == r['author_id'] ]['rank'].unique(),axis='columns')"
   ]
  },
  {
   "cell_type": "code",
   "execution_count": 42,
   "id": "e71d8cfd-fd03-4b54-838f-9d6e8aeb28aa",
   "metadata": {},
   "outputs": [],
   "source": [
    "dfp['ranks'] = dfp['ranks'].apply(lambda L: sorted(list(L)))"
   ]
  },
  {
   "cell_type": "code",
   "execution_count": 43,
   "id": "c794a5f0-38c7-43be-922d-e46e2b47d7bd",
   "metadata": {},
   "outputs": [
    {
     "data": {
      "text/plain": [
       "['PHD']"
      ]
     },
     "execution_count": 43,
     "metadata": {},
     "output_type": "execute_result"
    }
   ],
   "source": [
    "dfp['ranks'].iloc[0]"
   ]
  },
  {
   "cell_type": "code",
   "execution_count": 44,
   "id": "2f54f6b0",
   "metadata": {},
   "outputs": [],
   "source": [
    "dfpu = dfp.drop_duplicates('author_id').reset_index(drop=True)"
   ]
  },
  {
   "cell_type": "code",
   "execution_count": 45,
   "id": "998a105a-fa41-470f-8d89-d70f49cf6aac",
   "metadata": {},
   "outputs": [
    {
     "data": {
      "text/plain": [
       "(7023, 13)"
      ]
     },
     "execution_count": 45,
     "metadata": {},
     "output_type": "execute_result"
    }
   ],
   "source": [
    "dfpu.shape"
   ]
  },
  {
   "cell_type": "code",
   "execution_count": 46,
   "id": "75ec6db6-9159-4db4-9c58-c6f5f9fa13f1",
   "metadata": {},
   "outputs": [],
   "source": [
    "class get_gender:\n",
    "    def __init__(self,df):\n",
    "        self.df = df\n",
    "        self.all = df.shape[0]\n",
    "        self.male = df[df['gender'] == 'male'].shape[0]\n",
    "        self.female = df[df['gender'] == 'female'].shape[0]\n",
    "        self.unknown = df[ (df['gender'] != 'male') & (df['gender'] != 'female') ].shape[0]\n",
    "    def __call__(self):\n",
    "        return self.df"
   ]
  },
  {
   "cell_type": "code",
   "execution_count": 47,
   "id": "d3e8b052-b266-412f-8840-7745d79618fe",
   "metadata": {},
   "outputs": [],
   "source": [
    "student = get_gender(dfpu)"
   ]
  },
  {
   "cell_type": "code",
   "execution_count": 48,
   "id": "e9cc016e-3971-41af-8cae-847b96d7ff55",
   "metadata": {},
   "outputs": [
    {
     "data": {
      "text/plain": [
       "(7023, 7023)"
      ]
     },
     "execution_count": 48,
     "metadata": {},
     "output_type": "execute_result"
    }
   ],
   "source": [
    "student.all,student.male+student.female+student.unknown"
   ]
  },
  {
   "cell_type": "code",
   "execution_count": 49,
   "id": "1961823d-288a-4aa3-9139-b78c73746aaa",
   "metadata": {},
   "outputs": [],
   "source": [
    "def gender_stats(n=0):\n",
    "    All = dfpu[dfpu['ranks'].apply(lambda L: len(L) > n)]\n",
    "    not_permanent = dfpu[dfpu['ranks'].apply(lambda L: \n",
    "           len(set(['SENIOR','JUNIOR','VISITOR', 'STAFF']\n",
    "                  ).intersection(L)) == 0 and len(L) > n )]\n",
    "\n",
    "    only_permanent = dfpu[dfpu['ranks'].apply(lambda L: \n",
    "          len( set(['PHD','POSTDOC','MASTER','UNDERGRADUATE','OTHER']\n",
    "                  ).intersection(L))==0 and len(L) > n ) ]\n",
    "\n",
    "    student = not_permanent[ not_permanent['ranks'].apply(lambda L: 'POSTDOC' not in L and len(L) > n) ]\n",
    "\n",
    "    postdoc = not_permanent[ not_permanent['ranks'].apply(lambda L: 'POSTDOC' in L and len(L) > n )  ]\n",
    "\n",
    "    full_career = dfpu[dfpu['ranks'].apply(lambda L: \n",
    "           len(set(['SENIOR','JUNIOR','VISITOR', 'STAFF']).intersection(L))>0 \n",
    "      and len(set(['PHD','POSTDOC','MASTER','UNDERGRADUATE','OTHER']).intersection(L))>0\n",
    "            and len(L) > n+1)] # have declared positions both as not_permanent and permanent\n",
    "\n",
    "    permanent = pd.concat((only_permanent,full_career)).reset_index(drop=True) \n",
    "    prmnt = permanent # full_career #\n",
    "    senior = prmnt[prmnt['ranks'].apply(lambda L: \n",
    "           len(set(['SENIOR']).intersection(L))>0\n",
    "                                      )]\n",
    "    junior = prmnt[prmnt['ranks'].apply(lambda L: \n",
    "           len(set(['SENIOR']).intersection(L))==0\n",
    "                                      )]\n",
    "    # CHECKED WITH:\n",
    "    #permanent = dfpu[dfpu['ranks'].apply(lambda L: \n",
    "    #       len(set(['SENIOR','JUNIOR','VISITOR', 'STAFF']\n",
    "    #              ).intersection(L)) != 0 and len(L) > n )]\n",
    "\n",
    "    return { 'All':get_gender(All),\n",
    "            'student':get_gender(student), 'postdoc':get_gender(postdoc), \n",
    "            'not_permanent':get_gender(not_permanent), 'junior':get_gender(junior),\n",
    "            'senior':get_gender(senior),'only_permanent':get_gender(only_permanent),\n",
    "            'full_career':get_gender(full_career), 'permanent':get_gender(permanent)\n",
    "            }"
   ]
  },
  {
   "cell_type": "code",
   "execution_count": 50,
   "id": "79ed3b51-cb48-4d5f-99f2-36477e30c660",
   "metadata": {},
   "outputs": [],
   "source": [
    "tps = []\n",
    "for n in range(2):\n",
    "    gs = gender_stats(n)\n",
    "    for tp in gs.keys():\n",
    "        try:\n",
    "            f_m = round(gs[tp].female/gs[tp].male*100,1)\n",
    "        except:\n",
    "            f_m = np.nan\n",
    "        tps.append({'n': n+1,'type': tp ,'all': gs[tp].all,'gender':gs[tp].all-gs[tp].unknown,\n",
    "                'male':gs[tp].male, 'female':gs[tp].female,\n",
    "                '% f/m': f_m ,'df':gs[tp]()})"
   ]
  },
  {
   "cell_type": "code",
   "execution_count": 51,
   "id": "55b63d45-4646-42fb-bbe8-04cf57f5e776",
   "metadata": {},
   "outputs": [
    {
     "data": {
      "text/plain": [
       "(5258, 3646)"
      ]
     },
     "execution_count": 51,
     "metadata": {},
     "output_type": "execute_result"
    }
   ],
   "source": [
    "2238+3020,1440+2206"
   ]
  },
  {
   "cell_type": "code",
   "execution_count": 52,
   "id": "d20382eb-a2c6-4913-b453-68e5b579bec0",
   "metadata": {},
   "outputs": [
    {
     "data": {
      "text/html": [
       "<div>\n",
       "<style scoped>\n",
       "    .dataframe tbody tr th:only-of-type {\n",
       "        vertical-align: middle;\n",
       "    }\n",
       "\n",
       "    .dataframe tbody tr th {\n",
       "        vertical-align: top;\n",
       "    }\n",
       "\n",
       "    .dataframe thead th {\n",
       "        text-align: right;\n",
       "    }\n",
       "</style>\n",
       "<table border=\"1\" class=\"dataframe\">\n",
       "  <thead>\n",
       "    <tr style=\"text-align: right;\">\n",
       "      <th></th>\n",
       "      <th>n</th>\n",
       "      <th>type</th>\n",
       "      <th>all</th>\n",
       "      <th>gender</th>\n",
       "      <th>male</th>\n",
       "      <th>female</th>\n",
       "      <th>% f/m</th>\n",
       "      <th>df</th>\n",
       "    </tr>\n",
       "  </thead>\n",
       "  <tbody>\n",
       "    <tr>\n",
       "      <th>0</th>\n",
       "      <td>1</td>\n",
       "      <td>All</td>\n",
       "      <td>7023</td>\n",
       "      <td>6038</td>\n",
       "      <td>5258</td>\n",
       "      <td>780</td>\n",
       "      <td>14.8</td>\n",
       "      <td>rank                           ...</td>\n",
       "    </tr>\n",
       "    <tr>\n",
       "      <th>1</th>\n",
       "      <td>2</td>\n",
       "      <td>All</td>\n",
       "      <td>5354</td>\n",
       "      <td>4601</td>\n",
       "      <td>4013</td>\n",
       "      <td>588</td>\n",
       "      <td>14.7</td>\n",
       "      <td>rank                                 ...</td>\n",
       "    </tr>\n",
       "    <tr>\n",
       "      <th>2</th>\n",
       "      <td>1</td>\n",
       "      <td>full_career</td>\n",
       "      <td>3336</td>\n",
       "      <td>2866</td>\n",
       "      <td>2528</td>\n",
       "      <td>338</td>\n",
       "      <td>13.4</td>\n",
       "      <td>rank                                  ...</td>\n",
       "    </tr>\n",
       "    <tr>\n",
       "      <th>3</th>\n",
       "      <td>2</td>\n",
       "      <td>full_career</td>\n",
       "      <td>2852</td>\n",
       "      <td>2439</td>\n",
       "      <td>2161</td>\n",
       "      <td>278</td>\n",
       "      <td>12.9</td>\n",
       "      <td>rank                                  ...</td>\n",
       "    </tr>\n",
       "    <tr>\n",
       "      <th>4</th>\n",
       "      <td>1</td>\n",
       "      <td>junior</td>\n",
       "      <td>1206</td>\n",
       "      <td>1005</td>\n",
       "      <td>859</td>\n",
       "      <td>146</td>\n",
       "      <td>17.0</td>\n",
       "      <td>rank                                 ...</td>\n",
       "    </tr>\n",
       "    <tr>\n",
       "      <th>5</th>\n",
       "      <td>2</td>\n",
       "      <td>junior</td>\n",
       "      <td>887</td>\n",
       "      <td>730</td>\n",
       "      <td>631</td>\n",
       "      <td>99</td>\n",
       "      <td>15.7</td>\n",
       "      <td>rank                                 ...</td>\n",
       "    </tr>\n",
       "    <tr>\n",
       "      <th>6</th>\n",
       "      <td>1</td>\n",
       "      <td>not_permanent</td>\n",
       "      <td>3054</td>\n",
       "      <td>2620</td>\n",
       "      <td>2238</td>\n",
       "      <td>382</td>\n",
       "      <td>17.1</td>\n",
       "      <td>rank                           ...</td>\n",
       "    </tr>\n",
       "    <tr>\n",
       "      <th>7</th>\n",
       "      <td>2</td>\n",
       "      <td>not_permanent</td>\n",
       "      <td>1962</td>\n",
       "      <td>1684</td>\n",
       "      <td>1440</td>\n",
       "      <td>244</td>\n",
       "      <td>16.9</td>\n",
       "      <td>rank                                 ...</td>\n",
       "    </tr>\n",
       "    <tr>\n",
       "      <th>8</th>\n",
       "      <td>1</td>\n",
       "      <td>only_permanent</td>\n",
       "      <td>633</td>\n",
       "      <td>552</td>\n",
       "      <td>492</td>\n",
       "      <td>60</td>\n",
       "      <td>12.2</td>\n",
       "      <td>rank                                  ...</td>\n",
       "    </tr>\n",
       "    <tr>\n",
       "      <th>9</th>\n",
       "      <td>2</td>\n",
       "      <td>only_permanent</td>\n",
       "      <td>56</td>\n",
       "      <td>51</td>\n",
       "      <td>45</td>\n",
       "      <td>6</td>\n",
       "      <td>13.3</td>\n",
       "      <td>rank                                 ...</td>\n",
       "    </tr>\n",
       "    <tr>\n",
       "      <th>10</th>\n",
       "      <td>1</td>\n",
       "      <td>permanent</td>\n",
       "      <td>3969</td>\n",
       "      <td>3418</td>\n",
       "      <td>3020</td>\n",
       "      <td>398</td>\n",
       "      <td>13.2</td>\n",
       "      <td>rank                                  ...</td>\n",
       "    </tr>\n",
       "    <tr>\n",
       "      <th>11</th>\n",
       "      <td>2</td>\n",
       "      <td>permanent</td>\n",
       "      <td>2908</td>\n",
       "      <td>2490</td>\n",
       "      <td>2206</td>\n",
       "      <td>284</td>\n",
       "      <td>12.9</td>\n",
       "      <td>rank                                  ...</td>\n",
       "    </tr>\n",
       "    <tr>\n",
       "      <th>12</th>\n",
       "      <td>1</td>\n",
       "      <td>postdoc</td>\n",
       "      <td>1179</td>\n",
       "      <td>987</td>\n",
       "      <td>804</td>\n",
       "      <td>183</td>\n",
       "      <td>22.8</td>\n",
       "      <td>rank                                 ...</td>\n",
       "    </tr>\n",
       "    <tr>\n",
       "      <th>13</th>\n",
       "      <td>2</td>\n",
       "      <td>postdoc</td>\n",
       "      <td>1052</td>\n",
       "      <td>882</td>\n",
       "      <td>719</td>\n",
       "      <td>163</td>\n",
       "      <td>22.7</td>\n",
       "      <td>rank                                 ...</td>\n",
       "    </tr>\n",
       "    <tr>\n",
       "      <th>14</th>\n",
       "      <td>1</td>\n",
       "      <td>senior</td>\n",
       "      <td>2763</td>\n",
       "      <td>2413</td>\n",
       "      <td>2161</td>\n",
       "      <td>252</td>\n",
       "      <td>11.7</td>\n",
       "      <td>rank                                  ...</td>\n",
       "    </tr>\n",
       "    <tr>\n",
       "      <th>15</th>\n",
       "      <td>2</td>\n",
       "      <td>senior</td>\n",
       "      <td>2021</td>\n",
       "      <td>1760</td>\n",
       "      <td>1575</td>\n",
       "      <td>185</td>\n",
       "      <td>11.7</td>\n",
       "      <td>rank                                  ...</td>\n",
       "    </tr>\n",
       "    <tr>\n",
       "      <th>16</th>\n",
       "      <td>1</td>\n",
       "      <td>student</td>\n",
       "      <td>1875</td>\n",
       "      <td>1633</td>\n",
       "      <td>1434</td>\n",
       "      <td>199</td>\n",
       "      <td>13.9</td>\n",
       "      <td>rank                           ...</td>\n",
       "    </tr>\n",
       "    <tr>\n",
       "      <th>17</th>\n",
       "      <td>2</td>\n",
       "      <td>student</td>\n",
       "      <td>910</td>\n",
       "      <td>802</td>\n",
       "      <td>721</td>\n",
       "      <td>81</td>\n",
       "      <td>11.2</td>\n",
       "      <td>rank                                     ...</td>\n",
       "    </tr>\n",
       "  </tbody>\n",
       "</table>\n",
       "</div>"
      ],
      "text/plain": [
       "    n            type   all  gender  male  female  % f/m  \\\n",
       "0   1             All  7023    6038  5258     780   14.8   \n",
       "1   2             All  5354    4601  4013     588   14.7   \n",
       "2   1     full_career  3336    2866  2528     338   13.4   \n",
       "3   2     full_career  2852    2439  2161     278   12.9   \n",
       "4   1          junior  1206    1005   859     146   17.0   \n",
       "5   2          junior   887     730   631      99   15.7   \n",
       "6   1   not_permanent  3054    2620  2238     382   17.1   \n",
       "7   2   not_permanent  1962    1684  1440     244   16.9   \n",
       "8   1  only_permanent   633     552   492      60   12.2   \n",
       "9   2  only_permanent    56      51    45       6   13.3   \n",
       "10  1       permanent  3969    3418  3020     398   13.2   \n",
       "11  2       permanent  2908    2490  2206     284   12.9   \n",
       "12  1         postdoc  1179     987   804     183   22.8   \n",
       "13  2         postdoc  1052     882   719     163   22.7   \n",
       "14  1          senior  2763    2413  2161     252   11.7   \n",
       "15  2          senior  2021    1760  1575     185   11.7   \n",
       "16  1         student  1875    1633  1434     199   13.9   \n",
       "17  2         student   910     802   721      81   11.2   \n",
       "\n",
       "                                                   df  \n",
       "0                  rank                           ...  \n",
       "1            rank                                 ...  \n",
       "2           rank                                  ...  \n",
       "3           rank                                  ...  \n",
       "4            rank                                 ...  \n",
       "5            rank                                 ...  \n",
       "6                  rank                           ...  \n",
       "7            rank                                 ...  \n",
       "8           rank                                  ...  \n",
       "9            rank                                 ...  \n",
       "10          rank                                  ...  \n",
       "11          rank                                  ...  \n",
       "12           rank                                 ...  \n",
       "13           rank                                 ...  \n",
       "14          rank                                  ...  \n",
       "15          rank                                  ...  \n",
       "16                 rank                           ...  \n",
       "17       rank                                     ...  "
      ]
     },
     "execution_count": 52,
     "metadata": {},
     "output_type": "execute_result"
    }
   ],
   "source": [
    "fm = pd.DataFrame(tps).sort_values(['type','n']).reset_index(drop=True)\n",
    "fm"
   ]
  },
  {
   "cell_type": "markdown",
   "id": "b764cc5c-b9a3-4475-93f3-2be74c284345",
   "metadata": {},
   "source": [
    "### Checks with n=1"
   ]
  },
  {
   "cell_type": "code",
   "execution_count": null,
   "id": "e4af0b98-9249-40fe-9ca5-b60cf34fca8e",
   "metadata": {},
   "outputs": [],
   "source": [
    "assert fm[fm['type']=='All'].iloc[0].gender == fm[fm['type']=='permanent'].iloc[0].gender + fm[fm['type']=='not_permanent'].iloc[0].gender"
   ]
  },
  {
   "cell_type": "code",
   "execution_count": null,
   "id": "a5d9ff92-4500-4b56-a39d-33b1a892d367",
   "metadata": {},
   "outputs": [],
   "source": [
    "assert fm[fm['type']=='not_permanent'].iloc[0].gender == fm[fm['type']=='student'].iloc[0].gender + fm[fm['type']=='postdoc'].iloc[0].gender"
   ]
  },
  {
   "cell_type": "code",
   "execution_count": null,
   "id": "465a0a2e-fd5a-466a-a780-0c303caac776",
   "metadata": {},
   "outputs": [],
   "source": [
    "assert fm[fm['type']=='permanent'].iloc[0].gender == fm[fm['type']=='senior'].iloc[0].gender + fm[fm['type']=='junior'].iloc[0].gender"
   ]
  },
  {
   "cell_type": "code",
   "execution_count": null,
   "id": "7f527c4e-d73c-427a-be1c-ec7d166af1d7",
   "metadata": {},
   "outputs": [],
   "source": [
    "tmp=fm['df'].loc[2]\n",
    "tmp[tmp['ranks'].apply(len)==1].shape"
   ]
  },
  {
   "cell_type": "markdown",
   "id": "ac3afa0e-e466-433f-a0e3-4f186e1929bb",
   "metadata": {
    "tags": []
   },
   "source": [
    "### Rank paper analysis\n",
    "Rank of the authors of each paper. A paper can have a rank for each author in the best case scenario"
   ]
  },
  {
   "cell_type": "code",
   "execution_count": null,
   "id": "f8672474-9925-465e-a5bf-f9a54b3eb81b",
   "metadata": {},
   "outputs": [],
   "source": [
    "papers_ranks = [d.get('papers') for d in df if d.get('papers') and \n",
    "                        any([True for dd in d.get('papers') if dd.get('rank')])]\n",
    "papers_ranks = flatten_list(papers_ranks)\n",
    "papers_ranks = [p for p in papers_ranks if p.get('rank')]"
   ]
  },
  {
   "cell_type": "code",
   "execution_count": null,
   "id": "f4343698-2c4e-4fea-bdb1-0db543cd2816",
   "metadata": {},
   "outputs": [],
   "source": [
    "dfp=pd.DataFrame(papers_ranks)\n",
    "dfp=dfp.drop_duplicates(subset=[\n",
    "     'recid','year','citation_count','journal_id','author_id','institution_id','rank','start_date','end_date','institution','country','current'\n",
    "    ]).reset_index(drop=True)"
   ]
  },
  {
   "cell_type": "code",
   "execution_count": null,
   "id": "091bd9a8-6681-40dc-aa7e-2d85db06bae2",
   "metadata": {},
   "outputs": [],
   "source": [
    "dfp['rank'].value_counts()"
   ]
  },
  {
   "cell_type": "code",
   "execution_count": null,
   "id": "774e6144-8ecc-4d5d-ac9b-20ad4d9a5a3c",
   "metadata": {},
   "outputs": [],
   "source": [
    "isinstance('1',str)"
   ]
  },
  {
   "cell_type": "code",
   "execution_count": null,
   "id": "22bd4689-025a-4eef-9de7-2e28c1ce9fed",
   "metadata": {},
   "outputs": [],
   "source": [
    "dfpu['start_date'] = dfpu.start_date.str.split('-').str[0].apply(lambda d: eval(d) if isinstance(d,str) else 0)"
   ]
  },
  {
   "cell_type": "code",
   "execution_count": null,
   "id": "910ecaaa-e988-4bb6-99a6-047a284aa407",
   "metadata": {},
   "outputs": [],
   "source": [
    "def count_f_m_year(d,df,year = 'start_date'):\n",
    "    m=df[(df[year]==d) & (df['gender'] == 'male') ].shape[0]\n",
    "    f=df[(df[year]==d) & (df['gender'] == 'female') ].shape[0]\n",
    "    if m > 0:\n",
    "        f_m = f/m \n",
    "    else:\n",
    "        f_m = float('nan')\n",
    "    return f_m"
   ]
  },
  {
   "cell_type": "code",
   "execution_count": null,
   "id": "30971c7f-fd31-4731-87a2-0874dfc82d56",
   "metadata": {},
   "outputs": [],
   "source": [
    "dfpu['f/m_year'] = dfpu['start_date'].apply(lambda d: count_f_m_year(d,dfpu))"
   ]
  },
  {
   "cell_type": "code",
   "execution_count": null,
   "id": "7c19ffa9-7a0d-4872-9893-b54071dbe490",
   "metadata": {},
   "outputs": [],
   "source": [
    "kk = dfpu.drop_duplicates('start_date')\n",
    "kk = kk.sort_values('start_date').reset_index(drop=True)\n",
    "kk[kk['start_date'] == 1990]"
   ]
  },
  {
   "cell_type": "code",
   "execution_count": null,
   "id": "6341fbf3-e92b-4edc-b834-94a1a05d49c1",
   "metadata": {},
   "outputs": [],
   "source": [
    "kk.loc[39,'f/m_year'] = 0.17"
   ]
  },
  {
   "cell_type": "code",
   "execution_count": null,
   "id": "0a9f2e99-0844-45f4-8793-849ca8093288",
   "metadata": {},
   "outputs": [],
   "source": [
    "%matplotlib inline"
   ]
  },
  {
   "cell_type": "code",
   "execution_count": null,
   "id": "abf0ff8b-969b-4195-82c9-954a92f2b606",
   "metadata": {},
   "outputs": [],
   "source": [
    "plt.plot(kk.start_date,kk['f/m_year']*100,'ko')\n",
    "plt.plot(kk.start_date,kk['f/m_year']*100)\n",
    "plt.xlim(1970,2024)\n",
    "plt.ylim(-1,25)\n",
    "plt.grid()\n",
    "plt.xlabel('Start year in profile',size =15)\n",
    "plt.ylabel('female/male [%]',size=15)\n",
    "plt.savefig('f_m_evolution.pdf')"
   ]
  },
  {
   "cell_type": "code",
   "execution_count": null,
   "id": "2b8f225f-d88c-4adb-b84f-db16a851ad6e",
   "metadata": {},
   "outputs": [],
   "source": [
    "dfp[dfp['country']=='Brazil']['rank'].value_counts()"
   ]
  },
  {
   "cell_type": "markdown",
   "id": "15ce1fa1-e810-4d6f-a2cf-91eab2c85a2f",
   "metadata": {},
   "source": [
    "Explanation: 5339 papers have a SENIOR author from Brazil at the moment of the publication"
   ]
  },
  {
   "cell_type": "code",
   "execution_count": null,
   "id": "ef78d364-f8d0-4591-9a32-c00c927869b9",
   "metadata": {},
   "outputs": [],
   "source": [
    "dfp[dfp['country']=='Chile']['rank'].value_counts()"
   ]
  },
  {
   "cell_type": "code",
   "execution_count": null,
   "id": "70037107-2f8c-40c0-933f-2472ea390994",
   "metadata": {},
   "outputs": [],
   "source": [
    "dfp[dfp['country']=='Argentina']['rank'].value_counts()"
   ]
  },
  {
   "cell_type": "code",
   "execution_count": null,
   "id": "c3dc392c-f5e3-4cd6-8ad5-6f4afde23f38",
   "metadata": {},
   "outputs": [],
   "source": [
    "dfp[dfp['country']=='Colombia']['rank'].value_counts()"
   ]
  },
  {
   "cell_type": "markdown",
   "id": "6cd47750-00f7-4d72-b75d-d8d099285996",
   "metadata": {},
   "source": [
    "Explanation: 38 papers have a PHD author from Colombia at the moment of the publication"
   ]
  },
  {
   "cell_type": "code",
   "execution_count": null,
   "id": "6dfce210-4395-40fb-9954-daedfea6f52e",
   "metadata": {},
   "outputs": [],
   "source": [
    "tmp=dfp[dfp['country']=='Colombia']\n",
    "tmp[tmp['rank']=='PHD']"
   ]
  },
  {
   "cell_type": "markdown",
   "id": "7246c9b3-bb7e-4b17-a3a9-d0272e58d965",
   "metadata": {
    "tags": []
   },
   "source": [
    "### Rank author-papers analysis"
   ]
  },
  {
   "cell_type": "code",
   "execution_count": null,
   "id": "a0197f56-138e-43ca-885e-8d788ff77a1e",
   "metadata": {},
   "outputs": [],
   "source": [
    "profile_ranks = [d.get('positions') for d in df if d.get('positions') and \n",
    "                        any([True for dd in d.get('positions') if dd.get('rank')])]\n",
    "profile_ranks = flatten_list(profile_ranks)\n",
    "profile_ranks = [p for p in profile_ranks if p.get('rank')]\n",
    "dfp=pd.DataFrame(profile_ranks)"
   ]
  },
  {
   "cell_type": "code",
   "execution_count": null,
   "id": "2e11f709-988f-4ad6-b18b-7250e9f189da",
   "metadata": {},
   "outputs": [],
   "source": [
    "papers_ranks = [d.get('papers') for d in df if d.get('papers') and \n",
    "                        any([True for dd in d.get('papers') if isinstance(dd.get('rank'),str)])]\n",
    "papers_ranks = flatten_list(papers_ranks)\n",
    "papers_ranks = [p for p in papers_ranks if p.get('rank')]"
   ]
  },
  {
   "cell_type": "markdown",
   "id": "730f8a24-326c-4dc7-a924-d2a6c06243b4",
   "metadata": {},
   "source": [
    "#### Author gender evolution"
   ]
  },
  {
   "cell_type": "code",
   "execution_count": null,
   "id": "9a64e5c4-7d69-4934-a2d3-b66be614786b",
   "metadata": {},
   "outputs": [],
   "source": [
    "dfpp=pd.DataFrame(papers_ranks)"
   ]
  },
  {
   "cell_type": "code",
   "execution_count": null,
   "id": "3d25214a-c00d-4ba2-b015-009c60aa2be6",
   "metadata": {},
   "outputs": [],
   "source": [
    "dfpp['gender'] = dfp['author_id'].apply(lambda a: ag[a] )"
   ]
  },
  {
   "cell_type": "code",
   "execution_count": null,
   "id": "9371cda9-427c-464a-8fea-58057ff1c76e",
   "metadata": {},
   "outputs": [],
   "source": [
    "dfpp['year'] = dfpp['year'].apply(int)"
   ]
  },
  {
   "cell_type": "code",
   "execution_count": null,
   "id": "2b0d7c66-16c6-42a0-9ae4-696e5dd269a8",
   "metadata": {},
   "outputs": [],
   "source": [
    "dfpp['f/m_year'] = dfpp['year'].apply(lambda d: count_f_m_year(d,dfpp,year='year'))"
   ]
  },
  {
   "cell_type": "code",
   "execution_count": null,
   "id": "8a6b8884-fa0c-4e78-96ea-2dd62e76dcbb",
   "metadata": {},
   "outputs": [],
   "source": [
    "dfpp['f/m_year']"
   ]
  },
  {
   "cell_type": "code",
   "execution_count": null,
   "id": "19fa37b7-2218-4162-91c7-63ec2b4b5504",
   "metadata": {},
   "outputs": [],
   "source": [
    "#kk = dfpp.drop_duplicates('year')\n",
    "kk = dfpp.sort_values('year').reset_index(drop=True)\n",
    "#kk[kk['year'] == 1990]"
   ]
  },
  {
   "cell_type": "code",
   "execution_count": null,
   "id": "7dc0f998-9faf-4290-9afa-dc5160c0b313",
   "metadata": {},
   "outputs": [],
   "source": [
    "%matplotlib inline"
   ]
  },
  {
   "cell_type": "code",
   "execution_count": null,
   "id": "77a1850c-cad3-462c-802c-2f224851cfa5",
   "metadata": {},
   "outputs": [],
   "source": [
    "plt.plot(kk.year,kk['f/m_year']*100,'ko')\n",
    "plt.plot(kk.year,kk['f/m_year']*100)\n",
    "plt.ylim(10,16)\n",
    "plt.xlim(1999,2023)\n",
    "#plt.title('paper counts > 600')\n",
    "plt.grid()\n",
    "plt.xlabel('Publication year',size =15)\n",
    "plt.ylabel('female/male [%]',size=15)\n",
    "plt.savefig('f_m_evolution.png')"
   ]
  },
  {
   "cell_type": "code",
   "execution_count": null,
   "id": "f455e317-9c4e-4fce-aa98-c86d2102da95",
   "metadata": {},
   "outputs": [],
   "source": [
    "kkk=dfpp[dfpp.year>2000]\n",
    "kkk[ (kkk.gender == 'male') | (kkk.gender == 'female')].year.value_counts()"
   ]
  },
  {
   "cell_type": "markdown",
   "id": "ab696d37-4d3c-4f64-939b-6ccdb5b0efd1",
   "metadata": {},
   "source": [
    "https://www.quora.com/How-do-I-find-the-minimum-number-of-votes-for-a-percentage-to-be-true-e-g-63-in-a-poll\n",
    "Margin of error = 1.96 * sqrt((p * (1-p)) / n)\n",
    "\n",
    "Where:\n",
    "\n",
    "1.96 is the critical value for a 95% confidence interval\n",
    "\n",
    "p is the proportion of upvotes in the sample\n",
    "\n",
    "(1-p) is the proportion of downvotes in the sample\n",
    "\n",
    "n is the sample size\n",
    "\n",
    "For the first post with 40 votes and 28/12 upvotes/downvotes:\n",
    "\n",
    "p = 28/40 = 0.7\n",
    "\n",
    "(1-p) = 0.3\n",
    "\n",
    "n = 40\n",
    "\n",
    "Plugging these values into the formula, we get:\n",
    "\n",
    "Margin of error = 1.96 * sqrt((0.7 * 0.3) / 40) = 0.196\n",
    "\n",
    "So the margin of error for the first post is 19.6%."
   ]
  },
  {
   "cell_type": "code",
   "execution_count": null,
   "id": "d5a7896b-bc8c-4c9b-8429-0de43d17cb16",
   "metadata": {},
   "outputs": [],
   "source": [
    "1.96 * sqrt((0.7 * 0.3) / 400) "
   ]
  },
  {
   "cell_type": "code",
   "execution_count": null,
   "id": "7e1a2f43-3d63-4d56-b2af-062868ed115e",
   "metadata": {},
   "outputs": [],
   "source": [
    "dfpp.shape"
   ]
  },
  {
   "cell_type": "markdown",
   "id": "6e09d172-e8d1-432e-b623-7541a903dda9",
   "metadata": {},
   "source": [
    "### Instution number evolution → Colombia"
   ]
  },
  {
   "cell_type": "code",
   "execution_count": null,
   "id": "1aaf733f-c7b3-4d63-87e1-6fa333316a8c",
   "metadata": {},
   "outputs": [],
   "source": [
    "kk = dfpp[dfpp['country'] == 'Colombia'].reset_index(drop=True)"
   ]
  },
  {
   "cell_type": "code",
   "execution_count": null,
   "id": "fd3c8069-af3b-4406-a3ca-c61aee810ea8",
   "metadata": {},
   "outputs": [],
   "source": [
    "kk.shape"
   ]
  },
  {
   "cell_type": "code",
   "execution_count": null,
   "id": "4256190a-49b3-45d6-805d-d627da1aabbc",
   "metadata": {},
   "outputs": [],
   "source": [
    "tppy = kk.year.value_counts().to_dict()"
   ]
  },
  {
   "cell_type": "code",
   "execution_count": null,
   "id": "e584f09a-f6a8-4716-b5c9-123c9d6ae9c1",
   "metadata": {},
   "outputs": [],
   "source": [
    "kk['Total_CO_publications_per_year'] = kk['year'].apply(lambda y: tppy[y])"
   ]
  },
  {
   "cell_type": "code",
   "execution_count": null,
   "id": "35f0ec43-31e2-48fe-ba91-b181fe048eb9",
   "metadata": {},
   "outputs": [],
   "source": [
    "ins =pd.DataFrame()\n",
    "for y in kk.year.sort_values().unique():\n",
    "    ins = pd.concat( (ins,kk[kk['year'] == y].drop_duplicates('institution_id')) )"
   ]
  },
  {
   "cell_type": "code",
   "execution_count": null,
   "id": "8693d231-d40a-49ab-a48e-b378e3f7b670",
   "metadata": {},
   "outputs": [],
   "source": [
    "insts = []\n",
    "dinsts = {}\n",
    "for y in ins.year.sort_values().unique():\n",
    "    insts= list(set(insts).union(ins[ins['year']==y].institution.to_list()))\n",
    "    dinsts[y] = insts"
   ]
  },
  {
   "cell_type": "code",
   "execution_count": null,
   "id": "3ba60499-87b5-4adb-ae4d-71a2f9daf63f",
   "metadata": {},
   "outputs": [],
   "source": [
    "ins['institutions']= ins.year.apply(lambda y: dinsts[y])"
   ]
  },
  {
   "cell_type": "code",
   "execution_count": null,
   "id": "953cd3e2-7c25-41a7-9075-39370c876065",
   "metadata": {},
   "outputs": [],
   "source": [
    "kkk=ins.drop_duplicates('year').reset_index(drop=True)"
   ]
  },
  {
   "cell_type": "code",
   "execution_count": null,
   "id": "b744879a-fedd-4e47-99f7-ce456d816b2e",
   "metadata": {},
   "outputs": [],
   "source": [
    "kkk[\"institutions_number\"]=kkk.institutions.apply(len)"
   ]
  },
  {
   "cell_type": "code",
   "execution_count": null,
   "id": "84b93519-c562-4021-95bd-e459a2561098",
   "metadata": {},
   "outputs": [],
   "source": [
    "plt.plot(kkk.year,kkk.institutions_number,'ko')\n",
    "plt.plot(kkk.year,kkk.institutions_number)"
   ]
  },
  {
   "cell_type": "markdown",
   "id": "48d89c83-5bc1-4b6c-b245-d5a0e58b940d",
   "metadata": {},
   "source": [
    "### Author count evolution"
   ]
  },
  {
   "cell_type": "code",
   "execution_count": null,
   "id": "eac7dd4d-a574-45c7-98ae-4616443fc437",
   "metadata": {},
   "outputs": [],
   "source": [
    "kk.shape"
   ]
  },
  {
   "cell_type": "code",
   "execution_count": null,
   "id": "86202d5d-4cf3-4f25-b260-638a324af44a",
   "metadata": {},
   "outputs": [],
   "source": [
    "auths = []\n",
    "dauths = {}\n",
    "for y in ins.year.sort_values().unique():\n",
    "    auths= list(set(auths).union(kk[kk['year']==y].author_id.to_list()))\n",
    "    dinsts[y] = auths"
   ]
  },
  {
   "cell_type": "code",
   "execution_count": null,
   "id": "a5c04360-b216-4a4b-81a3-0da0649d65f0",
   "metadata": {},
   "outputs": [],
   "source": [
    "kk['authors']= kk.year.apply(lambda y: dinsts[y])"
   ]
  },
  {
   "cell_type": "code",
   "execution_count": null,
   "id": "14edadac-bf41-4dad-adc2-0f9fd7dad3e0",
   "metadata": {},
   "outputs": [],
   "source": [
    "kkkk = kk.drop_duplicates('year').reset_index(drop=True)\n",
    "kkkk = kkkk.sort_values('year')"
   ]
  },
  {
   "cell_type": "code",
   "execution_count": null,
   "id": "62354591-94d0-4fb3-b204-7da87a1c8b3c",
   "metadata": {},
   "outputs": [],
   "source": [
    "kkkk[\"authors_number\"]=kkkk.authors.apply(len)"
   ]
  },
  {
   "cell_type": "code",
   "execution_count": null,
   "id": "b0d35abf-2d20-4974-8d3e-68c0cb8a3d82",
   "metadata": {},
   "outputs": [],
   "source": [
    "plt.plot(kkkk.year,kkkk.authors_number,'ko')\n",
    "plt.plot(kkkk.year,kkkk.authors_number)"
   ]
  },
  {
   "cell_type": "code",
   "execution_count": null,
   "id": "3505502c-6176-4e7d-a4f4-0f3512df6f08",
   "metadata": {},
   "outputs": [],
   "source": [
    "kkk[[     'year','institutions','institutions_number']].merge(\n",
    "    kkkk[['year','authors',      'authors_number']],on='year',how='left'\n",
    "     ).to_excel('hepcolombia.xlsx',index='False')"
   ]
  },
  {
   "cell_type": "markdown",
   "id": "6dff5941-4190-4f3e-9d90-e9635df7af0b",
   "metadata": {},
   "source": [
    "## Country by country analysis"
   ]
  },
  {
   "cell_type": "code",
   "execution_count": null,
   "id": "c329771a-d19b-46c1-88e1-1c0fe6cd5815",
   "metadata": {},
   "outputs": [],
   "source": [
    "dfpp=dfpp.drop_duplicates(subset=[\n",
    "     'recid','year','citation_count','journal_id','author_id','institution_id','rank','start_date','end_date',\n",
    "    'institution','country','current'\n",
    "    ]).reset_index(drop=True)"
   ]
  },
  {
   "cell_type": "code",
   "execution_count": null,
   "id": "e87299ad-30de-47bc-8461-df1ca5cf1edf",
   "metadata": {},
   "outputs": [],
   "source": [
    "def get_region(c,country='Colombia',LA_countries=['Brazil', 'Mexico', 'Argentina','Chile', 'Colombia','Bolivia','Cuba', #5\n",
    "              'Costa Rica', 'Ecuador', 'El Salvador', 'Guatemala', 'Honduras', #10\n",
    "               'Nicaragua', 'Panama', 'Paraguay', 'Peru', #15\n",
    "              'Dominican Republic','Uruguay','Venezuela']):\n",
    "    if c in LA_countries:\n",
    "        region='LA'\n",
    "    else:\n",
    "        region='WW'\n",
    "    if c==country:\n",
    "        region=pycc.country_name_to_country_alpha2(country)\n",
    "    return region"
   ]
  },
  {
   "cell_type": "code",
   "execution_count": null,
   "id": "867fa3db-71b0-4a65-acb8-c40738c19713",
   "metadata": {},
   "outputs": [],
   "source": [
    "country='Colombia'\n",
    "dfc=dfp[dfp['country']==country]\n",
    "au=dfc['author_id'].unique()\n",
    "dfppc=dfpp[dfpp['author_id'].apply(lambda a: a in au)].drop_duplicates(subset=['institution_id','rank','start_date','end_date']).reset_index(drop=True)\n",
    "\n",
    "dfppc['region']=dfppc['country'].apply(lambda c:get_region(c,country=country ))"
   ]
  },
  {
   "cell_type": "code",
   "execution_count": null,
   "id": "19c4d6db-1bd9-4fd9-84e2-d3bc0f5e20b4",
   "metadata": {},
   "outputs": [],
   "source": [
    "dfppc"
   ]
  },
  {
   "cell_type": "code",
   "execution_count": null,
   "id": "970c0ab1-765b-41e7-9dda-28c57f5d2aa8",
   "metadata": {},
   "outputs": [],
   "source": [
    "dfppc['region'].value_counts()"
   ]
  },
  {
   "cell_type": "markdown",
   "id": "1fca17ba-2b29-4b56-a63d-6093f17e7d35",
   "metadata": {},
   "source": [
    "Explanation of next result for PHD: \n",
    "* 8 authors who have some rank from Colombia, published as PHD students from Colombia, \n",
    "* 21 authors who have some rank from Colombia, published as PHD students from the rest of the Latin America,\n",
    "* 9 authors who have some rank from Colombia, published as PHD students from the rest of the world wide."
   ]
  },
  {
   "cell_type": "code",
   "execution_count": null,
   "id": "f6be0aa2-3011-4e9e-8b55-c1b22ae6d5b5",
   "metadata": {},
   "outputs": [],
   "source": [
    "%pylab inline"
   ]
  },
  {
   "cell_type": "code",
   "execution_count": null,
   "id": "b000d616-533a-458d-a270-6a2825447367",
   "metadata": {},
   "outputs": [],
   "source": [
    "def get_bottom(L):\n",
    "    xtot=0\n",
    "    bottom=[]\n",
    "    for x in L:\n",
    "        bottom.append(xtot)\n",
    "        xtot=xtot+x\n",
    "    return bottom\n",
    "\n",
    "def get_colors(indexes):\n",
    "    return [colors.get(x) for x in indexes ]"
   ]
  },
  {
   "cell_type": "code",
   "execution_count": null,
   "id": "cba595a5-9706-42fb-964f-f54103b7a4b1",
   "metadata": {},
   "outputs": [],
   "source": [
    "CO=pycc.country_name_to_country_alpha2(country)\n",
    "colors = {f'{CO}':'b','LA':'yellow','WW':'r'}\n",
    "\n",
    "ranks=['UNDERGRADUATE','PHD','POSTDOC','JUNIOR','SENIOR']\n",
    "x=0\n",
    "rank=ranks[x]\n",
    "\n",
    "vc=dfppc[dfppc['rank']==rank]['region'].value_counts().sort_index()\n",
    "print(vc)\n",
    "plt.bar(x,vc,color=get_colors(vc.index),bottom=get_bottom(vc))\n",
    "\n",
    "x += 1\n",
    "rank=ranks[x]\n",
    "vc=dfppc[dfppc['rank']==rank]['region'].value_counts().sort_index()\n",
    "print(vc)\n",
    "plt.bar(x,vc,color=get_colors(vc.index),bottom=get_bottom(vc),label=vc.keys())\n",
    "\n",
    "x += 1\n",
    "rank=ranks[x]\n",
    "vc=dfppc[dfppc['rank']==rank]['region'].value_counts().sort_index()\n",
    "print(vc)\n",
    "plt.bar(x,vc,color=get_colors(vc.index),bottom=get_bottom(vc))\n",
    "\n",
    "x += 1\n",
    "rank=ranks[x]\n",
    "vc=dfppc[dfppc['rank']==rank]['region'].value_counts().sort_index()\n",
    "print(vc)\n",
    "plt.bar(x,vc,color=get_colors(vc.index),bottom=get_bottom(vc))\n",
    "\n",
    "x += 1\n",
    "rank=ranks[x]\n",
    "vc=dfppc[dfppc['rank']==rank]['region'].value_counts().sort_index()\n",
    "print(vc)\n",
    "plt.bar(x,vc,color=get_colors(vc.index),bottom=get_bottom(vc))\n",
    "\n",
    "plt.xticks(range(5),ranks)\n",
    "plt.ylabel( f'authors with any {country} rank and specific $x$-axis rank' )\n",
    "\n",
    "plt.legend()"
   ]
  },
  {
   "cell_type": "code",
   "execution_count": null,
   "id": "55e9a7ed-d124-4d1e-b7d5-86c33aaf4f0c",
   "metadata": {},
   "outputs": [],
   "source": [
    "dfppc[dfppc['rank']=='UNDERGRADUATE']['region'].value_counts().sort_index()"
   ]
  },
  {
   "cell_type": "markdown",
   "id": "59ad6493-d75f-4ab6-b5ed-7853a9a4468b",
   "metadata": {},
   "source": [
    "The 8 authors who have some rank from Colombia, have published as PHD students from Colombia:"
   ]
  },
  {
   "cell_type": "code",
   "execution_count": null,
   "id": "a8c62f64-956a-4308-8f22-71c4e3dcef3a",
   "metadata": {},
   "outputs": [],
   "source": [
    "dfppc[ (dfppc['rank']=='PHD') & (dfppc['region']=='CO') ]"
   ]
  },
  {
   "cell_type": "code",
   "execution_count": null,
   "id": "0fd1cd36-a17a-4d4d-812e-164270ab0e9e",
   "metadata": {},
   "outputs": [],
   "source": [
    "country='Brazil'\n",
    "dfc=dfp[dfp['country']==country]\n",
    "au=dfc['author_id'].unique()\n",
    "dfppc=dfpp[dfpp['author_id'].apply(lambda a: a in au)].drop_duplicates(subset=['institution_id','rank','start_date','end_date']).reset_index(drop=True)\n",
    "\n",
    "dfppc['region']=dfppc['country'].apply(lambda c:get_region(c,country=country ))"
   ]
  },
  {
   "cell_type": "code",
   "execution_count": null,
   "id": "87f28f6e-2c10-4e19-b36a-e82c6260d779",
   "metadata": {},
   "outputs": [],
   "source": [
    "CO=pycc.country_name_to_country_alpha2(country)\n",
    "colors[CO]='b'\n",
    "\n",
    "ranks=['UNDERGRADUATE','PHD','POSTDOC','JUNIOR','SENIOR']\n",
    "x=0\n",
    "rank=ranks[x]\n",
    "\n",
    "vc=dfppc[dfppc['rank']==rank]['region'].value_counts().sort_index()\n",
    "print(vc)\n",
    "plt.bar(x,vc,color=get_colors(vc.index),bottom=get_bottom(vc))\n",
    "\n",
    "x += 1\n",
    "rank=ranks[x]\n",
    "vc=dfppc[dfppc['rank']==rank]['region'].value_counts().sort_index()\n",
    "print(vc)\n",
    "plt.bar(x,vc,color=get_colors(vc.index),bottom=get_bottom(vc),label=vc.keys())\n",
    "\n",
    "x += 1\n",
    "rank=ranks[x]\n",
    "vc=dfppc[dfppc['rank']==rank]['region'].value_counts().sort_index()\n",
    "print(vc)\n",
    "plt.bar(x,vc,color=get_colors(vc.index),bottom=get_bottom(vc))\n",
    "\n",
    "x += 1\n",
    "rank=ranks[x]\n",
    "vc=dfppc[dfppc['rank']==rank]['region'].value_counts().sort_index()\n",
    "print(vc)\n",
    "plt.bar(x,vc,color=get_colors(vc.index),bottom=get_bottom(vc))\n",
    "\n",
    "x += 1\n",
    "rank=ranks[x]\n",
    "vc=dfppc[dfppc['rank']==rank]['region'].value_counts().sort_index()\n",
    "print(vc)\n",
    "plt.bar(x,vc,color=get_colors(vc.index),bottom=get_bottom(vc))\n",
    "\n",
    "plt.xticks(range(5),ranks)\n",
    "plt.ylabel( f'$x$-axis rank of the author with any {country} rank' )\n",
    "\n",
    "plt.legend()"
   ]
  },
  {
   "cell_type": "code",
   "execution_count": null,
   "id": "0d066ca4-80a8-4a5c-a038-23123ca9a721",
   "metadata": {},
   "outputs": [],
   "source": [
    "country='Chile'\n",
    "dfc=dfp[dfp['country']==country]\n",
    "au=dfc['author_id'].unique()\n",
    "dfppc=dfpp[dfpp['author_id'].apply(lambda a: a in au)].drop_duplicates(subset=['institution_id','rank','start_date','end_date']).reset_index(drop=True)\n",
    "\n",
    "dfppc['region']=dfppc['country'].apply(lambda c:get_region(c,country=country ))"
   ]
  },
  {
   "cell_type": "code",
   "execution_count": null,
   "id": "0cd5bc46-ccde-4bd6-a2a2-f411733eff21",
   "metadata": {},
   "outputs": [],
   "source": [
    "CO=pycc.country_name_to_country_alpha2(country)\n",
    "colors[CO]='b'\n",
    "\n",
    "ranks=['UNDERGRADUATE','PHD','POSTDOC','JUNIOR','SENIOR']\n",
    "x=0\n",
    "rank=ranks[x]\n",
    "\n",
    "vc=dfppc[dfppc['rank']==rank]['region'].value_counts().sort_index()\n",
    "print(vc)\n",
    "plt.bar(x,vc,color=get_colors(vc.index),bottom=get_bottom(vc))\n",
    "\n",
    "x += 1\n",
    "rank=ranks[x]\n",
    "vc=dfppc[dfppc['rank']==rank]['region'].value_counts().sort_index()\n",
    "print(vc)\n",
    "plt.bar(x,vc,color=get_colors(vc.index),bottom=get_bottom(vc),label=vc.keys())\n",
    "\n",
    "x += 1\n",
    "rank=ranks[x]\n",
    "vc=dfppc[dfppc['rank']==rank]['region'].value_counts().sort_index()\n",
    "print(vc)\n",
    "plt.bar(x,vc,color=get_colors(vc.index),bottom=get_bottom(vc))\n",
    "\n",
    "x += 1\n",
    "rank=ranks[x]\n",
    "vc=dfppc[dfppc['rank']==rank]['region'].value_counts().sort_index()\n",
    "print(vc)\n",
    "plt.bar(x,vc,color=get_colors(vc.index),bottom=get_bottom(vc))\n",
    "\n",
    "x += 1\n",
    "rank=ranks[x]\n",
    "vc=dfppc[dfppc['rank']==rank]['region'].value_counts().sort_index()\n",
    "print(vc)\n",
    "plt.bar(x,vc,color=get_colors(vc.index),bottom=get_bottom(vc))\n",
    "\n",
    "plt.xticks(range(5),ranks)\n",
    "plt.ylabel( f'$x$-axis rank of the author with any {country} rank' )\n",
    "\n",
    "plt.legend()"
   ]
  },
  {
   "cell_type": "markdown",
   "id": "df9ffd20-a256-4737-841d-97bbe902d2c8",
   "metadata": {},
   "source": [
    "### Any Colombian paper"
   ]
  },
  {
   "cell_type": "code",
   "execution_count": null,
   "id": "addbd17d-4ac6-4ff7-b18e-68f9e4f43b73",
   "metadata": {},
   "outputs": [],
   "source": [
    "dfp=pd.DataFrame(df)"
   ]
  },
  {
   "cell_type": "code",
   "execution_count": null,
   "id": "14629727-3b19-4105-b6ff-b506a84a4dd3",
   "metadata": {},
   "outputs": [],
   "source": [
    "country='Colombia'\n",
    "\n",
    "papers_ranks = [d.get('papers') for d in df if d.get('papers') and \n",
    "                        any([True for dd in d.get('papers') if isinstance(dd.get('rank'),str)])]\n",
    "papers_ranks = flatten_list(papers_ranks)\n",
    "papers_ranks = [p for p in papers_ranks if p.get('rank')]\n",
    "\n",
    "dfpp=pd.DataFrame(papers_ranks)\n",
    "dfpp=dfpp.drop_duplicates(subset=[\n",
    "     'recid','year','citation_count','journal_id','author_id','institution_id','rank','start_date','end_date','institution','country','current'\n",
    "    ]).reset_index(drop=True)\n",
    "\n",
    "dfc=dfp[dfp['country']==country]\n",
    "au=dfc['author_id'].unique()\n",
    "dfppc=dfpp[dfpp['author_id'].apply(lambda a: a in au)].drop_duplicates(subset=['institution_id','rank','start_date','end_date']).reset_index(drop=True)\n",
    "\n",
    "dfppc['region']=dfppc['country'].apply(lambda c:get_region(c,country=country ))\n",
    "\n",
    "CO=pycc.country_name_to_country_alpha2(country)\n",
    "colors[CO]='b'\n",
    "\n",
    "ranks=['UNDERGRADUATE','PHD','POSTDOC','JUNIOR','SENIOR']\n",
    "x=0\n",
    "rank=ranks[x]\n",
    "\n",
    "vc=dfppc[dfppc['rank']==rank]['region'].value_counts().sort_index()\n",
    "print(vc)\n",
    "plt.bar(x,vc,color=get_colors(vc.index),bottom=get_bottom(vc))\n",
    "\n",
    "x += 1\n",
    "rank=ranks[x]\n",
    "vc=dfppc[dfppc['rank']==rank]['region'].value_counts().sort_index()\n",
    "print(vc)\n",
    "plt.bar(x,vc,color=get_colors(vc.index),bottom=get_bottom(vc),label=vc.keys())\n",
    "\n",
    "x += 1\n",
    "rank=ranks[x]\n",
    "vc=dfppc[dfppc['rank']==rank]['region'].value_counts().sort_index()\n",
    "print(vc)\n",
    "plt.bar(x,vc,color=get_colors(vc.index),bottom=get_bottom(vc))\n",
    "\n",
    "x += 1\n",
    "rank=ranks[x]\n",
    "vc=dfppc[dfppc['rank']==rank]['region'].value_counts().sort_index()\n",
    "print(vc)\n",
    "plt.bar(x,vc,color=get_colors(vc.index),bottom=get_bottom(vc))\n",
    "\n",
    "x += 1\n",
    "rank=ranks[x]\n",
    "vc=dfppc[dfppc['rank']==rank]['region'].value_counts().sort_index()\n",
    "print(vc)\n",
    "plt.bar(x,vc,color=get_colors(vc.index),bottom=get_bottom(vc))\n",
    "\n",
    "plt.xticks(range(5),ranks)\n",
    "plt.ylabel( f'$x$-axis rank of the author with {country} paper' )\n",
    "\n",
    "plt.legend()"
   ]
  },
  {
   "cell_type": "markdown",
   "id": "f603cfd2-ecab-4dad-b166-c661075f742e",
   "metadata": {},
   "source": [
    "We can identify visitors as JUNIOR/SENIOR in an institution (country) in papers with affiliations to other institutions (countries)"
   ]
  },
  {
   "cell_type": "code",
   "execution_count": null,
   "id": "2b67828e-6528-4a60-a7c3-81aad126474e",
   "metadata": {},
   "outputs": [],
   "source": [
    "country='Brazil'\n",
    "\n",
    "papers_ranks = [d.get('papers') for d in df if d.get('papers') and \n",
    "                        any([True for dd in d.get('papers') if isinstance(dd.get('rank'),str)])]\n",
    "papers_ranks = flatten_list(papers_ranks)\n",
    "papers_ranks = [p for p in papers_ranks if p.get('rank')]\n",
    "\n",
    "dfpp=pd.DataFrame(papers_ranks)\n",
    "dfpp=dfpp.drop_duplicates(subset=[\n",
    "     'recid','year','citation_count','journal_id','author_id','institution_id','rank','start_date','end_date','institution','country','current'\n",
    "    ]).reset_index(drop=True)\n",
    "\n",
    "dfc=dfp[dfp['country']==country]\n",
    "au=dfc['author_id'].unique()\n",
    "dfppc=dfpp[dfpp['author_id'].apply(lambda a: a in au)].drop_duplicates(subset=['institution_id','rank','start_date','end_date']).reset_index(drop=True)\n",
    "\n",
    "dfppc['region']=dfppc['country'].apply(lambda c:get_region(c,country=country ))\n",
    "\n",
    "CO=pycc.country_name_to_country_alpha2(country)\n",
    "colors[CO]='b'\n",
    "\n",
    "ranks=['UNDERGRADUATE','PHD','POSTDOC','JUNIOR','SENIOR']\n",
    "x=0\n",
    "rank=ranks[x]\n",
    "\n",
    "vc=dfppc[dfppc['rank']==rank]['region'].value_counts().sort_index()\n",
    "print(vc)\n",
    "plt.bar(x,vc,color=get_colors(vc.index),bottom=get_bottom(vc))\n",
    "\n",
    "x += 1\n",
    "rank=ranks[x]\n",
    "vc=dfppc[dfppc['rank']==rank]['region'].value_counts().sort_index()\n",
    "print(vc)\n",
    "plt.bar(x,vc,color=get_colors(vc.index),bottom=get_bottom(vc),label=vc.keys())\n",
    "\n",
    "x += 1\n",
    "rank=ranks[x]\n",
    "vc=dfppc[dfppc['rank']==rank]['region'].value_counts().sort_index()\n",
    "print(vc)\n",
    "plt.bar(x,vc,color=get_colors(vc.index),bottom=get_bottom(vc))\n",
    "\n",
    "x += 1\n",
    "rank=ranks[x]\n",
    "vc=dfppc[dfppc['rank']==rank]['region'].value_counts().sort_index()\n",
    "print(vc)\n",
    "plt.bar(x,vc,color=get_colors(vc.index),bottom=get_bottom(vc))\n",
    "\n",
    "x += 1\n",
    "rank=ranks[x]\n",
    "vc=dfppc[dfppc['rank']==rank]['region'].value_counts().sort_index()\n",
    "print(vc)\n",
    "plt.bar(x,vc,color=get_colors(vc.index),bottom=get_bottom(vc))\n",
    "\n",
    "plt.xticks(range(5),ranks)\n",
    "plt.ylabel( f'$x$-axis rank of the author with {country} paper' )\n",
    "\n",
    "plt.legend()"
   ]
  },
  {
   "cell_type": "code",
   "execution_count": null,
   "id": "225360a2-304f-4f8a-86b9-8aa565717214",
   "metadata": {},
   "outputs": [],
   "source": [
    "country='Chile'\n",
    "\n",
    "papers_ranks = [d.get('papers') for d in df if d.get('papers') and \n",
    "                        any([True for dd in d.get('papers') if isinstance(dd.get('rank'),str)])]\n",
    "papers_ranks = flatten_list(papers_ranks)\n",
    "papers_ranks = [p for p in papers_ranks if p.get('rank')]\n",
    "\n",
    "dfpp=pd.DataFrame(papers_ranks)\n",
    "dfpp=dfpp.drop_duplicates(subset=[\n",
    "     'recid','year','citation_count','journal_id','author_id','institution_id','rank','start_date','end_date','institution','country','current'\n",
    "    ]).reset_index(drop=True)\n",
    "\n",
    "dfc=dfp[dfp['country']==country]\n",
    "au=dfc['author_id'].unique()\n",
    "dfppc=dfpp[dfpp['author_id'].apply(lambda a: a in au)].drop_duplicates(subset=['institution_id','rank','start_date','end_date']).reset_index(drop=True)\n",
    "\n",
    "dfppc['region']=dfppc['country'].apply(lambda c:get_region(c,country=country ))\n",
    "\n",
    "CO=pycc.country_name_to_country_alpha2(country)\n",
    "colors[CO]='b'\n",
    "\n",
    "ranks=['UNDERGRADUATE','PHD','POSTDOC','JUNIOR','SENIOR']\n",
    "x=0\n",
    "rank=ranks[x]\n",
    "\n",
    "vc=dfppc[dfppc['rank']==rank]['region'].value_counts().sort_index()\n",
    "print(vc)\n",
    "plt.bar(x,vc,color=get_colors(vc.index),bottom=get_bottom(vc))\n",
    "\n",
    "x += 1\n",
    "rank=ranks[x]\n",
    "vc=dfppc[dfppc['rank']==rank]['region'].value_counts().sort_index()\n",
    "print(vc)\n",
    "plt.bar(x,vc,color=get_colors(vc.index),bottom=get_bottom(vc),label=vc.keys())\n",
    "\n",
    "x += 1\n",
    "rank=ranks[x]\n",
    "vc=dfppc[dfppc['rank']==rank]['region'].value_counts().sort_index()\n",
    "print(vc)\n",
    "plt.bar(x,vc,color=get_colors(vc.index),bottom=get_bottom(vc))\n",
    "\n",
    "x += 1\n",
    "rank=ranks[x]\n",
    "vc=dfppc[dfppc['rank']==rank]['region'].value_counts().sort_index()\n",
    "print(vc)\n",
    "plt.bar(x,vc,color=get_colors(vc.index),bottom=get_bottom(vc))\n",
    "\n",
    "x += 1\n",
    "rank=ranks[x]\n",
    "vc=dfppc[dfppc['rank']==rank]['region'].value_counts().sort_index()\n",
    "print(vc)\n",
    "plt.bar(x,vc,color=get_colors(vc.index),bottom=get_bottom(vc))\n",
    "\n",
    "plt.xticks(range(5),ranks)\n",
    "plt.ylabel( f'$x$-axis rank of the author with {country} paper' )\n",
    "\n",
    "plt.legend()"
   ]
  },
  {
   "cell_type": "code",
   "execution_count": null,
   "id": "a0c1fe63-496b-4501-9f6d-7f78a59f1c12",
   "metadata": {},
   "outputs": [],
   "source": []
  },
  {
   "cell_type": "code",
   "execution_count": null,
   "id": "89b53c85-40ed-4e19-a18f-93d1850716bc",
   "metadata": {},
   "outputs": [],
   "source": [
    "country='Guatemala'\n",
    "\n",
    "papers_ranks = [d.get('papers') for d in df if d.get('papers') and \n",
    "                        any([True for dd in d.get('papers') if isinstance(dd.get('rank'),str)])]\n",
    "papers_ranks = flatten_list(papers_ranks)\n",
    "papers_ranks = [p for p in papers_ranks if p.get('rank')]\n",
    "\n",
    "dfpp=pd.DataFrame(papers_ranks)\n",
    "dfpp=dfpp.drop_duplicates(subset=[\n",
    "     'recid','year','citation_count','journal_id','author_id','institution_id','rank','start_date','end_date','institution','country','current'\n",
    "    ]).reset_index(drop=True)\n",
    "\n",
    "\n",
    "au=dfp['author_id'].unique()\n",
    "dfppc=dfpp[dfpp['author_id'].apply(lambda a: a in au)].drop_duplicates(subset=['institution_id','rank','start_date','end_date']).reset_index(drop=True)\n",
    "\n",
    "dfppc['region']=dfppc['country'].apply(lambda c:get_region(c,country=country ))\n",
    "\n",
    "CO=pycc.country_name_to_country_alpha2(country)\n",
    "colors[CO]='b'\n",
    "\n",
    "ranks=['UNDERGRADUATE','PHD','POSTDOC','JUNIOR','SENIOR']\n",
    "x=0\n",
    "rank=ranks[x]\n",
    "\n",
    "vc=dfppc[dfppc['rank']==rank]['region'].value_counts().sort_index()\n",
    "print(vc)\n",
    "plt.bar(x,vc,color=get_colors(vc.index),bottom=get_bottom(vc))\n",
    "\n",
    "x += 1\n",
    "rank=ranks[x]\n",
    "vc=dfppc[dfppc['rank']==rank]['region'].value_counts().sort_index()\n",
    "print(vc)\n",
    "plt.bar(x,vc,color=get_colors(vc.index),bottom=get_bottom(vc),label=vc.keys())\n",
    "\n",
    "x += 1\n",
    "rank=ranks[x]\n",
    "vc=dfppc[dfppc['rank']==rank]['region'].value_counts().sort_index()\n",
    "print(vc)\n",
    "plt.bar(x,vc,color=get_colors(vc.index),bottom=get_bottom(vc))\n",
    "\n",
    "x += 1\n",
    "rank=ranks[x]\n",
    "vc=dfppc[dfppc['rank']==rank]['region'].value_counts().sort_index()\n",
    "print(vc)\n",
    "plt.bar(x,vc,color=get_colors(vc.index),bottom=get_bottom(vc))\n",
    "\n",
    "x += 1\n",
    "rank=ranks[x]\n",
    "vc=dfppc[dfppc['rank']==rank]['region'].value_counts().sort_index()\n",
    "print(vc)\n",
    "plt.bar(x,vc,color=get_colors(vc.index),bottom=get_bottom(vc))\n",
    "\n",
    "plt.xticks(range(5),ranks)\n",
    "plt.ylabel( f'$x$-axis rank of the author' )\n",
    "\n",
    "plt.legend()"
   ]
  },
  {
   "cell_type": "markdown",
   "id": "5ab5b90d-52fe-4a65-89ef-77b18d2b0ea0",
   "metadata": {},
   "source": [
    "### How many students turn-out in junior-senior"
   ]
  },
  {
   "cell_type": "code",
   "execution_count": null,
   "id": "21dab9f5-b01f-443a-97db-6a73e8275a89",
   "metadata": {},
   "outputs": [],
   "source": [
    "DF=pd.DataFrame(df)\n",
    "DF.drop_duplicates(subset=['author_id']).shape"
   ]
  },
  {
   "cell_type": "code",
   "execution_count": null,
   "id": "df6a3e47-ca52-4d34-a1ce-b6b4c71e01b7",
   "metadata": {},
   "outputs": [],
   "source": [
    "DF=DF[DF.positions.apply(lambda L: [d.get('rank') for d in L if d.get('rank')] if isinstance(L,list) else []\n",
    "                         ).apply(len)>0]\n",
    "DF.shape"
   ]
  },
  {
   "cell_type": "markdown",
   "id": "90b3687c-35ab-4016-aa32-7d704db4d685",
   "metadata": {},
   "source": [
    "Unique authors with declarated profile"
   ]
  },
  {
   "cell_type": "code",
   "execution_count": null,
   "id": "daad577c-9e94-4a9c-9154-a8824c699abd",
   "metadata": {},
   "outputs": [],
   "source": [
    "DF=DF.drop_duplicates(subset=['author_id'])\n",
    "DF.shape"
   ]
  },
  {
   "cell_type": "markdown",
   "id": "ab48cf0a-e082-4c78-9c98-e2e976276813",
   "metadata": {},
   "source": [
    "Never JUNIOR or SENIOR"
   ]
  },
  {
   "cell_type": "code",
   "execution_count": null,
   "id": "8708c215-5647-4bc5-bc12-8de9f7beceb2",
   "metadata": {},
   "outputs": [],
   "source": [
    "tmp=DF[DF.positions.apply(lambda L: [d.get('rank') for d in L if d.get('rank')]  ).apply(lambda s: {'JUNIOR', 'SENIOR'}.difference(s)== {'JUNIOR', 'SENIOR'})]\n",
    "tmp.shape"
   ]
  },
  {
   "cell_type": "markdown",
   "id": "c715b959-ea55-44ce-ab31-0432adbf56f5",
   "metadata": {},
   "source": [
    "JUNIOR OR SENIOR"
   ]
  },
  {
   "cell_type": "code",
   "execution_count": null,
   "id": "8bb31d49-0a07-4dad-b6cf-b895dc8805e2",
   "metadata": {},
   "outputs": [],
   "source": [
    "tmp=DF[DF.positions.apply(lambda L: [d.get('rank') for d in L if d.get('rank')]  ).apply(lambda s: {'JUNIOR', 'SENIOR'}.difference(s)!= {'JUNIOR', 'SENIOR'})]\n",
    "tmp.shape"
   ]
  },
  {
   "cell_type": "markdown",
   "id": "4a175a77-7211-4e52-ad11-91834f3cb8d5",
   "metadata": {},
   "source": [
    "JUNIOR OR SENIOR after declarated degree"
   ]
  },
  {
   "cell_type": "code",
   "execution_count": null,
   "id": "ec1542ce-e53a-4362-ac86-02a07b99b659",
   "metadata": {},
   "outputs": [],
   "source": [
    "tmp[tmp.positions.apply(lambda L: [d.get('rank') for d in L if d.get('rank')]  \n",
    "                   ).apply(lambda s: {'PHD', 'MASTER','UNDERGRADUATE'}.intersection(s) ).apply(len)>0].shape"
   ]
  },
  {
   "cell_type": "markdown",
   "id": "6e1ab062-e1f5-413e-845e-97511c9c9bbb",
   "metadata": {},
   "source": [
    "Per country"
   ]
  },
  {
   "cell_type": "code",
   "execution_count": null,
   "id": "81a08ca1-0dd2-4a33-a11e-06d45446a364",
   "metadata": {},
   "outputs": [],
   "source": [
    "c='Colombia'\n",
    "DF=DF[DF.country==c].drop_duplicates(subset=['author_id'])\n",
    "DF['ranks']=DF.positions.apply(lambda L: [d.get('rank') for d in L if d.get('rank')])\n",
    "print('TOTAl',DF.shape)\n",
    "tmp=DF[DF.positions.apply(lambda L: [d.get('rank') for d in L if d.get('rank')]  ).apply(lambda s: {'JUNIOR', 'SENIOR'}.difference(s)== {'JUNIOR', 'SENIOR'})]\n",
    "print('Never JUNIOR or SENIOR',tmp.shape)\n",
    "\n",
    "tmp=DF[DF.positions.apply(lambda L: [d.get('rank') for d in L if d.get('rank')]  ).apply(lambda s: {'JUNIOR', 'SENIOR'}.difference(s)!= {'JUNIOR', 'SENIOR'})]\n",
    "tmp[tmp.positions.apply(lambda L: [d.get('rank') for d in L if d.get('rank')]  \n",
    "                   ).apply(lambda s: {'PHD', 'MASTER','UNDERGRADUATE'}.intersection(s) ).apply(len)>0].shape\n",
    "print('JUNIOR OR SENIOR after declarated degree',tmp.shape)"
   ]
  },
  {
   "cell_type": "code",
   "execution_count": null,
   "id": "a80e6e16-9dd0-43d8-99ed-4737a1f46160",
   "metadata": {},
   "outputs": [],
   "source": [
    "DF[['full_name','ranks']][50:100]"
   ]
  },
  {
   "cell_type": "markdown",
   "id": "724d6ef2",
   "metadata": {
    "tags": []
   },
   "source": [
    "## Fix bad `profile_id` for `LOCAL → True`"
   ]
  },
  {
   "cell_type": "code",
   "execution_count": null,
   "id": "5d5076b3",
   "metadata": {},
   "outputs": [],
   "source": [
    "#author_id='J.S.Useche.1'\n",
    "def get_profile_id(author_id,sleep=0.4):\n",
    "    #if True:\n",
    "    status=False\n",
    "    l=[]\n",
    "    pi=None\n",
    "    #try:\n",
    "    #if True:\n",
    "    try:\n",
    "        #https://inspirehep.net/literature?q=ea+J.D.Ruiz.Alvarez.2+and+ac+1->10\n",
    "        url=f'https://inspirehep.net/api/literature?q=ea+{author_id}+and+ac+1->10'\n",
    "        r=requests.get(url)\n",
    "        time.sleep(sleep)\n",
    "        if r.status_code==200:\n",
    "            data=r.json()\n",
    "            status=True\n",
    "            #if not `try` fails and `pass``.\n",
    "        for d in data.get('hits').get('hits'):\n",
    "            #l=[a.get('record') for a in d.get('metadata').get('authors') if a.get('bai')==author_id]\n",
    "            try: #failsafe\n",
    "                l=[a for a in data.get('hits').get('hits')[0].get('metadata').get('authors') if a.get('bai')==author_id]\n",
    "            except:\n",
    "                l=[]\n",
    "        if len(l)==1 and l[0].get('record'):\n",
    "            pi=l[0].get('record').get('$ref').split('/')[-1]\n",
    "    except:\n",
    "        pass\n",
    "    return pi,status\n",
    "\n",
    "TEST=True\n",
    "if TEST:\n",
    "    assert get_profile_id('J.S.Useche.1')==('2572877',True)\n",
    "    assert get_profile_id('J.D.Ruiz.Alvarez.2')==('1184534',True)\n",
    "    assert get_profile_id('S.Das.8')==(None,True)\n",
    "    assert get_profile_id('M.Sanchez.39')==(None, True)"
   ]
  },
  {
   "cell_type": "code",
   "execution_count": null,
   "id": "97fe9d47-e194-4218-95ab-a114f80e6196",
   "metadata": {},
   "outputs": [],
   "source": [
    "get_profile_id('J.S.Useche.1')"
   ]
  },
  {
   "cell_type": "code",
   "execution_count": null,
   "id": "0964f52e",
   "metadata": {},
   "outputs": [],
   "source": [
    "def get_advisor(i,sleep=0.4):\n",
    "    adv=[]\n",
    "    try:\n",
    "        r=requests.get('https://inspirehep.net/api/authors/{}'.format(i))\n",
    "        time.sleep(sleep)\n",
    "        adv=r.json().get('metadata').get('advisors')\n",
    "        if adv is None:\n",
    "            adv=[]\n",
    "    except:\n",
    "        pass\n",
    "    return adv"
   ]
  },
  {
   "cell_type": "code",
   "execution_count": null,
   "id": "a5f957b2",
   "metadata": {},
   "outputs": [],
   "source": [
    "#a=df[0]\n",
    "#a.get('author_id')\n",
    "GET_ADVISORS=False\n",
    "if GET_ADVISORS:\n",
    "    kk=[a.update({'advisors':get_advisor(a.get('profile_id'))}) for a in df if not a.get('advisors')]"
   ]
  },
  {
   "cell_type": "code",
   "execution_count": null,
   "id": "d5701438",
   "metadata": {},
   "outputs": [],
   "source": [
    "SAVE=False\n",
    "status=0\n",
    "step=1000\n",
    "i=0\n",
    "for start in range(0,len(df),step):\n",
    "    for d in df[start:start+step]:\n",
    "        i+=1\n",
    "        print(str(i).zfill(5),status,end='\\r')\n",
    "\n",
    "        if len(set([dd.get('author_id') for dd in df  if dd.get('profile_id')==d.get('profile_id')]))==1:\n",
    "            continue\n",
    "        author_id=d.get('author_id')\n",
    "        check_profile_id=get_profile_id(author_id)\n",
    "        if check_profile_id[1] and check_profile_id[0]!=d.get('profile_id'):\n",
    "            d['profile_id']=check_profile_id[0]\n",
    "            d['advisors']=get_advisor(d.get('profile_id'))\n",
    "            status=1\n",
    "        else:\n",
    "            status=0\n",
    "    if SAVE:\n",
    "        f=open('data/inspire_LA.json','w')\n",
    "        json.dump(df,f)\n",
    "        f.close()"
   ]
  },
  {
   "cell_type": "markdown",
   "id": "144dacfb",
   "metadata": {},
   "source": []
  },
  {
   "cell_type": "markdown",
   "id": "75e6b6cd",
   "metadata": {
    "tags": []
   },
   "source": [
    "## Students object"
   ]
  },
  {
   "cell_type": "code",
   "execution_count": null,
   "id": "eb4643ff",
   "metadata": {},
   "outputs": [],
   "source": [
    "[dd for dd in df if dd.get('author_id')=='M.Sanchez.39']"
   ]
  },
  {
   "cell_type": "code",
   "execution_count": null,
   "id": "52d67191",
   "metadata": {},
   "outputs": [],
   "source": [
    "df=pd.DataFrame(df)"
   ]
  },
  {
   "cell_type": "code",
   "execution_count": null,
   "id": "e9182031",
   "metadata": {},
   "outputs": [],
   "source": [
    "df[df.advisors.apply(len)>0].shape"
   ]
  },
  {
   "cell_type": "code",
   "execution_count": null,
   "id": "e73bd4c5",
   "metadata": {},
   "outputs": [],
   "source": [
    "df[ (df['positions'].str[0].str['rank'].apply(lambda r: r is not None)) & \n",
    "   (df['positions'].str[0].str['rank'].apply(lambda r: r is not None)) ].shape"
   ]
  },
  {
   "cell_type": "code",
   "execution_count": null,
   "id": "0a4ca2bd",
   "metadata": {},
   "outputs": [],
   "source": [
    "df[df['positions'].str[0].apply(lambda r:isinstance(r,dict))].shape"
   ]
  },
  {
   "cell_type": "markdown",
   "id": "0759632b",
   "metadata": {},
   "source": [
    "People which have edited their profile in INSPIREHEP"
   ]
  },
  {
   "cell_type": "code",
   "execution_count": null,
   "id": "68ca897b",
   "metadata": {},
   "outputs": [],
   "source": [
    "df[ (df['positions'].str[0].str['rank'].apply(lambda r:isinstance(r,str))) \n",
    "    | (df.advisors.apply(len)>0 ) ].shape"
   ]
  },
  {
   "cell_type": "code",
   "execution_count": null,
   "id": "5db34f3c",
   "metadata": {},
   "outputs": [],
   "source": [
    "df.shape"
   ]
  },
  {
   "cell_type": "code",
   "execution_count": null,
   "id": "7e311984",
   "metadata": {},
   "outputs": [],
   "source": [
    "#df['profile_id']=df['profile_id'].fillna(0).astype(int).astype(str).apply(lambda p: None if p=='0' else p)"
   ]
  },
  {
   "cell_type": "code",
   "execution_count": null,
   "id": "b425785e",
   "metadata": {},
   "outputs": [],
   "source": [
    "df[df['profile_id']=='991924']"
   ]
  },
  {
   "cell_type": "code",
   "execution_count": null,
   "id": "4afbc4a9",
   "metadata": {},
   "outputs": [],
   "source": [
    "L=[1,2,3]\n",
    "L.remove(1)\n",
    "L"
   ]
  },
  {
   "cell_type": "code",
   "execution_count": null,
   "id": "ee8cefa7",
   "metadata": {},
   "outputs": [],
   "source": [
    "profile_id = '991924'\n",
    "a = {'ids': [{'value': 'INSPIRE-00133260', 'schema': 'INSPIRE ID'}],\n",
    " 'name': 'Valle, Jose W.F.',\n",
    " 'hidden': False,\n",
    " 'record': {'$ref': 'https://inspirehep.net/api/authors/985058'},\n",
    " 'degree_type': 'phd',\n",
    " 'curated_relation': False}\n",
    "r = {'author_id':'D.Restrepo.1',\n",
    "   'name':{'value': 'Restrepo Quintero, Diego Alejandro',\n",
    "   'preferred_name': 'Diego Restrepo'},\n",
    "   'positions': [{'rank': 'PHD',\n",
    "                  'hidden': False,\n",
    "                  'record': {'$ref': 'https://inspirehep.net/api/institutions/907907'},\n",
    "                  'current': False,\n",
    "                  'end_date': '2001',\n",
    "                  'start_date': '1997',\n",
    "                  'institution': 'Valencia U., IFIC',\n",
    "                  'curated_relation': True}\n",
    "                ]\n",
    "   }\n",
    "advisor_profile_id = '985058'\n",
    "d = {}\n",
    "\n",
    "def get_position(ds, p):\n",
    "    for k in p.keys():\n",
    "        if k == 'record':\n",
    "            try:\n",
    "                ds['institution_id'] = p[k].get('$ref').split('/')[-1]\n",
    "            except:\n",
    "                ds['institution_id'] = None\n",
    "        else:\n",
    "            ds[k] = p[k]\n",
    "    return ds\n",
    "\n",
    "\n",
    "def get_student(rr, a, profile_id,ranks=['UNDERGRADUATE','MASTER','PHD']):\n",
    "    \"Trigger if advisor exits within `a`\"\n",
    "    r=rr.copy()\n",
    "    old_ranks=ranks.copy()\n",
    "    students=[]\n",
    "    degree_type = a.get('degree_type')\n",
    "    if degree_type=='bachelor':\n",
    "        degree_type='undergraduate'\n",
    "    if not r.get('positions'):\n",
    "        r['positions']=[]\n",
    "    #    return students\n",
    "    for p in r.get('positions'):\n",
    "        ds = {}\n",
    "        if p.get('rank') and p.get('rank').lower() == degree_type:\n",
    "            ds = get_position(ds,p)\n",
    "            if old_ranks and p.get('rank') in old_ranks:\n",
    "                old_ranks=old_ranks.remove(p.get('rank'))\n",
    "        elif (isinstance(r.get('advisors'),list) and len(r.get('advisors'))==1 and p.get('rank') and \n",
    "              old_ranks and p.get('rank') in old_ranks and (p.get('rank')=='PHD' or p.get('rank')=='MASTER')):\n",
    "            ds = get_position(ds,p) \n",
    "        else:\n",
    "            continue\n",
    "        if ds:\n",
    "            if ds.get('rank') not in ranks and degree_type:\n",
    "                ds['rank'] = degree_type.upper()\n",
    "            ds['student_id'] = r.get('author_id')\n",
    "            ds['student_name'] = r.get('name').get('value')\n",
    "            ds['student_profile_id'] = profile_id\n",
    "            students.append(ds)\n",
    "    # if not positons in ranks\n",
    "    if not students:\n",
    "        #Advisor declared but not in positions\n",
    "        ds = {}\n",
    "        ds['rank'] = \"PHD\"\n",
    "        if r.get('author_id'):\n",
    "            ds['student_id'] = r.get('author_id')\n",
    "            if r.get('name'):\n",
    "                ds['student_name'] = r.get('name').get('value')\n",
    "            ds['student_profile_id'] = profile_id\n",
    "        students.append(ds)\n",
    "\n",
    "\n",
    "    return students\n",
    "#assert get_student(r, a, profile_id).get('institution_id') == '907907'\n",
    "\n",
    "def get_student_without_advisor(p, r, profile_id, ranks=['UNDERGRADUATE','MASTER','PHD']):\n",
    "    ds = {}\n",
    "    ds = get_position(ds, p)\n",
    "    if r.get('author_id'):\n",
    "        ds['student_id'] = r.get('author_id')\n",
    "        if r.get('name'):\n",
    "            ds['student_name'] = r.get('name').get('value')\n",
    "        ds['student_profile_id'] = profile_id\n",
    "    return ds\n",
    "\n",
    "\n",
    "def get_id(d, df, id_type='profile_id'):\n",
    "    new_id = d.get('profile_id')\n",
    "    try:\n",
    "        lpid = list(set(df[ (df['name'].str['value']==d.get('name')) ][id_type].to_list()))\n",
    "    except:\n",
    "        lpid=[]\n",
    "    if len(lpid) == 1:\n",
    "        if lpid[0]:\n",
    "            new_id = lpid[0]\n",
    "    return new_id\n",
    "\n",
    "\n",
    "def get_advisor(d, advisor_profile_id, a, df):\n",
    "    d['profile_id'] = advisor_profile_id\n",
    "\n",
    "    d['name'] = a.get('name')\n",
    "\n",
    "    if not d.get('profile_id'):\n",
    "        d['profile_id'] = get_id(d, df, id_type='profile_id')\n",
    "    if not d.get('profile_id'):\n",
    "        d['author_id'] = get_id(d, df, id_type='author_id')\n",
    "\n",
    "    return d\n",
    "assert get_advisor(d,advisor_profile_id, a, df).get('profile_id') == '985058'"
   ]
  },
  {
   "cell_type": "code",
   "execution_count": null,
   "id": "08f94dc0",
   "metadata": {},
   "outputs": [],
   "source": [
    "# 991924  # J Valle advisor\n",
    "# 1854904 # not advisor → Unknown\n",
    "# 1045947 # not position\n",
    "# 1014628 # J Valle advisor\n",
    "# 1028906 # not advisor → Unknown\n",
    "profile_id=['991924','1014628','1854904','1045947','1021727','1073921','1066143','989075','983327','1009735','1402655','1078540'][-1]\n",
    "r=df[df['profile_id']==profile_id].iloc[0].to_dict()"
   ]
  },
  {
   "cell_type": "code",
   "execution_count": null,
   "id": "b6b88d1d",
   "metadata": {},
   "outputs": [],
   "source": [
    "f=open(f'tests/data/{profile_id}.json','w')\n",
    "json.dump(r,f)\n",
    "f.close()"
   ]
  },
  {
   "cell_type": "code",
   "execution_count": null,
   "id": "c8aef172",
   "metadata": {},
   "outputs": [],
   "source": [
    "r.get('advisors')[0]"
   ]
  },
  {
   "cell_type": "code",
   "execution_count": null,
   "id": "469c80c6",
   "metadata": {},
   "outputs": [],
   "source": [
    "r.get('positions')"
   ]
  },
  {
   "cell_type": "code",
   "execution_count": null,
   "id": "7036a6a4",
   "metadata": {},
   "outputs": [],
   "source": [
    "def get_students(r, profile_id, pre_students=[]):\n",
    "    ranks = ['UNDERGRADUATE', 'MASTER', 'PHD']\n",
    "\n",
    "    if any([ any([ss.get('student_profile_id') == profile_id for ss in s.get('students')])\n",
    "       for s in pre_students]):\n",
    "        print('Already in students')\n",
    "        #raise Exception('Already in students')\n",
    "        return pre_students\n",
    "\n",
    "    for a in r.get('advisors'):\n",
    "        # Get profile_id or author_id or name of advisor\n",
    "        try:\n",
    "            advisor_profile_id = a.get('record').get('$ref').split('/')[-1]\n",
    "        except:\n",
    "            advisor_profile_id = ''\n",
    "\n",
    "        OLD_ADVISOR = False\n",
    "        for old_a in pre_students:\n",
    "            # TODO: check for other indetifiers\n",
    "            if advisor_profile_id and old_a.get('profile_id') == advisor_profile_id:\n",
    "                old_a['students'].extend(get_student(r, a, profile_id,ranks))\n",
    "                OLD_ADVISOR = True\n",
    "                break\n",
    "        if OLD_ADVISOR:\n",
    "            continue\n",
    "\n",
    "        d = {}\n",
    "        d = get_advisor(d, advisor_profile_id, a, df)\n",
    "\n",
    "        d['students'] = get_student(r, a, profile_id,ranks)\n",
    "\n",
    "        pre_students.append(d)\n",
    "\n",
    "\n",
    "\n",
    "    # Update ranks\n",
    "    if r.get('advisors'):\n",
    "        L = [[s.get('rank') for s in a.get('students') if s.get('rank')] for a in pre_students]\n",
    "        ranks = set(ranks).difference([item for sublist in L for item in sublist])\n",
    "\n",
    "    if not r.get('positions'):\n",
    "        #raise Exception('Already in students')\n",
    "        return pre_students\n",
    "\n",
    "\n",
    "    for p in r.get('positions'):\n",
    "        if p.get('rank') in ranks:\n",
    "            d = {}\n",
    "            d['students'] = []\n",
    "            ds = get_student_without_advisor(p, r, profile_id, ranks=ranks)\n",
    "            d['students'].append(ds)\n",
    "            d['profile_id'] = None\n",
    "            d['name'] = 'Unkown'\n",
    "            pre_students.append(d)\n",
    "\n",
    "    return pre_students\n"
   ]
  },
  {
   "cell_type": "code",
   "execution_count": null,
   "id": "4c4a69db",
   "metadata": {},
   "outputs": [],
   "source": [
    "profile_id='991924'\n",
    "f=open(f'tests/data/{profile_id}.json','r')\n",
    "r=json.load(f)\n",
    "f.close()\n",
    "pre_students = get_students(r, profile_id, [])\n",
    "assert len(pre_students)==3\n",
    "profile_id='1014628'\n",
    "f=open(f'tests/data/{profile_id}.json','r')\n",
    "r=json.load(f)\n",
    "f.close()\n",
    "pre_students = get_students(r, profile_id, [])\n",
    "assert pre_students[0].get('students')[0].get('rank')=='PHD'\n",
    "profile_id='1854904'\n",
    "f=open(f'tests/data/{profile_id}.json','r')\n",
    "r=json.load(f)\n",
    "f.close()\n",
    "pre_students = get_students(r, profile_id, [])\n",
    "assert len(pre_students)==3\n",
    "profile_id='1045947'\n",
    "f=open(f'tests/data/{profile_id}.json','r')\n",
    "r=json.load(f)\n",
    "f.close()\n",
    "pre_students = get_students(r, profile_id, [])\n",
    "assert pre_students[0].get('profile_id')=='991924'\n",
    "profile_id='1073921'\n",
    "f=open(f'tests/data/{profile_id}.json','r')\n",
    "r=json.load(f)\n",
    "f.close()\n",
    "pre_students = get_students(r, profile_id, [])\n",
    "assert len(set(['MASTER','PHD']).difference(\n",
    "    [[dd.get('rank') for dd in d.get('students')] for d in pre_students][0]\n",
    " ))==0\n",
    "profile_id='1066143'\n",
    "f=open(f'tests/data/{profile_id}.json','r')\n",
    "r=json.load(f)\n",
    "f.close()\n",
    "LIST=[[dd.get('rank') for dd in d.get('students')] for d in get_students(r,profile_id, [])]\n",
    "assert [item for sublist in LIST for item in sublist] == ['PHD', 'PHD']"
   ]
  },
  {
   "cell_type": "code",
   "execution_count": null,
   "id": "5b4c1f3e",
   "metadata": {},
   "outputs": [],
   "source": [
    "dfa=df.drop_duplicates(subset=['profile_id']).reset_index(drop=True)"
   ]
  },
  {
   "cell_type": "code",
   "execution_count": null,
   "id": "f9568759",
   "metadata": {},
   "outputs": [],
   "source": [
    "pre_students = []\n",
    "for profile_id in dfa['profile_id']:\n",
    "    r = df[df['profile_id']==profile_id]\n",
    "    if not r.empty:\n",
    "        r = r.iloc[0].to_dict()\n",
    "    else:\n",
    "        continue\n",
    "    if profile_id and r:\n",
    "        pre_students = get_students(r, profile_id,pre_students)"
   ]
  },
  {
   "cell_type": "markdown",
   "id": "2d6117f7",
   "metadata": {},
   "source": [
    "Get Advisor level"
   ]
  },
  {
   "cell_type": "code",
   "execution_count": 6,
   "id": "2e3cc377",
   "metadata": {},
   "outputs": [],
   "source": [
    "def add_level(pre_students,LL,level=0):\n",
    "    for parent_id in LL:\n",
    "        #print(parent_id,end='\\r')\n",
    "        try:\n",
    "            d=[d for d in pre_students if d.get('profile_id')==parent_id][0]\n",
    "            d['level']=level\n",
    "        except:\n",
    "            continue"
   ]
  },
  {
   "cell_type": "code",
   "execution_count": 7,
   "id": "1bc341e8",
   "metadata": {},
   "outputs": [
    {
     "ename": "NameError",
     "evalue": "name 'pre_students' is not defined",
     "output_type": "error",
     "traceback": [
      "\u001b[0;31m---------------------------------------------------------------------------\u001b[0m",
      "\u001b[0;31mNameError\u001b[0m                                 Traceback (most recent call last)",
      "Cell \u001b[0;32mIn[7], line 1\u001b[0m\n\u001b[0;32m----> 1\u001b[0m ps\u001b[38;5;241m=\u001b[39mpd\u001b[38;5;241m.\u001b[39mDataFrame(\u001b[43mpre_students\u001b[49m)\n\u001b[1;32m      2\u001b[0m ps\u001b[38;5;241m=\u001b[39mps\u001b[38;5;241m.\u001b[39mdropna(subset\u001b[38;5;241m=\u001b[39m[\u001b[38;5;124m'\u001b[39m\u001b[38;5;124mprofile_id\u001b[39m\u001b[38;5;124m'\u001b[39m])\u001b[38;5;241m.\u001b[39mreset_index(drop\u001b[38;5;241m=\u001b[39m\u001b[38;5;28;01mTrue\u001b[39;00m)\n\u001b[1;32m      3\u001b[0m \u001b[38;5;66;03m# students\u001b[39;00m\n",
      "\u001b[0;31mNameError\u001b[0m: name 'pre_students' is not defined"
     ]
    }
   ],
   "source": [
    "ps=pd.DataFrame(pre_students)\n",
    "ps=ps.dropna(subset=['profile_id']).reset_index(drop=True)\n",
    "# students\n",
    "L=ps.students.apply(lambda L: [d.get('student_profile_id') for d in L]).to_list()\n",
    "# Level 0 advisors\n",
    "LL=list(  set(ps.profile_id.to_list()).difference( set([item for subitem in L for item in subitem]) ) ) \n",
    "LL=[x for x in LL if x]\n",
    "print(len(LL))\n",
    "\n",
    "level=0\n",
    "while LL:\n",
    "    add_level(pre_students,LL,level=level)\n",
    "\n",
    "    LL=[ [dd.get('student_profile_id') for dd in  d.get('students') if dd.get('rank')=='PHD'] for d in pre_students if d.get('level')==level]\n",
    "    LL=set([item for sublist in LL for item in sublist])\n",
    "    LL=[x for x in LL if x]\n",
    "    print(level,len(LL))\n",
    "    level+=1\n",
    "    if level>10:\n",
    "        break"
   ]
  },
  {
   "cell_type": "code",
   "execution_count": null,
   "id": "a76517ff",
   "metadata": {},
   "outputs": [],
   "source": [
    "chk_levels=['1020782','1013015','989075','996018','1026011','1066143']\n",
    "LL=[[d.get('level') for d in pre_students if d.get('profile_id')==chk_levels[i]] for i in range(len(chk_levels))]\n",
    "assert [item for sublist in LL for item in sublist]==list(range(6))"
   ]
  },
  {
   "cell_type": "code",
   "execution_count": null,
   "id": "340ebc49",
   "metadata": {},
   "outputs": [],
   "source": [
    "[d for d in pre_students if d.get('level')==4][0]"
   ]
  },
  {
   "cell_type": "code",
   "execution_count": null,
   "id": "a6f7adfe",
   "metadata": {},
   "outputs": [],
   "source": [
    "f=open('data/students.json','w')\n",
    "json.dump(pre_students,f)\n",
    "f.close()"
   ]
  },
  {
   "cell_type": "code",
   "execution_count": null,
   "id": "e869d7fe",
   "metadata": {},
   "outputs": [],
   "source": [
    "student_profile_id='1045947'\n",
    "[d for d in pre_students if any([dd.get('student_profile_id')==student_profile_id for dd in d.get('students')])]"
   ]
  },
  {
   "cell_type": "markdown",
   "id": "b154db5d",
   "metadata": {},
   "source": [
    "Example: CINVESTAV-IPN"
   ]
  },
  {
   "cell_type": "code",
   "execution_count": null,
   "id": "bbb19822",
   "metadata": {},
   "outputs": [],
   "source": [
    "institution_id='903002' #'907907' # '903002' # '903906'\n",
    "ins_studs=[d for d in pre_students if any([dd.get('institution_id')==institution_id for dd in d.get('students')])]"
   ]
  },
  {
   "cell_type": "code",
   "execution_count": null,
   "id": "dee726f2",
   "metadata": {},
   "outputs": [],
   "source": [
    "cinvestav=[]\n",
    "for d in ins_studs:\n",
    "    dd=d.copy()\n",
    "    students=[]\n",
    "    for s in dd.get('students'):\n",
    "        if s.get('institution_id')==institution_id:\n",
    "            students.append(s)\n",
    "    dd['students']=students\n",
    "    cinvestav.append(dd)\n"
   ]
  },
  {
   "cell_type": "code",
   "execution_count": null,
   "id": "ebf80e60",
   "metadata": {},
   "outputs": [],
   "source": [
    "LL=[d.get('students') for d in cinvestav]\n",
    "len([item for sublist in LL for item in sublist])"
   ]
  },
  {
   "cell_type": "code",
   "execution_count": null,
   "id": "2bf702e6",
   "metadata": {},
   "outputs": [],
   "source": [
    "cv=pd.DataFrame(cinvestav)\n",
    "LL=cv.apply(lambda d: [{'student_name':dd.get('student_name'),\n",
    "                     'profile_id':dd.get('student_profile_id'),\n",
    "                     'degree':dd.get('rank'),\n",
    "                     'start':dd.get('start_date'),\n",
    "                     'end':dd.get('end_date'),#'student_position':dd.get('position'),\n",
    "                     'advisor_name':d.get('name'),\n",
    "                     'advisor_id':d.get('profile_id')} for dd in d.get('students')],axis=1)\n",
    "LL=[item for sublist in LL for item in sublist]\n",
    "cv_df=pd.DataFrame(LL)\n",
    "cv_df=cv_df.sort_values(by=['advisor_name','end']).reset_index(drop=True)\n",
    "cv_df[:1]"
   ]
  },
  {
   "cell_type": "code",
   "execution_count": null,
   "id": "d9a9d0b6",
   "metadata": {},
   "outputs": [],
   "source": [
    "cv_df=cv_df.merge(df[['institution','profile_id']],on='profile_id',how='left').drop_duplicates(\n",
    "    ['student_name','degree','advisor_name']).rename(columns={'institution':'position'}).reset_index(drop=True)\n",
    "cv_df    "
   ]
  },
  {
   "cell_type": "code",
   "execution_count": null,
   "id": "f398d791",
   "metadata": {},
   "outputs": [],
   "source": [
    "cv_df[cv_df['advisor_name'].str.contains('Roig')]"
   ]
  },
  {
   "cell_type": "code",
   "execution_count": null,
   "id": "7e980706",
   "metadata": {},
   "outputs": [],
   "source": [
    "cv_df.to_csv('data/cinvestav.csv',index=False)"
   ]
  },
  {
   "cell_type": "code",
   "execution_count": null,
   "id": "24876a5e",
   "metadata": {},
   "outputs": [],
   "source": [
    "cv_df[cv_df['advisor_name'].str.contains('Zepeda')]"
   ]
  },
  {
   "cell_type": "markdown",
   "id": "66e729e7",
   "metadata": {
    "tags": []
   },
   "source": [
    "## Get all the institutions from INSPIREHEP"
   ]
  },
  {
   "cell_type": "code",
   "execution_count": null,
   "id": "0ec2100a",
   "metadata": {},
   "outputs": [],
   "source": [
    "# united states, england, germany, france, italy, china, spain, japan, korea\n",
    "# Missing: Caltech; Princeton U.; Valencia U., IFIC; Oxford U.; Cambridge U., DAMTP; Aachen, Tech. Hochsch.; Humboldt U., Berlin; DESY; CERN; Fermilab; SLAC; Heidelberg U.\n",
    "# Munich, Max Planck Inst.; Hamburg U.; Mainz U., Inst. Phys.; Frankfurt U.; Munich, Tech. U.; Imperial Coll., London; INFN, Turin; INFN, Rome; SISSA, Trieste; Rome U.; \n",
    "# Frascati; ICTP, Trieste; Turin U.\n",
    "def get_institutions(q):\n",
    "    page=1\n",
    "    if q:\n",
    "        url=f'https://inspirehep.net/api/institutions?q={q}&size=250&page={page}'\n",
    "    else:\n",
    "        url=f'https://inspirehep.net/api/institutions?size=250&page={page}' \n",
    "    r=requests.get(url)\n",
    "    time.sleep(sleep)\n",
    "    i=r.json()['hits']['hits']\n",
    "    total=r.json().get('hits').get('total')\n",
    "    if not page or page==1:\n",
    "        ins=[d.get('metadata') for d in i]\n",
    "    j=page\n",
    "    next=r.json().get('links').get('next')\n",
    "    while next:\n",
    "        print(j)\n",
    "        r=requests.get(next)\n",
    "        time.sleep(sleep)\n",
    "        try:\n",
    "            i=r.json()['hits']['hits']\n",
    "        except:\n",
    "            i=[]\n",
    "        ins.extend([d.get('metadata') for d in i])\n",
    "        try:\n",
    "            next=r.json().get('links').get('next')\n",
    "        except:\n",
    "            next=None\n",
    "        j+=1\n",
    "        if j > total//250:\n",
    "            break\n",
    "    return ins\n",
    "\n"
   ]
  },
  {
   "cell_type": "code",
   "execution_count": null,
   "id": "51c3cab8",
   "metadata": {},
   "outputs": [],
   "source": [
    "kk=[]\n",
    "for q in ['','u','england','germany','france','italy','spain','korea','china','japan','united states',\n",
    "    'russia','brazil']:\n",
    "    print(q)\n",
    "    ins=get_institutions(q)\n",
    "    for d in ins:\n",
    "        if d not in kk:\n",
    "            kk.append(d)\n",
    "    print(len(kk))\n",
    "    if len(kk)>11835:\n",
    "        break            \n"
   ]
  },
  {
   "cell_type": "code",
   "execution_count": null,
   "id": "b3a719ef",
   "metadata": {},
   "outputs": [],
   "source": [
    "ins=kk.copy()"
   ]
  },
  {
   "cell_type": "code",
   "execution_count": null,
   "id": "6eb23742",
   "metadata": {},
   "outputs": [],
   "source": [
    "f=open('data/inspire_institutions.json','r')\n",
    "old=json.load(f)\n",
    "f.close()"
   ]
  },
  {
   "cell_type": "code",
   "execution_count": null,
   "id": "9fdd4ef3",
   "metadata": {},
   "outputs": [],
   "source": [
    "for d in old:\n",
    "    if d not in kk:\n",
    "        kk.append(d)"
   ]
  },
  {
   "cell_type": "code",
   "execution_count": null,
   "id": "b0561659",
   "metadata": {},
   "outputs": [],
   "source": [
    "cn=[d.get('control_number') for d in kk]"
   ]
  },
  {
   "cell_type": "code",
   "execution_count": null,
   "id": "e7f9cbd6",
   "metadata": {},
   "outputs": [],
   "source": [
    "duplicates=list(set([x for x in cn if cn.count(x)>1]))\n",
    "len(duplicates)\n"
   ]
  },
  {
   "cell_type": "code",
   "execution_count": null,
   "id": "a0a64d1c",
   "metadata": {},
   "outputs": [],
   "source": [
    "len(set([d.get('control_number') for d in kk]))"
   ]
  },
  {
   "cell_type": "code",
   "execution_count": null,
   "id": "712bd79d",
   "metadata": {},
   "outputs": [],
   "source": [
    "ins=[]\n",
    "for d in kk:\n",
    "    if d.get('control_number') not in duplicates:\n",
    "        ins.append(d)"
   ]
  },
  {
   "cell_type": "code",
   "execution_count": null,
   "id": "0c0c33ea",
   "metadata": {},
   "outputs": [],
   "source": [
    "for cn in duplicates:\n",
    "    ins.append( [d for d in  kk if d.get('control_number')==cn][-1] )"
   ]
  },
  {
   "cell_type": "code",
   "execution_count": null,
   "id": "e0098a44",
   "metadata": {},
   "outputs": [],
   "source": [
    "len(ins)"
   ]
  },
  {
   "cell_type": "code",
   "execution_count": null,
   "id": "f081221a",
   "metadata": {},
   "outputs": [],
   "source": [
    "kk=ins.copy()"
   ]
  },
  {
   "cell_type": "code",
   "execution_count": null,
   "id": "6652b4b8",
   "metadata": {},
   "outputs": [],
   "source": [
    "f=open('data/inspire_institutions.json','w')\n",
    "json.dump(kk,f)\n",
    "f.close()"
   ]
  },
  {
   "cell_type": "code",
   "execution_count": null,
   "id": "9f309703",
   "metadata": {},
   "outputs": [],
   "source": [
    "dfi=pd.DataFrame(kk)\n",
    "dfi=dfi.sort_values('number_of_papers', ascending=False).reset_index(drop=True)"
   ]
  },
  {
   "cell_type": "code",
   "execution_count": null,
   "id": "da5e473a",
   "metadata": {},
   "outputs": [],
   "source": [
    "def not_cn(name,sleep=0.4):\n",
    "    url=f'https://inspirehep.net/api/literature?q=aff+{name}+and+ac+1->10&size=1'\n",
    "    r=requests.get(url)\n",
    "    time.sleep(sleep)\n",
    "    try:\n",
    "        total=r.json().get('hits').get('total')\n",
    "    except:\n",
    "        total=None\n",
    "    return total"
   ]
  },
  {
   "cell_type": "code",
   "execution_count": null,
   "id": "afdc3c39",
   "metadata": {},
   "outputs": [],
   "source": [
    "dfi['number_of_not_cn_papers']=dfi.legacy_ICN.apply(not_cn)"
   ]
  },
  {
   "cell_type": "code",
   "execution_count": null,
   "id": "359540a3",
   "metadata": {},
   "outputs": [],
   "source": [
    "dfi['number_of_not_cn_papers']=dfi.number_of_not_cn_papers.fillna(-1).astype(int)"
   ]
  },
  {
   "cell_type": "code",
   "execution_count": null,
   "id": "ac27a187",
   "metadata": {},
   "outputs": [],
   "source": [
    "dfi.sort_values(['number_of_not_cn_papers','number_of_papers'], ascending=False)[['legacy_ICN','number_of_not_cn_papers','number_of_papers']][0:50].reset_index(drop=True)#.to_csv('kk.csv',index=False)"
   ]
  },
  {
   "cell_type": "code",
   "execution_count": null,
   "id": "90bc53ea",
   "metadata": {},
   "outputs": [],
   "source": [
    "control_number=917747\n",
    "dfi[dfi['control_number']==control_number].iloc[0].number_of_not_cn_papers"
   ]
  },
  {
   "cell_type": "code",
   "execution_count": null,
   "id": "23af08f4",
   "metadata": {},
   "outputs": [],
   "source": [
    "for d in ins:\n",
    "    d['number_of_not_cn_papers']=int(dfi[dfi['control_number']==d.get('control_number')].iloc[0].number_of_not_cn_papers)"
   ]
  },
  {
   "cell_type": "code",
   "execution_count": null,
   "id": "02e6f448",
   "metadata": {},
   "outputs": [],
   "source": [
    "f=open('data/inspire_institutions.json','w')\n",
    "json.dump(ins,f)\n",
    "f.close()"
   ]
  },
  {
   "cell_type": "code",
   "execution_count": null,
   "id": "b9d18a23",
   "metadata": {},
   "outputs": [],
   "source": [
    "kkk=pd.DataFrame(kk)\n",
    "kkk[kkk.legacy_ICN.str.lower().str.contains('valencia')]"
   ]
  },
  {
   "cell_type": "code",
   "execution_count": null,
   "id": "6382a6dd-9bb8-4a09-aafc-7a0e17942905",
   "metadata": {},
   "outputs": [],
   "source": []
  },
  {
   "cell_type": "code",
   "execution_count": null,
   "id": "ee628d08-66bf-4386-a38c-f8d8e8f19976",
   "metadata": {},
   "outputs": [],
   "source": [
    "DF = pd.DataFrame(df)\n",
    "DF[DF['advisors'].apply(len)>0].shape"
   ]
  },
  {
   "cell_type": "code",
   "execution_count": null,
   "id": "1e756e7d-ea87-4197-9889-112262ab2b15",
   "metadata": {},
   "outputs": [],
   "source": []
  }
 ],
 "metadata": {
  "kernelspec": {
   "display_name": "Python 3 (ipykernel)",
   "language": "python",
   "name": "python3"
  },
  "language_info": {
   "codemirror_mode": {
    "name": "ipython",
    "version": 3
   },
   "file_extension": ".py",
   "mimetype": "text/x-python",
   "name": "python",
   "nbconvert_exporter": "python",
   "pygments_lexer": "ipython3",
   "version": "3.12.3"
  },
  "vscode": {
   "interpreter": {
    "hash": "31f2aee4e71d21fbe5cf8b01ff0e069b9275f58929596ceb00d14d90e3e16cd6"
   }
  }
 },
 "nbformat": 4,
 "nbformat_minor": 5
}
