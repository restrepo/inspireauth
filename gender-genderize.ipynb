{
 "cells": [
  {
   "cell_type": "markdown",
   "id": "9a5da8af-cf9f-47bf-ac1b-f2476cf8a59a",
   "metadata": {},
   "source": [
    "# Get gender"
   ]
  },
  {
   "cell_type": "markdown",
   "id": "24d09b56-2069-4d59-a1a7-58062055b5f5",
   "metadata": {},
   "source": [
    "## Add `'gender'` key to database"
   ]
  },
  {
   "cell_type": "code",
   "execution_count": 1,
   "id": "3e8d053a-784f-4c06-a11a-932afaa14056",
   "metadata": {},
   "outputs": [],
   "source": [
    "import requests\n",
    "from IPython.display import JSON\n",
    "from gender_guesser_first_names import gender\n",
    "from re import sub\n",
    "from re import search\n",
    "from re import UNICODE\n",
    "import json\n",
    "import country_converter as coco"
   ]
  },
  {
   "cell_type": "code",
   "execution_count": 2,
   "id": "54ab8b1e-7ae1-49ea-b8f1-ab8dfaa6e627",
   "metadata": {},
   "outputs": [],
   "source": [
    "LOCAL=False\n",
    "if LOCAL:\n",
    "    f=open('data/inspire_LA.json','r')\n",
    "    df=json.load(f)\n",
    "    f.close()\n",
    "else:\n",
    "    r=requests.get('https://github.com/restrepo/inspireauth/raw/main/data/inspire_LA.json')\n",
    "    df=r.json()"
   ]
  },
  {
   "cell_type": "code",
   "execution_count": 3,
   "id": "8b485b40-c4fe-4c5c-9586-290ee1faae8d",
   "metadata": {},
   "outputs": [],
   "source": [
    "import pandas as pd"
   ]
  },
  {
   "cell_type": "code",
   "execution_count": 4,
   "id": "0e62c80d-c37c-4455-af49-4c155a628587",
   "metadata": {},
   "outputs": [
    {
     "name": "stdout",
     "output_type": "stream",
     "text": [
      "TOTAL: 57588\n",
      "Unique autors: 29979\n",
      "Remove first names with only intials: 20125 =             male:  16013 + female: 3253 + unknown: 10713.\n",
      "             \n",
      "Select found gender found probability from 95%: 17634\n",
      "female ratio at probability at 95%: 16.0%\n"
     ]
    }
   ],
   "source": [
    "UPDATED = True\n",
    "if UPDATED:\n",
    "    TMP  = pd.DataFrame(df)\n",
    "    TMPU = TMP.drop_duplicates('author_id').reset_index(drop=True)\n",
    "    TMPUI = TMPU[TMPU['first_names'].apply(len)>0].reset_index(drop=True)\n",
    "    TMPUA = TMPUI[TMPUI['gender_probability']>0.94].reset_index(drop=True)\n",
    "    \n",
    "    print(f'TOTAL: {TMP.shape[0]}')\n",
    "    print(f'Unique autors: {TMPU.shape[0]}')\n",
    "    print(f'''Remove first names with only intials: {TMPUI.shape[0]} = \\\n",
    "            male:  {TMPU[TMPU['gender']=='male'].shape[0]} + female: {\n",
    "                    TMPU[TMPU['gender']=='female'].shape[0]} + unknown: {\n",
    "                    TMPU[TMPU['gender']=='unknown'].shape[0]}.\n",
    "             ''')\n",
    "    print(f'Select found gender found probability from 95%: {TMPUA.shape[0]}')\n",
    "    print(f'female ratio at probability at 95%: { \n",
    "                   round(TMPUA[TMPUA['gender']=='female'].shape[0]/(TMPUA[TMPUA['gender']=='female'].shape[0] + TMPUA[TMPUA['gender']=='male'].shape[0]),2)*100  }%')"
   ]
  },
  {
   "cell_type": "markdown",
   "id": "9e6f688f-88a3-4db0-8358-c0abb46e5421",
   "metadata": {},
   "source": [
    "Fill missing `author_id`s with `unknown` + counter "
   ]
  },
  {
   "cell_type": "code",
   "execution_count": 29,
   "id": "b55f03fc-c510-4cd6-9a4c-17a3ad0747da",
   "metadata": {},
   "outputs": [
    {
     "data": {
      "text/plain": [
       "((57588, 15), (57588, 15))"
      ]
     },
     "execution_count": 29,
     "metadata": {},
     "output_type": "execute_result"
    }
   ],
   "source": [
    "DF = pd.DataFrame(df)\n",
    "DFA = DF[~DF['author_id'].isna()]\n",
    "DF.shape,DFA.shape"
   ]
  },
  {
   "cell_type": "code",
   "execution_count": 30,
   "id": "f8874f1a-327f-4b7d-a615-310ed02904c4",
   "metadata": {},
   "outputs": [],
   "source": [
    "unkown_prefix = 'unknown'\n",
    "DFB = DF[DF['author_id'].isna()].reset_index(drop=True)\n",
    "DFB['author_id']=[f'{unkown_prefix}{str(x).zfill(2)}' for x in range(DFB.shape[0])]"
   ]
  },
  {
   "cell_type": "code",
   "execution_count": 31,
   "id": "896104c6-0521-4b36-b073-6d01b287176f",
   "metadata": {},
   "outputs": [],
   "source": [
    "TMP = DFB[DFB.duplicated(subset='full_name',keep=False)].sort_values('author_id')\n",
    "\n",
    "#https://saturncloud.io/blog/how-to-update-a-cell-value-in-pandas-dataframe\n",
    "i_analysed = []\n",
    "for i in TMP.index:\n",
    "    if i not in i_analysed:\n",
    "        print(i)\n",
    "        # Extract each set of duplicates\n",
    "        full_name = TMP.loc[i,'full_name']\n",
    "        author_id = TMP.loc[i,'author_id']\n",
    "        i_analysed = i_analysed + list(TMP.loc[TMP['full_name'] == full_name].index)\n",
    "        DF.loc[ (DF['full_name'] == full_name) & (DF['author_id'].str.contains(unkown_prefix)) , 'author_id'] = author_id\n",
    "\n",
    "del TMP"
   ]
  },
  {
   "cell_type": "code",
   "execution_count": 32,
   "id": "281a8b7a-b43b-4c5c-915c-cca8b3d9d077",
   "metadata": {},
   "outputs": [
    {
     "data": {
      "text/plain": [
       "(57588, 15)"
      ]
     },
     "execution_count": 32,
     "metadata": {},
     "output_type": "execute_result"
    }
   ],
   "source": [
    "DF = pd.concat((DFA,DFB)).reset_index(drop=True)\n",
    "del DFA\n",
    "del DFB\n",
    "DF.shape"
   ]
  },
  {
   "cell_type": "markdown",
   "id": "46e68608-2e85-407b-91b0-1674d20a1c5d",
   "metadata": {},
   "source": [
    "Prepare names and countries for `gender_guesser` and [https://genderize.io](https://genderize.io) csv input"
   ]
  },
  {
   "cell_type": "code",
   "execution_count": 33,
   "id": "be88c0d0-239a-4ee1-9f53-e8d75c5269b5",
   "metadata": {},
   "outputs": [],
   "source": [
    "def remove_initials(d):\n",
    "    '''\n",
    "     Get names from `name.value` and if empty get it from `full_name`\n",
    "     and using `country` information if avalaible\n",
    "    '''\n",
    "    if (d.get('name') and d.get('name').get('value') ):\n",
    "        first_names = d.get('name').get('value').split(', ')[-1].replace('-',' ').strip()\n",
    "    elif d.get('full_name'):\n",
    "        first_names = d.get('full_name').split(', ')[-1].replace('-',' ').strip()\n",
    "    else:\n",
    "        first_names = ''\n",
    "    x = first_names\n",
    "    x = sub(r'[\\|†•]','',x).strip()\n",
    "    x = sub(r'\\.',' ',   x, UNICODE).strip()\n",
    "    x = sub(r'\\s\\w\\s','',x, UNICODE).strip()\n",
    "    x = sub(r'^\\w\\s','',x, UNICODE).strip()\n",
    "    x = sub(r'\\s\\w$','',x, UNICODE).strip()\n",
    "    x = sub(r'^\\w$','',x, UNICODE).strip()\n",
    "    x = sub(r'^[A-Z]{2}$','',x, UNICODE)\n",
    "    \n",
    "    return x"
   ]
  },
  {
   "cell_type": "code",
   "execution_count": 34,
   "id": "7c155226-5bf8-4766-9a0c-cbd377627b3b",
   "metadata": {},
   "outputs": [],
   "source": [
    "DF['names'] = DF.apply(lambda d: remove_initials(d), axis='columns')"
   ]
  },
  {
   "cell_type": "code",
   "execution_count": 35,
   "id": "1ba00a5d-fa64-4422-afbc-1b14adf410ca",
   "metadata": {},
   "outputs": [],
   "source": [
    "DFU = DF[['country']].drop_duplicates()"
   ]
  },
  {
   "cell_type": "code",
   "execution_count": 36,
   "id": "505890f4-7a65-40a4-a77f-57ce17774197",
   "metadata": {},
   "outputs": [
    {
     "name": "stderr",
     "output_type": "stream",
     "text": [
      "None not found in regex\n"
     ]
    }
   ],
   "source": [
    "DFU['country_id'] = DFU['country'].astype(str).replace('Serbia and Montenegro','Serbia').apply(lambda c: coco.convert(names=c, to='ISO2')).replace('not found','')"
   ]
  },
  {
   "cell_type": "code",
   "execution_count": 37,
   "id": "a4487d51-d3cf-4529-b7b6-f4e18c3bf2f1",
   "metadata": {},
   "outputs": [],
   "source": [
    "DF = DF.merge(DFU,on='country',how='left')"
   ]
  },
  {
   "cell_type": "code",
   "execution_count": 38,
   "id": "e65a3deb-83da-45c9-b97c-148669ddb726",
   "metadata": {},
   "outputs": [],
   "source": [
    "del DFU"
   ]
  },
  {
   "cell_type": "code",
   "execution_count": 39,
   "id": "a9098d6e-0b66-441e-b26d-a6586e032c59",
   "metadata": {},
   "outputs": [
    {
     "data": {
      "text/plain": [
       "array(['VE', 'CL'], dtype=object)"
      ]
     },
     "execution_count": 39,
     "metadata": {},
     "output_type": "execute_result"
    }
   ],
   "source": [
    "DF['country_id'].unique()[:2]"
   ]
  },
  {
   "cell_type": "code",
   "execution_count": 40,
   "id": "6a229871-7a05-4165-a3e4-c705e68ee76b",
   "metadata": {},
   "outputs": [
    {
     "data": {
      "text/plain": [
       "(29979, 4)"
      ]
     },
     "execution_count": 40,
     "metadata": {},
     "output_type": "execute_result"
    }
   ],
   "source": [
    "DFU = DF[['author_id','names','country','country_id']].rename({'names':'name'},axis='columns').drop_duplicates('author_id').reset_index(drop=True)\n",
    "DFU.shape"
   ]
  },
  {
   "cell_type": "markdown",
   "id": "831c31b6-3f40-4848-8ac0-198bf764d2ad",
   "metadata": {},
   "source": [
    "`gender_guesser`"
   ]
  },
  {
   "cell_type": "code",
   "execution_count": 41,
   "id": "4a764dc2-4463-46f5-84cd-646c7d245dce",
   "metadata": {},
   "outputs": [],
   "source": [
    "D=gender.Detector(case_sensitive=False)\n",
    "def force_get_gender(d,first_names='names'):\n",
    "    '''\n",
    "     Get names from `name.value` and if empty get it from `full_name`\n",
    "     and using `country` information if avalaible\n",
    "    '''\n",
    "    gender = 'unknown'\n",
    "    names = d.get(first_names)\n",
    "    if names:\n",
    "        if d.get('country'):\n",
    "            gender = D.get_gender( names, country=d.get('country').strip() )\n",
    "        else:\n",
    "            gender = D.get_gender( names )\n",
    "    return gender"
   ]
  },
  {
   "cell_type": "code",
   "execution_count": 42,
   "id": "29d11a9b-026c-431e-9805-2e329f6e78f9",
   "metadata": {},
   "outputs": [],
   "source": [
    "DFU['gender'] = DFU.apply(lambda d: force_get_gender(d,first_names='name'), axis='columns')"
   ]
  },
  {
   "cell_type": "code",
   "execution_count": 43,
   "id": "a41eaa28-44af-437e-80ee-323d498e4696",
   "metadata": {},
   "outputs": [
    {
     "data": {
      "text/plain": [
       "(29979, 5)"
      ]
     },
     "execution_count": 43,
     "metadata": {},
     "output_type": "execute_result"
    }
   ],
   "source": [
    "DFU.shape"
   ]
  },
  {
   "cell_type": "markdown",
   "id": "4eae1f4a-0275-4e5c-9757-b5bb7156f47b",
   "metadata": {},
   "source": [
    "[https://genderize.io](https://genderize.io) csv input"
   ]
  },
  {
   "cell_type": "code",
   "execution_count": 44,
   "id": "530b494a-61b6-4555-aa0b-b098fb320197",
   "metadata": {},
   "outputs": [
    {
     "data": {
      "text/plain": [
       "(29979, 20125, 9854, 0.33)"
      ]
     },
     "execution_count": 44,
     "metadata": {},
     "output_type": "execute_result"
    }
   ],
   "source": [
    "DFUA = DFU[DFU['name'].apply(len)>0].reset_index(drop=True)\n",
    "DFUB = DFU[DFU['name'].apply(len)==0].reset_index(drop=True)\n",
    "DFU.shape[0], DFUA.shape[0], DFUB.shape[0],round( DFUB.shape[0] / DFU.shape[0],2)"
   ]
  },
  {
   "cell_type": "code",
   "execution_count": 45,
   "id": "ec2d1fb6-ab64-40e1-b4fa-9e67699af6b2",
   "metadata": {},
   "outputs": [
    {
     "data": {
      "text/plain": [
       "Index(['author_id', 'name', 'country', 'country_id', 'gender'], dtype='object')"
      ]
     },
     "execution_count": 45,
     "metadata": {},
     "output_type": "execute_result"
    }
   ],
   "source": [
    "DFUA.columns"
   ]
  },
  {
   "cell_type": "code",
   "execution_count": 46,
   "id": "f1fb9e78-210b-4704-81ff-82abf4a1e2f7",
   "metadata": {},
   "outputs": [
    {
     "data": {
      "text/html": [
       "<div>\n",
       "<style scoped>\n",
       "    .dataframe tbody tr th:only-of-type {\n",
       "        vertical-align: middle;\n",
       "    }\n",
       "\n",
       "    .dataframe tbody tr th {\n",
       "        vertical-align: top;\n",
       "    }\n",
       "\n",
       "    .dataframe thead th {\n",
       "        text-align: right;\n",
       "    }\n",
       "</style>\n",
       "<table border=\"1\" class=\"dataframe\">\n",
       "  <thead>\n",
       "    <tr style=\"text-align: right;\">\n",
       "      <th></th>\n",
       "      <th>author_id</th>\n",
       "      <th>name</th>\n",
       "      <th>country</th>\n",
       "      <th>country_id</th>\n",
       "      <th>gender</th>\n",
       "    </tr>\n",
       "  </thead>\n",
       "  <tbody>\n",
       "    <tr>\n",
       "      <th>0</th>\n",
       "      <td>H.Albrecht.1</td>\n",
       "      <td>Hartwig</td>\n",
       "      <td>Venezuela</td>\n",
       "      <td>VE</td>\n",
       "      <td>male</td>\n",
       "    </tr>\n",
       "    <tr>\n",
       "      <th>1</th>\n",
       "      <td>D.M.B.R.1</td>\n",
       "      <td>David Bellorin</td>\n",
       "      <td>Venezuela</td>\n",
       "      <td>VE</td>\n",
       "      <td>male</td>\n",
       "    </tr>\n",
       "    <tr>\n",
       "      <th>2</th>\n",
       "      <td>D.F.Mundarain.1</td>\n",
       "      <td>Douglas</td>\n",
       "      <td>Chile</td>\n",
       "      <td>CL</td>\n",
       "      <td>male</td>\n",
       "    </tr>\n",
       "    <tr>\n",
       "      <th>3</th>\n",
       "      <td>R.Gaitan.2</td>\n",
       "      <td>Rolando</td>\n",
       "      <td>Venezuela</td>\n",
       "      <td>VE</td>\n",
       "      <td>male</td>\n",
       "    </tr>\n",
       "    <tr>\n",
       "      <th>4</th>\n",
       "      <td>J.Ntahompagaze.1</td>\n",
       "      <td>Joseph</td>\n",
       "      <td>Rwanda</td>\n",
       "      <td>RW</td>\n",
       "      <td>male</td>\n",
       "    </tr>\n",
       "    <tr>\n",
       "      <th>...</th>\n",
       "      <td>...</td>\n",
       "      <td>...</td>\n",
       "      <td>...</td>\n",
       "      <td>...</td>\n",
       "      <td>...</td>\n",
       "    </tr>\n",
       "    <tr>\n",
       "      <th>20120</th>\n",
       "      <td>R.Weber.2</td>\n",
       "      <td>Ronald</td>\n",
       "      <td>Brazil</td>\n",
       "      <td>BR</td>\n",
       "      <td>male</td>\n",
       "    </tr>\n",
       "    <tr>\n",
       "      <th>20121</th>\n",
       "      <td>H.J.Drescher.1</td>\n",
       "      <td>Hans Joachim</td>\n",
       "      <td>Germany</td>\n",
       "      <td>DE</td>\n",
       "      <td>male</td>\n",
       "    </tr>\n",
       "    <tr>\n",
       "      <th>20122</th>\n",
       "      <td>A.A.P.Videira.1</td>\n",
       "      <td>AntonioP</td>\n",
       "      <td>Brazil</td>\n",
       "      <td>BR</td>\n",
       "      <td>unknown</td>\n",
       "    </tr>\n",
       "    <tr>\n",
       "      <th>20123</th>\n",
       "      <td>A.Mocsy.1</td>\n",
       "      <td>Agnes</td>\n",
       "      <td>United States</td>\n",
       "      <td>US</td>\n",
       "      <td>female</td>\n",
       "    </tr>\n",
       "    <tr>\n",
       "      <th>20124</th>\n",
       "      <td>R.Nicolsky.1</td>\n",
       "      <td>Roberto</td>\n",
       "      <td>Brazil</td>\n",
       "      <td>BR</td>\n",
       "      <td>male</td>\n",
       "    </tr>\n",
       "  </tbody>\n",
       "</table>\n",
       "<p>20125 rows × 5 columns</p>\n",
       "</div>"
      ],
      "text/plain": [
       "              author_id            name        country country_id   gender\n",
       "0          H.Albrecht.1         Hartwig      Venezuela         VE     male\n",
       "1             D.M.B.R.1  David Bellorin      Venezuela         VE     male\n",
       "2       D.F.Mundarain.1         Douglas          Chile         CL     male\n",
       "3            R.Gaitan.2         Rolando      Venezuela         VE     male\n",
       "4      J.Ntahompagaze.1          Joseph         Rwanda         RW     male\n",
       "...                 ...             ...            ...        ...      ...\n",
       "20120         R.Weber.2          Ronald         Brazil         BR     male\n",
       "20121    H.J.Drescher.1    Hans Joachim        Germany         DE     male\n",
       "20122   A.A.P.Videira.1        AntonioP         Brazil         BR  unknown\n",
       "20123         A.Mocsy.1           Agnes  United States         US   female\n",
       "20124      R.Nicolsky.1         Roberto         Brazil         BR     male\n",
       "\n",
       "[20125 rows x 5 columns]"
      ]
     },
     "execution_count": 46,
     "metadata": {},
     "output_type": "execute_result"
    }
   ],
   "source": [
    "DFUA"
   ]
  },
  {
   "cell_type": "code",
   "execution_count": 47,
   "id": "1a609ea5-5f74-478c-8f82-8d8bc77903bd",
   "metadata": {},
   "outputs": [
    {
     "data": {
      "text/plain": [
       "(20125, 5)"
      ]
     },
     "execution_count": 47,
     "metadata": {},
     "output_type": "execute_result"
    }
   ],
   "source": [
    "DFUA.shape"
   ]
  },
  {
   "cell_type": "code",
   "execution_count": 48,
   "id": "5a02d951-1a87-4b00-b11a-37f6cd995573",
   "metadata": {},
   "outputs": [],
   "source": [
    "DFUA.to_csv('/home/restrepo/Downloads/genderize.csv',index=False)"
   ]
  },
  {
   "cell_type": "markdown",
   "id": "0855cb1d-335f-4bc0-8b28-6b21d08d8efb",
   "metadata": {},
   "source": [
    "Analysis of  [https://genderize.io](https://genderize.io) csv output"
   ]
  },
  {
   "cell_type": "code",
   "execution_count": 53,
   "id": "4beded56-6baf-490f-8a6d-1cbf27788b14",
   "metadata": {},
   "outputs": [],
   "source": [
    "csv = 'data/genderize.csv'\n",
    "DFUA = pd.read_csv(csv)"
   ]
  },
  {
   "cell_type": "code",
   "execution_count": 54,
   "id": "8ab7a53b-e874-4273-baec-bba0c96aea12",
   "metadata": {},
   "outputs": [],
   "source": [
    "DFU = pd.concat((DFUA,DFUB)).reset_index(drop=True)"
   ]
  },
  {
   "cell_type": "code",
   "execution_count": 55,
   "id": "a9440e33-1460-4236-b881-901c0591a15f",
   "metadata": {},
   "outputs": [
    {
     "data": {
      "text/html": [
       "<div>\n",
       "<style scoped>\n",
       "    .dataframe tbody tr th:only-of-type {\n",
       "        vertical-align: middle;\n",
       "    }\n",
       "\n",
       "    .dataframe tbody tr th {\n",
       "        vertical-align: top;\n",
       "    }\n",
       "\n",
       "    .dataframe thead th {\n",
       "        text-align: right;\n",
       "    }\n",
       "</style>\n",
       "<table border=\"1\" class=\"dataframe\">\n",
       "  <thead>\n",
       "    <tr style=\"text-align: right;\">\n",
       "      <th></th>\n",
       "      <th>author_id</th>\n",
       "      <th>name</th>\n",
       "      <th>country</th>\n",
       "      <th>country_id</th>\n",
       "      <th>gender</th>\n",
       "      <th>Gender</th>\n",
       "      <th>Gender Probability</th>\n",
       "      <th>Gender Count</th>\n",
       "    </tr>\n",
       "  </thead>\n",
       "  <tbody>\n",
       "    <tr>\n",
       "      <th>0</th>\n",
       "      <td>H.Albrecht.1</td>\n",
       "      <td>Hartwig</td>\n",
       "      <td>Venezuela</td>\n",
       "      <td>VE</td>\n",
       "      <td>male</td>\n",
       "      <td>unknown</td>\n",
       "      <td>0.0</td>\n",
       "      <td>0.0</td>\n",
       "    </tr>\n",
       "  </tbody>\n",
       "</table>\n",
       "</div>"
      ],
      "text/plain": [
       "      author_id     name    country country_id gender   Gender  \\\n",
       "0  H.Albrecht.1  Hartwig  Venezuela         VE   male  unknown   \n",
       "\n",
       "   Gender Probability  Gender Count  \n",
       "0                 0.0           0.0  "
      ]
     },
     "execution_count": 55,
     "metadata": {},
     "output_type": "execute_result"
    }
   ],
   "source": [
    "DFU['Gender'] = DFU['Gender'].fillna('unknown')\n",
    "DFU['Gender Probability'] = DFU['Gender Probability'].fillna(0)\n",
    "DFU['Gender Count'] = DFU['Gender Count'].fillna(0)\n",
    "DFU[:1]"
   ]
  },
  {
   "cell_type": "code",
   "execution_count": 56,
   "id": "f12111a1-267e-4ce3-9b11-1bda2db936f0",
   "metadata": {},
   "outputs": [
    {
     "name": "stdout",
     "output_type": "stream",
     "text": [
      "gender-guesser, genderize.io\n"
     ]
    },
    {
     "data": {
      "text/plain": [
       "((16968, 8), (19266, 8))"
      ]
     },
     "execution_count": 56,
     "metadata": {},
     "output_type": "execute_result"
    }
   ],
   "source": [
    "print('gender-guesser, genderize.io')\n",
    "DFU[DFU['gender'].apply(lambda s: s in ['male','female'])].shape, DFU[DFU['Gender'].apply(lambda s: s in ['male','female'])].shape"
   ]
  },
  {
   "cell_type": "markdown",
   "id": "0c610c20-dd9a-4437-ac7d-29a72970a02f",
   "metadata": {},
   "source": [
    "Update official dataset"
   ]
  },
  {
   "cell_type": "code",
   "execution_count": 57,
   "id": "88ced6d7-949b-42e4-9bce-7e18d0619f20",
   "metadata": {},
   "outputs": [],
   "source": [
    "d_gender = dict(zip( DFU['author_id'], DFU['Gender'] ) )\n",
    "d_first_names = dict(zip( DFU['author_id'], DFU.rename({'name':'first_names'},axis='columns')['first_names'] ) )\n",
    "d_prob   = dict(zip( DFU['author_id'], DFU['Gender Probability'] ) )\n",
    "unknown = DF[DF['author_id'].str.contains('unknown')]\n",
    "d_author_id = dict(zip(unknown['full_name'],unknown['author_id']))"
   ]
  },
  {
   "cell_type": "code",
   "execution_count": 58,
   "id": "08c38161-26b0-4b51-bef7-cac0d3980f3d",
   "metadata": {},
   "outputs": [],
   "source": [
    "UPDATE = False\n",
    "if UPDATE:\n",
    "    for author_id in DFU['author_id']:\n",
    "        kk = [d.update( {'first_names': d_first_names[author_id], \n",
    "                         'gender':      d_gender[author_id] ,\n",
    "                         'gender_probability': d_prob[author_id]  } )\n",
    "                  for d in df if d.get('author_id') == author_id]"
   ]
  },
  {
   "cell_type": "code",
   "execution_count": 6,
   "id": "3a71b6d0-42b5-4386-b004-42058c20d1f7",
   "metadata": {},
   "outputs": [
    {
     "name": "stdout",
     "output_type": "stream",
     "text": [
      "TOTAL: 57588\n",
      "Unique autors: 29979\n",
      "Remove first names with only intials: 20125 =         male:  16013 + female: 3253 + unknown: 10713.\n",
      "         \n",
      "Select found gender found probability from 95%: 17954\n",
      "female ratio at probability at 95%: 16.0%\n"
     ]
    }
   ],
   "source": [
    "TMP  = pd.DataFrame(df)\n",
    "TMPU = TMP.drop_duplicates('author_id').reset_index(drop=True)\n",
    "TMPUI = TMPU[TMPU['first_names'].apply(len)>0].reset_index(drop=True)\n",
    "TMPUA = TMPUI[TMPUI['gender_probability']>0.9].reset_index(drop=True)\n",
    "\n",
    "print(f'TOTAL: {TMP.shape[0]}')\n",
    "print(f'Unique autors: {TMPU.shape[0]}')\n",
    "print(f'''Remove first names with only intials: {TMPUI.shape[0]} = \\\n",
    "        male:  {TMPU[TMPU['gender']=='male'].shape[0]} + female: {\n",
    "                TMPU[TMPU['gender']=='female'].shape[0]} + unknown: {\n",
    "                TMPU[TMPU['gender']=='unknown'].shape[0]}.\n",
    "         ''')\n",
    "print(f'Select found gender found probability from 95%: {TMPUA.shape[0]}')\n",
    "print(f'female ratio at probability at 95%: { \n",
    "               round(TMPUA[TMPUA['gender']=='female'].shape[0]/(TMPUA[TMPUA['gender']=='female'].shape[0] + TMPUA[TMPUA['gender']=='male'].shape[0]),2)*100  }%')"
   ]
  },
  {
   "cell_type": "code",
   "execution_count": 59,
   "id": "f1a66ea0-e3a5-404f-b29c-2af5880ce6c5",
   "metadata": {},
   "outputs": [
    {
     "name": "stdout",
     "output_type": "stream",
     "text": [
      "TOTAL: 57588\n",
      "Unique autors: 29979\n",
      "Remove first names with only intials: 20125 =         male:  16013 + female: 3253 + unknown: 10713.\n",
      "         \n",
      "Select found gender found probability from 95%: 17634\n",
      "female ratio at probability at 95%: 16.0%\n"
     ]
    }
   ],
   "source": [
    "TMP  = pd.DataFrame(df)\n",
    "TMPU = TMP.drop_duplicates('author_id').reset_index(drop=True)\n",
    "TMPUI = TMPU[TMPU['first_names'].apply(len)>0].reset_index(drop=True)\n",
    "TMPUA = TMPUI[TMPUI['gender_probability']>0.94].reset_index(drop=True)\n",
    "\n",
    "print(f'TOTAL: {TMP.shape[0]}')\n",
    "print(f'Unique autors: {TMPU.shape[0]}')\n",
    "print(f'''Remove first names with only intials: {TMPUI.shape[0]} = \\\n",
    "        male:  {TMPU[TMPU['gender']=='male'].shape[0]} + female: {\n",
    "                TMPU[TMPU['gender']=='female'].shape[0]} + unknown: {\n",
    "                TMPU[TMPU['gender']=='unknown'].shape[0]}.\n",
    "         ''')\n",
    "print(f'Select found gender found probability from 95%: {TMPUA.shape[0]}')\n",
    "print(f'female ratio at probability at 95%: { \n",
    "               round(TMPUA[TMPUA['gender']=='female'].shape[0]/(TMPUA[TMPUA['gender']=='female'].shape[0] + TMPUA[TMPUA['gender']=='male'].shape[0]),2)*100  }%')"
   ]
  },
  {
   "cell_type": "code",
   "execution_count": 60,
   "id": "69480f2e-0c20-4770-924f-38a477ab2743",
   "metadata": {},
   "outputs": [],
   "source": [
    "DUMP = False\n",
    "if DUMP:\n",
    "    f=open('data/inspire_LA.json','w')\n",
    "    json.dump(df,f)\n",
    "    f.close()"
   ]
  },
  {
   "cell_type": "markdown",
   "id": "7c6383b7-51a9-4693-ad0a-d4e75fcca294",
   "metadata": {},
   "source": [
    "Check test dataset with [https://genderize.io](https://genderize.io)"
   ]
  },
  {
   "cell_type": "code",
   "execution_count": 114,
   "id": "9d033ae2-b0c1-4f1f-9929-a5c748e2e521",
   "metadata": {},
   "outputs": [
    {
     "data": {
      "text/plain": [
       "(3967, 3)"
      ]
     },
     "execution_count": 114,
     "metadata": {},
     "output_type": "execute_result"
    }
   ],
   "source": [
    "COT = pd.read_json('https://raw.githubusercontent.com/colav-playground/gender_guesser_first_names/refs/heads/main/data/test_gender.json')\n",
    "COT.shape"
   ]
  },
  {
   "cell_type": "code",
   "execution_count": 117,
   "id": "08aefd57-620a-4449-befc-0dd22892bb89",
   "metadata": {},
   "outputs": [],
   "source": [
    "COT[:681].to_csv('data/test_gender_NC.csv',index = False)"
   ]
  },
  {
   "cell_type": "code",
   "execution_count": 113,
   "id": "4cf0f31c-ccfe-4b62-b8c5-e9c066621371",
   "metadata": {},
   "outputs": [],
   "source": [
    "UPDATE_CO = False\n",
    "if UPDATE_CO:\n",
    "    CO = COT.copy()\n",
    "    CO = pd.read_json('https://raw.githubusercontent.com/colav-playground/gender_guesser_first_names/refs/heads/main/data/test_gender.json')\n",
    "    CO['country_id'] = CO['country'].astype(str).apply(lambda c: coco.convert(names=c, to='ISO2')).replace('not found','')\n",
    "    CO[CO['country'] == 'other_countries'].to_csv('/home/restrepo/Downloads/test_gender2.csv',index=False)\n",
    "    CO.to_csv('/home/restrepo/Downloads/test_gender.csv',index=False)"
   ]
  },
  {
   "cell_type": "markdown",
   "id": "db54728b-8f63-40ee-a298-7ffc62be7f81",
   "metadata": {},
   "source": [
    "Analysis of  [https://genderize.io](https://genderize.io) test csv output"
   ]
  },
  {
   "cell_type": "code",
   "execution_count": 50,
   "id": "5c572ca9-6f59-4427-a030-94982ae16d94",
   "metadata": {},
   "outputs": [],
   "source": [
    "UPDATE_OC = False\n",
    "if UPDATE_OC:\n",
    "    COLD = pd.read_csv('data/test_gender2.csv')    \n",
    "    CO = pd.read_csv('data/test_gender.csv')\n",
    "    \n",
    "    CO = CO[CO['gender']!='L'].reset_index(drop=True)\n",
    "    \n",
    "    CO1 = CO[CO['country'] != 'other_countries'].reset_index(drop=True)\n",
    "    CO2 = CO[CO['country'] == 'other_countries'].reset_index(drop=True)\n",
    "    CO.shape[0], CO1.shape[0] + CO2.shape[0] \n",
    "    \n",
    "    CO2 = CO2[['names', 'gender', 'country', 'country_id']].merge(\n",
    "         COLD[['names', 'Gender','Gender Probability', 'Gender Count']],\n",
    "                on = 'names', how = 'left').fillna('')\n",
    "    \n",
    "    CO = pd.concat((CO1,CO2)).reset_index(drop=True)\n",
    "    CO.to_csv('data/test_gender.csv',index=False)"
   ]
  },
  {
   "cell_type": "code",
   "execution_count": 129,
   "id": "045ce173-8407-48df-980d-ba9d70cf9ffe",
   "metadata": {},
   "outputs": [],
   "source": [
    "CO = pd.read_csv('data/test_gender.csv')\n",
    "#CO = pd.read_csv('data/test_gender_NC631.csv')"
   ]
  },
  {
   "cell_type": "markdown",
   "id": "03c14321-60fc-4023-b81a-9f431259bbb2",
   "metadata": {},
   "source": [
    "confusion matrix"
   ]
  },
  {
   "cell_type": "code",
   "execution_count": 130,
   "id": "d11ac1a6-877e-47f4-92fe-8946464c39fe",
   "metadata": {},
   "outputs": [],
   "source": [
    "CM = {'male':{},'female':{}}"
   ]
  },
  {
   "cell_type": "code",
   "execution_count": 131,
   "id": "8ab4ab5c-4fac-412c-bdc8-e066084bde7a",
   "metadata": {},
   "outputs": [],
   "source": [
    "for i in ['male','female']:\n",
    "    for j in ['male','female','unknown']:\n",
    "        CM[i][j] = CO[ (CO['gender'] == i) & (CO['Gender'] == j)].shape[0]"
   ]
  },
  {
   "cell_type": "code",
   "execution_count": 132,
   "id": "6c751f3e-2ffb-42b1-bc6e-f6b39ff1e030",
   "metadata": {},
   "outputs": [],
   "source": [
    "CO90 = CO.copy(deep=True)\n",
    "CO90['Gender'] = CO.apply(lambda d: 'unknown' if d['Gender Probability'] < 0.9 else d['Gender'],axis = 'columns')"
   ]
  },
  {
   "cell_type": "code",
   "execution_count": 134,
   "id": "63ec6771-c7f9-4e6d-8e71-44b19a388003",
   "metadata": {},
   "outputs": [],
   "source": [
    "CM90 = {'male':{},'female':{}}\n",
    "for i in ['male','female']:\n",
    "    for j in ['male','female','unknown']:\n",
    "        CM90[i][j] = CO90[ (CO90['gender'] == i) & (CO90['Gender'] == j)].shape[0]"
   ]
  },
  {
   "cell_type": "code",
   "execution_count": 150,
   "id": "b1f8a976-f112-4622-965d-242f9aa31285",
   "metadata": {},
   "outputs": [
    {
     "name": "stdout",
     "output_type": "stream",
     "text": [
      "error 0.8379888268156425 %\n",
      "accuracy 99.16201117318437 %  → 1.0\n",
      "errorNA 1.5132408575031526 %\n",
      "positivity 99.13710450623202%   99.19006479481641%\n",
      "recall 99.27988478156506% 99.02964959568733%\n"
     ]
    }
   ],
   "source": [
    "def error(CM):\n",
    "    return (CM['male']['female'] + CM['female']['male'])/(\n",
    "            CM['male']['male'] + CM['female']['female'] + CM['male']['female'] + CM['female']['male'])\n",
    "def accuracy(CM):\n",
    "    return (CM['male']['male'] + CM['female']['female'])/(\n",
    "            CM['male']['male'] + CM['female']['female'] + CM['male']['female'] + CM['female']['male'])\n",
    "\n",
    "\n",
    "def errorNA(CM):\n",
    "    return (CM['male']['female'] + CM['female']['male'] + CM['male']['unknown'] + CM['female']['unknown'] )/(\n",
    "            CM['male']['male'] + CM['female']['female'] + CM['male']['female'] + CM['female']['male'] + \n",
    "            CM['male']['unknown'] + CM['female']['unknown'])\n",
    "def postitivity(CM,category='male'):\n",
    "    # False positive (FP) denotes the number of samples incorrectly classified as positive. \n",
    "    # False negative (FN) denotes the number of samples incorrectly classified as negative.\n",
    "    if category == 'male':\n",
    "        anti_category = 'female'\n",
    "    else:\n",
    "        anti_category = 'male'\n",
    "        \n",
    "    return (CM[category][category])/(\n",
    "            CM[category][category] + CM[anti_category][category])    # FP\n",
    "def recall(CM,category='male'):\n",
    "    if category == 'male':\n",
    "        anti_category = 'female'\n",
    "    else:\n",
    "        anti_category = 'male'\n",
    "        \n",
    "    return (CM[category][category])/(\n",
    "            CM[category][category] + CM[category][anti_category])    #FN\n",
    "\n",
    "\n",
    "print( f'error {error(CM)*100} %' )\n",
    "print( f'accuracy {accuracy(CM)*100} %  → {error(CM) + accuracy(CM)}' )\n",
    "print( f'errorNA {errorNA(CM)*100} %' )\n",
    "print( f'positivity {postitivity(CM)*100}%   {postitivity(CM,category=\"female\")*100}%'   )\n",
    "print( f'recall {recall(CM)*100}% {recall(CM,category=\"female\")*100}%' )"
   ]
  },
  {
   "cell_type": "code",
   "execution_count": 138,
   "id": "2a4fd347-72b3-4e71-b769-08dfa353881a",
   "metadata": {},
   "outputs": [
    {
     "data": {
      "text/plain": [
       "1.0"
      ]
     },
     "execution_count": 138,
     "metadata": {},
     "output_type": "execute_result"
    }
   ],
   "source": [
    "postitivity(CM) + error(CM)"
   ]
  },
  {
   "cell_type": "code",
   "execution_count": 151,
   "id": "a270780e-3bfb-4c83-ba53-76e2a41ed50b",
   "metadata": {},
   "outputs": [
    {
     "name": "stdout",
     "output_type": "stream",
     "text": [
      "error90 0.6168080185042405%\n",
      "accuracy90 99.38319198149576 %  → 1.0\n",
      "errorNA90 2.471626733921816%\n"
     ]
    }
   ],
   "source": [
    "print( f'error90 {error(CM90)*100}%' )\n",
    "print( f'accuracy90 {accuracy(CM90)*100} %  → {error(CM) + accuracy(CM)}' )\n",
    "print( f'errorNA90 {errorNA(CM90)*100}%')"
   ]
  },
  {
   "cell_type": "code",
   "execution_count": 107,
   "id": "643d39cd-968a-41ee-aeb7-fbd59b701b90",
   "metadata": {},
   "outputs": [
    {
     "data": {
      "text/plain": [
       "0.6168080185042405"
      ]
     },
     "execution_count": 107,
     "metadata": {},
     "output_type": "execute_result"
    }
   ],
   "source": [
    "error(CM90)*100"
   ]
  },
  {
   "cell_type": "code",
   "execution_count": 96,
   "id": "6322ea2b-e99e-4b00-a723-a9be64211ddb",
   "metadata": {},
   "outputs": [
    {
     "data": {
      "text/html": [
       "<div>\n",
       "<style scoped>\n",
       "    .dataframe tbody tr th:only-of-type {\n",
       "        vertical-align: middle;\n",
       "    }\n",
       "\n",
       "    .dataframe tbody tr th {\n",
       "        vertical-align: top;\n",
       "    }\n",
       "\n",
       "    .dataframe thead th {\n",
       "        text-align: right;\n",
       "    }\n",
       "</style>\n",
       "<table border=\"1\" class=\"dataframe\">\n",
       "  <thead>\n",
       "    <tr style=\"text-align: right;\">\n",
       "      <th></th>\n",
       "      <th>names</th>\n",
       "      <th>gender</th>\n",
       "      <th>country</th>\n",
       "      <th>country_id</th>\n",
       "      <th>Gender</th>\n",
       "      <th>Gender Probability</th>\n",
       "      <th>Gender Count</th>\n",
       "    </tr>\n",
       "  </thead>\n",
       "  <tbody>\n",
       "    <tr>\n",
       "      <th>1</th>\n",
       "      <td>Jefferson Alejandro</td>\n",
       "      <td>male</td>\n",
       "      <td>colombia</td>\n",
       "      <td>CO</td>\n",
       "      <td>male</td>\n",
       "      <td>1.00</td>\n",
       "      <td>17</td>\n",
       "    </tr>\n",
       "    <tr>\n",
       "      <th>2</th>\n",
       "      <td>Jhon Jairo</td>\n",
       "      <td>male</td>\n",
       "      <td>colombia</td>\n",
       "      <td>CO</td>\n",
       "      <td>male</td>\n",
       "      <td>1.00</td>\n",
       "      <td>19782</td>\n",
       "    </tr>\n",
       "    <tr>\n",
       "      <th>9</th>\n",
       "      <td>Jose Luis</td>\n",
       "      <td>male</td>\n",
       "      <td>colombia</td>\n",
       "      <td>CO</td>\n",
       "      <td>male</td>\n",
       "      <td>1.00</td>\n",
       "      <td>15204</td>\n",
       "    </tr>\n",
       "    <tr>\n",
       "      <th>10</th>\n",
       "      <td>Danilo</td>\n",
       "      <td>male</td>\n",
       "      <td>colombia</td>\n",
       "      <td>CO</td>\n",
       "      <td>male</td>\n",
       "      <td>1.00</td>\n",
       "      <td>12188</td>\n",
       "    </tr>\n",
       "    <tr>\n",
       "      <th>13</th>\n",
       "      <td>Francisco Ivan</td>\n",
       "      <td>male</td>\n",
       "      <td>colombia</td>\n",
       "      <td>CO</td>\n",
       "      <td>male</td>\n",
       "      <td>1.00</td>\n",
       "      <td>37775</td>\n",
       "    </tr>\n",
       "    <tr>\n",
       "      <th>...</th>\n",
       "      <td>...</td>\n",
       "      <td>...</td>\n",
       "      <td>...</td>\n",
       "      <td>...</td>\n",
       "      <td>...</td>\n",
       "      <td>...</td>\n",
       "      <td>...</td>\n",
       "    </tr>\n",
       "    <tr>\n",
       "      <th>3955</th>\n",
       "      <td>Volodymyr</td>\n",
       "      <td>male</td>\n",
       "      <td>other_countries</td>\n",
       "      <td>NaN</td>\n",
       "      <td>male</td>\n",
       "      <td>1.00</td>\n",
       "      <td>2958</td>\n",
       "    </tr>\n",
       "    <tr>\n",
       "      <th>3961</th>\n",
       "      <td>Florian Jan Fietje</td>\n",
       "      <td>male</td>\n",
       "      <td>other_countries</td>\n",
       "      <td>NaN</td>\n",
       "      <td>unknow</td>\n",
       "      <td>0.89</td>\n",
       "      <td>343839</td>\n",
       "    </tr>\n",
       "    <tr>\n",
       "      <th>3962</th>\n",
       "      <td>Yaniel</td>\n",
       "      <td>male</td>\n",
       "      <td>other_countries</td>\n",
       "      <td>NaN</td>\n",
       "      <td>male</td>\n",
       "      <td>0.98</td>\n",
       "      <td>592</td>\n",
       "    </tr>\n",
       "    <tr>\n",
       "      <th>3963</th>\n",
       "      <td>Lars Fredrik</td>\n",
       "      <td>male</td>\n",
       "      <td>other_countries</td>\n",
       "      <td>NaN</td>\n",
       "      <td>male</td>\n",
       "      <td>1.00</td>\n",
       "      <td>7</td>\n",
       "    </tr>\n",
       "    <tr>\n",
       "      <th>3964</th>\n",
       "      <td>Noel Christopher</td>\n",
       "      <td>male</td>\n",
       "      <td>other_countries</td>\n",
       "      <td>NaN</td>\n",
       "      <td>male</td>\n",
       "      <td>1.00</td>\n",
       "      <td>5</td>\n",
       "    </tr>\n",
       "  </tbody>\n",
       "</table>\n",
       "<p>2100 rows × 7 columns</p>\n",
       "</div>"
      ],
      "text/plain": [
       "                    names gender          country country_id  Gender  \\\n",
       "1     Jefferson Alejandro   male         colombia         CO    male   \n",
       "2              Jhon Jairo   male         colombia         CO    male   \n",
       "9               Jose Luis   male         colombia         CO    male   \n",
       "10                 Danilo   male         colombia         CO    male   \n",
       "13        Francisco Ivan    male         colombia         CO    male   \n",
       "...                   ...    ...              ...        ...     ...   \n",
       "3955            Volodymyr   male  other_countries        NaN    male   \n",
       "3961   Florian Jan Fietje   male  other_countries        NaN  unknow   \n",
       "3962               Yaniel   male  other_countries        NaN    male   \n",
       "3963         Lars Fredrik   male  other_countries        NaN    male   \n",
       "3964     Noel Christopher   male  other_countries        NaN    male   \n",
       "\n",
       "      Gender Probability  Gender Count  \n",
       "1                   1.00            17  \n",
       "2                   1.00         19782  \n",
       "9                   1.00         15204  \n",
       "10                  1.00         12188  \n",
       "13                  1.00         37775  \n",
       "...                  ...           ...  \n",
       "3955                1.00          2958  \n",
       "3961                0.89        343839  \n",
       "3962                0.98           592  \n",
       "3963                1.00             7  \n",
       "3964                1.00             5  \n",
       "\n",
       "[2100 rows x 7 columns]"
      ]
     },
     "execution_count": 96,
     "metadata": {},
     "output_type": "execute_result"
    }
   ],
   "source": [
    "i = 'male'\n",
    "j = 'unknown'\n",
    "CO90[ (CO90['gender'] == i) ]"
   ]
  },
  {
   "cell_type": "code",
   "execution_count": 15,
   "id": "65eb4f6b-d158-49dd-8177-474aad5f18bd",
   "metadata": {},
   "outputs": [],
   "source": [
    "COK = CO[ CO['Gender'] != 'unknown'] # male or female\n"
   ]
  },
  {
   "cell_type": "code",
   "execution_count": 16,
   "id": "4e0befdc-b1c5-4b95-aa3d-46ec6c6a414c",
   "metadata": {},
   "outputs": [
    {
     "name": "stdout",
     "output_type": "stream",
     "text": [
      "Number of errors: 33\n",
      "Error: 0.84 %. Includes low Gender Probability\n"
     ]
    }
   ],
   "source": [
    "COW = COK[  (COK['gender'] != COK['Gender']) ]\n",
    "print(f'Number of errors: {COW.shape[0]}')\n",
    "print( f'Error: {round(COW.shape[0]/COK.shape[0]*100,2)} %. Includes low Gender Probability')"
   ]
  },
  {
   "cell_type": "code",
   "execution_count": 19,
   "id": "e0b06b42-3690-4663-b8d1-f3805bcb2f66",
   "metadata": {},
   "outputs": [],
   "source": [
    "precision = 0.9\n",
    "good_quality = COK[(COK['Gender Probability'] >= precision)].shape[0]\n",
    "wrong_good_quality = COK[(COK['Gender Probability'] >= precision) & (COK['gender'] != COK['Gender'])].shape[0]\n",
    "bad_quality = COK[(COK['Gender Probability'] < precision)].shape[0]\n",
    "wrong_bad_quality = COK[(COK['Gender Probability'] < precision) & (COK['gender'] != COK['Gender'])].shape[0]"
   ]
  },
  {
   "cell_type": "code",
   "execution_count": 20,
   "id": "544f9353-d49e-4c86-af39-17cb6a9030bc",
   "metadata": {},
   "outputs": [
    {
     "name": "stdout",
     "output_type": "stream",
     "text": [
      "good_quality_error: 0.62 %\n",
      "bad_quality_error : 19.15 %\n"
     ]
    }
   ],
   "source": [
    "print(f'good_quality_error: {round(wrong_good_quality/good_quality*100,2)} %' )\n",
    "print(f'bad_quality_error : {round( wrong_bad_quality/ bad_quality*100,2)} %' )"
   ]
  },
  {
   "cell_type": "markdown",
   "id": "cd58f63a-4eac-44be-9907-1b6f0509a0bc",
   "metadata": {},
   "source": [
    "with `precision = 0.95`:\n",
    "\n",
    "good_quality_error: 0.57 %\n",
    "\n",
    "bad_quality_error : 11.22 %"
   ]
  },
  {
   "cell_type": "markdown",
   "id": "3e693e72-cf79-45fc-b684-b7d52a427672",
   "metadata": {},
   "source": [
    "Conclusion: Is important to guarantee good quality"
   ]
  },
  {
   "cell_type": "code",
   "execution_count": 229,
   "id": "bb570965-8a0e-49cb-9e28-ec2f7fccdf8a",
   "metadata": {},
   "outputs": [
    {
     "name": "stdout",
     "output_type": "stream",
     "text": [
      "female ratio: 47.0 %\n"
     ]
    }
   ],
   "source": [
    "print(f'female ratio: {round(CO[CO['Gender']=='female'].shape[0]/(CO[CO['Gender']=='female'].shape[0] + CO[CO['Gender']=='male'].shape[0]),2)*100} %')"
   ]
  },
  {
   "cell_type": "code",
   "execution_count": 231,
   "id": "da21388c-45b5-49b2-bfd8-213a0272939f",
   "metadata": {},
   "outputs": [
    {
     "name": "stdout",
     "output_type": "stream",
     "text": [
      "unknowns: 27\n",
      "unknown: 0.68 %\n"
     ]
    }
   ],
   "source": [
    "print(f'unknowns: {CO[ CO['Gender'] == 'unknown'].shape[0]}')\n",
    "print(f'unknown: {round(CO[ CO['Gender'] == 'unknown'].shape[0]/CO.shape[0]*100,2)} %')"
   ]
  },
  {
   "cell_type": "markdown",
   "id": "f09b7662-9b0f-4f66-aca2-0d8f253110f9",
   "metadata": {},
   "source": [
    "## Analysis"
   ]
  },
  {
   "cell_type": "code",
   "execution_count": 4,
   "id": "63baebb7-234b-45b7-b5d6-92a18a038504",
   "metadata": {},
   "outputs": [],
   "source": [
    "import pandas as pd\n",
    "def flatten_list(xss):\n",
    "    return [x for xs in xss for x in xs]"
   ]
  },
  {
   "cell_type": "code",
   "execution_count": 5,
   "id": "ee1d9007-7a75-4384-bb97-be9b3648463f",
   "metadata": {},
   "outputs": [],
   "source": [
    "DF = pd.read_json('data/inspire_LA.json')"
   ]
  },
  {
   "cell_type": "markdown",
   "id": "b7b8e6e9-ba41-4b2e-a6c1-48b80262e150",
   "metadata": {},
   "source": [
    "Unique authors ids"
   ]
  },
  {
   "cell_type": "code",
   "execution_count": 6,
   "id": "3e3383c9-8bd1-4178-a5d6-87bb5d323566",
   "metadata": {},
   "outputs": [
    {
     "data": {
      "text/plain": [
       "57588"
      ]
     },
     "execution_count": 6,
     "metadata": {},
     "output_type": "execute_result"
    }
   ],
   "source": [
    "DF.shape[0]"
   ]
  },
  {
   "cell_type": "code",
   "execution_count": 9,
   "id": "32177644-dd0b-4113-950e-1d3c1b9fa465",
   "metadata": {},
   "outputs": [],
   "source": [
    "#DF[DF['gender'].apply(lambda g: g in ['male','female'])]"
   ]
  },
  {
   "cell_type": "markdown",
   "id": "b7034324-0cdd-4528-a0fd-9f022f7bd3a7",
   "metadata": {},
   "source": [
    "### General counts"
   ]
  },
  {
   "cell_type": "code",
   "execution_count": 11,
   "id": "e92dfd41-6fdc-4273-aaa4-e16a48779c1f",
   "metadata": {},
   "outputs": [],
   "source": [
    "dp = pd.DataFrame(flatten_list(DF['papers'].to_list()))"
   ]
  },
  {
   "cell_type": "code",
   "execution_count": 12,
   "id": "8f1a06d9-aff5-47de-8509-dfc121a71bca",
   "metadata": {},
   "outputs": [
    {
     "data": {
      "text/plain": [
       "(29969, 13)"
      ]
     },
     "execution_count": 12,
     "metadata": {},
     "output_type": "execute_result"
    }
   ],
   "source": [
    "dp.drop_duplicates('author_id').shape"
   ]
  },
  {
   "cell_type": "code",
   "execution_count": 13,
   "id": "6d2ac13a-2638-47cd-a045-0fcd34b0c8af",
   "metadata": {},
   "outputs": [
    {
     "data": {
      "text/plain": [
       "Index(['recid', 'year', 'citation_count', 'primary_arxiv_category',\n",
       "       'journal_id', 'author_id', 'institution_id', 'rank', 'start_date',\n",
       "       'end_date', 'institution', 'country', 'current'],\n",
       "      dtype='object')"
      ]
     },
     "execution_count": 13,
     "metadata": {},
     "output_type": "execute_result"
    }
   ],
   "source": [
    "dp.columns"
   ]
  },
  {
   "cell_type": "code",
   "execution_count": 14,
   "id": "cdbcc775-c358-4ad8-b953-cd24d49dbe0e",
   "metadata": {},
   "outputs": [
    {
     "data": {
      "text/plain": [
       "(886011, 13)"
      ]
     },
     "execution_count": 14,
     "metadata": {},
     "output_type": "execute_result"
    }
   ],
   "source": [
    "dp.shape"
   ]
  },
  {
   "cell_type": "code",
   "execution_count": 15,
   "id": "91bad6e0-db5d-4f8b-884a-1c39d23a437e",
   "metadata": {},
   "outputs": [
    {
     "data": {
      "text/plain": [
       "(49181, 13)"
      ]
     },
     "execution_count": 15,
     "metadata": {},
     "output_type": "execute_result"
    }
   ],
   "source": [
    "dp.drop_duplicates('recid').shape"
   ]
  },
  {
   "cell_type": "code",
   "execution_count": 17,
   "id": "d72bac76-3e87-46b5-9b5a-21709fdd6250",
   "metadata": {},
   "outputs": [],
   "source": [
    "dp['authors_id'] = dp['recid'].apply(lambda r: dp[dp['recid'] == r].author_id.to_list()) #dp[dp['recid'] == 2023395].author_id.to_list()"
   ]
  },
  {
   "cell_type": "code",
   "execution_count": 140,
   "id": "d335b2db-ae60-4aaf-9d5c-4a4d80b43ad9",
   "metadata": {},
   "outputs": [
    {
     "data": {
      "text/plain": [
       "Index(['author_id', 'country', 'email_addresses', 'full_name', 'ids',\n",
       "       'institution', 'institution_id', 'name', 'papers', 'positions',\n",
       "       'profile_id', 'advisors', 'gender', 'first_names',\n",
       "       'gender_probability'],\n",
       "      dtype='object')"
      ]
     },
     "execution_count": 140,
     "metadata": {},
     "output_type": "execute_result"
    }
   ],
   "source": [
    "DF.columns"
   ]
  },
  {
   "cell_type": "code",
   "execution_count": 142,
   "id": "53b42370-c21a-4b58-ab6d-b82e3a1860c0",
   "metadata": {},
   "outputs": [
    {
     "data": {
      "text/plain": [
       "0             H.Albrecht.1\n",
       "1                D.M.B.R.1\n",
       "               ...        \n",
       "57586    L.C.Albuquerque.1\n",
       "57587        P.P.Queiroz.2\n",
       "Name: author_id, Length: 57588, dtype: object"
      ]
     },
     "execution_count": 142,
     "metadata": {},
     "output_type": "execute_result"
    }
   ],
   "source": [
    "DF['author_id']"
   ]
  },
  {
   "cell_type": "code",
   "execution_count": 145,
   "id": "16fb8c0a-697d-4ef3-9593-996c1175648d",
   "metadata": {},
   "outputs": [
    {
     "data": {
      "text/plain": [
       "('unknown', np.float64(0.0))"
      ]
     },
     "execution_count": 145,
     "metadata": {},
     "output_type": "execute_result"
    }
   ],
   "source": [
    "a = 'H.Albrecht.1'\n",
    "AP = DF[DF['author_id'] == a]\n",
    "AP['gender'].iloc[0], AP['gender_probability'].iloc[0]"
   ]
  },
  {
   "cell_type": "code",
   "execution_count": 147,
   "id": "599d8a28-7033-4640-8965-0d56cf835960",
   "metadata": {},
   "outputs": [],
   "source": [
    "def get_gender_from_aurhor_id(a,probability = 0.9):\n",
    "    try:\n",
    "        AP = DF[DF['author_id'] == a]\n",
    "        if AP['gender_probability'].iloc[0] >= probability:\n",
    "            return AP['gender'].iloc[0]\n",
    "        else:\n",
    "            return 'unknown'\n",
    "    except:\n",
    "        return 'unknown'"
   ]
  },
  {
   "cell_type": "code",
   "execution_count": null,
   "id": "46668f29-810e-4f4a-a327-2e5863e7c8ed",
   "metadata": {},
   "outputs": [],
   "source": [
    "UPDATE_genders = True\n",
    "if UPDATE_genders:\n",
    "    dpu = dp.drop_duplicates('recid').reset_index(drop = True)\n",
    "    dpu['genders'] = dpu['authors_id'].apply(lambda L: [get_gender_from_aurhor_id(a) for a in L])\n",
    "    dpu.to_json('papers.json',orient = 'records')"
   ]
  },
  {
   "cell_type": "code",
   "execution_count": 26,
   "id": "2835c470-0440-4600-be89-a58987df2c54",
   "metadata": {},
   "outputs": [],
   "source": [
    "dpu = pd.read_json('papers.json')"
   ]
  },
  {
   "cell_type": "code",
   "execution_count": 40,
   "id": "7655ad7c-363e-445f-94dd-e8d730bccd19",
   "metadata": {},
   "outputs": [],
   "source": [
    "dpu = dpu[dpu['year']!='None'].reset_index(drop=True)"
   ]
  },
  {
   "cell_type": "code",
   "execution_count": 41,
   "id": "f17275c0-ac87-4bc5-b708-64cb1e902a11",
   "metadata": {},
   "outputs": [
    {
     "data": {
      "text/plain": [
       "(45918, 15)"
      ]
     },
     "execution_count": 41,
     "metadata": {},
     "output_type": "execute_result"
    }
   ],
   "source": [
    "dpu.shape"
   ]
  },
  {
   "cell_type": "code",
   "execution_count": 58,
   "id": "83d1f211-331f-4390-809f-9009d59a31d7",
   "metadata": {},
   "outputs": [],
   "source": [
    "pd.set_option('display.max_rows', 5)"
   ]
  },
  {
   "cell_type": "code",
   "execution_count": 114,
   "id": "07ad63db-7ff1-4dd2-afc2-7b128bc9a0c7",
   "metadata": {},
   "outputs": [],
   "source": [
    "dpug = dpu[~((dpu['genders'].apply(len) == 1) & (dpu['genders'].str[0] == 'unknown')) ].reset_index(drop=True)"
   ]
  },
  {
   "cell_type": "code",
   "execution_count": 115,
   "id": "600190ba-bc2d-43bc-a46e-35b172d34607",
   "metadata": {},
   "outputs": [
    {
     "data": {
      "text/plain": [
       "<Axes: xlabel='year'>"
      ]
     },
     "execution_count": 115,
     "metadata": {},
     "output_type": "execute_result"
    },
    {
     "data": {
      "image/png": "[encoded data removed]",
      "text/plain": [
       "<Figure size 640x480 with 1 Axes>"
      ]
     },
     "metadata": {},
     "output_type": "display_data"
    }
   ],
   "source": [
    "dpu[dpu['year'].astype(int)>1970]['year'].value_counts().sort_index().plot(kind='bar')"
   ]
  },
  {
   "cell_type": "code",
   "execution_count": 116,
   "id": "40b9c767-07b1-404b-a366-670e6ce82cd1",
   "metadata": {},
   "outputs": [
    {
     "data": {
      "text/plain": [
       "0.28811256122073436"
      ]
     },
     "execution_count": 116,
     "metadata": {},
     "output_type": "execute_result"
    }
   ],
   "source": [
    "dpug[dpug['genders'].apply(lambda L: 'female' in L)].shape[0] / dpug[dpug['genders'].apply(lambda L: 'female' not in L)].shape[0]"
   ]
  },
  {
   "cell_type": "code",
   "execution_count": 117,
   "id": "0d8aa8c4-b000-4a16-b9d0-22326b950fae",
   "metadata": {},
   "outputs": [],
   "source": [
    "ff = dpug[(dpug['year'].astype(int)>1970) & (dpug['genders'].apply(lambda L: 'female' in L)) ]['year'\n",
    "          ].value_counts().sort_index().to_dict()#.plot(kind='bar')"
   ]
  },
  {
   "cell_type": "code",
   "execution_count": 118,
   "id": "d0b78cb6-5062-41b4-9099-76d553f7f669",
   "metadata": {},
   "outputs": [],
   "source": [
    "%matplotlib inline"
   ]
  },
  {
   "cell_type": "code",
   "execution_count": 119,
   "id": "c9aaf445-0e0f-4a26-8568-b6bb41045484",
   "metadata": {},
   "outputs": [],
   "source": [
    "#  dpug[dpug.year.astype(int) == y].shape"
   ]
  },
  {
   "cell_type": "code",
   "execution_count": 127,
   "id": "8ed318a0-fc49-424c-b5eb-fc657c0b5baa",
   "metadata": {},
   "outputs": [
    {
     "data": {
      "text/plain": [
       "np.int64(2021)"
      ]
     },
     "execution_count": 127,
     "metadata": {},
     "output_type": "execute_result"
    }
   ],
   "source": [
    "dpug['year'].apply(int).iloc[0]"
   ]
  },
  {
   "cell_type": "code",
   "execution_count": 120,
   "id": "622cabe2-6c08-46ef-9e0a-e03e8cbbad4a",
   "metadata": {},
   "outputs": [],
   "source": [
    "dpug['year'] = dpug['year'].apply(int)"
   ]
  },
  {
   "cell_type": "code",
   "execution_count": 136,
   "id": "c841a3af-ef81-4dbf-8f5a-bae27b781c9c",
   "metadata": {},
   "outputs": [],
   "source": [
    "FF = {}\n",
    "for y in sorted(dpug['year'].unique()): \n",
    "    Y = dpug[dpug['year'] == y] \n",
    "    FF[y] = Y[Y['genders'].apply(lambda L: 'female' in L)].shape[0] / dpug[dpug['year'] == y].shape[0]"
   ]
  },
  {
   "cell_type": "code",
   "execution_count": 137,
   "id": "41bc7cd2-5193-4713-8a92-dcbc869104f8",
   "metadata": {},
   "outputs": [
    {
     "data": {
      "image/png": "[encoded data removed]",
      "text/plain": [
       "<Figure size 640x480 with 1 Axes>"
      ]
     },
     "metadata": {},
     "output_type": "display_data"
    }
   ],
   "source": [
    "plt.plot(FF.keys(),FF.values(),'ro')\n",
    "plt.plot(FF.keys(),FF.values())\n",
    "plt.xlim(1970, 2023)\n",
    "plt.grid()"
   ]
  },
  {
   "cell_type": "code",
   "execution_count": 89,
   "id": "60fa5313-72a2-4d17-b8c2-e36a067fe3c6",
   "metadata": {},
   "outputs": [
    {
     "data": {
      "text/plain": [
       "[<matplotlib.lines.Line2D at 0x7212feccc830>]"
      ]
     },
     "execution_count": 89,
     "metadata": {},
     "output_type": "execute_result"
    },
    {
     "data": {
      "image/png": "[encoded data removed]",
      "text/plain": [
       "<Figure size 640x480 with 1 Axes>"
      ]
     },
     "metadata": {},
     "output_type": "display_data"
    }
   ],
   "source": [
    "plt.plot([ int(y) for y in ff.keys()], ff.values())"
   ]
  },
  {
   "cell_type": "code",
   "execution_count": null,
   "id": "bbaebdaf-f9cd-4e29-b00d-a6c323de804f",
   "metadata": {},
   "outputs": [],
   "source": [
    "DF['first_names'] = DF.apply(lambda row: str(row['full_name']).split(', ')[-1]  \n",
    "                             if row['first_names']=='None' \n",
    "                             else row['first_names'] ,axis = 'columns')"
   ]
  },
  {
   "cell_type": "code",
   "execution_count": null,
   "id": "f9c6a38e-e868-42be-9c90-febe8e827531",
   "metadata": {},
   "outputs": [],
   "source": [
    "DF['gender'].unique()"
   ]
  },
  {
   "cell_type": "code",
   "execution_count": null,
   "id": "b12ae0c7-4fbb-4163-85c8-69644f5ddd5e",
   "metadata": {},
   "outputs": [],
   "source": [
    "print(DF['gender'].shape[0])\n",
    "total = DF['gender'].dropna().shape[0]\n",
    "total"
   ]
  },
  {
   "cell_type": "code",
   "execution_count": null,
   "id": "02326a4a-0b90-4f51-bb4b-04b0582e7955",
   "metadata": {},
   "outputs": [],
   "source": [
    "male = DF[DF['gender'] == 'male'].shape[0]\n",
    "female = DF[DF['gender'] == 'female'].shape[0]\n",
    "unknown = DF[DF['gender'] == 'unknown'].shape[0]\n",
    "unknown = unknown + DF[DF['gender'] == 'andy'].shape[0]"
   ]
  },
  {
   "cell_type": "code",
   "execution_count": null,
   "id": "deaf10ed-0ecc-401a-baab-b120fa2b16ca",
   "metadata": {},
   "outputs": [],
   "source": [
    "assert male + female + unknown == total"
   ]
  },
  {
   "cell_type": "code",
   "execution_count": null,
   "id": "372ab852-ec5d-4213-9eab-59f9decf5b53",
   "metadata": {},
   "outputs": [],
   "source": [
    "male+female"
   ]
  },
  {
   "cell_type": "code",
   "execution_count": null,
   "id": "5e185cbb-060c-4282-9b45-cc250271a51f",
   "metadata": {},
   "outputs": [],
   "source": [
    "male"
   ]
  },
  {
   "cell_type": "code",
   "execution_count": null,
   "id": "85fa9f5b-85dc-4a71-8c50-91db22fda139",
   "metadata": {},
   "outputs": [],
   "source": [
    "female"
   ]
  },
  {
   "cell_type": "code",
   "execution_count": null,
   "id": "19eb39f3-163c-4fa4-896b-a95226b27c0e",
   "metadata": {},
   "outputs": [],
   "source": [
    "round(female/male,2)"
   ]
  },
  {
   "cell_type": "code",
   "execution_count": null,
   "id": "ec47d3e2-2e50-445d-b1b4-303cea966311",
   "metadata": {},
   "outputs": [],
   "source": [
    "unknown"
   ]
  },
  {
   "cell_type": "code",
   "execution_count": null,
   "id": "b132d164-3484-4213-9121-b19f7bd6d6e4",
   "metadata": {},
   "outputs": [],
   "source": [
    "DFFM = DF[ (( DF['gender'] == 'female') | ( DF['gender'] == 'male')) ]\n",
    "DFFM.shape"
   ]
  },
  {
   "cell_type": "code",
   "execution_count": null,
   "id": "04624db7-e0cb-47b0-bbe2-1cdb62244939",
   "metadata": {},
   "outputs": [],
   "source": [
    "DFU = DF[ ~(( DF['gender'] == 'female') | ( DF['gender'] == 'male')) ]\n",
    "DFU.shape"
   ]
  },
  {
   "cell_type": "code",
   "execution_count": null,
   "id": "bff53f45-632f-4d41-b2e9-e26d1c24740a",
   "metadata": {},
   "outputs": [],
   "source": [
    "DFFM[['author_id','first_names','country','gender']].sample(50)"
   ]
  },
  {
   "cell_type": "code",
   "execution_count": null,
   "id": "40caa1c4-5e7c-4b87-a1c8-aac53588df37",
   "metadata": {},
   "outputs": [],
   "source": [
    "#[['first_names','country','gender']]\n",
    "DFU.sample(50)[['author_id','full_name','name','country','gender']]"
   ]
  },
  {
   "cell_type": "markdown",
   "id": "f6987eed-023e-4cf5-b7eb-0075259ab853",
   "metadata": {},
   "source": [
    "check specific entries"
   ]
  },
  {
   "cell_type": "code",
   "execution_count": null,
   "id": "74ef8f43-72ec-4e15-8b79-6e0591ecc360",
   "metadata": {},
   "outputs": [],
   "source": [
    "JSON([d for d in df if d.get('author_id')=='F.Fontanot.3'][0])"
   ]
  },
  {
   "cell_type": "code",
   "execution_count": null,
   "id": "fb361aa0-f13c-40c0-a05e-ff1fc9743680",
   "metadata": {},
   "outputs": [],
   "source": [
    "import requests\n",
    "au = requests.get('https://inspirehep.net/api/authors?sort=bestmatch&size=250&page=1')\n",
    "if au.status_code == 200:\n",
    "    au = au.json()"
   ]
  },
  {
   "cell_type": "code",
   "execution_count": null,
   "id": "c90c78f9-3ba4-4e54-b353-e900510c8d00",
   "metadata": {},
   "outputs": [],
   "source": [
    "len(au['hits']['hits'])"
   ]
  },
  {
   "cell_type": "code",
   "execution_count": null,
   "id": "9e4e0529-e3d9-4ac2-8992-6fd992e8d74f",
   "metadata": {},
   "outputs": [],
   "source": [
    "au['links']['next']"
   ]
  },
  {
   "cell_type": "code",
   "execution_count": null,
   "id": "79d61e74-8a77-420d-9932-ff6a1f5c8cca",
   "metadata": {},
   "outputs": [],
   "source": [
    "# https://github.com/inspirehep/rest-api-doc/issues/20#issuecomment-997932079\n",
    "url='https://inspirehep.net/api/authors?sort=bestmatch&size=250&page=1&q=control_number:[1+TO+2852058]'\n",
    "au = requests.get(url)\n",
    "if au.status_code == 200:\n",
    "    au = au.json()"
   ]
  },
  {
   "cell_type": "code",
   "execution_count": null,
   "id": "0d2181d8-3668-4ee5-be14-9bb28c6f8481",
   "metadata": {},
   "outputs": [],
   "source": [
    "len(au['hits']['hits'])"
   ]
  },
  {
   "cell_type": "code",
   "execution_count": null,
   "id": "c422bc81-6ce8-4824-a601-587e358d845c",
   "metadata": {},
   "outputs": [],
   "source": [
    "au.status_code"
   ]
  },
  {
   "cell_type": "code",
   "execution_count": null,
   "id": "d9f93691-bc2a-4bf7-8981-85660f11940e",
   "metadata": {},
   "outputs": [],
   "source": [
    "au = requests.get(url)"
   ]
  },
  {
   "cell_type": "code",
   "execution_count": null,
   "id": "9e1042fd-2832-40ae-89c7-6be080a2fb5d",
   "metadata": {},
   "outputs": [],
   "source": [
    "step = 10000\n",
    "ini = 981872\n",
    "end = ini + step\n",
    "for i in range(187):\n",
    "    print(f'control_number:[{ini} TO {end}]')\n",
    "    ini = end + 1\n",
    "    end = ini + step"
   ]
  },
  {
   "cell_type": "code",
   "execution_count": null,
   "id": "1f4c16b0-0c0a-46da-9422-c3c865c45cd8",
   "metadata": {},
   "outputs": [],
   "source": []
  },
  {
   "cell_type": "code",
   "execution_count": null,
   "id": "01d13bed-874a-4e21-98fc-41c8314fce1e",
   "metadata": {},
   "outputs": [],
   "source": [
    "au.status_code"
   ]
  },
  {
   "cell_type": "code",
   "execution_count": null,
   "id": "bd87849b-d1b4-4e4d-88e7-c8a4f2088445",
   "metadata": {},
   "outputs": [],
   "source": [
    "len(au.json()['hits']['hits'])"
   ]
  },
  {
   "cell_type": "code",
   "execution_count": null,
   "id": "5f0aa2ce-7600-49d2-bfd5-4d1c83a9852e",
   "metadata": {},
   "outputs": [],
   "source": []
  }
 ],
 "metadata": {
  "kernelspec": {
   "display_name": "Python 3 (ipykernel)",
   "language": "python",
   "name": "python3"
  },
  "language_info": {
   "codemirror_mode": {
    "name": "ipython",
    "version": 3
   },
   "file_extension": ".py",
   "mimetype": "text/x-python",
   "name": "python",
   "nbconvert_exporter": "python",
   "pygments_lexer": "ipython3",
   "version": "3.12.3"
  }
 },
 "nbformat": 4,
 "nbformat_minor": 5
}
