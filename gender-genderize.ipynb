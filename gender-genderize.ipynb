{
 "cells": [
  {
   "cell_type": "markdown",
   "id": "9a5da8af-cf9f-47bf-ac1b-f2476cf8a59a",
   "metadata": {},
   "source": [
    "# Get gender"
   ]
  },
  {
   "cell_type": "markdown",
   "id": "24d09b56-2069-4d59-a1a7-58062055b5f5",
   "metadata": {},
   "source": [
    "## Add `'gender'` key to database"
   ]
  },
  {
   "cell_type": "code",
   "execution_count": 233,
   "id": "3e8d053a-784f-4c06-a11a-932afaa14056",
   "metadata": {},
   "outputs": [],
   "source": [
    "import requests\n",
    "from IPython.display import JSON\n",
    "from gender_guesser_first_names import gender\n",
    "from re import sub\n",
    "from re import search\n",
    "from re import UNICODE\n",
    "import json\n",
    "import country_converter as coco"
   ]
  },
  {
   "cell_type": "code",
   "execution_count": 267,
   "id": "54ab8b1e-7ae1-49ea-b8f1-ab8dfaa6e627",
   "metadata": {},
   "outputs": [],
   "source": [
    "LOCAL=False\n",
    "if LOCAL:\n",
    "    f=open('data/inspire_LA.json','r')\n",
    "    df=json.load(f)\n",
    "    f.close()\n",
    "else:\n",
    "    r=requests.get('https://github.com/restrepo/inspireauth/raw/main/data/inspire_LA.json')\n",
    "    df=r.json()"
   ]
  },
  {
   "cell_type": "code",
   "execution_count": 235,
   "id": "8b485b40-c4fe-4c5c-9586-290ee1faae8d",
   "metadata": {},
   "outputs": [],
   "source": [
    "import pandas as pd"
   ]
  },
  {
   "cell_type": "code",
   "execution_count": 6,
   "id": "b55f03fc-c510-4cd6-9a4c-17a3ad0747da",
   "metadata": {},
   "outputs": [
    {
     "data": {
      "text/plain": [
       "((57588, 13), (57576, 13))"
      ]
     },
     "execution_count": 6,
     "metadata": {},
     "output_type": "execute_result"
    }
   ],
   "source": [
    "DF = pd.DataFrame(df)\n",
    "DFA = DF[~DF['author_id'].isna()]\n",
    "DF.shape,DFA.shape"
   ]
  },
  {
   "cell_type": "code",
   "execution_count": 7,
   "id": "f8874f1a-327f-4b7d-a615-310ed02904c4",
   "metadata": {},
   "outputs": [],
   "source": [
    "DFB = DF[DF['author_id'].isna()].reset_index(drop=True)\n",
    "DFB['author_id']=[f'unknown{str(x).zfill(2)}' for x in range(DFB.shape[0])]\n",
    "DFB['author_id'] = DFB['author_id'].replace('unknown05','unknown04')"
   ]
  },
  {
   "cell_type": "code",
   "execution_count": 8,
   "id": "281a8b7a-b43b-4c5c-915c-cca8b3d9d077",
   "metadata": {},
   "outputs": [
    {
     "data": {
      "text/plain": [
       "(57588, 13)"
      ]
     },
     "execution_count": 8,
     "metadata": {},
     "output_type": "execute_result"
    }
   ],
   "source": [
    "DF = pd.concat((DFA,DFB)).reset_index(drop=True)\n",
    "del DFA\n",
    "del DFB\n",
    "DF.shape"
   ]
  },
  {
   "cell_type": "code",
   "execution_count": 9,
   "id": "be88c0d0-239a-4ee1-9f53-e8d75c5269b5",
   "metadata": {},
   "outputs": [],
   "source": [
    "def remove_initials(d):\n",
    "    '''\n",
    "     Get names from `name.value` and if empty get it from `full_name`\n",
    "     and using `country` information if avalaible\n",
    "    '''\n",
    "    if (d.get('name') and d.get('name').get('value') ):\n",
    "        first_names = d.get('name').get('value').split(', ')[-1].replace('-',' ').strip()\n",
    "    elif d.get('full_name'):\n",
    "        first_names = d.get('full_name').split(', ')[-1].replace('-',' ').strip()\n",
    "    else:\n",
    "        first_names = ''\n",
    "    x = first_names\n",
    "    x = sub(r'[\\|†•]','',x).strip()\n",
    "    x = sub(r'\\.',' ',   x, UNICODE).strip()\n",
    "    x = sub(r'\\s\\w\\s','',x, UNICODE).strip()\n",
    "    x = sub(r'^\\w\\s','',x, UNICODE).strip()\n",
    "    x = sub(r'\\s\\w$','',x, UNICODE).strip()\n",
    "    x = sub(r'^\\w$','',x, UNICODE).strip()\n",
    "    x = sub(r'^[A-Z]{2}$','',x, UNICODE)\n",
    "    \n",
    "    return x"
   ]
  },
  {
   "cell_type": "code",
   "execution_count": 10,
   "id": "7c155226-5bf8-4766-9a0c-cbd377627b3b",
   "metadata": {},
   "outputs": [],
   "source": [
    "DF['names'] = DF.apply(lambda d: remove_initials(d), axis='columns')"
   ]
  },
  {
   "cell_type": "code",
   "execution_count": 11,
   "id": "192dfa50-a675-4c72-90e8-5e37384ff9eb",
   "metadata": {},
   "outputs": [
    {
     "data": {
      "text/plain": [
       "(57588, 14)"
      ]
     },
     "execution_count": 11,
     "metadata": {},
     "output_type": "execute_result"
    }
   ],
   "source": [
    "#DF = DF[DF['names'].apply(len)>0]\n",
    "DF.shape"
   ]
  },
  {
   "cell_type": "code",
   "execution_count": 12,
   "id": "a364a792-0738-4229-9dab-9af90765098d",
   "metadata": {},
   "outputs": [
    {
     "data": {
      "text/html": [
       "<div>\n",
       "<style scoped>\n",
       "    .dataframe tbody tr th:only-of-type {\n",
       "        vertical-align: middle;\n",
       "    }\n",
       "\n",
       "    .dataframe tbody tr th {\n",
       "        vertical-align: top;\n",
       "    }\n",
       "\n",
       "    .dataframe thead th {\n",
       "        text-align: right;\n",
       "    }\n",
       "</style>\n",
       "<table border=\"1\" class=\"dataframe\">\n",
       "  <thead>\n",
       "    <tr style=\"text-align: right;\">\n",
       "      <th></th>\n",
       "      <th>author_id</th>\n",
       "      <th>country</th>\n",
       "      <th>email_addresses</th>\n",
       "      <th>full_name</th>\n",
       "      <th>ids</th>\n",
       "      <th>institution</th>\n",
       "      <th>institution_id</th>\n",
       "      <th>name</th>\n",
       "      <th>papers</th>\n",
       "      <th>positions</th>\n",
       "      <th>profile_id</th>\n",
       "      <th>advisors</th>\n",
       "      <th>gender</th>\n",
       "      <th>names</th>\n",
       "    </tr>\n",
       "  </thead>\n",
       "  <tbody>\n",
       "    <tr>\n",
       "      <th>12</th>\n",
       "      <td>J.Ospino.1</td>\n",
       "      <td>Spain</td>\n",
       "      <td>None</td>\n",
       "      <td>Ospino, J.</td>\n",
       "      <td>[{'value': 'J.Ospino.1', 'schema': 'INSPIRE BA...</td>\n",
       "      <td>Salamanca U., IUFFyM</td>\n",
       "      <td>910114</td>\n",
       "      <td>{'value': 'Ospino, J.', 'preferred_name': 'J. ...</td>\n",
       "      <td>[{'recid': 1781327, 'year': '2020', 'citation_...</td>\n",
       "      <td>[{'record': {'$ref': 'https://inspirehep.net/a...</td>\n",
       "      <td>1041300</td>\n",
       "      <td>[]</td>\n",
       "      <td>unknown</td>\n",
       "      <td></td>\n",
       "    </tr>\n",
       "    <tr>\n",
       "      <th>24</th>\n",
       "      <td>J.H.Pena.1</td>\n",
       "      <td>Venezuela</td>\n",
       "      <td>None</td>\n",
       "      <td>Pena, J.M.</td>\n",
       "      <td>[{'value': 'J.H.Pena.1', 'schema': 'INSPIRE BA...</td>\n",
       "      <td>Caracas, U. Central</td>\n",
       "      <td>902716</td>\n",
       "      <td>{'value': 'Pena, J.M.', 'preferred_name': 'J.M...</td>\n",
       "      <td>[{'recid': 781916, 'year': '2008', 'citation_c...</td>\n",
       "      <td>[{'record': {'$ref': 'https://inspirehep.net/a...</td>\n",
       "      <td>1052800</td>\n",
       "      <td>[]</td>\n",
       "      <td>unknown</td>\n",
       "      <td></td>\n",
       "    </tr>\n",
       "    <tr>\n",
       "      <th>29</th>\n",
       "      <td>A.J.Kalnay.1</td>\n",
       "      <td>Venezuela</td>\n",
       "      <td>None</td>\n",
       "      <td>Kalnay, A.J.</td>\n",
       "      <td>None</td>\n",
       "      <td>Simon Bolivar U.</td>\n",
       "      <td>903205</td>\n",
       "      <td>None</td>\n",
       "      <td>[{'recid': 93012, 'year': '1974', 'citation_co...</td>\n",
       "      <td>None</td>\n",
       "      <td>2204420</td>\n",
       "      <td>[]</td>\n",
       "      <td>unknown</td>\n",
       "      <td></td>\n",
       "    </tr>\n",
       "  </tbody>\n",
       "</table>\n",
       "</div>"
      ],
      "text/plain": [
       "       author_id    country email_addresses     full_name  \\\n",
       "12    J.Ospino.1      Spain            None    Ospino, J.   \n",
       "24    J.H.Pena.1  Venezuela            None    Pena, J.M.   \n",
       "29  A.J.Kalnay.1  Venezuela            None  Kalnay, A.J.   \n",
       "\n",
       "                                                  ids           institution  \\\n",
       "12  [{'value': 'J.Ospino.1', 'schema': 'INSPIRE BA...  Salamanca U., IUFFyM   \n",
       "24  [{'value': 'J.H.Pena.1', 'schema': 'INSPIRE BA...   Caracas, U. Central   \n",
       "29                                               None      Simon Bolivar U.   \n",
       "\n",
       "   institution_id                                               name  \\\n",
       "12         910114  {'value': 'Ospino, J.', 'preferred_name': 'J. ...   \n",
       "24         902716  {'value': 'Pena, J.M.', 'preferred_name': 'J.M...   \n",
       "29         903205                                               None   \n",
       "\n",
       "                                               papers  \\\n",
       "12  [{'recid': 1781327, 'year': '2020', 'citation_...   \n",
       "24  [{'recid': 781916, 'year': '2008', 'citation_c...   \n",
       "29  [{'recid': 93012, 'year': '1974', 'citation_co...   \n",
       "\n",
       "                                            positions profile_id advisors  \\\n",
       "12  [{'record': {'$ref': 'https://inspirehep.net/a...    1041300       []   \n",
       "24  [{'record': {'$ref': 'https://inspirehep.net/a...    1052800       []   \n",
       "29                                               None    2204420       []   \n",
       "\n",
       "     gender names  \n",
       "12  unknown        \n",
       "24  unknown        \n",
       "29  unknown        "
      ]
     },
     "execution_count": 12,
     "metadata": {},
     "output_type": "execute_result"
    }
   ],
   "source": [
    "DF[DF['names'].apply(len)==0][:3]"
   ]
  },
  {
   "cell_type": "code",
   "execution_count": 13,
   "id": "bfe39a34-2f0c-48ad-9e96-6f50356bbbf5",
   "metadata": {},
   "outputs": [
    {
     "data": {
      "text/plain": [
       "Series([], Name: names, dtype: object)"
      ]
     },
     "execution_count": 13,
     "metadata": {},
     "output_type": "execute_result"
    }
   ],
   "source": [
    "DF[DF['names'].str.split().apply(lambda L: 1 in [len(x) for x in L])].names"
   ]
  },
  {
   "cell_type": "code",
   "execution_count": 14,
   "id": "f01c4010-dba4-4d86-b986-4c1693a76322",
   "metadata": {},
   "outputs": [
    {
     "data": {
      "text/plain": [
       "array(['Le', 'Luis Ye', 'Kee Su'], dtype=object)"
      ]
     },
     "execution_count": 14,
     "metadata": {},
     "output_type": "execute_result"
    }
   ],
   "source": [
    "DF[DF['names'].str.split().apply(lambda L: 2 in [len(x) for x in L])].names.unique()[:3]"
   ]
  },
  {
   "cell_type": "code",
   "execution_count": 15,
   "id": "1ba00a5d-fa64-4422-afbc-1b14adf410ca",
   "metadata": {},
   "outputs": [],
   "source": [
    "DFU = DF[['country']].drop_duplicates()"
   ]
  },
  {
   "cell_type": "code",
   "execution_count": 16,
   "id": "505890f4-7a65-40a4-a77f-57ce17774197",
   "metadata": {},
   "outputs": [
    {
     "name": "stderr",
     "output_type": "stream",
     "text": [
      "None not found in regex\n"
     ]
    }
   ],
   "source": [
    "DFU['country_id'] = DFU['country'].astype(str).replace('Serbia and Montenegro','Serbia').apply(lambda c: coco.convert(names=c, to='ISO2')).replace('not found','')"
   ]
  },
  {
   "cell_type": "code",
   "execution_count": 17,
   "id": "a4487d51-d3cf-4529-b7b6-f4e18c3bf2f1",
   "metadata": {},
   "outputs": [],
   "source": [
    "DF = DF.merge(DFU,on='country',how='left')"
   ]
  },
  {
   "cell_type": "code",
   "execution_count": 18,
   "id": "e65a3deb-83da-45c9-b97c-148669ddb726",
   "metadata": {},
   "outputs": [],
   "source": [
    "del DFU"
   ]
  },
  {
   "cell_type": "code",
   "execution_count": 19,
   "id": "a9098d6e-0b66-441e-b26d-a6586e032c59",
   "metadata": {},
   "outputs": [
    {
     "data": {
      "text/plain": [
       "array(['VE', 'CL', 'RW', 'ZA', 'US', 'ES', 'FR', 'CH', 'IT', 'DE', 'PE',\n",
       "       'AR', 'UY', 'BR', 'EC', 'GB', 'CO', 'IL', 'BG', 'MX', 'NL', 'JP',\n",
       "       'CA', 'SE', 'IR', 'IN', 'SI', 'BY', 'AU', 'RU', 'BE', 'HU', 'DK',\n",
       "       '', 'SK', 'TH', 'CZ', 'JO', 'GR', 'CU', 'KW', 'FI', 'UA', 'AT',\n",
       "       'TR', 'RS', 'PT', 'AM', 'KR', 'CN', 'MT', 'PL', 'EE', 'RO', 'HR',\n",
       "       'DO', 'GT', 'IS', 'PY', 'PA', 'HN', 'PH', 'SV', 'PK', 'OM', 'CR',\n",
       "       'NZ', 'GE', 'BO', 'KZ', 'VN', 'AE', 'NO', 'EG', 'TW', 'PR', 'JM',\n",
       "       'LT', 'ID', 'LU', 'DZ', 'ET', 'SA', 'IE', 'CY', 'VA', 'MD', 'MK',\n",
       "       'LB', 'BD', 'QA', 'MA', 'SG', 'MN', 'UZ', 'BS', 'BJ', 'LK', 'IQ',\n",
       "       'AZ', 'SY', 'NG', 'PS', 'GH', 'KG', 'CG', 'ME', 'NE', 'BN', 'LV',\n",
       "       'MY', 'MG', 'BT', 'TN', 'UG', 'BA'], dtype=object)"
      ]
     },
     "execution_count": 19,
     "metadata": {},
     "output_type": "execute_result"
    }
   ],
   "source": [
    "DF['country_id'].unique()"
   ]
  },
  {
   "cell_type": "code",
   "execution_count": 64,
   "id": "6a229871-7a05-4165-a3e4-c705e68ee76b",
   "metadata": {},
   "outputs": [
    {
     "data": {
      "text/plain": [
       "(29979, 4)"
      ]
     },
     "execution_count": 64,
     "metadata": {},
     "output_type": "execute_result"
    }
   ],
   "source": [
    "DFU = DF[['author_id','names','country','country_id']].rename({'names':'name'},axis='columns').drop_duplicates('author_id').reset_index(drop=True)\n",
    "DFU.shape"
   ]
  },
  {
   "cell_type": "code",
   "execution_count": 65,
   "id": "4a764dc2-4463-46f5-84cd-646c7d245dce",
   "metadata": {},
   "outputs": [],
   "source": [
    "D=gender.Detector(case_sensitive=False)\n",
    "def force_get_gender(d,first_names='names'):\n",
    "    '''\n",
    "     Get names from `name.value` and if empty get it from `full_name`\n",
    "     and using `country` information if avalaible\n",
    "    '''\n",
    "    gender = 'unknown'\n",
    "    names = d.get(first_names)\n",
    "    if names:\n",
    "        if d.get('country'):\n",
    "            gender = D.get_gender( names, country=d.get('country').strip() )\n",
    "        else:\n",
    "            gender = D.get_gender( names )\n",
    "    return gender"
   ]
  },
  {
   "cell_type": "code",
   "execution_count": 66,
   "id": "29d11a9b-026c-431e-9805-2e329f6e78f9",
   "metadata": {},
   "outputs": [],
   "source": [
    "DFU['gender'] = DFU.apply(lambda d: force_get_gender(d,first_names='name'), axis='columns')"
   ]
  },
  {
   "cell_type": "code",
   "execution_count": 67,
   "id": "a41eaa28-44af-437e-80ee-323d498e4696",
   "metadata": {},
   "outputs": [
    {
     "data": {
      "text/plain": [
       "(29979, 5)"
      ]
     },
     "execution_count": 67,
     "metadata": {},
     "output_type": "execute_result"
    }
   ],
   "source": [
    "DFU.shape"
   ]
  },
  {
   "cell_type": "code",
   "execution_count": 68,
   "id": "530b494a-61b6-4555-aa0b-b098fb320197",
   "metadata": {},
   "outputs": [
    {
     "data": {
      "text/plain": [
       "(29979, 20125, 29979, 0.33)"
      ]
     },
     "execution_count": 68,
     "metadata": {},
     "output_type": "execute_result"
    }
   ],
   "source": [
    "DFUA = DFU[DFU['name'].apply(len)>0].reset_index(drop=True)\n",
    "DFUB = DFU[DFU['name'].apply(len)==0].reset_index(drop=True)\n",
    "DFU.shape[0], DFUA.shape[0], DFUB.shape[0] + DFUA.shape[0],round( DFUB.shape[0] / DFU.shape[0],2)"
   ]
  },
  {
   "cell_type": "code",
   "execution_count": 71,
   "id": "1a609ea5-5f74-478c-8f82-8d8bc77903bd",
   "metadata": {},
   "outputs": [
    {
     "data": {
      "text/plain": [
       "(20125, 5)"
      ]
     },
     "execution_count": 71,
     "metadata": {},
     "output_type": "execute_result"
    }
   ],
   "source": [
    "DFUA.shape"
   ]
  },
  {
   "cell_type": "code",
   "execution_count": 72,
   "id": "5a02d951-1a87-4b00-b11a-37f6cd995573",
   "metadata": {},
   "outputs": [],
   "source": [
    "DFUA.to_csv('/home/restrepo/Downloads/genderize.csv',index=False)"
   ]
  },
  {
   "cell_type": "code",
   "execution_count": 78,
   "id": "4beded56-6baf-490f-8a6d-1cbf27788b14",
   "metadata": {},
   "outputs": [],
   "source": [
    "csv = 'data/genderize.csv'\n",
    "DFUA = pd.read_csv(csv)"
   ]
  },
  {
   "cell_type": "code",
   "execution_count": 79,
   "id": "8ab7a53b-e874-4273-baec-bba0c96aea12",
   "metadata": {},
   "outputs": [],
   "source": [
    "DFU = pd.concat((DFUA,DFUB)).reset_index(drop=True)"
   ]
  },
  {
   "cell_type": "code",
   "execution_count": 85,
   "id": "a9440e33-1460-4236-b881-901c0591a15f",
   "metadata": {},
   "outputs": [
    {
     "data": {
      "text/html": [
       "<div>\n",
       "<style scoped>\n",
       "    .dataframe tbody tr th:only-of-type {\n",
       "        vertical-align: middle;\n",
       "    }\n",
       "\n",
       "    .dataframe tbody tr th {\n",
       "        vertical-align: top;\n",
       "    }\n",
       "\n",
       "    .dataframe thead th {\n",
       "        text-align: right;\n",
       "    }\n",
       "</style>\n",
       "<table border=\"1\" class=\"dataframe\">\n",
       "  <thead>\n",
       "    <tr style=\"text-align: right;\">\n",
       "      <th></th>\n",
       "      <th>author_id</th>\n",
       "      <th>name</th>\n",
       "      <th>country</th>\n",
       "      <th>country_id</th>\n",
       "      <th>gender</th>\n",
       "      <th>Gender</th>\n",
       "      <th>Gender Probability</th>\n",
       "      <th>Gender Count</th>\n",
       "    </tr>\n",
       "  </thead>\n",
       "  <tbody>\n",
       "    <tr>\n",
       "      <th>0</th>\n",
       "      <td>H.Albrecht.1</td>\n",
       "      <td>Hartwig</td>\n",
       "      <td>Venezuela</td>\n",
       "      <td>VE</td>\n",
       "      <td>male</td>\n",
       "      <td>unknown</td>\n",
       "      <td>0.0</td>\n",
       "      <td>0.0</td>\n",
       "    </tr>\n",
       "    <tr>\n",
       "      <th>1</th>\n",
       "      <td>D.M.B.R.1</td>\n",
       "      <td>David Bellorin</td>\n",
       "      <td>Venezuela</td>\n",
       "      <td>VE</td>\n",
       "      <td>male</td>\n",
       "      <td>male</td>\n",
       "      <td>1.0</td>\n",
       "      <td>7693.0</td>\n",
       "    </tr>\n",
       "    <tr>\n",
       "      <th>2</th>\n",
       "      <td>D.F.Mundarain.1</td>\n",
       "      <td>Douglas</td>\n",
       "      <td>Chile</td>\n",
       "      <td>CL</td>\n",
       "      <td>male</td>\n",
       "      <td>male</td>\n",
       "      <td>1.0</td>\n",
       "      <td>707.0</td>\n",
       "    </tr>\n",
       "    <tr>\n",
       "      <th>3</th>\n",
       "      <td>R.Gaitan.2</td>\n",
       "      <td>Rolando</td>\n",
       "      <td>Venezuela</td>\n",
       "      <td>VE</td>\n",
       "      <td>male</td>\n",
       "      <td>male</td>\n",
       "      <td>1.0</td>\n",
       "      <td>845.0</td>\n",
       "    </tr>\n",
       "    <tr>\n",
       "      <th>4</th>\n",
       "      <td>J.Ntahompagaze.1</td>\n",
       "      <td>Joseph</td>\n",
       "      <td>Rwanda</td>\n",
       "      <td>RW</td>\n",
       "      <td>male</td>\n",
       "      <td>male</td>\n",
       "      <td>1.0</td>\n",
       "      <td>627.0</td>\n",
       "    </tr>\n",
       "    <tr>\n",
       "      <th>...</th>\n",
       "      <td>...</td>\n",
       "      <td>...</td>\n",
       "      <td>...</td>\n",
       "      <td>...</td>\n",
       "      <td>...</td>\n",
       "      <td>...</td>\n",
       "      <td>...</td>\n",
       "      <td>...</td>\n",
       "    </tr>\n",
       "    <tr>\n",
       "      <th>29974</th>\n",
       "      <td>P.P.Queiroz.2</td>\n",
       "      <td></td>\n",
       "      <td>Brazil</td>\n",
       "      <td>BR</td>\n",
       "      <td>unknown</td>\n",
       "      <td>unknown</td>\n",
       "      <td>0.0</td>\n",
       "      <td>0.0</td>\n",
       "    </tr>\n",
       "    <tr>\n",
       "      <th>29975</th>\n",
       "      <td>unknown00</td>\n",
       "      <td></td>\n",
       "      <td>Germany</td>\n",
       "      <td>DE</td>\n",
       "      <td>unknown</td>\n",
       "      <td>unknown</td>\n",
       "      <td>0.0</td>\n",
       "      <td>0.0</td>\n",
       "    </tr>\n",
       "    <tr>\n",
       "      <th>29976</th>\n",
       "      <td>unknown02</td>\n",
       "      <td></td>\n",
       "      <td>Argentina</td>\n",
       "      <td>AR</td>\n",
       "      <td>unknown</td>\n",
       "      <td>unknown</td>\n",
       "      <td>0.0</td>\n",
       "      <td>0.0</td>\n",
       "    </tr>\n",
       "    <tr>\n",
       "      <th>29977</th>\n",
       "      <td>unknown08</td>\n",
       "      <td></td>\n",
       "      <td>Mexico</td>\n",
       "      <td>MX</td>\n",
       "      <td>unknown</td>\n",
       "      <td>unknown</td>\n",
       "      <td>0.0</td>\n",
       "      <td>0.0</td>\n",
       "    </tr>\n",
       "    <tr>\n",
       "      <th>29978</th>\n",
       "      <td>unknown11</td>\n",
       "      <td></td>\n",
       "      <td>Brazil</td>\n",
       "      <td>BR</td>\n",
       "      <td>unknown</td>\n",
       "      <td>unknown</td>\n",
       "      <td>0.0</td>\n",
       "      <td>0.0</td>\n",
       "    </tr>\n",
       "  </tbody>\n",
       "</table>\n",
       "<p>29979 rows × 8 columns</p>\n",
       "</div>"
      ],
      "text/plain": [
       "              author_id            name    country country_id   gender  \\\n",
       "0          H.Albrecht.1         Hartwig  Venezuela         VE     male   \n",
       "1             D.M.B.R.1  David Bellorin  Venezuela         VE     male   \n",
       "2       D.F.Mundarain.1         Douglas      Chile         CL     male   \n",
       "3            R.Gaitan.2         Rolando  Venezuela         VE     male   \n",
       "4      J.Ntahompagaze.1          Joseph     Rwanda         RW     male   \n",
       "...                 ...             ...        ...        ...      ...   \n",
       "29974     P.P.Queiroz.2                     Brazil         BR  unknown   \n",
       "29975         unknown00                    Germany         DE  unknown   \n",
       "29976         unknown02                  Argentina         AR  unknown   \n",
       "29977         unknown08                     Mexico         MX  unknown   \n",
       "29978         unknown11                     Brazil         BR  unknown   \n",
       "\n",
       "        Gender  Gender Probability  Gender Count  \n",
       "0      unknown                 0.0           0.0  \n",
       "1         male                 1.0        7693.0  \n",
       "2         male                 1.0         707.0  \n",
       "3         male                 1.0         845.0  \n",
       "4         male                 1.0         627.0  \n",
       "...        ...                 ...           ...  \n",
       "29974  unknown                 0.0           0.0  \n",
       "29975  unknown                 0.0           0.0  \n",
       "29976  unknown                 0.0           0.0  \n",
       "29977  unknown                 0.0           0.0  \n",
       "29978  unknown                 0.0           0.0  \n",
       "\n",
       "[29979 rows x 8 columns]"
      ]
     },
     "execution_count": 85,
     "metadata": {},
     "output_type": "execute_result"
    }
   ],
   "source": [
    "DFU['Gender'] = DFU['Gender'].fillna('unknown')\n",
    "DFU['Gender Probability'] = DFU['Gender Probability'].fillna(0)\n",
    "DFU['Gender Count'] = DFU['Gender Count'].fillna(0)\n",
    "DFU"
   ]
  },
  {
   "cell_type": "code",
   "execution_count": 89,
   "id": "f12111a1-267e-4ce3-9b11-1bda2db936f0",
   "metadata": {},
   "outputs": [
    {
     "data": {
      "text/plain": [
       "((16968, 8), (19266, 8))"
      ]
     },
     "execution_count": 89,
     "metadata": {},
     "output_type": "execute_result"
    }
   ],
   "source": [
    "DFU[DFU['gender'].apply(lambda s: s in ['male','female'])].shape, DFU[DFU['Gender'].apply(lambda s: s in ['male','female'])].shape, "
   ]
  },
  {
   "cell_type": "code",
   "execution_count": 93,
   "id": "844bb7e1-053f-42c7-823d-d88a9c8b0951",
   "metadata": {},
   "outputs": [
    {
     "data": {
      "text/plain": [
       "((143, 8), (1817, 8))"
      ]
     },
     "execution_count": 93,
     "metadata": {},
     "output_type": "execute_result"
    }
   ],
   "source": [
    "(DFU[ ( DFU['gender'].apply(lambda s: s in ['male','female']) ) & (DFU['Gender']=='unknown')].shape, \n",
    " DFU[ ( DFU['Gender'].apply(lambda s: s in ['male','female']) ) & (DFU['gender']=='unknown')].shape)"
   ]
  },
  {
   "cell_type": "code",
   "execution_count": 100,
   "id": "87077a2c-15e2-4f9a-ac8e-b41a4d8f3bb9",
   "metadata": {},
   "outputs": [
    {
     "data": {
      "text/plain": [
       "(2870, 8)"
      ]
     },
     "execution_count": 100,
     "metadata": {},
     "output_type": "execute_result"
    }
   ],
   "source": [
    "DFU[ DFU['gender'] != DFU['Gender']  ].shape"
   ]
  },
  {
   "cell_type": "code",
   "execution_count": 110,
   "id": "73776639-0860-44bd-b950-cba36c96e31f",
   "metadata": {},
   "outputs": [
    {
     "data": {
      "text/html": [
       "<div>\n",
       "<style scoped>\n",
       "    .dataframe tbody tr th:only-of-type {\n",
       "        vertical-align: middle;\n",
       "    }\n",
       "\n",
       "    .dataframe tbody tr th {\n",
       "        vertical-align: top;\n",
       "    }\n",
       "\n",
       "    .dataframe thead th {\n",
       "        text-align: right;\n",
       "    }\n",
       "</style>\n",
       "<table border=\"1\" class=\"dataframe\">\n",
       "  <thead>\n",
       "    <tr style=\"text-align: right;\">\n",
       "      <th></th>\n",
       "      <th>author_id</th>\n",
       "      <th>name</th>\n",
       "      <th>country</th>\n",
       "      <th>country_id</th>\n",
       "      <th>gender</th>\n",
       "      <th>Gender</th>\n",
       "      <th>Gender Probability</th>\n",
       "      <th>Gender Count</th>\n",
       "    </tr>\n",
       "  </thead>\n",
       "  <tbody>\n",
       "    <tr>\n",
       "      <th>70</th>\n",
       "      <td>L.L.Denmat.1</td>\n",
       "      <td>Le</td>\n",
       "      <td>France</td>\n",
       "      <td>FR</td>\n",
       "      <td>female</td>\n",
       "      <td>male</td>\n",
       "      <td>0.78</td>\n",
       "      <td>13210.0</td>\n",
       "    </tr>\n",
       "    <tr>\n",
       "      <th>99</th>\n",
       "      <td>C.C.Ciobirca.1</td>\n",
       "      <td>Costin Catalin</td>\n",
       "      <td>Venezuela</td>\n",
       "      <td>VE</td>\n",
       "      <td>male</td>\n",
       "      <td>female</td>\n",
       "      <td>1.00</td>\n",
       "      <td>6.0</td>\n",
       "    </tr>\n",
       "    <tr>\n",
       "      <th>142</th>\n",
       "      <td>J.C.Perez.Mosquera.1</td>\n",
       "      <td>Jean Carlos</td>\n",
       "      <td>Venezuela</td>\n",
       "      <td>VE</td>\n",
       "      <td>male</td>\n",
       "      <td>female</td>\n",
       "      <td>0.87</td>\n",
       "      <td>3998.0</td>\n",
       "    </tr>\n",
       "    <tr>\n",
       "      <th>297</th>\n",
       "      <td>R.M.Santilli.1</td>\n",
       "      <td>Ruggero Maria</td>\n",
       "      <td>United States</td>\n",
       "      <td>US</td>\n",
       "      <td>male</td>\n",
       "      <td>female</td>\n",
       "      <td>1.00</td>\n",
       "      <td>476674.0</td>\n",
       "    </tr>\n",
       "    <tr>\n",
       "      <th>349</th>\n",
       "      <td>J.P.Veiro.1</td>\n",
       "      <td>Jean Pierre</td>\n",
       "      <td>Venezuela</td>\n",
       "      <td>VE</td>\n",
       "      <td>male</td>\n",
       "      <td>female</td>\n",
       "      <td>0.87</td>\n",
       "      <td>3998.0</td>\n",
       "    </tr>\n",
       "    <tr>\n",
       "      <th>364</th>\n",
       "      <td>N.A.Lo.Presti.1</td>\n",
       "      <td>Nicola Adriano</td>\n",
       "      <td>France</td>\n",
       "      <td>FR</td>\n",
       "      <td>female</td>\n",
       "      <td>male</td>\n",
       "      <td>0.90</td>\n",
       "      <td>1822.0</td>\n",
       "    </tr>\n",
       "    <tr>\n",
       "      <th>402</th>\n",
       "      <td>W.L.Van.Neerven.1</td>\n",
       "      <td>Willy</td>\n",
       "      <td>Netherlands</td>\n",
       "      <td>NL</td>\n",
       "      <td>male</td>\n",
       "      <td>female</td>\n",
       "      <td>0.61</td>\n",
       "      <td>5932.0</td>\n",
       "    </tr>\n",
       "    <tr>\n",
       "      <th>436</th>\n",
       "      <td>R.Calaga.1</td>\n",
       "      <td>Buchi Rama Rao</td>\n",
       "      <td>United States</td>\n",
       "      <td>US</td>\n",
       "      <td>male</td>\n",
       "      <td>female</td>\n",
       "      <td>0.67</td>\n",
       "      <td>1306.0</td>\n",
       "    </tr>\n",
       "    <tr>\n",
       "      <th>448</th>\n",
       "      <td>J.Pestieau.1</td>\n",
       "      <td>Jean</td>\n",
       "      <td>Venezuela</td>\n",
       "      <td>VE</td>\n",
       "      <td>male</td>\n",
       "      <td>female</td>\n",
       "      <td>0.87</td>\n",
       "      <td>3998.0</td>\n",
       "    </tr>\n",
       "    <tr>\n",
       "      <th>543</th>\n",
       "      <td>Miha.Nemevsek.1</td>\n",
       "      <td>Miha</td>\n",
       "      <td>Italy</td>\n",
       "      <td>IT</td>\n",
       "      <td>male</td>\n",
       "      <td>female</td>\n",
       "      <td>0.88</td>\n",
       "      <td>534.0</td>\n",
       "    </tr>\n",
       "    <tr>\n",
       "      <th>618</th>\n",
       "      <td>Y.Alexahin.1</td>\n",
       "      <td>Yuri</td>\n",
       "      <td>United States</td>\n",
       "      <td>US</td>\n",
       "      <td>male</td>\n",
       "      <td>female</td>\n",
       "      <td>0.59</td>\n",
       "      <td>3332.0</td>\n",
       "    </tr>\n",
       "    <tr>\n",
       "      <th>630</th>\n",
       "      <td>A.Apyan.3</td>\n",
       "      <td>Ara</td>\n",
       "      <td>United States</td>\n",
       "      <td>US</td>\n",
       "      <td>male</td>\n",
       "      <td>female</td>\n",
       "      <td>0.70</td>\n",
       "      <td>1176.0</td>\n",
       "    </tr>\n",
       "    <tr>\n",
       "      <th>886</th>\n",
       "      <td>Ronak.M.Soni.1</td>\n",
       "      <td>Ronak</td>\n",
       "      <td>Canada</td>\n",
       "      <td>CA</td>\n",
       "      <td>female</td>\n",
       "      <td>male</td>\n",
       "      <td>0.88</td>\n",
       "      <td>145.0</td>\n",
       "    </tr>\n",
       "    <tr>\n",
       "      <th>1096</th>\n",
       "      <td>J.Y.Galarza.1</td>\n",
       "      <td>Jhon Yana</td>\n",
       "      <td>Canada</td>\n",
       "      <td>CA</td>\n",
       "      <td>female</td>\n",
       "      <td>male</td>\n",
       "      <td>0.99</td>\n",
       "      <td>650.0</td>\n",
       "    </tr>\n",
       "    <tr>\n",
       "      <th>1169</th>\n",
       "      <td>G.Geshnizjani.1</td>\n",
       "      <td>Ghazal</td>\n",
       "      <td>Canada</td>\n",
       "      <td>CA</td>\n",
       "      <td>male</td>\n",
       "      <td>female</td>\n",
       "      <td>0.99</td>\n",
       "      <td>375.0</td>\n",
       "    </tr>\n",
       "    <tr>\n",
       "      <th>1179</th>\n",
       "      <td>A.E.Obispo.1</td>\n",
       "      <td>Angel</td>\n",
       "      <td>Brazil</td>\n",
       "      <td>BR</td>\n",
       "      <td>male</td>\n",
       "      <td>female</td>\n",
       "      <td>0.71</td>\n",
       "      <td>687.0</td>\n",
       "    </tr>\n",
       "    <tr>\n",
       "      <th>1215</th>\n",
       "      <td>Sho.Uemura.1</td>\n",
       "      <td>Sho</td>\n",
       "      <td>Israel</td>\n",
       "      <td>IL</td>\n",
       "      <td>male</td>\n",
       "      <td>female</td>\n",
       "      <td>0.65</td>\n",
       "      <td>37.0</td>\n",
       "    </tr>\n",
       "    <tr>\n",
       "      <th>1353</th>\n",
       "      <td>K.Hibino.1</td>\n",
       "      <td>Kinya</td>\n",
       "      <td>Japan</td>\n",
       "      <td>JP</td>\n",
       "      <td>male</td>\n",
       "      <td>female</td>\n",
       "      <td>0.64</td>\n",
       "      <td>151.0</td>\n",
       "    </tr>\n",
       "    <tr>\n",
       "      <th>1423</th>\n",
       "      <td>R.S.Sufian.1</td>\n",
       "      <td>Raza Sabbir</td>\n",
       "      <td>United States</td>\n",
       "      <td>US</td>\n",
       "      <td>female</td>\n",
       "      <td>male</td>\n",
       "      <td>1.00</td>\n",
       "      <td>272.0</td>\n",
       "    </tr>\n",
       "    <tr>\n",
       "      <th>1580</th>\n",
       "      <td>E.F.Aguilera.1</td>\n",
       "      <td>Eli</td>\n",
       "      <td>Mexico</td>\n",
       "      <td>MX</td>\n",
       "      <td>male</td>\n",
       "      <td>female</td>\n",
       "      <td>0.64</td>\n",
       "      <td>9870.0</td>\n",
       "    </tr>\n",
       "    <tr>\n",
       "      <th>1828</th>\n",
       "      <td>Y.Mitsumori.2</td>\n",
       "      <td>Yu</td>\n",
       "      <td>Japan</td>\n",
       "      <td>JP</td>\n",
       "      <td>female</td>\n",
       "      <td>male</td>\n",
       "      <td>0.65</td>\n",
       "      <td>1632.0</td>\n",
       "    </tr>\n",
       "    <tr>\n",
       "      <th>2024</th>\n",
       "      <td>J.Franco.1</td>\n",
       "      <td>José Guilherme Ribas Sophia</td>\n",
       "      <td>Colombia</td>\n",
       "      <td>CO</td>\n",
       "      <td>male</td>\n",
       "      <td>female</td>\n",
       "      <td>0.99</td>\n",
       "      <td>983.0</td>\n",
       "    </tr>\n",
       "    <tr>\n",
       "      <th>2231</th>\n",
       "      <td>Alysson.F.Ferrari.1</td>\n",
       "      <td>Alysson Fabio</td>\n",
       "      <td>Brazil</td>\n",
       "      <td>BR</td>\n",
       "      <td>male</td>\n",
       "      <td>female</td>\n",
       "      <td>0.74</td>\n",
       "      <td>4977.0</td>\n",
       "    </tr>\n",
       "    <tr>\n",
       "      <th>2249</th>\n",
       "      <td>Y.Bonder.1</td>\n",
       "      <td>Yuri</td>\n",
       "      <td>Mexico</td>\n",
       "      <td>MX</td>\n",
       "      <td>male</td>\n",
       "      <td>female</td>\n",
       "      <td>0.94</td>\n",
       "      <td>3146.0</td>\n",
       "    </tr>\n",
       "    <tr>\n",
       "      <th>2375</th>\n",
       "      <td>V.D.Dugar.Zhabon.1</td>\n",
       "      <td>Valeriy</td>\n",
       "      <td>Colombia</td>\n",
       "      <td>CO</td>\n",
       "      <td>male</td>\n",
       "      <td>female</td>\n",
       "      <td>1.00</td>\n",
       "      <td>3.0</td>\n",
       "    </tr>\n",
       "    <tr>\n",
       "      <th>2389</th>\n",
       "      <td>V.D.Dougar.Jabon.1</td>\n",
       "      <td>Valeri</td>\n",
       "      <td>Colombia</td>\n",
       "      <td>CO</td>\n",
       "      <td>male</td>\n",
       "      <td>female</td>\n",
       "      <td>0.97</td>\n",
       "      <td>930.0</td>\n",
       "    </tr>\n",
       "    <tr>\n",
       "      <th>2482</th>\n",
       "      <td>S.R.Das.1</td>\n",
       "      <td>Siba Prasad</td>\n",
       "      <td>Colombia</td>\n",
       "      <td>CO</td>\n",
       "      <td>male</td>\n",
       "      <td>female</td>\n",
       "      <td>1.00</td>\n",
       "      <td>1.0</td>\n",
       "    </tr>\n",
       "    <tr>\n",
       "      <th>2557</th>\n",
       "      <td>F.Jorge.1</td>\n",
       "      <td>Fraga</td>\n",
       "      <td>Colombia</td>\n",
       "      <td>CO</td>\n",
       "      <td>female</td>\n",
       "      <td>male</td>\n",
       "      <td>0.75</td>\n",
       "      <td>4.0</td>\n",
       "    </tr>\n",
       "    <tr>\n",
       "      <th>2565</th>\n",
       "      <td>Y.D.Oh.3</td>\n",
       "      <td>Young do</td>\n",
       "      <td>Korea, Republic of</td>\n",
       "      <td>KR</td>\n",
       "      <td>female</td>\n",
       "      <td>male</td>\n",
       "      <td>1.00</td>\n",
       "      <td>3.0</td>\n",
       "    </tr>\n",
       "    <tr>\n",
       "      <th>2666</th>\n",
       "      <td>Soumitra.Sengupta.1</td>\n",
       "      <td>Soumitra</td>\n",
       "      <td>India</td>\n",
       "      <td>IN</td>\n",
       "      <td>female</td>\n",
       "      <td>male</td>\n",
       "      <td>0.96</td>\n",
       "      <td>351.0</td>\n",
       "    </tr>\n",
       "    <tr>\n",
       "      <th>2711</th>\n",
       "      <td>Yan.Huang.2</td>\n",
       "      <td>Yan</td>\n",
       "      <td>China</td>\n",
       "      <td>CN</td>\n",
       "      <td>male</td>\n",
       "      <td>female</td>\n",
       "      <td>0.73</td>\n",
       "      <td>2932.0</td>\n",
       "    </tr>\n",
       "    <tr>\n",
       "      <th>2796</th>\n",
       "      <td>D.F.T.Agudelo.1</td>\n",
       "      <td>Tamayo</td>\n",
       "      <td>Colombia</td>\n",
       "      <td>CO</td>\n",
       "      <td>female</td>\n",
       "      <td>male</td>\n",
       "      <td>0.60</td>\n",
       "      <td>50.0</td>\n",
       "    </tr>\n",
       "    <tr>\n",
       "      <th>2831</th>\n",
       "      <td>K.Y.Choi.1</td>\n",
       "      <td>Ki Young</td>\n",
       "      <td>Korea, Republic of</td>\n",
       "      <td>KR</td>\n",
       "      <td>female</td>\n",
       "      <td>male</td>\n",
       "      <td>0.88</td>\n",
       "      <td>8.0</td>\n",
       "    </tr>\n",
       "    <tr>\n",
       "      <th>2868</th>\n",
       "      <td>C.S.Velez.1</td>\n",
       "      <td>Camilo Santa</td>\n",
       "      <td>Colombia</td>\n",
       "      <td>CO</td>\n",
       "      <td>male</td>\n",
       "      <td>female</td>\n",
       "      <td>0.58</td>\n",
       "      <td>454.0</td>\n",
       "    </tr>\n",
       "    <tr>\n",
       "      <th>2881</th>\n",
       "      <td>V.V.Obukhov.1</td>\n",
       "      <td>Valery</td>\n",
       "      <td>Russian Federation</td>\n",
       "      <td>RU</td>\n",
       "      <td>male</td>\n",
       "      <td>female</td>\n",
       "      <td>0.55</td>\n",
       "      <td>5977.0</td>\n",
       "    </tr>\n",
       "    <tr>\n",
       "      <th>3124</th>\n",
       "      <td>J.G.Cuby.1</td>\n",
       "      <td>Jean Gabriel</td>\n",
       "      <td>Chile</td>\n",
       "      <td>CL</td>\n",
       "      <td>male</td>\n",
       "      <td>female</td>\n",
       "      <td>0.54</td>\n",
       "      <td>5292.0</td>\n",
       "    </tr>\n",
       "    <tr>\n",
       "      <th>3316</th>\n",
       "      <td>I.de.Gregorio.Monsalvo.1</td>\n",
       "      <td>Itziar</td>\n",
       "      <td>Chile</td>\n",
       "      <td>CL</td>\n",
       "      <td>female</td>\n",
       "      <td>male</td>\n",
       "      <td>0.71</td>\n",
       "      <td>31.0</td>\n",
       "    </tr>\n",
       "    <tr>\n",
       "      <th>3365</th>\n",
       "      <td>A.Brandeker.1</td>\n",
       "      <td>Alexis</td>\n",
       "      <td>Canada</td>\n",
       "      <td>CA</td>\n",
       "      <td>male</td>\n",
       "      <td>female</td>\n",
       "      <td>0.52</td>\n",
       "      <td>1506.0</td>\n",
       "    </tr>\n",
       "    <tr>\n",
       "      <th>3372</th>\n",
       "      <td>Y.N.Chin.1</td>\n",
       "      <td>Yi Nan</td>\n",
       "      <td>Taiwan</td>\n",
       "      <td>TW</td>\n",
       "      <td>female</td>\n",
       "      <td>male</td>\n",
       "      <td>1.00</td>\n",
       "      <td>2.0</td>\n",
       "    </tr>\n",
       "    <tr>\n",
       "      <th>3402</th>\n",
       "      <td>P.Bouchet.1</td>\n",
       "      <td>Patrice</td>\n",
       "      <td>Chile</td>\n",
       "      <td>CL</td>\n",
       "      <td>male</td>\n",
       "      <td>female</td>\n",
       "      <td>0.56</td>\n",
       "      <td>36.0</td>\n",
       "    </tr>\n",
       "    <tr>\n",
       "      <th>3513</th>\n",
       "      <td>Jia.Cai.Li.1</td>\n",
       "      <td>Jia Cai</td>\n",
       "      <td>Taiwan</td>\n",
       "      <td>TW</td>\n",
       "      <td>male</td>\n",
       "      <td>female</td>\n",
       "      <td>0.57</td>\n",
       "      <td>207.0</td>\n",
       "    </tr>\n",
       "    <tr>\n",
       "      <th>3543</th>\n",
       "      <td>M.Schirmer.1</td>\n",
       "      <td>Mischa</td>\n",
       "      <td>Spain</td>\n",
       "      <td>ES</td>\n",
       "      <td>male</td>\n",
       "      <td>female</td>\n",
       "      <td>0.59</td>\n",
       "      <td>27.0</td>\n",
       "    </tr>\n",
       "    <tr>\n",
       "      <th>3607</th>\n",
       "      <td>P.Corporon.1</td>\n",
       "      <td>Patrice</td>\n",
       "      <td>Chile</td>\n",
       "      <td>CL</td>\n",
       "      <td>male</td>\n",
       "      <td>female</td>\n",
       "      <td>0.56</td>\n",
       "      <td>36.0</td>\n",
       "    </tr>\n",
       "    <tr>\n",
       "      <th>3635</th>\n",
       "      <td>P.Vaisanen.1</td>\n",
       "      <td>Petri</td>\n",
       "      <td>Chile</td>\n",
       "      <td>CL</td>\n",
       "      <td>male</td>\n",
       "      <td>female</td>\n",
       "      <td>1.00</td>\n",
       "      <td>1.0</td>\n",
       "    </tr>\n",
       "    <tr>\n",
       "      <th>3832</th>\n",
       "      <td>K.C.Sahu.1</td>\n",
       "      <td>Kailash Chandra</td>\n",
       "      <td>Germany</td>\n",
       "      <td>DE</td>\n",
       "      <td>female</td>\n",
       "      <td>male</td>\n",
       "      <td>1.00</td>\n",
       "      <td>17.0</td>\n",
       "    </tr>\n",
       "    <tr>\n",
       "      <th>3904</th>\n",
       "      <td>E.Babichev.1</td>\n",
       "      <td>Eugeny</td>\n",
       "      <td>France</td>\n",
       "      <td>FR</td>\n",
       "      <td>male</td>\n",
       "      <td>female</td>\n",
       "      <td>0.86</td>\n",
       "      <td>7.0</td>\n",
       "    </tr>\n",
       "    <tr>\n",
       "      <th>3993</th>\n",
       "      <td>V.E.Lyubovitskij.1</td>\n",
       "      <td>Valery</td>\n",
       "      <td>Germany</td>\n",
       "      <td>DE</td>\n",
       "      <td>male</td>\n",
       "      <td>female</td>\n",
       "      <td>0.71</td>\n",
       "      <td>265.0</td>\n",
       "    </tr>\n",
       "    <tr>\n",
       "      <th>4004</th>\n",
       "      <td>E.S.Rykoff.1</td>\n",
       "      <td>Eli Saul</td>\n",
       "      <td>United States</td>\n",
       "      <td>US</td>\n",
       "      <td>female</td>\n",
       "      <td>male</td>\n",
       "      <td>1.00</td>\n",
       "      <td>2.0</td>\n",
       "    </tr>\n",
       "    <tr>\n",
       "      <th>4029</th>\n",
       "      <td>S.Caron.2</td>\n",
       "      <td>Sascha</td>\n",
       "      <td>Netherlands</td>\n",
       "      <td>NL</td>\n",
       "      <td>male</td>\n",
       "      <td>female</td>\n",
       "      <td>0.67</td>\n",
       "      <td>1235.0</td>\n",
       "    </tr>\n",
       "    <tr>\n",
       "      <th>4283</th>\n",
       "      <td>L.Pismen.1</td>\n",
       "      <td>Len</td>\n",
       "      <td>Israel</td>\n",
       "      <td>IL</td>\n",
       "      <td>male</td>\n",
       "      <td>female</td>\n",
       "      <td>0.86</td>\n",
       "      <td>73.0</td>\n",
       "    </tr>\n",
       "  </tbody>\n",
       "</table>\n",
       "</div>"
      ],
      "text/plain": [
       "                     author_id                         name  \\\n",
       "70                L.L.Denmat.1                           Le   \n",
       "99              C.C.Ciobirca.1               Costin Catalin   \n",
       "142       J.C.Perez.Mosquera.1                  Jean Carlos   \n",
       "297             R.M.Santilli.1                Ruggero Maria   \n",
       "349                J.P.Veiro.1                  Jean Pierre   \n",
       "364            N.A.Lo.Presti.1               Nicola Adriano   \n",
       "402          W.L.Van.Neerven.1                        Willy   \n",
       "436                 R.Calaga.1               Buchi Rama Rao   \n",
       "448               J.Pestieau.1                         Jean   \n",
       "543            Miha.Nemevsek.1                         Miha   \n",
       "618               Y.Alexahin.1                         Yuri   \n",
       "630                  A.Apyan.3                          Ara   \n",
       "886             Ronak.M.Soni.1                        Ronak   \n",
       "1096             J.Y.Galarza.1                    Jhon Yana   \n",
       "1169           G.Geshnizjani.1                       Ghazal   \n",
       "1179              A.E.Obispo.1                        Angel   \n",
       "1215              Sho.Uemura.1                          Sho   \n",
       "1353                K.Hibino.1                        Kinya   \n",
       "1423              R.S.Sufian.1                  Raza Sabbir   \n",
       "1580            E.F.Aguilera.1                          Eli   \n",
       "1828             Y.Mitsumori.2                           Yu   \n",
       "2024                J.Franco.1  José Guilherme Ribas Sophia   \n",
       "2231       Alysson.F.Ferrari.1                Alysson Fabio   \n",
       "2249                Y.Bonder.1                         Yuri   \n",
       "2375        V.D.Dugar.Zhabon.1                      Valeriy   \n",
       "2389        V.D.Dougar.Jabon.1                       Valeri   \n",
       "2482                 S.R.Das.1                  Siba Prasad   \n",
       "2557                 F.Jorge.1                        Fraga   \n",
       "2565                  Y.D.Oh.3                     Young do   \n",
       "2666       Soumitra.Sengupta.1                     Soumitra   \n",
       "2711               Yan.Huang.2                          Yan   \n",
       "2796           D.F.T.Agudelo.1                       Tamayo   \n",
       "2831                K.Y.Choi.1                     Ki Young   \n",
       "2868               C.S.Velez.1                 Camilo Santa   \n",
       "2881             V.V.Obukhov.1                       Valery   \n",
       "3124                J.G.Cuby.1                 Jean Gabriel   \n",
       "3316  I.de.Gregorio.Monsalvo.1                       Itziar   \n",
       "3365             A.Brandeker.1                       Alexis   \n",
       "3372                Y.N.Chin.1                       Yi Nan   \n",
       "3402               P.Bouchet.1                      Patrice   \n",
       "3513              Jia.Cai.Li.1                      Jia Cai   \n",
       "3543              M.Schirmer.1                       Mischa   \n",
       "3607              P.Corporon.1                      Patrice   \n",
       "3635              P.Vaisanen.1                        Petri   \n",
       "3832                K.C.Sahu.1              Kailash Chandra   \n",
       "3904              E.Babichev.1                       Eugeny   \n",
       "3993        V.E.Lyubovitskij.1                       Valery   \n",
       "4004              E.S.Rykoff.1                     Eli Saul   \n",
       "4029                 S.Caron.2                       Sascha   \n",
       "4283                L.Pismen.1                          Len   \n",
       "\n",
       "                 country country_id  gender  Gender  Gender Probability  \\\n",
       "70                France         FR  female    male                0.78   \n",
       "99             Venezuela         VE    male  female                1.00   \n",
       "142            Venezuela         VE    male  female                0.87   \n",
       "297        United States         US    male  female                1.00   \n",
       "349            Venezuela         VE    male  female                0.87   \n",
       "364               France         FR  female    male                0.90   \n",
       "402          Netherlands         NL    male  female                0.61   \n",
       "436        United States         US    male  female                0.67   \n",
       "448            Venezuela         VE    male  female                0.87   \n",
       "543                Italy         IT    male  female                0.88   \n",
       "618        United States         US    male  female                0.59   \n",
       "630        United States         US    male  female                0.70   \n",
       "886               Canada         CA  female    male                0.88   \n",
       "1096              Canada         CA  female    male                0.99   \n",
       "1169              Canada         CA    male  female                0.99   \n",
       "1179              Brazil         BR    male  female                0.71   \n",
       "1215              Israel         IL    male  female                0.65   \n",
       "1353               Japan         JP    male  female                0.64   \n",
       "1423       United States         US  female    male                1.00   \n",
       "1580              Mexico         MX    male  female                0.64   \n",
       "1828               Japan         JP  female    male                0.65   \n",
       "2024            Colombia         CO    male  female                0.99   \n",
       "2231              Brazil         BR    male  female                0.74   \n",
       "2249              Mexico         MX    male  female                0.94   \n",
       "2375            Colombia         CO    male  female                1.00   \n",
       "2389            Colombia         CO    male  female                0.97   \n",
       "2482            Colombia         CO    male  female                1.00   \n",
       "2557            Colombia         CO  female    male                0.75   \n",
       "2565  Korea, Republic of         KR  female    male                1.00   \n",
       "2666               India         IN  female    male                0.96   \n",
       "2711               China         CN    male  female                0.73   \n",
       "2796            Colombia         CO  female    male                0.60   \n",
       "2831  Korea, Republic of         KR  female    male                0.88   \n",
       "2868            Colombia         CO    male  female                0.58   \n",
       "2881  Russian Federation         RU    male  female                0.55   \n",
       "3124               Chile         CL    male  female                0.54   \n",
       "3316               Chile         CL  female    male                0.71   \n",
       "3365              Canada         CA    male  female                0.52   \n",
       "3372              Taiwan         TW  female    male                1.00   \n",
       "3402               Chile         CL    male  female                0.56   \n",
       "3513              Taiwan         TW    male  female                0.57   \n",
       "3543               Spain         ES    male  female                0.59   \n",
       "3607               Chile         CL    male  female                0.56   \n",
       "3635               Chile         CL    male  female                1.00   \n",
       "3832             Germany         DE  female    male                1.00   \n",
       "3904              France         FR    male  female                0.86   \n",
       "3993             Germany         DE    male  female                0.71   \n",
       "4004       United States         US  female    male                1.00   \n",
       "4029         Netherlands         NL    male  female                0.67   \n",
       "4283              Israel         IL    male  female                0.86   \n",
       "\n",
       "      Gender Count  \n",
       "70         13210.0  \n",
       "99             6.0  \n",
       "142         3998.0  \n",
       "297       476674.0  \n",
       "349         3998.0  \n",
       "364         1822.0  \n",
       "402         5932.0  \n",
       "436         1306.0  \n",
       "448         3998.0  \n",
       "543          534.0  \n",
       "618         3332.0  \n",
       "630         1176.0  \n",
       "886          145.0  \n",
       "1096         650.0  \n",
       "1169         375.0  \n",
       "1179         687.0  \n",
       "1215          37.0  \n",
       "1353         151.0  \n",
       "1423         272.0  \n",
       "1580        9870.0  \n",
       "1828        1632.0  \n",
       "2024         983.0  \n",
       "2231        4977.0  \n",
       "2249        3146.0  \n",
       "2375           3.0  \n",
       "2389         930.0  \n",
       "2482           1.0  \n",
       "2557           4.0  \n",
       "2565           3.0  \n",
       "2666         351.0  \n",
       "2711        2932.0  \n",
       "2796          50.0  \n",
       "2831           8.0  \n",
       "2868         454.0  \n",
       "2881        5977.0  \n",
       "3124        5292.0  \n",
       "3316          31.0  \n",
       "3365        1506.0  \n",
       "3372           2.0  \n",
       "3402          36.0  \n",
       "3513         207.0  \n",
       "3543          27.0  \n",
       "3607          36.0  \n",
       "3635           1.0  \n",
       "3832          17.0  \n",
       "3904           7.0  \n",
       "3993         265.0  \n",
       "4004           2.0  \n",
       "4029        1235.0  \n",
       "4283          73.0  "
      ]
     },
     "execution_count": 110,
     "metadata": {},
     "output_type": "execute_result"
    }
   ],
   "source": [
    "DFU[ (DFU['gender'].apply(lambda s: s in ['male','female']) ) &\n",
    "     (DFU['Gender'].apply(lambda s: s in ['male','female']) ) &\n",
    "    (DFU['gender'] != DFU['Gender'])\n",
    "][:50]"
   ]
  },
  {
   "cell_type": "code",
   "execution_count": 203,
   "id": "9c74a7d5-3f69-45f5-b9d8-ff10bcd52c26",
   "metadata": {},
   "outputs": [
    {
     "data": {
      "text/plain": [
       "'D.F.Mundarain.1'"
      ]
     },
     "execution_count": 203,
     "metadata": {},
     "output_type": "execute_result"
    }
   ],
   "source": [
    "author_id = DFU.author_id.loc[2]\n",
    "author_id"
   ]
  },
  {
   "cell_type": "code",
   "execution_count": 247,
   "id": "5f17105f-4f2f-41d3-ba5d-8f1b9f985eb6",
   "metadata": {},
   "outputs": [
    {
     "data": {
      "text/html": [
       "<div>\n",
       "<style scoped>\n",
       "    .dataframe tbody tr th:only-of-type {\n",
       "        vertical-align: middle;\n",
       "    }\n",
       "\n",
       "    .dataframe tbody tr th {\n",
       "        vertical-align: top;\n",
       "    }\n",
       "\n",
       "    .dataframe thead th {\n",
       "        text-align: right;\n",
       "    }\n",
       "</style>\n",
       "<table border=\"1\" class=\"dataframe\">\n",
       "  <thead>\n",
       "    <tr style=\"text-align: right;\">\n",
       "      <th></th>\n",
       "      <th>author_id</th>\n",
       "      <th>country</th>\n",
       "      <th>email_addresses</th>\n",
       "      <th>full_name</th>\n",
       "      <th>ids</th>\n",
       "      <th>institution</th>\n",
       "      <th>institution_id</th>\n",
       "      <th>name</th>\n",
       "      <th>papers</th>\n",
       "      <th>positions</th>\n",
       "      <th>profile_id</th>\n",
       "      <th>advisors</th>\n",
       "      <th>gender</th>\n",
       "    </tr>\n",
       "  </thead>\n",
       "  <tbody>\n",
       "    <tr>\n",
       "      <th>25929</th>\n",
       "      <td>S.R.Juarez.W.3</td>\n",
       "      <td>Mexico</td>\n",
       "      <td>None</td>\n",
       "      <td>Juárez W., S. Rebeca</td>\n",
       "      <td>None</td>\n",
       "      <td>Mexico, ESFM</td>\n",
       "      <td>907888</td>\n",
       "      <td>None</td>\n",
       "      <td>[{'recid': 1516210, 'year': '2017', 'citation_...</td>\n",
       "      <td>None</td>\n",
       "      <td>None</td>\n",
       "      <td>[]</td>\n",
       "      <td>female</td>\n",
       "    </tr>\n",
       "    <tr>\n",
       "      <th>33065</th>\n",
       "      <td>unknown10</td>\n",
       "      <td>Italy</td>\n",
       "      <td>None</td>\n",
       "      <td>Juárez W., S. Rebeca</td>\n",
       "      <td>None</td>\n",
       "      <td>SIP-OTBU/NE, Trieste</td>\n",
       "      <td>1241220</td>\n",
       "      <td>None</td>\n",
       "      <td>[{'recid': 1800459, 'year': '2021', 'citation_...</td>\n",
       "      <td>None</td>\n",
       "      <td>None</td>\n",
       "      <td>[]</td>\n",
       "      <td>female</td>\n",
       "    </tr>\n",
       "  </tbody>\n",
       "</table>\n",
       "</div>"
      ],
      "text/plain": [
       "            author_id country email_addresses             full_name   ids  \\\n",
       "25929  S.R.Juarez.W.3  Mexico            None  Juárez W., S. Rebeca  None   \n",
       "33065       unknown10   Italy            None  Juárez W., S. Rebeca  None   \n",
       "\n",
       "                institution institution_id  name  \\\n",
       "25929          Mexico, ESFM         907888  None   \n",
       "33065  SIP-OTBU/NE, Trieste        1241220  None   \n",
       "\n",
       "                                                  papers positions profile_id  \\\n",
       "25929  [{'recid': 1516210, 'year': '2017', 'citation_...      None       None   \n",
       "33065  [{'recid': 1800459, 'year': '2021', 'citation_...      None       None   \n",
       "\n",
       "      advisors  gender  \n",
       "25929       []  female  \n",
       "33065       []  female  "
      ]
     },
     "execution_count": 247,
     "metadata": {},
     "output_type": "execute_result"
    }
   ],
   "source": [
    "pd.DataFrame(df)[pd.DataFrame(df)['full_name']=='Juárez W., S. Rebeca']"
   ]
  },
  {
   "cell_type": "code",
   "execution_count": 261,
   "id": "b08eab4c-c27b-41ee-a985-bed940aefa87",
   "metadata": {},
   "outputs": [
    {
     "data": {
      "text/plain": [
       "Index(['author_id', 'name', 'country', 'country_id', 'gender', 'Gender',\n",
       "       'Gender Probability', 'Gender Count'],\n",
       "      dtype='object')"
      ]
     },
     "execution_count": 261,
     "metadata": {},
     "output_type": "execute_result"
    }
   ],
   "source": [
    "DFU.columns"
   ]
  },
  {
   "cell_type": "code",
   "execution_count": 268,
   "id": "88ced6d7-949b-42e4-9bce-7e18d0619f20",
   "metadata": {},
   "outputs": [],
   "source": [
    "d_gender = dict(zip( DFU['author_id'], DFU['Gender'] ) )\n",
    "d_first_names = dict(zip( DFU['author_id'], DFU.rename({'name':'first_names'},axis='columns')['first_names'] ) )\n",
    "d_prob   = dict(zip( DFU['author_id'], DFU['Gender Probability'] ) )\n",
    "unknown = DF[DF['author_id'].str.contains('unknown')]\n",
    "d_author_id = dict(zip(unknown['full_name'],unknown['author_id']))"
   ]
  },
  {
   "cell_type": "code",
   "execution_count": 269,
   "id": "c7b68109-0d93-4bfa-bea7-16bcda1978aa",
   "metadata": {},
   "outputs": [],
   "source": [
    "kk = [d.update({'author_id': d_author_id[ d['full_name']  ]}) for d in df if d.get('author_id') is None ]"
   ]
  },
  {
   "cell_type": "code",
   "execution_count": null,
   "id": "08c38161-26b0-4b51-bef7-cac0d3980f3d",
   "metadata": {},
   "outputs": [],
   "source": [
    "for author_id in DFU['author_id']:\n",
    "    kk = [d.update( {'first_names': d_first_names[author_id], \n",
    "                     'gender':      d_gender[author_id] ,\n",
    "                     'gender_probability': d_prob[author_id]  } )\n",
    "              for d in df if d.get('author_id') == author_id]"
   ]
  },
  {
   "cell_type": "code",
   "execution_count": 307,
   "id": "f1a66ea0-e3a5-404f-b29c-2af5880ce6c5",
   "metadata": {},
   "outputs": [
    {
     "name": "stdout",
     "output_type": "stream",
     "text": [
      "TOTAL: 57588\n",
      "Unique autors: 29979\n",
      "Remove first names with only intials: 20125 =         male:  16013 + female: 3253 + unknown: 10713.\n",
      "         \n",
      "Select found gender found probability from 95%: 17634\n",
      "female ratio at probability at 95%: 16.0%\n"
     ]
    }
   ],
   "source": [
    "TMP  = pd.DataFrame(df)\n",
    "TMPU = TMP.drop_duplicates('author_id').reset_index(drop=True)\n",
    "TMPUI = TMPU[TMPU['first_names'].apply(len)>0].reset_index(drop=True)\n",
    "TMPUA = TMPUI[TMPUI['gender_probability']>0.94].reset_index(drop=True)\n",
    "\n",
    "print(f'TOTAL: {TMP.shape[0]}')\n",
    "print(f'Unique autors: {TMPU.shape[0]}')\n",
    "print(f'''Remove first names with only intials: {TMPUI.shape[0]} = \\\n",
    "        male:  {TMPU[TMPU['gender']=='male'].shape[0]} + female: {\n",
    "                TMPU[TMPU['gender']=='female'].shape[0]} + unknown: {\n",
    "                TMPU[TMPU['gender']=='unknown'].shape[0]}.\n",
    "         ''')\n",
    "print(f'Select found gender found probability from 95%: {TMPUA.shape[0]}')\n",
    "print(f'female ratio at probability at 95%: { \n",
    "               round(TMPUA[TMPUA['gender']=='female'].shape[0]/(TMPUA[TMPUA['gender']=='female'].shape[0] + TMPUA[TMPUA['gender']=='male'].shape[0]),2)*100  }%')"
   ]
  },
  {
   "cell_type": "code",
   "execution_count": 308,
   "id": "69480f2e-0c20-4770-924f-38a477ab2743",
   "metadata": {},
   "outputs": [],
   "source": [
    "f=open('data/inspire_LA.json','w')\n",
    "json.dump(df,f)\n",
    "f.close()"
   ]
  },
  {
   "cell_type": "code",
   "execution_count": 259,
   "id": "6e9906b0-e3ec-4704-ad1c-19a6a2d75dea",
   "metadata": {},
   "outputs": [
    {
     "data": {
      "text/plain": [
       "(57588, 39349)"
      ]
     },
     "execution_count": 259,
     "metadata": {},
     "output_type": "execute_result"
    }
   ],
   "source": [
    "TMP.shape[0] , TMP[TMP['gender'].apply(lambda s: s in ['male','female'])].shape[0]"
   ]
  },
  {
   "cell_type": "code",
   "execution_count": 118,
   "id": "510e0696-314c-4543-956a-590d18f9ad68",
   "metadata": {},
   "outputs": [
    {
     "data": {
      "text/plain": [
       "((19266, 8), (17634, 8))"
      ]
     },
     "execution_count": 118,
     "metadata": {},
     "output_type": "execute_result"
    }
   ],
   "source": [
    "DFU[DFU['Gender Probability']>0.].shape,DFU[DFU['Gender Probability']>=0.95].shape"
   ]
  },
  {
   "cell_type": "code",
   "execution_count": 120,
   "id": "0704649a-e413-4712-a7db-23c5d45ad4c6",
   "metadata": {},
   "outputs": [
    {
     "data": {
      "text/plain": [
       "(2870, 8)"
      ]
     },
     "execution_count": 120,
     "metadata": {},
     "output_type": "execute_result"
    }
   ],
   "source": [
    "DFU[ DFU['gender'] != DFU['Gender']  ].shape"
   ]
  },
  {
   "cell_type": "code",
   "execution_count": 111,
   "id": "55c7f30b-aa08-4c60-8f62-d84590e7c19c",
   "metadata": {},
   "outputs": [],
   "source": [
    "CO = pd.read_json('https://raw.githubusercontent.com/colav-playground/gender_guesser_first_names/refs/heads/main/data/test_gender.json')"
   ]
  },
  {
   "cell_type": "code",
   "execution_count": null,
   "id": "6935e63a-5ecd-468a-a5af-2bc5b6872b37",
   "metadata": {
    "scrolled": true
   },
   "outputs": [],
   "source": [
    "CO['country_id'] = CO['country'].astype(str).apply(lambda c: coco.convert(names=c, to='ISO2')).replace('not found','')"
   ]
  },
  {
   "cell_type": "code",
   "execution_count": 124,
   "id": "56a56fa8-00a6-47c6-bc41-01b4d28661d2",
   "metadata": {},
   "outputs": [],
   "source": [
    "CO.to_csv('/home/restrepo/Downloads/test_gender.csv',index=False)"
   ]
  },
  {
   "cell_type": "code",
   "execution_count": 125,
   "id": "4a029a50-5f0a-4bf3-b653-af1769146c55",
   "metadata": {},
   "outputs": [],
   "source": [
    "CO = pd.read_csv('data/test_gender.csv')"
   ]
  },
  {
   "cell_type": "code",
   "execution_count": 129,
   "id": "0f7f9e45-bfd3-486c-b51c-9bdc42d24502",
   "metadata": {},
   "outputs": [
    {
     "data": {
      "text/plain": [
       "(28, 7)"
      ]
     },
     "execution_count": 129,
     "metadata": {},
     "output_type": "execute_result"
    }
   ],
   "source": [
    "CO[ (CO['gender'].apply(lambda s: s in ['male','female']) ) &\n",
    "     (CO['Gender'].apply(lambda s: s in ['male','female']) ) &\n",
    "    (CO['gender'] != CO['Gender'])\n",
    "].shape"
   ]
  },
  {
   "cell_type": "code",
   "execution_count": 135,
   "id": "da21388c-45b5-49b2-bfd8-213a0272939f",
   "metadata": {},
   "outputs": [
    {
     "data": {
      "text/html": [
       "<div>\n",
       "<style scoped>\n",
       "    .dataframe tbody tr th:only-of-type {\n",
       "        vertical-align: middle;\n",
       "    }\n",
       "\n",
       "    .dataframe tbody tr th {\n",
       "        vertical-align: top;\n",
       "    }\n",
       "\n",
       "    .dataframe thead th {\n",
       "        text-align: right;\n",
       "    }\n",
       "</style>\n",
       "<table border=\"1\" class=\"dataframe\">\n",
       "  <thead>\n",
       "    <tr style=\"text-align: right;\">\n",
       "      <th></th>\n",
       "      <th>names</th>\n",
       "      <th>gender</th>\n",
       "      <th>country</th>\n",
       "      <th>country_id</th>\n",
       "      <th>Gender</th>\n",
       "      <th>Gender Probability</th>\n",
       "      <th>Gender Count</th>\n",
       "    </tr>\n",
       "  </thead>\n",
       "  <tbody>\n",
       "    <tr>\n",
       "      <th>96</th>\n",
       "      <td>Awar Simon</td>\n",
       "      <td>male</td>\n",
       "      <td>other_countries</td>\n",
       "      <td>NaN</td>\n",
       "      <td>unknown</td>\n",
       "      <td>0.0</td>\n",
       "      <td>0</td>\n",
       "    </tr>\n",
       "    <tr>\n",
       "      <th>104</th>\n",
       "      <td>Olufemi Adeyinka</td>\n",
       "      <td>male</td>\n",
       "      <td>other_countries</td>\n",
       "      <td>NaN</td>\n",
       "      <td>unknown</td>\n",
       "      <td>0.0</td>\n",
       "      <td>0</td>\n",
       "    </tr>\n",
       "    <tr>\n",
       "      <th>112</th>\n",
       "      <td>Francois</td>\n",
       "      <td>male</td>\n",
       "      <td>other_countries</td>\n",
       "      <td>NaN</td>\n",
       "      <td>unknown</td>\n",
       "      <td>0.0</td>\n",
       "      <td>0</td>\n",
       "    </tr>\n",
       "    <tr>\n",
       "      <th>115</th>\n",
       "      <td>Geoffrey</td>\n",
       "      <td>male</td>\n",
       "      <td>other_countries</td>\n",
       "      <td>NaN</td>\n",
       "      <td>unknown</td>\n",
       "      <td>0.0</td>\n",
       "      <td>0</td>\n",
       "    </tr>\n",
       "    <tr>\n",
       "      <th>117</th>\n",
       "      <td>Claire</td>\n",
       "      <td>female</td>\n",
       "      <td>other_countries</td>\n",
       "      <td>NaN</td>\n",
       "      <td>unknown</td>\n",
       "      <td>0.0</td>\n",
       "      <td>0</td>\n",
       "    </tr>\n",
       "    <tr>\n",
       "      <th>...</th>\n",
       "      <td>...</td>\n",
       "      <td>...</td>\n",
       "      <td>...</td>\n",
       "      <td>...</td>\n",
       "      <td>...</td>\n",
       "      <td>...</td>\n",
       "      <td>...</td>\n",
       "    </tr>\n",
       "    <tr>\n",
       "      <th>3818</th>\n",
       "      <td>Bethany Noel</td>\n",
       "      <td>female</td>\n",
       "      <td>other_countries</td>\n",
       "      <td>NaN</td>\n",
       "      <td>unknown</td>\n",
       "      <td>0.0</td>\n",
       "      <td>0</td>\n",
       "    </tr>\n",
       "    <tr>\n",
       "      <th>3819</th>\n",
       "      <td>Florian Jan Fietje</td>\n",
       "      <td>male</td>\n",
       "      <td>other_countries</td>\n",
       "      <td>NaN</td>\n",
       "      <td>unknown</td>\n",
       "      <td>0.0</td>\n",
       "      <td>0</td>\n",
       "    </tr>\n",
       "    <tr>\n",
       "      <th>3820</th>\n",
       "      <td>Yaniel</td>\n",
       "      <td>male</td>\n",
       "      <td>other_countries</td>\n",
       "      <td>NaN</td>\n",
       "      <td>unknown</td>\n",
       "      <td>0.0</td>\n",
       "      <td>0</td>\n",
       "    </tr>\n",
       "    <tr>\n",
       "      <th>3821</th>\n",
       "      <td>Lars Fredrik</td>\n",
       "      <td>male</td>\n",
       "      <td>other_countries</td>\n",
       "      <td>NaN</td>\n",
       "      <td>unknown</td>\n",
       "      <td>0.0</td>\n",
       "      <td>0</td>\n",
       "    </tr>\n",
       "    <tr>\n",
       "      <th>3836</th>\n",
       "      <td>Noel Christopher</td>\n",
       "      <td>male</td>\n",
       "      <td>other_countries</td>\n",
       "      <td>NaN</td>\n",
       "      <td>unknown</td>\n",
       "      <td>0.0</td>\n",
       "      <td>0</td>\n",
       "    </tr>\n",
       "  </tbody>\n",
       "</table>\n",
       "<p>125 rows × 7 columns</p>\n",
       "</div>"
      ],
      "text/plain": [
       "                   names  gender          country country_id   Gender  \\\n",
       "96           Awar Simon     male  other_countries        NaN  unknown   \n",
       "104     Olufemi Adeyinka    male  other_countries        NaN  unknown   \n",
       "112            Francois     male  other_countries        NaN  unknown   \n",
       "115             Geoffrey    male  other_countries        NaN  unknown   \n",
       "117               Claire  female  other_countries        NaN  unknown   \n",
       "...                  ...     ...              ...        ...      ...   \n",
       "3818        Bethany Noel  female  other_countries        NaN  unknown   \n",
       "3819  Florian Jan Fietje    male  other_countries        NaN  unknown   \n",
       "3820              Yaniel    male  other_countries        NaN  unknown   \n",
       "3821        Lars Fredrik    male  other_countries        NaN  unknown   \n",
       "3836    Noel Christopher    male  other_countries        NaN  unknown   \n",
       "\n",
       "      Gender Probability  Gender Count  \n",
       "96                   0.0             0  \n",
       "104                  0.0             0  \n",
       "112                  0.0             0  \n",
       "115                  0.0             0  \n",
       "117                  0.0             0  \n",
       "...                  ...           ...  \n",
       "3818                 0.0             0  \n",
       "3819                 0.0             0  \n",
       "3820                 0.0             0  \n",
       "3821                 0.0             0  \n",
       "3836                 0.0             0  \n",
       "\n",
       "[125 rows x 7 columns]"
      ]
     },
     "execution_count": 135,
     "metadata": {},
     "output_type": "execute_result"
    }
   ],
   "source": [
    "CO[ CO['Gender'] == 'unknown']"
   ]
  },
  {
   "cell_type": "code",
   "execution_count": 137,
   "id": "a4dff45c-7129-437a-abc1-a809cb552687",
   "metadata": {},
   "outputs": [
    {
     "data": {
      "text/plain": [
       "(3967, 7)"
      ]
     },
     "execution_count": 137,
     "metadata": {},
     "output_type": "execute_result"
    }
   ],
   "source": [
    "CO.shape"
   ]
  },
  {
   "cell_type": "code",
   "execution_count": 139,
   "id": "c1605f36-64df-4a62-82cb-763bc580cb9a",
   "metadata": {},
   "outputs": [],
   "source": [
    "kk = CO[ CO['Gender'] == CO['gender'] ]"
   ]
  },
  {
   "cell_type": "code",
   "execution_count": 155,
   "id": "37d1fc70-8318-4d28-ab7a-c20f4d052cad",
   "metadata": {},
   "outputs": [
    {
     "data": {
      "text/plain": [
       "0.978488982161595"
      ]
     },
     "execution_count": 155,
     "metadata": {},
     "output_type": "execute_result"
    }
   ],
   "source": [
    " kk[kk['Gender Probability']>0.94].shape[0] /kk.shape[0]"
   ]
  },
  {
   "cell_type": "code",
   "execution_count": 131,
   "id": "1f413337-b2aa-421c-a169-2df30dc199a4",
   "metadata": {},
   "outputs": [
    {
     "data": {
      "text/plain": [
       "0.7058230400806654"
      ]
     },
     "execution_count": 131,
     "metadata": {},
     "output_type": "execute_result"
    }
   ],
   "source": [
    "28/CO.shape[0]*100"
   ]
  },
  {
   "cell_type": "code",
   "execution_count": null,
   "id": "8654203f-7764-4d17-b489-0119b2bfb26a",
   "metadata": {},
   "outputs": [],
   "source": [
    "f=open('data/inspire_LA.json','w')\n",
    "json.dump(df,f)\n",
    "f.close()"
   ]
  },
  {
   "cell_type": "markdown",
   "id": "f09b7662-9b0f-4f66-aca2-0d8f253110f9",
   "metadata": {},
   "source": [
    "## Analysis"
   ]
  },
  {
   "cell_type": "code",
   "execution_count": null,
   "id": "63baebb7-234b-45b7-b5d6-92a18a038504",
   "metadata": {},
   "outputs": [],
   "source": [
    "import pandas as pd"
   ]
  },
  {
   "cell_type": "code",
   "execution_count": null,
   "id": "ee1d9007-7a75-4384-bb97-be9b3648463f",
   "metadata": {},
   "outputs": [],
   "source": [
    "DF = pd.read_json('data/inspire_LA.json')"
   ]
  },
  {
   "cell_type": "markdown",
   "id": "b7b8e6e9-ba41-4b2e-a6c1-48b80262e150",
   "metadata": {},
   "source": [
    "Unique authors ids"
   ]
  },
  {
   "cell_type": "code",
   "execution_count": null,
   "id": "3e3383c9-8bd1-4178-a5d6-87bb5d323566",
   "metadata": {},
   "outputs": [],
   "source": [
    "DF.shape[0]"
   ]
  },
  {
   "cell_type": "code",
   "execution_count": null,
   "id": "0d8aa8c4-b000-4a16-b9d0-22326b950fae",
   "metadata": {},
   "outputs": [],
   "source": [
    "DF = DF.drop_duplicates('author_id').reset_index(drop=True)\n",
    "DF.shape[0]"
   ]
  },
  {
   "cell_type": "code",
   "execution_count": null,
   "id": "d0b78cb6-5062-41b4-9099-76d553f7f669",
   "metadata": {},
   "outputs": [],
   "source": [
    "DF['first_names'] = DF['name'].str.get('value').astype(str).str.split(', ').str[-1]#.apply(\n",
    "    #lambda s: sub('\\w\\.','',s)).str.replace('None','')"
   ]
  },
  {
   "cell_type": "code",
   "execution_count": null,
   "id": "bbaebdaf-f9cd-4e29-b00d-a6c323de804f",
   "metadata": {},
   "outputs": [],
   "source": [
    "DF['first_names'] = DF.apply(lambda row: str(row['full_name']).split(', ')[-1]  \n",
    "                             if row['first_names']=='None' \n",
    "                             else row['first_names'] ,axis = 'columns')"
   ]
  },
  {
   "cell_type": "code",
   "execution_count": null,
   "id": "f9c6a38e-e868-42be-9c90-febe8e827531",
   "metadata": {},
   "outputs": [],
   "source": [
    "DF['gender'].unique()"
   ]
  },
  {
   "cell_type": "code",
   "execution_count": null,
   "id": "b12ae0c7-4fbb-4163-85c8-69644f5ddd5e",
   "metadata": {},
   "outputs": [],
   "source": [
    "print(DF['gender'].shape[0])\n",
    "total = DF['gender'].dropna().shape[0]\n",
    "total"
   ]
  },
  {
   "cell_type": "code",
   "execution_count": null,
   "id": "02326a4a-0b90-4f51-bb4b-04b0582e7955",
   "metadata": {},
   "outputs": [],
   "source": [
    "male = DF[DF['gender'] == 'male'].shape[0]\n",
    "female = DF[DF['gender'] == 'female'].shape[0]\n",
    "unknown = DF[DF['gender'] == 'unknown'].shape[0]\n",
    "unknown = unknown + DF[DF['gender'] == 'andy'].shape[0]"
   ]
  },
  {
   "cell_type": "code",
   "execution_count": null,
   "id": "deaf10ed-0ecc-401a-baab-b120fa2b16ca",
   "metadata": {},
   "outputs": [],
   "source": [
    "assert male + female + unknown == total"
   ]
  },
  {
   "cell_type": "code",
   "execution_count": null,
   "id": "372ab852-ec5d-4213-9eab-59f9decf5b53",
   "metadata": {},
   "outputs": [],
   "source": [
    "male+female"
   ]
  },
  {
   "cell_type": "code",
   "execution_count": null,
   "id": "5e185cbb-060c-4282-9b45-cc250271a51f",
   "metadata": {},
   "outputs": [],
   "source": [
    "male"
   ]
  },
  {
   "cell_type": "code",
   "execution_count": null,
   "id": "85fa9f5b-85dc-4a71-8c50-91db22fda139",
   "metadata": {},
   "outputs": [],
   "source": [
    "female"
   ]
  },
  {
   "cell_type": "code",
   "execution_count": null,
   "id": "19eb39f3-163c-4fa4-896b-a95226b27c0e",
   "metadata": {},
   "outputs": [],
   "source": [
    "round(female/male,2)"
   ]
  },
  {
   "cell_type": "code",
   "execution_count": null,
   "id": "ec47d3e2-2e50-445d-b1b4-303cea966311",
   "metadata": {},
   "outputs": [],
   "source": [
    "unknown"
   ]
  },
  {
   "cell_type": "code",
   "execution_count": null,
   "id": "b132d164-3484-4213-9121-b19f7bd6d6e4",
   "metadata": {},
   "outputs": [],
   "source": [
    "DFFM = DF[ (( DF['gender'] == 'female') | ( DF['gender'] == 'male')) ]\n",
    "DFFM.shape"
   ]
  },
  {
   "cell_type": "code",
   "execution_count": null,
   "id": "04624db7-e0cb-47b0-bbe2-1cdb62244939",
   "metadata": {},
   "outputs": [],
   "source": [
    "DFU = DF[ ~(( DF['gender'] == 'female') | ( DF['gender'] == 'male')) ]\n",
    "DFU.shape"
   ]
  },
  {
   "cell_type": "code",
   "execution_count": null,
   "id": "bff53f45-632f-4d41-b2e9-e26d1c24740a",
   "metadata": {},
   "outputs": [],
   "source": [
    "DFFM[['author_id','first_names','country','gender']].sample(50)"
   ]
  },
  {
   "cell_type": "code",
   "execution_count": null,
   "id": "40caa1c4-5e7c-4b87-a1c8-aac53588df37",
   "metadata": {},
   "outputs": [],
   "source": [
    "#[['first_names','country','gender']]\n",
    "DFU.sample(50)[['author_id','full_name','name','country','gender']]"
   ]
  },
  {
   "cell_type": "markdown",
   "id": "f6987eed-023e-4cf5-b7eb-0075259ab853",
   "metadata": {},
   "source": [
    "check specific entries"
   ]
  },
  {
   "cell_type": "code",
   "execution_count": null,
   "id": "74ef8f43-72ec-4e15-8b79-6e0591ecc360",
   "metadata": {},
   "outputs": [],
   "source": [
    "JSON([d for d in df if d.get('author_id')=='F.Fontanot.3'][0])"
   ]
  },
  {
   "cell_type": "code",
   "execution_count": null,
   "id": "fb361aa0-f13c-40c0-a05e-ff1fc9743680",
   "metadata": {},
   "outputs": [],
   "source": [
    "import requests\n",
    "au = requests.get('https://inspirehep.net/api/authors?sort=bestmatch&size=250&page=1')\n",
    "if au.status_code == 200:\n",
    "    au = au.json()"
   ]
  },
  {
   "cell_type": "code",
   "execution_count": null,
   "id": "c90c78f9-3ba4-4e54-b353-e900510c8d00",
   "metadata": {},
   "outputs": [],
   "source": [
    "len(au['hits']['hits'])"
   ]
  },
  {
   "cell_type": "code",
   "execution_count": null,
   "id": "9e4e0529-e3d9-4ac2-8992-6fd992e8d74f",
   "metadata": {},
   "outputs": [],
   "source": [
    "au['links']['next']"
   ]
  },
  {
   "cell_type": "code",
   "execution_count": null,
   "id": "79d61e74-8a77-420d-9932-ff6a1f5c8cca",
   "metadata": {},
   "outputs": [],
   "source": [
    "# https://github.com/inspirehep/rest-api-doc/issues/20#issuecomment-997932079\n",
    "url='https://inspirehep.net/api/authors?sort=bestmatch&size=250&page=1&q=control_number:[1+TO+2852058]'\n",
    "au = requests.get(url)\n",
    "if au.status_code == 200:\n",
    "    au = au.json()"
   ]
  },
  {
   "cell_type": "code",
   "execution_count": null,
   "id": "0d2181d8-3668-4ee5-be14-9bb28c6f8481",
   "metadata": {},
   "outputs": [],
   "source": [
    "len(au['hits']['hits'])"
   ]
  },
  {
   "cell_type": "code",
   "execution_count": null,
   "id": "c422bc81-6ce8-4824-a601-587e358d845c",
   "metadata": {},
   "outputs": [],
   "source": [
    "au.status_code"
   ]
  },
  {
   "cell_type": "code",
   "execution_count": null,
   "id": "d9f93691-bc2a-4bf7-8981-85660f11940e",
   "metadata": {},
   "outputs": [],
   "source": [
    "au = requests.get(url)"
   ]
  },
  {
   "cell_type": "code",
   "execution_count": null,
   "id": "9e1042fd-2832-40ae-89c7-6be080a2fb5d",
   "metadata": {},
   "outputs": [],
   "source": [
    "step = 10000\n",
    "ini = 981872\n",
    "end = ini + step\n",
    "for i in range(187):\n",
    "    print(f'control_number:[{ini} TO {end}]')\n",
    "    ini = end + 1\n",
    "    end = ini + step"
   ]
  },
  {
   "cell_type": "code",
   "execution_count": null,
   "id": "1f4c16b0-0c0a-46da-9422-c3c865c45cd8",
   "metadata": {},
   "outputs": [],
   "source": []
  },
  {
   "cell_type": "code",
   "execution_count": null,
   "id": "01d13bed-874a-4e21-98fc-41c8314fce1e",
   "metadata": {},
   "outputs": [],
   "source": [
    "au.status_code"
   ]
  },
  {
   "cell_type": "code",
   "execution_count": null,
   "id": "bd87849b-d1b4-4e4d-88e7-c8a4f2088445",
   "metadata": {},
   "outputs": [],
   "source": [
    "len(au.json()['hits']['hits'])"
   ]
  },
  {
   "cell_type": "code",
   "execution_count": null,
   "id": "5f0aa2ce-7600-49d2-bfd5-4d1c83a9852e",
   "metadata": {},
   "outputs": [],
   "source": []
  }
 ],
 "metadata": {
  "kernelspec": {
   "display_name": "Python 3 (ipykernel)",
   "language": "python",
   "name": "python3"
  },
  "language_info": {
   "codemirror_mode": {
    "name": "ipython",
    "version": 3
   },
   "file_extension": ".py",
   "mimetype": "text/x-python",
   "name": "python",
   "nbconvert_exporter": "python",
   "pygments_lexer": "ipython3",
   "version": "3.12.3"
  }
 },
 "nbformat": 4,
 "nbformat_minor": 5
}
