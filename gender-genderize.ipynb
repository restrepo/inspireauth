{
 "cells": [
  {
   "cell_type": "markdown",
   "id": "9a5da8af-cf9f-47bf-ac1b-f2476cf8a59a",
   "metadata": {},
   "source": [
    "# Get gender"
   ]
  },
  {
   "cell_type": "markdown",
   "id": "24d09b56-2069-4d59-a1a7-58062055b5f5",
   "metadata": {},
   "source": [
    "## Add `'gender'` key to database"
   ]
  },
  {
   "cell_type": "code",
   "execution_count": 1,
   "id": "3e8d053a-784f-4c06-a11a-932afaa14056",
   "metadata": {},
   "outputs": [],
   "source": [
    "import requests\n",
    "from IPython.display import JSON\n",
    "from gender_guesser_first_names import gender\n",
    "from re import sub\n",
    "from re import search\n",
    "from re import UNICODE\n",
    "import json\n",
    "import country_converter as coco"
   ]
  },
  {
   "cell_type": "code",
   "execution_count": 266,
   "id": "54ab8b1e-7ae1-49ea-b8f1-ab8dfaa6e627",
   "metadata": {},
   "outputs": [],
   "source": [
    "LOCAL=False\n",
    "if LOCAL:\n",
    "    f=open('data/inspire_LA.json','r')\n",
    "    df=json.load(f)\n",
    "    f.close()\n",
    "else:\n",
    "    file ='https://github.com/restrepo/inspireauth/raw/main/data/inspire_LA.json'\n",
    "    #file = 'https://github.com/restrepo/inspireauth/raw/e92dd3e002f6931ded19fb450b5238e09665b34b/data/inspire_LA.json'\n",
    "    r=requests.get(file)\n",
    "    df=r.json()"
   ]
  },
  {
   "cell_type": "code",
   "execution_count": 3,
   "id": "8b485b40-c4fe-4c5c-9586-290ee1faae8d",
   "metadata": {},
   "outputs": [],
   "source": [
    "import pandas as pd"
   ]
  },
  {
   "cell_type": "code",
   "execution_count": 4,
   "id": "0e62c80d-c37c-4455-af49-4c155a628587",
   "metadata": {},
   "outputs": [
    {
     "name": "stdout",
     "output_type": "stream",
     "text": [
      "TOTAL: 57588\n",
      "Unique autors: 29979\n",
      "Remove first names with only intials: 20125 =             male:  16013 + female: 3253 + unknown: 10713.\n",
      "             \n",
      "Select found gender found probability from 95%: 17634\n",
      "female ratio at probability at 95%: 16.0%\n"
     ]
    }
   ],
   "source": [
    "UPDATED = True\n",
    "if UPDATED:\n",
    "    TMP  = pd.DataFrame(df)\n",
    "    TMPU = TMP.drop_duplicates('author_id').reset_index(drop=True)\n",
    "    TMPUI = TMPU[TMPU['first_names'].apply(len)>0].reset_index(drop=True)\n",
    "    TMPUA = TMPUI[TMPUI['gender_probability']>0.94].reset_index(drop=True)\n",
    "    \n",
    "    print(f'TOTAL: {TMP.shape[0]}')\n",
    "    print(f'Unique autors: {TMPU.shape[0]}')\n",
    "    print(f'''Remove first names with only intials: {TMPUI.shape[0]} = \\\n",
    "            male:  {TMPU[TMPU['gender']=='male'].shape[0]} + female: {\n",
    "                    TMPU[TMPU['gender']=='female'].shape[0]} + unknown: {\n",
    "                    TMPU[TMPU['gender']=='unknown'].shape[0]}.\n",
    "             ''')\n",
    "    print(f'Select found gender found probability from 95%: {TMPUA.shape[0]}')\n",
    "    print(f'female ratio at probability at 95%: { \n",
    "                   round(TMPUA[TMPUA['gender']=='female'].shape[0]/(TMPUA[TMPUA['gender']=='female'].shape[0] + TMPUA[TMPUA['gender']=='male'].shape[0]),2)*100  }%')"
   ]
  },
  {
   "cell_type": "markdown",
   "id": "9e6f688f-88a3-4db0-8358-c0abb46e5421",
   "metadata": {},
   "source": [
    "Fill missing `author_id`s with `unknown` + counter "
   ]
  },
  {
   "cell_type": "code",
   "execution_count": 29,
   "id": "b55f03fc-c510-4cd6-9a4c-17a3ad0747da",
   "metadata": {},
   "outputs": [
    {
     "data": {
      "text/plain": [
       "((57588, 15), (57588, 15))"
      ]
     },
     "execution_count": 29,
     "metadata": {},
     "output_type": "execute_result"
    }
   ],
   "source": [
    "DF = pd.DataFrame(df)\n",
    "DFA = DF[~DF['author_id'].isna()]\n",
    "DF.shape,DFA.shape"
   ]
  },
  {
   "cell_type": "code",
   "execution_count": 30,
   "id": "f8874f1a-327f-4b7d-a615-310ed02904c4",
   "metadata": {},
   "outputs": [],
   "source": [
    "unkown_prefix = 'unknown'\n",
    "DFB = DF[DF['author_id'].isna()].reset_index(drop=True)\n",
    "DFB['author_id']=[f'{unkown_prefix}{str(x).zfill(2)}' for x in range(DFB.shape[0])]"
   ]
  },
  {
   "cell_type": "code",
   "execution_count": 31,
   "id": "896104c6-0521-4b36-b073-6d01b287176f",
   "metadata": {},
   "outputs": [],
   "source": [
    "TMP = DFB[DFB.duplicated(subset='full_name',keep=False)].sort_values('author_id')\n",
    "\n",
    "#https://saturncloud.io/blog/how-to-update-a-cell-value-in-pandas-dataframe\n",
    "i_analysed = []\n",
    "for i in TMP.index:\n",
    "    if i not in i_analysed:\n",
    "        print(i)\n",
    "        # Extract each set of duplicates\n",
    "        full_name = TMP.loc[i,'full_name']\n",
    "        author_id = TMP.loc[i,'author_id']\n",
    "        i_analysed = i_analysed + list(TMP.loc[TMP['full_name'] == full_name].index)\n",
    "        DF.loc[ (DF['full_name'] == full_name) & (DF['author_id'].str.contains(unkown_prefix)) , 'author_id'] = author_id\n",
    "\n",
    "del TMP"
   ]
  },
  {
   "cell_type": "code",
   "execution_count": 32,
   "id": "281a8b7a-b43b-4c5c-915c-cca8b3d9d077",
   "metadata": {},
   "outputs": [
    {
     "data": {
      "text/plain": [
       "(57588, 15)"
      ]
     },
     "execution_count": 32,
     "metadata": {},
     "output_type": "execute_result"
    }
   ],
   "source": [
    "DF = pd.concat((DFA,DFB)).reset_index(drop=True)\n",
    "del DFA\n",
    "del DFB\n",
    "DF.shape"
   ]
  },
  {
   "cell_type": "markdown",
   "id": "46e68608-2e85-407b-91b0-1674d20a1c5d",
   "metadata": {},
   "source": [
    "Prepare names and countries for `gender_guesser` and [https://genderize.io](https://genderize.io) csv input"
   ]
  },
  {
   "cell_type": "code",
   "execution_count": 33,
   "id": "be88c0d0-239a-4ee1-9f53-e8d75c5269b5",
   "metadata": {},
   "outputs": [],
   "source": [
    "def remove_initials(d):\n",
    "    '''\n",
    "     Get names from `name.value` and if empty get it from `full_name`\n",
    "     and using `country` information if avalaible\n",
    "    '''\n",
    "    if (d.get('name') and d.get('name').get('value') ):\n",
    "        first_names = d.get('name').get('value').split(', ')[-1].replace('-',' ').strip()\n",
    "    elif d.get('full_name'):\n",
    "        first_names = d.get('full_name').split(', ')[-1].replace('-',' ').strip()\n",
    "    else:\n",
    "        first_names = ''\n",
    "    x = first_names\n",
    "    x = sub(r'[\\|†•]','',x).strip()\n",
    "    x = sub(r'\\.',' ',   x, UNICODE).strip()\n",
    "    x = sub(r'\\s\\w\\s','',x, UNICODE).strip()\n",
    "    x = sub(r'^\\w\\s','',x, UNICODE).strip()\n",
    "    x = sub(r'\\s\\w$','',x, UNICODE).strip()\n",
    "    x = sub(r'^\\w$','',x, UNICODE).strip()\n",
    "    x = sub(r'^[A-Z]{2}$','',x, UNICODE)\n",
    "    \n",
    "    return x"
   ]
  },
  {
   "cell_type": "code",
   "execution_count": 34,
   "id": "7c155226-5bf8-4766-9a0c-cbd377627b3b",
   "metadata": {},
   "outputs": [],
   "source": [
    "DF['names'] = DF.apply(lambda d: remove_initials(d), axis='columns')"
   ]
  },
  {
   "cell_type": "code",
   "execution_count": 35,
   "id": "1ba00a5d-fa64-4422-afbc-1b14adf410ca",
   "metadata": {},
   "outputs": [],
   "source": [
    "DFU = DF[['country']].drop_duplicates()"
   ]
  },
  {
   "cell_type": "code",
   "execution_count": 36,
   "id": "505890f4-7a65-40a4-a77f-57ce17774197",
   "metadata": {},
   "outputs": [
    {
     "name": "stderr",
     "output_type": "stream",
     "text": [
      "None not found in regex\n"
     ]
    }
   ],
   "source": [
    "DFU['country_id'] = DFU['country'].astype(str).replace('Serbia and Montenegro','Serbia').apply(lambda c: coco.convert(names=c, to='ISO2')).replace('not found','')"
   ]
  },
  {
   "cell_type": "code",
   "execution_count": 37,
   "id": "a4487d51-d3cf-4529-b7b6-f4e18c3bf2f1",
   "metadata": {},
   "outputs": [],
   "source": [
    "DF = DF.merge(DFU,on='country',how='left')"
   ]
  },
  {
   "cell_type": "code",
   "execution_count": 38,
   "id": "e65a3deb-83da-45c9-b97c-148669ddb726",
   "metadata": {},
   "outputs": [],
   "source": [
    "del DFU"
   ]
  },
  {
   "cell_type": "code",
   "execution_count": 39,
   "id": "a9098d6e-0b66-441e-b26d-a6586e032c59",
   "metadata": {},
   "outputs": [
    {
     "data": {
      "text/plain": [
       "array(['VE', 'CL'], dtype=object)"
      ]
     },
     "execution_count": 39,
     "metadata": {},
     "output_type": "execute_result"
    }
   ],
   "source": [
    "DF['country_id'].unique()[:2]"
   ]
  },
  {
   "cell_type": "code",
   "execution_count": 40,
   "id": "6a229871-7a05-4165-a3e4-c705e68ee76b",
   "metadata": {},
   "outputs": [
    {
     "data": {
      "text/plain": [
       "(29979, 4)"
      ]
     },
     "execution_count": 40,
     "metadata": {},
     "output_type": "execute_result"
    }
   ],
   "source": [
    "DFU = DF[['author_id','names','country','country_id']].rename({'names':'name'},axis='columns').drop_duplicates('author_id').reset_index(drop=True)\n",
    "DFU.shape"
   ]
  },
  {
   "cell_type": "markdown",
   "id": "831c31b6-3f40-4848-8ac0-198bf764d2ad",
   "metadata": {},
   "source": [
    "`gender_guesser`"
   ]
  },
  {
   "cell_type": "code",
   "execution_count": 41,
   "id": "4a764dc2-4463-46f5-84cd-646c7d245dce",
   "metadata": {},
   "outputs": [],
   "source": [
    "D=gender.Detector(case_sensitive=False)\n",
    "def force_get_gender(d,first_names='names'):\n",
    "    '''\n",
    "     Get names from `name.value` and if empty get it from `full_name`\n",
    "     and using `country` information if avalaible\n",
    "    '''\n",
    "    gender = 'unknown'\n",
    "    names = d.get(first_names)\n",
    "    if names:\n",
    "        if d.get('country'):\n",
    "            gender = D.get_gender( names, country=d.get('country').strip() )\n",
    "        else:\n",
    "            gender = D.get_gender( names )\n",
    "    return gender"
   ]
  },
  {
   "cell_type": "code",
   "execution_count": 42,
   "id": "29d11a9b-026c-431e-9805-2e329f6e78f9",
   "metadata": {},
   "outputs": [],
   "source": [
    "DFU['gender'] = DFU.apply(lambda d: force_get_gender(d,first_names='name'), axis='columns')"
   ]
  },
  {
   "cell_type": "code",
   "execution_count": 43,
   "id": "a41eaa28-44af-437e-80ee-323d498e4696",
   "metadata": {},
   "outputs": [
    {
     "data": {
      "text/plain": [
       "(29979, 5)"
      ]
     },
     "execution_count": 43,
     "metadata": {},
     "output_type": "execute_result"
    }
   ],
   "source": [
    "DFU.shape"
   ]
  },
  {
   "cell_type": "markdown",
   "id": "4eae1f4a-0275-4e5c-9757-b5bb7156f47b",
   "metadata": {},
   "source": [
    "[https://genderize.io](https://genderize.io) csv input"
   ]
  },
  {
   "cell_type": "code",
   "execution_count": 44,
   "id": "530b494a-61b6-4555-aa0b-b098fb320197",
   "metadata": {},
   "outputs": [
    {
     "data": {
      "text/plain": [
       "(29979, 20125, 9854, 0.33)"
      ]
     },
     "execution_count": 44,
     "metadata": {},
     "output_type": "execute_result"
    }
   ],
   "source": [
    "DFUA = DFU[DFU['name'].apply(len)>0].reset_index(drop=True)\n",
    "DFUB = DFU[DFU['name'].apply(len)==0].reset_index(drop=True)\n",
    "DFU.shape[0], DFUA.shape[0], DFUB.shape[0],round( DFUB.shape[0] / DFU.shape[0],2)"
   ]
  },
  {
   "cell_type": "code",
   "execution_count": 45,
   "id": "ec2d1fb6-ab64-40e1-b4fa-9e67699af6b2",
   "metadata": {},
   "outputs": [
    {
     "data": {
      "text/plain": [
       "Index(['author_id', 'name', 'country', 'country_id', 'gender'], dtype='object')"
      ]
     },
     "execution_count": 45,
     "metadata": {},
     "output_type": "execute_result"
    }
   ],
   "source": [
    "DFUA.columns"
   ]
  },
  {
   "cell_type": "code",
   "execution_count": 46,
   "id": "f1fb9e78-210b-4704-81ff-82abf4a1e2f7",
   "metadata": {},
   "outputs": [
    {
     "data": {
      "text/html": [
       "<div>\n",
       "<style scoped>\n",
       "    .dataframe tbody tr th:only-of-type {\n",
       "        vertical-align: middle;\n",
       "    }\n",
       "\n",
       "    .dataframe tbody tr th {\n",
       "        vertical-align: top;\n",
       "    }\n",
       "\n",
       "    .dataframe thead th {\n",
       "        text-align: right;\n",
       "    }\n",
       "</style>\n",
       "<table border=\"1\" class=\"dataframe\">\n",
       "  <thead>\n",
       "    <tr style=\"text-align: right;\">\n",
       "      <th></th>\n",
       "      <th>author_id</th>\n",
       "      <th>name</th>\n",
       "      <th>country</th>\n",
       "      <th>country_id</th>\n",
       "      <th>gender</th>\n",
       "    </tr>\n",
       "  </thead>\n",
       "  <tbody>\n",
       "    <tr>\n",
       "      <th>0</th>\n",
       "      <td>H.Albrecht.1</td>\n",
       "      <td>Hartwig</td>\n",
       "      <td>Venezuela</td>\n",
       "      <td>VE</td>\n",
       "      <td>male</td>\n",
       "    </tr>\n",
       "    <tr>\n",
       "      <th>1</th>\n",
       "      <td>D.M.B.R.1</td>\n",
       "      <td>David Bellorin</td>\n",
       "      <td>Venezuela</td>\n",
       "      <td>VE</td>\n",
       "      <td>male</td>\n",
       "    </tr>\n",
       "    <tr>\n",
       "      <th>2</th>\n",
       "      <td>D.F.Mundarain.1</td>\n",
       "      <td>Douglas</td>\n",
       "      <td>Chile</td>\n",
       "      <td>CL</td>\n",
       "      <td>male</td>\n",
       "    </tr>\n",
       "    <tr>\n",
       "      <th>3</th>\n",
       "      <td>R.Gaitan.2</td>\n",
       "      <td>Rolando</td>\n",
       "      <td>Venezuela</td>\n",
       "      <td>VE</td>\n",
       "      <td>male</td>\n",
       "    </tr>\n",
       "    <tr>\n",
       "      <th>4</th>\n",
       "      <td>J.Ntahompagaze.1</td>\n",
       "      <td>Joseph</td>\n",
       "      <td>Rwanda</td>\n",
       "      <td>RW</td>\n",
       "      <td>male</td>\n",
       "    </tr>\n",
       "    <tr>\n",
       "      <th>...</th>\n",
       "      <td>...</td>\n",
       "      <td>...</td>\n",
       "      <td>...</td>\n",
       "      <td>...</td>\n",
       "      <td>...</td>\n",
       "    </tr>\n",
       "    <tr>\n",
       "      <th>20120</th>\n",
       "      <td>R.Weber.2</td>\n",
       "      <td>Ronald</td>\n",
       "      <td>Brazil</td>\n",
       "      <td>BR</td>\n",
       "      <td>male</td>\n",
       "    </tr>\n",
       "    <tr>\n",
       "      <th>20121</th>\n",
       "      <td>H.J.Drescher.1</td>\n",
       "      <td>Hans Joachim</td>\n",
       "      <td>Germany</td>\n",
       "      <td>DE</td>\n",
       "      <td>male</td>\n",
       "    </tr>\n",
       "    <tr>\n",
       "      <th>20122</th>\n",
       "      <td>A.A.P.Videira.1</td>\n",
       "      <td>AntonioP</td>\n",
       "      <td>Brazil</td>\n",
       "      <td>BR</td>\n",
       "      <td>unknown</td>\n",
       "    </tr>\n",
       "    <tr>\n",
       "      <th>20123</th>\n",
       "      <td>A.Mocsy.1</td>\n",
       "      <td>Agnes</td>\n",
       "      <td>United States</td>\n",
       "      <td>US</td>\n",
       "      <td>female</td>\n",
       "    </tr>\n",
       "    <tr>\n",
       "      <th>20124</th>\n",
       "      <td>R.Nicolsky.1</td>\n",
       "      <td>Roberto</td>\n",
       "      <td>Brazil</td>\n",
       "      <td>BR</td>\n",
       "      <td>male</td>\n",
       "    </tr>\n",
       "  </tbody>\n",
       "</table>\n",
       "<p>20125 rows × 5 columns</p>\n",
       "</div>"
      ],
      "text/plain": [
       "              author_id            name        country country_id   gender\n",
       "0          H.Albrecht.1         Hartwig      Venezuela         VE     male\n",
       "1             D.M.B.R.1  David Bellorin      Venezuela         VE     male\n",
       "2       D.F.Mundarain.1         Douglas          Chile         CL     male\n",
       "3            R.Gaitan.2         Rolando      Venezuela         VE     male\n",
       "4      J.Ntahompagaze.1          Joseph         Rwanda         RW     male\n",
       "...                 ...             ...            ...        ...      ...\n",
       "20120         R.Weber.2          Ronald         Brazil         BR     male\n",
       "20121    H.J.Drescher.1    Hans Joachim        Germany         DE     male\n",
       "20122   A.A.P.Videira.1        AntonioP         Brazil         BR  unknown\n",
       "20123         A.Mocsy.1           Agnes  United States         US   female\n",
       "20124      R.Nicolsky.1         Roberto         Brazil         BR     male\n",
       "\n",
       "[20125 rows x 5 columns]"
      ]
     },
     "execution_count": 46,
     "metadata": {},
     "output_type": "execute_result"
    }
   ],
   "source": [
    "DFUA"
   ]
  },
  {
   "cell_type": "code",
   "execution_count": 47,
   "id": "1a609ea5-5f74-478c-8f82-8d8bc77903bd",
   "metadata": {},
   "outputs": [
    {
     "data": {
      "text/plain": [
       "(20125, 5)"
      ]
     },
     "execution_count": 47,
     "metadata": {},
     "output_type": "execute_result"
    }
   ],
   "source": [
    "DFUA.shape"
   ]
  },
  {
   "cell_type": "code",
   "execution_count": 48,
   "id": "5a02d951-1a87-4b00-b11a-37f6cd995573",
   "metadata": {},
   "outputs": [],
   "source": [
    "DFUA.to_csv('/home/restrepo/Downloads/genderize.csv',index=False)"
   ]
  },
  {
   "cell_type": "markdown",
   "id": "0855cb1d-335f-4bc0-8b28-6b21d08d8efb",
   "metadata": {},
   "source": [
    "Analysis of  [https://genderize.io](https://genderize.io) csv output"
   ]
  },
  {
   "cell_type": "code",
   "execution_count": 53,
   "id": "4beded56-6baf-490f-8a6d-1cbf27788b14",
   "metadata": {},
   "outputs": [],
   "source": [
    "csv = 'data/genderize.csv'\n",
    "DFUA = pd.read_csv(csv)"
   ]
  },
  {
   "cell_type": "code",
   "execution_count": 54,
   "id": "8ab7a53b-e874-4273-baec-bba0c96aea12",
   "metadata": {},
   "outputs": [],
   "source": [
    "DFU = pd.concat((DFUA,DFUB)).reset_index(drop=True)"
   ]
  },
  {
   "cell_type": "code",
   "execution_count": 55,
   "id": "a9440e33-1460-4236-b881-901c0591a15f",
   "metadata": {},
   "outputs": [
    {
     "data": {
      "text/html": [
       "<div>\n",
       "<style scoped>\n",
       "    .dataframe tbody tr th:only-of-type {\n",
       "        vertical-align: middle;\n",
       "    }\n",
       "\n",
       "    .dataframe tbody tr th {\n",
       "        vertical-align: top;\n",
       "    }\n",
       "\n",
       "    .dataframe thead th {\n",
       "        text-align: right;\n",
       "    }\n",
       "</style>\n",
       "<table border=\"1\" class=\"dataframe\">\n",
       "  <thead>\n",
       "    <tr style=\"text-align: right;\">\n",
       "      <th></th>\n",
       "      <th>author_id</th>\n",
       "      <th>name</th>\n",
       "      <th>country</th>\n",
       "      <th>country_id</th>\n",
       "      <th>gender</th>\n",
       "      <th>Gender</th>\n",
       "      <th>Gender Probability</th>\n",
       "      <th>Gender Count</th>\n",
       "    </tr>\n",
       "  </thead>\n",
       "  <tbody>\n",
       "    <tr>\n",
       "      <th>0</th>\n",
       "      <td>H.Albrecht.1</td>\n",
       "      <td>Hartwig</td>\n",
       "      <td>Venezuela</td>\n",
       "      <td>VE</td>\n",
       "      <td>male</td>\n",
       "      <td>unknown</td>\n",
       "      <td>0.0</td>\n",
       "      <td>0.0</td>\n",
       "    </tr>\n",
       "  </tbody>\n",
       "</table>\n",
       "</div>"
      ],
      "text/plain": [
       "      author_id     name    country country_id gender   Gender  \\\n",
       "0  H.Albrecht.1  Hartwig  Venezuela         VE   male  unknown   \n",
       "\n",
       "   Gender Probability  Gender Count  \n",
       "0                 0.0           0.0  "
      ]
     },
     "execution_count": 55,
     "metadata": {},
     "output_type": "execute_result"
    }
   ],
   "source": [
    "DFU['Gender'] = DFU['Gender'].fillna('unknown')\n",
    "DFU['Gender Probability'] = DFU['Gender Probability'].fillna(0)\n",
    "DFU['Gender Count'] = DFU['Gender Count'].fillna(0)\n",
    "DFU[:1]"
   ]
  },
  {
   "cell_type": "code",
   "execution_count": 56,
   "id": "f12111a1-267e-4ce3-9b11-1bda2db936f0",
   "metadata": {},
   "outputs": [
    {
     "name": "stdout",
     "output_type": "stream",
     "text": [
      "gender-guesser, genderize.io\n"
     ]
    },
    {
     "data": {
      "text/plain": [
       "((16968, 8), (19266, 8))"
      ]
     },
     "execution_count": 56,
     "metadata": {},
     "output_type": "execute_result"
    }
   ],
   "source": [
    "print('gender-guesser, genderize.io')\n",
    "DFU[DFU['gender'].apply(lambda s: s in ['male','female'])].shape, DFU[DFU['Gender'].apply(lambda s: s in ['male','female'])].shape"
   ]
  },
  {
   "cell_type": "markdown",
   "id": "0c610c20-dd9a-4437-ac7d-29a72970a02f",
   "metadata": {},
   "source": [
    "Update official dataset"
   ]
  },
  {
   "cell_type": "code",
   "execution_count": 57,
   "id": "88ced6d7-949b-42e4-9bce-7e18d0619f20",
   "metadata": {},
   "outputs": [],
   "source": [
    "d_gender = dict(zip( DFU['author_id'], DFU['Gender'] ) )\n",
    "d_first_names = dict(zip( DFU['author_id'], DFU.rename({'name':'first_names'},axis='columns')['first_names'] ) )\n",
    "d_prob   = dict(zip( DFU['author_id'], DFU['Gender Probability'] ) )\n",
    "unknown = DF[DF['author_id'].str.contains('unknown')]\n",
    "d_author_id = dict(zip(unknown['full_name'],unknown['author_id']))"
   ]
  },
  {
   "cell_type": "code",
   "execution_count": 58,
   "id": "08c38161-26b0-4b51-bef7-cac0d3980f3d",
   "metadata": {},
   "outputs": [],
   "source": [
    "UPDATE = False\n",
    "if UPDATE:\n",
    "    for author_id in DFU['author_id']:\n",
    "        kk = [d.update( {'first_names': d_first_names[author_id], \n",
    "                         'gender':      d_gender[author_id] ,\n",
    "                         'gender_probability': d_prob[author_id]  } )\n",
    "                  for d in df if d.get('author_id') == author_id]"
   ]
  },
  {
   "cell_type": "code",
   "execution_count": 6,
   "id": "3a71b6d0-42b5-4386-b004-42058c20d1f7",
   "metadata": {},
   "outputs": [
    {
     "name": "stdout",
     "output_type": "stream",
     "text": [
      "TOTAL: 57588\n",
      "Unique autors: 29979\n",
      "Remove first names with only intials: 20125 =         male:  16013 + female: 3253 + unknown: 10713.\n",
      "         \n",
      "Select found gender found probability from 95%: 17954\n",
      "female ratio at probability at 95%: 16.0%\n"
     ]
    }
   ],
   "source": [
    "TMP  = pd.DataFrame(df)\n",
    "TMPU = TMP.drop_duplicates('author_id').reset_index(drop=True)\n",
    "TMPUI = TMPU[TMPU['first_names'].apply(len)>0].reset_index(drop=True)\n",
    "TMPUA = TMPUI[TMPUI['gender_probability']>0.9].reset_index(drop=True)\n",
    "\n",
    "print(f'TOTAL: {TMP.shape[0]}')\n",
    "print(f'Unique autors: {TMPU.shape[0]}')\n",
    "print(f'''Remove first names with only intials: {TMPUI.shape[0]} = \\\n",
    "        male:  {TMPU[TMPU['gender']=='male'].shape[0]} + female: {\n",
    "                TMPU[TMPU['gender']=='female'].shape[0]} + unknown: {\n",
    "                TMPU[TMPU['gender']=='unknown'].shape[0]}.\n",
    "         ''')\n",
    "print(f'Select found gender found probability from 95%: {TMPUA.shape[0]}')\n",
    "print(f'female ratio at probability at 95%: { \n",
    "               round(TMPUA[TMPUA['gender']=='female'].shape[0]/(TMPUA[TMPUA['gender']=='female'].shape[0] + TMPUA[TMPUA['gender']=='male'].shape[0]),2)*100  }%')"
   ]
  },
  {
   "cell_type": "code",
   "execution_count": 59,
   "id": "f1a66ea0-e3a5-404f-b29c-2af5880ce6c5",
   "metadata": {},
   "outputs": [
    {
     "name": "stdout",
     "output_type": "stream",
     "text": [
      "TOTAL: 57588\n",
      "Unique autors: 29979\n",
      "Remove first names with only intials: 20125 =         male:  16013 + female: 3253 + unknown: 10713.\n",
      "         \n",
      "Select found gender found probability from 95%: 17634\n",
      "female ratio at probability at 95%: 16.0%\n"
     ]
    }
   ],
   "source": [
    "TMP  = pd.DataFrame(df)\n",
    "TMPU = TMP.drop_duplicates('author_id').reset_index(drop=True)\n",
    "TMPUI = TMPU[TMPU['first_names'].apply(len)>0].reset_index(drop=True)\n",
    "TMPUA = TMPUI[TMPUI['gender_probability']>0.94].reset_index(drop=True)\n",
    "\n",
    "print(f'TOTAL: {TMP.shape[0]}')\n",
    "print(f'Unique autors: {TMPU.shape[0]}')\n",
    "print(f'''Remove first names with only intials: {TMPUI.shape[0]} = \\\n",
    "        male:  {TMPU[TMPU['gender']=='male'].shape[0]} + female: {\n",
    "                TMPU[TMPU['gender']=='female'].shape[0]} + unknown: {\n",
    "                TMPU[TMPU['gender']=='unknown'].shape[0]}.\n",
    "         ''')\n",
    "print(f'Select found gender found probability from 95%: {TMPUA.shape[0]}')\n",
    "print(f'female ratio at probability at 95%: { \n",
    "               round(TMPUA[TMPUA['gender']=='female'].shape[0]/(TMPUA[TMPUA['gender']=='female'].shape[0] + TMPUA[TMPUA['gender']=='male'].shape[0]),2)*100  }%')"
   ]
  },
  {
   "cell_type": "code",
   "execution_count": 60,
   "id": "69480f2e-0c20-4770-924f-38a477ab2743",
   "metadata": {},
   "outputs": [],
   "source": [
    "DUMP = False\n",
    "if DUMP:\n",
    "    f=open('data/inspire_LA.json','w')\n",
    "    json.dump(df,f)\n",
    "    f.close()"
   ]
  },
  {
   "cell_type": "markdown",
   "id": "7c6383b7-51a9-4693-ad0a-d4e75fcca294",
   "metadata": {},
   "source": [
    "Check test dataset with [https://genderize.io](https://genderize.io)"
   ]
  },
  {
   "cell_type": "code",
   "execution_count": 114,
   "id": "9d033ae2-b0c1-4f1f-9929-a5c748e2e521",
   "metadata": {},
   "outputs": [
    {
     "data": {
      "text/plain": [
       "(3967, 3)"
      ]
     },
     "execution_count": 114,
     "metadata": {},
     "output_type": "execute_result"
    }
   ],
   "source": [
    "COT = pd.read_json('https://raw.githubusercontent.com/colav-playground/gender_guesser_first_names/refs/heads/main/data/test_gender.json')\n",
    "COT.shape"
   ]
  },
  {
   "cell_type": "code",
   "execution_count": 117,
   "id": "08aefd57-620a-4449-befc-0dd22892bb89",
   "metadata": {},
   "outputs": [],
   "source": [
    "COT[:681].to_csv('data/test_gender_NC.csv',index = False)"
   ]
  },
  {
   "cell_type": "code",
   "execution_count": 113,
   "id": "4cf0f31c-ccfe-4b62-b8c5-e9c066621371",
   "metadata": {},
   "outputs": [],
   "source": [
    "UPDATE_CO = False\n",
    "if UPDATE_CO:\n",
    "    CO = COT.copy()\n",
    "    CO = pd.read_json('https://raw.githubusercontent.com/colav-playground/gender_guesser_first_names/refs/heads/main/data/test_gender.json')\n",
    "    CO['country_id'] = CO['country'].astype(str).apply(lambda c: coco.convert(names=c, to='ISO2')).replace('not found','')\n",
    "    CO[CO['country'] == 'other_countries'].to_csv('/home/restrepo/Downloads/test_gender2.csv',index=False)\n",
    "    CO.to_csv('/home/restrepo/Downloads/test_gender.csv',index=False)"
   ]
  },
  {
   "cell_type": "markdown",
   "id": "db54728b-8f63-40ee-a298-7ffc62be7f81",
   "metadata": {},
   "source": [
    "Analysis of  [https://genderize.io](https://genderize.io) test csv output"
   ]
  },
  {
   "cell_type": "code",
   "execution_count": 50,
   "id": "5c572ca9-6f59-4427-a030-94982ae16d94",
   "metadata": {},
   "outputs": [],
   "source": [
    "UPDATE_OC = False\n",
    "if UPDATE_OC:\n",
    "    COLD = pd.read_csv('data/test_gender2.csv')    \n",
    "    CO = pd.read_csv('data/test_gender.csv')\n",
    "    \n",
    "    CO = CO[CO['gender']!='L'].reset_index(drop=True)\n",
    "    \n",
    "    CO1 = CO[CO['country'] != 'other_countries'].reset_index(drop=True)\n",
    "    CO2 = CO[CO['country'] == 'other_countries'].reset_index(drop=True)\n",
    "    CO.shape[0], CO1.shape[0] + CO2.shape[0] \n",
    "    \n",
    "    CO2 = CO2[['names', 'gender', 'country', 'country_id']].merge(\n",
    "         COLD[['names', 'Gender','Gender Probability', 'Gender Count']],\n",
    "                on = 'names', how = 'left').fillna('')\n",
    "    \n",
    "    CO = pd.concat((CO1,CO2)).reset_index(drop=True)\n",
    "    CO.to_csv('data/test_gender.csv',index=False)"
   ]
  },
  {
   "cell_type": "code",
   "execution_count": 129,
   "id": "045ce173-8407-48df-980d-ba9d70cf9ffe",
   "metadata": {},
   "outputs": [],
   "source": [
    "CO = pd.read_csv('data/test_gender.csv')\n",
    "#CO = pd.read_csv('data/test_gender_NC631.csv')"
   ]
  },
  {
   "cell_type": "markdown",
   "id": "03c14321-60fc-4023-b81a-9f431259bbb2",
   "metadata": {},
   "source": [
    "confusion matrix"
   ]
  },
  {
   "cell_type": "code",
   "execution_count": 130,
   "id": "d11ac1a6-877e-47f4-92fe-8946464c39fe",
   "metadata": {},
   "outputs": [],
   "source": [
    "CM = {'male':{},'female':{}}"
   ]
  },
  {
   "cell_type": "code",
   "execution_count": 131,
   "id": "8ab4ab5c-4fac-412c-bdc8-e066084bde7a",
   "metadata": {},
   "outputs": [],
   "source": [
    "for i in ['male','female']:\n",
    "    for j in ['male','female','unknown']:\n",
    "        CM[i][j] = CO[ (CO['gender'] == i) & (CO['Gender'] == j)].shape[0]"
   ]
  },
  {
   "cell_type": "code",
   "execution_count": 132,
   "id": "6c751f3e-2ffb-42b1-bc6e-f6b39ff1e030",
   "metadata": {},
   "outputs": [],
   "source": [
    "CO90 = CO.copy(deep=True)\n",
    "CO90['Gender'] = CO.apply(lambda d: 'unknown' if d['Gender Probability'] < 0.9 else d['Gender'],axis = 'columns')"
   ]
  },
  {
   "cell_type": "code",
   "execution_count": 134,
   "id": "63ec6771-c7f9-4e6d-8e71-44b19a388003",
   "metadata": {},
   "outputs": [],
   "source": [
    "CM90 = {'male':{},'female':{}}\n",
    "for i in ['male','female']:\n",
    "    for j in ['male','female','unknown']:\n",
    "        CM90[i][j] = CO90[ (CO90['gender'] == i) & (CO90['Gender'] == j)].shape[0]"
   ]
  },
  {
   "cell_type": "code",
   "execution_count": 150,
   "id": "b1f8a976-f112-4622-965d-242f9aa31285",
   "metadata": {},
   "outputs": [
    {
     "name": "stdout",
     "output_type": "stream",
     "text": [
      "error 0.8379888268156425 %\n",
      "accuracy 99.16201117318437 %  → 1.0\n",
      "errorNA 1.5132408575031526 %\n",
      "positivity 99.13710450623202%   99.19006479481641%\n",
      "recall 99.27988478156506% 99.02964959568733%\n"
     ]
    }
   ],
   "source": [
    "def error(CM):\n",
    "    return (CM['male']['female'] + CM['female']['male'])/(\n",
    "            CM['male']['male'] + CM['female']['female'] + CM['male']['female'] + CM['female']['male'])\n",
    "def accuracy(CM):\n",
    "    return (CM['male']['male'] + CM['female']['female'])/(\n",
    "            CM['male']['male'] + CM['female']['female'] + CM['male']['female'] + CM['female']['male'])\n",
    "\n",
    "\n",
    "def errorNA(CM):\n",
    "    return (CM['male']['female'] + CM['female']['male'] + CM['male']['unknown'] + CM['female']['unknown'] )/(\n",
    "            CM['male']['male'] + CM['female']['female'] + CM['male']['female'] + CM['female']['male'] + \n",
    "            CM['male']['unknown'] + CM['female']['unknown'])\n",
    "def postitivity(CM,category='male'):\n",
    "    # False positive (FP) denotes the number of samples incorrectly classified as positive. \n",
    "    # False negative (FN) denotes the number of samples incorrectly classified as negative.\n",
    "    if category == 'male':\n",
    "        anti_category = 'female'\n",
    "    else:\n",
    "        anti_category = 'male'\n",
    "        \n",
    "    return (CM[category][category])/(\n",
    "            CM[category][category] + CM[anti_category][category])    # FP\n",
    "def recall(CM,category='male'):\n",
    "    if category == 'male':\n",
    "        anti_category = 'female'\n",
    "    else:\n",
    "        anti_category = 'male'\n",
    "        \n",
    "    return (CM[category][category])/(\n",
    "            CM[category][category] + CM[category][anti_category])    #FN\n",
    "\n",
    "\n",
    "print( f'error {error(CM)*100} %' )\n",
    "print( f'accuracy {accuracy(CM)*100} %  → {error(CM) + accuracy(CM)}' )\n",
    "print( f'errorNA {errorNA(CM)*100} %' )\n",
    "print( f'positivity {postitivity(CM)*100}%   {postitivity(CM,category=\"female\")*100}%'   )\n",
    "print( f'recall {recall(CM)*100}% {recall(CM,category=\"female\")*100}%' )"
   ]
  },
  {
   "cell_type": "code",
   "execution_count": 138,
   "id": "2a4fd347-72b3-4e71-b769-08dfa353881a",
   "metadata": {},
   "outputs": [
    {
     "data": {
      "text/plain": [
       "1.0"
      ]
     },
     "execution_count": 138,
     "metadata": {},
     "output_type": "execute_result"
    }
   ],
   "source": [
    "postitivity(CM) + error(CM)"
   ]
  },
  {
   "cell_type": "code",
   "execution_count": 151,
   "id": "a270780e-3bfb-4c83-ba53-76e2a41ed50b",
   "metadata": {},
   "outputs": [
    {
     "name": "stdout",
     "output_type": "stream",
     "text": [
      "error90 0.6168080185042405%\n",
      "accuracy90 99.38319198149576 %  → 1.0\n",
      "errorNA90 2.471626733921816%\n"
     ]
    }
   ],
   "source": [
    "print( f'error90 {error(CM90)*100}%' )\n",
    "print( f'accuracy90 {accuracy(CM90)*100} %  → {error(CM) + accuracy(CM)}' )\n",
    "print( f'errorNA90 {errorNA(CM90)*100}%')"
   ]
  },
  {
   "cell_type": "code",
   "execution_count": 107,
   "id": "643d39cd-968a-41ee-aeb7-fbd59b701b90",
   "metadata": {},
   "outputs": [
    {
     "data": {
      "text/plain": [
       "0.6168080185042405"
      ]
     },
     "execution_count": 107,
     "metadata": {},
     "output_type": "execute_result"
    }
   ],
   "source": [
    "error(CM90)*100"
   ]
  },
  {
   "cell_type": "code",
   "execution_count": 96,
   "id": "6322ea2b-e99e-4b00-a723-a9be64211ddb",
   "metadata": {},
   "outputs": [
    {
     "data": {
      "text/html": [
       "<div>\n",
       "<style scoped>\n",
       "    .dataframe tbody tr th:only-of-type {\n",
       "        vertical-align: middle;\n",
       "    }\n",
       "\n",
       "    .dataframe tbody tr th {\n",
       "        vertical-align: top;\n",
       "    }\n",
       "\n",
       "    .dataframe thead th {\n",
       "        text-align: right;\n",
       "    }\n",
       "</style>\n",
       "<table border=\"1\" class=\"dataframe\">\n",
       "  <thead>\n",
       "    <tr style=\"text-align: right;\">\n",
       "      <th></th>\n",
       "      <th>names</th>\n",
       "      <th>gender</th>\n",
       "      <th>country</th>\n",
       "      <th>country_id</th>\n",
       "      <th>Gender</th>\n",
       "      <th>Gender Probability</th>\n",
       "      <th>Gender Count</th>\n",
       "    </tr>\n",
       "  </thead>\n",
       "  <tbody>\n",
       "    <tr>\n",
       "      <th>1</th>\n",
       "      <td>Jefferson Alejandro</td>\n",
       "      <td>male</td>\n",
       "      <td>colombia</td>\n",
       "      <td>CO</td>\n",
       "      <td>male</td>\n",
       "      <td>1.00</td>\n",
       "      <td>17</td>\n",
       "    </tr>\n",
       "    <tr>\n",
       "      <th>2</th>\n",
       "      <td>Jhon Jairo</td>\n",
       "      <td>male</td>\n",
       "      <td>colombia</td>\n",
       "      <td>CO</td>\n",
       "      <td>male</td>\n",
       "      <td>1.00</td>\n",
       "      <td>19782</td>\n",
       "    </tr>\n",
       "    <tr>\n",
       "      <th>9</th>\n",
       "      <td>Jose Luis</td>\n",
       "      <td>male</td>\n",
       "      <td>colombia</td>\n",
       "      <td>CO</td>\n",
       "      <td>male</td>\n",
       "      <td>1.00</td>\n",
       "      <td>15204</td>\n",
       "    </tr>\n",
       "    <tr>\n",
       "      <th>10</th>\n",
       "      <td>Danilo</td>\n",
       "      <td>male</td>\n",
       "      <td>colombia</td>\n",
       "      <td>CO</td>\n",
       "      <td>male</td>\n",
       "      <td>1.00</td>\n",
       "      <td>12188</td>\n",
       "    </tr>\n",
       "    <tr>\n",
       "      <th>13</th>\n",
       "      <td>Francisco Ivan</td>\n",
       "      <td>male</td>\n",
       "      <td>colombia</td>\n",
       "      <td>CO</td>\n",
       "      <td>male</td>\n",
       "      <td>1.00</td>\n",
       "      <td>37775</td>\n",
       "    </tr>\n",
       "    <tr>\n",
       "      <th>...</th>\n",
       "      <td>...</td>\n",
       "      <td>...</td>\n",
       "      <td>...</td>\n",
       "      <td>...</td>\n",
       "      <td>...</td>\n",
       "      <td>...</td>\n",
       "      <td>...</td>\n",
       "    </tr>\n",
       "    <tr>\n",
       "      <th>3955</th>\n",
       "      <td>Volodymyr</td>\n",
       "      <td>male</td>\n",
       "      <td>other_countries</td>\n",
       "      <td>NaN</td>\n",
       "      <td>male</td>\n",
       "      <td>1.00</td>\n",
       "      <td>2958</td>\n",
       "    </tr>\n",
       "    <tr>\n",
       "      <th>3961</th>\n",
       "      <td>Florian Jan Fietje</td>\n",
       "      <td>male</td>\n",
       "      <td>other_countries</td>\n",
       "      <td>NaN</td>\n",
       "      <td>unknow</td>\n",
       "      <td>0.89</td>\n",
       "      <td>343839</td>\n",
       "    </tr>\n",
       "    <tr>\n",
       "      <th>3962</th>\n",
       "      <td>Yaniel</td>\n",
       "      <td>male</td>\n",
       "      <td>other_countries</td>\n",
       "      <td>NaN</td>\n",
       "      <td>male</td>\n",
       "      <td>0.98</td>\n",
       "      <td>592</td>\n",
       "    </tr>\n",
       "    <tr>\n",
       "      <th>3963</th>\n",
       "      <td>Lars Fredrik</td>\n",
       "      <td>male</td>\n",
       "      <td>other_countries</td>\n",
       "      <td>NaN</td>\n",
       "      <td>male</td>\n",
       "      <td>1.00</td>\n",
       "      <td>7</td>\n",
       "    </tr>\n",
       "    <tr>\n",
       "      <th>3964</th>\n",
       "      <td>Noel Christopher</td>\n",
       "      <td>male</td>\n",
       "      <td>other_countries</td>\n",
       "      <td>NaN</td>\n",
       "      <td>male</td>\n",
       "      <td>1.00</td>\n",
       "      <td>5</td>\n",
       "    </tr>\n",
       "  </tbody>\n",
       "</table>\n",
       "<p>2100 rows × 7 columns</p>\n",
       "</div>"
      ],
      "text/plain": [
       "                    names gender          country country_id  Gender  \\\n",
       "1     Jefferson Alejandro   male         colombia         CO    male   \n",
       "2              Jhon Jairo   male         colombia         CO    male   \n",
       "9               Jose Luis   male         colombia         CO    male   \n",
       "10                 Danilo   male         colombia         CO    male   \n",
       "13        Francisco Ivan    male         colombia         CO    male   \n",
       "...                   ...    ...              ...        ...     ...   \n",
       "3955            Volodymyr   male  other_countries        NaN    male   \n",
       "3961   Florian Jan Fietje   male  other_countries        NaN  unknow   \n",
       "3962               Yaniel   male  other_countries        NaN    male   \n",
       "3963         Lars Fredrik   male  other_countries        NaN    male   \n",
       "3964     Noel Christopher   male  other_countries        NaN    male   \n",
       "\n",
       "      Gender Probability  Gender Count  \n",
       "1                   1.00            17  \n",
       "2                   1.00         19782  \n",
       "9                   1.00         15204  \n",
       "10                  1.00         12188  \n",
       "13                  1.00         37775  \n",
       "...                  ...           ...  \n",
       "3955                1.00          2958  \n",
       "3961                0.89        343839  \n",
       "3962                0.98           592  \n",
       "3963                1.00             7  \n",
       "3964                1.00             5  \n",
       "\n",
       "[2100 rows x 7 columns]"
      ]
     },
     "execution_count": 96,
     "metadata": {},
     "output_type": "execute_result"
    }
   ],
   "source": [
    "i = 'male'\n",
    "j = 'unknown'\n",
    "CO90[ (CO90['gender'] == i) ]"
   ]
  },
  {
   "cell_type": "code",
   "execution_count": 15,
   "id": "65eb4f6b-d158-49dd-8177-474aad5f18bd",
   "metadata": {},
   "outputs": [],
   "source": [
    "COK = CO[ CO['Gender'] != 'unknown'] # male or female\n"
   ]
  },
  {
   "cell_type": "code",
   "execution_count": 16,
   "id": "4e0befdc-b1c5-4b95-aa3d-46ec6c6a414c",
   "metadata": {},
   "outputs": [
    {
     "name": "stdout",
     "output_type": "stream",
     "text": [
      "Number of errors: 33\n",
      "Error: 0.84 %. Includes low Gender Probability\n"
     ]
    }
   ],
   "source": [
    "COW = COK[  (COK['gender'] != COK['Gender']) ]\n",
    "print(f'Number of errors: {COW.shape[0]}')\n",
    "print( f'Error: {round(COW.shape[0]/COK.shape[0]*100,2)} %. Includes low Gender Probability')"
   ]
  },
  {
   "cell_type": "code",
   "execution_count": 19,
   "id": "e0b06b42-3690-4663-b8d1-f3805bcb2f66",
   "metadata": {},
   "outputs": [],
   "source": [
    "precision = 0.9\n",
    "good_quality = COK[(COK['Gender Probability'] >= precision)].shape[0]\n",
    "wrong_good_quality = COK[(COK['Gender Probability'] >= precision) & (COK['gender'] != COK['Gender'])].shape[0]\n",
    "bad_quality = COK[(COK['Gender Probability'] < precision)].shape[0]\n",
    "wrong_bad_quality = COK[(COK['Gender Probability'] < precision) & (COK['gender'] != COK['Gender'])].shape[0]"
   ]
  },
  {
   "cell_type": "code",
   "execution_count": 20,
   "id": "544f9353-d49e-4c86-af39-17cb6a9030bc",
   "metadata": {},
   "outputs": [
    {
     "name": "stdout",
     "output_type": "stream",
     "text": [
      "good_quality_error: 0.62 %\n",
      "bad_quality_error : 19.15 %\n"
     ]
    }
   ],
   "source": [
    "print(f'good_quality_error: {round(wrong_good_quality/good_quality*100,2)} %' )\n",
    "print(f'bad_quality_error : {round( wrong_bad_quality/ bad_quality*100,2)} %' )"
   ]
  },
  {
   "cell_type": "markdown",
   "id": "cd58f63a-4eac-44be-9907-1b6f0509a0bc",
   "metadata": {},
   "source": [
    "with `precision = 0.95`:\n",
    "\n",
    "good_quality_error: 0.57 %\n",
    "\n",
    "bad_quality_error : 11.22 %"
   ]
  },
  {
   "cell_type": "markdown",
   "id": "3e693e72-cf79-45fc-b684-b7d52a427672",
   "metadata": {},
   "source": [
    "Conclusion: Is important to guarantee good quality"
   ]
  },
  {
   "cell_type": "code",
   "execution_count": 229,
   "id": "bb570965-8a0e-49cb-9e28-ec2f7fccdf8a",
   "metadata": {},
   "outputs": [
    {
     "name": "stdout",
     "output_type": "stream",
     "text": [
      "female ratio: 47.0 %\n"
     ]
    }
   ],
   "source": [
    "print(f'female ratio: {round(CO[CO['Gender']=='female'].shape[0]/(CO[CO['Gender']=='female'].shape[0] + CO[CO['Gender']=='male'].shape[0]),2)*100} %')"
   ]
  },
  {
   "cell_type": "code",
   "execution_count": 231,
   "id": "da21388c-45b5-49b2-bfd8-213a0272939f",
   "metadata": {},
   "outputs": [
    {
     "name": "stdout",
     "output_type": "stream",
     "text": [
      "unknowns: 27\n",
      "unknown: 0.68 %\n"
     ]
    }
   ],
   "source": [
    "print(f'unknowns: {CO[ CO['Gender'] == 'unknown'].shape[0]}')\n",
    "print(f'unknown: {round(CO[ CO['Gender'] == 'unknown'].shape[0]/CO.shape[0]*100,2)} %')"
   ]
  },
  {
   "cell_type": "markdown",
   "id": "f09b7662-9b0f-4f66-aca2-0d8f253110f9",
   "metadata": {},
   "source": [
    "## Analysis"
   ]
  },
  {
   "cell_type": "code",
   "execution_count": 1,
   "id": "63baebb7-234b-45b7-b5d6-92a18a038504",
   "metadata": {},
   "outputs": [],
   "source": [
    "import pandas as pd\n",
    "import requests"
   ]
  },
  {
   "cell_type": "code",
   "execution_count": 2,
   "id": "57b214f0-71b0-4544-9763-bdcdeef2cb6a",
   "metadata": {},
   "outputs": [],
   "source": [
    "DF = pd.read_json('data/inspire_LA.json',dtype={'institution_id':str, 'author_id':str})"
   ]
  },
  {
   "cell_type": "code",
   "execution_count": 3,
   "id": "eb26992e-da49-49dc-acc1-71a912c32f18",
   "metadata": {},
   "outputs": [],
   "source": [
    "#DF = pd.DataFrame(df)"
   ]
  },
  {
   "cell_type": "markdown",
   "id": "66c7bb74-4d14-4577-b691-4021f3908d32",
   "metadata": {},
   "source": [
    "Test: Colombia"
   ]
  },
  {
   "cell_type": "code",
   "execution_count": 4,
   "id": "1841a3ff-b481-4fde-b706-cd937164f51f",
   "metadata": {},
   "outputs": [],
   "source": [
    "Test = False\n",
    "if Test:\n",
    "    country = 'Colombia'\n",
    "    DF = DF[DF['country'] == country].reset_index(drop = True)"
   ]
  },
  {
   "cell_type": "code",
   "execution_count": 5,
   "id": "ee1d9007-7a75-4384-bb97-be9b3648463f",
   "metadata": {},
   "outputs": [],
   "source": [
    "#DF = pd.read_json('data/inspire_LA.json')"
   ]
  },
  {
   "cell_type": "markdown",
   "id": "b7b8e6e9-ba41-4b2e-a6c1-48b80262e150",
   "metadata": {},
   "source": [
    "Unique authors ids"
   ]
  },
  {
   "cell_type": "code",
   "execution_count": 6,
   "id": "3e3383c9-8bd1-4178-a5d6-87bb5d323566",
   "metadata": {},
   "outputs": [
    {
     "data": {
      "text/plain": [
       "(29979,)"
      ]
     },
     "execution_count": 6,
     "metadata": {},
     "output_type": "execute_result"
    }
   ],
   "source": [
    "DF['author_id'].unique().shape"
   ]
  },
  {
   "cell_type": "code",
   "execution_count": 7,
   "id": "32177644-dd0b-4113-950e-1d3c1b9fa465",
   "metadata": {},
   "outputs": [],
   "source": [
    "#DF[DF['gender'].apply(lambda g: g in ['male','female'])]"
   ]
  },
  {
   "cell_type": "code",
   "execution_count": 8,
   "id": "16dd57e3-6a03-4d84-8207-f947172b5037",
   "metadata": {},
   "outputs": [
    {
     "data": {
      "text/plain": [
       "(11315,)"
      ]
     },
     "execution_count": 8,
     "metadata": {},
     "output_type": "execute_result"
    }
   ],
   "source": [
    "DF.dropna(subset=['positions'])['author_id'].unique().shape"
   ]
  },
  {
   "cell_type": "code",
   "execution_count": 9,
   "id": "6f7274fd-3b7e-4ad2-af3c-614de9c0c97a",
   "metadata": {},
   "outputs": [],
   "source": [
    "kk = DF[['institution_id','country']].to_dict(orient = 'list')\n",
    "dc = dict(zip( [x if isinstance(x,str) else x for x in kk['institution_id']], kk['country']))\n",
    "kk = DF[['institution_id','institution']].to_dict(orient = 'list')\n",
    "di = dict(zip( [x if isinstance(x,str) else x for x in kk['institution_id']], kk['institution']))"
   ]
  },
  {
   "cell_type": "markdown",
   "id": "b7034324-0cdd-4528-a0fd-9f022f7bd3a7",
   "metadata": {},
   "source": [
    "### General counts"
   ]
  },
  {
   "cell_type": "code",
   "execution_count": 10,
   "id": "e92dfd41-6fdc-4273-aaa4-e16a48779c1f",
   "metadata": {},
   "outputs": [],
   "source": [
    "#dp = pd.DataFrame(flatten_list(DF['papers'].to_list()))"
   ]
  },
  {
   "cell_type": "code",
   "execution_count": 11,
   "id": "a5b5f160-78c9-4f1b-930a-dc73d6315caf",
   "metadata": {},
   "outputs": [],
   "source": [
    "dp = pd.DataFrame(DF.papers.apply(pd.Series).stack().to_list()).reset_index(\n",
    "        drop=True\n",
    "    )"
   ]
  },
  {
   "cell_type": "code",
   "execution_count": 44,
   "id": "ca74b52e-bb7b-462f-802e-f07a26d0c48e",
   "metadata": {},
   "outputs": [],
   "source": [
    "dp['year'] = dp['year'].fillna(0).astype(str).str.replace('None','0').astype(int)"
   ]
  },
  {
   "cell_type": "code",
   "execution_count": 12,
   "id": "c06c2a5b-9748-4f62-a76b-ece15564f3f0",
   "metadata": {},
   "outputs": [
    {
     "data": {
      "text/plain": [
       "(886011, 13)"
      ]
     },
     "execution_count": 12,
     "metadata": {},
     "output_type": "execute_result"
    }
   ],
   "source": [
    "dp.shape"
   ]
  },
  {
   "cell_type": "code",
   "execution_count": 13,
   "id": "aea28a42-acb7-496c-bb6d-85fbdf28721b",
   "metadata": {},
   "outputs": [],
   "source": [
    "dp['country'] =  dp.apply(lambda d: str(d['country']).replace('nan',str(dc.get( d['institution_id']))\n",
    "                                   ).replace('None',str(dc.get( d['institution_id']))\n",
    "                                            ),axis='columns')"
   ]
  },
  {
   "cell_type": "code",
   "execution_count": 14,
   "id": "bfce4746-00f2-4ba3-bbde-5f2d5401b9d7",
   "metadata": {},
   "outputs": [],
   "source": [
    "dp['institution'] =  dp.apply(lambda d: str(d['institution']).replace('nan',str(di.get( d['institution_id']))\n",
    "                                   ).replace('None',str(di.get( d['institution_id']))\n",
    "                                            ),axis='columns')"
   ]
  },
  {
   "cell_type": "code",
   "execution_count": 15,
   "id": "276daf93-d493-4002-9d05-f230224f17bd",
   "metadata": {},
   "outputs": [
    {
     "data": {
      "text/html": [
       "<div>\n",
       "<style scoped>\n",
       "    .dataframe tbody tr th:only-of-type {\n",
       "        vertical-align: middle;\n",
       "    }\n",
       "\n",
       "    .dataframe tbody tr th {\n",
       "        vertical-align: top;\n",
       "    }\n",
       "\n",
       "    .dataframe thead th {\n",
       "        text-align: right;\n",
       "    }\n",
       "</style>\n",
       "<table border=\"1\" class=\"dataframe\">\n",
       "  <thead>\n",
       "    <tr style=\"text-align: right;\">\n",
       "      <th></th>\n",
       "      <th>recid</th>\n",
       "      <th>year</th>\n",
       "      <th>citation_count</th>\n",
       "      <th>primary_arxiv_category</th>\n",
       "      <th>journal_id</th>\n",
       "      <th>author_id</th>\n",
       "      <th>institution_id</th>\n",
       "      <th>rank</th>\n",
       "      <th>start_date</th>\n",
       "      <th>end_date</th>\n",
       "      <th>institution</th>\n",
       "      <th>country</th>\n",
       "      <th>current</th>\n",
       "    </tr>\n",
       "  </thead>\n",
       "  <tbody>\n",
       "    <tr>\n",
       "      <th>0</th>\n",
       "      <td>2023395</td>\n",
       "      <td>2021</td>\n",
       "      <td>1</td>\n",
       "      <td>[quant-ph]</td>\n",
       "      <td>None</td>\n",
       "      <td>H.Albrecht.1</td>\n",
       "      <td>912061</td>\n",
       "      <td>NaN</td>\n",
       "      <td>NaN</td>\n",
       "      <td>NaN</td>\n",
       "      <td>Unlisted, VE</td>\n",
       "      <td>Venezuela</td>\n",
       "      <td>NaN</td>\n",
       "    </tr>\n",
       "    <tr>\n",
       "      <th>1</th>\n",
       "      <td>2068608</td>\n",
       "      <td>2022</td>\n",
       "      <td>0</td>\n",
       "      <td>[quant-ph]</td>\n",
       "      <td>None</td>\n",
       "      <td>H.Albrecht.1</td>\n",
       "      <td>912061</td>\n",
       "      <td>NaN</td>\n",
       "      <td>NaN</td>\n",
       "      <td>NaN</td>\n",
       "      <td>Unlisted, VE</td>\n",
       "      <td>Venezuela</td>\n",
       "      <td>NaN</td>\n",
       "    </tr>\n",
       "    <tr>\n",
       "      <th>2</th>\n",
       "      <td>2023395</td>\n",
       "      <td>2021</td>\n",
       "      <td>1</td>\n",
       "      <td>[quant-ph]</td>\n",
       "      <td>None</td>\n",
       "      <td>D.M.B.R.1</td>\n",
       "      <td>912061</td>\n",
       "      <td>NaN</td>\n",
       "      <td>NaN</td>\n",
       "      <td>NaN</td>\n",
       "      <td>Unlisted, VE</td>\n",
       "      <td>Venezuela</td>\n",
       "      <td>NaN</td>\n",
       "    </tr>\n",
       "  </tbody>\n",
       "</table>\n",
       "</div>"
      ],
      "text/plain": [
       "     recid  year  citation_count primary_arxiv_category journal_id  \\\n",
       "0  2023395  2021               1             [quant-ph]       None   \n",
       "1  2068608  2022               0             [quant-ph]       None   \n",
       "2  2023395  2021               1             [quant-ph]       None   \n",
       "\n",
       "      author_id institution_id rank start_date end_date   institution  \\\n",
       "0  H.Albrecht.1         912061  NaN        NaN      NaN  Unlisted, VE   \n",
       "1  H.Albrecht.1         912061  NaN        NaN      NaN  Unlisted, VE   \n",
       "2     D.M.B.R.1         912061  NaN        NaN      NaN  Unlisted, VE   \n",
       "\n",
       "     country current  \n",
       "0  Venezuela     NaN  \n",
       "1  Venezuela     NaN  \n",
       "2  Venezuela     NaN  "
      ]
     },
     "execution_count": 15,
     "metadata": {},
     "output_type": "execute_result"
    }
   ],
   "source": [
    "dp[:3]"
   ]
  },
  {
   "cell_type": "markdown",
   "id": "3c25fa84-89fd-441d-9840-2b17a733d7b3",
   "metadata": {},
   "source": [
    "recid = 1375014\n",
    "url = f'https://inspirehep.net/api/literature?q=recid:{recid}'\n",
    "r = requests.get(url)"
   ]
  },
  {
   "cell_type": "markdown",
   "id": "ae59716b-bf88-4a07-a2e7-621001d5671a",
   "metadata": {},
   "source": [
    "dp.shape # → 886011"
   ]
  },
  {
   "cell_type": "markdown",
   "id": "b607b371-1dec-4b1f-8a80-af9f389be6c6",
   "metadata": {},
   "source": [
    "Unique papers"
   ]
  },
  {
   "cell_type": "code",
   "execution_count": 16,
   "id": "f5e616f4-1475-4a0e-bc12-8c63942e4612",
   "metadata": {},
   "outputs": [
    {
     "data": {
      "text/plain": [
       "(886011, 13)"
      ]
     },
     "execution_count": 16,
     "metadata": {},
     "output_type": "execute_result"
    }
   ],
   "source": [
    "dp[dp['recid'].astype(str).str.contains(r'^[0-9]{3,6}')].shape"
   ]
  },
  {
   "cell_type": "markdown",
   "id": "a1466787-777c-4f01-b998-fbbeadd84c12",
   "metadata": {},
   "source": [
    "Check Country"
   ]
  },
  {
   "cell_type": "code",
   "execution_count": 17,
   "id": "c192edba-d1bb-4571-b2af-d272920c4fa7",
   "metadata": {},
   "outputs": [],
   "source": [
    "if Test:\n",
    "    #All papers 2024\n",
    "    c = requests.get(f'https://inspirehep.net/api/institutions?sort=mostrecent&size=250&page=1&q={country}')\n",
    "    print(sum( [d['metadata']['number_of_papers'] for d in c.json()['hits']['hits'] ]))"
   ]
  },
  {
   "cell_type": "code",
   "execution_count": 18,
   "id": "eeb542b8-3b6d-4f3c-af9e-050ce39df85f",
   "metadata": {},
   "outputs": [
    {
     "data": {
      "text/plain": [
       "(49181, 13)"
      ]
     },
     "execution_count": 18,
     "metadata": {},
     "output_type": "execute_result"
    }
   ],
   "source": [
    "dp.drop_duplicates('recid').shape # → 49181"
   ]
  },
  {
   "cell_type": "code",
   "execution_count": 19,
   "id": "b35f03bf-484f-440a-a380-0588293025df",
   "metadata": {},
   "outputs": [],
   "source": [
    "#dp = dp[~dp['author_id'].isna()].reset_index(drop=True)"
   ]
  },
  {
   "cell_type": "markdown",
   "id": "6aefa9e4-8a34-403a-932c-98d14bd9c139",
   "metadata": {},
   "source": [
    "We must remove all duplicated authors and multiple affiliations for each `recid` entry:"
   ]
  },
  {
   "cell_type": "code",
   "execution_count": 20,
   "id": "25e96030-6b5b-42e0-896f-ee521aef02be",
   "metadata": {},
   "outputs": [],
   "source": [
    "dp_old = dp.copy()"
   ]
  },
  {
   "cell_type": "code",
   "execution_count": 21,
   "id": "f5b8c0a7-ac3c-4b9b-bf28-1842a97a27ca",
   "metadata": {},
   "outputs": [],
   "source": [
    "def tag_country(s,country):\n",
    "    if s == country:\n",
    "        return f'0-{country}'\n",
    "    else:\n",
    "        return '1-Other'"
   ]
  },
  {
   "cell_type": "code",
   "execution_count": 22,
   "id": "5ded26a0-caee-4f2d-b7b4-137f367ac807",
   "metadata": {},
   "outputs": [],
   "source": [
    "country = 'Colombia'\n",
    "SELECT_COUNTRY = True\n",
    "if SELECT_COUNTRY:\n",
    "    dp['tag_country'] = dp['country'].apply(lambda s: tag_country(s,country))\n",
    "    dp = dp.sort_values('tag_country').reset_index(drop=True)"
   ]
  },
  {
   "cell_type": "code",
   "execution_count": 23,
   "id": "a496e995-f135-4bc8-b9ba-515f2351296b",
   "metadata": {},
   "outputs": [],
   "source": [
    "dp = dp.drop_duplicates(subset=['recid', 'year', 'citation_count', 'journal_id', 'author_id']).reset_index(drop=True)"
   ]
  },
  {
   "cell_type": "code",
   "execution_count": 24,
   "id": "c7eca3fb-fe4b-4768-a8ee-0d7d87c67ef5",
   "metadata": {},
   "outputs": [
    {
     "data": {
      "text/plain": [
       "(139960, 14)"
      ]
     },
     "execution_count": 24,
     "metadata": {},
     "output_type": "execute_result"
    }
   ],
   "source": [
    "dp.shape"
   ]
  },
  {
   "cell_type": "code",
   "execution_count": 25,
   "id": "fe23e699-8621-4e03-955e-cce30f0137bd",
   "metadata": {},
   "outputs": [],
   "source": [
    "dp = dp.merge(DF.drop_duplicates('author_id').rename({'institution_id':'institution_id_p',\n",
    "                                                      'institution': 'institution_p',\n",
    "                                                      'country':'country_p'\t},axis='columns'),on = 'author_id',how ='left')"
   ]
  },
  {
   "cell_type": "code",
   "execution_count": 26,
   "id": "035eec45-c6be-4593-abba-3825b464bfaf",
   "metadata": {},
   "outputs": [],
   "source": [
    "pd.set_option('display.max_columns', 500)"
   ]
  },
  {
   "cell_type": "code",
   "execution_count": 27,
   "id": "e46cbe94-7f63-4920-a86c-537d2c587348",
   "metadata": {},
   "outputs": [
    {
     "data": {
      "text/plain": [
       "(139960, 28)"
      ]
     },
     "execution_count": 27,
     "metadata": {},
     "output_type": "execute_result"
    }
   ],
   "source": [
    "dp.shape"
   ]
  },
  {
   "cell_type": "markdown",
   "id": "6f4ff978-604f-4e7b-b4cc-35fc638b8c24",
   "metadata": {},
   "source": [
    "Example with female coauthor"
   ]
  },
  {
   "cell_type": "code",
   "execution_count": 28,
   "id": "38f120f8-41ba-4bca-83dc-882c50eb5c57",
   "metadata": {},
   "outputs": [
    {
     "data": {
      "text/html": [
       "<div>\n",
       "<style scoped>\n",
       "    .dataframe tbody tr th:only-of-type {\n",
       "        vertical-align: middle;\n",
       "    }\n",
       "\n",
       "    .dataframe tbody tr th {\n",
       "        vertical-align: top;\n",
       "    }\n",
       "\n",
       "    .dataframe thead th {\n",
       "        text-align: right;\n",
       "    }\n",
       "</style>\n",
       "<table border=\"1\" class=\"dataframe\">\n",
       "  <thead>\n",
       "    <tr style=\"text-align: right;\">\n",
       "      <th></th>\n",
       "      <th>recid</th>\n",
       "      <th>year</th>\n",
       "      <th>citation_count</th>\n",
       "      <th>primary_arxiv_category</th>\n",
       "      <th>journal_id</th>\n",
       "      <th>author_id</th>\n",
       "      <th>institution_id</th>\n",
       "      <th>rank</th>\n",
       "      <th>start_date</th>\n",
       "      <th>end_date</th>\n",
       "      <th>institution</th>\n",
       "      <th>country</th>\n",
       "      <th>current</th>\n",
       "      <th>tag_country</th>\n",
       "      <th>country_p</th>\n",
       "      <th>email_addresses</th>\n",
       "      <th>full_name</th>\n",
       "      <th>ids</th>\n",
       "      <th>institution_p</th>\n",
       "      <th>institution_id_p</th>\n",
       "      <th>name</th>\n",
       "      <th>papers</th>\n",
       "      <th>positions</th>\n",
       "      <th>profile_id</th>\n",
       "      <th>advisors</th>\n",
       "      <th>gender</th>\n",
       "      <th>first_names</th>\n",
       "      <th>gender_probability</th>\n",
       "    </tr>\n",
       "  </thead>\n",
       "  <tbody>\n",
       "    <tr>\n",
       "      <th>873</th>\n",
       "      <td>677884</td>\n",
       "      <td>2005</td>\n",
       "      <td>54</td>\n",
       "      <td>[hep-ph]</td>\n",
       "      <td>1213103</td>\n",
       "      <td>D.Restrepo.1</td>\n",
       "      <td>903906</td>\n",
       "      <td>SENIOR</td>\n",
       "      <td>2004</td>\n",
       "      <td>None</td>\n",
       "      <td>Antioquia U.</td>\n",
       "      <td>Colombia</td>\n",
       "      <td>True</td>\n",
       "      <td>0-Colombia</td>\n",
       "      <td>Colombia</td>\n",
       "      <td>[{'value': 'restrepo@udea.edu.co', 'current': ...</td>\n",
       "      <td>Restrepo, Diego</td>\n",
       "      <td>[{'value': 'D.Restrepo.1', 'schema': 'INSPIRE ...</td>\n",
       "      <td>Antioquia U.</td>\n",
       "      <td>903906</td>\n",
       "      <td>{'value': 'Restrepo Quintero, Diego Alejandro'...</td>\n",
       "      <td>[{'recid': 926166, 'year': '2012', 'citation_c...</td>\n",
       "      <td>[{'rank': 'SENIOR', 'hidden': False, 'record':...</td>\n",
       "      <td>991924.0</td>\n",
       "      <td>[{'ids': [{'value': 'INSPIRE-00133260', 'schem...</td>\n",
       "      <td>male</td>\n",
       "      <td>Diego Alejandro</td>\n",
       "      <td>0.99</td>\n",
       "    </tr>\n",
       "    <tr>\n",
       "      <th>93166</th>\n",
       "      <td>677884</td>\n",
       "      <td>2005</td>\n",
       "      <td>54</td>\n",
       "      <td>[hep-ph]</td>\n",
       "      <td>1213103</td>\n",
       "      <td>Werner.Porod.1</td>\n",
       "      <td>907907</td>\n",
       "      <td>NaN</td>\n",
       "      <td>NaN</td>\n",
       "      <td>NaN</td>\n",
       "      <td>Valencia U., IFIC</td>\n",
       "      <td>Spain</td>\n",
       "      <td>NaN</td>\n",
       "      <td>1-Other</td>\n",
       "      <td>Germany</td>\n",
       "      <td>[{'value': 'porod@physik.uni-wuerzburg.de', 'c...</td>\n",
       "      <td>Porod, Werner</td>\n",
       "      <td>[{'value': '0000-0002-0248-6556', 'schema': 'O...</td>\n",
       "      <td>Wurzburg U.</td>\n",
       "      <td>903355</td>\n",
       "      <td>{'value': 'Porod, Werner', 'preferred_name': '...</td>\n",
       "      <td>[{'recid': 1600245, 'year': '2017', 'citation_...</td>\n",
       "      <td>[{'rank': 'STAFF', 'record': {'$ref': 'https:/...</td>\n",
       "      <td>992946.0</td>\n",
       "      <td>[{'ids': [{'value': 'INSPIRE-00162359', 'schem...</td>\n",
       "      <td>male</td>\n",
       "      <td>Werner</td>\n",
       "      <td>1.00</td>\n",
       "    </tr>\n",
       "    <tr>\n",
       "      <th>100346</th>\n",
       "      <td>677884</td>\n",
       "      <td>2005</td>\n",
       "      <td>54</td>\n",
       "      <td>[hep-ph]</td>\n",
       "      <td>1213103</td>\n",
       "      <td>M.K.Hirsch.1</td>\n",
       "      <td>907907</td>\n",
       "      <td>NaN</td>\n",
       "      <td>NaN</td>\n",
       "      <td>NaN</td>\n",
       "      <td>Valencia U., IFIC</td>\n",
       "      <td>Spain</td>\n",
       "      <td>NaN</td>\n",
       "      <td>1-Other</td>\n",
       "      <td>Spain</td>\n",
       "      <td>[{'value': 'mahirsch@ific.uv.es', 'current': T...</td>\n",
       "      <td>Hirsch, M.</td>\n",
       "      <td>[{'value': '0000-0001-6843-804X', 'schema': 'O...</td>\n",
       "      <td>Valencia U., IFIC</td>\n",
       "      <td>907907</td>\n",
       "      <td>{'value': 'Hirsch, Martin K.', 'preferred_name...</td>\n",
       "      <td>[{'recid': 770422, 'year': '2008', 'citation_c...</td>\n",
       "      <td>[{'rank': 'STAFF', 'record': {'$ref': 'https:/...</td>\n",
       "      <td>1005899.0</td>\n",
       "      <td>[]</td>\n",
       "      <td>male</td>\n",
       "      <td>Martin</td>\n",
       "      <td>0.99</td>\n",
       "    </tr>\n",
       "  </tbody>\n",
       "</table>\n",
       "</div>"
      ],
      "text/plain": [
       "         recid  year  citation_count primary_arxiv_category journal_id  \\\n",
       "873     677884  2005              54               [hep-ph]    1213103   \n",
       "93166   677884  2005              54               [hep-ph]    1213103   \n",
       "100346  677884  2005              54               [hep-ph]    1213103   \n",
       "\n",
       "             author_id institution_id    rank start_date end_date  \\\n",
       "873       D.Restrepo.1         903906  SENIOR       2004     None   \n",
       "93166   Werner.Porod.1         907907     NaN        NaN      NaN   \n",
       "100346    M.K.Hirsch.1         907907     NaN        NaN      NaN   \n",
       "\n",
       "              institution   country current tag_country country_p  \\\n",
       "873          Antioquia U.  Colombia    True  0-Colombia  Colombia   \n",
       "93166   Valencia U., IFIC     Spain     NaN     1-Other   Germany   \n",
       "100346  Valencia U., IFIC     Spain     NaN     1-Other     Spain   \n",
       "\n",
       "                                          email_addresses        full_name  \\\n",
       "873     [{'value': 'restrepo@udea.edu.co', 'current': ...  Restrepo, Diego   \n",
       "93166   [{'value': 'porod@physik.uni-wuerzburg.de', 'c...    Porod, Werner   \n",
       "100346  [{'value': 'mahirsch@ific.uv.es', 'current': T...       Hirsch, M.   \n",
       "\n",
       "                                                      ids      institution_p  \\\n",
       "873     [{'value': 'D.Restrepo.1', 'schema': 'INSPIRE ...       Antioquia U.   \n",
       "93166   [{'value': '0000-0002-0248-6556', 'schema': 'O...        Wurzburg U.   \n",
       "100346  [{'value': '0000-0001-6843-804X', 'schema': 'O...  Valencia U., IFIC   \n",
       "\n",
       "       institution_id_p                                               name  \\\n",
       "873              903906  {'value': 'Restrepo Quintero, Diego Alejandro'...   \n",
       "93166            903355  {'value': 'Porod, Werner', 'preferred_name': '...   \n",
       "100346           907907  {'value': 'Hirsch, Martin K.', 'preferred_name...   \n",
       "\n",
       "                                                   papers  \\\n",
       "873     [{'recid': 926166, 'year': '2012', 'citation_c...   \n",
       "93166   [{'recid': 1600245, 'year': '2017', 'citation_...   \n",
       "100346  [{'recid': 770422, 'year': '2008', 'citation_c...   \n",
       "\n",
       "                                                positions  profile_id  \\\n",
       "873     [{'rank': 'SENIOR', 'hidden': False, 'record':...    991924.0   \n",
       "93166   [{'rank': 'STAFF', 'record': {'$ref': 'https:/...    992946.0   \n",
       "100346  [{'rank': 'STAFF', 'record': {'$ref': 'https:/...   1005899.0   \n",
       "\n",
       "                                                 advisors gender  \\\n",
       "873     [{'ids': [{'value': 'INSPIRE-00133260', 'schem...   male   \n",
       "93166   [{'ids': [{'value': 'INSPIRE-00162359', 'schem...   male   \n",
       "100346                                                 []   male   \n",
       "\n",
       "            first_names  gender_probability  \n",
       "873     Diego Alejandro                0.99  \n",
       "93166            Werner                1.00  \n",
       "100346           Martin                0.99  "
      ]
     },
     "execution_count": 28,
     "metadata": {},
     "output_type": "execute_result"
    }
   ],
   "source": [
    "dp[dp['recid'] == 677884]\n",
    "\n",
    "\n"
   ]
  },
  {
   "cell_type": "markdown",
   "id": "bcbbd8d8-6c9c-4118-8c76-adc104b8ca37",
   "metadata": {},
   "source": [
    "Quality control"
   ]
  },
  {
   "cell_type": "markdown",
   "id": "5bd92d12-d030-4a99-817d-0b1a061ecfab",
   "metadata": {},
   "source": [
    "Pick country"
   ]
  },
  {
   "cell_type": "code",
   "execution_count": 46,
   "id": "f0795b71-8b46-4c8d-8798-3547f1291e94",
   "metadata": {},
   "outputs": [
    {
     "data": {
      "text/plain": [
       "(49181, 28)"
      ]
     },
     "execution_count": 46,
     "metadata": {},
     "output_type": "execute_result"
    }
   ],
   "source": [
    "dpu = dp.drop_duplicates('recid')\n",
    "dpu.shape"
   ]
  },
  {
   "cell_type": "code",
   "execution_count": 47,
   "id": "3926dd5f-9547-4041-aa7c-722efa9bc814",
   "metadata": {},
   "outputs": [
    {
     "data": {
      "text/plain": [
       "(139960, 28)"
      ]
     },
     "execution_count": 47,
     "metadata": {},
     "output_type": "execute_result"
    }
   ],
   "source": [
    "dp.shape"
   ]
  },
  {
   "cell_type": "code",
   "execution_count": 48,
   "id": "7416e547-3422-42e9-9d2b-2376d274b2a1",
   "metadata": {},
   "outputs": [
    {
     "data": {
      "text/plain": [
       "(1582, 13)"
      ]
     },
     "execution_count": 48,
     "metadata": {},
     "output_type": "execute_result"
    }
   ],
   "source": [
    "dp_old[dp_old['country'] == country].drop_duplicates('recid').shape"
   ]
  },
  {
   "cell_type": "code",
   "execution_count": 49,
   "id": "ba4adbce-2b99-4a3f-8d64-cc81f549d45a",
   "metadata": {},
   "outputs": [],
   "source": [
    "dpc = dpu[dpu['country'] == country].reset_index(drop = True)"
   ]
  },
  {
   "cell_type": "code",
   "execution_count": 50,
   "id": "36dd3986-fefb-43c0-a0a7-dc682ff2c9ff",
   "metadata": {},
   "outputs": [],
   "source": [
    "dpc = dpu[dpu['country_p'] == country].reset_index(drop = True)"
   ]
  },
  {
   "cell_type": "code",
   "execution_count": 51,
   "id": "9824230f-4fa9-4838-8d60-8cb768f49216",
   "metadata": {},
   "outputs": [
    {
     "data": {
      "text/plain": [
       "(1470, 28)"
      ]
     },
     "execution_count": 51,
     "metadata": {},
     "output_type": "execute_result"
    }
   ],
   "source": [
    "dpc.shape"
   ]
  },
  {
   "cell_type": "code",
   "execution_count": 52,
   "id": "df045596-f3f6-4a6d-aecb-32cb8f875024",
   "metadata": {},
   "outputs": [
    {
     "data": {
      "text/plain": [
       "(1470, 28)"
      ]
     },
     "execution_count": 52,
     "metadata": {},
     "output_type": "execute_result"
    }
   ],
   "source": [
    "dpc.shape # → 1825"
   ]
  },
  {
   "cell_type": "code",
   "execution_count": 53,
   "id": "e2202b06-ce15-415d-b646-fbe5728e10fe",
   "metadata": {},
   "outputs": [],
   "source": [
    "c = dpc['recid'].to_list() "
   ]
  },
  {
   "cell_type": "code",
   "execution_count": 54,
   "id": "aa30a64b-274a-47d3-b6fd-3f4b863d8d91",
   "metadata": {},
   "outputs": [
    {
     "data": {
      "text/plain": [
       "<Axes: xlabel='year'>"
      ]
     },
     "execution_count": 54,
     "metadata": {},
     "output_type": "execute_result"
    },
    {
     "data": {
      "image/png": "[encoded data removed]",
      "text/plain": [
       "<Figure size 640x480 with 1 Axes>"
      ]
     },
     "metadata": {},
     "output_type": "display_data"
    }
   ],
   "source": [
    "dpc[dpc['year']>0]['year'].replace('None',0).astype(int).value_counts().sort_index().plot(kind='bar')"
   ]
  },
  {
   "cell_type": "markdown",
   "id": "dffbc3f1-b15a-4be4-a85e-1b2e6e5c6f01",
   "metadata": {},
   "source": [
    "remove bad quality gender identification including unkowns"
   ]
  },
  {
   "cell_type": "code",
   "execution_count": 395,
   "id": "117f1838-3784-4764-9459-c31289777fbe",
   "metadata": {},
   "outputs": [
    {
     "data": {
      "text/html": [
       "<div>\n",
       "<style scoped>\n",
       "    .dataframe tbody tr th:only-of-type {\n",
       "        vertical-align: middle;\n",
       "    }\n",
       "\n",
       "    .dataframe tbody tr th {\n",
       "        vertical-align: top;\n",
       "    }\n",
       "\n",
       "    .dataframe thead th {\n",
       "        text-align: right;\n",
       "    }\n",
       "</style>\n",
       "<table border=\"1\" class=\"dataframe\">\n",
       "  <thead>\n",
       "    <tr style=\"text-align: right;\">\n",
       "      <th></th>\n",
       "      <th>recid</th>\n",
       "      <th>year</th>\n",
       "      <th>citation_count</th>\n",
       "      <th>primary_arxiv_category</th>\n",
       "      <th>journal_id</th>\n",
       "      <th>author_id</th>\n",
       "      <th>institution_id</th>\n",
       "      <th>rank</th>\n",
       "      <th>start_date</th>\n",
       "      <th>end_date</th>\n",
       "      <th>institution</th>\n",
       "      <th>country</th>\n",
       "      <th>current</th>\n",
       "      <th>tag_country</th>\n",
       "      <th>country_p</th>\n",
       "      <th>email_addresses</th>\n",
       "      <th>full_name</th>\n",
       "      <th>ids</th>\n",
       "      <th>institution_p</th>\n",
       "      <th>institution_id_p</th>\n",
       "      <th>name</th>\n",
       "      <th>papers</th>\n",
       "      <th>positions</th>\n",
       "      <th>profile_id</th>\n",
       "      <th>advisors</th>\n",
       "      <th>gender</th>\n",
       "      <th>first_names</th>\n",
       "      <th>gender_probability</th>\n",
       "    </tr>\n",
       "  </thead>\n",
       "  <tbody>\n",
       "    <tr>\n",
       "      <th>1120</th>\n",
       "      <td>1315274</td>\n",
       "      <td>0</td>\n",
       "      <td>3</td>\n",
       "      <td>[astro-ph.CO]</td>\n",
       "      <td>None</td>\n",
       "      <td>E.A.Reyes.R.2</td>\n",
       "      <td>None</td>\n",
       "      <td>NaN</td>\n",
       "      <td>NaN</td>\n",
       "      <td>NaN</td>\n",
       "      <td>NaN</td>\n",
       "      <td>NaN</td>\n",
       "      <td>NaN</td>\n",
       "      <td>1-Other</td>\n",
       "      <td>Colombia</td>\n",
       "      <td>[{'value': 'eareyesro@unal.edu.co', 'current':...</td>\n",
       "      <td>Rojas, E. A. Reyes</td>\n",
       "      <td>[{'value': 'E.A.Reyes.R.2', 'schema': 'INSPIRE...</td>\n",
       "      <td>Colombia, U. Natl.</td>\n",
       "      <td>906485.0</td>\n",
       "      <td>{'value': 'Reyes Rojas, Edilson Alfonso', 'nam...</td>\n",
       "      <td>[{'recid': 1404011, 'year': '2015', 'citation_...</td>\n",
       "      <td>[{'record': {'$ref': 'https://inspirehep.net/a...</td>\n",
       "      <td>1749672.0</td>\n",
       "      <td>[]</td>\n",
       "      <td>male</td>\n",
       "      <td>Edilson Alfonso</td>\n",
       "      <td>1.00</td>\n",
       "    </tr>\n",
       "    <tr>\n",
       "      <th>1111</th>\n",
       "      <td>1327877</td>\n",
       "      <td>2011</td>\n",
       "      <td>1</td>\n",
       "      <td>[]</td>\n",
       "      <td>1212356</td>\n",
       "      <td>J.M.Tejeiro.1</td>\n",
       "      <td>None</td>\n",
       "      <td>NaN</td>\n",
       "      <td>NaN</td>\n",
       "      <td>NaN</td>\n",
       "      <td>NaN</td>\n",
       "      <td>NaN</td>\n",
       "      <td>NaN</td>\n",
       "      <td>1-Other</td>\n",
       "      <td>Colombia</td>\n",
       "      <td>[{'value': 'jmtejeiros@unal.edu.co', 'current'...</td>\n",
       "      <td>Tejeiro, J.M.</td>\n",
       "      <td>[{'value': 'J.M.Tejeiro.1', 'schema': 'INSPIRE...</td>\n",
       "      <td>Colombia, U. Natl.</td>\n",
       "      <td>906485.0</td>\n",
       "      <td>{'value': 'Tejeiro, Juan Manuel', 'preferred_n...</td>\n",
       "      <td>[{'recid': 550465, 'year': 'None', 'citation_c...</td>\n",
       "      <td>[{'record': {'$ref': 'https://inspirehep.net/a...</td>\n",
       "      <td>986397.0</td>\n",
       "      <td>[]</td>\n",
       "      <td>male</td>\n",
       "      <td>Juan Manuel</td>\n",
       "      <td>0.99</td>\n",
       "    </tr>\n",
       "    <tr>\n",
       "      <th>1103</th>\n",
       "      <td>1762709</td>\n",
       "      <td>2019</td>\n",
       "      <td>0</td>\n",
       "      <td>[]</td>\n",
       "      <td>None</td>\n",
       "      <td>J.A.Sanchez.Monroy.1</td>\n",
       "      <td>None</td>\n",
       "      <td>NaN</td>\n",
       "      <td>NaN</td>\n",
       "      <td>NaN</td>\n",
       "      <td>NaN</td>\n",
       "      <td>NaN</td>\n",
       "      <td>NaN</td>\n",
       "      <td>1-Other</td>\n",
       "      <td>Colombia</td>\n",
       "      <td>None</td>\n",
       "      <td>Sanchez-Monroy, J.A.</td>\n",
       "      <td>[{'value': '0000-0001-6380-3511', 'schema': 'O...</td>\n",
       "      <td>Colombia, U. Natl.</td>\n",
       "      <td>906485.0</td>\n",
       "      <td>{'value': 'Sanchez-Monroy, José A.', 'name_va...</td>\n",
       "      <td>[{'recid': 792622, 'year': '2011', 'citation_c...</td>\n",
       "      <td>[{'record': {'$ref': 'https://inspirehep.net/a...</td>\n",
       "      <td>1273975.0</td>\n",
       "      <td>[]</td>\n",
       "      <td>male</td>\n",
       "      <td>José</td>\n",
       "      <td>1.00</td>\n",
       "    </tr>\n",
       "    <tr>\n",
       "      <th>874</th>\n",
       "      <td>1789723</td>\n",
       "      <td>2020</td>\n",
       "      <td>3</td>\n",
       "      <td>[]</td>\n",
       "      <td>1214837</td>\n",
       "      <td>M.Suarez.Duran.1</td>\n",
       "      <td>None</td>\n",
       "      <td>NaN</td>\n",
       "      <td>NaN</td>\n",
       "      <td>NaN</td>\n",
       "      <td>NaN</td>\n",
       "      <td>NaN</td>\n",
       "      <td>NaN</td>\n",
       "      <td>1-Other</td>\n",
       "      <td>Colombia</td>\n",
       "      <td>[{'value': 'mauricio.suarez@correo.uis.edu.co'...</td>\n",
       "      <td>Suárez-Durán, Mauricio</td>\n",
       "      <td>[{'value': '0000-0003-1451-630X', 'schema': 'O...</td>\n",
       "      <td>Pamplona U.</td>\n",
       "      <td>911311.0</td>\n",
       "      <td>{'value': 'Suarez-Duran, Mauricio', 'name_vari...</td>\n",
       "      <td>[{'recid': 1935179, 'year': '2021', 'citation_...</td>\n",
       "      <td>[{'rank': 'PHD', 'record': {'$ref': 'https://i...</td>\n",
       "      <td>1287582.0</td>\n",
       "      <td>[{'ids': [{'value': 'INSPIRE-00112157', 'schem...</td>\n",
       "      <td>male</td>\n",
       "      <td>Mauricio</td>\n",
       "      <td>1.00</td>\n",
       "    </tr>\n",
       "  </tbody>\n",
       "</table>\n",
       "</div>"
      ],
      "text/plain": [
       "        recid  year  citation_count primary_arxiv_category journal_id  \\\n",
       "1120  1315274     0               3          [astro-ph.CO]       None   \n",
       "1111  1327877  2011               1                     []    1212356   \n",
       "1103  1762709  2019               0                     []       None   \n",
       "874   1789723  2020               3                     []    1214837   \n",
       "\n",
       "                 author_id institution_id rank start_date end_date  \\\n",
       "1120         E.A.Reyes.R.2           None  NaN        NaN      NaN   \n",
       "1111         J.M.Tejeiro.1           None  NaN        NaN      NaN   \n",
       "1103  J.A.Sanchez.Monroy.1           None  NaN        NaN      NaN   \n",
       "874       M.Suarez.Duran.1           None  NaN        NaN      NaN   \n",
       "\n",
       "     institution country current tag_country country_p  \\\n",
       "1120         NaN     NaN     NaN     1-Other  Colombia   \n",
       "1111         NaN     NaN     NaN     1-Other  Colombia   \n",
       "1103         NaN     NaN     NaN     1-Other  Colombia   \n",
       "874          NaN     NaN     NaN     1-Other  Colombia   \n",
       "\n",
       "                                        email_addresses  \\\n",
       "1120  [{'value': 'eareyesro@unal.edu.co', 'current':...   \n",
       "1111  [{'value': 'jmtejeiros@unal.edu.co', 'current'...   \n",
       "1103                                               None   \n",
       "874   [{'value': 'mauricio.suarez@correo.uis.edu.co'...   \n",
       "\n",
       "                   full_name  \\\n",
       "1120      Rojas, E. A. Reyes   \n",
       "1111           Tejeiro, J.M.   \n",
       "1103    Sanchez-Monroy, J.A.   \n",
       "874   Suárez-Durán, Mauricio   \n",
       "\n",
       "                                                    ids       institution_p  \\\n",
       "1120  [{'value': 'E.A.Reyes.R.2', 'schema': 'INSPIRE...  Colombia, U. Natl.   \n",
       "1111  [{'value': 'J.M.Tejeiro.1', 'schema': 'INSPIRE...  Colombia, U. Natl.   \n",
       "1103  [{'value': '0000-0001-6380-3511', 'schema': 'O...  Colombia, U. Natl.   \n",
       "874   [{'value': '0000-0003-1451-630X', 'schema': 'O...         Pamplona U.   \n",
       "\n",
       "      institution_id_p                                               name  \\\n",
       "1120          906485.0  {'value': 'Reyes Rojas, Edilson Alfonso', 'nam...   \n",
       "1111          906485.0  {'value': 'Tejeiro, Juan Manuel', 'preferred_n...   \n",
       "1103          906485.0  {'value': 'Sanchez-Monroy, José A.', 'name_va...   \n",
       "874           911311.0  {'value': 'Suarez-Duran, Mauricio', 'name_vari...   \n",
       "\n",
       "                                                 papers  \\\n",
       "1120  [{'recid': 1404011, 'year': '2015', 'citation_...   \n",
       "1111  [{'recid': 550465, 'year': 'None', 'citation_c...   \n",
       "1103  [{'recid': 792622, 'year': '2011', 'citation_c...   \n",
       "874   [{'recid': 1935179, 'year': '2021', 'citation_...   \n",
       "\n",
       "                                              positions  profile_id  \\\n",
       "1120  [{'record': {'$ref': 'https://inspirehep.net/a...   1749672.0   \n",
       "1111  [{'record': {'$ref': 'https://inspirehep.net/a...    986397.0   \n",
       "1103  [{'record': {'$ref': 'https://inspirehep.net/a...   1273975.0   \n",
       "874   [{'rank': 'PHD', 'record': {'$ref': 'https://i...   1287582.0   \n",
       "\n",
       "                                               advisors gender  \\\n",
       "1120                                                 []   male   \n",
       "1111                                                 []   male   \n",
       "1103                                                 []   male   \n",
       "874   [{'ids': [{'value': 'INSPIRE-00112157', 'schem...   male   \n",
       "\n",
       "          first_names  gender_probability  \n",
       "1120  Edilson Alfonso                1.00  \n",
       "1111      Juan Manuel                0.99  \n",
       "1103            José                1.00  \n",
       "874          Mauricio                1.00  "
      ]
     },
     "execution_count": 395,
     "metadata": {},
     "output_type": "execute_result"
    }
   ],
   "source": [
    "dpc[dpc['institution_id'].isna()].sort_values('year')"
   ]
  },
  {
   "cell_type": "code",
   "execution_count": 396,
   "id": "945702cb-b67f-4c4f-aa2f-4b5cc9dbc539",
   "metadata": {},
   "outputs": [
    {
     "data": {
      "text/plain": [
       "(57588, 15)"
      ]
     },
     "execution_count": 396,
     "metadata": {},
     "output_type": "execute_result"
    }
   ],
   "source": [
    "DF.drop_duplicates('institut"
   ]
  },
  {
   "cell_type": "code",
   "execution_count": 399,
   "id": "aa376eec-e763-4587-a3d2-88ca495308dd",
   "metadata": {},
   "outputs": [
    {
     "data": {
      "text/html": [
       "<div>\n",
       "<style scoped>\n",
       "    .dataframe tbody tr th:only-of-type {\n",
       "        vertical-align: middle;\n",
       "    }\n",
       "\n",
       "    .dataframe tbody tr th {\n",
       "        vertical-align: top;\n",
       "    }\n",
       "\n",
       "    .dataframe thead th {\n",
       "        text-align: right;\n",
       "    }\n",
       "</style>\n",
       "<table border=\"1\" class=\"dataframe\">\n",
       "  <thead>\n",
       "    <tr style=\"text-align: right;\">\n",
       "      <th></th>\n",
       "      <th>recid</th>\n",
       "      <th>year</th>\n",
       "      <th>citation_count</th>\n",
       "      <th>primary_arxiv_category</th>\n",
       "      <th>journal_id</th>\n",
       "      <th>author_id</th>\n",
       "      <th>institution_id</th>\n",
       "      <th>rank</th>\n",
       "      <th>start_date</th>\n",
       "      <th>end_date</th>\n",
       "      <th>institution</th>\n",
       "      <th>country</th>\n",
       "      <th>current</th>\n",
       "      <th>tag_country</th>\n",
       "      <th>country_p</th>\n",
       "      <th>email_addresses</th>\n",
       "      <th>full_name</th>\n",
       "      <th>ids</th>\n",
       "      <th>institution_p</th>\n",
       "      <th>institution_id_p</th>\n",
       "      <th>name</th>\n",
       "      <th>papers</th>\n",
       "      <th>positions</th>\n",
       "      <th>profile_id</th>\n",
       "      <th>advisors</th>\n",
       "      <th>gender</th>\n",
       "      <th>first_names</th>\n",
       "      <th>gender_probability</th>\n",
       "    </tr>\n",
       "  </thead>\n",
       "  <tbody>\n",
       "    <tr>\n",
       "      <th>1023</th>\n",
       "      <td>73109</td>\n",
       "      <td>1971</td>\n",
       "      <td>2</td>\n",
       "      <td>[]</td>\n",
       "      <td>None</td>\n",
       "      <td>A.Ferrero.2</td>\n",
       "      <td>902700</td>\n",
       "      <td>NaN</td>\n",
       "      <td>NaN</td>\n",
       "      <td>NaN</td>\n",
       "      <td>NaN</td>\n",
       "      <td>NaN</td>\n",
       "      <td>NaN</td>\n",
       "      <td>1-Other</td>\n",
       "      <td>Colombia</td>\n",
       "      <td>None</td>\n",
       "      <td>Ferrero, Alejandro</td>\n",
       "      <td>[{'value': 'A.Ferrero.2', 'schema': 'INSPIRE B...</td>\n",
       "      <td>Andes U., Bogota</td>\n",
       "      <td>903802.0</td>\n",
       "      <td>{'value': 'Ferrero, A.', 'preferred_name': 'A....</td>\n",
       "      <td>[{'recid': 1346409, 'year': '2015', 'citation_...</td>\n",
       "      <td>[{'record': {'$ref': 'https://inspirehep.net/a...</td>\n",
       "      <td>1043477.0</td>\n",
       "      <td>[]</td>\n",
       "      <td>unknown</td>\n",
       "      <td></td>\n",
       "      <td>0.00</td>\n",
       "    </tr>\n",
       "    <tr>\n",
       "      <th>1008</th>\n",
       "      <td>122710</td>\n",
       "      <td>1977</td>\n",
       "      <td>1</td>\n",
       "      <td>[]</td>\n",
       "      <td>None</td>\n",
       "      <td>A.Rueda.1</td>\n",
       "      <td>903802</td>\n",
       "      <td>NaN</td>\n",
       "      <td>NaN</td>\n",
       "      <td>NaN</td>\n",
       "      <td>NaN</td>\n",
       "      <td>NaN</td>\n",
       "      <td>NaN</td>\n",
       "      <td>1-Other</td>\n",
       "      <td>Colombia</td>\n",
       "      <td>None</td>\n",
       "      <td>Rueda, A.</td>\n",
       "      <td>[{'value': 'A.Rueda.1', 'schema': 'INSPIRE BAI'}]</td>\n",
       "      <td>Andes U., Bogota</td>\n",
       "      <td>903802.0</td>\n",
       "      <td>{'value': 'Rueda, Alfredo'}</td>\n",
       "      <td>[{'recid': 197183, 'year': 'None', 'citation_c...</td>\n",
       "      <td>None</td>\n",
       "      <td>2059427.0</td>\n",
       "      <td>[]</td>\n",
       "      <td>male</td>\n",
       "      <td>Alfredo</td>\n",
       "      <td>0.99</td>\n",
       "    </tr>\n",
       "    <tr>\n",
       "      <th>990</th>\n",
       "      <td>122739</td>\n",
       "      <td>1977</td>\n",
       "      <td>0</td>\n",
       "      <td>[]</td>\n",
       "      <td>None</td>\n",
       "      <td>S.M.Moore.1</td>\n",
       "      <td>903802</td>\n",
       "      <td>NaN</td>\n",
       "      <td>NaN</td>\n",
       "      <td>NaN</td>\n",
       "      <td>NaN</td>\n",
       "      <td>NaN</td>\n",
       "      <td>NaN</td>\n",
       "      <td>1-Other</td>\n",
       "      <td>Colombia</td>\n",
       "      <td>None</td>\n",
       "      <td>Moore, Steven M.</td>\n",
       "      <td>None</td>\n",
       "      <td>Andes U., Bogota</td>\n",
       "      <td>903802.0</td>\n",
       "      <td>None</td>\n",
       "      <td>[{'recid': 9229, 'year': '1980', 'citation_cou...</td>\n",
       "      <td>None</td>\n",
       "      <td>2308170.0</td>\n",
       "      <td>[]</td>\n",
       "      <td>male</td>\n",
       "      <td>Steven</td>\n",
       "      <td>0.99</td>\n",
       "    </tr>\n",
       "    <tr>\n",
       "      <th>994</th>\n",
       "      <td>130815</td>\n",
       "      <td>1978</td>\n",
       "      <td>0</td>\n",
       "      <td>[]</td>\n",
       "      <td>None</td>\n",
       "      <td>J.Giraldo.1</td>\n",
       "      <td>903802</td>\n",
       "      <td>NaN</td>\n",
       "      <td>NaN</td>\n",
       "      <td>NaN</td>\n",
       "      <td>NaN</td>\n",
       "      <td>NaN</td>\n",
       "      <td>NaN</td>\n",
       "      <td>1-Other</td>\n",
       "      <td>Colombia</td>\n",
       "      <td>None</td>\n",
       "      <td>Giraldo, Jairo</td>\n",
       "      <td>None</td>\n",
       "      <td>Andes U., Bogota</td>\n",
       "      <td>903802.0</td>\n",
       "      <td>None</td>\n",
       "      <td>[{'recid': 130815, 'year': '1978', 'citation_c...</td>\n",
       "      <td>None</td>\n",
       "      <td>2429675.0</td>\n",
       "      <td>[]</td>\n",
       "      <td>male</td>\n",
       "      <td>Jairo</td>\n",
       "      <td>0.99</td>\n",
       "    </tr>\n",
       "  </tbody>\n",
       "</table>\n",
       "</div>"
      ],
      "text/plain": [
       "       recid  year  citation_count primary_arxiv_category journal_id  \\\n",
       "1023   73109  1971               2                     []       None   \n",
       "1008  122710  1977               1                     []       None   \n",
       "990   122739  1977               0                     []       None   \n",
       "994   130815  1978               0                     []       None   \n",
       "\n",
       "        author_id institution_id rank start_date end_date institution country  \\\n",
       "1023  A.Ferrero.2         902700  NaN        NaN      NaN         NaN     NaN   \n",
       "1008    A.Rueda.1         903802  NaN        NaN      NaN         NaN     NaN   \n",
       "990   S.M.Moore.1         903802  NaN        NaN      NaN         NaN     NaN   \n",
       "994   J.Giraldo.1         903802  NaN        NaN      NaN         NaN     NaN   \n",
       "\n",
       "     current tag_country country_p email_addresses           full_name  \\\n",
       "1023     NaN     1-Other  Colombia            None  Ferrero, Alejandro   \n",
       "1008     NaN     1-Other  Colombia            None           Rueda, A.   \n",
       "990      NaN     1-Other  Colombia            None    Moore, Steven M.   \n",
       "994      NaN     1-Other  Colombia            None      Giraldo, Jairo   \n",
       "\n",
       "                                                    ids     institution_p  \\\n",
       "1023  [{'value': 'A.Ferrero.2', 'schema': 'INSPIRE B...  Andes U., Bogota   \n",
       "1008  [{'value': 'A.Rueda.1', 'schema': 'INSPIRE BAI'}]  Andes U., Bogota   \n",
       "990                                                None  Andes U., Bogota   \n",
       "994                                                None  Andes U., Bogota   \n",
       "\n",
       "      institution_id_p                                               name  \\\n",
       "1023          903802.0  {'value': 'Ferrero, A.', 'preferred_name': 'A....   \n",
       "1008          903802.0                        {'value': 'Rueda, Alfredo'}   \n",
       "990           903802.0                                               None   \n",
       "994           903802.0                                               None   \n",
       "\n",
       "                                                 papers  \\\n",
       "1023  [{'recid': 1346409, 'year': '2015', 'citation_...   \n",
       "1008  [{'recid': 197183, 'year': 'None', 'citation_c...   \n",
       "990   [{'recid': 9229, 'year': '1980', 'citation_cou...   \n",
       "994   [{'recid': 130815, 'year': '1978', 'citation_c...   \n",
       "\n",
       "                                              positions  profile_id advisors  \\\n",
       "1023  [{'record': {'$ref': 'https://inspirehep.net/a...   1043477.0       []   \n",
       "1008                                               None   2059427.0       []   \n",
       "990                                                None   2308170.0       []   \n",
       "994                                                None   2429675.0       []   \n",
       "\n",
       "       gender first_names  gender_probability  \n",
       "1023  unknown                            0.00  \n",
       "1008     male     Alfredo                0.99  \n",
       "990      male      Steven                0.99  \n",
       "994      male       Jairo                0.99  "
      ]
     },
     "execution_count": 399,
     "metadata": {},
     "output_type": "execute_result"
    }
   ],
   "source": [
    "dpc[dpc['country'].isna()].sort_values('year')[54:58]"
   ]
  },
  {
   "cell_type": "code",
   "execution_count": 392,
   "id": "e214e94d-be86-45a2-b2ab-2a019de568d1",
   "metadata": {},
   "outputs": [],
   "source": [
    "recid = 1840971\n",
    "mc = requests.get(f'https://inspirehep.net/api/literature?q=recid:{recid}')"
   ]
  },
  {
   "cell_type": "code",
   "execution_count": 393,
   "id": "fcf59b3a-6517-4880-b10a-9bf99958cad5",
   "metadata": {},
   "outputs": [
    {
     "data": {
      "text/plain": [
       "{'hits': {'hits': [{'created': '2021-01-14T00:00:00+00:00',\n",
       "    'metadata': {'publication_info': [{'artid': 'TUZBA5',\n",
       "       'conference_record': {'$ref': 'https://inspirehep.net/api/conferences/1732178'},\n",
       "       'year': 2019,\n",
       "       'parent_record': {'$ref': 'https://inspirehep.net/api/literature/1840730'},\n",
       "       'cnum': 'C19-09-01.2',\n",
       "       'conf_acronym': 'NAPAC2019'}],\n",
       "     'authors': [{'raw_affiliations': [{'value': 'UNAL, Bogota D.C, Colombia'}],\n",
       "       'full_name_unicode_normalized': 'cardona, javier',\n",
       "       'full_name': 'Cardona, Javier',\n",
       "       'record': {'$ref': 'https://inspirehep.net/api/authors/1937797'},\n",
       "       'affiliations': [{'record': {'$ref': 'https://inspirehep.net/api/institutions/906485'},\n",
       "         'value': 'Colombia, U. Natl.'}],\n",
       "       'last_name': 'Cardona',\n",
       "       'ids': [{'schema': 'JACOW', 'value': 'JACoW-00002732'},\n",
       "        {'schema': 'INSPIRE BAI', 'value': 'J.Cardona.1'}],\n",
       "       'signature_block': 'CARDANj',\n",
       "       'first_name': 'Javier',\n",
       "       'uuid': '92ef5a1d-a081-47cd-8820-c69779b1b5a5',\n",
       "       'recid': 1937797}],\n",
       "     'documents': [{'filename': '10.18429_JACoW-NAPAC2019-TUZBA5.pdf',\n",
       "       'attachment': {'content': 'ALGORITHMS USED IN ACTION AND PHASE JUMP ANALYSIS TO\\n\\nESTIMATE CORRECTIONS TO QUADRUPOLE ERRORS IN THE\\n\\nINTERACTION REGIONS OF THE LHC\\n\\nJ. F. Cardona∗, Universidad Nacional de Colombia, Bogotá, Colombia\\n\\nAbstract\\n\\nAction and phase jump analysis has been used to estimate\\n\\ncorrector strengths in the high luminosity interaction regions\\n\\nof the LHC. It has been proven that these corrections are\\n\\neffective to eliminate the beta-beating that is generated in\\n\\nthose important regions and that propagates around the ring.\\n\\nMore recently, it was also shown that the beta-beating at\\n\\nthe interaction point can also be suppressed by combining\\n\\nk-modulation measurements with action and phase jump\\n\\nanalysis. Applying this technique to the re-commissioning\\n\\nof the LHC in 2021 requires a good knowledge of the soft-\\n\\nware developed for action and phase jump analysis over the\\n\\nyears. In this paper a detailed description is made of all the\\n\\nmodules that are part of this software and the corresponding\\n\\nalgorithms.\\n\\nINTRODUCTION\\n\\nA one-turn particle trajectory in a linear lattice is conven-\\n\\ntionally described by\\n\\nz(s) =\\n√\\n\\n2Jc βr (s)sin(ψr (s) − δc), (1)\\n\\nwhere z represents the distance between the transverse po-\\n\\nsition of the particle respect to the design trajectory, s is\\n\\nthe the longitudinal position of the particle around the ring,\\n\\nJc and δc are the action constants, and finally βr and ψr\\n\\ncorrespond to the lattice functions with errors. These lattice\\n\\nfunctions can also be expressed as\\n\\nβr = βn + ∆β, (2)\\n\\nψr = ψn + ∆ψ, (3)\\n\\nwhere βn and ψn are the nominal lattice functions while ∆β\\n\\nand ∆ψ correspond to the beating produced by the magnetic\\n\\nerrors in the accelerator. A one-turn particle trajectory can\\n\\nalso be described by\\n\\nz(s) =\\n√\\n\\n2J (s) βn(s)sin(ψn(s) − δ(s)) (4)\\n\\nIn this case, J and δ change along the axial coordinate in\\n\\naccordance with the magnetic errors present around the ring,\\n\\nresulting in what is called Action and Phase Jump (APJ)\\n\\nAnalysis [1]. This approach has proven to be effective in\\n\\nestimating magnetic errors in the Interaction Regions (IRs)\\n\\nof high energy accelerators [1–3]. Under APJ analysis, ac-\\n\\ntions and phases are inferred from one-turn beam trajectory\\n\\nand the nominal lattice functions. Plots of these action and\\n\\nphases as function of the longitudinal coordinate s reveals\\n\\nsignificant jumps at the IRs. These jumps can be used to\\n\\n∗ jfcardona@unal.edu.co\\n\\nestimate how the strength of some of the quadrupole of the\\n\\nInteraction Region should be changed to suppress the jump.\\n\\nThis is done by first estimating the equivalent magnetic de-\\n\\nflection or kick that all the quadrupole errors of the IR would\\n\\nmake in the beam trajectory. Then, analytical expressions\\n\\nare used to find the corresponding corrections. The IRs\\n\\nare mainly formed by two sets of three quadrupoles called\\n\\ntriplets, one located to the left of the IP and the other to the\\n\\nright. The first scheme of correction estimated with APJ\\n\\nanalysis used only two quadrupoles of the IR, one for each\\n\\ntriplet [3]. The effectiveness of this correction was tested ver-\\n\\nifying that the jumps in action and phase were significantly\\n\\nreduced after applying the correction. The effectiveness\\n\\nof this correction was also tested through the beta-beating.\\n\\nThis test revealed that the 2-corrector scheme is effective\\n\\nin suppressing the beta-beating around the ring but not at\\n\\nthe Interaction Point (IP). This problem was solved with a\\n\\nnew scheme of correction that uses the variables associated\\n\\nto k-modulation measurements as shown in [4]. Different\\n\\nto the previous scheme of correction, this new scheme of\\n\\ncorrection uses four quadrupoles per IR. Description of k-\\n\\nmodulation measurements and their associated variables can\\n\\nbe found in [5].\\n\\nBEAM TRAJECTORIES FROM\\n\\nTURN-BY-TURN DATA\\n\\nBeam used for APJ analysis consist of only one bunch,\\n\\nwhich has been excited to large amplitude oscillations with\\n\\na special device called the AC dipole. The bunch centroid is\\n\\nmeasured with the 500 dual Beam Position Monitors (BPMs)\\n\\nof the LHC for 6600 turns. All this data is stored in an ASCII\\n\\nfile called a Turn-By-Turn (TBT) data set, which allows to\\n\\ndraw a trajectory for every turn (simple trajectory) as seen in\\n\\nFig. 1. In this paper, average trajectories are used rather than\\n\\nsimple trajectories. The average trajectories are obtained by\\n\\naveraging simple trajectories of certain selected turns. The\\n\\nmost common average trajectory is the closed orbit, which\\n\\nis obtained after averaging all the 6600 simple trajectories\\n\\nstored in a TBT data set. Other average trajectories are built\\n\\nso that they have maximum values of at specific points of\\n\\nthe accelerator where the errors want to be estimated. Those\\n\\naverage trajectories are called average max trajectories.\\n\\nMODULES OF THE APJ SOFTWARE\\n\\nThe software is divided in several modules, which are\\n\\nexecuted according to the flowchart shown in Fig. 2. Each\\n\\nmodule performs a specific task as explained below.\\n\\nNorth American Particle Acc. Conf. NAPAC2019, Lansing, MI, USA JACoW Publishing\\nISBN: 978-3-95450-223-3 ISSN: 2673-7000 doi:10.18429/JACoW-NAPAC2019-TUZBA5\\n\\n01: Circular and Linear Colliders\\nTUZBA5\\n\\n349\\n\\nCo\\nnt\\n\\nen\\ntf\\n\\nro\\nm\\n\\nth\\nis\\n\\nw\\nor\\n\\nk\\nm\\n\\nay\\nbe\\n\\nus\\ned\\n\\nun\\nde\\n\\nrt\\nhe\\n\\nte\\nrm\\n\\nso\\nft\\n\\nhe\\nCC\\n\\nBY\\n3.\\n\\n0\\nlic\\n\\nen\\nce\\n\\n(©\\n20\\n\\n19\\n).\\n\\nA\\nny\\n\\ndi\\nstr\\n\\nib\\nut\\n\\nio\\nn\\n\\nof\\nth\\n\\nis\\nw\\n\\nor\\nk\\n\\nm\\nus\\n\\ntm\\nai\\n\\nnt\\nai\\n\\nn\\nat\\n\\ntri\\nbu\\n\\ntio\\nn\\n\\nto\\nth\\n\\ne\\nau\\n\\nth\\nor\\n\\n(s\\n),\\n\\ntit\\nle\\n\\nof\\nth\\n\\ne\\nw\\n\\nor\\nk,\\n\\npu\\nbl\\n\\nish\\ner\\n\\n,a\\nnd\\n\\nD\\nO\\n\\nI\\n\\n\\n\\n-2\\n\\n 0\\n\\n 2\\n\\n 0  5  10  15  20  25\\n\\ny\\n (\\n\\nm\\nm\\n\\n)\\nTurn 1\\n\\n-2\\n\\n 0\\n\\n 2\\n\\n 0  5  10  15  20  25\\n\\ny\\n (\\n\\nm\\nm\\n\\n)\\n\\nTurn 2\\n\\n-2\\n\\n 0\\n\\n 2\\n\\n 0  5  10  15  20  25\\n\\ny\\n (\\n\\nm\\nm\\n\\n)\\n\\ns (km)\\n\\nTurn 6600\\n\\nARC ARC ARC ARC ARC ARC ARC ARC\\n\\nIR1\\n\\nFigure 1: Contents of a TBT data set of 6600 turns. The\\n\\nsmall dots represent BPM measurements. The collection of\\n\\nsmall dots in each graph represent what is called a simple tra-\\n\\njectory. Then, a simple trajectory is any one-turn trajectory\\n\\nextracted from a particular TBT data set.\\n\\nModule A (Nominal Files)\\n\\nIn this module the LHC magnet lattice, which is an or-\\n\\ndered list of the magnets and other elements of the acceler-\\n\\nator, is used to generate the nominal lattice functions (file\\n\\nlattice.asc) through a program called MADX [6] . Two addi-\\n\\ntional files are also created in this module. The first is a rudi-\\n\\nmentary sketch of the principal magnets of the accelerator as\\n\\na function of the longitudinal coordinate, examples of which\\n\\ncan be seen in the lower part of Fig. 1. The second is a list\\n\\nof integrals of the beta functions of the triplet quadrupoles\\n\\n(file triplet.dat), which are used to estimate the corrector\\n\\nstrengths through modules E and F. To calculate these in-\\n\\ntegrals, it is necessary to subdivide the triplet quadrupoles\\n\\ninto smaller quadrupoles since the MADX program only pro-\\n\\nvides one value of the beta function for each element. The\\n\\nintegrals are estimated by the Romberg integration method.\\n\\nOther integration methods like the trapezoidal method and\\n\\nthe Simpson’s method were used (in [7] and [8] respectively),\\n\\nbut they are slower than the Romberg integration method\\n\\nsince they need a finer subdivision of the quadrupoles to\\n\\nobtain the same accuracy. The outputs of this module are\\n\\nused for simulations and experimental data analysis.\\n\\nModule B (Experimental Lattice)\\nExperimental quantities related to the lattice functions\\n\\nare obtained by a software developed at CERN called\\n\\nGetLLM [9]. The ouput of this software is taken by module\\n\\nB and converted into the experimental lattice_err.asc file.\\n\\nAdditionally, since the AC dipole produces an additional\\n\\njump in the action and phase graphs, the axial coordinate of\\n\\nlattice_err.asc must be reassigned so that the jump moves to\\n\\nthe edge of the graphs. In this way, calculations associated\\n\\nwith the action and phase graphs are not affected by these\\n\\njumps.\\n\\nModule C (Reassigning s in TBT data)\\n\\nThis module takes all the BPMs of a TBT data set and\\n\\nreassigns their longitudinal coordinate to avoid the effect of\\n\\nthe AC dipole in the action and phase graphs, as explained\\n\\nin the previous module.\\n\\nModule D (Average Trajectories)\\n\\nAs indicated above, average trajectories are created by\\n\\naveraging simple trajectories of certain turns of a particular\\n\\nTBT data set, so that the excursion of the average trajectory\\n\\nis a maximum at the axial location of the equivalent kick.\\n\\nSelection of turns is made according to the average phase of\\n\\nthe corresponding simple trajectory. Therefore, the first task\\n\\nperformed by this module is to estimate the phase of each\\n\\nsimple trajectory of a TBT data set, which is done by apply-\\n\\ning the algorithms developed in [2] to estimate action and\\n\\nphase in each BPM and averaging the phase measurements\\n\\nfor each turn of the TBT data set. The second task of this\\n\\nmodule is to choose the turns that will be part of the average\\n\\ntrajectory. This is done by choosing turns according to their\\n\\naverage phases with respect to the phase that provides the\\n\\nmaximum excursion of the trajectory\\n\\nModule E (Equivalent Kicks and Their Quad\\nComponents)\\n\\nOnce average trajectories are created, the equivalent kicks\\n\\nand their components can be estimated from the action and\\n\\nphases extracted from this kind of trajectories and the math-\\n\\nematical relations of [3]. The equivalent kicks should be\\n\\nestimated for at least two kinds of average max trajectories\\n\\nin both planes and for the two triplets of the IR under study.\\n\\nThe inputs of this module are the four kinds of average tra-\\n\\njectories created in the previous module, the axial location\\n\\nof the equivalent kick, the quadrupoles that will be used as\\n\\ncorrectors and the extension of the arc segments to left and\\n\\nto the right of the IR under study. The results of this module\\n\\nare printed in 4 ASCII files (one for each plane and each\\n\\ntriplet) with information about the quadrupole components,\\n\\nthe beam position at the location of the equivalent kick and\\n\\nrelated lattice parameters for subsequent calculations.\\n\\nModule F (Corrector Strengths)\\n\\nCorrector strengths can be estimated from the output files\\n\\nof the previous module. There are two ways of making\\n\\nthese estimates: the first uses equations (39) of [3] with two\\n\\naverage max trajectories and the second finds the corrector\\n\\nstrengths through an adjustment procedure involving all four\\n\\naverage max trajectories and equation (38) of [3]. Both give\\n\\nsatisfactory results.\\n\\nNorth American Particle Acc. Conf. NAPAC2019, Lansing, MI, USA JACoW Publishing\\nISBN: 978-3-95450-223-3 ISSN: 2673-7000 doi:10.18429/JACoW-NAPAC2019-TUZBA5\\n\\nTUZBA5\\n350\\n\\nCo\\nnt\\n\\nen\\ntf\\n\\nro\\nm\\n\\nth\\nis\\n\\nw\\nor\\n\\nk\\nm\\n\\nay\\nbe\\n\\nus\\ned\\n\\nun\\nde\\n\\nrt\\nhe\\n\\nte\\nrm\\n\\nso\\nft\\n\\nhe\\nCC\\n\\nBY\\n3.\\n\\n0\\nlic\\n\\nen\\nce\\n\\n(©\\n20\\n\\n19\\n).\\n\\nA\\nny\\n\\ndi\\nstr\\n\\nib\\nut\\n\\nio\\nn\\n\\nof\\nth\\n\\nis\\nw\\n\\nor\\nk\\n\\nm\\nus\\n\\ntm\\nai\\n\\nnt\\nai\\n\\nn\\nat\\n\\ntri\\nbu\\n\\ntio\\nn\\n\\nto\\nth\\n\\ne\\nau\\n\\nth\\nor\\n\\n(s\\n),\\n\\ntit\\nle\\n\\nof\\nth\\n\\ne\\nw\\n\\nor\\nk,\\n\\npu\\nbl\\n\\nish\\ner\\n\\n,a\\nnd\\n\\nD\\nO\\n\\nI\\n\\n01: Circular and Linear Colliders\\n\\n\\n\\nFrom K−Modulation\\n\\nRead\\n\\nLHC Optics\\n\\nModule A\\n\\nGet Nominal Files\\n\\nRead\\n\\nRead\\n\\nGetllm Output\\n\\nGet Lattice\\n\\nExp. TBT Data\\n\\nGet Aver  Traject.\\n\\nb1x.dat, b1y.dat\\n\\nGet Corrections\\n\\ntriplet.dat\\n\\nlattice.asc lattice_err.asc\\n\\nip.results\\n\\nStart\\n\\nEnd\\n\\n(exp)\\n\\n(exp)\\n\\nModule B\\n\\nreassign s in TBT Data\\n\\nModule C\\n\\nModule D\\n\\nModule E\\n\\nModule F\\n\\nGet Quad Compon.\\n\\nFigure 2: Flowchart of software modules to analyze an ex-\\n\\nperimental TBT data set and estimate the corrections at a\\n\\nparticular IR.\\n\\nModule G (Simulating Files with Errors)\\n\\nLattice functions are created in this module as in mod-\\n\\nule A except that an arbitrary list of magnetic errors and\\n\\ncorrector strengths can be added to the LHC magnet lattice\\n\\nresulting in a file called lattice_err.asc. Besides the lattice\\n\\nfunctions, simulations of the expected k-modulation vari-\\n\\nables are also generated (file ip.results). Simulated lattice\\n\\nfunctions with errors, k-modulation variables, and the TBT\\n\\ndata generated through module H is used routinely to test\\n\\nthe correct functioning of the complete software.\\n\\nModule H (Simulating TBT data)\\n\\nSimulated TBT data with the same format of the TBT data\\n\\ncoming out of module C is generated through this module.\\n\\nThe simulated data is created with MADX through one of\\n\\nits modules called PTC track. The same magnet lattice used\\n\\nin module A is used here. In addition, an arbitrary list of\\n\\nmagnetic errors and corrector strengths can be added.\\n\\nACKNOWLEDGMENTS\\n\\nTo the students who have used the APJ software in their\\n\\nthesis: O. Blanco, C. García, M. Morales, D. Roa, and Y.\\n\\nRodríguez. They have been a great help to test this software\\n\\nin its different stages of development.\\n\\nTo Rogelio Tomás García and all members of the OMC\\n\\nat CERN for the support given in the use of their GetLLM\\n\\nand K- modulation software and also for allowing the use of\\n\\nexperimental LHC data.\\n\\nREFERENCES\\n\\n[1] J. Cardona, “Linear and Non Linear Studies at RHIC Interac-\\n\\ntion Regions and Optical Design of the Rapid Cycling Medical\\n\\nSynchrotron,” Ph.D. thesis, Phys. Dept., Stony Brook Univer-\\n\\nsity, Stony Brook, USA, 2003.\\n\\n[2] J. Cardona and S. Peggs, “Linear and nonlinear magnetic error\\n\\nmeasurements using action and phase jump analysis,” Phys.\\n\\nRev. ST Accel. Beams, vol. 12, p. 014002, Jan. 2009.\\n\\n[3] J. Cardona, C. García and R. Tomás, “Local correction of\\n\\nquadrupole errors at LHC interaction regions using action and\\n\\nphase jump analysis on turn-by-turn beam position data,” Phys.\\n\\nRev. Accel. Beams, vol. 20, p. 111004, Nov. 2017.\\n\\n[4] J. Cardona, Y. Rodríguez and R. Tomás, “Introduction of k-\\n\\nmodulation measurements in action and phase jump analysis\\n\\nto estimate corrections in the interaction regions of the LHC,”\\n\\nsubmitted for publication.\\n\\n[5] F. Carlier and R. Tomás, “ Accuracy and feasibility of the\\n\\nβ∗ measurement for LHC and High Luminosity LHC using\\n\\nk modulation,” Phys. Rev. Accel. Beams, vol. 20, p. 011005,\\n\\nJan. 2017.\\n\\n[6] H. Grote, F. Schmidt, L. Deniau and G. Roy , “The MAD-X\\n\\nProgram ,” CERN, Geneva, Switzerland, Oct. 2015.\\n\\n[7] J. Cardona, R. Calaga, R. Miyamoto and R. Tomás, \"Compar-\\n\\nison of the Action and Phase Analysis on LHC Orbits with\\n\\nOther Techniques,\" in Proc. IPAC’11, San Sebastián, Spain,\\n\\nSept 2011, pp. 2004-2006.\\n\\n[8] C. García, “Reformulation of the Action and Phase Jump\\n\\nMethod to Obtain Magnetic Errors in the LHC,” Ph.D. the-\\n\\nsis, Phys. Dept., Universidad Nacional de Colombia, Bogotá,\\n\\nColombia, 2016.\\n\\n[9] F. Carlier et al., \"LHC Optics Measurement and Correction\\n\\nSoftware Progress and Plans,\" in Proc. IPAC’19, Melbourne,\\n\\nAustralia, May 2019, pp. 2773-2776.\\n\\nNorth American Particle Acc. Conf. NAPAC2019, Lansing, MI, USA JACoW Publishing\\nISBN: 978-3-95450-223-3 ISSN: 2673-7000 doi:10.18429/JACoW-NAPAC2019-TUZBA5\\n\\n01: Circular and Linear Colliders\\nTUZBA5\\n\\n351\\n\\nCo\\nnt\\n\\nen\\ntf\\n\\nro\\nm\\n\\nth\\nis\\n\\nw\\nor\\n\\nk\\nm\\n\\nay\\nbe\\n\\nus\\ned\\n\\nun\\nde\\n\\nrt\\nhe\\n\\nte\\nrm\\n\\nso\\nft\\n\\nhe\\nCC\\n\\nBY\\n3.\\n\\n0\\nlic\\n\\nen\\nce\\n\\n(©\\n20\\n\\n19\\n).\\n\\nA\\nny\\n\\ndi\\nstr\\n\\nib\\nut\\n\\nio\\nn\\n\\nof\\nth\\n\\nis\\nw\\n\\nor\\nk\\n\\nm\\nus\\n\\ntm\\nai\\n\\nnt\\nai\\n\\nn\\nat\\n\\ntri\\nbu\\n\\ntio\\nn\\n\\nto\\nth\\n\\ne\\nau\\n\\nth\\nor\\n\\n(s\\n),\\n\\ntit\\nle\\n\\nof\\nth\\n\\ne\\nw\\n\\nor\\nk,\\n\\npu\\nbl\\n\\nish\\ner\\n\\n,a\\nnd\\n\\nD\\nO\\n\\nI'},\n",
       "       'fulltext': True,\n",
       "       'key': '73166cbd7557bbbbc35f88eef37a7971',\n",
       "       'url': 'https://inspirehep.net/files/73166cbd7557bbbbc35f88eef37a7971'}],\n",
       "     'citation_count_without_self_citations': 0,\n",
       "     'citation_count': 0,\n",
       "     '$schema': 'https://inspirehep.net/schemas/records/hep.json',\n",
       "     'keywords': [{'schema': 'JACOW', 'value': 'lattice'},\n",
       "      {'schema': 'JACOW', 'value': 'quadrupole'},\n",
       "      {'schema': 'JACOW', 'value': 'software'},\n",
       "      {'schema': 'JACOW', 'value': 'interaction-region'},\n",
       "      {'schema': 'JACOW', 'value': 'experiment'},\n",
       "      {'schema': 'INSPIRE', 'value': 'CERN LHC Coll'},\n",
       "      {'schema': 'INSPIRE', 'value': 'programming'},\n",
       "      {'schema': 'INSPIRE', 'value': 'control system'},\n",
       "      {'schema': 'INSPIRE', 'value': 'beam transport'},\n",
       "      {'schema': 'INSPIRE', 'value': 'beam tune'},\n",
       "      {'schema': 'INSPIRE', 'value': 'beam oscillation'}],\n",
       "     'references': [{'reference': {'label': '1',\n",
       "        'publication_info': {'year': 2003},\n",
       "        'title': {'title': 'Linear and Non Linear Studies at RHIC Interaction Regions and Optical Design of the Rapid Cycling Medical Synchrotron'},\n",
       "        'misc': ['Ph.D. thesis, Phys. Dept., Stony Brook University, Stony Brook, USA'],\n",
       "        'authors': [{'full_name': 'Cardona, J.'}]},\n",
       "       'raw_refs': [{'schema': 'text',\n",
       "         'value': '[1] J. Cardona, “Linear and Non Linear Studies at RHIC Interaction Regions and Optical Design of the Rapid Cycling Medical Synchrotron,” Ph.D. thesis, Phys. Dept., Stony Brook University, Stony Brook, USA, 2003.'}]},\n",
       "      {'reference': {'label': '2',\n",
       "        'publication_info': {'journal_volume': '12',\n",
       "         'artid': '014002',\n",
       "         'year': 2009,\n",
       "         'journal_title': 'Phys.Rev.ST Accel.Beams'},\n",
       "        'title': {'title': 'Linear and nonlinear magnetic error measurements using action and phase jump analysis'},\n",
       "        'authors': [{'full_name': 'Cardona, J.'}, {'full_name': 'Peggs, S.'}]},\n",
       "       'raw_refs': [{'schema': 'text',\n",
       "         'value': '[2] J. Cardona and S. Peggs, “Linear and nonlinear magnetic error measurements using action and phase jump analysis,” Phys. Rev. ST Accel. Beams, vol. 12, p. 014002, Jan. 2009.'}],\n",
       "       'curated_relation': False,\n",
       "       'record': {'$ref': 'https://inspirehep.net/api/literature/813469'}},\n",
       "      {'reference': {'label': '3',\n",
       "        'publication_info': {'journal_volume': '20',\n",
       "         'artid': '111004',\n",
       "         'year': 2017,\n",
       "         'journal_title': 'Phys.Rev.Accel.Beams'},\n",
       "        'title': {'title': 'Local correction of quadrupole errors at LHC interaction regions using action and phase jump analysis on turn-by-turn beam position data'},\n",
       "        'authors': [{'full_name': 'Cardona, J.'},\n",
       "         {'full_name': 'García, C.'},\n",
       "         {'full_name': 'Tomás, R.'}]},\n",
       "       'raw_refs': [{'schema': 'text',\n",
       "         'value': '[3] J. Cardona, C. García and R. Tomás, “Local correction of quadrupole errors at LHC interaction regions using action and phase jump analysis on turn-by-turn beam position data,” Phys. Rev. Accel. Beams, vol. 20, p. 111004, Nov. 2017.'}],\n",
       "       'curated_relation': False,\n",
       "       'record': {'$ref': 'https://inspirehep.net/api/literature/1639185'}},\n",
       "      {'reference': {'label': '4',\n",
       "        'title': {'title': 'Introduction of kmodulation measurements in action and phase jump analysis to estimate corrections in the interaction regions of the LHC'},\n",
       "        'misc': ['submitted for publication'],\n",
       "        'authors': [{'full_name': 'Cardona, J.'},\n",
       "         {'full_name': 'Rodríguez, Y.'},\n",
       "         {'full_name': 'Tomás, R.'}]},\n",
       "       'raw_refs': [{'schema': 'text',\n",
       "         'value': '[4] J. Cardona, Y. Rodríguez and R. Tomás, “Introduction of kmodulation measurements in action and phase jump analysis to estimate corrections in the interaction regions of the LHC,” submitted for publication.'}]},\n",
       "      {'reference': {'label': '5',\n",
       "        'publication_info': {'journal_volume': '20',\n",
       "         'artid': '011005',\n",
       "         'year': 2017,\n",
       "         'journal_title': 'Phys.Rev.Accel.Beams'},\n",
       "        'title': {'title': 'Accuracy and feasibility of the β ∗ measurement for LHC and High Luminosity LHC using k modulation'},\n",
       "        'authors': [{'full_name': 'Carlier, F.'}, {'full_name': 'Tomás, R.'}]},\n",
       "       'raw_refs': [{'schema': 'text',\n",
       "         'value': '[5] F. Carlier and R. Tomás, “ Accuracy and feasibility of the β ∗ measurement for LHC and High Luminosity LHC using k modulation,” Phys. Rev. Accel. Beams, vol. 20, p. 011005, Jan. 2017.'}],\n",
       "       'curated_relation': False,\n",
       "       'record': {'$ref': 'https://inspirehep.net/api/literature/1510178'}},\n",
       "      {'reference': {'label': '6',\n",
       "        'publication_info': {'year': 2015},\n",
       "        'title': {'title': 'The MAD-X Program'},\n",
       "        'misc': ['CERN, Geneva, Switzerland, Oct'],\n",
       "        'authors': [{'full_name': 'Grote, H.'},\n",
       "         {'full_name': 'Schmidt, F.'},\n",
       "         {'full_name': 'Deniau, L.'},\n",
       "         {'full_name': 'Roy, G.'}]},\n",
       "       'raw_refs': [{'schema': 'text',\n",
       "         'value': '[6] H. Grote, F. Schmidt, L. Deniau and G. Roy , “The MAD-X Program ,” CERN, Geneva, Switzerland, Oct. 2015.'}]},\n",
       "      {'reference': {'label': '7',\n",
       "        'publication_info': {'journal_volume': '110904',\n",
       "         'artid': '2004',\n",
       "         'year': 2011,\n",
       "         'page_start': '2004',\n",
       "         'journal_title': 'Conf.Proc.C'},\n",
       "        'title': {'title': 'Comparison of the Action and Phase Analysis on LHC Orbits with Other Techniques'},\n",
       "        'misc': ['in Proc. IPAC’11, San Sebastián, Spain, Sept, pp. 2004-2006'],\n",
       "        'authors': [{'full_name': 'Cardona, J.'},\n",
       "         {'full_name': 'Calaga, R.'},\n",
       "         {'full_name': 'Miyamoto, R.'},\n",
       "         {'full_name': 'Tomás, R.'}]},\n",
       "       'raw_refs': [{'schema': 'text',\n",
       "         'value': '[7] J. Cardona, R. Calaga, R. Miyamoto and R. Tomás, \"Comparison of the Action and Phase Analysis on LHC Orbits with Other Techniques,\" in Proc. IPAC’11, San Sebastián, Spain, Sept 2011, pp. 2004-2006.'}],\n",
       "       'curated_relation': False,\n",
       "       'record': {'$ref': 'https://inspirehep.net/api/literature/1183173'},\n",
       "       'legacy_curated': True},\n",
       "      {'reference': {'label': '8',\n",
       "        'publication_info': {'year': 2016},\n",
       "        'title': {'title': 'Reformulation of the Action and Phase Jump Method to Obtain Magnetic Errors in the LHC'},\n",
       "        'misc': ['Ph.D. thesis, Phys. Dept., Universidad Nacional de Colombia, Bogotá, Colombia'],\n",
       "        'authors': [{'full_name': 'García, C.'}]},\n",
       "       'raw_refs': [{'schema': 'text',\n",
       "         'value': '[8] C. García, “Reformulation of the Action and Phase Jump Method to Obtain Magnetic Errors in the LHC,” Ph.D. thesis, Phys. Dept., Universidad Nacional de Colombia, Bogotá, Colombia, 2016.'}]},\n",
       "      {'reference': {'dois': ['10.18429/JACoW-IPAC2019-WEPGW116'],\n",
       "        'label': '9',\n",
       "        'publication_info': {'year': 2019},\n",
       "        'title': {'title': 'LHC Optics Measurement and Correction Software Progress and Plans'},\n",
       "        'misc': ['in Proc. IPAC’19, Melbourne, Australia, May, pp. 2773-2776. 351'],\n",
       "        'authors': [{'full_name': 'Carlier, F.'}]},\n",
       "       'raw_refs': [{'schema': 'text',\n",
       "         'value': '[9] F. Carlier et al., \"LHC Optics Measurement and Correction Software Progress and Plans,\" in Proc. IPAC’19, Melbourne, Australia, May 2019, pp. 2773-2776.   351'}],\n",
       "       'curated_relation': False,\n",
       "       'record': {'$ref': 'https://inspirehep.net/api/literature/1745425'},\n",
       "       'legacy_curated': True}],\n",
       "     'number_of_pages': 3,\n",
       "     'referenced_authors_bais': ['J.Dilly.1',\n",
       "      'E.H.Maclean.1',\n",
       "      'L.Malina.1',\n",
       "      'J.Cardona.1',\n",
       "      'G.Vanbavinckhove.1',\n",
       "      'R.Calaga.1',\n",
       "      'P.K.Skowronski.1',\n",
       "      'M.Spitznagel.1',\n",
       "      'Yohany.Rodriguez.1',\n",
       "      'Ricard.Tomas.1',\n",
       "      'R.Miyamoto.1',\n",
       "      'F.Carlier.1',\n",
       "      'S.G.Peggs.1',\n",
       "      'Tobias.Persson.1',\n",
       "      'E.Fol.1',\n",
       "      'Ana.Garcia.Tabares.Valdivieso.1',\n",
       "      'J.M.Coello.de.Portugal.1',\n",
       "      'M.Hofer.1',\n",
       "      'Rogelio.Tomas.1',\n",
       "      'A.C.Garcia.Bonilla.1',\n",
       "      'A.Wegscheider.2',\n",
       "      'J.Wenninger.1'],\n",
       "     'legacy_version': '20210210033241.0',\n",
       "     'inspire_categories': [{'term': 'Accelerators'}],\n",
       "     'legacy_creation_date': '2021-01-14',\n",
       "     'author_count': 1,\n",
       "     'first_author': {'emails': ['jfcardona@unal.edu.co'],\n",
       "      'full_name': 'Cardona, Javier',\n",
       "      'last_name': 'Cardona',\n",
       "      'ids': [{'schema': 'JACOW', 'value': 'JACoW-00002732'},\n",
       "       {'schema': 'INSPIRE BAI', 'value': 'J.Cardona.1'}],\n",
       "      'first_name': 'Javier',\n",
       "      'recid': 1937797},\n",
       "     'control_number': 1840971,\n",
       "     'dois': [{'source': 'JACoW', 'value': '10.18429/JACoW-NAPAC2019-TUZBA5'}],\n",
       "     'earliest_date': '2019',\n",
       "     'document_type': ['conference paper'],\n",
       "     'texkeys': ['Cardona:2019kvz', 'Cardona:2020jlu'],\n",
       "     'abstracts': [{'source': 'JACoW',\n",
       "       'value': 'Action and phase jump analysis has been used to estimate corrector strengths in the high luminosity interaction regions of the LHC. It has been proven that these corrections are effective to eliminate the beta-beating that is generated in those important regions and that propagates around the ring. More recently, it was also shown that the beta-beating at the interaction point can also be suppressed by combining k-modulation measurements with action and phase jump analysis. Applying this technique to the re-commissioning of the LHC in 2021 requires a good knowledge of the software developed for action and phase jump analysis over the years. In this paper a detailed description is made of all the modules that are part of this software and the corresponding algorithms.',\n",
       "       'abstract_source_suggest': {'input': 'JACoW'}}],\n",
       "     'titles': [{'source': 'JACoW',\n",
       "       'title': 'Algorithms Used in Action and Phase Jump Analysis to Estimate Corrections to Quadrupole Errors  in the Interaction Regions of the LHC'}],\n",
       "     'facet_author_name': ['1937797_Javier Cardona'],\n",
       "     'core': True,\n",
       "     'license': [{'license': 'CC-BY-3.0',\n",
       "       'imposing': 'JACoW',\n",
       "       'url': 'http://creativecommons.org/licenses/by/3.0/'}],\n",
       "     'imprints': [{'date': '2020-10-30'}],\n",
       "     'curated': False},\n",
       "    'updated': '2023-03-06T23:18:46.761855+00:00',\n",
       "    'links': {'bibtex': 'https://inspirehep.net/api/literature/1840971?format=bibtex',\n",
       "     'latex-eu': 'https://inspirehep.net/api/literature/1840971?format=latex-eu',\n",
       "     'latex-us': 'https://inspirehep.net/api/literature/1840971?format=latex-us',\n",
       "     'json': 'https://inspirehep.net/api/literature/1840971?format=json',\n",
       "     'cv': 'https://inspirehep.net/api/literature/1840971?format=cv',\n",
       "     'citations': 'https://inspirehep.net/api/literature/?q=refersto%3Arecid%3A1840971'},\n",
       "    'id': '1840971'}],\n",
       "  'total': 1},\n",
       " 'links': {'self': 'https://inspirehep.net/api/literature/?q=recid%3A1840971&size=10&page=1',\n",
       "  'bibtex': 'https://inspirehep.net/api/literature/?q=recid%3A1840971&size=10&page=1&format=bibtex',\n",
       "  'latex-eu': 'https://inspirehep.net/api/literature/?q=recid%3A1840971&size=10&page=1&format=latex-eu',\n",
       "  'latex-us': 'https://inspirehep.net/api/literature/?q=recid%3A1840971&size=10&page=1&format=latex-us',\n",
       "  'json': 'https://inspirehep.net/api/literature/?q=recid%3A1840971&size=10&page=1&format=json',\n",
       "  'cv': 'https://inspirehep.net/api/literature/?q=recid%3A1840971&size=10&page=1&format=cv'}}"
      ]
     },
     "execution_count": 393,
     "metadata": {},
     "output_type": "execute_result"
    }
   ],
   "source": [
    "mcj = mc.json().get()"
   ]
  },
  {
   "cell_type": "code",
   "execution_count": 187,
   "id": "1c047306-0744-47ee-8056-edb9ec98ee0a",
   "metadata": {},
   "outputs": [
    {
     "data": {
      "text/html": [
       "<div>\n",
       "<style scoped>\n",
       "    .dataframe tbody tr th:only-of-type {\n",
       "        vertical-align: middle;\n",
       "    }\n",
       "\n",
       "    .dataframe tbody tr th {\n",
       "        vertical-align: top;\n",
       "    }\n",
       "\n",
       "    .dataframe thead th {\n",
       "        text-align: right;\n",
       "    }\n",
       "</style>\n",
       "<table border=\"1\" class=\"dataframe\">\n",
       "  <thead>\n",
       "    <tr style=\"text-align: right;\">\n",
       "      <th></th>\n",
       "      <th>recid</th>\n",
       "      <th>year</th>\n",
       "      <th>citation_count</th>\n",
       "      <th>primary_arxiv_category</th>\n",
       "      <th>journal_id</th>\n",
       "      <th>author_id</th>\n",
       "      <th>institution_id</th>\n",
       "      <th>rank</th>\n",
       "      <th>start_date</th>\n",
       "      <th>end_date</th>\n",
       "      <th>institution</th>\n",
       "      <th>country</th>\n",
       "      <th>current</th>\n",
       "      <th>country_p</th>\n",
       "      <th>email_addresses</th>\n",
       "      <th>full_name</th>\n",
       "      <th>ids</th>\n",
       "      <th>institution_p</th>\n",
       "      <th>institution_id_p</th>\n",
       "      <th>name</th>\n",
       "      <th>papers</th>\n",
       "      <th>positions</th>\n",
       "      <th>profile_id</th>\n",
       "      <th>advisors</th>\n",
       "      <th>gender</th>\n",
       "      <th>first_names</th>\n",
       "      <th>gender_probability</th>\n",
       "    </tr>\n",
       "  </thead>\n",
       "  <tbody>\n",
       "  </tbody>\n",
       "</table>\n",
       "</div>"
      ],
      "text/plain": [
       "Empty DataFrame\n",
       "Columns: [recid, year, citation_count, primary_arxiv_category, journal_id, author_id, institution_id, rank, start_date, end_date, institution, country, current, country_p, email_addresses, full_name, ids, institution_p, institution_id_p, name, papers, positions, profile_id, advisors, gender, first_names, gender_probability]\n",
       "Index: []"
      ]
     },
     "execution_count": 187,
     "metadata": {},
     "output_type": "execute_result"
    }
   ],
   "source": [
    "dpc[ dpc['year'] == 1966 ]"
   ]
  },
  {
   "cell_type": "code",
   "execution_count": 139,
   "id": "4a45832a-b095-465a-ad9c-a7d265716f3e",
   "metadata": {},
   "outputs": [
    {
     "data": {
      "text/plain": [
       "(99426, 27)"
      ]
     },
     "execution_count": 139,
     "metadata": {},
     "output_type": "execute_result"
    }
   ],
   "source": [
    "dpg = dp[dp['gender_probability'] >= 0.9].reset_index(drop=True)\n",
    "dpg.shape"
   ]
  },
  {
   "cell_type": "code",
   "execution_count": 146,
   "id": "e28cc628-1984-4db4-a0a3-649ef1bc4515",
   "metadata": {},
   "outputs": [
    {
     "data": {
      "text/plain": [
       "(81314, 27)"
      ]
     },
     "execution_count": 146,
     "metadata": {},
     "output_type": "execute_result"
    }
   ],
   "source": [
    "dpgp = dpg[dpg['positions'].apply(lambda L: isinstance(L,list))].reset_index(drop=True)\n",
    "dpgp.shape"
   ]
  },
  {
   "cell_type": "code",
   "execution_count": null,
   "id": "f671ec29-df27-4e72-a6b2-4ddb4ef1a456",
   "metadata": {},
   "outputs": [],
   "source": [
    "dpf = dp[dp['gender_probability'] >= 0.9].reset_index(drop=True)\n",
    "dpf.shape"
   ]
  },
  {
   "cell_type": "code",
   "execution_count": 131,
   "id": "8f1a06d9-aff5-47de-8509-dfc121a71bca",
   "metadata": {},
   "outputs": [
    {
     "data": {
      "text/plain": [
       "(53, 27)"
      ]
     },
     "execution_count": 131,
     "metadata": {},
     "output_type": "execute_result"
    }
   ],
   "source": [
    "dpf[dpf['author_id' ] =='D.Restrepo.1']"
   ]
  },
  {
   "cell_type": "code",
   "execution_count": 80,
   "id": "d724d883-4d00-4893-a595-dc5e893b0207",
   "metadata": {},
   "outputs": [
    {
     "data": {
      "text/plain": [
       "(53, 27)"
      ]
     },
     "execution_count": 80,
     "metadata": {},
     "output_type": "execute_result"
    }
   ],
   "source": [
    "DR.drop_duplicates('recid').shape"
   ]
  },
  {
   "cell_type": "code",
   "execution_count": 83,
   "id": "248fe43e-3dc2-4289-815b-38d2dabb2374",
   "metadata": {},
   "outputs": [
    {
     "data": {
      "text/plain": [
       "array([0.])"
      ]
     },
     "execution_count": 83,
     "metadata": {},
     "output_type": "execute_result"
    }
   ],
   "source": [
    "dp[dp['gender'] == 'unknown']['gender_probability'].unique()"
   ]
  },
  {
   "cell_type": "code",
   "execution_count": 87,
   "id": "13266aaf-8f85-4d30-ae6c-bb230489d705",
   "metadata": {},
   "outputs": [
    {
     "data": {
      "text/plain": [
       "(13, 27)"
      ]
     },
     "execution_count": 87,
     "metadata": {},
     "output_type": "execute_result"
    }
   ],
   "source": [
    "dp[dp['gender_probability'].isna()].shape"
   ]
  },
  {
   "cell_type": "code",
   "execution_count": 9,
   "id": "6d2ac13a-2638-47cd-a045-0fcd34b0c8af",
   "metadata": {},
   "outputs": [
    {
     "data": {
      "text/plain": [
       "Index(['recid', 'year', 'citation_count', 'primary_arxiv_category',\n",
       "       'journal_id', 'author_id', 'institution_id', 'rank', 'start_date',\n",
       "       'end_date', 'institution', 'country', 'current'],\n",
       "      dtype='object')"
      ]
     },
     "execution_count": 9,
     "metadata": {},
     "output_type": "execute_result"
    }
   ],
   "source": [
    "dp.columns"
   ]
  },
  {
   "cell_type": "code",
   "execution_count": 10,
   "id": "cdbcc775-c358-4ad8-b953-cd24d49dbe0e",
   "metadata": {},
   "outputs": [
    {
     "data": {
      "text/plain": [
       "(886011, 13)"
      ]
     },
     "execution_count": 10,
     "metadata": {},
     "output_type": "execute_result"
    }
   ],
   "source": [
    "dp.shape"
   ]
  },
  {
   "cell_type": "code",
   "execution_count": 11,
   "id": "91bad6e0-db5d-4f8b-884a-1c39d23a437e",
   "metadata": {},
   "outputs": [
    {
     "data": {
      "text/plain": [
       "(49181, 13)"
      ]
     },
     "execution_count": 11,
     "metadata": {},
     "output_type": "execute_result"
    }
   ],
   "source": [
    "dp.drop_duplicates('recid').shape"
   ]
  },
  {
   "cell_type": "code",
   "execution_count": 12,
   "id": "d72bac76-3e87-46b5-9b5a-21709fdd6250",
   "metadata": {},
   "outputs": [],
   "source": [
    "dp['authors_id'] = dp['recid'].apply(lambda r: dp[dp['recid'] == r].author_id.to_list()) #dp[dp['recid'] == 2023395].author_id.to_list()"
   ]
  },
  {
   "cell_type": "code",
   "execution_count": 13,
   "id": "d335b2db-ae60-4aaf-9d5c-4a4d80b43ad9",
   "metadata": {},
   "outputs": [
    {
     "data": {
      "text/plain": [
       "Index(['author_id', 'country', 'email_addresses', 'full_name', 'ids',\n",
       "       'institution', 'institution_id', 'name', 'papers', 'positions',\n",
       "       'profile_id', 'advisors', 'gender', 'first_names',\n",
       "       'gender_probability'],\n",
       "      dtype='object')"
      ]
     },
     "execution_count": 13,
     "metadata": {},
     "output_type": "execute_result"
    }
   ],
   "source": [
    "DF.columns"
   ]
  },
  {
   "cell_type": "code",
   "execution_count": 14,
   "id": "53b42370-c21a-4b58-ab6d-b82e3a1860c0",
   "metadata": {},
   "outputs": [
    {
     "data": {
      "text/plain": [
       "0                H.Albrecht.1\n",
       "1                   D.M.B.R.1\n",
       "2             D.F.Mundarain.1\n",
       "3                  R.Gaitan.2\n",
       "4            J.Ntahompagaze.1\n",
       "                 ...         \n",
       "57583            R.Nicolsky.1\n",
       "57584       Agostinho.Gomes.1\n",
       "57585    C.A.Z.Vasconcellos.1\n",
       "57586       L.C.Albuquerque.1\n",
       "57587           P.P.Queiroz.2\n",
       "Name: author_id, Length: 57588, dtype: object"
      ]
     },
     "execution_count": 14,
     "metadata": {},
     "output_type": "execute_result"
    }
   ],
   "source": [
    "DF['author_id']"
   ]
  },
  {
   "cell_type": "code",
   "execution_count": 15,
   "id": "16fb8c0a-697d-4ef3-9593-996c1175648d",
   "metadata": {},
   "outputs": [
    {
     "data": {
      "text/plain": [
       "('unknown', np.float64(0.0))"
      ]
     },
     "execution_count": 15,
     "metadata": {},
     "output_type": "execute_result"
    }
   ],
   "source": [
    "a = 'H.Albrecht.1'\n",
    "AP = DF[DF['author_id'] == a]\n",
    "AP['gender'].iloc[0], AP['gender_probability'].iloc[0]"
   ]
  },
  {
   "cell_type": "code",
   "execution_count": 16,
   "id": "599d8a28-7033-4640-8965-0d56cf835960",
   "metadata": {},
   "outputs": [],
   "source": [
    "def get_gender_from_aurhor_id(a,probability = 0.9):\n",
    "    try:\n",
    "        AP = DF[DF['author_id'] == a]\n",
    "        if AP['gender_probability'].iloc[0] >= probability:\n",
    "            return AP['gender'].iloc[0]\n",
    "        else:\n",
    "            return 'unknown'\n",
    "    except:\n",
    "        return 'unknown'"
   ]
  },
  {
   "cell_type": "code",
   "execution_count": 17,
   "id": "46668f29-810e-4f4a-a327-2e5863e7c8ed",
   "metadata": {},
   "outputs": [],
   "source": [
    "UPDATE_genders = True\n",
    "if UPDATE_genders:\n",
    "    dpu = dp.drop_duplicates('recid').reset_index(drop = True)\n",
    "    dpu['genders'] = dpu['authors_id'].apply(lambda L: [get_gender_from_aurhor_id(a) for a in L])\n",
    "    dpu.to_json('papers90.json',orient = 'records')"
   ]
  },
  {
   "cell_type": "code",
   "execution_count": 1,
   "id": "100bca57-8d5d-4498-a74a-317e027d8a00",
   "metadata": {},
   "outputs": [],
   "source": [
    "import pandas as pd"
   ]
  },
  {
   "cell_type": "code",
   "execution_count": 2,
   "id": "2835c470-0440-4600-be89-a58987df2c54",
   "metadata": {},
   "outputs": [],
   "source": [
    "dpu = pd.read_json('papers90.json')\n",
    "#dpu90 = pd.read_json('papers90.json')"
   ]
  },
  {
   "cell_type": "code",
   "execution_count": 4,
   "id": "7655ad7c-363e-445f-94dd-e8d730bccd19",
   "metadata": {},
   "outputs": [],
   "source": [
    "dpu = dpu[dpu['year']!='None'].reset_index(drop=True)"
   ]
  },
  {
   "cell_type": "code",
   "execution_count": 5,
   "id": "f17275c0-ac87-4bc5-b708-64cb1e902a11",
   "metadata": {},
   "outputs": [
    {
     "data": {
      "text/plain": [
       "(45918, 15)"
      ]
     },
     "execution_count": 5,
     "metadata": {},
     "output_type": "execute_result"
    }
   ],
   "source": [
    "dpu.shape"
   ]
  },
  {
   "cell_type": "code",
   "execution_count": 6,
   "id": "83d1f211-331f-4390-809f-9009d59a31d7",
   "metadata": {},
   "outputs": [],
   "source": [
    "pd.set_option('display.max_rows', 5)"
   ]
  },
  {
   "cell_type": "code",
   "execution_count": 7,
   "id": "07ad63db-7ff1-4dd2-afc2-7b128bc9a0c7",
   "metadata": {},
   "outputs": [
    {
     "data": {
      "text/plain": [
       "(45441, 15)"
      ]
     },
     "execution_count": 7,
     "metadata": {},
     "output_type": "execute_result"
    }
   ],
   "source": [
    "dpug = dpu[~((dpu['genders'].apply(len) == 1) & (dpu['genders'].str[0] == 'unknown')) ].reset_index(drop=True)\n",
    "dpug.shape"
   ]
  },
  {
   "cell_type": "code",
   "execution_count": 8,
   "id": "600190ba-bc2d-43bc-a46e-35b172d34607",
   "metadata": {},
   "outputs": [
    {
     "data": {
      "text/plain": [
       "<Axes: xlabel='year'>"
      ]
     },
     "execution_count": 8,
     "metadata": {},
     "output_type": "execute_result"
    },
    {
     "data": {
      "image/png": "[encoded data removed]",
      "text/plain": [
       "<Figure size 640x480 with 1 Axes>"
      ]
     },
     "metadata": {},
     "output_type": "display_data"
    }
   ],
   "source": [
    "dpu[dpu['year'].astype(int)>1970]['year'].value_counts().sort_index().plot(kind='bar')"
   ]
  },
  {
   "cell_type": "code",
   "execution_count": 9,
   "id": "40b9c767-07b1-404b-a366-670e6ce82cd1",
   "metadata": {},
   "outputs": [
    {
     "data": {
      "text/plain": [
       "0.24834482569160188"
      ]
     },
     "execution_count": 9,
     "metadata": {},
     "output_type": "execute_result"
    }
   ],
   "source": [
    "dpug[dpug['genders'].apply(lambda L: 'female' in L)].shape[0] / dpug[dpug['genders'].apply(lambda L: 'female' not in L)].shape[0]"
   ]
  },
  {
   "cell_type": "code",
   "execution_count": 10,
   "id": "0d8aa8c4-b000-4a16-b9d0-22326b950fae",
   "metadata": {},
   "outputs": [],
   "source": [
    "ff = dpug[(dpug['year'].astype(int)>1970) & (dpug['genders'].apply(lambda L: 'female' in L)) ]['year'\n",
    "          ].value_counts().sort_index().to_dict()#.plot(kind='bar')"
   ]
  },
  {
   "cell_type": "code",
   "execution_count": 11,
   "id": "c9aaf445-0e0f-4a26-8568-b6bb41045484",
   "metadata": {},
   "outputs": [],
   "source": [
    "#  dpug[dpug.year.astype(int) == y].shape"
   ]
  },
  {
   "cell_type": "code",
   "execution_count": 12,
   "id": "8ed318a0-fc49-424c-b5eb-fc657c0b5baa",
   "metadata": {},
   "outputs": [
    {
     "data": {
      "text/plain": [
       "np.int64(2021)"
      ]
     },
     "execution_count": 12,
     "metadata": {},
     "output_type": "execute_result"
    }
   ],
   "source": [
    "dpug['year'].apply(int).iloc[0]"
   ]
  },
  {
   "cell_type": "code",
   "execution_count": 13,
   "id": "622cabe2-6c08-46ef-9e0a-e03e8cbbad4a",
   "metadata": {},
   "outputs": [],
   "source": [
    "dpug['year'] = dpug['year'].apply(int)"
   ]
  },
  {
   "cell_type": "code",
   "execution_count": 14,
   "id": "c841a3af-ef81-4dbf-8f5a-bae27b781c9c",
   "metadata": {},
   "outputs": [],
   "source": [
    "FF = {}\n",
    "for y in sorted(dpug['year'].unique()): \n",
    "    Y = dpug[dpug['year'] == y] \n",
    "    FF[y] = Y[Y['genders'].apply(lambda L: 'female' in L)].shape[0] / dpug[dpug['year'] == y].shape[0]"
   ]
  },
  {
   "cell_type": "code",
   "execution_count": 15,
   "id": "8da05923-1d75-42a3-b093-48f160ae955b",
   "metadata": {},
   "outputs": [],
   "source": [
    "%matplotlib inline\n",
    "import matplotlib.pyplot as plt"
   ]
  },
  {
   "cell_type": "code",
   "execution_count": 16,
   "id": "fda49859-56ee-4077-a576-706b53e97f68",
   "metadata": {},
   "outputs": [
    {
     "data": {
      "image/png": "[encoded data removed]",
      "text/plain": [
       "<Figure size 640x480 with 1 Axes>"
      ]
     },
     "metadata": {},
     "output_type": "display_data"
    }
   ],
   "source": [
    "plt.plot(FF.keys(),FF.values(),'ro')\n",
    "plt.plot(FF.keys(),FF.values())\n",
    "plt.xlim(1970, 2023)\n",
    "plt.grid()"
   ]
  },
  {
   "cell_type": "code",
   "execution_count": 52,
   "id": "41bc7cd2-5193-4713-8a92-dcbc869104f8",
   "metadata": {},
   "outputs": [
    {
     "data": {
      "image/png": "[encoded data removed]",
      "text/plain": [
       "<Figure size 640x480 with 1 Axes>"
      ]
     },
     "metadata": {},
     "output_type": "display_data"
    }
   ],
   "source": [
    "plt.plot(FF.keys(),FF.values(),'ro')\n",
    "plt.plot(FF.keys(),FF.values())\n",
    "plt.xlim(1970, 2023)\n",
    "plt.grid()"
   ]
  },
  {
   "cell_type": "code",
   "execution_count": 89,
   "id": "60fa5313-72a2-4d17-b8c2-e36a067fe3c6",
   "metadata": {},
   "outputs": [
    {
     "data": {
      "text/plain": [
       "[<matplotlib.lines.Line2D at 0x7212feccc830>]"
      ]
     },
     "execution_count": 89,
     "metadata": {},
     "output_type": "execute_result"
    },
    {
     "data": {
      "image/png": "[encoded data removed]",
      "text/plain": [
       "<Figure size 640x480 with 1 Axes>"
      ]
     },
     "metadata": {},
     "output_type": "display_data"
    }
   ],
   "source": [
    "plt.plot([ int(y) for y in ff.keys()], ff.values())"
   ]
  },
  {
   "cell_type": "code",
   "execution_count": null,
   "id": "bbaebdaf-f9cd-4e29-b00d-a6c323de804f",
   "metadata": {},
   "outputs": [],
   "source": [
    "DF['first_names'] = DF.apply(lambda row: str(row['full_name']).split(', ')[-1]  \n",
    "                             if row['first_names']=='None' \n",
    "                             else row['first_names'] ,axis = 'columns')"
   ]
  },
  {
   "cell_type": "code",
   "execution_count": null,
   "id": "f9c6a38e-e868-42be-9c90-febe8e827531",
   "metadata": {},
   "outputs": [],
   "source": [
    "DF['gender'].unique()"
   ]
  },
  {
   "cell_type": "code",
   "execution_count": null,
   "id": "b12ae0c7-4fbb-4163-85c8-69644f5ddd5e",
   "metadata": {},
   "outputs": [],
   "source": [
    "print(DF['gender'].shape[0])\n",
    "total = DF['gender'].dropna().shape[0]\n",
    "total"
   ]
  },
  {
   "cell_type": "code",
   "execution_count": null,
   "id": "02326a4a-0b90-4f51-bb4b-04b0582e7955",
   "metadata": {},
   "outputs": [],
   "source": [
    "male = DF[DF['gender'] == 'male'].shape[0]\n",
    "female = DF[DF['gender'] == 'female'].shape[0]\n",
    "unknown = DF[DF['gender'] == 'unknown'].shape[0]\n",
    "unknown = unknown + DF[DF['gender'] == 'andy'].shape[0]"
   ]
  },
  {
   "cell_type": "code",
   "execution_count": null,
   "id": "deaf10ed-0ecc-401a-baab-b120fa2b16ca",
   "metadata": {},
   "outputs": [],
   "source": [
    "assert male + female + unknown == total"
   ]
  },
  {
   "cell_type": "code",
   "execution_count": null,
   "id": "372ab852-ec5d-4213-9eab-59f9decf5b53",
   "metadata": {},
   "outputs": [],
   "source": [
    "male+female"
   ]
  },
  {
   "cell_type": "code",
   "execution_count": null,
   "id": "5e185cbb-060c-4282-9b45-cc250271a51f",
   "metadata": {},
   "outputs": [],
   "source": [
    "male"
   ]
  },
  {
   "cell_type": "code",
   "execution_count": null,
   "id": "85fa9f5b-85dc-4a71-8c50-91db22fda139",
   "metadata": {},
   "outputs": [],
   "source": [
    "female"
   ]
  },
  {
   "cell_type": "code",
   "execution_count": null,
   "id": "19eb39f3-163c-4fa4-896b-a95226b27c0e",
   "metadata": {},
   "outputs": [],
   "source": [
    "round(female/male,2)"
   ]
  },
  {
   "cell_type": "code",
   "execution_count": null,
   "id": "ec47d3e2-2e50-445d-b1b4-303cea966311",
   "metadata": {},
   "outputs": [],
   "source": [
    "unknown"
   ]
  },
  {
   "cell_type": "code",
   "execution_count": null,
   "id": "b132d164-3484-4213-9121-b19f7bd6d6e4",
   "metadata": {},
   "outputs": [],
   "source": [
    "DFFM = DF[ (( DF['gender'] == 'female') | ( DF['gender'] == 'male')) ]\n",
    "DFFM.shape"
   ]
  },
  {
   "cell_type": "code",
   "execution_count": null,
   "id": "04624db7-e0cb-47b0-bbe2-1cdb62244939",
   "metadata": {},
   "outputs": [],
   "source": [
    "DFU = DF[ ~(( DF['gender'] == 'female') | ( DF['gender'] == 'male')) ]\n",
    "DFU.shape"
   ]
  },
  {
   "cell_type": "code",
   "execution_count": null,
   "id": "bff53f45-632f-4d41-b2e9-e26d1c24740a",
   "metadata": {},
   "outputs": [],
   "source": [
    "DFFM[['author_id','first_names','country','gender']].sample(50)"
   ]
  },
  {
   "cell_type": "code",
   "execution_count": null,
   "id": "40caa1c4-5e7c-4b87-a1c8-aac53588df37",
   "metadata": {},
   "outputs": [],
   "source": [
    "#[['first_names','country','gender']]\n",
    "DFU.sample(50)[['author_id','full_name','name','country','gender']]"
   ]
  },
  {
   "cell_type": "markdown",
   "id": "f6987eed-023e-4cf5-b7eb-0075259ab853",
   "metadata": {},
   "source": [
    "check specific entries"
   ]
  },
  {
   "cell_type": "code",
   "execution_count": null,
   "id": "74ef8f43-72ec-4e15-8b79-6e0591ecc360",
   "metadata": {},
   "outputs": [],
   "source": [
    "JSON([d for d in df if d.get('author_id')=='F.Fontanot.3'][0])"
   ]
  },
  {
   "cell_type": "code",
   "execution_count": null,
   "id": "fb361aa0-f13c-40c0-a05e-ff1fc9743680",
   "metadata": {},
   "outputs": [],
   "source": [
    "import requests\n",
    "au = requests.get('https://inspirehep.net/api/authors?sort=bestmatch&size=250&page=1')\n",
    "if au.status_code == 200:\n",
    "    au = au.json()"
   ]
  },
  {
   "cell_type": "code",
   "execution_count": null,
   "id": "c90c78f9-3ba4-4e54-b353-e900510c8d00",
   "metadata": {},
   "outputs": [],
   "source": [
    "len(au['hits']['hits'])"
   ]
  },
  {
   "cell_type": "code",
   "execution_count": null,
   "id": "9e4e0529-e3d9-4ac2-8992-6fd992e8d74f",
   "metadata": {},
   "outputs": [],
   "source": [
    "au['links']['next']"
   ]
  },
  {
   "cell_type": "code",
   "execution_count": null,
   "id": "79d61e74-8a77-420d-9932-ff6a1f5c8cca",
   "metadata": {},
   "outputs": [],
   "source": [
    "# https://github.com/inspirehep/rest-api-doc/issues/20#issuecomment-997932079\n",
    "url='https://inspirehep.net/api/authors?sort=bestmatch&size=250&page=1&q=control_number:[1+TO+2852058]'\n",
    "au = requests.get(url)\n",
    "if au.status_code == 200:\n",
    "    au = au.json()"
   ]
  },
  {
   "cell_type": "code",
   "execution_count": null,
   "id": "0d2181d8-3668-4ee5-be14-9bb28c6f8481",
   "metadata": {},
   "outputs": [],
   "source": [
    "len(au['hits']['hits'])"
   ]
  },
  {
   "cell_type": "code",
   "execution_count": null,
   "id": "c422bc81-6ce8-4824-a601-587e358d845c",
   "metadata": {},
   "outputs": [],
   "source": [
    "au.status_code"
   ]
  },
  {
   "cell_type": "code",
   "execution_count": null,
   "id": "d9f93691-bc2a-4bf7-8981-85660f11940e",
   "metadata": {},
   "outputs": [],
   "source": [
    "au = requests.get(url)"
   ]
  },
  {
   "cell_type": "code",
   "execution_count": null,
   "id": "9e1042fd-2832-40ae-89c7-6be080a2fb5d",
   "metadata": {},
   "outputs": [],
   "source": [
    "step = 10000\n",
    "ini = 981872\n",
    "end = ini + step\n",
    "for i in range(187):\n",
    "    print(f'control_number:[{ini} TO {end}]')\n",
    "    ini = end + 1\n",
    "    end = ini + step"
   ]
  },
  {
   "cell_type": "code",
   "execution_count": null,
   "id": "1f4c16b0-0c0a-46da-9422-c3c865c45cd8",
   "metadata": {},
   "outputs": [],
   "source": []
  },
  {
   "cell_type": "code",
   "execution_count": null,
   "id": "01d13bed-874a-4e21-98fc-41c8314fce1e",
   "metadata": {},
   "outputs": [],
   "source": [
    "au.status_code"
   ]
  },
  {
   "cell_type": "code",
   "execution_count": null,
   "id": "bd87849b-d1b4-4e4d-88e7-c8a4f2088445",
   "metadata": {},
   "outputs": [],
   "source": [
    "len(au.json()['hits']['hits'])"
   ]
  },
  {
   "cell_type": "markdown",
   "id": "1990fe81-6816-47dd-8812-b27306284d71",
   "metadata": {},
   "source": [
    "o"
   ]
  }
 ],
 "metadata": {
  "kernelspec": {
   "display_name": "Python 3 (ipykernel)",
   "language": "python",
   "name": "python3"
  },
  "language_info": {
   "codemirror_mode": {
    "name": "ipython",
    "version": 3
   },
   "file_extension": ".py",
   "mimetype": "text/x-python",
   "name": "python",
   "nbconvert_exporter": "python",
   "pygments_lexer": "ipython3",
   "version": "3.12.3"
  }
 },
 "nbformat": 4,
 "nbformat_minor": 5
}
