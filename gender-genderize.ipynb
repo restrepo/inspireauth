{
 "cells": [
  {
   "cell_type": "markdown",
   "id": "9a5da8af-cf9f-47bf-ac1b-f2476cf8a59a",
   "metadata": {},
   "source": [
    "# Get gender"
   ]
  },
  {
   "cell_type": "markdown",
   "id": "24d09b56-2069-4d59-a1a7-58062055b5f5",
   "metadata": {},
   "source": [
    "## Add `'gender'` key to database"
   ]
  },
  {
   "cell_type": "code",
   "execution_count": 1,
   "id": "3e8d053a-784f-4c06-a11a-932afaa14056",
   "metadata": {},
   "outputs": [],
   "source": [
    "import requests\n",
    "from IPython.display import JSON\n",
    "from gender_guesser_first_names import gender\n",
    "from re import sub\n",
    "from re import search\n",
    "from re import UNICODE\n",
    "import json\n",
    "import country_converter as coco"
   ]
  },
  {
   "cell_type": "code",
   "execution_count": 266,
   "id": "54ab8b1e-7ae1-49ea-b8f1-ab8dfaa6e627",
   "metadata": {},
   "outputs": [],
   "source": [
    "LOCAL=False\n",
    "if LOCAL:\n",
    "    f=open('data/inspire_LA.json','r')\n",
    "    df=json.load(f)\n",
    "    f.close()\n",
    "else:\n",
    "    file ='https://github.com/restrepo/inspireauth/raw/main/data/inspire_LA.json'\n",
    "    #file = 'https://github.com/restrepo/inspireauth/raw/e92dd3e002f6931ded19fb450b5238e09665b34b/data/inspire_LA.json'\n",
    "    r=requests.get(file)\n",
    "    df=r.json()"
   ]
  },
  {
   "cell_type": "code",
   "execution_count": 3,
   "id": "8b485b40-c4fe-4c5c-9586-290ee1faae8d",
   "metadata": {},
   "outputs": [],
   "source": [
    "import pandas as pd"
   ]
  },
  {
   "cell_type": "code",
   "execution_count": 4,
   "id": "0e62c80d-c37c-4455-af49-4c155a628587",
   "metadata": {},
   "outputs": [
    {
     "name": "stdout",
     "output_type": "stream",
     "text": [
      "TOTAL: 57588\n",
      "Unique autors: 29979\n",
      "Remove first names with only intials: 20125 =             male:  16013 + female: 3253 + unknown: 10713.\n",
      "             \n",
      "Select found gender found probability from 95%: 17634\n",
      "female ratio at probability at 95%: 16.0%\n"
     ]
    }
   ],
   "source": [
    "UPDATED = True\n",
    "if UPDATED:\n",
    "    TMP  = pd.DataFrame(df)\n",
    "    TMPU = TMP.drop_duplicates('author_id').reset_index(drop=True)\n",
    "    TMPUI = TMPU[TMPU['first_names'].apply(len)>0].reset_index(drop=True)\n",
    "    TMPUA = TMPUI[TMPUI['gender_probability']>0.94].reset_index(drop=True)\n",
    "    \n",
    "    print(f'TOTAL: {TMP.shape[0]}')\n",
    "    print(f'Unique autors: {TMPU.shape[0]}')\n",
    "    print(f'''Remove first names with only intials: {TMPUI.shape[0]} = \\\n",
    "            male:  {TMPU[TMPU['gender']=='male'].shape[0]} + female: {\n",
    "                    TMPU[TMPU['gender']=='female'].shape[0]} + unknown: {\n",
    "                    TMPU[TMPU['gender']=='unknown'].shape[0]}.\n",
    "             ''')\n",
    "    print(f'Select found gender found probability from 95%: {TMPUA.shape[0]}')\n",
    "    print(f'female ratio at probability at 95%: { \n",
    "                   round(TMPUA[TMPUA['gender']=='female'].shape[0]/(TMPUA[TMPUA['gender']=='female'].shape[0] + TMPUA[TMPUA['gender']=='male'].shape[0]),2)*100  }%')"
   ]
  },
  {
   "cell_type": "markdown",
   "id": "9e6f688f-88a3-4db0-8358-c0abb46e5421",
   "metadata": {},
   "source": [
    "Fill missing `author_id`s with `unknown` + counter "
   ]
  },
  {
   "cell_type": "code",
   "execution_count": 29,
   "id": "b55f03fc-c510-4cd6-9a4c-17a3ad0747da",
   "metadata": {},
   "outputs": [
    {
     "data": {
      "text/plain": [
       "((57588, 15), (57588, 15))"
      ]
     },
     "execution_count": 29,
     "metadata": {},
     "output_type": "execute_result"
    }
   ],
   "source": [
    "DF = pd.DataFrame(df)\n",
    "DFA = DF[~DF['author_id'].isna()]\n",
    "DF.shape,DFA.shape"
   ]
  },
  {
   "cell_type": "code",
   "execution_count": 30,
   "id": "f8874f1a-327f-4b7d-a615-310ed02904c4",
   "metadata": {},
   "outputs": [],
   "source": [
    "unkown_prefix = 'unknown'\n",
    "DFB = DF[DF['author_id'].isna()].reset_index(drop=True)\n",
    "DFB['author_id']=[f'{unkown_prefix}{str(x).zfill(2)}' for x in range(DFB.shape[0])]"
   ]
  },
  {
   "cell_type": "code",
   "execution_count": 31,
   "id": "896104c6-0521-4b36-b073-6d01b287176f",
   "metadata": {},
   "outputs": [],
   "source": [
    "TMP = DFB[DFB.duplicated(subset='full_name',keep=False)].sort_values('author_id')\n",
    "\n",
    "#https://saturncloud.io/blog/how-to-update-a-cell-value-in-pandas-dataframe\n",
    "i_analysed = []\n",
    "for i in TMP.index:\n",
    "    if i not in i_analysed:\n",
    "        print(i)\n",
    "        # Extract each set of duplicates\n",
    "        full_name = TMP.loc[i,'full_name']\n",
    "        author_id = TMP.loc[i,'author_id']\n",
    "        i_analysed = i_analysed + list(TMP.loc[TMP['full_name'] == full_name].index)\n",
    "        DF.loc[ (DF['full_name'] == full_name) & (DF['author_id'].str.contains(unkown_prefix)) , 'author_id'] = author_id\n",
    "\n",
    "del TMP"
   ]
  },
  {
   "cell_type": "code",
   "execution_count": 32,
   "id": "281a8b7a-b43b-4c5c-915c-cca8b3d9d077",
   "metadata": {},
   "outputs": [
    {
     "data": {
      "text/plain": [
       "(57588, 15)"
      ]
     },
     "execution_count": 32,
     "metadata": {},
     "output_type": "execute_result"
    }
   ],
   "source": [
    "DF = pd.concat((DFA,DFB)).reset_index(drop=True)\n",
    "del DFA\n",
    "del DFB\n",
    "DF.shape"
   ]
  },
  {
   "cell_type": "markdown",
   "id": "46e68608-2e85-407b-91b0-1674d20a1c5d",
   "metadata": {},
   "source": [
    "Prepare names and countries for `gender_guesser` and [https://genderize.io](https://genderize.io) csv input"
   ]
  },
  {
   "cell_type": "code",
   "execution_count": 33,
   "id": "be88c0d0-239a-4ee1-9f53-e8d75c5269b5",
   "metadata": {},
   "outputs": [],
   "source": [
    "def remove_initials(d):\n",
    "    '''\n",
    "     Get names from `name.value` and if empty get it from `full_name`\n",
    "     and using `country` information if avalaible\n",
    "    '''\n",
    "    if (d.get('name') and d.get('name').get('value') ):\n",
    "        first_names = d.get('name').get('value').split(', ')[-1].replace('-',' ').strip()\n",
    "    elif d.get('full_name'):\n",
    "        first_names = d.get('full_name').split(', ')[-1].replace('-',' ').strip()\n",
    "    else:\n",
    "        first_names = ''\n",
    "    x = first_names\n",
    "    x = sub(r'[\\|†•]','',x).strip()\n",
    "    x = sub(r'\\.',' ',   x, UNICODE).strip()\n",
    "    x = sub(r'\\s\\w\\s','',x, UNICODE).strip()\n",
    "    x = sub(r'^\\w\\s','',x, UNICODE).strip()\n",
    "    x = sub(r'\\s\\w$','',x, UNICODE).strip()\n",
    "    x = sub(r'^\\w$','',x, UNICODE).strip()\n",
    "    x = sub(r'^[A-Z]{2}$','',x, UNICODE)\n",
    "    \n",
    "    return x"
   ]
  },
  {
   "cell_type": "code",
   "execution_count": 34,
   "id": "7c155226-5bf8-4766-9a0c-cbd377627b3b",
   "metadata": {},
   "outputs": [],
   "source": [
    "DF['names'] = DF.apply(lambda d: remove_initials(d), axis='columns')"
   ]
  },
  {
   "cell_type": "code",
   "execution_count": 35,
   "id": "1ba00a5d-fa64-4422-afbc-1b14adf410ca",
   "metadata": {},
   "outputs": [],
   "source": [
    "DFU = DF[['country']].drop_duplicates()"
   ]
  },
  {
   "cell_type": "code",
   "execution_count": 36,
   "id": "505890f4-7a65-40a4-a77f-57ce17774197",
   "metadata": {},
   "outputs": [
    {
     "name": "stderr",
     "output_type": "stream",
     "text": [
      "None not found in regex\n"
     ]
    }
   ],
   "source": [
    "DFU['country_id'] = DFU['country'].astype(str).replace('Serbia and Montenegro','Serbia').apply(lambda c: coco.convert(names=c, to='ISO2')).replace('not found','')"
   ]
  },
  {
   "cell_type": "code",
   "execution_count": 37,
   "id": "a4487d51-d3cf-4529-b7b6-f4e18c3bf2f1",
   "metadata": {},
   "outputs": [],
   "source": [
    "DF = DF.merge(DFU,on='country',how='left')"
   ]
  },
  {
   "cell_type": "code",
   "execution_count": 38,
   "id": "e65a3deb-83da-45c9-b97c-148669ddb726",
   "metadata": {},
   "outputs": [],
   "source": [
    "del DFU"
   ]
  },
  {
   "cell_type": "code",
   "execution_count": 39,
   "id": "a9098d6e-0b66-441e-b26d-a6586e032c59",
   "metadata": {},
   "outputs": [
    {
     "data": {
      "text/plain": [
       "array(['VE', 'CL'], dtype=object)"
      ]
     },
     "execution_count": 39,
     "metadata": {},
     "output_type": "execute_result"
    }
   ],
   "source": [
    "DF['country_id'].unique()[:2]"
   ]
  },
  {
   "cell_type": "code",
   "execution_count": 40,
   "id": "6a229871-7a05-4165-a3e4-c705e68ee76b",
   "metadata": {},
   "outputs": [
    {
     "data": {
      "text/plain": [
       "(29979, 4)"
      ]
     },
     "execution_count": 40,
     "metadata": {},
     "output_type": "execute_result"
    }
   ],
   "source": [
    "DFU = DF[['author_id','names','country','country_id']].rename({'names':'name'},axis='columns').drop_duplicates('author_id').reset_index(drop=True)\n",
    "DFU.shape"
   ]
  },
  {
   "cell_type": "markdown",
   "id": "831c31b6-3f40-4848-8ac0-198bf764d2ad",
   "metadata": {},
   "source": [
    "`gender_guesser`"
   ]
  },
  {
   "cell_type": "code",
   "execution_count": 41,
   "id": "4a764dc2-4463-46f5-84cd-646c7d245dce",
   "metadata": {},
   "outputs": [],
   "source": [
    "D=gender.Detector(case_sensitive=False)\n",
    "def force_get_gender(d,first_names='names'):\n",
    "    '''\n",
    "     Get names from `name.value` and if empty get it from `full_name`\n",
    "     and using `country` information if avalaible\n",
    "    '''\n",
    "    gender = 'unknown'\n",
    "    names = d.get(first_names)\n",
    "    if names:\n",
    "        if d.get('country'):\n",
    "            gender = D.get_gender( names, country=d.get('country').strip() )\n",
    "        else:\n",
    "            gender = D.get_gender( names )\n",
    "    return gender"
   ]
  },
  {
   "cell_type": "code",
   "execution_count": 42,
   "id": "29d11a9b-026c-431e-9805-2e329f6e78f9",
   "metadata": {},
   "outputs": [],
   "source": [
    "DFU['gender'] = DFU.apply(lambda d: force_get_gender(d,first_names='name'), axis='columns')"
   ]
  },
  {
   "cell_type": "code",
   "execution_count": 43,
   "id": "a41eaa28-44af-437e-80ee-323d498e4696",
   "metadata": {},
   "outputs": [
    {
     "data": {
      "text/plain": [
       "(29979, 5)"
      ]
     },
     "execution_count": 43,
     "metadata": {},
     "output_type": "execute_result"
    }
   ],
   "source": [
    "DFU.shape"
   ]
  },
  {
   "cell_type": "markdown",
   "id": "4eae1f4a-0275-4e5c-9757-b5bb7156f47b",
   "metadata": {},
   "source": [
    "[https://genderize.io](https://genderize.io) csv input"
   ]
  },
  {
   "cell_type": "code",
   "execution_count": 44,
   "id": "530b494a-61b6-4555-aa0b-b098fb320197",
   "metadata": {},
   "outputs": [
    {
     "data": {
      "text/plain": [
       "(29979, 20125, 9854, 0.33)"
      ]
     },
     "execution_count": 44,
     "metadata": {},
     "output_type": "execute_result"
    }
   ],
   "source": [
    "DFUA = DFU[DFU['name'].apply(len)>0].reset_index(drop=True)\n",
    "DFUB = DFU[DFU['name'].apply(len)==0].reset_index(drop=True)\n",
    "DFU.shape[0], DFUA.shape[0], DFUB.shape[0],round( DFUB.shape[0] / DFU.shape[0],2)"
   ]
  },
  {
   "cell_type": "code",
   "execution_count": 45,
   "id": "ec2d1fb6-ab64-40e1-b4fa-9e67699af6b2",
   "metadata": {},
   "outputs": [
    {
     "data": {
      "text/plain": [
       "Index(['author_id', 'name', 'country', 'country_id', 'gender'], dtype='object')"
      ]
     },
     "execution_count": 45,
     "metadata": {},
     "output_type": "execute_result"
    }
   ],
   "source": [
    "DFUA.columns"
   ]
  },
  {
   "cell_type": "code",
   "execution_count": 46,
   "id": "f1fb9e78-210b-4704-81ff-82abf4a1e2f7",
   "metadata": {},
   "outputs": [
    {
     "data": {
      "text/html": [
       "<div>\n",
       "<style scoped>\n",
       "    .dataframe tbody tr th:only-of-type {\n",
       "        vertical-align: middle;\n",
       "    }\n",
       "\n",
       "    .dataframe tbody tr th {\n",
       "        vertical-align: top;\n",
       "    }\n",
       "\n",
       "    .dataframe thead th {\n",
       "        text-align: right;\n",
       "    }\n",
       "</style>\n",
       "<table border=\"1\" class=\"dataframe\">\n",
       "  <thead>\n",
       "    <tr style=\"text-align: right;\">\n",
       "      <th></th>\n",
       "      <th>author_id</th>\n",
       "      <th>name</th>\n",
       "      <th>country</th>\n",
       "      <th>country_id</th>\n",
       "      <th>gender</th>\n",
       "    </tr>\n",
       "  </thead>\n",
       "  <tbody>\n",
       "    <tr>\n",
       "      <th>0</th>\n",
       "      <td>H.Albrecht.1</td>\n",
       "      <td>Hartwig</td>\n",
       "      <td>Venezuela</td>\n",
       "      <td>VE</td>\n",
       "      <td>male</td>\n",
       "    </tr>\n",
       "    <tr>\n",
       "      <th>1</th>\n",
       "      <td>D.M.B.R.1</td>\n",
       "      <td>David Bellorin</td>\n",
       "      <td>Venezuela</td>\n",
       "      <td>VE</td>\n",
       "      <td>male</td>\n",
       "    </tr>\n",
       "    <tr>\n",
       "      <th>2</th>\n",
       "      <td>D.F.Mundarain.1</td>\n",
       "      <td>Douglas</td>\n",
       "      <td>Chile</td>\n",
       "      <td>CL</td>\n",
       "      <td>male</td>\n",
       "    </tr>\n",
       "    <tr>\n",
       "      <th>3</th>\n",
       "      <td>R.Gaitan.2</td>\n",
       "      <td>Rolando</td>\n",
       "      <td>Venezuela</td>\n",
       "      <td>VE</td>\n",
       "      <td>male</td>\n",
       "    </tr>\n",
       "    <tr>\n",
       "      <th>4</th>\n",
       "      <td>J.Ntahompagaze.1</td>\n",
       "      <td>Joseph</td>\n",
       "      <td>Rwanda</td>\n",
       "      <td>RW</td>\n",
       "      <td>male</td>\n",
       "    </tr>\n",
       "    <tr>\n",
       "      <th>...</th>\n",
       "      <td>...</td>\n",
       "      <td>...</td>\n",
       "      <td>...</td>\n",
       "      <td>...</td>\n",
       "      <td>...</td>\n",
       "    </tr>\n",
       "    <tr>\n",
       "      <th>20120</th>\n",
       "      <td>R.Weber.2</td>\n",
       "      <td>Ronald</td>\n",
       "      <td>Brazil</td>\n",
       "      <td>BR</td>\n",
       "      <td>male</td>\n",
       "    </tr>\n",
       "    <tr>\n",
       "      <th>20121</th>\n",
       "      <td>H.J.Drescher.1</td>\n",
       "      <td>Hans Joachim</td>\n",
       "      <td>Germany</td>\n",
       "      <td>DE</td>\n",
       "      <td>male</td>\n",
       "    </tr>\n",
       "    <tr>\n",
       "      <th>20122</th>\n",
       "      <td>A.A.P.Videira.1</td>\n",
       "      <td>AntonioP</td>\n",
       "      <td>Brazil</td>\n",
       "      <td>BR</td>\n",
       "      <td>unknown</td>\n",
       "    </tr>\n",
       "    <tr>\n",
       "      <th>20123</th>\n",
       "      <td>A.Mocsy.1</td>\n",
       "      <td>Agnes</td>\n",
       "      <td>United States</td>\n",
       "      <td>US</td>\n",
       "      <td>female</td>\n",
       "    </tr>\n",
       "    <tr>\n",
       "      <th>20124</th>\n",
       "      <td>R.Nicolsky.1</td>\n",
       "      <td>Roberto</td>\n",
       "      <td>Brazil</td>\n",
       "      <td>BR</td>\n",
       "      <td>male</td>\n",
       "    </tr>\n",
       "  </tbody>\n",
       "</table>\n",
       "<p>20125 rows × 5 columns</p>\n",
       "</div>"
      ],
      "text/plain": [
       "              author_id            name        country country_id   gender\n",
       "0          H.Albrecht.1         Hartwig      Venezuela         VE     male\n",
       "1             D.M.B.R.1  David Bellorin      Venezuela         VE     male\n",
       "2       D.F.Mundarain.1         Douglas          Chile         CL     male\n",
       "3            R.Gaitan.2         Rolando      Venezuela         VE     male\n",
       "4      J.Ntahompagaze.1          Joseph         Rwanda         RW     male\n",
       "...                 ...             ...            ...        ...      ...\n",
       "20120         R.Weber.2          Ronald         Brazil         BR     male\n",
       "20121    H.J.Drescher.1    Hans Joachim        Germany         DE     male\n",
       "20122   A.A.P.Videira.1        AntonioP         Brazil         BR  unknown\n",
       "20123         A.Mocsy.1           Agnes  United States         US   female\n",
       "20124      R.Nicolsky.1         Roberto         Brazil         BR     male\n",
       "\n",
       "[20125 rows x 5 columns]"
      ]
     },
     "execution_count": 46,
     "metadata": {},
     "output_type": "execute_result"
    }
   ],
   "source": [
    "DFUA"
   ]
  },
  {
   "cell_type": "code",
   "execution_count": 47,
   "id": "1a609ea5-5f74-478c-8f82-8d8bc77903bd",
   "metadata": {},
   "outputs": [
    {
     "data": {
      "text/plain": [
       "(20125, 5)"
      ]
     },
     "execution_count": 47,
     "metadata": {},
     "output_type": "execute_result"
    }
   ],
   "source": [
    "DFUA.shape"
   ]
  },
  {
   "cell_type": "code",
   "execution_count": 48,
   "id": "5a02d951-1a87-4b00-b11a-37f6cd995573",
   "metadata": {},
   "outputs": [],
   "source": [
    "DFUA.to_csv('/home/restrepo/Downloads/genderize.csv',index=False)"
   ]
  },
  {
   "cell_type": "markdown",
   "id": "0855cb1d-335f-4bc0-8b28-6b21d08d8efb",
   "metadata": {},
   "source": [
    "Analysis of  [https://genderize.io](https://genderize.io) csv output"
   ]
  },
  {
   "cell_type": "code",
   "execution_count": 53,
   "id": "4beded56-6baf-490f-8a6d-1cbf27788b14",
   "metadata": {},
   "outputs": [],
   "source": [
    "csv = 'data/genderize.csv'\n",
    "DFUA = pd.read_csv(csv)"
   ]
  },
  {
   "cell_type": "code",
   "execution_count": 54,
   "id": "8ab7a53b-e874-4273-baec-bba0c96aea12",
   "metadata": {},
   "outputs": [],
   "source": [
    "DFU = pd.concat((DFUA,DFUB)).reset_index(drop=True)"
   ]
  },
  {
   "cell_type": "code",
   "execution_count": 55,
   "id": "a9440e33-1460-4236-b881-901c0591a15f",
   "metadata": {},
   "outputs": [
    {
     "data": {
      "text/html": [
       "<div>\n",
       "<style scoped>\n",
       "    .dataframe tbody tr th:only-of-type {\n",
       "        vertical-align: middle;\n",
       "    }\n",
       "\n",
       "    .dataframe tbody tr th {\n",
       "        vertical-align: top;\n",
       "    }\n",
       "\n",
       "    .dataframe thead th {\n",
       "        text-align: right;\n",
       "    }\n",
       "</style>\n",
       "<table border=\"1\" class=\"dataframe\">\n",
       "  <thead>\n",
       "    <tr style=\"text-align: right;\">\n",
       "      <th></th>\n",
       "      <th>author_id</th>\n",
       "      <th>name</th>\n",
       "      <th>country</th>\n",
       "      <th>country_id</th>\n",
       "      <th>gender</th>\n",
       "      <th>Gender</th>\n",
       "      <th>Gender Probability</th>\n",
       "      <th>Gender Count</th>\n",
       "    </tr>\n",
       "  </thead>\n",
       "  <tbody>\n",
       "    <tr>\n",
       "      <th>0</th>\n",
       "      <td>H.Albrecht.1</td>\n",
       "      <td>Hartwig</td>\n",
       "      <td>Venezuela</td>\n",
       "      <td>VE</td>\n",
       "      <td>male</td>\n",
       "      <td>unknown</td>\n",
       "      <td>0.0</td>\n",
       "      <td>0.0</td>\n",
       "    </tr>\n",
       "  </tbody>\n",
       "</table>\n",
       "</div>"
      ],
      "text/plain": [
       "      author_id     name    country country_id gender   Gender  \\\n",
       "0  H.Albrecht.1  Hartwig  Venezuela         VE   male  unknown   \n",
       "\n",
       "   Gender Probability  Gender Count  \n",
       "0                 0.0           0.0  "
      ]
     },
     "execution_count": 55,
     "metadata": {},
     "output_type": "execute_result"
    }
   ],
   "source": [
    "DFU['Gender'] = DFU['Gender'].fillna('unknown')\n",
    "DFU['Gender Probability'] = DFU['Gender Probability'].fillna(0)\n",
    "DFU['Gender Count'] = DFU['Gender Count'].fillna(0)\n",
    "DFU[:1]"
   ]
  },
  {
   "cell_type": "code",
   "execution_count": 56,
   "id": "f12111a1-267e-4ce3-9b11-1bda2db936f0",
   "metadata": {},
   "outputs": [
    {
     "name": "stdout",
     "output_type": "stream",
     "text": [
      "gender-guesser, genderize.io\n"
     ]
    },
    {
     "data": {
      "text/plain": [
       "((16968, 8), (19266, 8))"
      ]
     },
     "execution_count": 56,
     "metadata": {},
     "output_type": "execute_result"
    }
   ],
   "source": [
    "print('gender-guesser, genderize.io')\n",
    "DFU[DFU['gender'].apply(lambda s: s in ['male','female'])].shape, DFU[DFU['Gender'].apply(lambda s: s in ['male','female'])].shape"
   ]
  },
  {
   "cell_type": "markdown",
   "id": "0c610c20-dd9a-4437-ac7d-29a72970a02f",
   "metadata": {},
   "source": [
    "Update official dataset"
   ]
  },
  {
   "cell_type": "code",
   "execution_count": 57,
   "id": "88ced6d7-949b-42e4-9bce-7e18d0619f20",
   "metadata": {},
   "outputs": [],
   "source": [
    "d_gender = dict(zip( DFU['author_id'], DFU['Gender'] ) )\n",
    "d_first_names = dict(zip( DFU['author_id'], DFU.rename({'name':'first_names'},axis='columns')['first_names'] ) )\n",
    "d_prob   = dict(zip( DFU['author_id'], DFU['Gender Probability'] ) )\n",
    "unknown = DF[DF['author_id'].str.contains('unknown')]\n",
    "d_author_id = dict(zip(unknown['full_name'],unknown['author_id']))"
   ]
  },
  {
   "cell_type": "code",
   "execution_count": 58,
   "id": "08c38161-26b0-4b51-bef7-cac0d3980f3d",
   "metadata": {},
   "outputs": [],
   "source": [
    "UPDATE = False\n",
    "if UPDATE:\n",
    "    for author_id in DFU['author_id']:\n",
    "        kk = [d.update( {'first_names': d_first_names[author_id], \n",
    "                         'gender':      d_gender[author_id] ,\n",
    "                         'gender_probability': d_prob[author_id]  } )\n",
    "                  for d in df if d.get('author_id') == author_id]"
   ]
  },
  {
   "cell_type": "code",
   "execution_count": 6,
   "id": "3a71b6d0-42b5-4386-b004-42058c20d1f7",
   "metadata": {},
   "outputs": [
    {
     "name": "stdout",
     "output_type": "stream",
     "text": [
      "TOTAL: 57588\n",
      "Unique autors: 29979\n",
      "Remove first names with only intials: 20125 =         male:  16013 + female: 3253 + unknown: 10713.\n",
      "         \n",
      "Select found gender found probability from 95%: 17954\n",
      "female ratio at probability at 95%: 16.0%\n"
     ]
    }
   ],
   "source": [
    "TMP  = pd.DataFrame(df)\n",
    "TMPU = TMP.drop_duplicates('author_id').reset_index(drop=True)\n",
    "TMPUI = TMPU[TMPU['first_names'].apply(len)>0].reset_index(drop=True)\n",
    "TMPUA = TMPUI[TMPUI['gender_probability']>0.9].reset_index(drop=True)\n",
    "\n",
    "print(f'TOTAL: {TMP.shape[0]}')\n",
    "print(f'Unique autors: {TMPU.shape[0]}')\n",
    "print(f'''Remove first names with only intials: {TMPUI.shape[0]} = \\\n",
    "        male:  {TMPU[TMPU['gender']=='male'].shape[0]} + female: {\n",
    "                TMPU[TMPU['gender']=='female'].shape[0]} + unknown: {\n",
    "                TMPU[TMPU['gender']=='unknown'].shape[0]}.\n",
    "         ''')\n",
    "print(f'Select found gender found probability from 95%: {TMPUA.shape[0]}')\n",
    "print(f'female ratio at probability at 95%: { \n",
    "               round(TMPUA[TMPUA['gender']=='female'].shape[0]/(TMPUA[TMPUA['gender']=='female'].shape[0] + TMPUA[TMPUA['gender']=='male'].shape[0]),2)*100  }%')"
   ]
  },
  {
   "cell_type": "code",
   "execution_count": 59,
   "id": "f1a66ea0-e3a5-404f-b29c-2af5880ce6c5",
   "metadata": {},
   "outputs": [
    {
     "name": "stdout",
     "output_type": "stream",
     "text": [
      "TOTAL: 57588\n",
      "Unique autors: 29979\n",
      "Remove first names with only intials: 20125 =         male:  16013 + female: 3253 + unknown: 10713.\n",
      "         \n",
      "Select found gender found probability from 95%: 17634\n",
      "female ratio at probability at 95%: 16.0%\n"
     ]
    }
   ],
   "source": [
    "TMP  = pd.DataFrame(df)\n",
    "TMPU = TMP.drop_duplicates('author_id').reset_index(drop=True)\n",
    "TMPUI = TMPU[TMPU['first_names'].apply(len)>0].reset_index(drop=True)\n",
    "TMPUA = TMPUI[TMPUI['gender_probability']>0.94].reset_index(drop=True)\n",
    "\n",
    "print(f'TOTAL: {TMP.shape[0]}')\n",
    "print(f'Unique autors: {TMPU.shape[0]}')\n",
    "print(f'''Remove first names with only intials: {TMPUI.shape[0]} = \\\n",
    "        male:  {TMPU[TMPU['gender']=='male'].shape[0]} + female: {\n",
    "                TMPU[TMPU['gender']=='female'].shape[0]} + unknown: {\n",
    "                TMPU[TMPU['gender']=='unknown'].shape[0]}.\n",
    "         ''')\n",
    "print(f'Select found gender found probability from 95%: {TMPUA.shape[0]}')\n",
    "print(f'female ratio at probability at 95%: { \n",
    "               round(TMPUA[TMPUA['gender']=='female'].shape[0]/(TMPUA[TMPUA['gender']=='female'].shape[0] + TMPUA[TMPUA['gender']=='male'].shape[0]),2)*100  }%')"
   ]
  },
  {
   "cell_type": "code",
   "execution_count": 60,
   "id": "69480f2e-0c20-4770-924f-38a477ab2743",
   "metadata": {},
   "outputs": [],
   "source": [
    "DUMP = False\n",
    "if DUMP:\n",
    "    f=open('data/inspire_LA.json','w')\n",
    "    json.dump(df,f)\n",
    "    f.close()"
   ]
  },
  {
   "cell_type": "markdown",
   "id": "7c6383b7-51a9-4693-ad0a-d4e75fcca294",
   "metadata": {},
   "source": [
    "Check test dataset with [https://genderize.io](https://genderize.io)"
   ]
  },
  {
   "cell_type": "code",
   "execution_count": 114,
   "id": "9d033ae2-b0c1-4f1f-9929-a5c748e2e521",
   "metadata": {},
   "outputs": [
    {
     "data": {
      "text/plain": [
       "(3967, 3)"
      ]
     },
     "execution_count": 114,
     "metadata": {},
     "output_type": "execute_result"
    }
   ],
   "source": [
    "COT = pd.read_json('https://raw.githubusercontent.com/colav-playground/gender_guesser_first_names/refs/heads/main/data/test_gender.json')\n",
    "COT.shape"
   ]
  },
  {
   "cell_type": "code",
   "execution_count": 117,
   "id": "08aefd57-620a-4449-befc-0dd22892bb89",
   "metadata": {},
   "outputs": [],
   "source": [
    "COT[:681].to_csv('data/test_gender_NC.csv',index = False)"
   ]
  },
  {
   "cell_type": "code",
   "execution_count": 113,
   "id": "4cf0f31c-ccfe-4b62-b8c5-e9c066621371",
   "metadata": {},
   "outputs": [],
   "source": [
    "UPDATE_CO = False\n",
    "if UPDATE_CO:\n",
    "    CO = COT.copy()\n",
    "    CO = pd.read_json('https://raw.githubusercontent.com/colav-playground/gender_guesser_first_names/refs/heads/main/data/test_gender.json')\n",
    "    CO['country_id'] = CO['country'].astype(str).apply(lambda c: coco.convert(names=c, to='ISO2')).replace('not found','')\n",
    "    CO[CO['country'] == 'other_countries'].to_csv('/home/restrepo/Downloads/test_gender2.csv',index=False)\n",
    "    CO.to_csv('/home/restrepo/Downloads/test_gender.csv',index=False)"
   ]
  },
  {
   "cell_type": "markdown",
   "id": "db54728b-8f63-40ee-a298-7ffc62be7f81",
   "metadata": {},
   "source": [
    "Analysis of  [https://genderize.io](https://genderize.io) test csv output"
   ]
  },
  {
   "cell_type": "code",
   "execution_count": 50,
   "id": "5c572ca9-6f59-4427-a030-94982ae16d94",
   "metadata": {},
   "outputs": [],
   "source": [
    "UPDATE_OC = False\n",
    "if UPDATE_OC:\n",
    "    COLD = pd.read_csv('data/test_gender2.csv')    \n",
    "    CO = pd.read_csv('data/test_gender.csv')\n",
    "    \n",
    "    CO = CO[CO['gender']!='L'].reset_index(drop=True)\n",
    "    \n",
    "    CO1 = CO[CO['country'] != 'other_countries'].reset_index(drop=True)\n",
    "    CO2 = CO[CO['country'] == 'other_countries'].reset_index(drop=True)\n",
    "    CO.shape[0], CO1.shape[0] + CO2.shape[0] \n",
    "    \n",
    "    CO2 = CO2[['names', 'gender', 'country', 'country_id']].merge(\n",
    "         COLD[['names', 'Gender','Gender Probability', 'Gender Count']],\n",
    "                on = 'names', how = 'left').fillna('')\n",
    "    \n",
    "    CO = pd.concat((CO1,CO2)).reset_index(drop=True)\n",
    "    CO.to_csv('data/test_gender.csv',index=False)"
   ]
  },
  {
   "cell_type": "code",
   "execution_count": 129,
   "id": "045ce173-8407-48df-980d-ba9d70cf9ffe",
   "metadata": {},
   "outputs": [],
   "source": [
    "CO = pd.read_csv('data/test_gender.csv')\n",
    "#CO = pd.read_csv('data/test_gender_NC631.csv')"
   ]
  },
  {
   "cell_type": "markdown",
   "id": "03c14321-60fc-4023-b81a-9f431259bbb2",
   "metadata": {},
   "source": [
    "confusion matrix"
   ]
  },
  {
   "cell_type": "code",
   "execution_count": 130,
   "id": "d11ac1a6-877e-47f4-92fe-8946464c39fe",
   "metadata": {},
   "outputs": [],
   "source": [
    "CM = {'male':{},'female':{}}"
   ]
  },
  {
   "cell_type": "code",
   "execution_count": 131,
   "id": "8ab4ab5c-4fac-412c-bdc8-e066084bde7a",
   "metadata": {},
   "outputs": [],
   "source": [
    "for i in ['male','female']:\n",
    "    for j in ['male','female','unknown']:\n",
    "        CM[i][j] = CO[ (CO['gender'] == i) & (CO['Gender'] == j)].shape[0]"
   ]
  },
  {
   "cell_type": "code",
   "execution_count": 132,
   "id": "6c751f3e-2ffb-42b1-bc6e-f6b39ff1e030",
   "metadata": {},
   "outputs": [],
   "source": [
    "CO90 = CO.copy(deep=True)\n",
    "CO90['Gender'] = CO.apply(lambda d: 'unknown' if d['Gender Probability'] < 0.9 else d['Gender'],axis = 'columns')"
   ]
  },
  {
   "cell_type": "code",
   "execution_count": 134,
   "id": "63ec6771-c7f9-4e6d-8e71-44b19a388003",
   "metadata": {},
   "outputs": [],
   "source": [
    "CM90 = {'male':{},'female':{}}\n",
    "for i in ['male','female']:\n",
    "    for j in ['male','female','unknown']:\n",
    "        CM90[i][j] = CO90[ (CO90['gender'] == i) & (CO90['Gender'] == j)].shape[0]"
   ]
  },
  {
   "cell_type": "code",
   "execution_count": 150,
   "id": "b1f8a976-f112-4622-965d-242f9aa31285",
   "metadata": {},
   "outputs": [
    {
     "name": "stdout",
     "output_type": "stream",
     "text": [
      "error 0.8379888268156425 %\n",
      "accuracy 99.16201117318437 %  → 1.0\n",
      "errorNA 1.5132408575031526 %\n",
      "positivity 99.13710450623202%   99.19006479481641%\n",
      "recall 99.27988478156506% 99.02964959568733%\n"
     ]
    }
   ],
   "source": [
    "def error(CM):\n",
    "    return (CM['male']['female'] + CM['female']['male'])/(\n",
    "            CM['male']['male'] + CM['female']['female'] + CM['male']['female'] + CM['female']['male'])\n",
    "def accuracy(CM):\n",
    "    return (CM['male']['male'] + CM['female']['female'])/(\n",
    "            CM['male']['male'] + CM['female']['female'] + CM['male']['female'] + CM['female']['male'])\n",
    "\n",
    "\n",
    "def errorNA(CM):\n",
    "    return (CM['male']['female'] + CM['female']['male'] + CM['male']['unknown'] + CM['female']['unknown'] )/(\n",
    "            CM['male']['male'] + CM['female']['female'] + CM['male']['female'] + CM['female']['male'] + \n",
    "            CM['male']['unknown'] + CM['female']['unknown'])\n",
    "def postitivity(CM,category='male'):\n",
    "    # False positive (FP) denotes the number of samples incorrectly classified as positive. \n",
    "    # False negative (FN) denotes the number of samples incorrectly classified as negative.\n",
    "    if category == 'male':\n",
    "        anti_category = 'female'\n",
    "    else:\n",
    "        anti_category = 'male'\n",
    "        \n",
    "    return (CM[category][category])/(\n",
    "            CM[category][category] + CM[anti_category][category])    # FP\n",
    "def recall(CM,category='male'):\n",
    "    if category == 'male':\n",
    "        anti_category = 'female'\n",
    "    else:\n",
    "        anti_category = 'male'\n",
    "        \n",
    "    return (CM[category][category])/(\n",
    "            CM[category][category] + CM[category][anti_category])    #FN\n",
    "\n",
    "\n",
    "print( f'error {error(CM)*100} %' )\n",
    "print( f'accuracy {accuracy(CM)*100} %  → {error(CM) + accuracy(CM)}' )\n",
    "print( f'errorNA {errorNA(CM)*100} %' )\n",
    "print( f'positivity {postitivity(CM)*100}%   {postitivity(CM,category=\"female\")*100}%'   )\n",
    "print( f'recall {recall(CM)*100}% {recall(CM,category=\"female\")*100}%' )"
   ]
  },
  {
   "cell_type": "code",
   "execution_count": 138,
   "id": "2a4fd347-72b3-4e71-b769-08dfa353881a",
   "metadata": {},
   "outputs": [
    {
     "data": {
      "text/plain": [
       "1.0"
      ]
     },
     "execution_count": 138,
     "metadata": {},
     "output_type": "execute_result"
    }
   ],
   "source": [
    "postitivity(CM) + error(CM)"
   ]
  },
  {
   "cell_type": "code",
   "execution_count": 151,
   "id": "a270780e-3bfb-4c83-ba53-76e2a41ed50b",
   "metadata": {},
   "outputs": [
    {
     "name": "stdout",
     "output_type": "stream",
     "text": [
      "error90 0.6168080185042405%\n",
      "accuracy90 99.38319198149576 %  → 1.0\n",
      "errorNA90 2.471626733921816%\n"
     ]
    }
   ],
   "source": [
    "print( f'error90 {error(CM90)*100}%' )\n",
    "print( f'accuracy90 {accuracy(CM90)*100} %  → {error(CM) + accuracy(CM)}' )\n",
    "print( f'errorNA90 {errorNA(CM90)*100}%')"
   ]
  },
  {
   "cell_type": "code",
   "execution_count": 107,
   "id": "643d39cd-968a-41ee-aeb7-fbd59b701b90",
   "metadata": {},
   "outputs": [
    {
     "data": {
      "text/plain": [
       "0.6168080185042405"
      ]
     },
     "execution_count": 107,
     "metadata": {},
     "output_type": "execute_result"
    }
   ],
   "source": [
    "error(CM90)*100"
   ]
  },
  {
   "cell_type": "code",
   "execution_count": 96,
   "id": "6322ea2b-e99e-4b00-a723-a9be64211ddb",
   "metadata": {},
   "outputs": [
    {
     "data": {
      "text/html": [
       "<div>\n",
       "<style scoped>\n",
       "    .dataframe tbody tr th:only-of-type {\n",
       "        vertical-align: middle;\n",
       "    }\n",
       "\n",
       "    .dataframe tbody tr th {\n",
       "        vertical-align: top;\n",
       "    }\n",
       "\n",
       "    .dataframe thead th {\n",
       "        text-align: right;\n",
       "    }\n",
       "</style>\n",
       "<table border=\"1\" class=\"dataframe\">\n",
       "  <thead>\n",
       "    <tr style=\"text-align: right;\">\n",
       "      <th></th>\n",
       "      <th>names</th>\n",
       "      <th>gender</th>\n",
       "      <th>country</th>\n",
       "      <th>country_id</th>\n",
       "      <th>Gender</th>\n",
       "      <th>Gender Probability</th>\n",
       "      <th>Gender Count</th>\n",
       "    </tr>\n",
       "  </thead>\n",
       "  <tbody>\n",
       "    <tr>\n",
       "      <th>1</th>\n",
       "      <td>Jefferson Alejandro</td>\n",
       "      <td>male</td>\n",
       "      <td>colombia</td>\n",
       "      <td>CO</td>\n",
       "      <td>male</td>\n",
       "      <td>1.00</td>\n",
       "      <td>17</td>\n",
       "    </tr>\n",
       "    <tr>\n",
       "      <th>2</th>\n",
       "      <td>Jhon Jairo</td>\n",
       "      <td>male</td>\n",
       "      <td>colombia</td>\n",
       "      <td>CO</td>\n",
       "      <td>male</td>\n",
       "      <td>1.00</td>\n",
       "      <td>19782</td>\n",
       "    </tr>\n",
       "    <tr>\n",
       "      <th>9</th>\n",
       "      <td>Jose Luis</td>\n",
       "      <td>male</td>\n",
       "      <td>colombia</td>\n",
       "      <td>CO</td>\n",
       "      <td>male</td>\n",
       "      <td>1.00</td>\n",
       "      <td>15204</td>\n",
       "    </tr>\n",
       "    <tr>\n",
       "      <th>10</th>\n",
       "      <td>Danilo</td>\n",
       "      <td>male</td>\n",
       "      <td>colombia</td>\n",
       "      <td>CO</td>\n",
       "      <td>male</td>\n",
       "      <td>1.00</td>\n",
       "      <td>12188</td>\n",
       "    </tr>\n",
       "    <tr>\n",
       "      <th>13</th>\n",
       "      <td>Francisco Ivan</td>\n",
       "      <td>male</td>\n",
       "      <td>colombia</td>\n",
       "      <td>CO</td>\n",
       "      <td>male</td>\n",
       "      <td>1.00</td>\n",
       "      <td>37775</td>\n",
       "    </tr>\n",
       "    <tr>\n",
       "      <th>...</th>\n",
       "      <td>...</td>\n",
       "      <td>...</td>\n",
       "      <td>...</td>\n",
       "      <td>...</td>\n",
       "      <td>...</td>\n",
       "      <td>...</td>\n",
       "      <td>...</td>\n",
       "    </tr>\n",
       "    <tr>\n",
       "      <th>3955</th>\n",
       "      <td>Volodymyr</td>\n",
       "      <td>male</td>\n",
       "      <td>other_countries</td>\n",
       "      <td>NaN</td>\n",
       "      <td>male</td>\n",
       "      <td>1.00</td>\n",
       "      <td>2958</td>\n",
       "    </tr>\n",
       "    <tr>\n",
       "      <th>3961</th>\n",
       "      <td>Florian Jan Fietje</td>\n",
       "      <td>male</td>\n",
       "      <td>other_countries</td>\n",
       "      <td>NaN</td>\n",
       "      <td>unknow</td>\n",
       "      <td>0.89</td>\n",
       "      <td>343839</td>\n",
       "    </tr>\n",
       "    <tr>\n",
       "      <th>3962</th>\n",
       "      <td>Yaniel</td>\n",
       "      <td>male</td>\n",
       "      <td>other_countries</td>\n",
       "      <td>NaN</td>\n",
       "      <td>male</td>\n",
       "      <td>0.98</td>\n",
       "      <td>592</td>\n",
       "    </tr>\n",
       "    <tr>\n",
       "      <th>3963</th>\n",
       "      <td>Lars Fredrik</td>\n",
       "      <td>male</td>\n",
       "      <td>other_countries</td>\n",
       "      <td>NaN</td>\n",
       "      <td>male</td>\n",
       "      <td>1.00</td>\n",
       "      <td>7</td>\n",
       "    </tr>\n",
       "    <tr>\n",
       "      <th>3964</th>\n",
       "      <td>Noel Christopher</td>\n",
       "      <td>male</td>\n",
       "      <td>other_countries</td>\n",
       "      <td>NaN</td>\n",
       "      <td>male</td>\n",
       "      <td>1.00</td>\n",
       "      <td>5</td>\n",
       "    </tr>\n",
       "  </tbody>\n",
       "</table>\n",
       "<p>2100 rows × 7 columns</p>\n",
       "</div>"
      ],
      "text/plain": [
       "                    names gender          country country_id  Gender  \\\n",
       "1     Jefferson Alejandro   male         colombia         CO    male   \n",
       "2              Jhon Jairo   male         colombia         CO    male   \n",
       "9               Jose Luis   male         colombia         CO    male   \n",
       "10                 Danilo   male         colombia         CO    male   \n",
       "13        Francisco Ivan    male         colombia         CO    male   \n",
       "...                   ...    ...              ...        ...     ...   \n",
       "3955            Volodymyr   male  other_countries        NaN    male   \n",
       "3961   Florian Jan Fietje   male  other_countries        NaN  unknow   \n",
       "3962               Yaniel   male  other_countries        NaN    male   \n",
       "3963         Lars Fredrik   male  other_countries        NaN    male   \n",
       "3964     Noel Christopher   male  other_countries        NaN    male   \n",
       "\n",
       "      Gender Probability  Gender Count  \n",
       "1                   1.00            17  \n",
       "2                   1.00         19782  \n",
       "9                   1.00         15204  \n",
       "10                  1.00         12188  \n",
       "13                  1.00         37775  \n",
       "...                  ...           ...  \n",
       "3955                1.00          2958  \n",
       "3961                0.89        343839  \n",
       "3962                0.98           592  \n",
       "3963                1.00             7  \n",
       "3964                1.00             5  \n",
       "\n",
       "[2100 rows x 7 columns]"
      ]
     },
     "execution_count": 96,
     "metadata": {},
     "output_type": "execute_result"
    }
   ],
   "source": [
    "i = 'male'\n",
    "j = 'unknown'\n",
    "CO90[ (CO90['gender'] == i) ]"
   ]
  },
  {
   "cell_type": "code",
   "execution_count": 15,
   "id": "65eb4f6b-d158-49dd-8177-474aad5f18bd",
   "metadata": {},
   "outputs": [],
   "source": [
    "COK = CO[ CO['Gender'] != 'unknown'] # male or female\n"
   ]
  },
  {
   "cell_type": "code",
   "execution_count": 16,
   "id": "4e0befdc-b1c5-4b95-aa3d-46ec6c6a414c",
   "metadata": {},
   "outputs": [
    {
     "name": "stdout",
     "output_type": "stream",
     "text": [
      "Number of errors: 33\n",
      "Error: 0.84 %. Includes low Gender Probability\n"
     ]
    }
   ],
   "source": [
    "COW = COK[  (COK['gender'] != COK['Gender']) ]\n",
    "print(f'Number of errors: {COW.shape[0]}')\n",
    "print( f'Error: {round(COW.shape[0]/COK.shape[0]*100,2)} %. Includes low Gender Probability')"
   ]
  },
  {
   "cell_type": "code",
   "execution_count": 19,
   "id": "e0b06b42-3690-4663-b8d1-f3805bcb2f66",
   "metadata": {},
   "outputs": [],
   "source": [
    "precision = 0.9\n",
    "good_quality = COK[(COK['Gender Probability'] >= precision)].shape[0]\n",
    "wrong_good_quality = COK[(COK['Gender Probability'] >= precision) & (COK['gender'] != COK['Gender'])].shape[0]\n",
    "bad_quality = COK[(COK['Gender Probability'] < precision)].shape[0]\n",
    "wrong_bad_quality = COK[(COK['Gender Probability'] < precision) & (COK['gender'] != COK['Gender'])].shape[0]"
   ]
  },
  {
   "cell_type": "code",
   "execution_count": 20,
   "id": "544f9353-d49e-4c86-af39-17cb6a9030bc",
   "metadata": {},
   "outputs": [
    {
     "name": "stdout",
     "output_type": "stream",
     "text": [
      "good_quality_error: 0.62 %\n",
      "bad_quality_error : 19.15 %\n"
     ]
    }
   ],
   "source": [
    "print(f'good_quality_error: {round(wrong_good_quality/good_quality*100,2)} %' )\n",
    "print(f'bad_quality_error : {round( wrong_bad_quality/ bad_quality*100,2)} %' )"
   ]
  },
  {
   "cell_type": "markdown",
   "id": "cd58f63a-4eac-44be-9907-1b6f0509a0bc",
   "metadata": {},
   "source": [
    "with `precision = 0.95`:\n",
    "\n",
    "good_quality_error: 0.57 %\n",
    "\n",
    "bad_quality_error : 11.22 %"
   ]
  },
  {
   "cell_type": "markdown",
   "id": "3e693e72-cf79-45fc-b684-b7d52a427672",
   "metadata": {},
   "source": [
    "Conclusion: Is important to guarantee good quality"
   ]
  },
  {
   "cell_type": "code",
   "execution_count": 229,
   "id": "bb570965-8a0e-49cb-9e28-ec2f7fccdf8a",
   "metadata": {},
   "outputs": [
    {
     "name": "stdout",
     "output_type": "stream",
     "text": [
      "female ratio: 47.0 %\n"
     ]
    }
   ],
   "source": [
    "print(f'female ratio: {round(CO[CO['Gender']=='female'].shape[0]/(CO[CO['Gender']=='female'].shape[0] + CO[CO['Gender']=='male'].shape[0]),2)*100} %')"
   ]
  },
  {
   "cell_type": "code",
   "execution_count": 231,
   "id": "da21388c-45b5-49b2-bfd8-213a0272939f",
   "metadata": {},
   "outputs": [
    {
     "name": "stdout",
     "output_type": "stream",
     "text": [
      "unknowns: 27\n",
      "unknown: 0.68 %\n"
     ]
    }
   ],
   "source": [
    "print(f'unknowns: {CO[ CO['Gender'] == 'unknown'].shape[0]}')\n",
    "print(f'unknown: {round(CO[ CO['Gender'] == 'unknown'].shape[0]/CO.shape[0]*100,2)} %')"
   ]
  },
  {
   "cell_type": "markdown",
   "id": "f09b7662-9b0f-4f66-aca2-0d8f253110f9",
   "metadata": {},
   "source": [
    "## Analysis"
   ]
  },
  {
   "cell_type": "code",
   "execution_count": 51,
   "id": "63baebb7-234b-45b7-b5d6-92a18a038504",
   "metadata": {},
   "outputs": [],
   "source": [
    "import pandas as pd\n",
    "import requests\n",
    "from datetime import datetime\n",
    "\n",
    "def get_published_ranks(positions,year):\n",
    "    ranks = []\n",
    "    if not isinstance(positions,list):\n",
    "        return ranks\n",
    "    if not year:\n",
    "        return ranks\n",
    "    for d in positions:\n",
    "        if not d.get('end_date'):\n",
    "            end_date = datetime.now().year\n",
    "        else:\n",
    "            end_date = int(d.get('end_date').split('-')[0])\n",
    "\n",
    "        if not d.get('start_date'): # bad position\n",
    "            continue\n",
    "        else:\n",
    "            start_date = int(d.get('start_date').split('-')[0])\n",
    "        if year >= start_date and year <= end_date:\n",
    "            ranks.append(d.get('rank'))\n",
    "    return list(set(ranks))"
   ]
  },
  {
   "cell_type": "code",
   "execution_count": 2,
   "id": "57b214f0-71b0-4544-9763-bdcdeef2cb6a",
   "metadata": {},
   "outputs": [],
   "source": [
    "DF = pd.read_json('data/inspire_LA.json',dtype={'institution_id':str, 'author_id':str})"
   ]
  },
  {
   "cell_type": "code",
   "execution_count": 3,
   "id": "eb26992e-da49-49dc-acc1-71a912c32f18",
   "metadata": {},
   "outputs": [],
   "source": [
    "#DF = pd.DataFrame(df)"
   ]
  },
  {
   "cell_type": "markdown",
   "id": "66c7bb74-4d14-4577-b691-4021f3908d32",
   "metadata": {},
   "source": [
    "Test: Colombia"
   ]
  },
  {
   "cell_type": "code",
   "execution_count": 4,
   "id": "ee1d9007-7a75-4384-bb97-be9b3648463f",
   "metadata": {},
   "outputs": [],
   "source": [
    "#DF = pd.read_json('data/inspire_LA.json')"
   ]
  },
  {
   "cell_type": "markdown",
   "id": "b7b8e6e9-ba41-4b2e-a6c1-48b80262e150",
   "metadata": {},
   "source": [
    "Unique authors ids"
   ]
  },
  {
   "cell_type": "code",
   "execution_count": 5,
   "id": "3e3383c9-8bd1-4178-a5d6-87bb5d323566",
   "metadata": {},
   "outputs": [
    {
     "data": {
      "text/plain": [
       "(29979,)"
      ]
     },
     "execution_count": 5,
     "metadata": {},
     "output_type": "execute_result"
    }
   ],
   "source": [
    "DF['author_id'].unique().shape"
   ]
  },
  {
   "cell_type": "code",
   "execution_count": null,
   "id": "332df6f2-7536-46e9-a8df-4c9be45489d3",
   "metadata": {},
   "outputs": [],
   "source": []
  },
  {
   "cell_type": "code",
   "execution_count": 6,
   "id": "32177644-dd0b-4113-950e-1d3c1b9fa465",
   "metadata": {},
   "outputs": [],
   "source": [
    "#DF[DF['gender'].apply(lambda g: g in ['male','female'])]"
   ]
  },
  {
   "cell_type": "code",
   "execution_count": 7,
   "id": "16dd57e3-6a03-4d84-8207-f947172b5037",
   "metadata": {},
   "outputs": [
    {
     "data": {
      "text/plain": [
       "(11315,)"
      ]
     },
     "execution_count": 7,
     "metadata": {},
     "output_type": "execute_result"
    }
   ],
   "source": [
    "DF.dropna(subset=['positions'])['author_id'].unique().shape"
   ]
  },
  {
   "cell_type": "code",
   "execution_count": 8,
   "id": "6f7274fd-3b7e-4ad2-af3c-614de9c0c97a",
   "metadata": {},
   "outputs": [],
   "source": [
    "kk = DF[['institution_id','country']].to_dict(orient = 'list')\n",
    "dc = dict(zip( [x if isinstance(x,str) else x for x in kk['institution_id']], kk['country']))\n",
    "kk = DF[['institution_id','institution']].to_dict(orient = 'list')\n",
    "di = dict(zip( [x if isinstance(x,str) else x for x in kk['institution_id']], kk['institution']))"
   ]
  },
  {
   "cell_type": "markdown",
   "id": "b7034324-0cdd-4528-a0fd-9f022f7bd3a7",
   "metadata": {},
   "source": [
    "### General counts"
   ]
  },
  {
   "cell_type": "code",
   "execution_count": 9,
   "id": "e92dfd41-6fdc-4273-aaa4-e16a48779c1f",
   "metadata": {},
   "outputs": [],
   "source": [
    "#dp = pd.DataFrame(flatten_list(DF['papers'].to_list()))"
   ]
  },
  {
   "cell_type": "code",
   "execution_count": 10,
   "id": "a5b5f160-78c9-4f1b-930a-dc73d6315caf",
   "metadata": {},
   "outputs": [],
   "source": [
    "dp = pd.DataFrame(DF.papers.apply(pd.Series).stack().to_list()).reset_index(\n",
    "        drop=True\n",
    "    )"
   ]
  },
  {
   "cell_type": "code",
   "execution_count": 11,
   "id": "ca74b52e-bb7b-462f-802e-f07a26d0c48e",
   "metadata": {},
   "outputs": [],
   "source": [
    "dp['year'] = dp['year'].fillna(0).astype(str).str.replace('None','0').astype(int)"
   ]
  },
  {
   "cell_type": "code",
   "execution_count": 12,
   "id": "c06c2a5b-9748-4f62-a76b-ece15564f3f0",
   "metadata": {},
   "outputs": [
    {
     "data": {
      "text/plain": [
       "(886011, 13)"
      ]
     },
     "execution_count": 12,
     "metadata": {},
     "output_type": "execute_result"
    }
   ],
   "source": [
    "dp.shape"
   ]
  },
  {
   "cell_type": "code",
   "execution_count": 13,
   "id": "aea28a42-acb7-496c-bb6d-85fbdf28721b",
   "metadata": {},
   "outputs": [],
   "source": [
    "dp['country'] =  dp.apply(lambda d: str(d['country']).replace('nan',str(dc.get( d['institution_id']))\n",
    "                                   ).replace('None',str(dc.get( d['institution_id']))\n",
    "                                            ),axis='columns')"
   ]
  },
  {
   "cell_type": "code",
   "execution_count": 14,
   "id": "bfce4746-00f2-4ba3-bbde-5f2d5401b9d7",
   "metadata": {},
   "outputs": [],
   "source": [
    "dp['institution'] =  dp.apply(lambda d: str(d['institution']).replace('nan',str(di.get( d['institution_id']))\n",
    "                                   ).replace('None',str(di.get( d['institution_id']))\n",
    "                                            ),axis='columns')"
   ]
  },
  {
   "cell_type": "code",
   "execution_count": 15,
   "id": "276daf93-d493-4002-9d05-f230224f17bd",
   "metadata": {},
   "outputs": [
    {
     "data": {
      "text/html": [
       "<div>\n",
       "<style scoped>\n",
       "    .dataframe tbody tr th:only-of-type {\n",
       "        vertical-align: middle;\n",
       "    }\n",
       "\n",
       "    .dataframe tbody tr th {\n",
       "        vertical-align: top;\n",
       "    }\n",
       "\n",
       "    .dataframe thead th {\n",
       "        text-align: right;\n",
       "    }\n",
       "</style>\n",
       "<table border=\"1\" class=\"dataframe\">\n",
       "  <thead>\n",
       "    <tr style=\"text-align: right;\">\n",
       "      <th></th>\n",
       "      <th>recid</th>\n",
       "      <th>year</th>\n",
       "      <th>citation_count</th>\n",
       "      <th>primary_arxiv_category</th>\n",
       "      <th>journal_id</th>\n",
       "      <th>author_id</th>\n",
       "      <th>institution_id</th>\n",
       "      <th>rank</th>\n",
       "      <th>start_date</th>\n",
       "      <th>end_date</th>\n",
       "      <th>institution</th>\n",
       "      <th>country</th>\n",
       "      <th>current</th>\n",
       "    </tr>\n",
       "  </thead>\n",
       "  <tbody>\n",
       "    <tr>\n",
       "      <th>0</th>\n",
       "      <td>2023395</td>\n",
       "      <td>2021</td>\n",
       "      <td>1</td>\n",
       "      <td>[quant-ph]</td>\n",
       "      <td>None</td>\n",
       "      <td>H.Albrecht.1</td>\n",
       "      <td>912061</td>\n",
       "      <td>NaN</td>\n",
       "      <td>NaN</td>\n",
       "      <td>NaN</td>\n",
       "      <td>Unlisted, VE</td>\n",
       "      <td>Venezuela</td>\n",
       "      <td>NaN</td>\n",
       "    </tr>\n",
       "    <tr>\n",
       "      <th>1</th>\n",
       "      <td>2068608</td>\n",
       "      <td>2022</td>\n",
       "      <td>0</td>\n",
       "      <td>[quant-ph]</td>\n",
       "      <td>None</td>\n",
       "      <td>H.Albrecht.1</td>\n",
       "      <td>912061</td>\n",
       "      <td>NaN</td>\n",
       "      <td>NaN</td>\n",
       "      <td>NaN</td>\n",
       "      <td>Unlisted, VE</td>\n",
       "      <td>Venezuela</td>\n",
       "      <td>NaN</td>\n",
       "    </tr>\n",
       "    <tr>\n",
       "      <th>2</th>\n",
       "      <td>2023395</td>\n",
       "      <td>2021</td>\n",
       "      <td>1</td>\n",
       "      <td>[quant-ph]</td>\n",
       "      <td>None</td>\n",
       "      <td>D.M.B.R.1</td>\n",
       "      <td>912061</td>\n",
       "      <td>NaN</td>\n",
       "      <td>NaN</td>\n",
       "      <td>NaN</td>\n",
       "      <td>Unlisted, VE</td>\n",
       "      <td>Venezuela</td>\n",
       "      <td>NaN</td>\n",
       "    </tr>\n",
       "  </tbody>\n",
       "</table>\n",
       "</div>"
      ],
      "text/plain": [
       "     recid  year  citation_count primary_arxiv_category journal_id  \\\n",
       "0  2023395  2021               1             [quant-ph]       None   \n",
       "1  2068608  2022               0             [quant-ph]       None   \n",
       "2  2023395  2021               1             [quant-ph]       None   \n",
       "\n",
       "      author_id institution_id rank start_date end_date   institution  \\\n",
       "0  H.Albrecht.1         912061  NaN        NaN      NaN  Unlisted, VE   \n",
       "1  H.Albrecht.1         912061  NaN        NaN      NaN  Unlisted, VE   \n",
       "2     D.M.B.R.1         912061  NaN        NaN      NaN  Unlisted, VE   \n",
       "\n",
       "     country current  \n",
       "0  Venezuela     NaN  \n",
       "1  Venezuela     NaN  \n",
       "2  Venezuela     NaN  "
      ]
     },
     "execution_count": 15,
     "metadata": {},
     "output_type": "execute_result"
    }
   ],
   "source": [
    "dp[:3]"
   ]
  },
  {
   "cell_type": "markdown",
   "id": "3c25fa84-89fd-441d-9840-2b17a733d7b3",
   "metadata": {},
   "source": [
    "recid = 1375014\n",
    "url = f'https://inspirehep.net/api/literature?q=recid:{recid}'\n",
    "r = requests.get(url)"
   ]
  },
  {
   "cell_type": "markdown",
   "id": "ae59716b-bf88-4a07-a2e7-621001d5671a",
   "metadata": {},
   "source": [
    "dp.shape # → 886011"
   ]
  },
  {
   "cell_type": "markdown",
   "id": "b607b371-1dec-4b1f-8a80-af9f389be6c6",
   "metadata": {},
   "source": [
    "Unique papers"
   ]
  },
  {
   "cell_type": "code",
   "execution_count": 16,
   "id": "f5e616f4-1475-4a0e-bc12-8c63942e4612",
   "metadata": {},
   "outputs": [
    {
     "data": {
      "text/plain": [
       "(886011, 13)"
      ]
     },
     "execution_count": 16,
     "metadata": {},
     "output_type": "execute_result"
    }
   ],
   "source": [
    "dp[dp['recid'].astype(str).str.contains(r'^[0-9]{3,6}')].shape"
   ]
  },
  {
   "cell_type": "code",
   "execution_count": 17,
   "id": "af3befa7-b862-4ec8-bdd1-72030a7e7a5b",
   "metadata": {},
   "outputs": [
    {
     "data": {
      "text/html": [
       "<div>\n",
       "<style scoped>\n",
       "    .dataframe tbody tr th:only-of-type {\n",
       "        vertical-align: middle;\n",
       "    }\n",
       "\n",
       "    .dataframe tbody tr th {\n",
       "        vertical-align: top;\n",
       "    }\n",
       "\n",
       "    .dataframe thead th {\n",
       "        text-align: right;\n",
       "    }\n",
       "</style>\n",
       "<table border=\"1\" class=\"dataframe\">\n",
       "  <thead>\n",
       "    <tr style=\"text-align: right;\">\n",
       "      <th></th>\n",
       "      <th>recid</th>\n",
       "      <th>year</th>\n",
       "      <th>citation_count</th>\n",
       "      <th>primary_arxiv_category</th>\n",
       "      <th>journal_id</th>\n",
       "      <th>author_id</th>\n",
       "      <th>institution_id</th>\n",
       "      <th>rank</th>\n",
       "      <th>start_date</th>\n",
       "      <th>end_date</th>\n",
       "      <th>institution</th>\n",
       "      <th>country</th>\n",
       "      <th>current</th>\n",
       "    </tr>\n",
       "  </thead>\n",
       "  <tbody>\n",
       "    <tr>\n",
       "      <th>734064</th>\n",
       "      <td>1736716</td>\n",
       "      <td>2019</td>\n",
       "      <td>12</td>\n",
       "      <td>[hep-th]</td>\n",
       "      <td>1214648</td>\n",
       "      <td>V.I.Yukalov.1</td>\n",
       "      <td>902780</td>\n",
       "      <td>NaN</td>\n",
       "      <td>NaN</td>\n",
       "      <td>NaN</td>\n",
       "      <td>Dubna, JINR</td>\n",
       "      <td>Russian Federation</td>\n",
       "      <td>NaN</td>\n",
       "    </tr>\n",
       "    <tr>\n",
       "      <th>734065</th>\n",
       "      <td>1736716</td>\n",
       "      <td>2019</td>\n",
       "      <td>12</td>\n",
       "      <td>[hep-th]</td>\n",
       "      <td>1214648</td>\n",
       "      <td>V.I.Yukalov.1</td>\n",
       "      <td>903186</td>\n",
       "      <td>NaN</td>\n",
       "      <td>NaN</td>\n",
       "      <td>NaN</td>\n",
       "      <td>Sao Paulo U.</td>\n",
       "      <td>Brazil</td>\n",
       "      <td>NaN</td>\n",
       "    </tr>\n",
       "    <tr>\n",
       "      <th>734404</th>\n",
       "      <td>1736716</td>\n",
       "      <td>2019</td>\n",
       "      <td>12</td>\n",
       "      <td>[hep-th]</td>\n",
       "      <td>1214648</td>\n",
       "      <td>V.I.Yukalov.1</td>\n",
       "      <td>902780</td>\n",
       "      <td>NaN</td>\n",
       "      <td>NaN</td>\n",
       "      <td>NaN</td>\n",
       "      <td>Dubna, JINR</td>\n",
       "      <td>Russian Federation</td>\n",
       "      <td>NaN</td>\n",
       "    </tr>\n",
       "    <tr>\n",
       "      <th>734405</th>\n",
       "      <td>1736716</td>\n",
       "      <td>2019</td>\n",
       "      <td>12</td>\n",
       "      <td>[hep-th]</td>\n",
       "      <td>1214648</td>\n",
       "      <td>V.I.Yukalov.1</td>\n",
       "      <td>903186</td>\n",
       "      <td>NaN</td>\n",
       "      <td>NaN</td>\n",
       "      <td>NaN</td>\n",
       "      <td>Sao Paulo U.</td>\n",
       "      <td>Brazil</td>\n",
       "      <td>NaN</td>\n",
       "    </tr>\n",
       "    <tr>\n",
       "      <th>734427</th>\n",
       "      <td>1736716</td>\n",
       "      <td>2019</td>\n",
       "      <td>12</td>\n",
       "      <td>[hep-th]</td>\n",
       "      <td>1214648</td>\n",
       "      <td>V.I.Yukalov.1</td>\n",
       "      <td>902780</td>\n",
       "      <td>NaN</td>\n",
       "      <td>NaN</td>\n",
       "      <td>NaN</td>\n",
       "      <td>Dubna, JINR</td>\n",
       "      <td>Russian Federation</td>\n",
       "      <td>NaN</td>\n",
       "    </tr>\n",
       "    <tr>\n",
       "      <th>734428</th>\n",
       "      <td>1736716</td>\n",
       "      <td>2019</td>\n",
       "      <td>12</td>\n",
       "      <td>[hep-th]</td>\n",
       "      <td>1214648</td>\n",
       "      <td>V.I.Yukalov.1</td>\n",
       "      <td>903186</td>\n",
       "      <td>NaN</td>\n",
       "      <td>NaN</td>\n",
       "      <td>NaN</td>\n",
       "      <td>Sao Paulo U.</td>\n",
       "      <td>Brazil</td>\n",
       "      <td>NaN</td>\n",
       "    </tr>\n",
       "    <tr>\n",
       "      <th>790017</th>\n",
       "      <td>1736716</td>\n",
       "      <td>2019</td>\n",
       "      <td>12</td>\n",
       "      <td>[hep-th]</td>\n",
       "      <td>1214648</td>\n",
       "      <td>V.I.Yukalov.1</td>\n",
       "      <td>902780</td>\n",
       "      <td>NaN</td>\n",
       "      <td>NaN</td>\n",
       "      <td>NaN</td>\n",
       "      <td>Dubna, JINR</td>\n",
       "      <td>Russian Federation</td>\n",
       "      <td>NaN</td>\n",
       "    </tr>\n",
       "    <tr>\n",
       "      <th>790018</th>\n",
       "      <td>1736716</td>\n",
       "      <td>2019</td>\n",
       "      <td>12</td>\n",
       "      <td>[hep-th]</td>\n",
       "      <td>1214648</td>\n",
       "      <td>V.I.Yukalov.1</td>\n",
       "      <td>903186</td>\n",
       "      <td>NaN</td>\n",
       "      <td>NaN</td>\n",
       "      <td>NaN</td>\n",
       "      <td>Sao Paulo U.</td>\n",
       "      <td>Brazil</td>\n",
       "      <td>NaN</td>\n",
       "    </tr>\n",
       "    <tr>\n",
       "      <th>804034</th>\n",
       "      <td>1736716</td>\n",
       "      <td>2019</td>\n",
       "      <td>12</td>\n",
       "      <td>[hep-th]</td>\n",
       "      <td>1214648</td>\n",
       "      <td>V.I.Yukalov.1</td>\n",
       "      <td>902780</td>\n",
       "      <td>NaN</td>\n",
       "      <td>NaN</td>\n",
       "      <td>NaN</td>\n",
       "      <td>Dubna, JINR</td>\n",
       "      <td>Russian Federation</td>\n",
       "      <td>NaN</td>\n",
       "    </tr>\n",
       "    <tr>\n",
       "      <th>804035</th>\n",
       "      <td>1736716</td>\n",
       "      <td>2019</td>\n",
       "      <td>12</td>\n",
       "      <td>[hep-th]</td>\n",
       "      <td>1214648</td>\n",
       "      <td>V.I.Yukalov.1</td>\n",
       "      <td>903186</td>\n",
       "      <td>NaN</td>\n",
       "      <td>NaN</td>\n",
       "      <td>NaN</td>\n",
       "      <td>Sao Paulo U.</td>\n",
       "      <td>Brazil</td>\n",
       "      <td>NaN</td>\n",
       "    </tr>\n",
       "  </tbody>\n",
       "</table>\n",
       "</div>"
      ],
      "text/plain": [
       "          recid  year  citation_count primary_arxiv_category journal_id  \\\n",
       "734064  1736716  2019              12               [hep-th]    1214648   \n",
       "734065  1736716  2019              12               [hep-th]    1214648   \n",
       "734404  1736716  2019              12               [hep-th]    1214648   \n",
       "734405  1736716  2019              12               [hep-th]    1214648   \n",
       "734427  1736716  2019              12               [hep-th]    1214648   \n",
       "734428  1736716  2019              12               [hep-th]    1214648   \n",
       "790017  1736716  2019              12               [hep-th]    1214648   \n",
       "790018  1736716  2019              12               [hep-th]    1214648   \n",
       "804034  1736716  2019              12               [hep-th]    1214648   \n",
       "804035  1736716  2019              12               [hep-th]    1214648   \n",
       "\n",
       "            author_id institution_id rank start_date end_date   institution  \\\n",
       "734064  V.I.Yukalov.1         902780  NaN        NaN      NaN   Dubna, JINR   \n",
       "734065  V.I.Yukalov.1         903186  NaN        NaN      NaN  Sao Paulo U.   \n",
       "734404  V.I.Yukalov.1         902780  NaN        NaN      NaN   Dubna, JINR   \n",
       "734405  V.I.Yukalov.1         903186  NaN        NaN      NaN  Sao Paulo U.   \n",
       "734427  V.I.Yukalov.1         902780  NaN        NaN      NaN   Dubna, JINR   \n",
       "734428  V.I.Yukalov.1         903186  NaN        NaN      NaN  Sao Paulo U.   \n",
       "790017  V.I.Yukalov.1         902780  NaN        NaN      NaN   Dubna, JINR   \n",
       "790018  V.I.Yukalov.1         903186  NaN        NaN      NaN  Sao Paulo U.   \n",
       "804034  V.I.Yukalov.1         902780  NaN        NaN      NaN   Dubna, JINR   \n",
       "804035  V.I.Yukalov.1         903186  NaN        NaN      NaN  Sao Paulo U.   \n",
       "\n",
       "                   country current  \n",
       "734064  Russian Federation     NaN  \n",
       "734065              Brazil     NaN  \n",
       "734404  Russian Federation     NaN  \n",
       "734405              Brazil     NaN  \n",
       "734427  Russian Federation     NaN  \n",
       "734428              Brazil     NaN  \n",
       "790017  Russian Federation     NaN  \n",
       "790018              Brazil     NaN  \n",
       "804034  Russian Federation     NaN  \n",
       "804035              Brazil     NaN  "
      ]
     },
     "execution_count": 17,
     "metadata": {},
     "output_type": "execute_result"
    }
   ],
   "source": [
    "dp[dp['recid'] == 1736716]"
   ]
  },
  {
   "cell_type": "markdown",
   "id": "a1466787-777c-4f01-b998-fbbeadd84c12",
   "metadata": {},
   "source": [
    "Check Country"
   ]
  },
  {
   "cell_type": "code",
   "execution_count": 18,
   "id": "c192edba-d1bb-4571-b2af-d272920c4fa7",
   "metadata": {},
   "outputs": [
    {
     "name": "stdout",
     "output_type": "stream",
     "text": [
      "66654\n"
     ]
    }
   ],
   "source": [
    "country = 'Brazil'\n",
    "Test = True\n",
    "if Test:\n",
    "    #All papers 2024\n",
    "    c = requests.get(f'https://inspirehep.net/api/institutions?sort=mostrecent&size=250&page=1&q={country}')\n",
    "    print(sum( [d['metadata']['number_of_papers'] for d in c.json()['hits']['hits'] ]))"
   ]
  },
  {
   "cell_type": "code",
   "execution_count": 19,
   "id": "eeb542b8-3b6d-4f3c-af9e-050ce39df85f",
   "metadata": {},
   "outputs": [
    {
     "data": {
      "text/plain": [
       "(49181, 13)"
      ]
     },
     "execution_count": 19,
     "metadata": {},
     "output_type": "execute_result"
    }
   ],
   "source": [
    "dp.drop_duplicates('recid').shape # → 49181"
   ]
  },
  {
   "cell_type": "code",
   "execution_count": 20,
   "id": "b35f03bf-484f-440a-a380-0588293025df",
   "metadata": {},
   "outputs": [],
   "source": [
    "#dp = dp[~dp['author_id'].isna()].reset_index(drop=True)"
   ]
  },
  {
   "cell_type": "markdown",
   "id": "6aefa9e4-8a34-403a-932c-98d14bd9c139",
   "metadata": {},
   "source": [
    "We must remove all duplicated authors and multiple affiliations for each `recid` entry:"
   ]
  },
  {
   "cell_type": "code",
   "execution_count": 21,
   "id": "25e96030-6b5b-42e0-896f-ee521aef02be",
   "metadata": {},
   "outputs": [],
   "source": [
    "#dp_old = dp.copy()"
   ]
  },
  {
   "cell_type": "code",
   "execution_count": 22,
   "id": "a496e995-f135-4bc8-b9ba-515f2351296b",
   "metadata": {},
   "outputs": [],
   "source": [
    "dp = dp.drop_duplicates(subset=['recid', 'year','journal_id', 'author_id','institution_id']).reset_index(drop=True)"
   ]
  },
  {
   "cell_type": "code",
   "execution_count": 23,
   "id": "c7eca3fb-fe4b-4768-a8ee-0d7d87c67ef5",
   "metadata": {},
   "outputs": [
    {
     "data": {
      "text/plain": [
       "(173946, 13)"
      ]
     },
     "execution_count": 23,
     "metadata": {},
     "output_type": "execute_result"
    }
   ],
   "source": [
    "dp.shape # → 173946"
   ]
  },
  {
   "cell_type": "code",
   "execution_count": 24,
   "id": "36c994f9-13fb-4d96-840a-da16f2597536",
   "metadata": {},
   "outputs": [],
   "source": [
    "dp = dp.merge(DF.drop_duplicates('author_id')[['author_id','full_name','name', 'positions',\n",
    "       'profile_id', 'advisors', 'gender', 'first_names',\n",
    "       'gender_probability']],on = 'author_id',how ='left')"
   ]
  },
  {
   "cell_type": "code",
   "execution_count": 25,
   "id": "035eec45-c6be-4593-abba-3825b464bfaf",
   "metadata": {},
   "outputs": [],
   "source": [
    "pd.set_option('display.max_columns', 500)"
   ]
  },
  {
   "cell_type": "code",
   "execution_count": 26,
   "id": "e46cbe94-7f63-4920-a86c-537d2c587348",
   "metadata": {},
   "outputs": [
    {
     "data": {
      "text/plain": [
       "(173946, 21)"
      ]
     },
     "execution_count": 26,
     "metadata": {},
     "output_type": "execute_result"
    }
   ],
   "source": [
    "dp.shape"
   ]
  },
  {
   "cell_type": "markdown",
   "id": "6f4ff978-604f-4e7b-b4cc-35fc638b8c24",
   "metadata": {},
   "source": [
    "Example with female coauthor"
   ]
  },
  {
   "cell_type": "code",
   "execution_count": 27,
   "id": "38f120f8-41ba-4bca-83dc-882c50eb5c57",
   "metadata": {},
   "outputs": [
    {
     "data": {
      "text/html": [
       "<div>\n",
       "<style scoped>\n",
       "    .dataframe tbody tr th:only-of-type {\n",
       "        vertical-align: middle;\n",
       "    }\n",
       "\n",
       "    .dataframe tbody tr th {\n",
       "        vertical-align: top;\n",
       "    }\n",
       "\n",
       "    .dataframe thead th {\n",
       "        text-align: right;\n",
       "    }\n",
       "</style>\n",
       "<table border=\"1\" class=\"dataframe\">\n",
       "  <thead>\n",
       "    <tr style=\"text-align: right;\">\n",
       "      <th></th>\n",
       "      <th>recid</th>\n",
       "      <th>year</th>\n",
       "      <th>citation_count</th>\n",
       "      <th>primary_arxiv_category</th>\n",
       "      <th>journal_id</th>\n",
       "      <th>author_id</th>\n",
       "      <th>institution_id</th>\n",
       "      <th>rank</th>\n",
       "      <th>start_date</th>\n",
       "      <th>end_date</th>\n",
       "      <th>institution</th>\n",
       "      <th>country</th>\n",
       "      <th>current</th>\n",
       "      <th>full_name</th>\n",
       "      <th>name</th>\n",
       "      <th>positions</th>\n",
       "      <th>profile_id</th>\n",
       "      <th>advisors</th>\n",
       "      <th>gender</th>\n",
       "      <th>first_names</th>\n",
       "      <th>gender_probability</th>\n",
       "    </tr>\n",
       "  </thead>\n",
       "  <tbody>\n",
       "    <tr>\n",
       "      <th>160210</th>\n",
       "      <td>1736716</td>\n",
       "      <td>2019</td>\n",
       "      <td>12</td>\n",
       "      <td>[hep-th]</td>\n",
       "      <td>1214648</td>\n",
       "      <td>V.I.Yukalov.1</td>\n",
       "      <td>902780</td>\n",
       "      <td>NaN</td>\n",
       "      <td>NaN</td>\n",
       "      <td>NaN</td>\n",
       "      <td>Dubna, JINR</td>\n",
       "      <td>Russian Federation</td>\n",
       "      <td>NaN</td>\n",
       "      <td>Yukalov, V.I.</td>\n",
       "      <td>{'value': 'Yukalov, Vyacheslav I.', 'preferred...</td>\n",
       "      <td>[{'rank': 'SENIOR', 'record': {'$ref': 'https:...</td>\n",
       "      <td>982494.0</td>\n",
       "      <td>[{'name': 'Bogolubov, N.N.', 'degree_type': 'o...</td>\n",
       "      <td>male</td>\n",
       "      <td>Vyacheslav</td>\n",
       "      <td>1.0</td>\n",
       "    </tr>\n",
       "    <tr>\n",
       "      <th>160211</th>\n",
       "      <td>1736716</td>\n",
       "      <td>2019</td>\n",
       "      <td>12</td>\n",
       "      <td>[hep-th]</td>\n",
       "      <td>1214648</td>\n",
       "      <td>V.I.Yukalov.1</td>\n",
       "      <td>903186</td>\n",
       "      <td>NaN</td>\n",
       "      <td>NaN</td>\n",
       "      <td>NaN</td>\n",
       "      <td>Sao Paulo U.</td>\n",
       "      <td>Brazil</td>\n",
       "      <td>NaN</td>\n",
       "      <td>Yukalov, V.I.</td>\n",
       "      <td>{'value': 'Yukalov, Vyacheslav I.', 'preferred...</td>\n",
       "      <td>[{'rank': 'SENIOR', 'record': {'$ref': 'https:...</td>\n",
       "      <td>982494.0</td>\n",
       "      <td>[{'name': 'Bogolubov, N.N.', 'degree_type': 'o...</td>\n",
       "      <td>male</td>\n",
       "      <td>Vyacheslav</td>\n",
       "      <td>1.0</td>\n",
       "    </tr>\n",
       "  </tbody>\n",
       "</table>\n",
       "</div>"
      ],
      "text/plain": [
       "          recid  year  citation_count primary_arxiv_category journal_id  \\\n",
       "160210  1736716  2019              12               [hep-th]    1214648   \n",
       "160211  1736716  2019              12               [hep-th]    1214648   \n",
       "\n",
       "            author_id institution_id rank start_date end_date   institution  \\\n",
       "160210  V.I.Yukalov.1         902780  NaN        NaN      NaN   Dubna, JINR   \n",
       "160211  V.I.Yukalov.1         903186  NaN        NaN      NaN  Sao Paulo U.   \n",
       "\n",
       "                   country current      full_name  \\\n",
       "160210  Russian Federation     NaN  Yukalov, V.I.   \n",
       "160211              Brazil     NaN  Yukalov, V.I.   \n",
       "\n",
       "                                                     name  \\\n",
       "160210  {'value': 'Yukalov, Vyacheslav I.', 'preferred...   \n",
       "160211  {'value': 'Yukalov, Vyacheslav I.', 'preferred...   \n",
       "\n",
       "                                                positions  profile_id  \\\n",
       "160210  [{'rank': 'SENIOR', 'record': {'$ref': 'https:...    982494.0   \n",
       "160211  [{'rank': 'SENIOR', 'record': {'$ref': 'https:...    982494.0   \n",
       "\n",
       "                                                 advisors gender first_names  \\\n",
       "160210  [{'name': 'Bogolubov, N.N.', 'degree_type': 'o...   male  Vyacheslav   \n",
       "160211  [{'name': 'Bogolubov, N.N.', 'degree_type': 'o...   male  Vyacheslav   \n",
       "\n",
       "        gender_probability  \n",
       "160210                 1.0  \n",
       "160211                 1.0  "
      ]
     },
     "execution_count": 27,
     "metadata": {},
     "output_type": "execute_result"
    }
   ],
   "source": [
    "dp[dp['recid'] == 1736716]"
   ]
  },
  {
   "cell_type": "markdown",
   "id": "bcbbd8d8-6c9c-4118-8c76-adc104b8ca37",
   "metadata": {},
   "source": [
    "Quality control"
   ]
  },
  {
   "cell_type": "code",
   "execution_count": 28,
   "id": "62e29082-68e8-426b-bfcc-1f3d303f009e",
   "metadata": {},
   "outputs": [
    {
     "data": {
      "text/plain": [
       "<Axes: xlabel='year'>"
      ]
     },
     "execution_count": 28,
     "metadata": {},
     "output_type": "execute_result"
    },
    {
     "data": {
      "image/png": "[encoded data removed]",
      "text/plain": [
       "<Figure size 640x480 with 1 Axes>"
      ]
     },
     "metadata": {},
     "output_type": "display_data"
    }
   ],
   "source": [
    "dpc = dp.drop_duplicates('recid').reset_index(drop = True) \n",
    "dpc[dpc['year']>1970]['year'].replace('None',0).astype(int).value_counts().sort_index().plot(kind='bar')"
   ]
  },
  {
   "cell_type": "markdown",
   "id": "5bd92d12-d030-4a99-817d-0b1a061ecfab",
   "metadata": {},
   "source": [
    "Pick country"
   ]
  },
  {
   "cell_type": "code",
   "execution_count": 29,
   "id": "daa117a6-58c5-4dd6-bf37-1f01b4858486",
   "metadata": {},
   "outputs": [
    {
     "data": {
      "text/plain": [
       "(24962, 21)"
      ]
     },
     "execution_count": 29,
     "metadata": {},
     "output_type": "execute_result"
    }
   ],
   "source": [
    "country = 'Brazil'\n",
    "dp[dp['country'] == country].drop_duplicates('recid').shape"
   ]
  },
  {
   "cell_type": "code",
   "execution_count": 30,
   "id": "ba4adbce-2b99-4a3f-8d64-cc81f549d45a",
   "metadata": {},
   "outputs": [
    {
     "data": {
      "text/plain": [
       "(24962, 21)"
      ]
     },
     "execution_count": 30,
     "metadata": {},
     "output_type": "execute_result"
    }
   ],
   "source": [
    "dpc = dp[dp['country'] == country].reset_index(drop = True) # Include repeated recid from coauthors of the same country\n",
    "dpc = dpc.drop_duplicates('recid').reset_index(drop = True) # papers from a country from some coauthor\n",
    "dpc.shape"
   ]
  },
  {
   "cell_type": "code",
   "execution_count": 31,
   "id": "aa30a64b-274a-47d3-b6fd-3f4b863d8d91",
   "metadata": {},
   "outputs": [
    {
     "data": {
      "text/plain": [
       "<Axes: xlabel='year'>"
      ]
     },
     "execution_count": 31,
     "metadata": {},
     "output_type": "execute_result"
    },
    {
     "data": {
      "image/png": "[encoded data removed]",
      "text/plain": [
       "<Figure size 640x480 with 1 Axes>"
      ]
     },
     "metadata": {},
     "output_type": "display_data"
    }
   ],
   "source": [
    "dpc[dpc['year']>0]['year'].replace('None',0).astype(int).value_counts().sort_index().plot(kind='bar')"
   ]
  },
  {
   "cell_type": "code",
   "execution_count": 32,
   "id": "74f3e768-f5da-42b3-ae60-8febb7fc515a",
   "metadata": {},
   "outputs": [],
   "source": [
    "%matplotlib inline\n",
    "import matplotlib.pyplot as plt"
   ]
  },
  {
   "cell_type": "code",
   "execution_count": 33,
   "id": "ea6f9ccd-8ffd-47c8-b7f3-4b07e0ffcb87",
   "metadata": {},
   "outputs": [
    {
     "data": {
      "image/png": "[encoded data removed]",
      "text/plain": [
       "<Figure size 640x480 with 1 Axes>"
      ]
     },
     "metadata": {},
     "output_type": "display_data"
    }
   ],
   "source": [
    "plt.bar( dpc[dpc['year']>0]['year'].replace('None',0).astype(int).value_counts().sort_index().to_dict().keys(),\n",
    "        dpc[dpc['year']>0]['year'].replace('None',0).astype(int).value_counts().sort_index().to_dict().values())\n",
    "plt.xlim(1960,2022)\n",
    "plt.grid()"
   ]
  },
  {
   "cell_type": "code",
   "execution_count": 34,
   "id": "fc633212-467a-4b90-8394-ad64d16fe651",
   "metadata": {},
   "outputs": [],
   "source": [
    "dp['gender_probability'] = dp['gender_probability'].fillna(0)"
   ]
  },
  {
   "cell_type": "code",
   "execution_count": 35,
   "id": "9ef44ad7-33ee-445e-9361-637ea27197a5",
   "metadata": {},
   "outputs": [],
   "source": [
    "dp['gender'] = dp['gender'].fillna('unknown')"
   ]
  },
  {
   "cell_type": "code",
   "execution_count": 36,
   "id": "ad482235-7e31-4aaf-806b-383cbdc2e034",
   "metadata": {},
   "outputs": [
    {
     "data": {
      "text/plain": [
       "array(['unknown', 'male', 'female'], dtype=object)"
      ]
     },
     "execution_count": 36,
     "metadata": {},
     "output_type": "execute_result"
    }
   ],
   "source": [
    "dp.gender.unique()"
   ]
  },
  {
   "cell_type": "code",
   "execution_count": 52,
   "id": "2f8c354c-21e9-45a8-b5d1-1b8ae5183c8a",
   "metadata": {},
   "outputs": [
    {
     "data": {
      "text/plain": [
       "(46047, 22)"
      ]
     },
     "execution_count": 52,
     "metadata": {},
     "output_type": "execute_result"
    }
   ],
   "source": [
    "dp['ranks_year'] = dp.apply(lambda r: get_published_ranks(r['positions'],r['year']) ,axis = 'columns')\n",
    "dp[dp['ranks_year'].apply(len)>0].shape"
   ]
  },
  {
   "cell_type": "code",
   "execution_count": 53,
   "id": "7e603b98-72a2-4c0b-90c4-a8c534ecf29d",
   "metadata": {},
   "outputs": [],
   "source": [
    "UPDATE_genders = True\n",
    "if UPDATE_genders:\n",
    "    dp.to_json('data/papers.json.gz',orient = 'records')\n",
    "else:\n",
    "    dp = pd.read_json('data/papers.json.gz')"
   ]
  },
  {
   "cell_type": "code",
   "execution_count": 54,
   "id": "d4b8c134-d673-450b-a749-08730de5a00f",
   "metadata": {},
   "outputs": [
    {
     "data": {
      "text/plain": [
       "(173946, 22)"
      ]
     },
     "execution_count": 54,
     "metadata": {},
     "output_type": "execute_result"
    }
   ],
   "source": [
    "dp.shape"
   ]
  },
  {
   "cell_type": "markdown",
   "id": "b27a5ef4-3456-4447-8a2d-a939c200c827",
   "metadata": {},
   "source": [
    "Check against  countries count from the paper"
   ]
  },
  {
   "cell_type": "code",
   "execution_count": 55,
   "id": "7431eec1-771f-4b14-9110-56fafecaedeb",
   "metadata": {},
   "outputs": [
    {
     "data": {
      "text/plain": [
       "(172883, 22)"
      ]
     },
     "execution_count": 55,
     "metadata": {},
     "output_type": "execute_result"
    }
   ],
   "source": [
    "dp[dp['country'] != 'None'].shape"
   ]
  },
  {
   "cell_type": "code",
   "execution_count": 56,
   "id": "518cdfa0-8f35-4817-a695-47907f056e8a",
   "metadata": {},
   "outputs": [],
   "source": [
    "c = 'Chile'\n",
    "dpc = dp[dp['country'] == c].drop_duplicates('recid')"
   ]
  },
  {
   "cell_type": "code",
   "execution_count": 57,
   "id": "ae925d66-d77c-4cdf-83c8-cda5bf1d035d",
   "metadata": {},
   "outputs": [
    {
     "data": {
      "text/plain": [
       "(6396, 22)"
      ]
     },
     "execution_count": 57,
     "metadata": {},
     "output_type": "execute_result"
    }
   ],
   "source": [
    "dpc.shape"
   ]
  },
  {
   "cell_type": "code",
   "execution_count": 58,
   "id": "753cd16c-71ba-4780-8337-15b44b8dee99",
   "metadata": {},
   "outputs": [
    {
     "data": {
      "text/plain": [
       "<Axes: xlabel='year'>"
      ]
     },
     "execution_count": 58,
     "metadata": {},
     "output_type": "execute_result"
    },
    {
     "data": {
      "image/png": "[encoded data removed]",
      "text/plain": [
       "<Figure size 640x480 with 1 Axes>"
      ]
     },
     "metadata": {},
     "output_type": "display_data"
    }
   ],
   "source": [
    "dpc[dpc['year']>0]['year'].replace('None',0).astype(int).value_counts().sort_index().plot(kind='bar')"
   ]
  },
  {
   "cell_type": "code",
   "execution_count": 59,
   "id": "fb743085-e8d3-419d-a0b7-74f009839553",
   "metadata": {},
   "outputs": [],
   "source": [
    "DPC = pd.read_json(f'exports/{c.lower()}_papers.json')"
   ]
  },
  {
   "cell_type": "code",
   "execution_count": 60,
   "id": "2176410c-8dba-43aa-96c8-c0be21b64e7b",
   "metadata": {},
   "outputs": [
    {
     "data": {
      "text/plain": [
       "(6396, 13)"
      ]
     },
     "execution_count": 60,
     "metadata": {},
     "output_type": "execute_result"
    }
   ],
   "source": [
    "DPC.shape"
   ]
  },
  {
   "cell_type": "code",
   "execution_count": 61,
   "id": "de57d54b-cb78-4ccc-afb2-3b23488e8a31",
   "metadata": {},
   "outputs": [
    {
     "data": {
      "text/plain": [
       "6396"
      ]
     },
     "execution_count": 61,
     "metadata": {},
     "output_type": "execute_result"
    }
   ],
   "source": [
    "len(DPC['recid'].unique())"
   ]
  },
  {
   "cell_type": "code",
   "execution_count": 62,
   "id": "8db4cca0-b154-4e13-aa3f-15f7a5bd42da",
   "metadata": {},
   "outputs": [
    {
     "data": {
      "text/plain": [
       "6396"
      ]
     },
     "execution_count": 62,
     "metadata": {},
     "output_type": "execute_result"
    }
   ],
   "source": [
    "len(set(dpc['recid']).intersection(DPC['recid']))"
   ]
  },
  {
   "cell_type": "code",
   "execution_count": 63,
   "id": "88787bf6-a576-47a6-962e-39a3798dd857",
   "metadata": {},
   "outputs": [],
   "source": [
    "mb = list(set(DPC['recid']).difference(dpc['recid']))"
   ]
  },
  {
   "cell_type": "code",
   "execution_count": 64,
   "id": "691f818f-6990-4f4e-ae50-cdfa26167089",
   "metadata": {},
   "outputs": [
    {
     "data": {
      "text/plain": [
       "0"
      ]
     },
     "execution_count": 64,
     "metadata": {},
     "output_type": "execute_result"
    }
   ],
   "source": [
    "len(mb)"
   ]
  },
  {
   "cell_type": "markdown",
   "id": "14c6321e-c394-4f55-8bb4-cfe08cfff8ac",
   "metadata": {},
   "source": [
    "## Gender"
   ]
  },
  {
   "cell_type": "markdown",
   "id": "0866b4c5-bb27-48bf-99f2-c8a769f5454f",
   "metadata": {},
   "source": [
    "For each year remove duplicate authors  → unique authors of LA papers each year"
   ]
  },
  {
   "cell_type": "code",
   "execution_count": null,
   "id": "c6c3d160-4ad7-418b-8576-c1ed04dd3cfc",
   "metadata": {},
   "outputs": [],
   "source": [
    "dp['"
   ]
  },
  {
   "cell_type": "code",
   "execution_count": 110,
   "id": "bdb833b0-d786-4af3-9049-bde245728d52",
   "metadata": {},
   "outputs": [
    {
     "data": {
      "text/plain": [
       "(82638, 22)"
      ]
     },
     "execution_count": 110,
     "metadata": {},
     "output_type": "execute_result"
    }
   ],
   "source": [
    "dpa = dp.drop_duplicates(subset=['year','author_id']).reset_index(drop=True)\n",
    "dpa.shape # → 82638"
   ]
  },
  {
   "cell_type": "code",
   "execution_count": 111,
   "id": "a212e538-430e-4641-af5a-ed6030017888",
   "metadata": {},
   "outputs": [],
   "source": [
    "dpu = dpa[dpa['gender_probability'] >= 0.9].reset_index(drop=True)"
   ]
  },
  {
   "cell_type": "code",
   "execution_count": 112,
   "id": "6f8ce9b5-b107-4f66-93b8-617ddf4b168e",
   "metadata": {},
   "outputs": [
    {
     "data": {
      "text/plain": [
       "(55394, 22)"
      ]
     },
     "execution_count": 112,
     "metadata": {},
     "output_type": "execute_result"
    }
   ],
   "source": [
    "dpu.shape # → 55394"
   ]
  },
  {
   "cell_type": "code",
   "execution_count": null,
   "id": "f7b279a4-3c47-44a6-a41b-7b74a3a622f7",
   "metadata": {},
   "outputs": [],
   "source": [
    "#https://en.wikipedia.org/wiki/Margin_of_error\n",
    "Z  = 1.96 # for a 95% confidence level\n",
    "p = 0.15\n",
    "n = 1000\n",
    "ME = Z * np.sqrt(p*(1-p)/n)*100\n",
    "ME"
   ]
  },
  {
   "cell_type": "code",
   "execution_count": 225,
   "id": "932f214d-2f1a-480c-8c9b-6ef6d727d930",
   "metadata": {},
   "outputs": [],
   "source": [
    "def plot_gender(dpup, ymin = 1972, ymax = 2022):\n",
    "    #https://en.wikipedia.org/wiki/Margin_of_error\n",
    "    Z  = 1.96 # for a 95% confidence level\n",
    "\n",
    "    gry = []\n",
    "    for y in dpup['year'].unique():\n",
    "        dpuy = dpup[dpup['year'] == y].reset_index(drop=True)\n",
    "        dgry =             {'year': y, 'authors': dpuy.shape[0], \n",
    "             'male':   dpuy[dpuy['gender'] == 'male'].shape[0],\n",
    "             'female': dpuy[dpuy['gender'] == 'female'].shape[0],\n",
    "             'fraction': dpuy[dpuy['gender'] == 'female'].shape[0]/dpuy.shape[0]\n",
    "            }\n",
    "        p = dgry['fraction']\n",
    "        n = dgry['authors']\n",
    "        if n != 0:\n",
    "            dgry['ME'] =  Z * np.sqrt(p*(1-p)/n)\n",
    "        else:\n",
    "            dgry['ME'] =  1\n",
    "        gry.append(dgry)\n",
    "        \n",
    "    dy = pd.DataFrame(gry).sort_values('year')\n",
    "    dy = dy[dy['year'] > 0].reset_index(drop=True) #only published\n",
    "    plt.subplot(2,1,1)\n",
    "    dymm = dy[ (dy['year'] > ymin) & (dy['year'] < ymax) ]\n",
    "    plt.plot(dymm['year'],dymm['authors'])\n",
    "    plt.plot(dymm['year'],dymm['authors'],'ro')\n",
    "    plt.ylabel('year',size = 12)\n",
    "    plt.ylabel('Number of articles',size = 12)\n",
    "    plt.grid()\n",
    "    plt.subplot(2,1,2)\n",
    "    #ymin = 1972\n",
    "    plt.plot(dymm['year'],dymm['fraction'],'k')\n",
    "    plt.plot(dymm['year'],dymm['fraction'],'r.')\n",
    "    plt.ylabel('Female fraction',size = 12)\n",
    "    plt.xlabel('year',size = 12)\n",
    "        \n",
    "    # Margin of Error\n",
    "    #plt.plot(dymm['year'],dymm['fraction']+dymm['ME'])\n",
    "    #plt.plot(dymm['year'],dymm['fraction']-dymm['ME'])\n",
    "    plt.fill_between(dymm['year'],dymm['fraction']-dymm['ME'],dymm['fraction']+dymm['ME'],alpha=0.2)\n",
    "    \n",
    "    plt.grid()\n",
    "    return dy"
   ]
  },
  {
   "cell_type": "code",
   "execution_count": 226,
   "id": "4b45d46a-bfbe-472a-985d-82ab0b66bd21",
   "metadata": {},
   "outputs": [],
   "source": [
    "dy = pd.DataFrame(gry).sort_values('year')\n",
    "dy = dy[ dy['year'] > 0].reset_index(drop=True) #only published"
   ]
  },
  {
   "cell_type": "code",
   "execution_count": 227,
   "id": "3a15148a-83dc-49ca-aeec-75c934db7b98",
   "metadata": {},
   "outputs": [],
   "source": [
    "%matplotlib inline\n",
    "import matplotlib.pyplot as plt"
   ]
  },
  {
   "cell_type": "code",
   "execution_count": 228,
   "id": "b9900f98-52cd-443f-b511-e0b810b039a8",
   "metadata": {},
   "outputs": [
    {
     "data": {
      "image/png": "[encoded data removed]",
      "text/plain": [
       "<Figure size 640x480 with 2 Axes>"
      ]
     },
     "metadata": {},
     "output_type": "display_data"
    }
   ],
   "source": [
    "dy = plot_gender(dp,ymin=1990)"
   ]
  },
  {
   "cell_type": "code",
   "execution_count": 231,
   "id": "70f02d31-fee8-49d3-aef1-09e9304a555b",
   "metadata": {},
   "outputs": [
    {
     "data": {
      "image/png": "[encoded data removed]",
      "text/plain": [
       "<Figure size 640x480 with 2 Axes>"
      ]
     },
     "metadata": {},
     "output_type": "display_data"
    }
   ],
   "source": [
    "dy = plot_gender(dpu,ymin=1978)"
   ]
  },
  {
   "cell_type": "code",
   "execution_count": 232,
   "id": "dd3b25c2-041a-4a5d-8208-3e8f578cf330",
   "metadata": {},
   "outputs": [
    {
     "data": {
      "text/html": [
       "<div>\n",
       "<style scoped>\n",
       "    .dataframe tbody tr th:only-of-type {\n",
       "        vertical-align: middle;\n",
       "    }\n",
       "\n",
       "    .dataframe tbody tr th {\n",
       "        vertical-align: top;\n",
       "    }\n",
       "\n",
       "    .dataframe thead th {\n",
       "        text-align: right;\n",
       "    }\n",
       "</style>\n",
       "<table border=\"1\" class=\"dataframe\">\n",
       "  <thead>\n",
       "    <tr style=\"text-align: right;\">\n",
       "      <th></th>\n",
       "      <th>year</th>\n",
       "      <th>authors</th>\n",
       "      <th>male</th>\n",
       "      <th>female</th>\n",
       "      <th>fraction</th>\n",
       "      <th>ME</th>\n",
       "    </tr>\n",
       "  </thead>\n",
       "  <tbody>\n",
       "    <tr>\n",
       "      <th>19</th>\n",
       "      <td>1976</td>\n",
       "      <td>72</td>\n",
       "      <td>69</td>\n",
       "      <td>3</td>\n",
       "      <td>0.041667</td>\n",
       "      <td>0.046158</td>\n",
       "    </tr>\n",
       "    <tr>\n",
       "      <th>20</th>\n",
       "      <td>1977</td>\n",
       "      <td>105</td>\n",
       "      <td>97</td>\n",
       "      <td>8</td>\n",
       "      <td>0.076190</td>\n",
       "      <td>0.050746</td>\n",
       "    </tr>\n",
       "    <tr>\n",
       "      <th>21</th>\n",
       "      <td>1978</td>\n",
       "      <td>93</td>\n",
       "      <td>92</td>\n",
       "      <td>1</td>\n",
       "      <td>0.010753</td>\n",
       "      <td>0.020962</td>\n",
       "    </tr>\n",
       "    <tr>\n",
       "      <th>22</th>\n",
       "      <td>1979</td>\n",
       "      <td>113</td>\n",
       "      <td>111</td>\n",
       "      <td>2</td>\n",
       "      <td>0.017699</td>\n",
       "      <td>0.024312</td>\n",
       "    </tr>\n",
       "    <tr>\n",
       "      <th>23</th>\n",
       "      <td>1980</td>\n",
       "      <td>128</td>\n",
       "      <td>121</td>\n",
       "      <td>7</td>\n",
       "      <td>0.054688</td>\n",
       "      <td>0.039390</td>\n",
       "    </tr>\n",
       "    <tr>\n",
       "      <th>24</th>\n",
       "      <td>1981</td>\n",
       "      <td>149</td>\n",
       "      <td>140</td>\n",
       "      <td>9</td>\n",
       "      <td>0.060403</td>\n",
       "      <td>0.038253</td>\n",
       "    </tr>\n",
       "    <tr>\n",
       "      <th>25</th>\n",
       "      <td>1982</td>\n",
       "      <td>163</td>\n",
       "      <td>156</td>\n",
       "      <td>7</td>\n",
       "      <td>0.042945</td>\n",
       "      <td>0.031123</td>\n",
       "    </tr>\n",
       "    <tr>\n",
       "      <th>26</th>\n",
       "      <td>1983</td>\n",
       "      <td>181</td>\n",
       "      <td>163</td>\n",
       "      <td>18</td>\n",
       "      <td>0.099448</td>\n",
       "      <td>0.043598</td>\n",
       "    </tr>\n",
       "    <tr>\n",
       "      <th>27</th>\n",
       "      <td>1984</td>\n",
       "      <td>188</td>\n",
       "      <td>172</td>\n",
       "      <td>16</td>\n",
       "      <td>0.085106</td>\n",
       "      <td>0.039888</td>\n",
       "    </tr>\n",
       "    <tr>\n",
       "      <th>28</th>\n",
       "      <td>1985</td>\n",
       "      <td>203</td>\n",
       "      <td>188</td>\n",
       "      <td>15</td>\n",
       "      <td>0.073892</td>\n",
       "      <td>0.035986</td>\n",
       "    </tr>\n",
       "    <tr>\n",
       "      <th>29</th>\n",
       "      <td>1986</td>\n",
       "      <td>215</td>\n",
       "      <td>191</td>\n",
       "      <td>24</td>\n",
       "      <td>0.111628</td>\n",
       "      <td>0.042094</td>\n",
       "    </tr>\n",
       "    <tr>\n",
       "      <th>30</th>\n",
       "      <td>1987</td>\n",
       "      <td>204</td>\n",
       "      <td>184</td>\n",
       "      <td>20</td>\n",
       "      <td>0.098039</td>\n",
       "      <td>0.040807</td>\n",
       "    </tr>\n",
       "    <tr>\n",
       "      <th>31</th>\n",
       "      <td>1988</td>\n",
       "      <td>263</td>\n",
       "      <td>238</td>\n",
       "      <td>25</td>\n",
       "      <td>0.095057</td>\n",
       "      <td>0.035447</td>\n",
       "    </tr>\n",
       "    <tr>\n",
       "      <th>32</th>\n",
       "      <td>1989</td>\n",
       "      <td>328</td>\n",
       "      <td>281</td>\n",
       "      <td>47</td>\n",
       "      <td>0.143293</td>\n",
       "      <td>0.037918</td>\n",
       "    </tr>\n",
       "    <tr>\n",
       "      <th>33</th>\n",
       "      <td>1990</td>\n",
       "      <td>368</td>\n",
       "      <td>323</td>\n",
       "      <td>45</td>\n",
       "      <td>0.122283</td>\n",
       "      <td>0.033473</td>\n",
       "    </tr>\n",
       "    <tr>\n",
       "      <th>34</th>\n",
       "      <td>1991</td>\n",
       "      <td>339</td>\n",
       "      <td>290</td>\n",
       "      <td>49</td>\n",
       "      <td>0.144543</td>\n",
       "      <td>0.037433</td>\n",
       "    </tr>\n",
       "    <tr>\n",
       "      <th>35</th>\n",
       "      <td>1992</td>\n",
       "      <td>395</td>\n",
       "      <td>346</td>\n",
       "      <td>49</td>\n",
       "      <td>0.124051</td>\n",
       "      <td>0.032508</td>\n",
       "    </tr>\n",
       "    <tr>\n",
       "      <th>36</th>\n",
       "      <td>1993</td>\n",
       "      <td>461</td>\n",
       "      <td>413</td>\n",
       "      <td>48</td>\n",
       "      <td>0.104121</td>\n",
       "      <td>0.027880</td>\n",
       "    </tr>\n",
       "    <tr>\n",
       "      <th>37</th>\n",
       "      <td>1994</td>\n",
       "      <td>519</td>\n",
       "      <td>461</td>\n",
       "      <td>58</td>\n",
       "      <td>0.111753</td>\n",
       "      <td>0.027106</td>\n",
       "    </tr>\n",
       "    <tr>\n",
       "      <th>38</th>\n",
       "      <td>1995</td>\n",
       "      <td>554</td>\n",
       "      <td>486</td>\n",
       "      <td>68</td>\n",
       "      <td>0.122744</td>\n",
       "      <td>0.027325</td>\n",
       "    </tr>\n",
       "    <tr>\n",
       "      <th>39</th>\n",
       "      <td>1996</td>\n",
       "      <td>641</td>\n",
       "      <td>579</td>\n",
       "      <td>62</td>\n",
       "      <td>0.096724</td>\n",
       "      <td>0.022883</td>\n",
       "    </tr>\n",
       "    <tr>\n",
       "      <th>40</th>\n",
       "      <td>1997</td>\n",
       "      <td>705</td>\n",
       "      <td>636</td>\n",
       "      <td>69</td>\n",
       "      <td>0.097872</td>\n",
       "      <td>0.021934</td>\n",
       "    </tr>\n",
       "    <tr>\n",
       "      <th>41</th>\n",
       "      <td>1998</td>\n",
       "      <td>863</td>\n",
       "      <td>770</td>\n",
       "      <td>93</td>\n",
       "      <td>0.107764</td>\n",
       "      <td>0.020688</td>\n",
       "    </tr>\n",
       "    <tr>\n",
       "      <th>42</th>\n",
       "      <td>1999</td>\n",
       "      <td>859</td>\n",
       "      <td>775</td>\n",
       "      <td>84</td>\n",
       "      <td>0.097788</td>\n",
       "      <td>0.019864</td>\n",
       "    </tr>\n",
       "    <tr>\n",
       "      <th>43</th>\n",
       "      <td>2000</td>\n",
       "      <td>916</td>\n",
       "      <td>814</td>\n",
       "      <td>102</td>\n",
       "      <td>0.111354</td>\n",
       "      <td>0.020372</td>\n",
       "    </tr>\n",
       "    <tr>\n",
       "      <th>44</th>\n",
       "      <td>2001</td>\n",
       "      <td>1009</td>\n",
       "      <td>890</td>\n",
       "      <td>119</td>\n",
       "      <td>0.117939</td>\n",
       "      <td>0.019902</td>\n",
       "    </tr>\n",
       "    <tr>\n",
       "      <th>45</th>\n",
       "      <td>2002</td>\n",
       "      <td>1271</td>\n",
       "      <td>1112</td>\n",
       "      <td>159</td>\n",
       "      <td>0.125098</td>\n",
       "      <td>0.018188</td>\n",
       "    </tr>\n",
       "    <tr>\n",
       "      <th>46</th>\n",
       "      <td>2003</td>\n",
       "      <td>1492</td>\n",
       "      <td>1278</td>\n",
       "      <td>214</td>\n",
       "      <td>0.143432</td>\n",
       "      <td>0.017786</td>\n",
       "    </tr>\n",
       "    <tr>\n",
       "      <th>47</th>\n",
       "      <td>2004</td>\n",
       "      <td>1650</td>\n",
       "      <td>1425</td>\n",
       "      <td>225</td>\n",
       "      <td>0.136364</td>\n",
       "      <td>0.016559</td>\n",
       "    </tr>\n",
       "    <tr>\n",
       "      <th>48</th>\n",
       "      <td>2005</td>\n",
       "      <td>1836</td>\n",
       "      <td>1558</td>\n",
       "      <td>278</td>\n",
       "      <td>0.151416</td>\n",
       "      <td>0.016397</td>\n",
       "    </tr>\n",
       "    <tr>\n",
       "      <th>49</th>\n",
       "      <td>2006</td>\n",
       "      <td>2018</td>\n",
       "      <td>1712</td>\n",
       "      <td>306</td>\n",
       "      <td>0.151635</td>\n",
       "      <td>0.015649</td>\n",
       "    </tr>\n",
       "    <tr>\n",
       "      <th>50</th>\n",
       "      <td>2007</td>\n",
       "      <td>1991</td>\n",
       "      <td>1681</td>\n",
       "      <td>310</td>\n",
       "      <td>0.155701</td>\n",
       "      <td>0.015926</td>\n",
       "    </tr>\n",
       "    <tr>\n",
       "      <th>51</th>\n",
       "      <td>2008</td>\n",
       "      <td>1486</td>\n",
       "      <td>1318</td>\n",
       "      <td>168</td>\n",
       "      <td>0.113055</td>\n",
       "      <td>0.016101</td>\n",
       "    </tr>\n",
       "    <tr>\n",
       "      <th>52</th>\n",
       "      <td>2009</td>\n",
       "      <td>1435</td>\n",
       "      <td>1252</td>\n",
       "      <td>183</td>\n",
       "      <td>0.127526</td>\n",
       "      <td>0.017259</td>\n",
       "    </tr>\n",
       "    <tr>\n",
       "      <th>53</th>\n",
       "      <td>2010</td>\n",
       "      <td>1478</td>\n",
       "      <td>1296</td>\n",
       "      <td>182</td>\n",
       "      <td>0.123139</td>\n",
       "      <td>0.016753</td>\n",
       "    </tr>\n",
       "    <tr>\n",
       "      <th>54</th>\n",
       "      <td>2011</td>\n",
       "      <td>1665</td>\n",
       "      <td>1465</td>\n",
       "      <td>200</td>\n",
       "      <td>0.120120</td>\n",
       "      <td>0.015616</td>\n",
       "    </tr>\n",
       "    <tr>\n",
       "      <th>55</th>\n",
       "      <td>2012</td>\n",
       "      <td>1757</td>\n",
       "      <td>1550</td>\n",
       "      <td>207</td>\n",
       "      <td>0.117814</td>\n",
       "      <td>0.015075</td>\n",
       "    </tr>\n",
       "    <tr>\n",
       "      <th>56</th>\n",
       "      <td>2013</td>\n",
       "      <td>1896</td>\n",
       "      <td>1654</td>\n",
       "      <td>242</td>\n",
       "      <td>0.127637</td>\n",
       "      <td>0.015020</td>\n",
       "    </tr>\n",
       "    <tr>\n",
       "      <th>57</th>\n",
       "      <td>2014</td>\n",
       "      <td>1932</td>\n",
       "      <td>1684</td>\n",
       "      <td>248</td>\n",
       "      <td>0.128364</td>\n",
       "      <td>0.014916</td>\n",
       "    </tr>\n",
       "    <tr>\n",
       "      <th>58</th>\n",
       "      <td>2015</td>\n",
       "      <td>2048</td>\n",
       "      <td>1772</td>\n",
       "      <td>276</td>\n",
       "      <td>0.134766</td>\n",
       "      <td>0.014789</td>\n",
       "    </tr>\n",
       "    <tr>\n",
       "      <th>59</th>\n",
       "      <td>2016</td>\n",
       "      <td>2311</td>\n",
       "      <td>2000</td>\n",
       "      <td>311</td>\n",
       "      <td>0.134574</td>\n",
       "      <td>0.013914</td>\n",
       "    </tr>\n",
       "    <tr>\n",
       "      <th>60</th>\n",
       "      <td>2017</td>\n",
       "      <td>2442</td>\n",
       "      <td>2122</td>\n",
       "      <td>320</td>\n",
       "      <td>0.131040</td>\n",
       "      <td>0.013384</td>\n",
       "    </tr>\n",
       "    <tr>\n",
       "      <th>61</th>\n",
       "      <td>2018</td>\n",
       "      <td>2444</td>\n",
       "      <td>2101</td>\n",
       "      <td>343</td>\n",
       "      <td>0.140344</td>\n",
       "      <td>0.013771</td>\n",
       "    </tr>\n",
       "    <tr>\n",
       "      <th>62</th>\n",
       "      <td>2019</td>\n",
       "      <td>2730</td>\n",
       "      <td>2376</td>\n",
       "      <td>354</td>\n",
       "      <td>0.129670</td>\n",
       "      <td>0.012602</td>\n",
       "    </tr>\n",
       "    <tr>\n",
       "      <th>63</th>\n",
       "      <td>2020</td>\n",
       "      <td>2672</td>\n",
       "      <td>2323</td>\n",
       "      <td>349</td>\n",
       "      <td>0.130614</td>\n",
       "      <td>0.012777</td>\n",
       "    </tr>\n",
       "    <tr>\n",
       "      <th>64</th>\n",
       "      <td>2021</td>\n",
       "      <td>3486</td>\n",
       "      <td>2970</td>\n",
       "      <td>516</td>\n",
       "      <td>0.148021</td>\n",
       "      <td>0.011789</td>\n",
       "    </tr>\n",
       "    <tr>\n",
       "      <th>65</th>\n",
       "      <td>2022</td>\n",
       "      <td>2280</td>\n",
       "      <td>1959</td>\n",
       "      <td>321</td>\n",
       "      <td>0.140789</td>\n",
       "      <td>0.014277</td>\n",
       "    </tr>\n",
       "  </tbody>\n",
       "</table>\n",
       "</div>"
      ],
      "text/plain": [
       "    year  authors  male  female  fraction        ME\n",
       "19  1976       72    69       3  0.041667  0.046158\n",
       "20  1977      105    97       8  0.076190  0.050746\n",
       "21  1978       93    92       1  0.010753  0.020962\n",
       "22  1979      113   111       2  0.017699  0.024312\n",
       "23  1980      128   121       7  0.054688  0.039390\n",
       "24  1981      149   140       9  0.060403  0.038253\n",
       "25  1982      163   156       7  0.042945  0.031123\n",
       "26  1983      181   163      18  0.099448  0.043598\n",
       "27  1984      188   172      16  0.085106  0.039888\n",
       "28  1985      203   188      15  0.073892  0.035986\n",
       "29  1986      215   191      24  0.111628  0.042094\n",
       "30  1987      204   184      20  0.098039  0.040807\n",
       "31  1988      263   238      25  0.095057  0.035447\n",
       "32  1989      328   281      47  0.143293  0.037918\n",
       "33  1990      368   323      45  0.122283  0.033473\n",
       "34  1991      339   290      49  0.144543  0.037433\n",
       "35  1992      395   346      49  0.124051  0.032508\n",
       "36  1993      461   413      48  0.104121  0.027880\n",
       "37  1994      519   461      58  0.111753  0.027106\n",
       "38  1995      554   486      68  0.122744  0.027325\n",
       "39  1996      641   579      62  0.096724  0.022883\n",
       "40  1997      705   636      69  0.097872  0.021934\n",
       "41  1998      863   770      93  0.107764  0.020688\n",
       "42  1999      859   775      84  0.097788  0.019864\n",
       "43  2000      916   814     102  0.111354  0.020372\n",
       "44  2001     1009   890     119  0.117939  0.019902\n",
       "45  2002     1271  1112     159  0.125098  0.018188\n",
       "46  2003     1492  1278     214  0.143432  0.017786\n",
       "47  2004     1650  1425     225  0.136364  0.016559\n",
       "48  2005     1836  1558     278  0.151416  0.016397\n",
       "49  2006     2018  1712     306  0.151635  0.015649\n",
       "50  2007     1991  1681     310  0.155701  0.015926\n",
       "51  2008     1486  1318     168  0.113055  0.016101\n",
       "52  2009     1435  1252     183  0.127526  0.017259\n",
       "53  2010     1478  1296     182  0.123139  0.016753\n",
       "54  2011     1665  1465     200  0.120120  0.015616\n",
       "55  2012     1757  1550     207  0.117814  0.015075\n",
       "56  2013     1896  1654     242  0.127637  0.015020\n",
       "57  2014     1932  1684     248  0.128364  0.014916\n",
       "58  2015     2048  1772     276  0.134766  0.014789\n",
       "59  2016     2311  2000     311  0.134574  0.013914\n",
       "60  2017     2442  2122     320  0.131040  0.013384\n",
       "61  2018     2444  2101     343  0.140344  0.013771\n",
       "62  2019     2730  2376     354  0.129670  0.012602\n",
       "63  2020     2672  2323     349  0.130614  0.012777\n",
       "64  2021     3486  2970     516  0.148021  0.011789\n",
       "65  2022     2280  1959     321  0.140789  0.014277"
      ]
     },
     "execution_count": 232,
     "metadata": {},
     "output_type": "execute_result"
    }
   ],
   "source": [
    "dy[ dy['year'] > 1975 ]"
   ]
  },
  {
   "cell_type": "code",
   "execution_count": 99,
   "id": "4d7bbe1d-1f1d-4134-b4bc-2784f69ab763",
   "metadata": {},
   "outputs": [],
   "source": [
    "import numpy as np"
   ]
  },
  {
   "cell_type": "code",
   "execution_count": 202,
   "id": "be555af1-8b90-458b-a809-ab49c915fa76",
   "metadata": {},
   "outputs": [
    {
     "data": {
      "text/plain": [
       "np.float64(0.013776614817977775)"
      ]
     },
     "execution_count": 202,
     "metadata": {},
     "output_type": "execute_result"
    }
   ],
   "source": [
    "#https://en.wikipedia.org/wiki/Margin_of_error\n",
    "Z  = 1.96 # for a 95% confidence level\n",
    "p = 0.140344\n",
    "n = 2442\n",
    "ME = Z * np.sqrt(p*(1-p)/n)#*100\n",
    "ME"
   ]
  },
  {
   "cell_type": "code",
   "execution_count": 77,
   "id": "776dd3de-baa5-4fe7-a8fd-0fa5ac587661",
   "metadata": {},
   "outputs": [],
   "source": [
    "dpup = dpu[dpu['positions'].apply(lambda L: isinstance(L,list))].reset_index(drop=True)"
   ]
  },
  {
   "cell_type": "code",
   "execution_count": 78,
   "id": "755a5042-388f-4611-be79-77bb000faa8a",
   "metadata": {},
   "outputs": [
    {
     "data": {
      "text/plain": [
       "((55394, 22), (41315, 22), (41315, 22))"
      ]
     },
     "execution_count": 78,
     "metadata": {},
     "output_type": "execute_result"
    }
   ],
   "source": [
    "dpu.shape, dpup.shape , dpup[dpup['positions'].apply(len)>0].shape"
   ]
  },
  {
   "cell_type": "code",
   "execution_count": 79,
   "id": "83a9c17f-8e10-4090-8225-f9164fa2c686",
   "metadata": {},
   "outputs": [
    {
     "data": {
      "image/png": "[encoded data removed]",
      "text/plain": [
       "<Figure size 640x480 with 2 Axes>"
      ]
     },
     "metadata": {},
     "output_type": "display_data"
    }
   ],
   "source": [
    "plot_gender(dpup)"
   ]
  },
  {
   "cell_type": "code",
   "execution_count": 80,
   "id": "3283709e-a059-41df-8dcf-43fe7d58badb",
   "metadata": {},
   "outputs": [],
   "source": [
    "dpup['ranks'] = dpup['positions'].apply(lambda L: list(set([d.get('rank') for d in L if d.get('rank')])))"
   ]
  },
  {
   "cell_type": "code",
   "execution_count": 92,
   "id": "b5bfbfdc-3663-4288-baae-f317e3dbf44a",
   "metadata": {},
   "outputs": [],
   "source": [
    "ranks = 'ranks_year' # rank in publications year\n",
    "ranks = 'ranks' # rank in profile\n",
    "dpups = dpup[dpup[ranks].apply(lambda L:  len({'PHD','UNDERGRADUATE','MASTER'}.intersection(L))>0 )].reset_index(drop=True)\n",
    "dpupp = dpup[dpup[ranks].apply(lambda L:  len({'POSTDOC'}.intersection(L))>0 )].reset_index(drop=True)\n",
    "dpupj = dpup[dpup[ranks].apply(lambda L:  len({'JUNIOR','STAFF'}.intersection(L))>0 )].reset_index(drop=True)\n",
    "dpupS = dpup[dpup[ranks].apply(lambda L:  len({'SENIOR'}.intersection(L))>0 )].reset_index(drop=True)"
   ]
  },
  {
   "cell_type": "code",
   "execution_count": 93,
   "id": "b20c675e-33d7-44eb-b28b-781eeff1f44c",
   "metadata": {},
   "outputs": [
    {
     "data": {
      "image/png": "[encoded data removed]",
      "text/plain": [
       "<Figure size 640x480 with 2 Axes>"
      ]
     },
     "metadata": {},
     "output_type": "display_data"
    }
   ],
   "source": [
    "plot_gender(dpups)"
   ]
  },
  {
   "cell_type": "code",
   "execution_count": 94,
   "id": "2c2138a4-91cb-4f32-8ea6-976112323fc0",
   "metadata": {},
   "outputs": [
    {
     "data": {
      "image/png": "[encoded data removed]",
      "text/plain": [
       "<Figure size 640x480 with 2 Axes>"
      ]
     },
     "metadata": {},
     "output_type": "display_data"
    }
   ],
   "source": [
    "plot_gender(dpupp)"
   ]
  },
  {
   "cell_type": "code",
   "execution_count": 95,
   "id": "377cf1cd-a096-4fbe-a09c-77176097b065",
   "metadata": {},
   "outputs": [
    {
     "data": {
      "image/png": "[encoded data removed]",
      "text/plain": [
       "<Figure size 640x480 with 2 Axes>"
      ]
     },
     "metadata": {},
     "output_type": "display_data"
    }
   ],
   "source": [
    "plot_gender(dpupj)"
   ]
  },
  {
   "cell_type": "code",
   "execution_count": 96,
   "id": "41bb84a1-635f-4a11-b509-47b158ef1a6d",
   "metadata": {},
   "outputs": [
    {
     "data": {
      "image/png": "[encoded data removed]",
      "text/plain": [
       "<Figure size 640x480 with 2 Axes>"
      ]
     },
     "metadata": {},
     "output_type": "display_data"
    }
   ],
   "source": [
    "plot_gender(dpupS)"
   ]
  },
  {
   "cell_type": "code",
   "execution_count": 97,
   "id": "6f093f41-70dc-41c4-a607-7333f197ab2a",
   "metadata": {},
   "outputs": [
    {
     "data": {
      "text/plain": [
       "(55394, 22)"
      ]
     },
     "execution_count": 97,
     "metadata": {},
     "output_type": "execute_result"
    }
   ],
   "source": [
    "dpu.shape"
   ]
  },
  {
   "cell_type": "code",
   "execution_count": 115,
   "id": "7655ad7c-363e-445f-94dd-e8d730bccd19",
   "metadata": {},
   "outputs": [],
   "source": [
    "dpu = dpu[dpu['year']!='None'].reset_index(drop=True)"
   ]
  },
  {
   "cell_type": "code",
   "execution_count": 116,
   "id": "f17275c0-ac87-4bc5-b708-64cb1e902a11",
   "metadata": {},
   "outputs": [
    {
     "data": {
      "text/plain": [
       "(55394, 21)"
      ]
     },
     "execution_count": 116,
     "metadata": {},
     "output_type": "execute_result"
    }
   ],
   "source": [
    "dpu.shape"
   ]
  },
  {
   "cell_type": "code",
   "execution_count": 117,
   "id": "f9f0aabc-98c9-435b-a694-4a679b0d6907",
   "metadata": {},
   "outputs": [
    {
     "data": {
      "text/plain": [
       "array(['male', 'female'], dtype=object)"
      ]
     },
     "execution_count": 117,
     "metadata": {},
     "output_type": "execute_result"
    }
   ],
   "source": [
    "dpu['gender'].unique()"
   ]
  },
  {
   "cell_type": "code",
   "execution_count": 123,
   "id": "5e8057c6-412c-4b2e-a3ac-3d567ac8c1ae",
   "metadata": {},
   "outputs": [],
   "source": [
    "dpugf = dpu[dpu['gender']=='female'].reset_index(drop = True)"
   ]
  },
  {
   "cell_type": "code",
   "execution_count": 124,
   "id": "07ad63db-7ff1-4dd2-afc2-7b128bc9a0c7",
   "metadata": {},
   "outputs": [
    {
     "data": {
      "text/plain": [
       "(7171, 21)"
      ]
     },
     "execution_count": 124,
     "metadata": {},
     "output_type": "execute_result"
    }
   ],
   "source": [
    "dpugf.shape"
   ]
  },
  {
   "cell_type": "code",
   "execution_count": 128,
   "id": "ea9799ec-9920-4fdd-9eb4-38b68c658b31",
   "metadata": {},
   "outputs": [
    {
     "data": {
      "text/plain": [
       "(1960.0, 2022.0)"
      ]
     },
     "execution_count": 128,
     "metadata": {},
     "output_type": "execute_result"
    },
    {
     "data": {
      "image/png": "[encoded data removed]",
      "text/plain": [
       "<Figure size 640x480 with 1 Axes>"
      ]
     },
     "metadata": {},
     "output_type": "display_data"
    }
   ],
   "source": [
    "plt.bar( dpa[dpa['year']>0]['year'].replace('None',0).astype(int).value_counts().sort_index().to_dict().keys(),\n",
    "        dpa[dpa['year']>0]['year'].replace('None',0).astype(int).value_counts().sort_index().to_dict().values())\n",
    "plt.bar( dpu[dpu['year']>0]['year'].replace('None',0).astype(int).value_counts().sort_index().to_dict().keys(),\n",
    "        dpu[dpu['year']>0]['year'].replace('None',0).astype(int).value_counts().sort_index().to_dict().values())\n",
    "plt.bar( dpugf[dpugf['year']>0]['year'].replace('None',0).astype(int).value_counts().sort_index().to_dict().keys(),\n",
    "        dpugf[dpugf['year']>0]['year'].replace('None',0).astype(int).value_counts().sort_index().to_dict().values())\n",
    "plt.xlim(1960,2022)"
   ]
  },
  {
   "cell_type": "code",
   "execution_count": 129,
   "id": "40b9c767-07b1-404b-a366-670e6ce82cd1",
   "metadata": {},
   "outputs": [
    {
     "data": {
      "text/plain": [
       "0.12945445355092608"
      ]
     },
     "execution_count": 129,
     "metadata": {},
     "output_type": "execute_result"
    }
   ],
   "source": [
    "dpugf.shape[0] / dpu.shape[0]"
   ]
  },
  {
   "cell_type": "code",
   "execution_count": 10,
   "id": "0d8aa8c4-b000-4a16-b9d0-22326b950fae",
   "metadata": {},
   "outputs": [],
   "source": [
    "ff = dpug[(dpug['year'].astype(int)>1970) & (dpug['genders'].apply(lambda L: 'female' in L)) ]['year'\n",
    "          ].value_counts().sort_index().to_dict()#.plot(kind='bar')"
   ]
  },
  {
   "cell_type": "code",
   "execution_count": 11,
   "id": "c9aaf445-0e0f-4a26-8568-b6bb41045484",
   "metadata": {},
   "outputs": [],
   "source": [
    "#  dpug[dpug.year.astype(int) == y].shape"
   ]
  },
  {
   "cell_type": "code",
   "execution_count": 12,
   "id": "8ed318a0-fc49-424c-b5eb-fc657c0b5baa",
   "metadata": {},
   "outputs": [
    {
     "data": {
      "text/plain": [
       "np.int64(2021)"
      ]
     },
     "execution_count": 12,
     "metadata": {},
     "output_type": "execute_result"
    }
   ],
   "source": [
    "dpug['year'].apply(int).iloc[0]"
   ]
  },
  {
   "cell_type": "code",
   "execution_count": 13,
   "id": "622cabe2-6c08-46ef-9e0a-e03e8cbbad4a",
   "metadata": {},
   "outputs": [],
   "source": [
    "dpug['year'] = dpug['year'].apply(int)"
   ]
  },
  {
   "cell_type": "code",
   "execution_count": 14,
   "id": "c841a3af-ef81-4dbf-8f5a-bae27b781c9c",
   "metadata": {},
   "outputs": [],
   "source": [
    "FF = {}\n",
    "for y in sorted(dpug['year'].unique()): \n",
    "    Y = dpug[dpug['year'] == y] \n",
    "    FF[y] = Y[Y['genders'].apply(lambda L: 'female' in L)].shape[0] / dpug[dpug['year'] == y].shape[0]"
   ]
  },
  {
   "cell_type": "code",
   "execution_count": 15,
   "id": "8da05923-1d75-42a3-b093-48f160ae955b",
   "metadata": {},
   "outputs": [],
   "source": [
    "%matplotlib inline\n",
    "import matplotlib.pyplot as plt"
   ]
  },
  {
   "cell_type": "code",
   "execution_count": 16,
   "id": "fda49859-56ee-4077-a576-706b53e97f68",
   "metadata": {},
   "outputs": [
    {
     "data": {
      "image/png": "[encoded data removed]",
      "text/plain": [
       "<Figure size 640x480 with 1 Axes>"
      ]
     },
     "metadata": {},
     "output_type": "display_data"
    }
   ],
   "source": [
    "plt.plot(FF.keys(),FF.values(),'ro')\n",
    "plt.plot(FF.keys(),FF.values())\n",
    "plt.xlim(1970, 2023)\n",
    "plt.grid()"
   ]
  },
  {
   "cell_type": "code",
   "execution_count": 52,
   "id": "41bc7cd2-5193-4713-8a92-dcbc869104f8",
   "metadata": {},
   "outputs": [
    {
     "data": {
      "image/png": "[encoded data removed]",
      "text/plain": [
       "<Figure size 640x480 with 1 Axes>"
      ]
     },
     "metadata": {},
     "output_type": "display_data"
    }
   ],
   "source": [
    "plt.plot(FF.keys(),FF.values(),'ro')\n",
    "plt.plot(FF.keys(),FF.values())\n",
    "plt.xlim(1970, 2023)\n",
    "plt.grid()"
   ]
  },
  {
   "cell_type": "code",
   "execution_count": 89,
   "id": "60fa5313-72a2-4d17-b8c2-e36a067fe3c6",
   "metadata": {},
   "outputs": [
    {
     "data": {
      "text/plain": [
       "[<matplotlib.lines.Line2D at 0x7212feccc830>]"
      ]
     },
     "execution_count": 89,
     "metadata": {},
     "output_type": "execute_result"
    },
    {
     "data": {
      "image/png": "[encoded data removed]",
      "text/plain": [
       "<Figure size 640x480 with 1 Axes>"
      ]
     },
     "metadata": {},
     "output_type": "display_data"
    }
   ],
   "source": [
    "plt.plot([ int(y) for y in ff.keys()], ff.values())"
   ]
  },
  {
   "cell_type": "code",
   "execution_count": null,
   "id": "bbaebdaf-f9cd-4e29-b00d-a6c323de804f",
   "metadata": {},
   "outputs": [],
   "source": [
    "DF['first_names'] = DF.apply(lambda row: str(row['full_name']).split(', ')[-1]  \n",
    "                             if row['first_names']=='None' \n",
    "                             else row['first_names'] ,axis = 'columns')"
   ]
  },
  {
   "cell_type": "code",
   "execution_count": null,
   "id": "f9c6a38e-e868-42be-9c90-febe8e827531",
   "metadata": {},
   "outputs": [],
   "source": [
    "DF['gender'].unique()"
   ]
  },
  {
   "cell_type": "code",
   "execution_count": null,
   "id": "b12ae0c7-4fbb-4163-85c8-69644f5ddd5e",
   "metadata": {},
   "outputs": [],
   "source": [
    "print(DF['gender'].shape[0])\n",
    "total = DF['gender'].dropna().shape[0]\n",
    "total"
   ]
  },
  {
   "cell_type": "code",
   "execution_count": null,
   "id": "02326a4a-0b90-4f51-bb4b-04b0582e7955",
   "metadata": {},
   "outputs": [],
   "source": [
    "male = DF[DF['gender'] == 'male'].shape[0]\n",
    "female = DF[DF['gender'] == 'female'].shape[0]\n",
    "unknown = DF[DF['gender'] == 'unknown'].shape[0]\n",
    "unknown = unknown + DF[DF['gender'] == 'andy'].shape[0]"
   ]
  },
  {
   "cell_type": "code",
   "execution_count": null,
   "id": "deaf10ed-0ecc-401a-baab-b120fa2b16ca",
   "metadata": {},
   "outputs": [],
   "source": [
    "assert male + female + unknown == total"
   ]
  },
  {
   "cell_type": "code",
   "execution_count": null,
   "id": "372ab852-ec5d-4213-9eab-59f9decf5b53",
   "metadata": {},
   "outputs": [],
   "source": [
    "male+female"
   ]
  },
  {
   "cell_type": "code",
   "execution_count": null,
   "id": "5e185cbb-060c-4282-9b45-cc250271a51f",
   "metadata": {},
   "outputs": [],
   "source": [
    "male"
   ]
  },
  {
   "cell_type": "code",
   "execution_count": null,
   "id": "85fa9f5b-85dc-4a71-8c50-91db22fda139",
   "metadata": {},
   "outputs": [],
   "source": [
    "female"
   ]
  },
  {
   "cell_type": "code",
   "execution_count": null,
   "id": "19eb39f3-163c-4fa4-896b-a95226b27c0e",
   "metadata": {},
   "outputs": [],
   "source": [
    "round(female/male,2)"
   ]
  },
  {
   "cell_type": "code",
   "execution_count": null,
   "id": "ec47d3e2-2e50-445d-b1b4-303cea966311",
   "metadata": {},
   "outputs": [],
   "source": [
    "unknown"
   ]
  },
  {
   "cell_type": "code",
   "execution_count": null,
   "id": "b132d164-3484-4213-9121-b19f7bd6d6e4",
   "metadata": {},
   "outputs": [],
   "source": [
    "DFFM = DF[ (( DF['gender'] == 'female') | ( DF['gender'] == 'male')) ]\n",
    "DFFM.shape"
   ]
  },
  {
   "cell_type": "code",
   "execution_count": null,
   "id": "04624db7-e0cb-47b0-bbe2-1cdb62244939",
   "metadata": {},
   "outputs": [],
   "source": [
    "DFU = DF[ ~(( DF['gender'] == 'female') | ( DF['gender'] == 'male')) ]\n",
    "DFU.shape"
   ]
  },
  {
   "cell_type": "code",
   "execution_count": null,
   "id": "bff53f45-632f-4d41-b2e9-e26d1c24740a",
   "metadata": {},
   "outputs": [],
   "source": [
    "DFFM[['author_id','first_names','country','gender']].sample(50)"
   ]
  },
  {
   "cell_type": "code",
   "execution_count": null,
   "id": "40caa1c4-5e7c-4b87-a1c8-aac53588df37",
   "metadata": {},
   "outputs": [],
   "source": [
    "#[['first_names','country','gender']]\n",
    "DFU.sample(50)[['author_id','full_name','name','country','gender']]"
   ]
  },
  {
   "cell_type": "markdown",
   "id": "f6987eed-023e-4cf5-b7eb-0075259ab853",
   "metadata": {},
   "source": [
    "check specific entries"
   ]
  },
  {
   "cell_type": "code",
   "execution_count": null,
   "id": "74ef8f43-72ec-4e15-8b79-6e0591ecc360",
   "metadata": {},
   "outputs": [],
   "source": [
    "JSON([d for d in df if d.get('author_id')=='F.Fontanot.3'][0])"
   ]
  },
  {
   "cell_type": "code",
   "execution_count": null,
   "id": "fb361aa0-f13c-40c0-a05e-ff1fc9743680",
   "metadata": {},
   "outputs": [],
   "source": [
    "import requests\n",
    "au = requests.get('https://inspirehep.net/api/authors?sort=bestmatch&size=250&page=1')\n",
    "if au.status_code == 200:\n",
    "    au = au.json()"
   ]
  },
  {
   "cell_type": "code",
   "execution_count": null,
   "id": "c90c78f9-3ba4-4e54-b353-e900510c8d00",
   "metadata": {},
   "outputs": [],
   "source": [
    "len(au['hits']['hits'])"
   ]
  },
  {
   "cell_type": "code",
   "execution_count": null,
   "id": "9e4e0529-e3d9-4ac2-8992-6fd992e8d74f",
   "metadata": {},
   "outputs": [],
   "source": [
    "au['links']['next']"
   ]
  },
  {
   "cell_type": "code",
   "execution_count": null,
   "id": "79d61e74-8a77-420d-9932-ff6a1f5c8cca",
   "metadata": {},
   "outputs": [],
   "source": [
    "# https://github.com/inspirehep/rest-api-doc/issues/20#issuecomment-997932079\n",
    "url='https://inspirehep.net/api/authors?sort=bestmatch&size=250&page=1&q=control_number:[1+TO+2852058]'\n",
    "au = requests.get(url)\n",
    "if au.status_code == 200:\n",
    "    au = au.json()"
   ]
  },
  {
   "cell_type": "code",
   "execution_count": null,
   "id": "0d2181d8-3668-4ee5-be14-9bb28c6f8481",
   "metadata": {},
   "outputs": [],
   "source": [
    "len(au['hits']['hits'])"
   ]
  },
  {
   "cell_type": "code",
   "execution_count": null,
   "id": "c422bc81-6ce8-4824-a601-587e358d845c",
   "metadata": {},
   "outputs": [],
   "source": [
    "au.status_code"
   ]
  },
  {
   "cell_type": "code",
   "execution_count": null,
   "id": "d9f93691-bc2a-4bf7-8981-85660f11940e",
   "metadata": {},
   "outputs": [],
   "source": [
    "au = requests.get(url)"
   ]
  },
  {
   "cell_type": "code",
   "execution_count": null,
   "id": "9e1042fd-2832-40ae-89c7-6be080a2fb5d",
   "metadata": {},
   "outputs": [],
   "source": [
    "step = 10000\n",
    "ini = 981872\n",
    "end = ini + step\n",
    "for i in range(187):\n",
    "    print(f'control_number:[{ini} TO {end}]')\n",
    "    ini = end + 1\n",
    "    end = ini + step"
   ]
  },
  {
   "cell_type": "code",
   "execution_count": null,
   "id": "1f4c16b0-0c0a-46da-9422-c3c865c45cd8",
   "metadata": {},
   "outputs": [],
   "source": []
  },
  {
   "cell_type": "code",
   "execution_count": null,
   "id": "01d13bed-874a-4e21-98fc-41c8314fce1e",
   "metadata": {},
   "outputs": [],
   "source": [
    "au.status_code"
   ]
  },
  {
   "cell_type": "code",
   "execution_count": null,
   "id": "bd87849b-d1b4-4e4d-88e7-c8a4f2088445",
   "metadata": {},
   "outputs": [],
   "source": [
    "len(au.json()['hits']['hits'])"
   ]
  },
  {
   "cell_type": "markdown",
   "id": "1990fe81-6816-47dd-8812-b27306284d71",
   "metadata": {},
   "source": [
    "o"
   ]
  }
 ],
 "metadata": {
  "kernelspec": {
   "display_name": "Python 3 (ipykernel)",
   "language": "python",
   "name": "python3"
  },
  "language_info": {
   "codemirror_mode": {
    "name": "ipython",
    "version": 3
   },
   "file_extension": ".py",
   "mimetype": "text/x-python",
   "name": "python",
   "nbconvert_exporter": "python",
   "pygments_lexer": "ipython3",
   "version": "3.12.3"
  }
 },
 "nbformat": 4,
 "nbformat_minor": 5
}
