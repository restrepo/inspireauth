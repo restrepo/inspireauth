{
 "cells": [
  {
   "cell_type": "code",
   "execution_count": 5,
   "metadata": {},
   "outputs": [
    {
     "name": "stdout",
     "output_type": "stream",
     "text": [
      "HDI for Argentina: [0.724 0.731 0.736 0.74  0.746 0.747 0.752 0.758 0.764 0.774 0.78  0.785\n",
      " 0.785 0.793 0.798 0.802 0.814 0.817 0.825 0.827 0.834 0.842 0.844 0.846\n",
      " 0.847 0.85  0.848 0.853 0.852 0.853 0.841 0.844]\n",
      "Average HDI for Argentina: 0.801625\n"
     ]
    },
    {
     "name": "stderr",
     "output_type": "stream",
     "text": [
      "/var/folders/1g/4z5z3hss3vb9sxbfj20j8wjw0000gn/T/ipykernel_56625/3045007892.py:31: SettingWithCopyWarning: \n",
      "A value is trying to be set on a copy of a slice from a DataFrame.\n",
      "Try using .loc[row_indexer,col_indexer] = value instead\n",
      "\n",
      "See the caveats in the documentation: https://pandas.pydata.org/pandas-docs/stable/user_guide/indexing.html#returning-a-view-versus-a-copy\n",
      "  hdi_df[\"year\"] = hdi_df[\"key\"].str.extract(r\"(\\d{4})\").astype(int)\n",
      "/var/folders/1g/4z5z3hss3vb9sxbfj20j8wjw0000gn/T/ipykernel_56625/3045007892.py:34: SettingWithCopyWarning: \n",
      "A value is trying to be set on a copy of a slice from a DataFrame.\n",
      "Try using .loc[row_indexer,col_indexer] = value instead\n",
      "\n",
      "See the caveats in the documentation: https://pandas.pydata.org/pandas-docs/stable/user_guide/indexing.html#returning-a-view-versus-a-copy\n",
      "  hdi_df[\"value\"] = pd.to_numeric(hdi_df[\"value\"])\n"
     ]
    }
   ],
   "source": [
    "import pandas as pd\n",
    "import numpy as np\n",
    "import os\n",
    "\n",
    "# Directory where CSV files are stored\n",
    "data_dir = \"/Users/manuelmorales/inspireauth/hdi_data/\"  # Change this to your actual path\n",
    "\n",
    "# List of countries\n",
    "countries = [\n",
    "    \"Argentina\", \"Bolivia\", \"Brazil\", \"Chile\", \"Colombia\", \"Costa_Rica\", \"Cuba\",\n",
    "    \"Dominican_Republic\", \"Ecuador\", \"El_Salvador\", \"Guatemala\", \"Honduras\",\n",
    "    \"Mexico\", \"Panama\", \"Paraguay\", \"Peru\", \"Uruguay\", \"Venezuela\"\n",
    "]\n",
    "\n",
    "# Dictionary to store HDI values for each country\n",
    "hdi_data = {}\n",
    "hdi_averages = {}  # Dictionary to store average HDI values\n",
    "\n",
    "# Loop through all country CSV files\n",
    "for country in countries:\n",
    "    file_path = os.path.join(data_dir, f\"{country}.csv\")\n",
    "    \n",
    "    if os.path.exists(file_path):  # Ensure the file exists\n",
    "        # Load the CSV file\n",
    "        df = pd.read_csv(file_path)\n",
    "\n",
    "        # Filter for \"Human Development Index (value)\"\n",
    "        hdi_df = df[df[\"key\"].str.startswith(\"Human Development Index (value)\")]\n",
    "\n",
    "        # Extract year from 'key' column\n",
    "        hdi_df[\"year\"] = hdi_df[\"key\"].str.extract(r\"(\\d{4})\").astype(int)\n",
    "\n",
    "        # Convert 'value' column to numeric\n",
    "        hdi_df[\"value\"] = pd.to_numeric(hdi_df[\"value\"])\n",
    "\n",
    "        # Filter years 1990-2021\n",
    "        hdi_df = hdi_df[(hdi_df[\"year\"] >= 1990) & (hdi_df[\"year\"] <= 2021)]\n",
    "\n",
    "        # Store HDI values in dictionary as a NumPy array\n",
    "        hdi_values = hdi_df[\"value\"].to_numpy()\n",
    "\n",
    "        # Test: Ensure the array has exactly 31 values (1990-2021)\n",
    "        if len(hdi_values) == 32:\n",
    "            hdi_data[country] = hdi_values\n",
    "            hdi_averages[country] = np.mean(hdi_values)  # Compute the average\n",
    "        else:\n",
    "            print(f\"Warning: {country} has {len(hdi_values)} HDI values instead of 31.\")\n",
    "\n",
    "# Print an example (e.g., Argentina)\n",
    "print(\"HDI for Argentina:\", hdi_data[\"Argentina\"])\n",
    "print(\"Average HDI for Argentina:\", hdi_averages[\"Argentina\"])\n",
    "\n",
    "# Save results\n",
    "np.savez(\"hdi_data.npz\", **hdi_data)  # Saves each country as a separate array in a compressed file\n",
    "\n",
    "# Save averages to a CSV file\n",
    "avg_df = pd.DataFrame(list(hdi_averages.items()), columns=[\"Country\", \"Average_HDI\"])\n",
    "avg_df.to_csv(\"hdi_averages.csv\", index=False)\n",
    "\n",
    "# To load later:\n",
    "# loaded_data = np.load(\"hdi_data.npz\")\n",
    "# hdi_argentina = loaded_data[\"Argentina\"]\n",
    "\n",
    "# To check the saved averages\n",
    "# avg_hdi_df = pd.read_csv(\"hdi_averages.csv\")\n"
   ]
  },
  {
   "cell_type": "code",
   "execution_count": 6,
   "metadata": {},
   "outputs": [
    {
     "data": {
      "text/plain": [
       "array([0.724, 0.731, 0.736, 0.74 , 0.746, 0.747, 0.752, 0.758, 0.764,\n",
       "       0.774, 0.78 , 0.785, 0.785, 0.793, 0.798, 0.802, 0.814, 0.817,\n",
       "       0.825, 0.827, 0.834, 0.842, 0.844, 0.846, 0.847, 0.85 , 0.848,\n",
       "       0.853, 0.852, 0.853, 0.841, 0.844])"
      ]
     },
     "execution_count": 6,
     "metadata": {},
     "output_type": "execute_result"
    }
   ],
   "source": [
    "hdi_data[\"Argentina\"]"
   ]
  },
  {
   "cell_type": "code",
   "execution_count": 7,
   "metadata": {},
   "outputs": [
    {
     "name": "stdout",
     "output_type": "stream",
     "text": [
      "Average HDI for Argentina: 0.801625\n",
      "Average HDI for Bolivia: 0.6403125\n",
      "Average HDI for Brazil: 0.69778125\n",
      "Average HDI for Chile: 0.79\n",
      "Average HDI for Colombia: 0.70140625\n",
      "Average HDI for Costa_Rica: 0.7419374999999999\n",
      "Average HDI for Cuba: 0.728125\n",
      "Average HDI for Dominican_Republic: 0.67878125\n",
      "Average HDI for Ecuador: 0.7112499999999999\n",
      "Average HDI for El_Salvador: 0.6228750000000001\n",
      "Average HDI for Guatemala: 0.5763125\n",
      "Average HDI for Honduras: 0.5724374999999999\n",
      "Average HDI for Mexico: 0.727875\n",
      "Average HDI for Panama: 0.75053125\n",
      "Average HDI for Paraguay: 0.6809375\n",
      "Average HDI for Peru: 0.6990937500000001\n",
      "Average HDI for Uruguay: 0.768125\n",
      "Average HDI for Venezuela: 0.7186874999999999\n"
     ]
    }
   ],
   "source": [
    "for country, avg_hdi in hdi_averages.items():\n",
    "    print(f\"Average HDI for {country}: {avg_hdi}\")"
   ]
  },
  {
   "cell_type": "code",
   "execution_count": null,
   "metadata": {},
   "outputs": [],
   "source": []
  }
 ],
 "metadata": {
  "kernelspec": {
   "display_name": "training",
   "language": "python",
   "name": "python3"
  },
  "language_info": {
   "codemirror_mode": {
    "name": "ipython",
    "version": 3
   },
   "file_extension": ".py",
   "mimetype": "text/x-python",
   "name": "python",
   "nbconvert_exporter": "python",
   "pygments_lexer": "ipython3",
   "version": "3.9.6"
  }
 },
 "nbformat": 4,
 "nbformat_minor": 2
}
